{
 "cells": [
  {
   "cell_type": "code",
   "execution_count": null,
   "metadata": {},
   "outputs": [],
   "source": [
    "def search_binary(num, left, right):\n",
    "    while (right > left):\n",
    "        mid = (left + right) / 2\n",
    "        if num == arr[mid]:\n",
    "            return mid\n",
    "        elif num > arr[mid]:\n",
    "            left = mid + 1\n",
    "        else:\n",
    "            right = mid - 1\n",
    "    return -1"
   ]
  },
  {
   "cell_type": "markdown",
   "metadata": {},
   "source": [
    "## 1920번: 수 찾기"
   ]
  },
  {
   "cell_type": "code",
   "execution_count": 11,
   "metadata": {},
   "outputs": [
    {
     "name": "stdout",
     "output_type": "stream",
     "text": [
      "5\n",
      "4 1 5 2 3\n",
      "5\n",
      "1 3 7 9 5\n",
      "1\n",
      "1\n",
      "0\n",
      "0\n",
      "1\n"
     ]
    }
   ],
   "source": [
    "N = int(input())\n",
    "arr = list(map(int, input().split()))\n",
    "M = int(input())\n",
    "arr_search = list(map(int, input().split()))\n",
    "\n",
    "#arr 정렬\n",
    "arr.sort()\n",
    "\n",
    "#이분탐색\n",
    "for i in arr_search:\n",
    "    left = 0\n",
    "    right = len(arr) - 1\n",
    "    while True:\n",
    "        #i가 범위 밖인 경우\n",
    "        if i > arr[right] or i < arr[left]:\n",
    "            print(0)\n",
    "            break\n",
    "\n",
    "        mid = (left + right) // 2\n",
    "        #i를 찾았을 경우\n",
    "        if arr[mid] == i or arr[left] == i or arr[right] == i:\n",
    "            print(1)\n",
    "            break\n",
    "        #i가 없는 경우\n",
    "        if mid == left:\n",
    "            print(0)\n",
    "            break\n",
    "\n",
    "        if arr[mid] < i:\n",
    "            left = mid\n",
    "        else:\n",
    "            right = mid"
   ]
  },
  {
   "cell_type": "markdown",
   "metadata": {},
   "source": [
    "## 10816번: 숫자 카드 2"
   ]
  },
  {
   "cell_type": "code",
   "execution_count": 36,
   "metadata": {},
   "outputs": [
    {
     "name": "stdout",
     "output_type": "stream",
     "text": [
      "10\n",
      "6 3 2 10 10 10 -10 -10 7 3\n",
      "8\n",
      "10 9 -5 2 3 4 5 -10\n",
      "3 0 0 1 2 0 0 2 "
     ]
    }
   ],
   "source": [
    "import bisect\n",
    "\n",
    "N = int(input())\n",
    "arr = list(map(int, input().split()))\n",
    "M = int(input())\n",
    "arr_search = list(map(int, input().split()))\n",
    "arr.sort()\n",
    "\n",
    "for a in arr_search:\n",
    "    print(bisect.bisect_right(arr, a)-bisect.bisect_left(arr, a), end=' ')"
   ]
  },
  {
   "cell_type": "code",
   "execution_count": 6,
   "metadata": {},
   "outputs": [
    {
     "name": "stdout",
     "output_type": "stream",
     "text": [
      "10\n",
      "6 3 2 10 10 10 -10 -10 7 3\n",
      "8\n",
      "10 9 -5 2 3 4 5 -10\n",
      "3 0 0 1 2 0 0 2 "
     ]
    }
   ],
   "source": [
    "N = int(input())\n",
    "arr = list(map(int, input().split()))\n",
    "M = int(input())\n",
    "arr_search = list(map(int, input().split()))\n",
    "arr.sort()\n",
    "\n",
    "def search_front_num(num, left, right):\n",
    "    while (right > left):\n",
    "        mid = (left+right)//2\n",
    "        if arr[mid] >= num:\n",
    "            right = mid\n",
    "        else:\n",
    "            left = mid + 1\n",
    "    return right\n",
    "\n",
    "def search_back_num(num, left, right):\n",
    "    if arr[N-1] == num:\n",
    "        return N\n",
    "    while (right > left):\n",
    "        mid = (left+right)//2\n",
    "        if arr[mid] > num:\n",
    "            right = mid\n",
    "        else:\n",
    "            left = mid + 1\n",
    "    return right\n",
    "\n",
    "for a in arr_search:\n",
    "    back = search_back_num(a, 0, N-1)\n",
    "    front = search_front_num(a, 0, N-1)\n",
    "    if front == 0 and arr[back-1] != a:\n",
    "        print(0, end=' ')\n",
    "    else:\n",
    "        print(back-front, end=' ')"
   ]
  },
  {
   "cell_type": "markdown",
   "metadata": {},
   "source": [
    "## 1654번: 랜선 자르기"
   ]
  },
  {
   "cell_type": "code",
   "execution_count": 20,
   "metadata": {},
   "outputs": [
    {
     "name": "stdout",
     "output_type": "stream",
     "text": [
      "4 11\n",
      "802\n",
      "743\n",
      "457\n",
      "539\n",
      "200\n"
     ]
    }
   ],
   "source": [
    "K, N = map(int, input().split())\n",
    "arr = []\n",
    "for k in range(K):\n",
    "    arr.append(int(input()))\n",
    "\n",
    "def count_line(size):\n",
    "    count = 0\n",
    "    for a in arr:\n",
    "        count += a//size\n",
    "    return count\n",
    "\n",
    "def search_binary(left, right):\n",
    "    global K\n",
    "    size = 0\n",
    "    \n",
    "    while (right > left):\n",
    "        mid = (right+left)//2\n",
    "        if count_line(mid) >= N: # 크거나 같을때 \n",
    "            if size < mid:\n",
    "                size = mid\n",
    "            left = mid + 1\n",
    "        else: # 작을 때\n",
    "            right = mid\n",
    "        \n",
    "    return size\n",
    "\n",
    "print(search_binary(1, max(arr)+1))"
   ]
  },
  {
   "cell_type": "markdown",
   "metadata": {},
   "source": [
    "## 2805번: 나무 자르기"
   ]
  },
  {
   "cell_type": "code",
   "execution_count": 1,
   "metadata": {},
   "outputs": [
    {
     "name": "stdout",
     "output_type": "stream",
     "text": [
      "4 7\n",
      "20 15 10 17\n",
      "15\n"
     ]
    }
   ],
   "source": [
    "#PyPy3로 통과\n",
    "N, M = map(int, input().split())\n",
    "arr = list(map(int, input().split()))\n",
    "\n",
    "high = max(arr)\n",
    "low = 1\n",
    "max_height = 0\n",
    "while (high >= low):\n",
    "    mid = (high + low)//2\n",
    "    #print(low, high, mid)\n",
    "    size = 0\n",
    "    for a in arr:\n",
    "        if mid <= a:\n",
    "            size += a - mid\n",
    "    \n",
    "    if size >= M:\n",
    "        low = mid + 1\n",
    "        if max_height < mid:\n",
    "            max_height = mid\n",
    "    else:\n",
    "        high = mid - 1\n",
    "        \n",
    "print(max_height)"
   ]
  },
  {
   "cell_type": "markdown",
   "metadata": {},
   "source": [
    "## 2110번: 공유기 설치"
   ]
  },
  {
   "cell_type": "code",
   "execution_count": 20,
   "metadata": {},
   "outputs": [
    {
     "name": "stdout",
     "output_type": "stream",
     "text": [
      "5 3\n",
      "1\n",
      "2\n",
      "8\n",
      "4\n",
      "9\n",
      "3\n"
     ]
    }
   ],
   "source": [
    "N, C = map(int, input().split())\n",
    "arr = []\n",
    "for n in range(N):\n",
    "    arr.append(int(input()))\n",
    "arr.sort()\n",
    "\n",
    "result = 0\n",
    "left = 1\n",
    "right = arr[-1] - arr[0]\n",
    "while right>=left:\n",
    "    mid = (left + right) // 2\n",
    "    count = 1\n",
    "    temp = arr[0]\n",
    "    \n",
    "    for a in arr[1:]: #공유기 개수 세기\n",
    "        if a-temp >= mid:\n",
    "            count += 1\n",
    "            temp = a\n",
    "    \n",
    "    if count >= C: #개수가 같거나 크면 거리 증가시키기\n",
    "        result = mid\n",
    "        left = mid + 1\n",
    "    else: #개수가 적으면 거리 감소시키기\n",
    "        right = mid -1\n",
    "            \n",
    "print(result)"
   ]
  },
  {
   "cell_type": "markdown",
   "metadata": {},
   "source": [
    "## 1300번: K번째 수"
   ]
  },
  {
   "cell_type": "code",
   "execution_count": 54,
   "metadata": {},
   "outputs": [
    {
     "name": "stdout",
     "output_type": "stream",
     "text": [
      "3\n",
      "7\n",
      "6\n"
     ]
    }
   ],
   "source": [
    "N = int(input())\n",
    "k = int(input())\n",
    "\n",
    "right = N*N\n",
    "left = 1\n",
    "mid = 0\n",
    "result = right\n",
    "while left<right:\n",
    "    mid = (right+left)//2\n",
    "    \n",
    "    count = 0\n",
    "    for n in range(1, N+1):\n",
    "        if mid//n > N:\n",
    "            count += N\n",
    "        else:\n",
    "            count += mid//n\n",
    "    \n",
    "    if count >= k:\n",
    "        right = mid\n",
    "        result = mid\n",
    "    else:\n",
    "        left = mid + 1\n",
    "        \n",
    "print(result)"
   ]
  },
  {
   "cell_type": "markdown",
   "metadata": {},
   "source": [
    "## 12015번: 가장 긴 증가하는 부분 수열 2"
   ]
  },
  {
   "cell_type": "code",
   "execution_count": 134,
   "metadata": {},
   "outputs": [
    {
     "name": "stdout",
     "output_type": "stream",
     "text": [
      "6\n",
      "10 20 10 30 20 50\n",
      "4\n"
     ]
    }
   ],
   "source": [
    "N = int(input())\n",
    "A = list(map(int, input().split()))\n",
    "\n",
    "dp = [] #A에서 자신까지의 증가하는 수열 저장\n",
    "LIS = [] #수열 저장\n",
    "LIS.append([0, 0])\n",
    "\n",
    "def search_LIS(num): #num보다 처음으로 큰 index값 찾기\n",
    "    index = 0\n",
    "    left = 0\n",
    "    right = len(LIS)-1\n",
    "    while (right >= left):\n",
    "        mid = (left + right) // 2\n",
    "        if num >= LIS[mid][0]:\n",
    "            left = mid + 1\n",
    "        else:\n",
    "            right = mid -1\n",
    "            index = mid\n",
    "    return index\n",
    "\n",
    "for a in A:\n",
    "    if LIS[-1][0] < a: #LIS의 최대값 보다 클 경우 추가\n",
    "        LIS.append([a, LIS[-1][1]+1])\n",
    "        dp.append(LIS[-1][1])\n",
    "    else: #LIS의 최대값보다 작을 경우 LIS에 해당하는 위치에 업데이트\n",
    "        index = search_LIS(a)\n",
    "        if LIS[index-1][0] != a:\n",
    "            LIS[index][0] = a\n",
    "            dp.append(LIS[index][1])\n",
    "        else:\n",
    "            dp.append(LIS[index-1][1])\n",
    "        \n",
    "print(LIS[-1][1])"
   ]
  }
 ],
 "metadata": {
  "kernelspec": {
   "display_name": "Python 3",
   "language": "python",
   "name": "python3"
  },
  "language_info": {
   "codemirror_mode": {
    "name": "ipython",
    "version": 3
   },
   "file_extension": ".py",
   "mimetype": "text/x-python",
   "name": "python",
   "nbconvert_exporter": "python",
   "pygments_lexer": "ipython3",
   "version": "3.8.3"
  },
  "toc": {
   "base_numbering": 1,
   "nav_menu": {},
   "number_sections": true,
   "sideBar": true,
   "skip_h1_title": false,
   "title_cell": "Table of Contents",
   "title_sidebar": "Contents",
   "toc_cell": false,
   "toc_position": {},
   "toc_section_display": true,
   "toc_window_display": true
  },
  "varInspector": {
   "cols": {
    "lenName": 16,
    "lenType": 16,
    "lenVar": 40
   },
   "kernels_config": {
    "python": {
     "delete_cmd_postfix": "",
     "delete_cmd_prefix": "del ",
     "library": "var_list.py",
     "varRefreshCmd": "print(var_dic_list())"
    },
    "r": {
     "delete_cmd_postfix": ") ",
     "delete_cmd_prefix": "rm(",
     "library": "var_list.r",
     "varRefreshCmd": "cat(var_dic_list()) "
    }
   },
   "types_to_exclude": [
    "module",
    "function",
    "builtin_function_or_method",
    "instance",
    "_Feature"
   ],
   "window_display": false
  }
 },
 "nbformat": 4,
 "nbformat_minor": 4
}
