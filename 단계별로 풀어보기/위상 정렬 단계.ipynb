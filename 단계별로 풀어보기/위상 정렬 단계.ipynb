{
 "cells": [
  {
   "cell_type": "markdown",
   "metadata": {},
   "source": [
    "## 3665번: 최종 순위"
   ]
  },
  {
   "cell_type": "code",
   "execution_count": 62,
   "metadata": {},
   "outputs": [
    {
     "name": "stdout",
     "output_type": "stream",
     "text": [
      "3\n",
      "5\n",
      "5 4 3 2 1\n",
      "2\n",
      "2 4\n",
      "3 4\n",
      "5 3 2 4 1 \n",
      "3\n",
      "2 3 1\n",
      "0\n",
      "2 3 1 \n",
      "4\n",
      "1 2 3 4\n",
      "3\n",
      "1 2\n",
      "3 4\n",
      "2 3\n",
      "IMPOSSIBLE\n",
      "\n"
     ]
    }
   ],
   "source": [
    "import sys\n",
    "#input = sys.stdin.readline\n",
    "T = int(input())\n",
    "for _ in range(T):\n",
    "    n = int(input())\n",
    "    rank = list(map(int, input().split()))\n",
    "    graph = [[0] * (n+1) for i in range(n+1)]\n",
    "    for i in range(n):\n",
    "        for j in range(i+1, n):\n",
    "            graph[rank[j]][rank[i]] = 1\n",
    "\n",
    "    m = int(input())\n",
    "    for i in range(m):\n",
    "        a, b = map(int, input().split())\n",
    "        temp = graph[a][b]\n",
    "        graph[a][b] = graph[b][a]\n",
    "        graph[b][a] = temp\n",
    "        \n",
    "    result = [0] * n\n",
    "    check = 0\n",
    "    for i in range(1, n+1):\n",
    "        indegree = sum(graph[i])\n",
    "        if result[indegree] != 0:\n",
    "            check = 1\n",
    "            break\n",
    "        result[indegree] = i\n",
    "\n",
    "    if check == 1:\n",
    "        print('IMPOSSIBLE', end=' ')\n",
    "    else:\n",
    "        for i in result:\n",
    "            print(i, end=' ')\n",
    "    print()"
   ]
  }
 ],
 "metadata": {
  "kernelspec": {
   "display_name": "Python 3",
   "language": "python",
   "name": "python3"
  },
  "toc": {
   "base_numbering": 1,
   "nav_menu": {},
   "number_sections": true,
   "sideBar": true,
   "skip_h1_title": false,
   "title_cell": "Table of Contents",
   "title_sidebar": "Contents",
   "toc_cell": false,
   "toc_position": {},
   "toc_section_display": true,
   "toc_window_display": false
  },
  "varInspector": {
   "cols": {
    "lenName": 16,
    "lenType": 16,
    "lenVar": 40
   },
   "kernels_config": {
    "python": {
     "delete_cmd_postfix": "",
     "delete_cmd_prefix": "del ",
     "library": "var_list.py",
     "varRefreshCmd": "print(var_dic_list())"
    },
    "r": {
     "delete_cmd_postfix": ") ",
     "delete_cmd_prefix": "rm(",
     "library": "var_list.r",
     "varRefreshCmd": "cat(var_dic_list()) "
    }
   },
   "types_to_exclude": [
    "module",
    "function",
    "builtin_function_or_method",
    "instance",
    "_Feature"
   ],
   "window_display": false
  }
 },
 "nbformat": 4,
 "nbformat_minor": 4
}
