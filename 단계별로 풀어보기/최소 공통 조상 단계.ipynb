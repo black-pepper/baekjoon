{
 "cells": [
  {
   "cell_type": "markdown",
   "metadata": {},
   "source": [
    "## 3584번: 가장 가까운 공통 조상"
   ]
  },
  {
   "cell_type": "code",
   "execution_count": 13,
   "metadata": {},
   "outputs": [
    {
     "name": "stdout",
     "output_type": "stream",
     "text": [
      "2\n",
      "16\n",
      "1 14\n",
      "8 5\n",
      "10 16\n",
      "5 9\n",
      "4 6\n",
      "8 4\n",
      "4 10\n",
      "1 13\n",
      "6 15\n",
      "10 11\n",
      "6 7\n",
      "10 2\n",
      "16 3\n",
      "8 1\n",
      "16 12\n",
      "16 7\n",
      "4\n",
      "5\n",
      "2 3\n",
      "3 4\n",
      "3 1\n",
      "1 5\n",
      "3 5\n",
      "3\n"
     ]
    }
   ],
   "source": [
    "import sys\n",
    "from collections import deque\n",
    "#input = sys.stdin.readline\n",
    "\n",
    "def LCA(a, b):\n",
    "    if depth[a] > depth[b]:\n",
    "        a, b = b, a\n",
    "    while depth[a] != depth[b]:\n",
    "        b = before[b]\n",
    "    while a != b:\n",
    "        a = before[a]\n",
    "        b = before[b]\n",
    "    return a\n",
    "\n",
    "def find_root(graph):\n",
    "    count = [0] * (N+1)\n",
    "    count[0] = 1\n",
    "    for i in graph:\n",
    "        for j in i:\n",
    "            count[j] = 1\n",
    "    return count.index(0)\n",
    "\n",
    "T = int(input())\n",
    "for t in range(T):\n",
    "    N = int(input())\n",
    "    graph = [[] for i in range(N+1)]\n",
    "    for _ in range(N-1):\n",
    "        A, B = map(int, input().split())\n",
    "        graph[A].append(B)\n",
    "\n",
    "    depth = [0] * (N+1)\n",
    "    before = [0] * (N+1)\n",
    "    root = find_root(graph)\n",
    "    queue = deque()\n",
    "    queue.append(root)\n",
    "    while queue:\n",
    "        select = queue.popleft()\n",
    "        for n in graph[select]:\n",
    "            if depth[n] == 0:\n",
    "                queue.append(n)\n",
    "                depth[n] = depth[select] + 1\n",
    "                before[n] = select\n",
    "    A, B = map(int, input().split())\n",
    "    print(LCA(A, B))"
   ]
  },
  {
   "cell_type": "markdown",
   "metadata": {},
   "source": [
    "## 17435번: 합성함수와 쿼리"
   ]
  },
  {
   "cell_type": "code",
   "execution_count": 23,
   "metadata": {},
   "outputs": [
    {
     "name": "stdout",
     "output_type": "stream",
     "text": [
      "5\n",
      "3 3 5 4 3\n",
      "5\n",
      "1 1\n",
      "3\n",
      "2 1\n",
      "5\n",
      "11 3\n",
      "5\n",
      "1000 4\n",
      "4\n",
      "5 1\n",
      "3\n"
     ]
    }
   ],
   "source": [
    "import sys\n",
    "#input = sys.stdin.readline\n",
    "m = int(input())\n",
    "f = [[0] * (m+1) for i in range(20)]\n",
    "f[0] = [0] + list(map(int, input().split()))\n",
    "\n",
    "for i in range(1, 20):\n",
    "    for j in range(1, m+1):\n",
    "        f[i][j] = f[i-1][f[i-1][j]]\n",
    "        \n",
    "q =  int(input())\n",
    "for _ in range(q):\n",
    "    n, x = map(int, input().split())\n",
    "    for i in range(18, -1, -1):\n",
    "        if n >= 2**i:\n",
    "            n -= 2**i\n",
    "            x = f[i][x]\n",
    "    print(x)"
   ]
  },
  {
   "cell_type": "markdown",
   "metadata": {},
   "source": [
    "## 11438번: LCA 2"
   ]
  },
  {
   "cell_type": "code",
   "execution_count": 11,
   "metadata": {},
   "outputs": [
    {
     "name": "stdout",
     "output_type": "stream",
     "text": [
      "15\n",
      "1 2\n",
      "1 3\n",
      "2 4\n",
      "3 7\n",
      "6 2\n",
      "3 8\n",
      "4 9\n",
      "2 5\n",
      "5 11\n",
      "7 13\n",
      "10 4\n",
      "11 15\n",
      "12 5\n",
      "14 7\n",
      "6\n",
      "6 11\n",
      "2\n",
      "10 9\n",
      "4\n",
      "2 6\n",
      "2\n",
      "7 6\n",
      "1\n",
      "8 13\n",
      "3\n",
      "8 15\n",
      "1\n"
     ]
    }
   ],
   "source": [
    "import sys\n",
    "#input = sys.stdin.readline\n",
    "sys.setrecursionlimit(100000) #재귀 깊이 미설정시 RecursionError 발생\n",
    "\n",
    "def DFS(x, d):\n",
    "    visited[x] = 1\n",
    "    depth[x] = d\n",
    "    for n in graph[x]:\n",
    "        if visited[n] != 1:\n",
    "            parents[n][0] = x\n",
    "            DFS(n, d+1)\n",
    "\n",
    "def sparse_table():\n",
    "    for j in range(1, 21):\n",
    "        for i in range(1, N+1):\n",
    "            parents[i][j] = parents[parents[i][j-1]][j-1]\n",
    "            \n",
    "def LCA(x, y):\n",
    "    if depth[x]>depth[y]:\n",
    "        x, y = y, x\n",
    "    for i in range(20, -1, -1):\n",
    "        if(depth[y]-depth[x]>=(1<<i)):\n",
    "            y=parents[y][i]     \n",
    "    #print(x, y)\n",
    "    if x==y:\n",
    "        return x\n",
    "    for i in range(20, -1, -1):\n",
    "        if parents[x][i]!=parents[y][i]:\n",
    "            x = parents[x][i]\n",
    "            y = parents[y][i]\n",
    "    return parents[x][0]\n",
    "\n",
    "N = int(input())\n",
    "graph = [[] for i in range(N+1)]\n",
    "for _ in range(N-1):\n",
    "    A, B = map(int, input().split())\n",
    "    graph[A].append(B)\n",
    "    graph[B].append(A)\n",
    "    \n",
    "depth = [0] * (N+1)\n",
    "root = 1\n",
    "visited = [0] * (N+1)\n",
    "parents = [[0]*21 for i in range(N+1)]\n",
    "DFS(root, 0)\n",
    "\n",
    "sparse_table()\n",
    "M = int(input())\n",
    "for _ in range(M):\n",
    "    A, B = map(int, input().split())\n",
    "    print(LCA(A, B))"
   ]
  },
  {
   "cell_type": "markdown",
   "metadata": {},
   "source": [
    "## 3176번: 도로 네트워크"
   ]
  },
  {
   "cell_type": "code",
   "execution_count": 75,
   "metadata": {},
   "outputs": [
    {
     "name": "stdout",
     "output_type": "stream",
     "text": [
      "9\n",
      "1 2 2\n",
      "2 3 1\n",
      "3 4 5\n",
      "2 7 4\n",
      "1 5 3\n",
      "5 6 1\n",
      "5 9 2\n",
      "1 8 3\n",
      "5\n",
      "6 9\n",
      "1 2\n",
      "7 8\n",
      "2 4\n",
      "9 4\n",
      "1 5\n",
      "1 2\n",
      "2 2\n",
      "7 3\n",
      "1 4\n"
     ]
    }
   ],
   "source": [
    "import sys\n",
    "from math import log2\n",
    "from collections import deque\n",
    "#input = sys.stdin.readline\n",
    "\n",
    "N = int(input())\n",
    "H = int(log2(N))+1\n",
    "graph = [[] for i in range(N+1)]\n",
    "for _ in range(N-1):\n",
    "    A, B, C = map(int, input().split())\n",
    "    graph[A].append((B, C))\n",
    "    graph[B].append((A, C))\n",
    "    \n",
    "queue = deque((1, 1))\n",
    "depth = [0] * (N+1) #트리 깊이\n",
    "depth[1] = 1\n",
    "dp = [[[0, 0, 0] for _ in range(H)] for _ in range(N+1)]\n",
    "\n",
    "while queue:\n",
    "    s = queue.popleft()\n",
    "    for n, w in graph[s]:\n",
    "        if not depth[n]:\n",
    "            queue.append(n)\n",
    "            depth[n] = depth[s]+1\n",
    "            dp[n][0] = [s, w, w]\n",
    "            \n",
    "#sparse table 작성\n",
    "for j in range(1, H):\n",
    "        for i in range(1, N+1):\n",
    "            dp[i][j][0] = dp[dp[i][j-1][0]][j-1][0]\n",
    "            dp[i][j][1] = min(dp[i][j-1][1], dp[dp[i][j-1][0]][j-1][1])\n",
    "            dp[i][j][2] = max(dp[i][j-1][2], dp[dp[i][j-1][0]][j-1][2])\n",
    "            \n",
    "for _ in range(int(input())):\n",
    "    D, E = map(int, input().split())\n",
    "    max_len = 0\n",
    "    min_len = sys.maxsize\n",
    "    \n",
    "    #깊이가 같을때까지 올라가면서 최대값, 최소값 저장\n",
    "    if depth[D] > depth[E]:\n",
    "        D, E = E, D\n",
    "    for i in range(H, -1, -1):\n",
    "        if depth[E]-depth[D]>=(1<<i):\n",
    "            min_len = min(min_len, dp[E][i][1])\n",
    "            max_len = max(max_len, dp[E][i][2])\n",
    "            E = dp[E][i][0]\n",
    "    if D == E:\n",
    "        print(min_len, max_len)\n",
    "        continue\n",
    "\n",
    "    #공통 부모 찾으면서 최대값, 최소값 저장\n",
    "    for i in range(H-1, -1, -1):\n",
    "        if dp[D][i][0]!=dp[E][i][0]:\n",
    "            min_len = min(min_len, dp[D][i][1], dp[E][i][1])\n",
    "            max_len = max(max_len, dp[D][i][2], dp[E][i][2])\n",
    "            D, E = dp[D][i][0], dp[E][i][0]\n",
    "            \n",
    "    min_len = min(dp[D][0][1],dp[E][0][1], min_len)\n",
    "    max_len = max(dp[D][0][2],dp[E][0][2], max_len)\n",
    "\n",
    "    print(min_len, max_len)"
   ]
  }
 ],
 "metadata": {
  "kernelspec": {
   "display_name": "Python 3",
   "language": "python",
   "name": "python3"
  },
  "language_info": {
   "codemirror_mode": {
    "name": "ipython",
    "version": 3
   },
   "file_extension": ".py",
   "mimetype": "text/x-python",
   "name": "python",
   "nbconvert_exporter": "python",
   "pygments_lexer": "ipython3",
   "version": "3.8.3"
  },
  "toc": {
   "base_numbering": 1,
   "nav_menu": {},
   "number_sections": true,
   "sideBar": true,
   "skip_h1_title": false,
   "title_cell": "Table of Contents",
   "title_sidebar": "Contents",
   "toc_cell": false,
   "toc_position": {},
   "toc_section_display": true,
   "toc_window_display": false
  },
  "varInspector": {
   "cols": {
    "lenName": 16,
    "lenType": 16,
    "lenVar": 40
   },
   "kernels_config": {
    "python": {
     "delete_cmd_postfix": "",
     "delete_cmd_prefix": "del ",
     "library": "var_list.py",
     "varRefreshCmd": "print(var_dic_list())"
    },
    "r": {
     "delete_cmd_postfix": ") ",
     "delete_cmd_prefix": "rm(",
     "library": "var_list.r",
     "varRefreshCmd": "cat(var_dic_list()) "
    }
   },
   "position": {
    "height": "373.395px",
    "left": "373.188px",
    "right": "20px",
    "top": "149.983px",
    "width": "350px"
   },
   "types_to_exclude": [
    "module",
    "function",
    "builtin_function_or_method",
    "instance",
    "_Feature"
   ],
   "window_display": false
  }
 },
 "nbformat": 4,
 "nbformat_minor": 4
}
