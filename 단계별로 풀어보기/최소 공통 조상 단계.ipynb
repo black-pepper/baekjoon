{
 "cells": [
  {
   "cell_type": "markdown",
   "metadata": {},
   "source": [
    "## 3584번: 가장 가까운 공통 조상"
   ]
  },
  {
   "cell_type": "code",
   "execution_count": 13,
   "metadata": {},
   "outputs": [
    {
     "name": "stdout",
     "output_type": "stream",
     "text": [
      "2\n",
      "16\n",
      "1 14\n",
      "8 5\n",
      "10 16\n",
      "5 9\n",
      "4 6\n",
      "8 4\n",
      "4 10\n",
      "1 13\n",
      "6 15\n",
      "10 11\n",
      "6 7\n",
      "10 2\n",
      "16 3\n",
      "8 1\n",
      "16 12\n",
      "16 7\n",
      "4\n",
      "5\n",
      "2 3\n",
      "3 4\n",
      "3 1\n",
      "1 5\n",
      "3 5\n",
      "3\n"
     ]
    }
   ],
   "source": [
    "import sys\n",
    "from collections import deque\n",
    "#input = sys.stdin.readline\n",
    "\n",
    "def LCA(a, b):\n",
    "    if depth[a] > depth[b]:\n",
    "        a, b = b, a\n",
    "    while depth[a] != depth[b]:\n",
    "        b = before[b]\n",
    "    while a != b:\n",
    "        a = before[a]\n",
    "        b = before[b]\n",
    "    return a\n",
    "\n",
    "def find_root(graph):\n",
    "    count = [0] * (N+1)\n",
    "    count[0] = 1\n",
    "    for i in graph:\n",
    "        for j in i:\n",
    "            count[j] = 1\n",
    "    return count.index(0)\n",
    "\n",
    "T = int(input())\n",
    "for t in range(T):\n",
    "    N = int(input())\n",
    "    graph = [[] for i in range(N+1)]\n",
    "    for _ in range(N-1):\n",
    "        A, B = map(int, input().split())\n",
    "        graph[A].append(B)\n",
    "\n",
    "    depth = [0] * (N+1)\n",
    "    before = [0] * (N+1)\n",
    "    root = find_root(graph)\n",
    "    queue = deque()\n",
    "    queue.append(root)\n",
    "    while queue:\n",
    "        select = queue.popleft()\n",
    "        for n in graph[select]:\n",
    "            if depth[n] == 0:\n",
    "                queue.append(n)\n",
    "                depth[n] = depth[select] + 1\n",
    "                before[n] = select\n",
    "    A, B = map(int, input().split())\n",
    "    print(LCA(A, B))"
   ]
  },
  {
   "cell_type": "markdown",
   "metadata": {},
   "source": [
    "## 17435번: 합성함수와 쿼리"
   ]
  },
  {
   "cell_type": "code",
   "execution_count": 23,
   "metadata": {},
   "outputs": [
    {
     "name": "stdout",
     "output_type": "stream",
     "text": [
      "5\n",
      "3 3 5 4 3\n",
      "5\n",
      "1 1\n",
      "3\n",
      "2 1\n",
      "5\n",
      "11 3\n",
      "5\n",
      "1000 4\n",
      "4\n",
      "5 1\n",
      "3\n"
     ]
    }
   ],
   "source": [
    "import sys\n",
    "#input = sys.stdin.readline\n",
    "m = int(input())\n",
    "f = [[0] * (m+1) for i in range(20)]\n",
    "f[0] = [0] + list(map(int, input().split()))\n",
    "\n",
    "for i in range(1, 20):\n",
    "    for j in range(1, m+1):\n",
    "        f[i][j] = f[i-1][f[i-1][j]]\n",
    "        \n",
    "q =  int(input())\n",
    "for _ in range(q):\n",
    "    n, x = map(int, input().split())\n",
    "    for i in range(18, -1, -1):\n",
    "        if n >= 2**i:\n",
    "            n -= 2**i\n",
    "            x = f[i][x]\n",
    "    print(x)"
   ]
  },
  {
   "cell_type": "markdown",
   "metadata": {},
   "source": [
    "## 11438번: LCA 2"
   ]
  },
  {
   "cell_type": "code",
   "execution_count": 11,
   "metadata": {},
   "outputs": [
    {
     "name": "stdout",
     "output_type": "stream",
     "text": [
      "15\n",
      "1 2\n",
      "1 3\n",
      "2 4\n",
      "3 7\n",
      "6 2\n",
      "3 8\n",
      "4 9\n",
      "2 5\n",
      "5 11\n",
      "7 13\n",
      "10 4\n",
      "11 15\n",
      "12 5\n",
      "14 7\n",
      "6\n",
      "6 11\n",
      "2\n",
      "10 9\n",
      "4\n",
      "2 6\n",
      "2\n",
      "7 6\n",
      "1\n",
      "8 13\n",
      "3\n",
      "8 15\n",
      "1\n"
     ]
    }
   ],
   "source": [
    "import sys\n",
    "#input = sys.stdin.readline\n",
    "sys.setrecursionlimit(100000) #재귀 깊이 미설정시 RecursionError 발생\n",
    "\n",
    "def DFS(x, d):\n",
    "    visited[x] = 1\n",
    "    depth[x] = d\n",
    "    for n in graph[x]:\n",
    "        if visited[n] != 1:\n",
    "            parents[n][0] = x\n",
    "            DFS(n, d+1)\n",
    "\n",
    "def sparse_table():\n",
    "    for j in range(1, 21):\n",
    "        for i in range(1, N+1):\n",
    "            parents[i][j] = parents[parents[i][j-1]][j-1]\n",
    "            \n",
    "def LCA(x, y):\n",
    "    if depth[x]>depth[y]:\n",
    "        x, y = y, x\n",
    "    for i in range(20, -1, -1):\n",
    "        if(depth[y]-depth[x]>=(1<<i)):\n",
    "            y=parents[y][i]     \n",
    "    #print(x, y)\n",
    "    if x==y:\n",
    "        return x\n",
    "    for i in range(20, -1, -1):\n",
    "        if parents[x][i]!=parents[y][i]:\n",
    "            x = parents[x][i]\n",
    "            y = parents[y][i]\n",
    "    return parents[x][0]\n",
    "\n",
    "N = int(input())\n",
    "graph = [[] for i in range(N+1)]\n",
    "for _ in range(N-1):\n",
    "    A, B = map(int, input().split())\n",
    "    graph[A].append(B)\n",
    "    graph[B].append(A)\n",
    "    \n",
    "depth = [0] * (N+1)\n",
    "root = 1\n",
    "visited = [0] * (N+1)\n",
    "parents = [[0]*21 for i in range(N+1)]\n",
    "DFS(root, 0)\n",
    "\n",
    "sparse_table()\n",
    "M = int(input())\n",
    "for _ in range(M):\n",
    "    A, B = map(int, input().split())\n",
    "    print(LCA(A, B))"
   ]
  },
  {
   "cell_type": "markdown",
   "metadata": {},
   "source": [
    "## 3176번: 도로 네트워크 (미완성)"
   ]
  },
  {
   "cell_type": "code",
   "execution_count": 51,
   "metadata": {},
   "outputs": [
    {
     "name": "stdout",
     "output_type": "stream",
     "text": [
      "6\n",
      "2 3 100\n",
      "4 3 200\n",
      "1 5 150\n",
      "1 3 50\n",
      "6 2 250\n"
     ]
    }
   ],
   "source": [
    "import sys\n",
    "#input = sys.stdin.readline\n",
    "\n",
    "N = int(input())\n",
    "graph = [[] for i in range(N+1)]\n",
    "for _ in range(N-1):\n",
    "    A, B, C = map(int, input().split())\n",
    "    graph[A].append([B, C])\n",
    "    graph[B].append([A, C])"
   ]
  },
  {
   "cell_type": "code",
   "execution_count": 59,
   "metadata": {},
   "outputs": [],
   "source": [
    "from collections import deque\n",
    "\n",
    "visited = [0] * (N+1)\n",
    "depth = [0] * (N+1)\n",
    "parents = [[0]*21 for i in range(N+1)]\n",
    "max_length = [[0]*21 for i in range(N+1)]\n",
    "min_length = [[0]*21 for i in range(N+1)]\n",
    "\n",
    "def BFS(root):\n",
    "    visited[root] = 1\n",
    "    queue = deque()\n",
    "    queue.append(root)\n",
    "    while queue:\n",
    "        select = queue.popleft()\n",
    "        for i, length in graph[select]:\n",
    "            if visited[i] == 0:\n",
    "                parents[i][0] = select\n",
    "                min_length[i][0] = length\n",
    "                max_length[i][0] = length\n",
    "                queue.append(i)\n",
    "                depth[i] = depth[select] + 1\n",
    "                visited[i] = 1\n",
    "\n",
    "def sparse_table():\n",
    "    global max_length, min_length\n",
    "    for j in range(1, 21):\n",
    "        for i in range(1, N+1):\n",
    "            parents[i][j] = parents[parents[i][j-1]][j-1]\n",
    "            #print(min_length[i][j-1], min_length[parents[i][j-1]][j-1])\n",
    "            min_length[i][j] = min(min_length[i][j-1], min_length[parents[i][j-1]][j-1])\n",
    "            max_length[i][j] = max(max_length[i][j-1], max_length[parents[i][j-1]][j-1])\n",
    "            \n",
    "INF = 1000000\n",
    "def LCA(x, y):\n",
    "    if x==y:\n",
    "        return 0, 0\n",
    "\n",
    "    if depth[x]>depth[y]:\n",
    "        x, y = y, x\n",
    "        \n",
    "    min_value = min_length[y][0]\n",
    "    max_value = max_length[y][0]\n",
    "\n",
    "    if parents[y][0] == x:\n",
    "        return min_length[y][0], max_length[y][0]\n",
    "    \n",
    "    for i in range(20, -1, -1):\n",
    "        if(depth[y]-depth[x]>=(1<<i)):\n",
    "            min_value = min(min_value, min_length[y][i])\n",
    "            max_value = max(max_value, max_length[y][i])\n",
    "            y = parents[y][i]\n",
    "    #print(x, y)\n",
    "    if x==y:\n",
    "        return min_value, max_value\n",
    "    \n",
    "    for i in range(20, -1, -1):\n",
    "        if parents[x][i]!=parents[y][i]:\n",
    "            print(i)\n",
    "            min_value = min([min_value, min_length[x][i], min_length[y][i]])\n",
    "            max_value = max([max_value, max_length[x][i], max_length[y][i]])\n",
    "            x = parents[x][i]\n",
    "            y = parents[y][i]\n",
    "    min_value = min([min_value, min_length[x][i], min_length[y][i]])\n",
    "    max_value = max([max_value, max_length[x][i], max_length[y][i]])\n",
    "    return min_value, max_value"
   ]
  },
  {
   "cell_type": "code",
   "execution_count": 64,
   "metadata": {},
   "outputs": [
    {
     "name": "stdout",
     "output_type": "stream",
     "text": [
      "1\n",
      "2 5\n",
      "50 150\n"
     ]
    }
   ],
   "source": [
    "BFS(1)\n",
    "sparse_table()\n",
    "K = int(input())\n",
    "for _ in range(K):\n",
    "    D, E = map(int, input().split())\n",
    "    min_value, max_value = LCA(D, E)\n",
    "    print(min_value, max_value)"
   ]
  }
 ],
 "metadata": {
  "kernelspec": {
   "display_name": "Python 3",
   "language": "python",
   "name": "python3"
  },
  "language_info": {
   "codemirror_mode": {
    "name": "ipython",
    "version": 3
   },
   "file_extension": ".py",
   "mimetype": "text/x-python",
   "name": "python",
   "nbconvert_exporter": "python",
   "pygments_lexer": "ipython3",
   "version": "3.8.3"
  },
  "toc": {
   "base_numbering": 1,
   "nav_menu": {},
   "number_sections": true,
   "sideBar": true,
   "skip_h1_title": false,
   "title_cell": "Table of Contents",
   "title_sidebar": "Contents",
   "toc_cell": false,
   "toc_position": {},
   "toc_section_display": true,
   "toc_window_display": false
  },
  "varInspector": {
   "cols": {
    "lenName": 16,
    "lenType": 16,
    "lenVar": 40
   },
   "kernels_config": {
    "python": {
     "delete_cmd_postfix": "",
     "delete_cmd_prefix": "del ",
     "library": "var_list.py",
     "varRefreshCmd": "print(var_dic_list())"
    },
    "r": {
     "delete_cmd_postfix": ") ",
     "delete_cmd_prefix": "rm(",
     "library": "var_list.r",
     "varRefreshCmd": "cat(var_dic_list()) "
    }
   },
   "position": {
    "height": "373.4px",
    "left": "390.2px",
    "right": "20px",
    "top": "119px",
    "width": "350px"
   },
   "types_to_exclude": [
    "module",
    "function",
    "builtin_function_or_method",
    "instance",
    "_Feature"
   ],
   "window_display": false
  }
 },
 "nbformat": 4,
 "nbformat_minor": 4
}
