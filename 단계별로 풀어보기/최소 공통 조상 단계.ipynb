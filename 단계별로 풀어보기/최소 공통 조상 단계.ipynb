{
 "cells": [
  {
   "cell_type": "markdown",
   "metadata": {},
   "source": [
    "## 3584번: 가장 가까운 공통 조상"
   ]
  },
  {
   "cell_type": "code",
   "execution_count": 13,
   "metadata": {},
   "outputs": [
    {
     "name": "stdout",
     "output_type": "stream",
     "text": [
      "2\n",
      "16\n",
      "1 14\n",
      "8 5\n",
      "10 16\n",
      "5 9\n",
      "4 6\n",
      "8 4\n",
      "4 10\n",
      "1 13\n",
      "6 15\n",
      "10 11\n",
      "6 7\n",
      "10 2\n",
      "16 3\n",
      "8 1\n",
      "16 12\n",
      "16 7\n",
      "4\n",
      "5\n",
      "2 3\n",
      "3 4\n",
      "3 1\n",
      "1 5\n",
      "3 5\n",
      "3\n"
     ]
    }
   ],
   "source": [
    "import sys\n",
    "from collections import deque\n",
    "#input = sys.stdin.readline\n",
    "\n",
    "def LCA(a, b):\n",
    "    if depth[a] > depth[b]:\n",
    "        a, b = b, a\n",
    "    while depth[a] != depth[b]:\n",
    "        b = before[b]\n",
    "    while a != b:\n",
    "        a = before[a]\n",
    "        b = before[b]\n",
    "    return a\n",
    "\n",
    "def find_root(graph):\n",
    "    count = [0] * (N+1)\n",
    "    count[0] = 1\n",
    "    for i in graph:\n",
    "        for j in i:\n",
    "            count[j] = 1\n",
    "    return count.index(0)\n",
    "\n",
    "T = int(input())\n",
    "for t in range(T):\n",
    "    N = int(input())\n",
    "    graph = [[] for i in range(N+1)]\n",
    "    for _ in range(N-1):\n",
    "        A, B = map(int, input().split())\n",
    "        graph[A].append(B)\n",
    "\n",
    "    depth = [0] * (N+1)\n",
    "    before = [0] * (N+1)\n",
    "    root = find_root(graph)\n",
    "    queue = deque()\n",
    "    queue.append(root)\n",
    "    while queue:\n",
    "        select = queue.popleft()\n",
    "        for n in graph[select]:\n",
    "            if depth[n] == 0:\n",
    "                queue.append(n)\n",
    "                depth[n] = depth[select] + 1\n",
    "                before[n] = select\n",
    "    A, B = map(int, input().split())\n",
    "    print(LCA(A, B))"
   ]
  }
 ],
 "metadata": {
  "kernelspec": {
   "display_name": "Python 3",
   "language": "python",
   "name": "python3"
  },
  "language_info": {
   "codemirror_mode": {
    "name": "ipython",
    "version": 3
   },
   "file_extension": ".py",
   "mimetype": "text/x-python",
   "name": "python",
   "nbconvert_exporter": "python",
   "pygments_lexer": "ipython3",
   "version": "3.8.3"
  },
  "toc": {
   "base_numbering": 1,
   "nav_menu": {},
   "number_sections": true,
   "sideBar": true,
   "skip_h1_title": false,
   "title_cell": "Table of Contents",
   "title_sidebar": "Contents",
   "toc_cell": false,
   "toc_position": {},
   "toc_section_display": true,
   "toc_window_display": false
  },
  "varInspector": {
   "cols": {
    "lenName": 16,
    "lenType": 16,
    "lenVar": 40
   },
   "kernels_config": {
    "python": {
     "delete_cmd_postfix": "",
     "delete_cmd_prefix": "del ",
     "library": "var_list.py",
     "varRefreshCmd": "print(var_dic_list())"
    },
    "r": {
     "delete_cmd_postfix": ") ",
     "delete_cmd_prefix": "rm(",
     "library": "var_list.r",
     "varRefreshCmd": "cat(var_dic_list()) "
    }
   },
   "types_to_exclude": [
    "module",
    "function",
    "builtin_function_or_method",
    "instance",
    "_Feature"
   ],
   "window_display": false
  }
 },
 "nbformat": 4,
 "nbformat_minor": 4
}
