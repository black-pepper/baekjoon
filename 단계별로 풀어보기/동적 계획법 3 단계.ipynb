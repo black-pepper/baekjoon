{
 "cells": [
  {
   "cell_type": "markdown",
   "metadata": {},
   "source": [
    "## 11723: 집합"
   ]
  },
  {
   "cell_type": "code",
   "execution_count": 13,
   "metadata": {},
   "outputs": [
    {
     "name": "stdout",
     "output_type": "stream",
     "text": [
      "26\n",
      "add 1\n",
      "add 2\n",
      "check 1\n",
      "1\n",
      "check 2\n",
      "1\n",
      "check 3\n",
      "0\n",
      "remove 2\n",
      "check 1\n",
      "1\n",
      "check 2\n",
      "0\n",
      "toggle 3\n",
      "check 1\n",
      "1\n",
      "check 2\n",
      "0\n",
      "check 3\n",
      "1\n",
      "check 4\n",
      "0\n",
      "all\n",
      "check 10\n",
      "1\n",
      "check 20\n",
      "1\n",
      "toggle 10\n",
      "remove 20\n",
      "check 10\n",
      "0\n",
      "check 20\n",
      "0\n",
      "empty\n",
      "check 1\n",
      "0\n",
      "toggle 1\n",
      "check 1\n",
      "1\n",
      "toggle 1\n",
      "check 1\n",
      "0\n"
     ]
    }
   ],
   "source": [
    "import sys\n",
    "#input = sys.stdin.readline\n",
    "\n",
    "M = int(input())\n",
    "S = [0] * 21\n",
    "for _ in range(M):\n",
    "    command = input().replace(\"\\n\",\"\")\n",
    "    if 'add' in command:\n",
    "        command, num = command.split()\n",
    "        S[int(num)] = 1\n",
    "    elif 'remove' in command:\n",
    "        command, num = command.split()\n",
    "        S[int(num)] = 0\n",
    "    elif 'check' in command:\n",
    "        command, num = command.split()\n",
    "        print(S[int(num)])\n",
    "    elif 'toggle' in command:\n",
    "        command, num = command.split()\n",
    "        if S[int(num)] == 0:\n",
    "            S[int(num)] = 1\n",
    "        else:\n",
    "            S[int(num)] = 0\n",
    "    elif 'all' in command:\n",
    "        S = [1] * 21\n",
    "    else:\n",
    "        S = [0] * 21"
   ]
  },
  {
   "cell_type": "markdown",
   "metadata": {},
   "source": [
    "## 1311번: 할 일 정하기 (미완성)"
   ]
  },
  {
   "cell_type": "code",
   "execution_count": 45,
   "metadata": {},
   "outputs": [
    {
     "name": "stdout",
     "output_type": "stream",
     "text": [
      "3\n",
      "2 3 3\n",
      "3 2 3\n",
      "3 3 2\n",
      "6\n"
     ]
    }
   ],
   "source": [
    "#https://technicolour.tistory.com/14\n",
    "import sys\n",
    "#input = sys.stdin.readline\n",
    "\n",
    "N = int(input())\n",
    "works = []\n",
    "for i in range(N):\n",
    "    works.append(list(map(int, input().split())))\n",
    "    \n",
    "def DFS(x, visited):\n",
    "    if visited == (1 << N) - 1:\n",
    "        return 0\n",
    "    if dp[x][visited] != -1:\n",
    "        return dp[x][visited]\n",
    "    \n",
    "    dp[x][visited] = INF\n",
    "    for i in range(N):\n",
    "        if visited & 1 << i:\n",
    "            continue\n",
    "        dp[x][visited] = min(dp[x][visited], DFS(x+1, visited | (1 << i)) + works[x][i])\n",
    "        \n",
    "    return dp[x][visited]\n",
    "\n",
    "dp = [[-1] * (1<<21) for i in range(20)]\n",
    "INF = sys.maxsize\n",
    "\n",
    "print(DFS(0, 0))"
   ]
  },
  {
   "cell_type": "markdown",
   "metadata": {},
   "source": [
    "## 2098번: 외판원 순회"
   ]
  },
  {
   "cell_type": "code",
   "execution_count": 2,
   "metadata": {},
   "outputs": [
    {
     "name": "stdout",
     "output_type": "stream",
     "text": [
      "4\n",
      "0 10 15 20\n",
      "5 0 9 10\n",
      "6 13 0 12\n",
      "8 8 9 0\n",
      "35\n"
     ]
    }
   ],
   "source": [
    "#https://shoark7.github.io/programming/algorithm/solve-tsp-with-dynamic-programming\n",
    "import sys\n",
    "#input = sys.stdin.readline\n",
    "INF = sys.maxsize\n",
    "\n",
    "N = int(input())\n",
    "W = []\n",
    "for i in range(N):\n",
    "    W.append(list(map(int, input().split())))\n",
    "VISITED_ALL = (1 << N) - 1\n",
    "dp = [[None] * (1 << N) for _ in range(N)]\n",
    "    \n",
    "def find_path(last, visited):\n",
    "    if visited == VISITED_ALL:\n",
    "        return W[last][0] or INF\n",
    "\n",
    "    if dp[last][visited] is not None:\n",
    "        return dp[last][visited]\n",
    "\n",
    "    tmp = INF        \n",
    "    for city in range(N):\n",
    "        if visited & (1 << city) == 0 and W[last][city] != 0:\n",
    "            tmp = min(tmp,find_path(city, visited | (1 << city)) + W[last][city])\n",
    "    dp[last][visited] = tmp\n",
    "    return tmp\n",
    "\n",
    "print(find_path(0,1 << 0))"
   ]
  },
  {
   "cell_type": "markdown",
   "metadata": {},
   "source": [
    "## 17404번: RGB거리 2"
   ]
  },
  {
   "cell_type": "code",
   "execution_count": 1,
   "metadata": {},
   "outputs": [
    {
     "name": "stdout",
     "output_type": "stream",
     "text": [
      "3\n",
      "26 40 83\n",
      "49 60 57\n",
      "13 89 99\n",
      "110\n"
     ]
    }
   ],
   "source": [
    "import sys\n",
    "#input = sys.stdin.readline\n",
    "INF = sys.maxsize\n",
    "\n",
    "N = int(input())\n",
    "result = INF\n",
    "\n",
    "cost = []\n",
    "for i in range(N):\n",
    "    cost.append(list(map(int, input().split())))\n",
    "    \n",
    "for i in range(3):\n",
    "    dp = [[INF, INF, INF] for i in range(N)]\n",
    "    dp[0][i] = cost[0][i]\n",
    "    for j in range(1, N):\n",
    "        dp[j][0] = min(dp[j-1][1], dp[j-1][2]) + cost[j][0]\n",
    "        dp[j][1] = min(dp[j-1][0], dp[j-1][2]) + cost[j][1]\n",
    "        dp[j][2] = min(dp[j-1][0], dp[j-1][1]) + cost[j][2]\n",
    "    dp[-1][i] = INF\n",
    "    result = min(result, min(dp[-1]))\n",
    "    \n",
    "print(result)"
   ]
  },
  {
   "cell_type": "markdown",
   "metadata": {},
   "source": [
    "## 2482번: 색상환"
   ]
  },
  {
   "cell_type": "code",
   "execution_count": 10,
   "metadata": {},
   "outputs": [
    {
     "name": "stdout",
     "output_type": "stream",
     "text": [
      "7\n",
      "2\n",
      "14\n"
     ]
    }
   ],
   "source": [
    "import sys\n",
    "sys.setrecursionlimit(100000)\n",
    "\n",
    "dp = [[0]*1001 for i in range(1001)]\n",
    "def colors(N, K):\n",
    "    if N//2 < K or dp[N][K] != 0:\n",
    "        pass\n",
    "    elif K == 1:\n",
    "        dp[N][K] = N\n",
    "    elif N/K == 2:\n",
    "        dp[N][K] = 2\n",
    "    else:\n",
    "        dp[N][K] = (colors(N-1, K) + colors(N-2, K-1))%1000000003\n",
    "    return dp[N][K]\n",
    "\n",
    "N = int(input())\n",
    "K = int(input())\n",
    "print(colors(N, K))"
   ]
  }
 ],
 "metadata": {
  "kernelspec": {
   "display_name": "Python 3",
   "language": "python",
   "name": "python3"
  },
  "language_info": {
   "codemirror_mode": {
    "name": "ipython",
    "version": 3
   },
   "file_extension": ".py",
   "mimetype": "text/x-python",
   "name": "python",
   "nbconvert_exporter": "python",
   "pygments_lexer": "ipython3",
   "version": "3.8.3"
  },
  "toc": {
   "base_numbering": 1,
   "nav_menu": {},
   "number_sections": true,
   "sideBar": true,
   "skip_h1_title": false,
   "title_cell": "Table of Contents",
   "title_sidebar": "Contents",
   "toc_cell": false,
   "toc_position": {},
   "toc_section_display": true,
   "toc_window_display": false
  },
  "varInspector": {
   "cols": {
    "lenName": 16,
    "lenType": 16,
    "lenVar": 40
   },
   "kernels_config": {
    "python": {
     "delete_cmd_postfix": "",
     "delete_cmd_prefix": "del ",
     "library": "var_list.py",
     "varRefreshCmd": "print(var_dic_list())"
    },
    "r": {
     "delete_cmd_postfix": ") ",
     "delete_cmd_prefix": "rm(",
     "library": "var_list.r",
     "varRefreshCmd": "cat(var_dic_list()) "
    }
   },
   "types_to_exclude": [
    "module",
    "function",
    "builtin_function_or_method",
    "instance",
    "_Feature"
   ],
   "window_display": false
  }
 },
 "nbformat": 4,
 "nbformat_minor": 4
}
