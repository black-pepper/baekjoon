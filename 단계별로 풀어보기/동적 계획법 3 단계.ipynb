{
 "cells": [
  {
   "cell_type": "markdown",
   "metadata": {},
   "source": [
    "## 11723: 집합"
   ]
  },
  {
   "cell_type": "code",
   "execution_count": 13,
   "metadata": {},
   "outputs": [
    {
     "name": "stdout",
     "output_type": "stream",
     "text": [
      "26\n",
      "add 1\n",
      "add 2\n",
      "check 1\n",
      "1\n",
      "check 2\n",
      "1\n",
      "check 3\n",
      "0\n",
      "remove 2\n",
      "check 1\n",
      "1\n",
      "check 2\n",
      "0\n",
      "toggle 3\n",
      "check 1\n",
      "1\n",
      "check 2\n",
      "0\n",
      "check 3\n",
      "1\n",
      "check 4\n",
      "0\n",
      "all\n",
      "check 10\n",
      "1\n",
      "check 20\n",
      "1\n",
      "toggle 10\n",
      "remove 20\n",
      "check 10\n",
      "0\n",
      "check 20\n",
      "0\n",
      "empty\n",
      "check 1\n",
      "0\n",
      "toggle 1\n",
      "check 1\n",
      "1\n",
      "toggle 1\n",
      "check 1\n",
      "0\n"
     ]
    }
   ],
   "source": [
    "import sys\n",
    "#input = sys.stdin.readline\n",
    "\n",
    "M = int(input())\n",
    "S = [0] * 21\n",
    "for _ in range(M):\n",
    "    command = input().replace(\"\\n\",\"\")\n",
    "    if 'add' in command:\n",
    "        command, num = command.split()\n",
    "        S[int(num)] = 1\n",
    "    elif 'remove' in command:\n",
    "        command, num = command.split()\n",
    "        S[int(num)] = 0\n",
    "    elif 'check' in command:\n",
    "        command, num = command.split()\n",
    "        print(S[int(num)])\n",
    "    elif 'toggle' in command:\n",
    "        command, num = command.split()\n",
    "        if S[int(num)] == 0:\n",
    "            S[int(num)] = 1\n",
    "        else:\n",
    "            S[int(num)] = 0\n",
    "    elif 'all' in command:\n",
    "        S = [1] * 21\n",
    "    else:\n",
    "        S = [0] * 21"
   ]
  },
  {
   "cell_type": "markdown",
   "metadata": {},
   "source": [
    "## 1311번: 할 일 정하기 (미완성)"
   ]
  },
  {
   "cell_type": "code",
   "execution_count": 5,
   "metadata": {},
   "outputs": [
    {
     "name": "stdout",
     "output_type": "stream",
     "text": [
      "3\n",
      "2 3 3\n",
      "3 2 3\n",
      "3 3 2\n"
     ]
    }
   ],
   "source": [
    "import sys\n",
    "#input = sys.stdin.readline\n",
    "\n",
    "N = int(input())\n",
    "works = []\n",
    "for i in range(N):\n",
    "    works.append(list(map(int, input().split())))"
   ]
  },
  {
   "cell_type": "code",
   "execution_count": 9,
   "metadata": {},
   "outputs": [
    {
     "name": "stdout",
     "output_type": "stream",
     "text": [
      "6\n"
     ]
    }
   ],
   "source": [
    "import heapq\n",
    "heap = []\n",
    "for i in range(N):\n",
    "    for j in range(N):\n",
    "        heapq.heappush(heap, [works[i][j], i, j])\n",
    "    \n",
    "Pvisited = [0] * N\n",
    "Wvisited = [0] * N\n",
    "minCost = 0\n",
    "while heap:\n",
    "    cost, person, work  = heapq.heappop(heap)\n",
    "    if Pvisited[person] == 1 or Wvisited[work] == 1:\n",
    "        continue\n",
    "    minCost += cost\n",
    "    Pvisited[person] = 1\n",
    "    Wvisited[work] = 1\n",
    "\n",
    "print(minCost)"
   ]
  },
  {
   "cell_type": "markdown",
   "metadata": {},
   "source": [
    "## 17404번: RGB거리 2"
   ]
  },
  {
   "cell_type": "code",
   "execution_count": 1,
   "metadata": {},
   "outputs": [
    {
     "name": "stdout",
     "output_type": "stream",
     "text": [
      "3\n",
      "26 40 83\n",
      "49 60 57\n",
      "13 89 99\n",
      "110\n"
     ]
    }
   ],
   "source": [
    "import sys\n",
    "#input = sys.stdin.readline\n",
    "INF = sys.maxsize\n",
    "\n",
    "N = int(input())\n",
    "result = INF\n",
    "\n",
    "cost = []\n",
    "for i in range(N):\n",
    "    cost.append(list(map(int, input().split())))\n",
    "    \n",
    "for i in range(3):\n",
    "    dp = [[INF, INF, INF] for i in range(N)]\n",
    "    dp[0][i] = cost[0][i]\n",
    "    for j in range(1, N):\n",
    "        dp[j][0] = min(dp[j-1][1], dp[j-1][2]) + cost[j][0]\n",
    "        dp[j][1] = min(dp[j-1][0], dp[j-1][2]) + cost[j][1]\n",
    "        dp[j][2] = min(dp[j-1][0], dp[j-1][1]) + cost[j][2]\n",
    "    dp[-1][i] = INF\n",
    "    result = min(result, min(dp[-1]))\n",
    "    \n",
    "print(result)"
   ]
  }
 ],
 "metadata": {
  "kernelspec": {
   "display_name": "Python 3",
   "language": "python",
   "name": "python3"
  },
  "language_info": {
   "codemirror_mode": {
    "name": "ipython",
    "version": 3
   },
   "file_extension": ".py",
   "mimetype": "text/x-python",
   "name": "python",
   "nbconvert_exporter": "python",
   "pygments_lexer": "ipython3",
   "version": "3.8.3"
  },
  "toc": {
   "base_numbering": 1,
   "nav_menu": {},
   "number_sections": true,
   "sideBar": true,
   "skip_h1_title": false,
   "title_cell": "Table of Contents",
   "title_sidebar": "Contents",
   "toc_cell": false,
   "toc_position": {},
   "toc_section_display": true,
   "toc_window_display": false
  },
  "varInspector": {
   "cols": {
    "lenName": 16,
    "lenType": 16,
    "lenVar": 40
   },
   "kernels_config": {
    "python": {
     "delete_cmd_postfix": "",
     "delete_cmd_prefix": "del ",
     "library": "var_list.py",
     "varRefreshCmd": "print(var_dic_list())"
    },
    "r": {
     "delete_cmd_postfix": ") ",
     "delete_cmd_prefix": "rm(",
     "library": "var_list.r",
     "varRefreshCmd": "cat(var_dic_list()) "
    }
   },
   "types_to_exclude": [
    "module",
    "function",
    "builtin_function_or_method",
    "instance",
    "_Feature"
   ],
   "window_display": false
  }
 },
 "nbformat": 4,
 "nbformat_minor": 4
}
