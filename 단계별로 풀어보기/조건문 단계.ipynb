{
 "cells": [
  {
   "cell_type": "markdown",
   "metadata": {},
   "source": [
    "## 1330번: 두 수 비교하기"
   ]
  },
  {
   "cell_type": "code",
   "execution_count": 6,
   "metadata": {},
   "outputs": [
    {
     "name": "stdout",
     "output_type": "stream",
     "text": [
      "5 5\n",
      "==\n"
     ]
    }
   ],
   "source": [
    "A, B = map(int, input().split())\n",
    "\n",
    "if A>B:\n",
    "    print(\">\")\n",
    "elif B>A:\n",
    "    print(\"<\")\n",
    "else:\n",
    "    print(\"==\")"
   ]
  },
  {
   "cell_type": "markdown",
   "metadata": {},
   "source": [
    "## 9498번: 시험 성적"
   ]
  },
  {
   "cell_type": "code",
   "execution_count": 7,
   "metadata": {},
   "outputs": [
    {
     "name": "stdout",
     "output_type": "stream",
     "text": [
      "100\n",
      "A\n"
     ]
    }
   ],
   "source": [
    "A = int(input())\n",
    "if(A>=90):\n",
    "    print(\"A\")\n",
    "elif(A>=80):\n",
    "    print(\"B\")\n",
    "elif(A>=70):\n",
    "    print(\"C\")\n",
    "elif(A>=60):\n",
    "    print(\"D\")\n",
    "else:\n",
    "    print(\"F\")"
   ]
  },
  {
   "cell_type": "markdown",
   "metadata": {},
   "source": [
    "## 2753번: 윤년"
   ]
  },
  {
   "cell_type": "code",
   "execution_count": 12,
   "metadata": {},
   "outputs": [
    {
     "name": "stdout",
     "output_type": "stream",
     "text": [
      "2000\n",
      "1\n"
     ]
    }
   ],
   "source": [
    "N = int(input())\n",
    "if(N%4==0 and N%100!=0 or N%400==0):\n",
    "    print(1)\n",
    "else:\n",
    "    print(0)"
   ]
  },
  {
   "cell_type": "markdown",
   "metadata": {},
   "source": [
    "## 14681번: 사분면 고르기"
   ]
  },
  {
   "cell_type": "code",
   "execution_count": 15,
   "metadata": {},
   "outputs": [
    {
     "name": "stdout",
     "output_type": "stream",
     "text": [
      "9\n",
      "-13\n",
      "4\n"
     ]
    }
   ],
   "source": [
    "x = int(input())\n",
    "y = int(input())\n",
    "\n",
    "if(x>0):\n",
    "    if(y>0): print(1)\n",
    "    else: print(4)\n",
    "else:\n",
    "    if(y>0): print(2)\n",
    "    else: print(3)"
   ]
  },
  {
   "cell_type": "markdown",
   "metadata": {},
   "source": [
    "## 2884번: 알람 시계"
   ]
  },
  {
   "cell_type": "code",
   "execution_count": 20,
   "metadata": {},
   "outputs": [
    {
     "name": "stdout",
     "output_type": "stream",
     "text": [
      "23 40\n",
      "22 55\n"
     ]
    }
   ],
   "source": [
    "H, M = map(int, input().split())\n",
    "\n",
    "M = M-45\n",
    "\n",
    "if(M<0):\n",
    "    H = H-1\n",
    "    M = M+60\n",
    "if(H<0):\n",
    "    H = H+24\n",
    "    \n",
    "print(H, M)"
   ]
  },
  {
   "cell_type": "markdown",
   "metadata": {},
   "source": [
    "## 2525번: 오븐 시계"
   ]
  },
  {
   "cell_type": "code",
   "execution_count": 13,
   "metadata": {},
   "outputs": [
    {
     "name": "stdout",
     "output_type": "stream",
     "text": [
      "23 48\n",
      "25\n",
      "0 13\n"
     ]
    }
   ],
   "source": [
    "A, B = map(int, input().split())\n",
    "B += int(input())\n",
    "A += B//60\n",
    "B %= 60\n",
    "A %= 24\n",
    "print(A, B)"
   ]
  }
 ],
 "metadata": {
  "kernelspec": {
   "display_name": "Python 3",
   "language": "python",
   "name": "python3"
  },
  "language_info": {
   "codemirror_mode": {
    "name": "ipython",
    "version": 3
   },
   "file_extension": ".py",
   "mimetype": "text/x-python",
   "name": "python",
   "nbconvert_exporter": "python",
   "pygments_lexer": "ipython3",
   "version": "3.8.3"
  },
  "toc": {
   "base_numbering": 1,
   "nav_menu": {},
   "number_sections": true,
   "sideBar": true,
   "skip_h1_title": false,
   "title_cell": "Table of Contents",
   "title_sidebar": "Contents",
   "toc_cell": false,
   "toc_position": {},
   "toc_section_display": true,
   "toc_window_display": false
  },
  "varInspector": {
   "cols": {
    "lenName": 16,
    "lenType": 16,
    "lenVar": 40
   },
   "kernels_config": {
    "python": {
     "delete_cmd_postfix": "",
     "delete_cmd_prefix": "del ",
     "library": "var_list.py",
     "varRefreshCmd": "print(var_dic_list())"
    },
    "r": {
     "delete_cmd_postfix": ") ",
     "delete_cmd_prefix": "rm(",
     "library": "var_list.r",
     "varRefreshCmd": "cat(var_dic_list()) "
    }
   },
   "types_to_exclude": [
    "module",
    "function",
    "builtin_function_or_method",
    "instance",
    "_Feature"
   ],
   "window_display": false
  }
 },
 "nbformat": 4,
 "nbformat_minor": 4
}
