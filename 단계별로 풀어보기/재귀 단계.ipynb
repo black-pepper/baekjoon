{
 "cells": [
  {
   "cell_type": "markdown",
   "metadata": {},
   "source": [
    "## 10872번: 팩토리얼"
   ]
  },
  {
   "cell_type": "code",
   "execution_count": 6,
   "metadata": {},
   "outputs": [
    {
     "name": "stdout",
     "output_type": "stream",
     "text": [
      "10\n",
      "3628800\n"
     ]
    }
   ],
   "source": [
    "def Factorial(N):\n",
    "    if N == 0 : return 1\n",
    "    if N == 1 : return 1\n",
    "    return N * Factorial(N-1)\n",
    "\n",
    "N = int(input())\n",
    "print(Factorial(N))"
   ]
  },
  {
   "cell_type": "markdown",
   "metadata": {},
   "source": [
    "## 10870번: 피보나치 수 5"
   ]
  },
  {
   "cell_type": "code",
   "execution_count": 7,
   "metadata": {},
   "outputs": [
    {
     "name": "stdout",
     "output_type": "stream",
     "text": [
      "10\n",
      "55\n"
     ]
    }
   ],
   "source": [
    "def Fibonacci(n):\n",
    "    if n == 0 : return 0\n",
    "    if n == 1 : return 1\n",
    "    return Fibonacci(n-1) + Fibonacci(n-2)\n",
    "\n",
    "n = int(input())\n",
    "print(Fibonacci(n))"
   ]
  },
  {
   "cell_type": "markdown",
   "metadata": {},
   "source": [
    "## 17478번: 재귀함수가 뭔가요?"
   ]
  },
  {
   "cell_type": "code",
   "execution_count": 20,
   "metadata": {
    "scrolled": true
   },
   "outputs": [
    {
     "name": "stdout",
     "output_type": "stream",
     "text": [
      "2\n",
      "어느 한 컴퓨터공학과 학생이 유명한 교수님을 찾아가 물었다.\n",
      "\"재귀함수가 뭔가요?\"\n",
      "\"잘 들어보게. 옛날옛날 한 산 꼭대기에 이세상 모든 지식을 통달한 선인이 있었어.\n",
      "마을 사람들은 모두 그 선인에게 수많은 질문을 했고, 모두 지혜롭게 대답해 주었지.\n",
      "그의 답은 대부분 옳았다고 하네. 그런데 어느 날, 그 선인에게 한 선비가 찾아와서 물었어.\"\n",
      "____\"재귀함수가 뭔가요?\"\n",
      "____\"잘 들어보게. 옛날옛날 한 산 꼭대기에 이세상 모든 지식을 통달한 선인이 있었어.\n",
      "____마을 사람들은 모두 그 선인에게 수많은 질문을 했고, 모두 지혜롭게 대답해 주었지.\n",
      "____그의 답은 대부분 옳았다고 하네. 그런데 어느 날, 그 선인에게 한 선비가 찾아와서 물었어.\"\n",
      "________\"재귀함수가 뭔가요?\"\n",
      "________\"재귀함수는 자기 자신을 호출하는 함수라네\"\n",
      "________라고 답변하였지.\n",
      "____라고 답변하였지.\n",
      "라고 답변하였지.\n"
     ]
    }
   ],
   "source": [
    "N = int(input())\n",
    "print(\"어느 한 컴퓨터공학과 학생이 유명한 교수님을 찾아가 물었다.\")\n",
    "def solution(n):\n",
    "    print(\"____\"*n+\"\\\"재귀함수가 뭔가요?\\\"\")\n",
    "    if n==N:\n",
    "        print(\"____\"*n+\"\\\"재귀함수는 자기 자신을 호출하는 함수라네\\\"\")\n",
    "        print(\"____\"*n+\"라고 답변하였지.\")\n",
    "        return\n",
    "    print(\"____\"*n+\"\\\"잘 들어보게. 옛날옛날 한 산 꼭대기에 이세상 모든 지식을 통달한 선인이 있었어.\")\n",
    "    print(\"____\"*n+\"마을 사람들은 모두 그 선인에게 수많은 질문을 했고, 모두 지혜롭게 대답해 주었지.\")\n",
    "    print(\"____\"*n+\"그의 답은 대부분 옳았다고 하네. 그런데 어느 날, 그 선인에게 한 선비가 찾아와서 물었어.\\\"\")\n",
    "    solution(n+1)\n",
    "    print(\"____\"*n+\"라고 답변하였지.\")\n",
    "solution(0)"
   ]
  },
  {
   "cell_type": "markdown",
   "metadata": {},
   "source": [
    "## 2447번: 별 찍기 - 10"
   ]
  },
  {
   "cell_type": "code",
   "execution_count": 9,
   "metadata": {},
   "outputs": [
    {
     "name": "stdout",
     "output_type": "stream",
     "text": [
      "27\n",
      "***************************\n",
      "* ** ** ** ** ** ** ** ** *\n",
      "***************************\n",
      "***   ******   ******   ***\n",
      "* *   * ** *   * ** *   * *\n",
      "***   ******   ******   ***\n",
      "***************************\n",
      "* ** ** ** ** ** ** ** ** *\n",
      "***************************\n",
      "*********         *********\n",
      "* ** ** *         * ** ** *\n",
      "*********         *********\n",
      "***   ***         ***   ***\n",
      "* *   * *         * *   * *\n",
      "***   ***         ***   ***\n",
      "*********         *********\n",
      "* ** ** *         * ** ** *\n",
      "*********         *********\n",
      "***************************\n",
      "* ** ** ** ** ** ** ** ** *\n",
      "***************************\n",
      "***   ******   ******   ***\n",
      "* *   * ** *   * ** *   * *\n",
      "***   ******   ******   ***\n",
      "***************************\n",
      "* ** ** ** ** ** ** ** ** *\n",
      "***************************\n"
     ]
    }
   ],
   "source": [
    "N = int(input())\n",
    "\n",
    "arr = []\n",
    "for i in range(N):\n",
    "    arr.append([])\n",
    "    for j in range(N):\n",
    "        arr[i].append(' ')\n",
    "        \n",
    "def Star(start_x, start_y, size):\n",
    "    if size==1:\n",
    "        arr[start_y][start_x] = '*'\n",
    "    else:\n",
    "        divided_size = size//3\n",
    "        Star(start_x, start_y, divided_size)\n",
    "        Star(start_x+divided_size, start_y, divided_size)\n",
    "        Star(start_x+divided_size*2, start_y, divided_size)\n",
    "        Star(start_x, start_y+divided_size, divided_size)\n",
    "        #Star(start_x+divided_size, start_y+divided_size, divided_size)\n",
    "        Star(start_x+divided_size*2, start_y+divided_size, divided_size)\n",
    "        Star(start_x, start_y+divided_size*2, divided_size)\n",
    "        Star(start_x+divided_size, start_y+divided_size*2, divided_size)\n",
    "        Star(start_x+divided_size*2, start_y+divided_size*2, divided_size)\n",
    "        \n",
    "Star(0, 0, N)   \n",
    "for i in range(N):\n",
    "    for j in range(N):\n",
    "        print(arr[i][j],end='')\n",
    "    print()"
   ]
  },
  {
   "cell_type": "markdown",
   "metadata": {},
   "source": [
    "## 11729번: 하노이 탑 이동 순서"
   ]
  },
  {
   "cell_type": "code",
   "execution_count": 1,
   "metadata": {},
   "outputs": [
    {
     "name": "stdout",
     "output_type": "stream",
     "text": [
      "3\n",
      "7\n",
      "1 3\n",
      "1 2\n",
      "3 2\n",
      "1 3\n",
      "2 1\n",
      "2 3\n",
      "1 3\n"
     ]
    }
   ],
   "source": [
    "count = 0\n",
    "\n",
    "def Hanoi_count (N, start_line, suport_line, end_line):\n",
    "    global count \n",
    "    count += 1\n",
    "    if N == 1 : pass\n",
    "    else :\n",
    "        Hanoi_count (N-1, start_line, end_line, suport_line)\n",
    "        Hanoi_count (N-1, suport_line, start_line, end_line)\n",
    "\n",
    "def Hanoi (N, start_line, suport_line, end_line):\n",
    "    if N == 1 :\n",
    "        print(start_line, end_line)\n",
    "    else :\n",
    "        Hanoi (N-1, start_line, end_line, suport_line)\n",
    "        print(start_line, end_line)\n",
    "        Hanoi(N-1, suport_line, start_line, end_line)\n",
    "\n",
    "N = int(input())\n",
    "Hanoi_count(N, 1, 2, 3)\n",
    "print(count)\n",
    "Hanoi(N, 1, 2, 3)"
   ]
  }
 ],
 "metadata": {
  "kernelspec": {
   "display_name": "Python 3",
   "language": "python",
   "name": "python3"
  },
  "language_info": {
   "codemirror_mode": {
    "name": "ipython",
    "version": 3
   },
   "file_extension": ".py",
   "mimetype": "text/x-python",
   "name": "python",
   "nbconvert_exporter": "python",
   "pygments_lexer": "ipython3",
   "version": "3.8.3"
  },
  "toc": {
   "base_numbering": 1,
   "nav_menu": {},
   "number_sections": true,
   "sideBar": true,
   "skip_h1_title": false,
   "title_cell": "Table of Contents",
   "title_sidebar": "Contents",
   "toc_cell": false,
   "toc_position": {},
   "toc_section_display": true,
   "toc_window_display": false
  },
  "varInspector": {
   "cols": {
    "lenName": 16,
    "lenType": 16,
    "lenVar": 40
   },
   "kernels_config": {
    "python": {
     "delete_cmd_postfix": "",
     "delete_cmd_prefix": "del ",
     "library": "var_list.py",
     "varRefreshCmd": "print(var_dic_list())"
    },
    "r": {
     "delete_cmd_postfix": ") ",
     "delete_cmd_prefix": "rm(",
     "library": "var_list.r",
     "varRefreshCmd": "cat(var_dic_list()) "
    }
   },
   "types_to_exclude": [
    "module",
    "function",
    "builtin_function_or_method",
    "instance",
    "_Feature"
   ],
   "window_display": false
  }
 },
 "nbformat": 4,
 "nbformat_minor": 4
}
