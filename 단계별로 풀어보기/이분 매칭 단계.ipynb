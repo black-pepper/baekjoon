{
 "cells": [
  {
   "cell_type": "markdown",
   "metadata": {},
   "source": [
    "## 11375번: 열혈강호"
   ]
  },
  {
   "cell_type": "code",
   "execution_count": 32,
   "metadata": {},
   "outputs": [
    {
     "name": "stdout",
     "output_type": "stream",
     "text": [
      "5 5\n",
      "2 1 2\n",
      "1 1\n",
      "2 2 3\n",
      "3 3 4 5\n",
      "1 1\n",
      "4\n"
     ]
    }
   ],
   "source": [
    "#https://m.blog.naver.com/ndb796/221240613074\n",
    "import sys\n",
    "#input = sys.stdin.readline\n",
    "#sys.setrecursionlimit(100000)\n",
    "\n",
    "def DFS(x):\n",
    "    for n in worker[x]:\n",
    "        if visited[n]: continue\n",
    "        visited[n] = 1\n",
    "        if not work[n] or DFS(work[n]):\n",
    "            work[n] = x\n",
    "            return True\n",
    "    return False\n",
    "\n",
    "N, M = map(int, input().split())\n",
    "worker = [[]]\n",
    "for i in range(N):\n",
    "    cmd = list(map(int, input().split()))\n",
    "    worker.append(cmd[1:])\n",
    "\n",
    "work = [0]*(M+1)\n",
    "for i in range(N+1):\n",
    "    visited = [0]*(M+1)\n",
    "    DFS(i)\n",
    "    \n",
    "cnt = 0\n",
    "for i in range(M+1):\n",
    "    if work[i]: cnt+=1\n",
    "print(cnt)"
   ]
  },
  {
   "cell_type": "markdown",
   "metadata": {},
   "source": [
    "## 11375번: 열혈강호 2"
   ]
  },
  {
   "cell_type": "code",
   "execution_count": 6,
   "metadata": {},
   "outputs": [
    {
     "name": "stdout",
     "output_type": "stream",
     "text": [
      "5 5\n",
      "2 1 2\n",
      "2 1 2\n",
      "2 1 2\n",
      "2 4 5\n",
      "0\n"
     ]
    }
   ],
   "source": [
    "import sys\n",
    "#input = sys.stdin.readline\n",
    "#sys.setrecursionlimit(100000)\n",
    "\n",
    "def DFS(x):\n",
    "    for n in worker[x%N+1]:\n",
    "        if visited[n]: continue\n",
    "        visited[n] = 1\n",
    "        if not work[n] or DFS(work[n]):\n",
    "            work[n] = x\n",
    "            return True\n",
    "    return False\n",
    "\n",
    "N, M = map(int, input().split())\n",
    "worker = [[]]\n",
    "for _ in range(N):\n",
    "    cmd = list(map(int, input().split()))\n",
    "    worker.append(cmd[1:])\n",
    "    \n",
    "work = [0]*(M+1)\n",
    "for i in range((N*2)+1):\n",
    "    visited = [0]*(M+1)\n",
    "    DFS(i)\n",
    "    \n",
    "cnt = 0\n",
    "for i in range(M+1):\n",
    "    if work[i]: cnt+=1\n",
    "print(cnt)"
   ]
  },
  {
   "cell_type": "markdown",
   "metadata": {},
   "source": [
    "## 1017번: 소수 쌍"
   ]
  },
  {
   "cell_type": "code",
   "execution_count": 17,
   "metadata": {},
   "outputs": [
    {
     "name": "stdout",
     "output_type": "stream",
     "text": [
      "6\n",
      "1 4 7 10 11 12\n",
      "4 10\n"
     ]
    }
   ],
   "source": [
    "import sys\n",
    "#input = sys.stdin.readline\n",
    "#sys.setrecursionlimit(100000)\n",
    "\n",
    "def DFS(x):\n",
    "    if x==arr[0]: return False\n",
    "    for n in arr[1:]:\n",
    "        if arr[0]%2==n%2: continue\n",
    "        if visited[n] or not prime[x+n]: continue\n",
    "        visited[n] = 1\n",
    "        if match[n] == -1 or DFS(match[n]):\n",
    "            match[n] = x\n",
    "            return True\n",
    "    return False\n",
    "\n",
    "N = int(input())\n",
    "arr = list(map(int, input().split()))\n",
    "\n",
    "#에라토스테네스의체\n",
    "prime = [0, 0] + [1]*(2000)\n",
    "for i in range(2, 2000):\n",
    "    if not prime: continue\n",
    "    for j in range(i+i, len(prime), i): prime[j] = 0\n",
    "        \n",
    "result = []\n",
    "for i in arr[1:]:\n",
    "    if not prime[arr[0]+i]: continue\n",
    "    match = [-1]*(1001)\n",
    "    match[i] = arr[0]\n",
    "    cnt = 1\n",
    "    for j in arr:\n",
    "        if j%2==arr[0]%2:\n",
    "            visited = [0]*(1001)\n",
    "            cnt += DFS(j)\n",
    "    if cnt == N//2: result.append(i)\n",
    "            \n",
    "result.sort()\n",
    "if not result: print(-1)\n",
    "else:print(*result)"
   ]
  },
  {
   "cell_type": "markdown",
   "metadata": {},
   "source": [
    "## 1671번: 상어의 저녁식사"
   ]
  },
  {
   "cell_type": "code",
   "execution_count": 2,
   "metadata": {},
   "outputs": [
    {
     "name": "stdout",
     "output_type": "stream",
     "text": [
      "5\n",
      "4 5 5\n",
      "10 10 8\n",
      "5 7 10\n",
      "8 7 7\n",
      "8 10 3\n",
      "2\n"
     ]
    }
   ],
   "source": [
    "import sys\n",
    "#input = sys.stdin.readline\n",
    "#sys.setrecursionlimit(100000)\n",
    "\n",
    "def compare(x, n):\n",
    "    if shark[x] == shark[n]:\n",
    "        return x < n\n",
    "    return shark[x][0]<shark[n][0] or shark[x][1]<shark[n][1] or shark[x][2]<shark[n][2] \n",
    "\n",
    "def DFS(x):\n",
    "    for n in range(N):\n",
    "        if x==n or compare(x, n): continue\n",
    "        if visited[n]: continue\n",
    "        visited[n] = 1\n",
    "        if eaten[n] == -1 or DFS(eaten[n]):\n",
    "            eaten[n] = x\n",
    "            return True\n",
    "    return False\n",
    "\n",
    "N = int(input())\n",
    "shark = []\n",
    "for _ in range(N):\n",
    "    shark.append(list(map(int, input().split())))\n",
    "    \n",
    "shark.sort()\n",
    "eaten = [-1] * N\n",
    "for i in range(N):\n",
    "    if eaten[i] != -1: continue\n",
    "    for j in range(2):\n",
    "        visited = [0]*(N)\n",
    "        DFS(i)\n",
    "    \n",
    "cnt = 0\n",
    "for i in range(N):\n",
    "    if eaten[i] == -1: cnt+=1\n",
    "print(cnt)"
   ]
  },
  {
   "cell_type": "markdown",
   "metadata": {},
   "source": [
    "## 1867번: 돌멩이 제거"
   ]
  },
  {
   "cell_type": "code",
   "execution_count": 3,
   "metadata": {},
   "outputs": [
    {
     "name": "stdout",
     "output_type": "stream",
     "text": [
      "3 4\n",
      "1 1\n",
      "1 3\n",
      "2 2\n",
      "3 2\n",
      "2\n"
     ]
    }
   ],
   "source": [
    "import sys\n",
    "#input = sys.stdin.readline\n",
    "#sys.setrecursionlimit(100000)\n",
    "\n",
    "def DFS(x):\n",
    "    for n in graph[x]:\n",
    "        if visited[n]: continue\n",
    "        visited[n] = 1\n",
    "        if not match[n] or DFS(match[n]):\n",
    "            match[n] = x\n",
    "            return True\n",
    "    return False\n",
    "\n",
    "N, K = map(int, input().split())\n",
    "graph = [[] for _ in range(N+1)]\n",
    "for i in range(K):\n",
    "    a, b = map(int, input().split())\n",
    "    graph[a].append(b)\n",
    "    \n",
    "match = [0]*(N+1)\n",
    "for i in range(1, N+1):\n",
    "    visited = [0]*(N+1)\n",
    "    DFS(i)\n",
    "print(N+1-match.count(0)) "
   ]
  },
  {
   "cell_type": "markdown",
   "metadata": {},
   "source": [
    "## 11014번: 컨닝 2"
   ]
  },
  {
   "cell_type": "code",
   "execution_count": 2,
   "metadata": {},
   "outputs": [
    {
     "name": "stdout",
     "output_type": "stream",
     "text": [
      "4\n",
      "2 3\n",
      "...\n",
      "...\n",
      "4\n",
      "2 3\n",
      "x.x\n",
      "xxx\n",
      "1\n",
      "2 3\n",
      "x.x\n",
      "x.x\n",
      "2\n",
      "10 10\n",
      "....x.....\n",
      "..........\n",
      "..........\n",
      "..x.......\n",
      "..........\n",
      "x...x.x...\n",
      ".........x\n",
      "...x......\n",
      "........x.\n",
      ".x...x....\n",
      "46\n"
     ]
    }
   ],
   "source": [
    "#https://vicente-blog.com/blog/53/\n",
    "\n",
    "def DFS(v):\n",
    "    visited.add(v)\n",
    "    for n in graph[v]:\n",
    "        if even[n] == -1 or ((even[n] not in visited) and DFS(even[n])):\n",
    "            odd[v], even[n] = n, v\n",
    "            return True\n",
    "    return False\n",
    "\n",
    "C = int(input())\n",
    "for _ in range(C):\n",
    "    N, M = map(int, input().split())\n",
    "    desk = []\n",
    "    for _ in range(N):\n",
    "        desk.append(input().strip())\n",
    "        \n",
    "    graph = [[] for _ in range(N*M)]\n",
    "    even, odd = [-1]*(N*M), [-1]*(N*M)\n",
    "    total = 0\n",
    "    di = [-1, 0, 1, -1, 0, 1]\n",
    "    dj = [-1, -1, -1, 1, 1, 1]\n",
    "\n",
    "    for j in range(M):\n",
    "        for i in range(N):\n",
    "            if desk[i][j] == 'x': continue\n",
    "            total += 1\n",
    "            if j&1: continue\n",
    "\n",
    "            for n in range(6):\n",
    "                ni = i + di[n]\n",
    "                nj = j + dj[n]\n",
    "                if 0<=ni<N and 0<=nj<M and desk[ni][nj] == '.':\n",
    "                    graph[i*M+j].append(ni*M+nj)\n",
    "    ans = 0\n",
    "    for j in range(0, M, 2):\n",
    "        for i in range(N):\n",
    "            visited = set()\n",
    "            if DFS(i*M+j): ans += 1\n",
    "\n",
    "    print(total-ans)"
   ]
  }
 ],
 "metadata": {
  "kernelspec": {
   "display_name": "Python 3",
   "language": "python",
   "name": "python3"
  },
  "language_info": {
   "codemirror_mode": {
    "name": "ipython",
    "version": 3
   },
   "file_extension": ".py",
   "mimetype": "text/x-python",
   "name": "python",
   "nbconvert_exporter": "python",
   "pygments_lexer": "ipython3",
   "version": "3.8.3"
  },
  "toc": {
   "base_numbering": 1,
   "nav_menu": {},
   "number_sections": true,
   "sideBar": true,
   "skip_h1_title": false,
   "title_cell": "Table of Contents",
   "title_sidebar": "Contents",
   "toc_cell": false,
   "toc_position": {},
   "toc_section_display": true,
   "toc_window_display": false
  },
  "varInspector": {
   "cols": {
    "lenName": 16,
    "lenType": 16,
    "lenVar": 40
   },
   "kernels_config": {
    "python": {
     "delete_cmd_postfix": "",
     "delete_cmd_prefix": "del ",
     "library": "var_list.py",
     "varRefreshCmd": "print(var_dic_list())"
    },
    "r": {
     "delete_cmd_postfix": ") ",
     "delete_cmd_prefix": "rm(",
     "library": "var_list.r",
     "varRefreshCmd": "cat(var_dic_list()) "
    }
   },
   "position": {
    "height": "331.832px",
    "left": "742.989px",
    "right": "20px",
    "top": "118.974px",
    "width": "350px"
   },
   "types_to_exclude": [
    "module",
    "function",
    "builtin_function_or_method",
    "instance",
    "_Feature"
   ],
   "window_display": false
  }
 },
 "nbformat": 4,
 "nbformat_minor": 4
}
