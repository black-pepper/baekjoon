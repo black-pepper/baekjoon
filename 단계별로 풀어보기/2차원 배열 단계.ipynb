{
 "cells": [
  {
   "cell_type": "markdown",
   "id": "614cc389",
   "metadata": {},
   "source": [
    "## 2738번: 행렬 덧셈"
   ]
  },
  {
   "cell_type": "code",
   "execution_count": 2,
   "id": "733cd83d",
   "metadata": {},
   "outputs": [
    {
     "name": "stdout",
     "output_type": "stream",
     "text": [
      "3 3\n",
      "1 1 1\n",
      "2 2 2\n",
      "0 1 0\n",
      "3 3 3\n",
      "4 4 4\n",
      "5 5 100\n",
      "4 4 4 \n",
      "6 6 6 \n",
      "5 6 100 \n"
     ]
    }
   ],
   "source": [
    "N, M = map(int, input().split())\n",
    "matrix1 = []\n",
    "for _ in range(N):\n",
    "    matrix1.append(list(map(int, input().split())))\n",
    "    \n",
    "matrix2 = []\n",
    "for _ in range(N):\n",
    "    matrix2.append(list(map(int, input().split())))\n",
    "    \n",
    "for i in range(N):\n",
    "    for j in range(M):\n",
    "        print(matrix1[i][j]+matrix2[i][j], end=' ')\n",
    "    print()"
   ]
  },
  {
   "cell_type": "markdown",
   "id": "7f5a92c1",
   "metadata": {},
   "source": [
    "## 2566번: 최댓값"
   ]
  },
  {
   "cell_type": "code",
   "execution_count": 2,
   "id": "da3771d7",
   "metadata": {},
   "outputs": [
    {
     "name": "stdout",
     "output_type": "stream",
     "text": [
      "3 23 85 34 17 74 25 52 65\n",
      "10 7 39 42 88 52 14 72 63\n",
      "87 42 18 78 53 45 18 84 53\n",
      "34 28 64 85 12 16 75 36 55\n",
      "21 77 45 35 28 75 90 76 1\n",
      "25 87 65 15 28 11 37 28 74\n",
      "65 27 75 41 7 89 78 64 39\n",
      "47 47 70 45 23 65 3 41 44\n",
      "87 13 82 38 31 12 29 29 80\n",
      "90\n",
      "5 7\n"
     ]
    }
   ],
   "source": [
    "max_number = 0\n",
    "result = (0, 0)\n",
    "for i in range(9):\n",
    "    arr = list(map(int, input().split()))\n",
    "    if max(arr)>=max_number:\n",
    "        max_number = max(arr)\n",
    "        result = (i+1, arr.index(max_number)+1)\n",
    "print(max_number)\n",
    "print(*result)"
   ]
  }
 ],
 "metadata": {
  "kernelspec": {
   "display_name": "Python 3 (ipykernel)",
   "language": "python",
   "name": "python3"
  },
  "language_info": {
   "codemirror_mode": {
    "name": "ipython",
    "version": 3
   },
   "file_extension": ".py",
   "mimetype": "text/x-python",
   "name": "python",
   "nbconvert_exporter": "python",
   "pygments_lexer": "ipython3",
   "version": "3.9.12"
  },
  "toc": {
   "base_numbering": 1,
   "nav_menu": {},
   "number_sections": true,
   "sideBar": true,
   "skip_h1_title": false,
   "title_cell": "Table of Contents",
   "title_sidebar": "Contents",
   "toc_cell": false,
   "toc_position": {},
   "toc_section_display": true,
   "toc_window_display": false
  },
  "varInspector": {
   "cols": {
    "lenName": 16,
    "lenType": 16,
    "lenVar": 40
   },
   "kernels_config": {
    "python": {
     "delete_cmd_postfix": "",
     "delete_cmd_prefix": "del ",
     "library": "var_list.py",
     "varRefreshCmd": "print(var_dic_list())"
    },
    "r": {
     "delete_cmd_postfix": ") ",
     "delete_cmd_prefix": "rm(",
     "library": "var_list.r",
     "varRefreshCmd": "cat(var_dic_list()) "
    }
   },
   "types_to_exclude": [
    "module",
    "function",
    "builtin_function_or_method",
    "instance",
    "_Feature"
   ],
   "window_display": false
  }
 },
 "nbformat": 4,
 "nbformat_minor": 5
}
