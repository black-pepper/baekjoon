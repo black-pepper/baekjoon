{
 "cells": [
  {
   "cell_type": "markdown",
   "metadata": {},
   "source": [
    "## 15681번: 트리와 쿼리"
   ]
  },
  {
   "cell_type": "code",
   "execution_count": 10,
   "metadata": {},
   "outputs": [
    {
     "name": "stdout",
     "output_type": "stream",
     "text": [
      "9 5 3\n",
      "1 3\n",
      "4 3\n",
      "5 4\n",
      "5 6\n",
      "6 7\n",
      "2 3\n",
      "9 6\n",
      "6 8\n",
      "5\n",
      "9\n",
      "4\n",
      "4\n",
      "8\n",
      "1\n"
     ]
    }
   ],
   "source": [
    "import sys\n",
    "#input = sys.stdin.readline\n",
    "#sys.setrecursionlimit(100000)\n",
    "\n",
    "N, R, Q = map(int, input().split())\n",
    "tree = [[] for i in range(N+1)]\n",
    "for _ in range(N-1):\n",
    "    a, b = map(int, input().split())\n",
    "    tree[a].append(b)\n",
    "    tree[b].append(a)\n",
    "\n",
    "dp = [1] * (N+1)\n",
    "visited = [0] * (N+1)\n",
    "def DFS(n):\n",
    "    visited[n] = 1\n",
    "    for i in tree[n]:\n",
    "        if not visited[i]:\n",
    "            dp[n] += DFS(i)\n",
    "    return dp[n]\n",
    "DFS(R)\n",
    "\n",
    "for i in range(Q):\n",
    "    print(DFS(int(input())))"
   ]
  }
 ],
 "metadata": {
  "kernelspec": {
   "display_name": "Python 3",
   "language": "python",
   "name": "python3"
  },
  "language_info": {
   "codemirror_mode": {
    "name": "ipython",
    "version": 3
   },
   "file_extension": ".py",
   "mimetype": "text/x-python",
   "name": "python",
   "nbconvert_exporter": "python",
   "pygments_lexer": "ipython3",
   "version": "3.8.3"
  },
  "toc": {
   "base_numbering": 1,
   "nav_menu": {},
   "number_sections": true,
   "sideBar": true,
   "skip_h1_title": false,
   "title_cell": "Table of Contents",
   "title_sidebar": "Contents",
   "toc_cell": false,
   "toc_position": {},
   "toc_section_display": true,
   "toc_window_display": false
  },
  "varInspector": {
   "cols": {
    "lenName": 16,
    "lenType": 16,
    "lenVar": 40
   },
   "kernels_config": {
    "python": {
     "delete_cmd_postfix": "",
     "delete_cmd_prefix": "del ",
     "library": "var_list.py",
     "varRefreshCmd": "print(var_dic_list())"
    },
    "r": {
     "delete_cmd_postfix": ") ",
     "delete_cmd_prefix": "rm(",
     "library": "var_list.r",
     "varRefreshCmd": "cat(var_dic_list()) "
    }
   },
   "types_to_exclude": [
    "module",
    "function",
    "builtin_function_or_method",
    "instance",
    "_Feature"
   ],
   "window_display": false
  }
 },
 "nbformat": 4,
 "nbformat_minor": 4
}
