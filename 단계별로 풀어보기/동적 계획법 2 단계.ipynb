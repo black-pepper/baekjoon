{
 "cells": [
  {
   "cell_type": "markdown",
   "metadata": {},
   "source": [
    "## 11066번: 파일 합치기"
   ]
  },
  {
   "cell_type": "code",
   "execution_count": 2,
   "metadata": {},
   "outputs": [
    {
     "name": "stdout",
     "output_type": "stream",
     "text": [
      "2\n",
      "4\n",
      "40 30 30 50\n",
      "300\n",
      "15\n",
      "1 21 3 4 5 35 5 4 3 5 98 21 14 17 32\n",
      "864\n"
     ]
    }
   ],
   "source": [
    "T = int(input())\n",
    "for t in range(T):\n",
    "    K = int(input())\n",
    "    arr = list(map(int, input().split()))\n",
    "    dp = []\n",
    "    for k in range(K):\n",
    "        dp.append([0] * K)\n",
    "\n",
    "    dp = []\n",
    "    for k in range(K):\n",
    "        dp.append([0] * K)\n",
    "    for i in range(1, K): #대각선열\n",
    "        for j in range(K-i): #대각선 행\n",
    "            row = j #행\n",
    "            col = j+i #열\n",
    "\n",
    "            arr_sum = sum(arr[row:col+1])\n",
    "            dp[row][col] = dp[row][0] + dp[row+1][col] + arr_sum\n",
    "\n",
    "            for k in range(i): #최소값 찾기\n",
    "                dp[row][col] = min(dp[row][col], dp[row][col-i+k]+dp[row+k+1][col]+arr_sum)\n",
    "\n",
    "    print(dp[0][-1])"
   ]
  },
  {
   "cell_type": "markdown",
   "metadata": {},
   "source": [
    "## 11049번: 행렬 곱셈 순서"
   ]
  },
  {
   "cell_type": "code",
   "execution_count": 24,
   "metadata": {},
   "outputs": [
    {
     "name": "stdout",
     "output_type": "stream",
     "text": [
      "3\n",
      "5 3\n",
      "3 2\n",
      "2 6\n",
      "90\n"
     ]
    }
   ],
   "source": [
    "N = int(input())\n",
    "arr = []\n",
    "for n in range(N):\n",
    "    arr.append(list(map(int, input().split())))\n",
    "    \n",
    "dp = []\n",
    "for n in range(N):\n",
    "    dp.append([0] * N)\n",
    "    \n",
    "for i in range(1, N):\n",
    "    for j in range(N-i):\n",
    "        row = j #행\n",
    "        col = j+i #열\n",
    "        dp[row][col] = dp[row][0] + dp[row+1][col] + arr[row][0] * arr[row+1][0] * arr[col][1]\n",
    "        for k in range(i): #최소값 찾기\n",
    "            dp[row][col] = min(dp[row][col], dp[row][k+col-i] + dp[1+k+row][col] + arr[row][0] * arr[col][1] * arr[row+k+1][0])\n",
    "\n",
    "print(dp[0][-1])"
   ]
  },
  {
   "cell_type": "markdown",
   "metadata": {},
   "source": [
    "## 1520번: 내리막 길"
   ]
  },
  {
   "cell_type": "code",
   "execution_count": 1,
   "metadata": {},
   "outputs": [
    {
     "name": "stdout",
     "output_type": "stream",
     "text": [
      "4 5\n",
      "50 45 37 32 30\n",
      "35 50 40 20 25\n",
      "30 30 25 17 28\n",
      "27 24 22 15 10\n",
      "3\n"
     ]
    }
   ],
   "source": [
    "M, N = map(int, input().split())\n",
    "height = []\n",
    "for m in range(M):\n",
    "    height.append(list(map(int, input().split())))\n",
    "    \n",
    "dp = [[0]*N for i in range(M)] #길이 몇개인지 기록\n",
    "dp_check = [[False]*N for i in range(M)] #찾았던 곳인지 기록\n",
    "\n",
    "dp[M-1][N-1] = 1\n",
    "dp_check[M-1][N-1] = True\n",
    "count = 0\n",
    "def get_directions (i, j):\n",
    "    #이미 찾았던 곳인지 확인\n",
    "    if dp_check[i][j] == True:\n",
    "        return True\n",
    "    \n",
    "    if i!=0 and height[i][j]>height[i-1][j]: #상\n",
    "        get_directions(i-1, j)\n",
    "        dp[i][j] += dp[i-1][j]\n",
    "        \n",
    "    if i!=M-1 and height[i][j]>height[i+1][j]: #하\n",
    "        get_directions(i+1, j)\n",
    "        dp[i][j] += dp[i+1][j]\n",
    "        \n",
    "    if j!=0 and height[i][j]>height[i][j-1]: #좌\n",
    "        get_directions(i, j-1)\n",
    "        dp[i][j] += dp[i][j-1]\n",
    "        \n",
    "    if j!=N-1 and height[i][j]>height[i][j+1]: #우\n",
    "        get_directions(i, j+1)\n",
    "        dp[i][j] += dp[i][j+1]\n",
    "        \n",
    "    dp_check[i][j] = True\n",
    "    \n",
    "get_directions(0, 0)\n",
    "print(dp[0][0])"
   ]
  },
  {
   "cell_type": "markdown",
   "metadata": {},
   "source": [
    "## 10942번: 팰린드롬?"
   ]
  },
  {
   "cell_type": "code",
   "execution_count": 7,
   "metadata": {},
   "outputs": [
    {
     "name": "stdout",
     "output_type": "stream",
     "text": [
      "7\n",
      "1 2 1 3 1 2 1\n",
      "4\n",
      "1 3\n",
      "1\n",
      "2 5 \n",
      "0\n",
      "3 3\n",
      "1\n",
      "5 7\n",
      "1\n"
     ]
    }
   ],
   "source": [
    "import sys\n",
    "\n",
    "N = int(sys.stdin.readline().rstrip())\n",
    "arr = list(map(int, sys.stdin.readline().split()))\n",
    "M = int(sys.stdin.readline().rstrip())\n",
    "\n",
    "dp = [[0] * N for i in range(N)]\n",
    "for i in range(N):\n",
    "    dp[i][i] = 1\n",
    "\n",
    "for i in range(1, N):\n",
    "    for j in range(N-i):\n",
    "        #dp[j][j+i]\n",
    "        if arr[j] == arr[j+i]:\n",
    "            if dp[j+1][j+i-1] == 1 or i==1:\n",
    "                dp[j][j+i] = 1\n",
    "\n",
    "for m in range(M):\n",
    "    S, E = map(int, sys.stdin.readline().split())\n",
    "    print(dp[S-1][E-1])"
   ]
  },
  {
   "cell_type": "markdown",
   "metadata": {},
   "source": [
    "## 2629번: 양팔저울"
   ]
  },
  {
   "cell_type": "code",
   "execution_count": 48,
   "metadata": {},
   "outputs": [
    {
     "name": "stdout",
     "output_type": "stream",
     "text": [
      "2\n",
      "1 4\n",
      "2\n",
      "3 2\n",
      "Y N "
     ]
    }
   ],
   "source": [
    "N = int(input())\n",
    "arr = list(map(int, input().split()))\n",
    "T = int(input())\n",
    "T_arr = list(map(int, input().split()))\n",
    "\n",
    "dp = [0] * 80002\n",
    "dp[-arr[0]] = 1\n",
    "dp[0] = 1\n",
    "dp[arr[0]] = 1\n",
    "\n",
    "for a in arr[1:]:\n",
    "    temp = [0] * 80002\n",
    "    for i in range(-40001, 40001):\n",
    "        if dp[i] == 1:\n",
    "            temp[i-a] = 1\n",
    "            temp[i] = 1\n",
    "            temp[i+a] = 1\n",
    "    dp = temp\n",
    "            \n",
    "for t in T_arr:\n",
    "    if dp[t] == 1:\n",
    "        print('Y', end=' ')\n",
    "    else:\n",
    "        print('N', end=' ')"
   ]
  },
  {
   "cell_type": "markdown",
   "metadata": {},
   "source": [
    "## 2293번: 동전 1"
   ]
  },
  {
   "cell_type": "code",
   "execution_count": 22,
   "metadata": {},
   "outputs": [
    {
     "name": "stdout",
     "output_type": "stream",
     "text": [
      "3 10\n",
      "1\n",
      "2\n",
      "5\n",
      "10\n"
     ]
    }
   ],
   "source": [
    "n, k = map(int, input().split())\n",
    "arr = []\n",
    "for i in range(n):\n",
    "    arr.append(int(input()))\n",
    "    \n",
    "dp = [0] * (k+1)\n",
    "dp[0] = 1\n",
    "for i in range(n):\n",
    "    for j in range(arr[i], k+1):\n",
    "        dp[j] = dp[j] + dp[j-arr[i]]\n",
    "        \n",
    "print(dp[-1])"
   ]
  },
  {
   "cell_type": "markdown",
   "metadata": {},
   "source": [
    "## 7579번: 앱"
   ]
  },
  {
   "cell_type": "code",
   "execution_count": 12,
   "metadata": {},
   "outputs": [
    {
     "name": "stdout",
     "output_type": "stream",
     "text": [
      "5 60\n",
      "30 10 20 35 40\n",
      "3 0 3 5 4\n",
      "6\n"
     ]
    }
   ],
   "source": [
    "N, M = map(int, input().split())\n",
    "abled = list(map(int, input().split()))\n",
    "disabled = list(map(int, input().split()))\n",
    "\n",
    "dp = []\n",
    "max_sum = sum(disabled)\n",
    "\n",
    "for i in range(max_sum+1): #비용이 i까지 일 경우\n",
    "    dp.append([0] * (N+1))\n",
    "    for j in range(N): #j번째 앱까지 확인\n",
    "        if i < disabled[j]:\n",
    "            dp[i][j] = dp[i][j-1]\n",
    "        else:\n",
    "            dp[i][j] = max(dp[i-disabled[j]][j-1]+abled[j], dp[i][j-1])\n",
    "    if dp[i][-2] >= M: #최대값이 M이상이면 출력 후 종료\n",
    "        print(i)\n",
    "        break"
   ]
  },
  {
   "cell_type": "code",
   "execution_count": 14,
   "metadata": {},
   "outputs": [
    {
     "data": {
      "text/plain": [
       "[[0, 10, 10, 10, 10, 0],\n",
       " [0, 10, 10, 10, 10, 0],\n",
       " [0, 10, 10, 10, 10, 0],\n",
       " [30, 40, 40, 40, 40, 0],\n",
       " [30, 40, 40, 40, 50, 0],\n",
       " [30, 40, 40, 45, 50, 0],\n",
       " [30, 40, 60, 60, 60, 0]]"
      ]
     },
     "execution_count": 14,
     "metadata": {},
     "output_type": "execute_result"
    }
   ],
   "source": [
    "dp#참고"
   ]
  }
 ],
 "metadata": {
  "kernelspec": {
   "display_name": "Python 3",
   "language": "python",
   "name": "python3"
  },
  "language_info": {
   "codemirror_mode": {
    "name": "ipython",
    "version": 3
   },
   "file_extension": ".py",
   "mimetype": "text/x-python",
   "name": "python",
   "nbconvert_exporter": "python",
   "pygments_lexer": "ipython3",
   "version": "3.8.3"
  },
  "toc": {
   "base_numbering": 1,
   "nav_menu": {},
   "number_sections": true,
   "sideBar": true,
   "skip_h1_title": false,
   "title_cell": "Table of Contents",
   "title_sidebar": "Contents",
   "toc_cell": false,
   "toc_position": {
    "height": "calc(100% - 180px)",
    "left": "10px",
    "top": "150px",
    "width": "143.807px"
   },
   "toc_section_display": true,
   "toc_window_display": true
  },
  "varInspector": {
   "cols": {
    "lenName": 16,
    "lenType": 16,
    "lenVar": 40
   },
   "kernels_config": {
    "python": {
     "delete_cmd_postfix": "",
     "delete_cmd_prefix": "del ",
     "library": "var_list.py",
     "varRefreshCmd": "print(var_dic_list())"
    },
    "r": {
     "delete_cmd_postfix": ") ",
     "delete_cmd_prefix": "rm(",
     "library": "var_list.r",
     "varRefreshCmd": "cat(var_dic_list()) "
    }
   },
   "types_to_exclude": [
    "module",
    "function",
    "builtin_function_or_method",
    "instance",
    "_Feature"
   ],
   "window_display": false
  }
 },
 "nbformat": 4,
 "nbformat_minor": 4
}
