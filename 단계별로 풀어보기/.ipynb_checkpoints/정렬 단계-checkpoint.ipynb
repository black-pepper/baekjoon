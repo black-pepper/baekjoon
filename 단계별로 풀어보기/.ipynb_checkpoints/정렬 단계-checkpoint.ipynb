{
 "cells": [
  {
   "cell_type": "markdown",
   "metadata": {},
   "source": [
    "## 2750번: 수 정렬하기"
   ]
  },
  {
   "cell_type": "code",
   "execution_count": 2,
   "metadata": {},
   "outputs": [
    {
     "name": "stdout",
     "output_type": "stream",
     "text": [
      "5\n",
      "5\n",
      "2\n",
      "3\n",
      "4\n",
      "1\n",
      "1 2 3 4 5 "
     ]
    }
   ],
   "source": [
    "#삽입정렬\n",
    "T = int(input())\n",
    "arr = []\n",
    "\n",
    "for i in range(T):\n",
    "    num = int(input())\n",
    "    if arr == [] : arr.append(num)\n",
    "    else :\n",
    "        for j in range(len(arr)+1):\n",
    "            if j == len(arr) : arr.append(num)\n",
    "            elif arr[j] < num : pass\n",
    "            else :\n",
    "                arr.insert(j, num)\n",
    "                break\n",
    "                    \n",
    "for i in range(T):\n",
    "\tprint(arr[i], end=' ')"
   ]
  },
  {
   "cell_type": "code",
   "execution_count": 3,
   "metadata": {},
   "outputs": [
    {
     "name": "stdout",
     "output_type": "stream",
     "text": [
      "5\n",
      "5\n",
      "2\n",
      "3\n",
      "4\n",
      "1\n",
      "1 2 3 4 5 "
     ]
    }
   ],
   "source": [
    "#거품정렬\n",
    "T = int(input())\n",
    "arr = []\n",
    "\n",
    "for i in range(T):\n",
    "    num = int(input())\n",
    "    arr.append(num)\n",
    "\n",
    "for i in range(T):\n",
    "    for j in range(1, T-i):\n",
    "        if arr[j-1]>arr[j] :\n",
    "            temp = arr[j-1]\n",
    "            arr[j-1] = arr[j]\n",
    "            arr[j] = temp\n",
    "\n",
    "for i in range(T):\n",
    "    print(arr[i], end=' ')"
   ]
  },
  {
   "cell_type": "code",
   "execution_count": 4,
   "metadata": {},
   "outputs": [
    {
     "name": "stdout",
     "output_type": "stream",
     "text": [
      "5\n",
      "5\n",
      "2\n",
      "3\n",
      "4\n",
      "1\n",
      "1 2 3 4 5 "
     ]
    }
   ],
   "source": [
    "#선택정렬\n",
    "T = int(input())\n",
    "arr = []\n",
    "\n",
    "for i in range(T):\n",
    "    num = int(input())\n",
    "    arr.append(num)\n",
    "\n",
    "for i in range(T):\n",
    "    for j in range(i+1, T):\n",
    "        if arr[i]>arr[j] :\n",
    "            temp = arr[i]\n",
    "            arr[i] = arr[j]\n",
    "            arr[j] = temp\n",
    "\n",
    "for i in range(T):\n",
    "    print(arr[i], end=' ')"
   ]
  },
  {
   "cell_type": "markdown",
   "metadata": {},
   "source": [
    "## 2751번: 수 정렬하기 2"
   ]
  },
  {
   "cell_type": "code",
   "execution_count": 7,
   "metadata": {},
   "outputs": [
    {
     "name": "stdout",
     "output_type": "stream",
     "text": [
      "5\n",
      "5\n",
      "4\n",
      "3\n",
      "2\n",
      "1\n",
      "1\n",
      "2\n",
      "3\n",
      "4\n",
      "5\n"
     ]
    }
   ],
   "source": [
    "N = int(input())\n",
    "arr = []\n",
    "\n",
    "for i in range(N):\n",
    "    num = int(input())\n",
    "    arr.append(num)\n",
    "\n",
    "arr.sort()    \n",
    "    \n",
    "for i in range(N):\n",
    "    print(arr[i])"
   ]
  },
  {
   "cell_type": "markdown",
   "metadata": {},
   "source": [
    "## 10989번: 수 정렬하기 3"
   ]
  },
  {
   "cell_type": "code",
   "execution_count": 10,
   "metadata": {},
   "outputs": [
    {
     "name": "stdout",
     "output_type": "stream",
     "text": [
      "10\n",
      "5\n",
      "2\n",
      "3\n",
      "1\n",
      "4\n",
      "2\n",
      "3\n",
      "5\n",
      "1\n",
      "7\n",
      "1\n",
      "1\n",
      "2\n",
      "2\n",
      "3\n",
      "3\n",
      "4\n",
      "5\n",
      "5\n",
      "7\n"
     ]
    }
   ],
   "source": [
    "#제출시 int(input())을 int(sys.stdin.readline())로 변경\n",
    "import sys\n",
    "arr = [0] * 10001\n",
    "N = int(input())\n",
    "\n",
    "for i in range(N):\n",
    "    num = int(input())\n",
    "    arr[num] += 1\n",
    "    \n",
    "for i in range(10001):\n",
    "    for j in range(arr[i]):\n",
    "        print(i)"
   ]
  },
  {
   "cell_type": "markdown",
   "metadata": {},
   "source": [
    "## 2108번: 통계학"
   ]
  },
  {
   "cell_type": "code",
   "execution_count": 10,
   "metadata": {},
   "outputs": [
    {
     "name": "stdout",
     "output_type": "stream",
     "text": [
      "5\n",
      "-1\n",
      "-2\n",
      "-3\n",
      "-1\n",
      "-2\n",
      "-2\n",
      "-2\n",
      "-1\n",
      "2\n"
     ]
    }
   ],
   "source": [
    "N = int(input())\n",
    "\n",
    "arr1 = []\n",
    "arr2 = [0] * 8001\n",
    "\n",
    "for i in range(N):\n",
    "    num = int(input())\n",
    "    arr1.append(num)\n",
    "    arr2[4000+num] += 1\n",
    "\n",
    "arr1.sort()\n",
    "    \n",
    "#산술평균\n",
    "print(round(sum(arr1)/N))\n",
    "\n",
    "#중앙값\n",
    "print(arr1[N//2])\n",
    "\n",
    "#최빈값\n",
    "freq = 0\n",
    "for i in range(8001):\n",
    "    if arr2[i] > freq :\n",
    "        freq = arr2[i]\n",
    "freq_num = []\n",
    "for i in range(8001):\n",
    "    if arr2[i] == freq :\n",
    "        freq_num.append(i-4000)\n",
    "if len(freq_num) == 1 :\n",
    "    print(freq_num[0])\n",
    "else :\n",
    "    print(freq_num[1])\n",
    "    \n",
    "#범위\n",
    "print(max(arr1)-min(arr1))"
   ]
  },
  {
   "cell_type": "markdown",
   "metadata": {},
   "source": [
    "## 1427번: 소트인사이드"
   ]
  },
  {
   "cell_type": "code",
   "execution_count": 9,
   "metadata": {
    "ExecuteTime": {
     "end_time": "2020-10-23T03:20:24.632065Z",
     "start_time": "2020-10-23T03:20:18.830805Z"
    }
   },
   "outputs": [
    {
     "name": "stdout",
     "output_type": "stream",
     "text": [
      "2143\n",
      "4321"
     ]
    }
   ],
   "source": [
    "N = input()\n",
    "N = list(N)\n",
    "N.sort(reverse=True)\n",
    "\n",
    "for i in N:\n",
    "    print(i, end='')"
   ]
  },
  {
   "cell_type": "markdown",
   "metadata": {},
   "source": [
    "## 11650번: 좌표 정렬하기"
   ]
  },
  {
   "cell_type": "code",
   "execution_count": 2,
   "metadata": {},
   "outputs": [
    {
     "name": "stdout",
     "output_type": "stream",
     "text": [
      "5\n",
      "3 4\n",
      "1 1\n",
      "1 -1\n",
      "2 2\n",
      "3 3\n",
      "1 -1\n",
      "1 1\n",
      "2 2\n",
      "3 3\n",
      "3 4\n"
     ]
    }
   ],
   "source": [
    "N = int(input())\n",
    "arr = []\n",
    "\n",
    "for i in range(N):\n",
    "    x, y = map(int, input().split())\n",
    "    arr.append([x, y])\n",
    "\n",
    "arr.sort()\n",
    "for i in range(N):\n",
    "    print(arr[i][0], arr[i][1])"
   ]
  },
  {
   "cell_type": "markdown",
   "metadata": {},
   "source": [
    "## 11651번: 좌표 정렬하기 2"
   ]
  },
  {
   "cell_type": "code",
   "execution_count": 3,
   "metadata": {},
   "outputs": [
    {
     "name": "stdout",
     "output_type": "stream",
     "text": [
      "5\n",
      "0 4\n",
      "1 2\n",
      "1 -1\n",
      "2 2\n",
      "3 3\n",
      "1 -1\n",
      "1 2\n",
      "2 2\n",
      "3 3\n",
      "0 4\n"
     ]
    }
   ],
   "source": [
    "N = int(input())\n",
    "arr = []\n",
    "\n",
    "for i in range(N):\n",
    "    y, x = map(int, input().split())\n",
    "    arr.append([x, y])\n",
    "\n",
    "arr.sort()\n",
    "for i in range(N):\n",
    "    print(arr[i][1], arr[i][0])"
   ]
  },
  {
   "cell_type": "markdown",
   "metadata": {},
   "source": [
    "## 1181번: 단어 정렬"
   ]
  },
  {
   "cell_type": "code",
   "execution_count": 4,
   "metadata": {},
   "outputs": [
    {
     "name": "stdout",
     "output_type": "stream",
     "text": [
      "13\n",
      "but\n",
      "i\n",
      "wont\n",
      "hesitate\n",
      "no\n",
      "more\n",
      "no\n",
      "more\n",
      "it\n",
      "cannot\n",
      "wait\n",
      "im\n",
      "yours\n",
      "i\n",
      "im\n",
      "it\n",
      "no\n",
      "but\n",
      "more\n",
      "wait\n",
      "wont\n",
      "yours\n",
      "cannot\n",
      "hesitate\n"
     ]
    }
   ],
   "source": [
    "N = int(input())\n",
    "arr = []\n",
    "\n",
    "for i in range(N):\n",
    "    word = input()\n",
    "    arr.append([len(word), word])\n",
    "\n",
    "arr.sort()\n",
    "\n",
    "for i in range(len(arr)):\n",
    "    if i == 0 : print(arr[i][1])\n",
    "    elif arr[i-1] == arr[i]: pass\n",
    "    else: print(arr[i][1])"
   ]
  },
  {
   "cell_type": "markdown",
   "metadata": {},
   "source": [
    "## 10814번: 나이순 정렬"
   ]
  },
  {
   "cell_type": "code",
   "execution_count": 6,
   "metadata": {},
   "outputs": [
    {
     "name": "stdout",
     "output_type": "stream",
     "text": [
      "3\n",
      "21 Junkyu\n",
      "21 Dohyun\n",
      "20 Sunyoung\n",
      "20 Sunyoung\n",
      "21 Junkyu\n",
      "21 Dohyun\n"
     ]
    }
   ],
   "source": [
    "N = int(input())\n",
    "arr = []\n",
    "\n",
    "for i in range(N):\n",
    "    age, name = map(str, input().split())\n",
    "    age = int(age)\n",
    "    arr.append([age, i, name])\n",
    "\n",
    "arr.sort()\n",
    "\n",
    "for i in range(N):\n",
    "    print(arr[i][0], arr[i][2])"
   ]
  },
  {
   "cell_type": "markdown",
   "metadata": {},
   "source": [
    "## 18870번: 좌표 압축"
   ]
  },
  {
   "cell_type": "code",
   "execution_count": 32,
   "metadata": {},
   "outputs": [
    {
     "name": "stdout",
     "output_type": "stream",
     "text": [
      "5\n",
      "2 4 -10 4 -9\n",
      "2 3 0 3 1 "
     ]
    }
   ],
   "source": [
    "#https://neomindstd.github.io/%EB%AC%B8%EC%A0%9C%ED%92%80%EC%9D%B4/boj18870/\n",
    "N = int(input())\n",
    "arr = list(map(int, input().split()))\n",
    "sorted_arr = list(sorted(set(arr)))\n",
    "\n",
    "sorted_arr = {sorted_arr[i]:i for i in range(len(sorted_arr))}\n",
    "print(*[sorted_arr[i] for i in arr])"
   ]
  }
 ],
 "metadata": {
  "kernelspec": {
   "display_name": "Python 3",
   "language": "python",
   "name": "python3"
  },
  "language_info": {
   "codemirror_mode": {
    "name": "ipython",
    "version": 3
   },
   "file_extension": ".py",
   "mimetype": "text/x-python",
   "name": "python",
   "nbconvert_exporter": "python",
   "pygments_lexer": "ipython3",
   "version": "3.8.3"
  },
  "toc": {
   "base_numbering": 1,
   "nav_menu": {},
   "number_sections": true,
   "sideBar": true,
   "skip_h1_title": false,
   "title_cell": "Table of Contents",
   "title_sidebar": "Contents",
   "toc_cell": false,
   "toc_position": {},
   "toc_section_display": true,
   "toc_window_display": false
  },
  "varInspector": {
   "cols": {
    "lenName": 16,
    "lenType": 16,
    "lenVar": 40
   },
   "kernels_config": {
    "python": {
     "delete_cmd_postfix": "",
     "delete_cmd_prefix": "del ",
     "library": "var_list.py",
     "varRefreshCmd": "print(var_dic_list())"
    },
    "r": {
     "delete_cmd_postfix": ") ",
     "delete_cmd_prefix": "rm(",
     "library": "var_list.r",
     "varRefreshCmd": "cat(var_dic_list()) "
    }
   },
   "types_to_exclude": [
    "module",
    "function",
    "builtin_function_or_method",
    "instance",
    "_Feature"
   ],
   "window_display": false
  }
 },
 "nbformat": 4,
 "nbformat_minor": 4
}
