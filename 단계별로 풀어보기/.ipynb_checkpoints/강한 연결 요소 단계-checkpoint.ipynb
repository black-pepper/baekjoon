{
 "cells": [
  {
   "cell_type": "markdown",
   "metadata": {},
   "source": [
    "## 2150번: Strongly Connected Component"
   ]
  },
  {
   "cell_type": "code",
   "execution_count": 2,
   "metadata": {},
   "outputs": [
    {
     "name": "stdout",
     "output_type": "stream",
     "text": [
      "7 9\n",
      "1 4\n",
      "4 5\n",
      "5 1\n",
      "1 6\n",
      "6 7\n",
      "2 7\n",
      "7 3\n",
      "3 7\n",
      "7 2\n",
      "3\n",
      "1 4 5 -1\n",
      "2 3 7 -1\n",
      "6 -1\n"
     ]
    }
   ],
   "source": [
    "import sys\n",
    "#input = sys.stdin.readline\n",
    "#sys.setrecursionlimit(10**4)\n",
    "\n",
    "V, E = map(int, input().split())\n",
    "graph = [[] for i in range(V+1)]\n",
    "Rgraph = [[] for i in range(V+1)]\n",
    "for i in range(E):\n",
    "    A, B = map(int, input().split())\n",
    "    graph[A].append(B)\n",
    "    Rgraph[B].append(A)\n",
    "    \n",
    "from collections import deque\n",
    "def DFS(n):\n",
    "    global currentTime\n",
    "    visited[n] = 1\n",
    "    for i in graph[n]:\n",
    "        if visited[i] != 1:\n",
    "            DFS(i)\n",
    "    finishTime[currentTime] = n\n",
    "    currentTime += 1\n",
    "    \n",
    "def RDFS(n):\n",
    "    temp = [n]\n",
    "    stack = deque()\n",
    "    stack.append(n)\n",
    "    visited[n] = 1\n",
    "    while stack:\n",
    "        select = stack.pop()\n",
    "        for i in Rgraph[select]:\n",
    "            if visited[i] != 1:\n",
    "                visited[i] = 1\n",
    "                stack.append(i)\n",
    "                temp.append(i)\n",
    "    return temp\n",
    "\n",
    "currentTime = 0\n",
    "finishTime = [0] * V\n",
    "visited = [0] * (V+1)\n",
    "for i in range(1, V+1):\n",
    "    if visited[i] == 0:\n",
    "        DFS(i)\n",
    "\n",
    "visited = [0] * (V+1)\n",
    "result = []\n",
    "for i in range(V-1, -1, -1):\n",
    "    s = finishTime[i]\n",
    "    if visited[s] != 1:\n",
    "        result.append(RDFS(s))\n",
    "        result[-1].sort()\n",
    "        \n",
    "result.sort()\n",
    "\n",
    "print(len(result))\n",
    "for i in result:\n",
    "    for j in i:\n",
    "        print(j, end=' ')\n",
    "    print(-1)"
   ]
  },
  {
   "cell_type": "markdown",
   "metadata": {},
   "source": [
    "## 4196번: 도미노"
   ]
  },
  {
   "cell_type": "code",
   "execution_count": 64,
   "metadata": {},
   "outputs": [
    {
     "name": "stdout",
     "output_type": "stream",
     "text": [
      "1\n",
      "3 2\n",
      "1 2\n",
      "2 3\n",
      "1\n"
     ]
    }
   ],
   "source": [
    "import sys\n",
    "#input = sys.stdin.readline\n",
    "#sys.setrecursionlimit(10**4)\n",
    "\n",
    "def SCC(n):\n",
    "    global curr\n",
    "    visited[n] = 1\n",
    "    for i in domino[n]:\n",
    "        if visited[i] != 1:\n",
    "            SCC(i)\n",
    "    time[curr] = n\n",
    "    curr += 1\n",
    "    \n",
    "def DFS(n):\n",
    "    visited[n] = 1\n",
    "    for i in domino[n]:\n",
    "        if visited[i] != 1:\n",
    "            DFS(i)\n",
    "\n",
    "T = int(input())\n",
    "for _ in range(T):\n",
    "    N, M = map(int, input().split())\n",
    "    domino = [[] for i in range(N+1)]\n",
    "    for _ in range(M):\n",
    "        x, y = map(int, input().split())\n",
    "        domino[x].append(y)\n",
    "    \n",
    "    curr = 0\n",
    "    time = [0] * (N+1)\n",
    "    visited = [0] * (N+1)\n",
    "    for i in range(1, N+1):\n",
    "        if visited[i] != 1:\n",
    "            SCC(i)\n",
    "\n",
    "    visited = [0] * (N+1)\n",
    "    count = 0\n",
    "    for i in reversed(time[:-1]):\n",
    "        if visited[i] != 1:\n",
    "            DFS(i)\n",
    "            count += 1\n",
    "\n",
    "    print(count)"
   ]
  },
  {
   "cell_type": "markdown",
   "metadata": {},
   "source": [
    "## 3977번: 축구 전술 (미완성)"
   ]
  },
  {
   "cell_type": "code",
   "execution_count": 9,
   "metadata": {},
   "outputs": [
    {
     "name": "stdout",
     "output_type": "stream",
     "text": [
      "4 4\n",
      "0 1\n",
      "1 2\n",
      "2 0\n",
      "2 3\n"
     ]
    }
   ],
   "source": [
    "import sys\n",
    "#input = sys.stdin.readline\n",
    "#sys.setrecursionlimit(10**4)\n",
    "N, M = map(int, input().split())\n",
    "graph = [[]for i in range(N)]\n",
    "Rgraph = [[]for i in range(N)]\n",
    "\n",
    "for _ in range(M):\n",
    "    A, B = map(int, input().split())\n",
    "    graph[A].append(B)\n",
    "    Rgraph[B].append(A)"
   ]
  },
  {
   "cell_type": "code",
   "execution_count": 22,
   "metadata": {},
   "outputs": [],
   "source": [
    "from collections import deque\n",
    "    \n",
    "def SCC(graph):\n",
    "    time = [0] * N\n",
    "    curr = 0\n",
    "    stack = deque()\n",
    "    visited = [0] * N\n",
    "    for i in range(N):\n",
    "        if visited[i] != 1:\n",
    "            stack.append(i)  #DFS\n",
    "            visited[i] = 1\n",
    "            while stack:\n",
    "                select = stack.pop()\n",
    "                time[N-curr-1] = select\n",
    "                curr += 1\n",
    "                for j in graph[select]:\n",
    "                    if visited[j] != 1:\n",
    "                        stack.append(j)\n",
    "                        visited[j] = 1        \n",
    "    return time\n",
    "\n",
    "def DFS(graph, n):\n",
    "    result = []\n",
    "    stack = deque()\n",
    "    stack.append(n)\n",
    "    visited[n] = 1\n",
    "    while stack:\n",
    "        select = stack.pop()\n",
    "        result.append(select)\n",
    "        for i in graph[select]:\n",
    "            if visited[i] != 1:\n",
    "                stack.append(i)\n",
    "                visited[i] = 1\n",
    "    return result\n",
    "\n",
    "time = SCC(graph)\n",
    "visited = [0] * N\n",
    "results = []\n",
    "for i in time:\n",
    "    if visited[i] != 1:\n",
    "        results.append(DFS(Rgraph, i))"
   ]
  }
 ],
 "metadata": {
  "kernelspec": {
   "display_name": "Python 3",
   "language": "python",
   "name": "python3"
  },
  "language_info": {
   "codemirror_mode": {
    "name": "ipython",
    "version": 3
   },
   "file_extension": ".py",
   "mimetype": "text/x-python",
   "name": "python",
   "nbconvert_exporter": "python",
   "pygments_lexer": "ipython3",
   "version": "3.8.3"
  },
  "toc": {
   "base_numbering": 1,
   "nav_menu": {},
   "number_sections": true,
   "sideBar": true,
   "skip_h1_title": false,
   "title_cell": "Table of Contents",
   "title_sidebar": "Contents",
   "toc_cell": false,
   "toc_position": {},
   "toc_section_display": true,
   "toc_window_display": false
  },
  "varInspector": {
   "cols": {
    "lenName": 16,
    "lenType": 16,
    "lenVar": 40
   },
   "kernels_config": {
    "python": {
     "delete_cmd_postfix": "",
     "delete_cmd_prefix": "del ",
     "library": "var_list.py",
     "varRefreshCmd": "print(var_dic_list())"
    },
    "r": {
     "delete_cmd_postfix": ") ",
     "delete_cmd_prefix": "rm(",
     "library": "var_list.r",
     "varRefreshCmd": "cat(var_dic_list()) "
    }
   },
   "types_to_exclude": [
    "module",
    "function",
    "builtin_function_or_method",
    "instance",
    "_Feature"
   ],
   "window_display": false
  }
 },
 "nbformat": 4,
 "nbformat_minor": 4
}
