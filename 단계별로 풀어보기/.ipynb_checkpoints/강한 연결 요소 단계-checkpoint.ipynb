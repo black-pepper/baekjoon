{
 "cells": [
  {
   "cell_type": "markdown",
   "metadata": {},
   "source": [
    "## 2150번: Strongly Connected Component"
   ]
  },
  {
   "cell_type": "code",
   "execution_count": 2,
   "metadata": {},
   "outputs": [
    {
     "name": "stdout",
     "output_type": "stream",
     "text": [
      "7 9\n",
      "1 4\n",
      "4 5\n",
      "5 1\n",
      "1 6\n",
      "6 7\n",
      "2 7\n",
      "7 3\n",
      "3 7\n",
      "7 2\n",
      "3\n",
      "1 4 5 -1\n",
      "2 3 7 -1\n",
      "6 -1\n"
     ]
    }
   ],
   "source": [
    "import sys\n",
    "#input = sys.stdin.readline\n",
    "#sys.setrecursionlimit(10**4)\n",
    "\n",
    "V, E = map(int, input().split())\n",
    "graph = [[] for i in range(V+1)]\n",
    "Rgraph = [[] for i in range(V+1)]\n",
    "for i in range(E):\n",
    "    A, B = map(int, input().split())\n",
    "    graph[A].append(B)\n",
    "    Rgraph[B].append(A)\n",
    "    \n",
    "from collections import deque\n",
    "def DFS(n):\n",
    "    global currentTime\n",
    "    visited[n] = 1\n",
    "    for i in graph[n]:\n",
    "        if visited[i] != 1:\n",
    "            DFS(i)\n",
    "    finishTime[currentTime] = n\n",
    "    currentTime += 1\n",
    "    \n",
    "def RDFS(n):\n",
    "    temp = [n]\n",
    "    stack = deque()\n",
    "    stack.append(n)\n",
    "    visited[n] = 1\n",
    "    while stack:\n",
    "        select = stack.pop()\n",
    "        for i in Rgraph[select]:\n",
    "            if visited[i] != 1:\n",
    "                visited[i] = 1\n",
    "                stack.append(i)\n",
    "                temp.append(i)\n",
    "    return temp\n",
    "\n",
    "currentTime = 0\n",
    "finishTime = [0] * V\n",
    "visited = [0] * (V+1)\n",
    "for i in range(1, V+1):\n",
    "    if visited[i] == 0:\n",
    "        DFS(i)\n",
    "\n",
    "visited = [0] * (V+1)\n",
    "result = []\n",
    "for i in range(V-1, -1, -1):\n",
    "    s = finishTime[i]\n",
    "    if visited[s] != 1:\n",
    "        result.append(RDFS(s))\n",
    "        result[-1].sort()\n",
    "        \n",
    "result.sort()\n",
    "\n",
    "print(len(result))\n",
    "for i in result:\n",
    "    for j in i:\n",
    "        print(j, end=' ')\n",
    "    print(-1)"
   ]
  },
  {
   "cell_type": "markdown",
   "metadata": {},
   "source": [
    "## 4196번: 도미노"
   ]
  },
  {
   "cell_type": "code",
   "execution_count": 64,
   "metadata": {},
   "outputs": [
    {
     "name": "stdout",
     "output_type": "stream",
     "text": [
      "1\n",
      "3 2\n",
      "1 2\n",
      "2 3\n",
      "1\n"
     ]
    }
   ],
   "source": [
    "import sys\n",
    "#input = sys.stdin.readline\n",
    "#sys.setrecursionlimit(10**4)\n",
    "\n",
    "def SCC(n):\n",
    "    global curr\n",
    "    visited[n] = 1\n",
    "    for i in domino[n]:\n",
    "        if visited[i] != 1:\n",
    "            SCC(i)\n",
    "    time[curr] = n\n",
    "    curr += 1\n",
    "    \n",
    "def DFS(n):\n",
    "    visited[n] = 1\n",
    "    for i in domino[n]:\n",
    "        if visited[i] != 1:\n",
    "            DFS(i)\n",
    "\n",
    "T = int(input())\n",
    "for _ in range(T):\n",
    "    N, M = map(int, input().split())\n",
    "    domino = [[] for i in range(N+1)]\n",
    "    for _ in range(M):\n",
    "        x, y = map(int, input().split())\n",
    "        domino[x].append(y)\n",
    "    \n",
    "    curr = 0\n",
    "    time = [0] * (N+1)\n",
    "    visited = [0] * (N+1)\n",
    "    for i in range(1, N+1):\n",
    "        if visited[i] != 1:\n",
    "            SCC(i)\n",
    "\n",
    "    visited = [0] * (N+1)\n",
    "    count = 0\n",
    "    for i in reversed(time[:-1]):\n",
    "        if visited[i] != 1:\n",
    "            DFS(i)\n",
    "            count += 1\n",
    "\n",
    "    print(count)"
   ]
  },
  {
   "cell_type": "markdown",
   "metadata": {},
   "source": [
    "## 3977번: 축구 전술 (미완성)"
   ]
  },
  {
   "cell_type": "code",
   "execution_count": 20,
   "metadata": {},
   "outputs": [
    {
     "name": "stdout",
     "output_type": "stream",
     "text": [
      "2\n",
      "4 4\n",
      "0 1\n",
      "1 2\n",
      "2 0\n",
      "2 3\n",
      "0\n",
      "1\n",
      "2\n",
      "\n",
      "\n",
      "4 4\n",
      "0 3\n",
      "1 0\n",
      "2 0\n",
      "2 3\n",
      "Confused\n",
      "\n"
     ]
    }
   ],
   "source": [
    "import sys\n",
    "#sys.setrecursionlimit(100000)\n",
    "#input = sys.stdin.readline\n",
    "\n",
    "T = int(input())\n",
    "def scc(curr):\n",
    "    global cnt,SN\n",
    "    dfsn[curr] = cnt+1\n",
    "    cnt+=1\n",
    "    st.append(curr)\n",
    "    res = dfsn[curr]\n",
    "    for nx in adj[curr]:\n",
    "        if dfsn[nx]==0:res = min(res, scc(nx))\n",
    "        elif not finished[nx]: res = min(res,dfsn[nx])\n",
    "    \n",
    "    if res == dfsn[curr]:\n",
    "        curSCC = []\n",
    "        while True:\n",
    "            t = st.pop()\n",
    "            curSCC.append(t)\n",
    "            finished[t]=True\n",
    "            sccNum[t]=SN\n",
    "            if t==curr:break\n",
    "        SCC.append(curSCC)\n",
    "        SN+=1\n",
    "    return res\n",
    "def sol():\n",
    "    new_edge = set([num for num in range(len(SCC))])\n",
    "    for i,sc in enumerate(SCC):\n",
    "        for n in sc:\n",
    "            for nx in adj[n]:\n",
    "                if sccNum[nx]==i:continue\n",
    "                if sccNum[nx] in new_edge:\n",
    "                    new_edge.remove(sccNum[nx])\n",
    "    if len(new_edge)==1:\n",
    "        idx = list(new_edge)[0]\n",
    "        return '\\n'.join(map(str,sorted(SCC[idx])))\n",
    "    return \"Confused\"\n",
    "while T:\n",
    "    N, M = map(int,input().split())\n",
    "    adj = [[] for _ in range(N)]\n",
    "    for _ in range(M):\n",
    "        a,b=map(int,input().split())\n",
    "        adj[a].append(b)\n",
    "    dfsn=[0]*(N)\n",
    "    st = []\n",
    "    finished = [False]*(N)\n",
    "    cnt = 0\n",
    "    SN = 0\n",
    "    sccNum = [0]*(N)\n",
    "    SCC = []\n",
    "    for i in range(N):\n",
    "        if dfsn[i]==0:scc(i)\n",
    "    print(sol())\n",
    "    print()\n",
    "    T-=1\n",
    "    if T:\n",
    "        input()"
   ]
  }
 ],
 "metadata": {
  "kernelspec": {
   "display_name": "Python 3",
   "language": "python",
   "name": "python3"
  },
  "language_info": {
   "codemirror_mode": {
    "name": "ipython",
    "version": 3
   },
   "file_extension": ".py",
   "mimetype": "text/x-python",
   "name": "python",
   "nbconvert_exporter": "python",
   "pygments_lexer": "ipython3",
   "version": "3.8.3"
  },
  "toc": {
   "base_numbering": 1,
   "nav_menu": {},
   "number_sections": true,
   "sideBar": true,
   "skip_h1_title": false,
   "title_cell": "Table of Contents",
   "title_sidebar": "Contents",
   "toc_cell": false,
   "toc_position": {},
   "toc_section_display": true,
   "toc_window_display": false
  },
  "varInspector": {
   "cols": {
    "lenName": 16,
    "lenType": 16,
    "lenVar": 40
   },
   "kernels_config": {
    "python": {
     "delete_cmd_postfix": "",
     "delete_cmd_prefix": "del ",
     "library": "var_list.py",
     "varRefreshCmd": "print(var_dic_list())"
    },
    "r": {
     "delete_cmd_postfix": ") ",
     "delete_cmd_prefix": "rm(",
     "library": "var_list.r",
     "varRefreshCmd": "cat(var_dic_list()) "
    }
   },
   "types_to_exclude": [
    "module",
    "function",
    "builtin_function_or_method",
    "instance",
    "_Feature"
   ],
   "window_display": false
  }
 },
 "nbformat": 4,
 "nbformat_minor": 4
}
