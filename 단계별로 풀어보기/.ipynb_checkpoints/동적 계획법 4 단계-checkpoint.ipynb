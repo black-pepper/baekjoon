{
 "cells": [
  {
   "cell_type": "markdown",
   "metadata": {},
   "source": [
    "## 1509번: 팰린드롬 분할"
   ]
  },
  {
   "cell_type": "code",
   "execution_count": 73,
   "metadata": {},
   "outputs": [
    {
     "name": "stdout",
     "output_type": "stream",
     "text": [
      "BBCDDECAECBDABADDCEBACCCBDCAABDBADD\n",
      "22\n"
     ]
    }
   ],
   "source": [
    "#https://it-and-life.tistory.com/143\n",
    "s = ' ' + input()\n",
    "n = len(s)\n",
    "dp = [[0] * (n+1) for i in range(n+1)]\n",
    "\n",
    "for i in range(1, n+1):\n",
    "    dp[i][i] = 1\n",
    "    \n",
    "for i in range(1, n-1):\n",
    "    if s[i] == s[i+1]:\n",
    "        dp[i][i+1] = 1\n",
    "        \n",
    "for i in range(2, n):\n",
    "    for j in range(1, n-i):\n",
    "        if s[j] == s[i+j] and dp[j+1][j+i-1]:\n",
    "            dp[j][j+i] = 1\n",
    "    \n",
    "arr = [0] * (n+1)\n",
    "for i in range(1, n):\n",
    "    arr[i] = 2501\n",
    "    for j in range(1, i+1):\n",
    "        if dp[j][i]:\n",
    "            arr[i] = min(arr[i], arr[j-1]+1)\n",
    "            \n",
    "print(arr[n-1])"
   ]
  },
  {
   "cell_type": "markdown",
   "metadata": {},
   "source": [
    "## 13392번: 방법을 출력하지 않는 숫자 맞추기 (미완성)"
   ]
  },
  {
   "cell_type": "code",
   "execution_count": 10,
   "metadata": {},
   "outputs": [
    {
     "name": "stdout",
     "output_type": "stream",
     "text": [
      "3\n",
      "326\n",
      "446\n",
      "4\n"
     ]
    }
   ],
   "source": [
    "#https://kimcodingvv.github.io/BOJ-13392/\n",
    "dp = [[63]*10 for i in range(10005)]\n",
    "N = int(input())\n",
    "a = [0] + list(map(int, input().strip()))\n",
    "b = [0] + list(map(int, input().strip()))\n",
    "dp[0] = [i for i in range(10)]\n",
    "for i in range(1, N+1):\n",
    "    for j in range(10):\n",
    "        lcnt = (b[i]-j-a[i]+20)%10\n",
    "        rcnt = 10-lcnt\n",
    "        dp[i][j] = min(dp[i][j], dp[i-1][j] + rcnt)\n",
    "        dp[i][(j+lcnt)%10] = min(dp[i][(j+lcnt)%10], dp[i-1][j]+lcnt)\n",
    "\n",
    "ans = int(1e9)\n",
    "for i in range(10):\n",
    "    ans = min(ans, dp[N][i])\n",
    "print(ans)"
   ]
  }
 ],
 "metadata": {
  "kernelspec": {
   "display_name": "Python 3",
   "language": "python",
   "name": "python3"
  },
  "language_info": {
   "codemirror_mode": {
    "name": "ipython",
    "version": 3
   },
   "file_extension": ".py",
   "mimetype": "text/x-python",
   "name": "python",
   "nbconvert_exporter": "python",
   "pygments_lexer": "ipython3",
   "version": "3.8.3"
  },
  "toc": {
   "base_numbering": 1,
   "nav_menu": {},
   "number_sections": true,
   "sideBar": true,
   "skip_h1_title": false,
   "title_cell": "Table of Contents",
   "title_sidebar": "Contents",
   "toc_cell": false,
   "toc_position": {},
   "toc_section_display": true,
   "toc_window_display": false
  },
  "varInspector": {
   "cols": {
    "lenName": 16,
    "lenType": 16,
    "lenVar": 40
   },
   "kernels_config": {
    "python": {
     "delete_cmd_postfix": "",
     "delete_cmd_prefix": "del ",
     "library": "var_list.py",
     "varRefreshCmd": "print(var_dic_list())"
    },
    "r": {
     "delete_cmd_postfix": ") ",
     "delete_cmd_prefix": "rm(",
     "library": "var_list.r",
     "varRefreshCmd": "cat(var_dic_list()) "
    }
   },
   "types_to_exclude": [
    "module",
    "function",
    "builtin_function_or_method",
    "instance",
    "_Feature"
   ],
   "window_display": false
  }
 },
 "nbformat": 4,
 "nbformat_minor": 4
}
