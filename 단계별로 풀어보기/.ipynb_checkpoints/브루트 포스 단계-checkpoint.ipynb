{
 "cells": [
  {
   "cell_type": "markdown",
   "metadata": {},
   "source": [
    "## 2798번: 블랙잭"
   ]
  },
  {
   "cell_type": "code",
   "execution_count": 5,
   "metadata": {},
   "outputs": [
    {
     "name": "stdout",
     "output_type": "stream",
     "text": [
      "10 500\n",
      "93 181 245 214 315 36 185 138 216 295\n",
      "497\n"
     ]
    }
   ],
   "source": [
    "N, M = map(int, input().split())\n",
    "arr = list(map(int, input().split()))\n",
    "sum = 0\n",
    "\n",
    "for i in arr:\n",
    "    for j in arr:\n",
    "        if j == i : continue\n",
    "        for k in arr:\n",
    "            if k == i : continue\n",
    "            if k == j : continue\n",
    "            if i+j+k <= M and M-(i+j+k) < M-sum : sum = i+j+k\n",
    "            if sum == M : break;\n",
    "        if sum == M : break;        \n",
    "    if sum == M : break;\n",
    "\n",
    "print(sum)"
   ]
  },
  {
   "cell_type": "markdown",
   "metadata": {},
   "source": [
    "## 2231번: 분해합"
   ]
  },
  {
   "cell_type": "code",
   "execution_count": 10,
   "metadata": {},
   "outputs": [
    {
     "name": "stdout",
     "output_type": "stream",
     "text": [
      "216\n",
      "198\n"
     ]
    }
   ],
   "source": [
    "N = int(input())\n",
    "start = N//10\n",
    "result = 0\n",
    "\n",
    "for i in range(start,N):\n",
    "    n1 = i%10\n",
    "    n10 = i%100//10\n",
    "    n100 = i%1000//100\n",
    "    n1000 = i%10000//1000\n",
    "    n10000 = i%100000//10000\n",
    "    n100000 = i%1000000//100000\n",
    "    n1000000 = i%10000000//1000000\n",
    "    \n",
    "    if n1 + n10 + n100 + n1000 + n10000 + n100000 + n1000000 + i == N :\n",
    "        result = i\n",
    "        break\n",
    "\n",
    "print(result)"
   ]
  },
  {
   "cell_type": "markdown",
   "metadata": {},
   "source": [
    "## 7568번: 덩치"
   ]
  },
  {
   "cell_type": "code",
   "execution_count": 14,
   "metadata": {},
   "outputs": [
    {
     "name": "stdout",
     "output_type": "stream",
     "text": [
      "5\n",
      "55 185\n",
      "58 183\n",
      "88 186\n",
      "60 175\n",
      "46 155\n",
      "2 2 1 2 5 "
     ]
    }
   ],
   "source": [
    "N = int(input())\n",
    "rank = []\n",
    "\n",
    "for i in range(N):\n",
    "    x, y = map(int, input().split())\n",
    "    rank.append([x,y,1])\n",
    "    \n",
    "for i in range(N):\n",
    "    for j in range(N):\n",
    "        if rank[i][0]<rank[j][0] and rank[i][1]<rank[j][1] :\n",
    "            rank[i][2] += 1\n",
    "\n",
    "for i in range(N):\n",
    "    print(rank[i][2], end=' ')"
   ]
  },
  {
   "cell_type": "markdown",
   "metadata": {},
   "source": [
    "## 1018번: 체스판 다시 칠하기"
   ]
  },
  {
   "cell_type": "code",
   "execution_count": 14,
   "metadata": {},
   "outputs": [
    {
     "name": "stdout",
     "output_type": "stream",
     "text": [
      "10 13\n",
      "BBBBBBBBWBWBW\n",
      "BBBBBBBBBWBWB\n",
      "BBBBBBBBWBWBW\n",
      "BBBBBBBBBWBWB\n",
      "BBBBBBBBWBWBW\n",
      "BBBBBBBBBWBWB\n",
      "BBBBBBBBWBWBW\n",
      "BBBBBBBBBWBWB\n",
      "WWWWWWWWWWBWB\n",
      "WWWWWWWWWWBWB\n",
      "12\n"
     ]
    }
   ],
   "source": [
    "board1 = ['WBWBWBWB',\n",
    "    'BWBWBWBW',\n",
    "    'WBWBWBWB',\n",
    "    'BWBWBWBW',\n",
    "    'WBWBWBWB',\n",
    "    'BWBWBWBW',\n",
    "    'WBWBWBWB',\n",
    "    'BWBWBWBW']\n",
    "\n",
    "board2 = ['BWBWBWBW',\n",
    "    'WBWBWBWB',\n",
    "    'BWBWBWBW',\n",
    "    'WBWBWBWB',\n",
    "    'BWBWBWBW',\n",
    "    'WBWBWBWB',\n",
    "    'BWBWBWBW',\n",
    "    'WBWBWBWB']\n",
    "\n",
    "N, M = map(int, input().split())\n",
    "input_board = []\n",
    "\n",
    "for i in range(N):\n",
    "        input_BW = input()\n",
    "        input_board.append(input_BW)\n",
    "\n",
    "count = 0\n",
    "count_min = 251\n",
    "for i in range(N-8+1):\n",
    "    for j in range(M-8+1):\n",
    "        for k in range(8):\n",
    "            for l in range(8):\n",
    "                if input_board[i+k][j+l:j+l+1] == board1[k][l:l+1] : pass\n",
    "                else : count += 1\n",
    "        if count < count_min : count_min = count\n",
    "        count = 0\n",
    "        for k in range(8):\n",
    "            for l in range(8):\n",
    "                if input_board[i+k][j+l:j+l+1] == board2[k][l:l+1] : pass\n",
    "                else : count += 1\n",
    "        if count < count_min : count_min = count\n",
    "        count = 0\n",
    "\n",
    "print(count_min)"
   ]
  },
  {
   "cell_type": "markdown",
   "metadata": {},
   "source": [
    "## 1436번: 영화감독 숌"
   ]
  },
  {
   "cell_type": "code",
   "execution_count": 9,
   "metadata": {},
   "outputs": [
    {
     "name": "stdout",
     "output_type": "stream",
     "text": [
      "9\n",
      "6662\n"
     ]
    }
   ],
   "source": [
    "N = int(input())\n",
    "count = 0\n",
    "i = 666\n",
    "\n",
    "while True:\n",
    "    if '666' in str(i) : count += 1\n",
    "    if count == N : break\n",
    "    i += 1\n",
    "\n",
    "print(i)"
   ]
  },
  {
   "cell_type": "markdown",
   "metadata": {},
   "source": [
    "## 2589번: 보물섬"
   ]
  },
  {
   "cell_type": "code",
   "execution_count": 1,
   "metadata": {},
   "outputs": [
    {
     "name": "stdout",
     "output_type": "stream",
     "text": [
      "5 7\n",
      "WLLWWWL\n",
      "LLLWLLL\n",
      "LWLWLWW\n",
      "LWLWLLL\n",
      "WLLWLWW\n",
      "8\n"
     ]
    }
   ],
   "source": [
    "import sys\n",
    "#input = sys.stdin.readline\n",
    "from collections import deque\n",
    "ni = [-1, 1, 0, 0]\n",
    "nj = [0, 0, -1, 1]\n",
    "def BFS(i, j):\n",
    "    visited = [[0]*M for _ in range(N)]\n",
    "    queue = deque()\n",
    "    queue.append((i, j, 0))\n",
    "    visited[i][j] = 1\n",
    "    result = 0\n",
    "    while queue:\n",
    "        i, j, t= queue.popleft()\n",
    "        result = max(result, t)\n",
    "        for n in range(4):\n",
    "            if 0 <= i+ni[n] < N and 0<= j+nj[n]<M:\n",
    "                if visited[i+ni[n]][j+nj[n]] == 0 and maps[i+ni[n]][j+nj[n]] == 'L':\n",
    "                    queue.append((i+ni[n], j+nj[n], t+1))\n",
    "                    visited[i+ni[n]][j+nj[n]] = t\n",
    "    return result\n",
    "\n",
    "N, M = map(int, input().split())\n",
    "maps = []\n",
    "for i in range(N):\n",
    "    maps.append(list(map(str, input().strip())))\n",
    "\n",
    "ans = 0\n",
    "for i in range(N):\n",
    "    for j in range(M):\n",
    "        if maps[i][j] == 'L':\n",
    "            ans = max(ans, BFS(i, j))\n",
    "print(ans)"
   ]
  }
 ],
 "metadata": {
  "kernelspec": {
   "display_name": "Python 3",
   "language": "python",
   "name": "python3"
  },
  "toc": {
   "base_numbering": 1,
   "nav_menu": {},
   "number_sections": true,
   "sideBar": true,
   "skip_h1_title": false,
   "title_cell": "Table of Contents",
   "title_sidebar": "Contents",
   "toc_cell": false,
   "toc_position": {},
   "toc_section_display": true,
   "toc_window_display": false
  },
  "varInspector": {
   "cols": {
    "lenName": 16,
    "lenType": 16,
    "lenVar": 40
   },
   "kernels_config": {
    "python": {
     "delete_cmd_postfix": "",
     "delete_cmd_prefix": "del ",
     "library": "var_list.py",
     "varRefreshCmd": "print(var_dic_list())"
    },
    "r": {
     "delete_cmd_postfix": ") ",
     "delete_cmd_prefix": "rm(",
     "library": "var_list.r",
     "varRefreshCmd": "cat(var_dic_list()) "
    }
   },
   "types_to_exclude": [
    "module",
    "function",
    "builtin_function_or_method",
    "instance",
    "_Feature"
   ],
   "window_display": false
  }
 },
 "nbformat": 4,
 "nbformat_minor": 4
}
