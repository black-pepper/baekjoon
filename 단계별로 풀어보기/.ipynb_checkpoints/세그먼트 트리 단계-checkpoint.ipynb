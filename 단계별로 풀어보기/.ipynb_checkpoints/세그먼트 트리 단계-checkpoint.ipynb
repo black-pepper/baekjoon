{
 "cells": [
  {
   "cell_type": "markdown",
   "metadata": {},
   "source": [
    "## 11659번: 구간 합 구하기 4"
   ]
  },
  {
   "cell_type": "code",
   "execution_count": 8,
   "metadata": {},
   "outputs": [
    {
     "name": "stdout",
     "output_type": "stream",
     "text": [
      "5 3\n",
      "5 4 3 2 1\n",
      "1 3\n",
      "12\n",
      "2 4\n",
      "9\n",
      "5 5\n",
      "1\n"
     ]
    }
   ],
   "source": [
    "import sys\n",
    "#input = sys.stdin.readline\n",
    "\n",
    "N, M = map(int, input().split())\n",
    "arr = list(map(int, input().split()))\n",
    "for i in range(1, N):\n",
    "    arr[i] += arr[i-1]\n",
    "arr += [0, 0]\n",
    "    \n",
    "for i in range(M):\n",
    "    a, b = map(int, input().split())\n",
    "    print(arr[b-1]-arr[a-2])"
   ]
  },
  {
   "cell_type": "markdown",
   "metadata": {},
   "source": [
    "## 2042번: 구간 합 구하기"
   ]
  },
  {
   "cell_type": "code",
   "execution_count": 33,
   "metadata": {},
   "outputs": [
    {
     "name": "stdout",
     "output_type": "stream",
     "text": [
      "5 2 2\n",
      "1\n",
      "2\n",
      "3\n",
      "4\n",
      "5\n",
      "1 3 6\n",
      "2 2 5\n",
      "17\n",
      "1 5 2\n",
      "2 3 5\n",
      "12\n"
     ]
    }
   ],
   "source": [
    "import sys\n",
    "#input = sys.stdin.readline\n",
    "#sys.setrecursionlimit(10**4)\n",
    "\n",
    "def init(start, end, node):\n",
    "    if start == end:\n",
    "        tree[node] = arr[start]\n",
    "    else:\n",
    "        mid = (start+end)//2\n",
    "        tree[node] = init(start, mid, node*2) + init(mid+1, end, node*2+1)\n",
    "    return tree[node]\n",
    "\n",
    "def tree_sum(start, end, node, left, right):\n",
    "    if left>end or right<start:\n",
    "        return 0\n",
    "    if left<=start and end<=right:\n",
    "        return tree[node]\n",
    "    mid = (start + end)//2\n",
    "    return tree_sum(start, mid, node*2, left, right) + tree_sum(mid+1, end, node*2+1, left, right)\n",
    "\n",
    "def update(start, end, node, index, dif):\n",
    "    if index<start or index>end:\n",
    "        return\n",
    "    tree[node] += dif\n",
    "    if start == end:\n",
    "        return\n",
    "    mid = (start + end)//2\n",
    "    update(start, mid, node*2, index, dif)\n",
    "    update(mid+1, end, node*2+1, index, dif)\n",
    "\n",
    "N, M, K = map(int, input().split())\n",
    "arr = []\n",
    "tree = [0] * (4*N)\n",
    "for i in range(N):\n",
    "    arr.append(int(input()))\n",
    "init(0, N-1, 1)\n",
    "for i in range(M+K):\n",
    "    a, b, c = map(int, input().split())\n",
    "    if a == 1:\n",
    "        update(0, N-1, 1, b-1, c-arr[b-1])\n",
    "        arr[b-1] = c\n",
    "    else:\n",
    "        print(tree_sum(0, N-1, 1, b-1, c-1))"
   ]
  },
  {
   "cell_type": "markdown",
   "metadata": {},
   "source": [
    "## 11505번: 구간 곱 구하기"
   ]
  },
  {
   "cell_type": "code",
   "execution_count": 20,
   "metadata": {},
   "outputs": [
    {
     "name": "stdout",
     "output_type": "stream",
     "text": [
      "5 2 2\n",
      "1\n",
      "2\n",
      "3\n",
      "4\n",
      "5\n",
      "1 3 6\n",
      "2 2 5\n",
      "240\n",
      "1 5 2\n",
      "2 3 5\n",
      "48\n"
     ]
    }
   ],
   "source": [
    "import sys\n",
    "#input = sys.stdin.readline\n",
    "#sys.setrecursionlimit(10**4)\n",
    "\n",
    "def init(start, end, node):\n",
    "    if start == end:\n",
    "        tree[node] = arr[start]\n",
    "    else:\n",
    "        mid = (start+end)//2\n",
    "        tree[node] = (init(start, mid, node*2) * init(mid+1, end, node*2+1))%1000000007\n",
    "    return tree[node]\n",
    "\n",
    "def tree_mul(start, end, node, left, right):\n",
    "    if left>end or right<start:\n",
    "        return 1\n",
    "    if left<=start and end<=right:\n",
    "        return tree[node]\n",
    "    mid = (start+end)//2\n",
    "    return (tree_mul(start, mid, node*2, left, right) * tree_mul(mid+1, end, node*2+1, left, right))%1000000007\n",
    "\n",
    "def update(start, end, node, index, after):\n",
    "    if index<start or index>end:\n",
    "        pass\n",
    "    elif start == end:\n",
    "        tree[node] = after\n",
    "    else:\n",
    "        mid = (start + end)//2\n",
    "        left = update(start, mid, node*2, index, after)\n",
    "        right = update(mid+1, end, node*2+1, index, after)\n",
    "        tree[node] = (left*right)%1000000007\n",
    "    return tree[node]\n",
    "\n",
    "N, M, K = map(int, input().split())\n",
    "arr = []\n",
    "tree = [0] * (4*N)\n",
    "for i in range(N):\n",
    "    arr.append(int(input()))\n",
    "init(0, N-1, 1)\n",
    "for i in range(M+K):\n",
    "    a, b, c = map(int, input().split())\n",
    "    if a == 1:\n",
    "        update(0, N-1, 1, b-1, c)\n",
    "        arr[b-1] = c\n",
    "    else:\n",
    "        print(tree_mul(0, N-1, 1, b-1, c-1))"
   ]
  },
  {
   "cell_type": "markdown",
   "metadata": {},
   "source": [
    "## 2357번: 최솟값과 최댓값"
   ]
  },
  {
   "cell_type": "code",
   "execution_count": 6,
   "metadata": {},
   "outputs": [
    {
     "name": "stdout",
     "output_type": "stream",
     "text": [
      "10 4\n",
      "75\n",
      "30\n",
      "100\n",
      "38\n",
      "50\n",
      "51\n",
      "52\n",
      "20\n",
      "81\n",
      "5\n",
      "1 10\n",
      "5 100\n",
      "3 5\n",
      "38 100\n",
      "6 9\n",
      "20 81\n",
      "8 10\n",
      "5 81\n"
     ]
    }
   ],
   "source": [
    "import sys\n",
    "#input = sys.stdin.readline\n",
    "#sys.setrecursionlimit(10**4)\n",
    "\n",
    "def init(start, end, node):\n",
    "    if start == end:\n",
    "        tree[node] = [arr[start], arr[start]]\n",
    "    else:\n",
    "        mid = (start+end)//2\n",
    "        temp1 = init(start, mid, node*2)\n",
    "        temp2 = init(mid+1, end, node*2+1)\n",
    "        tree[node] = [min(temp1+temp2), max(temp1+temp2)]\n",
    "    return tree[node]\n",
    "\n",
    "def tree_find(start, end, node, left, right):\n",
    "    if left>end or right<start:\n",
    "        return [1000000001, 0]\n",
    "    if left<=start and end<=right:\n",
    "        return tree[node]\n",
    "    mid = (start+end)//2\n",
    "    temp1 = tree_find(start, mid, node*2, left, right)\n",
    "    temp2 = tree_find(mid+1, end, node*2+1, left, right)\n",
    "    return [min(temp1[0], temp2[0]), max(temp1[1], temp2[1])]\n",
    "\n",
    "N, M = map(int, input().split())\n",
    "arr = []\n",
    "tree = [0] * (4*N)\n",
    "for i in range(N):\n",
    "    arr.append(int(input()))\n",
    "init(0, N-1, 1)\n",
    "\n",
    "for i in range(M):\n",
    "    a, b = map(int, input().split())\n",
    "    max_value, min_value = tree_find(0, N-1, 1, a-1, b-1)\n",
    "    print(max_value, min_value)"
   ]
  },
  {
   "cell_type": "markdown",
   "metadata": {},
   "source": [
    "## 1517번: 버블 소트"
   ]
  },
  {
   "cell_type": "code",
   "execution_count": 16,
   "metadata": {},
   "outputs": [
    {
     "name": "stdout",
     "output_type": "stream",
     "text": [
      "3\n",
      "3 2 1\n",
      "3\n"
     ]
    }
   ],
   "source": [
    "#https://peisea0830.tistory.com/51\n",
    "import sys\n",
    "#input = sys.stdin.readline\n",
    "\n",
    "def update(tree, index, num):\n",
    "    while index <= N:\n",
    "        tree[index] += num\n",
    "        index += (index & -index)\n",
    "        \n",
    "def find(tree, start, end):\n",
    "    if end < start:\n",
    "        return 0\n",
    "    result = 0\n",
    "    index = end\n",
    "    while index > 0:\n",
    "        result += tree[index]\n",
    "        index -= (index & -index)\n",
    "    index = start -1\n",
    "    while index>0:\n",
    "        result -= tree[index]\n",
    "        index -= (index & -index)\n",
    "    return result\n",
    "\n",
    "def relation_convert(arr):\n",
    "    sort_arr = sorted(arr)\n",
    "    mid = dict().fromkeys(sort_arr, 0)\n",
    "    result = []\n",
    "    visited = [False] * (len(arr)+1)\n",
    "    for index, temp in enumerate(mid):\n",
    "        mid[temp] = index + 1\n",
    "    for i in arr:\n",
    "        if visited[mid[i]] == False:\n",
    "            result.append(mid[i])\n",
    "            visited[mid[i]] = True\n",
    "    return result\n",
    "\n",
    "N = int(input())\n",
    "before = list(map(int, input().split()))\n",
    "after = relation_convert(before)\n",
    "\n",
    "ftr = [0] * (N+1)\n",
    "count = 0\n",
    "for i in range(len(after)):\n",
    "    count += (find(ftr, after[i], len(after)))\n",
    "    update(ftr, after[i], 1)\n",
    "print(count)"
   ]
  },
  {
   "cell_type": "markdown",
   "metadata": {},
   "source": [
    "## 9345번: 디지털 비디오 디스크(DVDs) (미완성)"
   ]
  },
  {
   "cell_type": "code",
   "execution_count": 8,
   "metadata": {},
   "outputs": [],
   "source": [
    "def tree_init(start, end, node):\n",
    "    if start == end:\n",
    "        tree[node] = [start, start]\n",
    "    else:\n",
    "        mid = (start+end)//2\n",
    "        left_node = tree_init(start, mid, node*2)\n",
    "        right_node = tree_init(mid+1, end, node*2+1)\n",
    "        tree[node] = [left_node[0], right_node[1]]\n",
    "    return tree[node]\n",
    "\n",
    "MAX = 50000\n",
    "def tree_find(start, end, node, left, right):\n",
    "    if start > right or end < left:\n",
    "        return True\n",
    "    if start >= left and end <= right:\n",
    "        return left <= tree[node][0] and right >= tree[node][1]\n",
    "    mid = (start+end)//2\n",
    "    left_result = tree_find(start, mid, node*2, left, right)\n",
    "    right_result = tree_find(mid+1, end, node*2+1, left, right)\n",
    "    return left_result and right_result\n",
    "\n",
    "def tree_update(start, end, node, index, num):\n",
    "    if start > index or end < index:\n",
    "        return tree[node]\n",
    "    if start == end:\n",
    "        tree[node] = [num, num]\n",
    "    else:\n",
    "        mid = (start+end)//2\n",
    "        left_node = tree_update(start, mid, node*2, index, num)\n",
    "        right_node = tree_update(mid+1, end, node*2+1, index, num)\n",
    "        tree[node] = [min(left_node[0], right_node[0]), max(left_node[1], right_node[1])]\n",
    "    return tree[node]"
   ]
  },
  {
   "cell_type": "code",
   "execution_count": 9,
   "metadata": {},
   "outputs": [
    {
     "name": "stdout",
     "output_type": "stream",
     "text": [
      "2\n",
      "5 8\n",
      "1 0 4\n",
      "YES\n",
      "1 1 2\n",
      "YES\n",
      "0 1 3\n",
      "1 2 2\n",
      "YES\n",
      "1 1 3\n",
      "YES\n",
      "1 0 0\n",
      "YES\n",
      "1 0 2\n",
      "NO\n",
      "1 2 4\n",
      "NO\n",
      "5 5\n",
      "0 1 2\n",
      "0 2 3\n",
      "0 1 3\n",
      "1 0 1\n",
      "YES\n",
      "1 0 2\n",
      "NO\n"
     ]
    }
   ],
   "source": [
    "import sys\n",
    "#input = sys.stdin.readline\n",
    "#sys.setrecursionlimit(10**4)\n",
    "\n",
    "T = int(input())\n",
    "for _ in range(T):\n",
    "    N, K = map(int, input().split())\n",
    "    arr = [i for i in range(N)]\n",
    "    tree = [0] * (N*4)\n",
    "    tree_init(0, N-1, 1)\n",
    "    for i in range(K):\n",
    "        Q, A, B = map(int, input().split())\n",
    "        if Q == 0:\n",
    "            tree_update(0, N-1, 1, A, arr[B])\n",
    "            tree_update(0, N-1, 1, B, arr[A])\n",
    "            arr[A], arr[B] = arr[B], arr[A]\n",
    "        else:\n",
    "            if tree_find(0, N-1, 1, A, B):\n",
    "                print('YES')\n",
    "            else:\n",
    "                print('NO')"
   ]
  },
  {
   "cell_type": "markdown",
   "metadata": {},
   "source": [
    "## 16975번: 수열과 쿼리 21"
   ]
  },
  {
   "cell_type": "code",
   "execution_count": 1,
   "metadata": {},
   "outputs": [
    {
     "name": "stdout",
     "output_type": "stream",
     "text": [
      "5\n",
      "1 2 3 4 5\n",
      "4\n",
      "1 3 4 6\n",
      "2 3\n",
      "9\n",
      "1 1 3 -2\n",
      "2 3\n",
      "7\n"
     ]
    }
   ],
   "source": [
    "import sys\n",
    "#input = sys.stdin.readline\n",
    "#sys.setrecursionlimit(10**4)\n",
    "\n",
    "def tree_init(start, end, node):\n",
    "    if start == end:\n",
    "        tree[node] = A[start]\n",
    "    else:\n",
    "        mid = (start + end)//2\n",
    "        tree[node] = tree_init(start, mid, node*2) + tree_init(mid+1, end, node*2+1)\n",
    "    return tree[node]\n",
    "\n",
    "def tree_find(start, end, node, left, right):\n",
    "    lazy_update(start, end, node)\n",
    "    if left>end or right<start:\n",
    "        return 0\n",
    "    if left<=start and end<=right:\n",
    "        return tree[node]\n",
    "    mid = (start+end)//2\n",
    "    return tree_find(start, mid, node*2, left, right) + tree_find(mid+1, end, node*2+1, left, right)\n",
    "\n",
    "def lazy_update(start, end, node):\n",
    "    if lazy[node] == 0:\n",
    "        return\n",
    "    tree[node] += (end-start+1) * lazy[node]\n",
    "    if start != end:\n",
    "        lazy[node*2] = lazy[node*2] + lazy[node]\n",
    "        lazy[node*2+1] = lazy[node*2+1] + lazy[node]\n",
    "    lazy[node] = 0\n",
    "\n",
    "def tree_update(start, end, node, left, right, num):\n",
    "    lazy_update(start, end, node)\n",
    "    if end < left or start > right:\n",
    "        return\n",
    "    if left <= start and end <= right:\n",
    "        tree[node] += (end - start + 1) * num\n",
    "        if start != end:\n",
    "            lazy[node*2] += num\n",
    "            lazy[node*2+1] += num\n",
    "        return\n",
    "        \n",
    "    mid = (start+end)//2\n",
    "    tree_update(start, mid, node*2, left, right, num)\n",
    "    tree_update(mid+1, end, node*2+1, left, right, num)\n",
    "    tree[node] = tree[node*2] + tree[node*2+1]\n",
    "    \n",
    "N = int(input())\n",
    "A = list(map(int, input().split()))\n",
    "\n",
    "tree = [0] * (N*4)\n",
    "lazy = [0] * (N*4)\n",
    "tree_init(0, N-1, 1)\n",
    "\n",
    "M = int(input())\n",
    "for i in range(M):\n",
    "    query = list(map(int, input().split()))\n",
    "    if query[0] == 1:\n",
    "        tree_update(0, N-1, 1, query[1]-1, query[2]-1,query[3])\n",
    "    else:\n",
    "        print(tree_find(0, N-1, 1, query[1]-1, query[1]-1))"
   ]
  },
  {
   "cell_type": "markdown",
   "metadata": {},
   "source": [
    "## 1168번: 요세푸스 문제 2 (시간초과)"
   ]
  },
  {
   "cell_type": "code",
   "execution_count": 94,
   "metadata": {},
   "outputs": [
    {
     "name": "stdout",
     "output_type": "stream",
     "text": [
      "7 3\n",
      "<3, 6, 2, 7, 5, 1, 4>"
     ]
    }
   ],
   "source": [
    "import sys\n",
    "#input = sys.stdin.readline\n",
    "\n",
    "def tree_init(start, end, node):\n",
    "    if start == end:\n",
    "        tree[node] = 1\n",
    "    else:\n",
    "        mid = (start+end)//2\n",
    "        tree[node] = tree_init(start, mid, node*2) + tree_init(mid+1, end, node*2+1)\n",
    "    return tree[node]\n",
    "\n",
    "def tree_find(start, end, node, order):\n",
    "    if start == end:\n",
    "        return start\n",
    "    mid = (start+end)//2\n",
    "    if order <= tree[node*2]:\n",
    "        return tree_find(start, mid, node*2, order)\n",
    "    else:\n",
    "        return tree_find(mid+1, end, node*2+1, order-tree[2*node])\n",
    "    \n",
    "def tree_update(start, end, node, index):\n",
    "    tree[node] -= 1\n",
    "    if start == end:\n",
    "        return 0\n",
    "    mid = (start+end)//2\n",
    "    if index <= mid:\n",
    "        return tree_update(start, mid, node*2, index)\n",
    "    else:\n",
    "        return tree_update(mid+1, end, node*2+1, index)\n",
    "    \n",
    "N, K = map(int, input().split())\n",
    "tree = [0 for _ in range(1<<18)]\n",
    "tree_init(0, N-1, 1)\n",
    "\n",
    "order = 1\n",
    "print('<', end='')\n",
    "for i in range(N):\n",
    "    order += K -1\n",
    "    size = N-i\n",
    "    \n",
    "    if order%size == 0:\n",
    "        order = size\n",
    "    elif order > size:\n",
    "        order %= size\n",
    "    \n",
    "    index = tree_find(1, N, 1, order)\n",
    "    tree_update(1, N, 1, index)\n",
    "        \n",
    "    if (i!=N-1):\n",
    "        print(index, end=', ')\n",
    "    else:\n",
    "        print(index, end='>')"
   ]
  },
  {
   "cell_type": "markdown",
   "metadata": {},
   "source": [
    "## 12899번: 데이터 구조 (시간초과)"
   ]
  },
  {
   "cell_type": "code",
   "execution_count": 20,
   "metadata": {},
   "outputs": [
    {
     "name": "stdout",
     "output_type": "stream",
     "text": [
      "5\n",
      "1 11\n",
      "1 29\n",
      "1 89\n",
      "2 2\n",
      "29\n",
      "2 2\n",
      "89\n"
     ]
    }
   ],
   "source": [
    "import sys\n",
    "#input = sys.stdin.readline\n",
    "\n",
    "MAX = 2000000\n",
    "tree = [0] * (MAX+1)*4\n",
    "#X추가\n",
    "def tree_update(start, end, node, index): #시작범위, 끝범위, 현재위치, 입력하려고 하는 수\n",
    "    tree[node] += 1\n",
    "    if start == end: #위치에 도착하면 1 입력\n",
    "        return\n",
    "    mid = (start+end)//2\n",
    "    if mid>=index: tree_update(start, mid, node*2, index) #왼쪽 자식 노드로\n",
    "    else: tree_update(mid+1, end, node*2+1, index) #오른쪽 자식 노드로\n",
    "    \n",
    "#X번째로 작은 수 응답하고 삭제\n",
    "def tree_find(start, end, node, num):\n",
    "    tree[node] -= 1\n",
    "    if start == end:\n",
    "        return start\n",
    "    mid = (start+end)//2\n",
    "    if tree[node*2] >= num : #왼쪽 노드로\n",
    "        return tree_find(start, mid, node*2, num)\n",
    "    else:\n",
    "        return tree_find(mid+1, end, node*2+1, num-tree[node*2])\n",
    "\n",
    "N = int(input())\n",
    "for _ in range(N):\n",
    "    T, X = map(int, input().split())\n",
    "    if T == 1:\n",
    "        tree_update(0, MAX, 1, X)\n",
    "    else:\n",
    "        print(tree_find(0, MAX, 1, X))"
   ]
  }
 ],
 "metadata": {
  "kernelspec": {
   "display_name": "Python 3",
   "language": "python",
   "name": "python3"
  },
  "language_info": {
   "codemirror_mode": {
    "name": "ipython",
    "version": 3
   },
   "file_extension": ".py",
   "mimetype": "text/x-python",
   "name": "python",
   "nbconvert_exporter": "python",
   "pygments_lexer": "ipython3",
   "version": "3.8.3"
  },
  "toc": {
   "base_numbering": 1,
   "nav_menu": {},
   "number_sections": true,
   "sideBar": true,
   "skip_h1_title": false,
   "title_cell": "Table of Contents",
   "title_sidebar": "Contents",
   "toc_cell": false,
   "toc_position": {},
   "toc_section_display": true,
   "toc_window_display": false
  },
  "varInspector": {
   "cols": {
    "lenName": 16,
    "lenType": 16,
    "lenVar": 40
   },
   "kernels_config": {
    "python": {
     "delete_cmd_postfix": "",
     "delete_cmd_prefix": "del ",
     "library": "var_list.py",
     "varRefreshCmd": "print(var_dic_list())"
    },
    "r": {
     "delete_cmd_postfix": ") ",
     "delete_cmd_prefix": "rm(",
     "library": "var_list.r",
     "varRefreshCmd": "cat(var_dic_list()) "
    }
   },
   "types_to_exclude": [
    "module",
    "function",
    "builtin_function_or_method",
    "instance",
    "_Feature"
   ],
   "window_display": false
  }
 },
 "nbformat": 4,
 "nbformat_minor": 4
}
