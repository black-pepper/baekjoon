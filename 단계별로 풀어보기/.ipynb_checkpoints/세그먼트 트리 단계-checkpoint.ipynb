{
 "cells": [
  {
   "cell_type": "markdown",
   "metadata": {},
   "source": [
    "## 11659번: 구간 합 구하기 4"
   ]
  },
  {
   "cell_type": "code",
   "execution_count": 8,
   "metadata": {},
   "outputs": [
    {
     "name": "stdout",
     "output_type": "stream",
     "text": [
      "5 3\n",
      "5 4 3 2 1\n",
      "1 3\n",
      "12\n",
      "2 4\n",
      "9\n",
      "5 5\n",
      "1\n"
     ]
    }
   ],
   "source": [
    "import sys\n",
    "#input = sys.stdin.readline\n",
    "\n",
    "N, M = map(int, input().split())\n",
    "arr = list(map(int, input().split()))\n",
    "for i in range(1, N):\n",
    "    arr[i] += arr[i-1]\n",
    "arr += [0, 0]\n",
    "    \n",
    "for i in range(M):\n",
    "    a, b = map(int, input().split())\n",
    "    print(arr[b-1]-arr[a-2])"
   ]
  },
  {
   "cell_type": "markdown",
   "metadata": {},
   "source": [
    "## 2042번: 구간 합 구하기"
   ]
  },
  {
   "cell_type": "code",
   "execution_count": 33,
   "metadata": {},
   "outputs": [
    {
     "name": "stdout",
     "output_type": "stream",
     "text": [
      "5 2 2\n",
      "1\n",
      "2\n",
      "3\n",
      "4\n",
      "5\n",
      "1 3 6\n",
      "2 2 5\n",
      "17\n",
      "1 5 2\n",
      "2 3 5\n",
      "12\n"
     ]
    }
   ],
   "source": [
    "import sys\n",
    "#input = sys.stdin.readline\n",
    "#sys.setrecursionlimit(10**4)\n",
    "\n",
    "def init(start, end, node):\n",
    "    if start == end:\n",
    "        tree[node] = arr[start]\n",
    "    else:\n",
    "        mid = (start+end)//2\n",
    "        tree[node] = init(start, mid, node*2) + init(mid+1, end, node*2+1)\n",
    "    return tree[node]\n",
    "\n",
    "def tree_sum(start, end, node, left, right):\n",
    "    if left>end or right<start:\n",
    "        return 0\n",
    "    if left<=start and end<=right:\n",
    "        return tree[node]\n",
    "    mid = (start + end)//2\n",
    "    return tree_sum(start, mid, node*2, left, right) + tree_sum(mid+1, end, node*2+1, left, right)\n",
    "\n",
    "def update(start, end, node, index, dif):\n",
    "    if index<start or index>end:\n",
    "        return\n",
    "    tree[node] += dif\n",
    "    if start == end:\n",
    "        return\n",
    "    mid = (start + end)//2\n",
    "    update(start, mid, node*2, index, dif)\n",
    "    update(mid+1, end, node*2+1, index, dif)\n",
    "\n",
    "N, M, K = map(int, input().split())\n",
    "arr = []\n",
    "tree = [0] * (4*N)\n",
    "for i in range(N):\n",
    "    arr.append(int(input()))\n",
    "init(0, N-1, 1)\n",
    "for i in range(M+K):\n",
    "    a, b, c = map(int, input().split())\n",
    "    if a == 1:\n",
    "        update(0, N-1, 1, b-1, c-arr[b-1])\n",
    "        arr[b-1] = c\n",
    "    else:\n",
    "        print(tree_sum(0, N-1, 1, b-1, c-1))"
   ]
  },
  {
   "cell_type": "markdown",
   "metadata": {},
   "source": [
    "## 11505번: 구간 곱 구하기"
   ]
  },
  {
   "cell_type": "code",
   "execution_count": 20,
   "metadata": {},
   "outputs": [
    {
     "name": "stdout",
     "output_type": "stream",
     "text": [
      "5 2 2\n",
      "1\n",
      "2\n",
      "3\n",
      "4\n",
      "5\n",
      "1 3 6\n",
      "2 2 5\n",
      "240\n",
      "1 5 2\n",
      "2 3 5\n",
      "48\n"
     ]
    }
   ],
   "source": [
    "import sys\n",
    "#input = sys.stdin.readline\n",
    "#sys.setrecursionlimit(10**4)\n",
    "\n",
    "def init(start, end, node):\n",
    "    if start == end:\n",
    "        tree[node] = arr[start]\n",
    "    else:\n",
    "        mid = (start+end)//2\n",
    "        tree[node] = (init(start, mid, node*2) * init(mid+1, end, node*2+1))%1000000007\n",
    "    return tree[node]\n",
    "\n",
    "def tree_mul(start, end, node, left, right):\n",
    "    if left>end or right<start:\n",
    "        return 1\n",
    "    if left<=start and end<=right:\n",
    "        return tree[node]\n",
    "    mid = (start+end)//2\n",
    "    return (tree_mul(start, mid, node*2, left, right) * tree_mul(mid+1, end, node*2+1, left, right))%1000000007\n",
    "\n",
    "def update(start, end, node, index, after):\n",
    "    if index<start or index>end:\n",
    "        pass\n",
    "    elif start == end:\n",
    "        tree[node] = after\n",
    "    else:\n",
    "        mid = (start + end)//2\n",
    "        left = update(start, mid, node*2, index, after)\n",
    "        right = update(mid+1, end, node*2+1, index, after)\n",
    "        tree[node] = (left*right)%1000000007\n",
    "    return tree[node]\n",
    "\n",
    "N, M, K = map(int, input().split())\n",
    "arr = []\n",
    "tree = [0] * (4*N)\n",
    "for i in range(N):\n",
    "    arr.append(int(input()))\n",
    "init(0, N-1, 1)\n",
    "for i in range(M+K):\n",
    "    a, b, c = map(int, input().split())\n",
    "    if a == 1:\n",
    "        update(0, N-1, 1, b-1, c)\n",
    "        arr[b-1] = c\n",
    "    else:\n",
    "        print(tree_mul(0, N-1, 1, b-1, c-1))"
   ]
  },
  {
   "cell_type": "markdown",
   "metadata": {},
   "source": [
    "## 2357번: 최솟값과 최댓값 (미완성)"
   ]
  },
  {
   "cell_type": "code",
   "execution_count": 5,
   "metadata": {},
   "outputs": [
    {
     "name": "stdout",
     "output_type": "stream",
     "text": [
      "10 4\n",
      "75\n",
      "30\n",
      "100\n",
      "38\n",
      "50\n",
      "51\n",
      "52\n",
      "20\n",
      "81\n",
      "5\n"
     ]
    },
    {
     "data": {
      "text/plain": [
       "[5, 100]"
      ]
     },
     "execution_count": 5,
     "metadata": {},
     "output_type": "execute_result"
    }
   ],
   "source": [
    "import sys\n",
    "#input = sys.stdin.readline\n",
    "#sys.setrecursionlimit(10**4)\n",
    "\n",
    "def init(start, end, node):\n",
    "    if start == end:\n",
    "        tree[node] = [arr[start], arr[start]]\n",
    "    else:\n",
    "        mid = (start+end)//2\n",
    "        temp1 = init(start, mid, node*2)\n",
    "        temp2 = init(mid+1, end, node*2+1)\n",
    "        tree[node] = [min(temp1+temp2), max(temp1+temp2)]\n",
    "    return tree[node]\n",
    "\n",
    "def tree_max(start, end, node, left, right):\n",
    "    if left>end or right<start:\n",
    "        return 1\n",
    "    if left<=start and end<=right:\n",
    "        return tree[node]\n",
    "    mid = (start+end)//2\n",
    "    return (tree_mul(start, mid, node*2, left, right) * tree_mul(mid+1, end, node*2+1, left, right))%1000000007\n",
    "\n",
    "def update(start, end, node, index, after):\n",
    "    if index<start or index>end:\n",
    "        pass\n",
    "    elif start == end:\n",
    "        tree[node] = after\n",
    "    else:\n",
    "        mid = (start + end)//2\n",
    "        left = update(start, mid, node*2, index, after)\n",
    "        right = update(mid+1, end, node*2+1, index, after)\n",
    "        tree[node] = (left*right)%1000000007\n",
    "    return tree[node]\n",
    "\n",
    "N, M = map(int, input().split())\n",
    "arr = []\n",
    "tree = [0] * (4*N)\n",
    "for i in range(N):\n",
    "    arr.append(int(input()))\n",
    "init(0, N-1, 1)"
   ]
  },
  {
   "cell_type": "code",
   "execution_count": null,
   "metadata": {},
   "outputs": [],
   "source": [
    "N, M, K = map(int, input().split())\n",
    "arr = []\n",
    "tree = [0] * (4*N)\n",
    "for i in range(N):\n",
    "    arr.append(int(input()))\n",
    "init(0, N-1, 1)"
   ]
  },
  {
   "cell_type": "code",
   "execution_count": 6,
   "metadata": {},
   "outputs": [
    {
     "data": {
      "text/plain": [
       "[0,\n",
       " [5, 100],\n",
       " [30, 100],\n",
       " [5, 81],\n",
       " [30, 100],\n",
       " [38, 50],\n",
       " [20, 52],\n",
       " [5, 81],\n",
       " [30, 75],\n",
       " [100, 100],\n",
       " [38, 38],\n",
       " [50, 50],\n",
       " [51, 52],\n",
       " [20, 20],\n",
       " [81, 81],\n",
       " [5, 5],\n",
       " [75, 75],\n",
       " [30, 30],\n",
       " 0,\n",
       " 0,\n",
       " 0,\n",
       " 0,\n",
       " 0,\n",
       " 0,\n",
       " [51, 51],\n",
       " [52, 52],\n",
       " 0,\n",
       " 0,\n",
       " 0,\n",
       " 0,\n",
       " 0,\n",
       " 0,\n",
       " 0,\n",
       " 0,\n",
       " 0,\n",
       " 0,\n",
       " 0,\n",
       " 0,\n",
       " 0,\n",
       " 0]"
      ]
     },
     "execution_count": 6,
     "metadata": {},
     "output_type": "execute_result"
    }
   ],
   "source": [
    "tree"
   ]
  },
  {
   "cell_type": "code",
   "execution_count": 7,
   "metadata": {},
   "outputs": [
    {
     "data": {
      "text/plain": [
       "[75, 30, 100, 38, 50, 51, 52, 20, 81, 5]"
      ]
     },
     "execution_count": 7,
     "metadata": {},
     "output_type": "execute_result"
    }
   ],
   "source": [
    "arr"
   ]
  }
 ],
 "metadata": {
  "kernelspec": {
   "display_name": "Python 3",
   "language": "python",
   "name": "python3"
  },
  "language_info": {
   "codemirror_mode": {
    "name": "ipython",
    "version": 3
   },
   "file_extension": ".py",
   "mimetype": "text/x-python",
   "name": "python",
   "nbconvert_exporter": "python",
   "pygments_lexer": "ipython3",
   "version": "3.8.3"
  },
  "toc": {
   "base_numbering": 1,
   "nav_menu": {},
   "number_sections": true,
   "sideBar": true,
   "skip_h1_title": false,
   "title_cell": "Table of Contents",
   "title_sidebar": "Contents",
   "toc_cell": false,
   "toc_position": {},
   "toc_section_display": true,
   "toc_window_display": false
  },
  "varInspector": {
   "cols": {
    "lenName": 16,
    "lenType": 16,
    "lenVar": 40
   },
   "kernels_config": {
    "python": {
     "delete_cmd_postfix": "",
     "delete_cmd_prefix": "del ",
     "library": "var_list.py",
     "varRefreshCmd": "print(var_dic_list())"
    },
    "r": {
     "delete_cmd_postfix": ") ",
     "delete_cmd_prefix": "rm(",
     "library": "var_list.r",
     "varRefreshCmd": "cat(var_dic_list()) "
    }
   },
   "types_to_exclude": [
    "module",
    "function",
    "builtin_function_or_method",
    "instance",
    "_Feature"
   ],
   "window_display": false
  }
 },
 "nbformat": 4,
 "nbformat_minor": 4
}
