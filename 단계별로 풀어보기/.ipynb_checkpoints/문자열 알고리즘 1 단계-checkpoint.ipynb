{
 "cells": [
  {
   "cell_type": "markdown",
   "metadata": {},
   "source": [
    "## 1786번: 찾기"
   ]
  },
  {
   "cell_type": "code",
   "execution_count": 69,
   "metadata": {},
   "outputs": [
    {
     "name": "stdout",
     "output_type": "stream",
     "text": [
      "ABC ABCDAB ABCDABCDABDE\n",
      "ABCDABD\n",
      "1\n",
      "16 "
     ]
    }
   ],
   "source": [
    "import sys\n",
    "#input = sys.stdin.readline\n",
    "\n",
    "def makeTable(pattern):\n",
    "    table = [0] * len(pattern)\n",
    "    j = 0\n",
    "    for i in range(1, len(pattern)):\n",
    "        while j > 0 and pattern[i] != pattern[j] :\n",
    "            j = table[j - 1]\n",
    "        if pattern[i] == pattern[j]:\n",
    "            j += 1\n",
    "            table[i] = j\n",
    "    return table\n",
    "\n",
    "def KMP(parent, pattern):\n",
    "    global count\n",
    "    table = makeTable(pattern)\n",
    "    parentSize = len(parent)\n",
    "    patternSize = len(pattern)\n",
    "    j = 0\n",
    "    for i in range(parentSize):\n",
    "        while(j>0 and parent[i] != pattern[j]):\n",
    "            j = table[j-1]\n",
    "        if parent[i] == pattern[j]:\n",
    "            if(j == patternSize-1):\n",
    "                count += 1\n",
    "                result.append(i-patternSize + 2)\n",
    "                j = table[j]\n",
    "            else:\n",
    "                j += 1\n",
    "\n",
    "parent = input().replace(\"\\n\",\"\")\n",
    "pattern = input().replace(\"\\n\",\"\")\n",
    "count = 0\n",
    "result = []\n",
    "KMP(parent, pattern)\n",
    "print(count)\n",
    "for i in result:\n",
    "    print(i, end=' ')"
   ]
  },
  {
   "cell_type": "markdown",
   "metadata": {},
   "source": [
    "## 4354번: 문자열 제곱"
   ]
  },
  {
   "cell_type": "code",
   "execution_count": 13,
   "metadata": {},
   "outputs": [
    {
     "name": "stdout",
     "output_type": "stream",
     "text": [
      "abcd\n",
      "1\n",
      "aaaa\n",
      "4\n",
      "ababab\n",
      "3\n",
      ".\n"
     ]
    }
   ],
   "source": [
    "import sys\n",
    "#input = sys.stdin.readline\n",
    "\n",
    "def makeTable(pattern):\n",
    "    table = [0] * len(pattern)\n",
    "    j = 0\n",
    "    for i in range(1, len(pattern)):\n",
    "        while j > 0 and pattern[i] != pattern[j] :\n",
    "            j = table[j - 1]\n",
    "        if pattern[i] == pattern[j]:\n",
    "            j += 1\n",
    "            table[i] = j\n",
    "    return table\n",
    "\n",
    "while True:\n",
    "    text = input().replace(\"\\n\",\"\")\n",
    "    if text == '.':\n",
    "        break\n",
    "        \n",
    "    table = makeTable(text)\n",
    "    length = len(text)\n",
    "    PLength = length-table[-1]\n",
    "    if length%PLength == 0:\n",
    "        print(length//PLength)\n",
    "    else:\n",
    "        print(1)"
   ]
  },
  {
   "cell_type": "markdown",
   "metadata": {},
   "source": [
    "## 1305번: 광고"
   ]
  },
  {
   "cell_type": "code",
   "execution_count": 4,
   "metadata": {},
   "outputs": [
    {
     "name": "stdout",
     "output_type": "stream",
     "text": [
      "7\n",
      "abaabab\n",
      "5\n"
     ]
    }
   ],
   "source": [
    "import sys\n",
    "#input = sys.stdin.readline\n",
    "\n",
    "def makeTable(pattern):\n",
    "    table = [0] * len(pattern)\n",
    "    j = 0\n",
    "    for i in range(1, L):\n",
    "        while j > 0 and pattern[i] != pattern[j] :\n",
    "            j = table[j - 1]\n",
    "        if pattern[i] == pattern[j]:\n",
    "            j += 1\n",
    "            table[i] = j\n",
    "    return table\n",
    "\n",
    "L = int(input())\n",
    "text = input().replace(\"\\n\",\"\")\n",
    "\n",
    "table = makeTable(text)\n",
    "print(L-table[-1])"
   ]
  }
 ],
 "metadata": {
  "kernelspec": {
   "display_name": "Python 3",
   "language": "python",
   "name": "python3"
  },
  "language_info": {
   "codemirror_mode": {
    "name": "ipython",
    "version": 3
   },
   "file_extension": ".py",
   "mimetype": "text/x-python",
   "name": "python",
   "nbconvert_exporter": "python",
   "pygments_lexer": "ipython3",
   "version": "3.8.3"
  },
  "toc": {
   "base_numbering": 1,
   "nav_menu": {},
   "number_sections": true,
   "sideBar": true,
   "skip_h1_title": false,
   "title_cell": "Table of Contents",
   "title_sidebar": "Contents",
   "toc_cell": false,
   "toc_position": {},
   "toc_section_display": true,
   "toc_window_display": false
  },
  "varInspector": {
   "cols": {
    "lenName": 16,
    "lenType": 16,
    "lenVar": 40
   },
   "kernels_config": {
    "python": {
     "delete_cmd_postfix": "",
     "delete_cmd_prefix": "del ",
     "library": "var_list.py",
     "varRefreshCmd": "print(var_dic_list())"
    },
    "r": {
     "delete_cmd_postfix": ") ",
     "delete_cmd_prefix": "rm(",
     "library": "var_list.r",
     "varRefreshCmd": "cat(var_dic_list()) "
    }
   },
   "position": {
    "height": "221.4px",
    "left": "267px",
    "right": "20px",
    "top": "120px",
    "width": "350px"
   },
   "types_to_exclude": [
    "module",
    "function",
    "builtin_function_or_method",
    "instance",
    "_Feature"
   ],
   "window_display": false
  }
 },
 "nbformat": 4,
 "nbformat_minor": 4
}
