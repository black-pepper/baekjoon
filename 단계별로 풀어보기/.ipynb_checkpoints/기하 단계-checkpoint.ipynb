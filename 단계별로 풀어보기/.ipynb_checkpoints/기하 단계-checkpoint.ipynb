{
 "cells": [
  {
   "cell_type": "markdown",
   "metadata": {},
   "source": [
    "## 11758번: CCW"
   ]
  },
  {
   "cell_type": "code",
   "execution_count": 5,
   "metadata": {},
   "outputs": [
    {
     "name": "stdout",
     "output_type": "stream",
     "text": [
      "1 1\n",
      "7 3\n",
      "5 5\n",
      "1\n"
     ]
    }
   ],
   "source": [
    "x1, y1 = map(int, input().split())\n",
    "x2, y2 = map(int, input().split())\n",
    "x3, y3 = map(int, input().split())\n",
    "\n",
    "S = (x2-x1)*(y3-y1) - (y2-y1)*(x3-x1)\n",
    "\n",
    "if S > 0:\n",
    "    print(1)\n",
    "elif S < 0:\n",
    "    print(-1)\n",
    "else:\n",
    "    print(0)"
   ]
  },
  {
   "cell_type": "markdown",
   "metadata": {},
   "source": [
    "## 17386번: 선분 교차1"
   ]
  },
  {
   "cell_type": "code",
   "execution_count": 3,
   "metadata": {},
   "outputs": [
    {
     "name": "stdout",
     "output_type": "stream",
     "text": [
      "1 1 5 5\n",
      "6 10 10 6\n",
      "0\n"
     ]
    }
   ],
   "source": [
    "def CCW(x1, y1, x2, y2, x3, y3):\n",
    "    return (x2-x1)*(y3-y1) - (y2-y1)*(x3-x1)\n",
    "\n",
    "x1, y1, x2, y2 = map(int,input().split())\n",
    "x3, y3, x4, y4 = map(int,input().split())\n",
    "\n",
    "ABC = CCW(x1, y1, x2, y2, x3, y3)\n",
    "ABD = CCW(x1, y1, x2, y2, x4, y4)\n",
    "CDA = CCW(x3, y3, x4, y4, x1, y1)\n",
    "CDB = CCW(x3, y3, x4, y4, x2, y2)\n",
    "\n",
    "if max(ABC, ABD) >= 0 and min(ABC, ABD) <= 0:\n",
    "    if max(CDA, CDB) >=0 and min(CDA, CDB) <= 0:\n",
    "        print(1)\n",
    "    else:\n",
    "        print(0)\n",
    "else:\n",
    "    print(0)"
   ]
  },
  {
   "cell_type": "markdown",
   "metadata": {},
   "source": [
    "## 17387번: 선분 교차 2"
   ]
  },
  {
   "cell_type": "code",
   "execution_count": 20,
   "metadata": {},
   "outputs": [
    {
     "name": "stdout",
     "output_type": "stream",
     "text": [
      "1 1 5 5\n",
      "3 3 1 3\n",
      "1\n"
     ]
    }
   ],
   "source": [
    "def CCW(x1, y1, x2, y2, x3, y3):\n",
    "    return (x2-x1)*(y3-y1) - (y2-y1)*(x3-x1)\n",
    "\n",
    "x1, y1, x2, y2 = map(int,input().split())\n",
    "x3, y3, x4, y4 = map(int,input().split())\n",
    "\n",
    "ABC = CCW(x1, y1, x2, y2, x3, y3)\n",
    "ABD = CCW(x1, y1, x2, y2, x4, y4)\n",
    "CDA = CCW(x3, y3, x4, y4, x1, y1)\n",
    "CDB = CCW(x3, y3, x4, y4, x2, y2)\n",
    "\n",
    "if ABC == 0 and ABD == 0:\n",
    "    max_x = max([x1, x2, x3, x4])\n",
    "    max_y = max([y1, y2, y3, y4])\n",
    "    if max_x == max(x3, x4) and max(x1, x2) >= min(x3, x4) and max_y == max(y3, y4) and max(y1, y2) >= min(y3, y4):\n",
    "        print(1)\n",
    "    elif max_x == max(x1, x2) and max(x3, x4) >= min(x1, x2) and max_y == max(y1, y2) and max(y3, y4) >= min(y1, y2):\n",
    "        print(1)\n",
    "    else:\n",
    "        print(0)\n",
    "elif max(ABC, ABD) >= 0 and min(ABC, ABD) <= 0:\n",
    "    if max(CDA, CDB) >=0 and min(CDA, CDB) <= 0:\n",
    "        print(1)\n",
    "    else:\n",
    "        print(0)\n",
    "else:\n",
    "    print(0)"
   ]
  },
  {
   "cell_type": "markdown",
   "metadata": {},
   "source": [
    "## 20149번: 선분 교차 3"
   ]
  },
  {
   "cell_type": "code",
   "execution_count": 15,
   "metadata": {},
   "outputs": [
    {
     "name": "stdout",
     "output_type": "stream",
     "text": [
      "5 -5 -5 5\n",
      "-4 5 -4 -4\n",
      "1\n",
      "-4 4.0\n"
     ]
    }
   ],
   "source": [
    "def CCW(x1, y1, x2, y2, x3, y3):\n",
    "    return (x2-x1)*(y3-y1) - (y2-y1)*(x3-x1)\n",
    "\n",
    "x1, y1, x2, y2 = map(int,input().split())\n",
    "x3, y3, x4, y4 = map(int,input().split())\n",
    "\n",
    "ABC = CCW(x1, y1, x2, y2, x3, y3)\n",
    "ABD = CCW(x1, y1, x2, y2, x4, y4)\n",
    "CDA = CCW(x3, y3, x4, y4, x1, y1)\n",
    "CDB = CCW(x3, y3, x4, y4, x2, y2)\n",
    "\n",
    "result = 0\n",
    "if ABC == 0 and ABD == 0:\n",
    "    max_x = max([x1, x2, x3, x4])\n",
    "    max_y = max([y1, y2, y3, y4])\n",
    "    if max_x == max(x3, x4) and max(x1, x2) >= min(x3, x4) and max_y == max(y3, y4) and max(y1, y2) >= min(y3, y4):\n",
    "        result = 1\n",
    "    elif max_x == max(x1, x2) and max(x3, x4) >= min(x1, x2) and max_y == max(y1, y2) and max(y3, y4) >= min(y1, y2):\n",
    "        result = 1\n",
    "elif max(ABC, ABD) >= 0 and min(ABC, ABD) <= 0:\n",
    "    if max(CDA, CDB) >=0 and min(CDA, CDB) <= 0:\n",
    "        result = 1\n",
    "        \n",
    "INF = 3000000\n",
    "def findPoint():\n",
    "    global x1, y1, x2, y2, x3, y3, x4, y4\n",
    "    a1 = 0 #첫번째 선분의 기울기\n",
    "    a2 = 0 #두번째 선분의 기울기\n",
    "    if x1==x2:\n",
    "        a1 = INF\n",
    "    else:\n",
    "        a1 = (y1-y2)/(x1-x2)\n",
    "    if x3==x4:\n",
    "        a2 = INF\n",
    "    else:\n",
    "        a2 = (y3-y4)/(x3-x4)\n",
    "        \n",
    "    if a1 == INF or a2 ==INF:#기울기가 무한일때\n",
    "        if a1 == INF:\n",
    "            #print(x1, a1*x1+(y1-a1*x1))\n",
    "            print(x1, a2*x1+y3-a2*x3)\n",
    "        else:\n",
    "            print(x3, a1*x3+y1-a1*x1)\n",
    "        \n",
    "    elif a1 != a2: #두 선분의 기울기가 다를 때\n",
    "        b1 = y1-a1*x1\n",
    "        b2 = y3-a2*x3\n",
    "        print((b1-b2)/(a2-a1), (b1*a2-a1*b2)/(a2-a1))\n",
    "        \n",
    "    else: #기울기가 같을 때\n",
    "        if [x1, y1] == [x3, y3]:\n",
    "            if x2 < x1 < x4 or y2 < y1 < y4 or x4 < x1 < x2 or y4 < y1 < y2:\n",
    "                print(x1, y1)\n",
    "            elif [x1, y1] == [x2, y2] or [x1, y1] == [x4, y4]:\n",
    "                print(x1, y1)\n",
    "        elif [x1, y1] == [x4, y4]:\n",
    "            if x2 < x1 < x3 or y2 < y1 < y3 or x3 < x1 < x2 or y3 < y1 < y2:\n",
    "                print(x1, y1)\n",
    "            elif [x1, y1] == [x2, y2] or [x1, y1] == [x3, y3]:\n",
    "                print(x1, y1)\n",
    "        elif [x2, y2] == [x3, y3]:\n",
    "            if x1 < x2 < x4 or y1 < y2 < y4 or x4 < x2 < x1 or y4 < y2 < y1:\n",
    "                print(x2, y2)\n",
    "            elif [x1, y1] == [x2, y2] or [x2, y2] == [x4, y4]:\n",
    "                print(x2, y2)\n",
    "        elif [x2, y2] == [x4, y4]:\n",
    "            if x1 < x2 < x3 or y1 < y2 < y3 or x3 < x2 < x1 or y3 < y2 < y1:\n",
    "                print(x2, y2)\n",
    "            elif [x1, y1] == [x2, y2] or [x2, y2] == [x3, y3]:\n",
    "                print(x2, y2)\n",
    "\n",
    "if result == 1:\n",
    "    print(1)\n",
    "    findPoint()\n",
    "else:\n",
    "    print(0)"
   ]
  },
  {
   "cell_type": "markdown",
   "metadata": {},
   "source": [
    "## 2162번: 선분 그룹"
   ]
  },
  {
   "cell_type": "code",
   "execution_count": 17,
   "metadata": {},
   "outputs": [
    {
     "name": "stdout",
     "output_type": "stream",
     "text": [
      "3\n",
      "1 1 2 3\n",
      "2 1 0 0\n",
      "1 0 1 1\n",
      "1\n",
      "3\n"
     ]
    }
   ],
   "source": [
    "import sys\n",
    "#input = sys.stdin.readline\n",
    "#sys.setrecursionlimit(100000)\n",
    "\n",
    "def find_root(target):\n",
    "    if target == parent[target]:\n",
    "        return parent[target]\n",
    "    \n",
    "    parent[target] = find_root(parent[target])\n",
    "    return parent[target]\n",
    "    \n",
    "def union(a, b):\n",
    "    a = find_root(a)\n",
    "    b = find_root(b)\n",
    "    \n",
    "    if a > b:\n",
    "        parent[a] = b\n",
    "    else:\n",
    "        parent[b] = a\n",
    "        \n",
    "def CCW(x1, y1, x2, y2, x3, y3):\n",
    "    return (x2-x1)*(y3-y1) - (y2-y1)*(x3-x1)\n",
    "\n",
    "def check_cross(x1, y1, x2, y2, x3, y3, x4, y4):\n",
    "    ABC = CCW(x1, y1, x2, y2, x3, y3)\n",
    "    ABD = CCW(x1, y1, x2, y2, x4, y4)\n",
    "    CDA = CCW(x3, y3, x4, y4, x1, y1)\n",
    "    CDB = CCW(x3, y3, x4, y4, x2, y2)\n",
    "\n",
    "    if ABC == 0 and ABD == 0:\n",
    "        max_x = max([x1, x2, x3, x4])\n",
    "        max_y = max([y1, y2, y3, y4])\n",
    "        if max_x == max(x3, x4) and max(x1, x2) >= min(x3, x4) and max_y == max(y3, y4) and max(y1, y2) >= min(y3, y4):\n",
    "            return True\n",
    "        elif max_x == max(x1, x2) and max(x3, x4) >= min(x1, x2) and max_y == max(y1, y2) and max(y3, y4) >= min(y1, y2):\n",
    "            return True\n",
    "        else:\n",
    "            return False\n",
    "    elif max(ABC, ABD) >= 0 and min(ABC, ABD) <= 0:\n",
    "        if max(CDA, CDB) >=0 and min(CDA, CDB) <= 0:\n",
    "            return True\n",
    "        else:\n",
    "            return False\n",
    "    else:\n",
    "        return False\n",
    "\n",
    "N = int(input())\n",
    "parent = [i for i in range(N)]\n",
    "lines = []\n",
    "for i in range(N):\n",
    "    line = list(map(int, input().split()))\n",
    "    lines.append(line)\n",
    "    #if i == 0: continue\n",
    "    for j in range(i):\n",
    "        if check_cross(lines[j][0], lines[j][1], lines[j][2], lines[j][3], line[0], line[1], line[2], line[3]):\n",
    "            union(i, j)\n",
    "\n",
    "count = [0] * N\n",
    "group = 0\n",
    "for i in range(N):\n",
    "    for j in range(N):\n",
    "        if find_root(j) == i:\n",
    "            count[i] += 1\n",
    "    if count[i] != 0:\n",
    "        group += 1\n",
    "            \n",
    "print(group)\n",
    "print(max(count))"
   ]
  },
  {
   "cell_type": "markdown",
   "metadata": {},
   "source": [
    "## 7869번: 두 원"
   ]
  },
  {
   "cell_type": "code",
   "execution_count": 25,
   "metadata": {},
   "outputs": [
    {
     "name": "stdout",
     "output_type": "stream",
     "text": [
      "20.0 30.0 15.0 40.0 30.0 30.0\n",
      "608.366\n"
     ]
    }
   ],
   "source": [
    "#https://cocoon1787.tistory.com/491\n",
    "from math import pi, sqrt, sin, acos\n",
    "x1, y1, r1, x2, y2, r2 = map(float, input().split())\n",
    "\n",
    "if r1 < r2:\n",
    "    x1, y1, r1, x2, y2, r2 = x2, y2, r2, x1, y1, r1\n",
    "d = sqrt((x1-x2)**2+(y1-y2)**2)\n",
    "\n",
    "if d >= r1+r2:\n",
    "    print(\"%.3f\"%0)\n",
    "elif d+r2 <= r1:\n",
    "    print(\"%.3f\"%round(r2**2*pi+0.0001, 3))\n",
    "else:\n",
    "    theta1 = acos((r1**2+d**2-r2**2)/(2*r1*d))\n",
    "    theta2 = acos((r2**2+d**2-r1**2)/(2*r2*d))\n",
    "    s1 = (r1**2*2*theta1)/2-r1**2*sin(2*theta1)/2\n",
    "    s2 = (r2**2*2*theta2)/2-r2**2*sin(2*theta2)/2\n",
    "    print(\"%.3f\"%round(s1+s2+0.0001, 3))"
   ]
  }
 ],
 "metadata": {
  "kernelspec": {
   "display_name": "Python 3",
   "language": "python",
   "name": "python3"
  },
  "language_info": {
   "codemirror_mode": {
    "name": "ipython",
    "version": 3
   },
   "file_extension": ".py",
   "mimetype": "text/x-python",
   "name": "python",
   "nbconvert_exporter": "python",
   "pygments_lexer": "ipython3",
   "version": "3.8.3"
  },
  "toc": {
   "base_numbering": 1,
   "nav_menu": {},
   "number_sections": true,
   "sideBar": true,
   "skip_h1_title": false,
   "title_cell": "Table of Contents",
   "title_sidebar": "Contents",
   "toc_cell": false,
   "toc_position": {},
   "toc_section_display": true,
   "toc_window_display": false
  },
  "varInspector": {
   "cols": {
    "lenName": 16,
    "lenType": 16,
    "lenVar": 40
   },
   "kernels_config": {
    "python": {
     "delete_cmd_postfix": "",
     "delete_cmd_prefix": "del ",
     "library": "var_list.py",
     "varRefreshCmd": "print(var_dic_list())"
    },
    "r": {
     "delete_cmd_postfix": ") ",
     "delete_cmd_prefix": "rm(",
     "library": "var_list.r",
     "varRefreshCmd": "cat(var_dic_list()) "
    }
   },
   "position": {
    "height": "332.4px",
    "left": "176px",
    "right": "20px",
    "top": "228px",
    "width": "350px"
   },
   "types_to_exclude": [
    "module",
    "function",
    "builtin_function_or_method",
    "instance",
    "_Feature"
   ],
   "window_display": false
  }
 },
 "nbformat": 4,
 "nbformat_minor": 4
}
