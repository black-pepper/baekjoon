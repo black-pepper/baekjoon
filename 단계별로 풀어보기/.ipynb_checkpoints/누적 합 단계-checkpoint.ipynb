{
 "cells": [
  {
   "cell_type": "markdown",
   "metadata": {},
   "source": [
    "## 11659번: 구간 합 구하기 4"
   ]
  },
  {
   "cell_type": "code",
   "execution_count": 10,
   "metadata": {},
   "outputs": [
    {
     "name": "stdout",
     "output_type": "stream",
     "text": [
      "5 3\n",
      "5 4 3 2 1\n",
      "1 3\n",
      "12\n",
      "2 4\n",
      "9\n",
      "5 5\n",
      "1\n"
     ]
    }
   ],
   "source": [
    "import sys\n",
    "#input = sys.stdin.readline\n",
    "\n",
    "N, M = map(int, input().split())\n",
    "arr = list(map(int, input().split()))\n",
    "for i in range(1, N):\n",
    "    arr[i] += arr[i-1]\n",
    "arr += [0, 0]\n",
    "    \n",
    "for i in range(M):\n",
    "    a, b = map(int, input().split())\n",
    "    print(arr[b-1]-arr[a-2])"
   ]
  },
  {
   "cell_type": "markdown",
   "metadata": {},
   "source": [
    "## 2559번: 수열"
   ]
  },
  {
   "cell_type": "code",
   "execution_count": 8,
   "metadata": {},
   "outputs": [
    {
     "name": "stdout",
     "output_type": "stream",
     "text": [
      "31\n"
     ]
    }
   ],
   "source": [
    "from collections import deque\n",
    "\n",
    "N, K = map(int, input().split())\n",
    "arr = list(map(int, input().split()))\n",
    "\n",
    "queue = deque(arr[:K])\n",
    "ans = sum(queue)\n",
    "curr = ans\n",
    "\n",
    "for i in range(K, N):\n",
    "    curr -= queue.popleft()\n",
    "    curr += arr[i]\n",
    "    queue.append(arr[i])\n",
    "    ans = max(curr, ans)\n",
    "print(ans)"
   ]
  },
  {
   "cell_type": "markdown",
   "metadata": {},
   "source": [
    "## 10986번: 나머지 합"
   ]
  },
  {
   "cell_type": "code",
   "execution_count": 9,
   "metadata": {},
   "outputs": [
    {
     "name": "stdout",
     "output_type": "stream",
     "text": [
      "5 3\n",
      "1 2 3 1 2\n",
      "7\n"
     ]
    }
   ],
   "source": [
    "#https://url.kr/z98knf\n",
    "N, M = map(int, input().split())\n",
    "A = list(map(int, input().split()))\n",
    "\n",
    "remain = [0]*M\n",
    "curr = 0\n",
    "remain[0] = 1\n",
    "\n",
    "for i in range(N):\n",
    "    curr += A[i]\n",
    "    remain[curr%M] += 1\n",
    "    \n",
    "ans = 0\n",
    "for i in remain:\n",
    "    ans += i*(i-1)//2\n",
    "print(ans)"
   ]
  },
  {
   "cell_type": "markdown",
   "metadata": {},
   "source": [
    "## 11660번:  구간 합 구하기 5"
   ]
  },
  {
   "cell_type": "code",
   "execution_count": 2,
   "metadata": {},
   "outputs": [
    {
     "name": "stdout",
     "output_type": "stream",
     "text": [
      "4 3\n",
      "1 2 3 4\n",
      "2 3 4 5\n",
      "3 4 5 6\n",
      "4 5 6 7\n",
      "2 2 3 4\n",
      "27\n",
      "3 4 3 4\n",
      "6\n",
      "1 1 4 4\n",
      "64\n"
     ]
    }
   ],
   "source": [
    "import sys\n",
    "#input = sys.stdin.readline\n",
    "\n",
    "N, M = map(int, input().split())\n",
    "dp = [[0]*(N+1) for _ in range(N+1)]\n",
    "for i in range(1, N+1):\n",
    "    arr = list(map(int, input().split()))\n",
    "    for j in range(1, N+1):\n",
    "        dp[i][j] = dp[i][j-1] + dp[i-1][j] - dp[i-1][j-1] + arr[j-1]\n",
    "for i in range(M):\n",
    "    x1, y1, x2, y2 = map(int, input().split())\n",
    "    print(dp[x2][y2]-(dp[x1-1][y2]+dp[x2][y1-1]-dp[x1-1][y1-1]))"
   ]
  },
  {
   "cell_type": "markdown",
   "metadata": {},
   "source": [
    "## 16139번: 인간-컴퓨터 상호작용"
   ]
  },
  {
   "cell_type": "code",
   "execution_count": 26,
   "metadata": {},
   "outputs": [
    {
     "name": "stdout",
     "output_type": "stream",
     "text": [
      "seungjaehwang\n",
      "4\n",
      "a 0 5\n",
      "0\n",
      "a 0 6\n",
      "1\n",
      "a 6 10\n",
      "2\n",
      "a 7 10\n",
      "1\n"
     ]
    }
   ],
   "source": [
    "import sys\n",
    "#input = sys.stdin.readline\n",
    "from copy import deepcopy\n",
    "string = input().replace('\\n','')\n",
    "N = len(string)\n",
    "\n",
    "def to_index(char): #문자열을 인덱스로\n",
    "    return ord(char)-ord('a')\n",
    "\n",
    "#알파벳 합계 테이블 작성\n",
    "alphabet = [[0]*26]\n",
    "for i in range(N):\n",
    "    alphabet.append(deepcopy(alphabet[-1]))\n",
    "    alphabet[-1][to_index(string[i])] += 1\n",
    "    \n",
    "def solution(a, l, r): #빈도 계산\n",
    "    index = to_index(a)\n",
    "    ans = alphabet[r+1][index]\n",
    "    ans -= alphabet[l][index]\n",
    "    return ans\n",
    "\n",
    "for i in range(int(input())):\n",
    "    a, l, r = input().split()\n",
    "    l, r = int(l), int(r)\n",
    "    print(solution(a, l, r))"
   ]
  },
  {
   "cell_type": "markdown",
   "metadata": {},
   "source": [
    "## 25682번: 체스판 다시 칠하기 2"
   ]
  },
  {
   "cell_type": "code",
   "execution_count": 12,
   "metadata": {},
   "outputs": [
    {
     "name": "stdout",
     "output_type": "stream",
     "text": [
      "10 13 10\n",
      "BBBBBBBBWBWBW\n",
      "BBBBBBBBBWBWB\n",
      "BBBBBBBBWBWBW\n",
      "BBBBBBBBBWBWB\n",
      "BBBBBBBBWBWBW\n",
      "BBBBBBBBBWBWB\n",
      "BBBBBBBBWBWBW\n",
      "BBBBBBBBBWBWB\n",
      "WWWWWWWWWWBWB\n",
      "WWWWWWWWWWBWB\n",
      "30\n"
     ]
    }
   ],
   "source": [
    "#https://jih3508.tistory.com/59\n",
    "import sys\n",
    "#input = sys.stdin.readline\n",
    "\n",
    "def prefix_sum(ch):\n",
    "    prefix = [[0]*(M+1) for _ in range(N+1)]\n",
    "    for i in range(N):\n",
    "        for j in range(M):\n",
    "            if (i+j) % 2 == 0: value = board[i][j] != ch\n",
    "            else: value = board[i][j] == ch\n",
    "            prefix[i+1][j+1] = prefix[i][j+1] + prefix[i+1][j] \\\n",
    "                         - prefix[i][j] + value\n",
    "    count = sys.maxsize\n",
    "    for i in range(1, N-K+2):\n",
    "        for j in range(1, M-K+2):\n",
    "            count = min(count, prefix[i+K-1][j+K-1]-prefix[i+K-1][j-1] \\\n",
    "                         -prefix[i-1][j+K-1]+prefix[i-1][j-1])\n",
    "    return count\n",
    "\n",
    "N, M, K = map(int, input().split())\n",
    "board = []\n",
    "for _ in range(N):\n",
    "    board.append(list(input().strip()))\n",
    "\n",
    "print(min(prefix_sum('W'), prefix_sum('B')))"
   ]
  }
 ],
 "metadata": {
  "kernelspec": {
   "display_name": "Python 3 (ipykernel)",
   "language": "python",
   "name": "python3"
  },
  "language_info": {
   "codemirror_mode": {
    "name": "ipython",
    "version": 3
   },
   "file_extension": ".py",
   "mimetype": "text/x-python",
   "name": "python",
   "nbconvert_exporter": "python",
   "pygments_lexer": "ipython3",
   "version": "3.9.12"
  },
  "toc": {
   "base_numbering": 1,
   "nav_menu": {},
   "number_sections": true,
   "sideBar": true,
   "skip_h1_title": false,
   "title_cell": "Table of Contents",
   "title_sidebar": "Contents",
   "toc_cell": false,
   "toc_position": {},
   "toc_section_display": true,
   "toc_window_display": false
  },
  "varInspector": {
   "cols": {
    "lenName": 16,
    "lenType": 16,
    "lenVar": 40
   },
   "kernels_config": {
    "python": {
     "delete_cmd_postfix": "",
     "delete_cmd_prefix": "del ",
     "library": "var_list.py",
     "varRefreshCmd": "print(var_dic_list())"
    },
    "r": {
     "delete_cmd_postfix": ") ",
     "delete_cmd_prefix": "rm(",
     "library": "var_list.r",
     "varRefreshCmd": "cat(var_dic_list()) "
    }
   },
   "position": {
    "height": "224.83px",
    "left": "347.091px",
    "right": "20px",
    "top": "89px",
    "width": "350px"
   },
   "types_to_exclude": [
    "module",
    "function",
    "builtin_function_or_method",
    "instance",
    "_Feature"
   ],
   "window_display": false
  }
 },
 "nbformat": 4,
 "nbformat_minor": 4
}
