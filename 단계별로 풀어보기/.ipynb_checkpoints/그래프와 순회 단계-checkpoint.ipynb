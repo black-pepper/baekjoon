{
 "cells": [
  {
   "cell_type": "markdown",
   "metadata": {},
   "source": [
    "## 24479번: 알고리즘 - 깊이 우선 탐색 1"
   ]
  },
  {
   "cell_type": "code",
   "execution_count": 15,
   "metadata": {},
   "outputs": [
    {
     "name": "stdout",
     "output_type": "stream",
     "text": [
      "5 5 1\n",
      "1 4\n",
      "1 2\n",
      "2 3\n",
      "2 4\n",
      "3 4\n",
      "1\n",
      "2\n",
      "3\n",
      "4\n",
      "0\n"
     ]
    }
   ],
   "source": [
    "import sys\n",
    "#input = sys.stdin.readline\n",
    "#sys.setrecursionlimit(1000000)\n",
    "\n",
    "def DFS(v):\n",
    "    global cnt\n",
    "    visited[v] = cnt\n",
    "    cnt += 1\n",
    "    for n in graph[v]:\n",
    "        if not visited[n]: DFS(n)\n",
    "\n",
    "N, M, R = map(int, input().split())\n",
    "graph = [[] for _ in range(N+1)]\n",
    "for i in range(M):\n",
    "    u, v = map(int, input().split())\n",
    "    graph[u].append(v)\n",
    "    graph[v].append(u)\n",
    "\n",
    "for i in range(1, N+1):\n",
    "    graph[i].sort()\n",
    "    \n",
    "visited = [0]*(N+1)\n",
    "cnt = 1\n",
    "DFS(R)\n",
    "\n",
    "for i in range(1, N+1):\n",
    "    print(visited[i])"
   ]
  },
  {
   "cell_type": "markdown",
   "metadata": {},
   "source": [
    "## 24480번: 알고리즘 - 깊이 우선 탐색 1"
   ]
  },
  {
   "cell_type": "code",
   "execution_count": 1,
   "metadata": {},
   "outputs": [
    {
     "name": "stdout",
     "output_type": "stream",
     "text": [
      "5 5 1\n",
      "1 4\n",
      "1 2\n",
      "2 3\n",
      "2 4\n",
      "3 4\n",
      "1\n",
      "4\n",
      "3\n",
      "2\n",
      "0\n"
     ]
    }
   ],
   "source": [
    "import sys\n",
    "#input = sys.stdin.readline\n",
    "#sys.setrecursionlimit(1000000)\n",
    "\n",
    "def DFS(v):\n",
    "    global cnt\n",
    "    visited[v] = cnt\n",
    "    cnt += 1\n",
    "    for n in graph[v]:\n",
    "        if not visited[n]: DFS(n)\n",
    "\n",
    "N, M, R = map(int, input().split())\n",
    "graph = [[] for _ in range(N+1)]\n",
    "for i in range(M):\n",
    "    u, v = map(int, input().split())\n",
    "    graph[u].append(v)\n",
    "    graph[v].append(u)\n",
    "\n",
    "for i in range(1, N+1):\n",
    "    graph[i].sort(reverse=True)\n",
    "    \n",
    "visited = [0]*(N+1)\n",
    "cnt = 1\n",
    "DFS(R)\n",
    "\n",
    "for i in range(1, N+1):\n",
    "    print(visited[i])"
   ]
  },
  {
   "cell_type": "markdown",
   "metadata": {},
   "source": [
    "## 24444번: 알고리즘 수업 - 너비 우선 탐색 1"
   ]
  },
  {
   "cell_type": "code",
   "execution_count": 10,
   "metadata": {},
   "outputs": [
    {
     "name": "stdout",
     "output_type": "stream",
     "text": [
      "5 5 1\n",
      "1 4\n",
      "1 2\n",
      "2 3\n",
      "2 4\n",
      "3 4\n",
      "1\n",
      "2\n",
      "4\n",
      "3\n",
      "0\n"
     ]
    }
   ],
   "source": [
    "import sys\n",
    "from collections import deque\n",
    "#input = sys.stdin.readline\n",
    "\n",
    "N, M, R = map(int, input().split())\n",
    "graph = [[] for _ in range(N+1)]\n",
    "for i in range(M):\n",
    "    u, v = map(int, input().split())\n",
    "    graph[u].append(v)\n",
    "    graph[v].append(u)\n",
    "\n",
    "for i in range(1, N+1):\n",
    "    graph[i].sort()\n",
    "\n",
    "queue = deque()\n",
    "queue.append(R)\n",
    "visited = [0]*(N+1)\n",
    "visited[R] = 1\n",
    "cnt = 2\n",
    "while queue:\n",
    "    v = queue.popleft()\n",
    "    for n in graph[v]:\n",
    "        if not visited[n]:\n",
    "            visited[n] = cnt\n",
    "            cnt += 1\n",
    "            queue.append(n)\n",
    "\n",
    "for i in range(1, N+1):\n",
    "    print(visited[i])"
   ]
  },
  {
   "cell_type": "markdown",
   "metadata": {},
   "source": [
    "## 24445번: 알고리즘 수업 - 너비 우선 탐색 2"
   ]
  },
  {
   "cell_type": "code",
   "execution_count": 1,
   "metadata": {},
   "outputs": [
    {
     "name": "stdout",
     "output_type": "stream",
     "text": [
      "5 5 1\n",
      "1 4\n",
      "1 2\n",
      "2 3\n",
      "2 4\n",
      "3 4\n",
      "1\n",
      "3\n",
      "4\n",
      "2\n",
      "0\n"
     ]
    }
   ],
   "source": [
    "import sys\n",
    "from collections import deque\n",
    "#input = sys.stdin.readline\n",
    "\n",
    "N, M, R = map(int, input().split())\n",
    "graph = [[] for _ in range(N+1)]\n",
    "for i in range(M):\n",
    "    u, v = map(int, input().split())\n",
    "    graph[u].append(v)\n",
    "    graph[v].append(u)\n",
    "\n",
    "for i in range(1, N+1):\n",
    "    graph[i].sort(reverse=True)\n",
    "\n",
    "queue = deque()\n",
    "queue.append(R)\n",
    "visited = [0]*(N+1)\n",
    "visited[R] = 1\n",
    "cnt = 2\n",
    "while queue:\n",
    "    v = queue.popleft()\n",
    "    for n in graph[v]:\n",
    "        if not visited[n]:\n",
    "            visited[n] = cnt\n",
    "            cnt += 1\n",
    "            queue.append(n)\n",
    "\n",
    "for i in range(1, N+1):\n",
    "    print(visited[i])"
   ]
  },
  {
   "cell_type": "markdown",
   "metadata": {},
   "source": [
    "## 1260번: DFS와 BFS"
   ]
  },
  {
   "cell_type": "code",
   "execution_count": 2,
   "metadata": {},
   "outputs": [
    {
     "name": "stdout",
     "output_type": "stream",
     "text": [
      "1000 1 1000\n",
      "999 1000\n",
      "1000 999 \n",
      "1000 999 "
     ]
    }
   ],
   "source": [
    "n, m, v = map(int, input().split())\n",
    "matrix = []\n",
    "\n",
    "for i in range(n+1):\n",
    "    matrix.append([0]*(n+1))\n",
    "    \n",
    "for i in range(m):\n",
    "    start, end = map(int, input().split())\n",
    "    matrix[start][end] = 1\n",
    "    matrix[end][start] = 1\n",
    "    \n",
    "visit_dfs = [0] * (n+1)\n",
    "def DFS(v):\n",
    "    visit_dfs[v] = 1\n",
    "    print(v, end = ' ')\n",
    "    for i in range(1, n+1):\n",
    "        if visit_dfs[i] == 0 and matrix[v][i] == 1:\n",
    "            DFS(i)\n",
    "            \n",
    "visit_bfs = [0] * (n+1)\n",
    "def BFS(v):\n",
    "    queue = []\n",
    "    queue.append(v)\n",
    "    visit_bfs[v] = 1\n",
    "\n",
    "    while queue:\n",
    "        temp = queue.pop(0)\n",
    "        print(temp, end=' ')\n",
    "        \n",
    "        for i in range(n+1):\n",
    "            if visit_bfs[i] == 0 and matrix[temp][i] == 1:\n",
    "                queue.append(i)\n",
    "                visit_bfs[i] = 1\n",
    "                  \n",
    "DFS(v)\n",
    "print()\n",
    "BFS(v)"
   ]
  },
  {
   "cell_type": "markdown",
   "metadata": {},
   "source": [
    "## 2606번: 바이러스"
   ]
  },
  {
   "cell_type": "code",
   "execution_count": 11,
   "metadata": {},
   "outputs": [
    {
     "name": "stdout",
     "output_type": "stream",
     "text": [
      "7\n",
      "6\n",
      "1 2\n",
      "2 3\n",
      "1 5\n",
      "5 2\n",
      "5 6\n",
      "4 7\n",
      "4\n"
     ]
    }
   ],
   "source": [
    "N = int(input())\n",
    "M = int(input())\n",
    "matrix = []\n",
    "\n",
    "for n in range(N+1):\n",
    "    matrix.append([0] * (N+1))\n",
    "for m in range(M):\n",
    "    x, y = map(int, input().split())\n",
    "    matrix[x][y] = 1\n",
    "    matrix[y][x] = 1\n",
    "    \n",
    "count = 0\n",
    "visit = [0] * (N+1)\n",
    "def DFS(v):\n",
    "    global count\n",
    "    visit[v] = 1\n",
    "    count += 1\n",
    "    for i in range(1, n+1):\n",
    "        if visit[i] == 0 and matrix[v][i] == 1:\n",
    "            DFS(i)\n",
    "            \n",
    "DFS(1)\n",
    "print(count-1)"
   ]
  },
  {
   "cell_type": "markdown",
   "metadata": {},
   "source": [
    "## 2667번: 단지번호붙이기"
   ]
  },
  {
   "cell_type": "code",
   "execution_count": 9,
   "metadata": {},
   "outputs": [
    {
     "name": "stdout",
     "output_type": "stream",
     "text": [
      "7\n",
      "0110100\n",
      "0110101\n",
      "1110101\n",
      "0000111\n",
      "0100000\n",
      "0111110\n",
      "0111000\n",
      "3\n",
      "7\n",
      "8\n",
      "9\n"
     ]
    }
   ],
   "source": [
    "N = int(input())\n",
    "building = []\n",
    "for n in range(N):\n",
    "    building.append(list(map(int, list(input()))))\n",
    "\n",
    "visited = [[0]*N for i in range(N)]\n",
    "complex_count = []\n",
    "\n",
    "def find_complex(i, j):\n",
    "    visited[i][j] = 1\n",
    "    complex_count[-1] += 1\n",
    "    if i!=0 and building[i-1][j] ==1 and visited[i-1][j] == 0:#상\n",
    "        find_complex(i-1,j)\n",
    "    if i!=N-1 and building[i+1][j] ==1 and visited[i+1][j] == 0:#하\n",
    "        find_complex(i+1,j)\n",
    "    if j!=0 and building[i][j-1] ==1 and visited[i][j-1] == 0:#좌\n",
    "        find_complex(i,j-1)\n",
    "    if j!=N-1 and building[i][j+1] ==1 and visited[i][j+1] == 0:#우\n",
    "        find_complex(i,j+1)\n",
    "\n",
    "for i in range(N):\n",
    "    for j in range(N):\n",
    "        if building[i][j] == 1 and visited[i][j] == 0:\n",
    "            complex_count.append(0)\n",
    "            find_complex(i, j)\n",
    "            \n",
    "complex_count.sort()\n",
    "count = len(complex_count)\n",
    "print(count)\n",
    "for i in range(count):\n",
    "    print(complex_count[i])"
   ]
  },
  {
   "cell_type": "markdown",
   "metadata": {},
   "source": [
    "## 1012번: 유기농 배추"
   ]
  },
  {
   "cell_type": "code",
   "execution_count": 14,
   "metadata": {},
   "outputs": [
    {
     "name": "stdout",
     "output_type": "stream",
     "text": [
      "1\n",
      "5 3 6\n",
      "0 2\n",
      "1 2\n",
      "2 2\n",
      "3 2\n",
      "4 2\n",
      "4 0\n",
      "2\n"
     ]
    }
   ],
   "source": [
    "import sys\n",
    "sys.setrecursionlimit(100000) #재귀 깊이 미설정시 RecursionError 발생\n",
    "\n",
    "def find_adjacency(i, j):\n",
    "    visited[i][j] = 1\n",
    "    if i!=0 and field[i-1][j] == 1 and visited[i-1][j] == 0:#상\n",
    "        find_adjacency(i-1, j)\n",
    "    if i!=N-1 and field[i+1][j] == 1 and visited[i+1][j] == 0:#하\n",
    "        find_adjacency(i+1, j)\n",
    "    if j!=0 and field[i][j-1] == 1 and visited[i][j-1] == 0:#좌\n",
    "        find_adjacency(i, j-1)\n",
    "    if j!=M-1 and field[i][j+1] == 1 and visited[i][j+1] == 0:#우\n",
    "        find_adjacency(i, j+1)\n",
    "\n",
    "T = int(input())\n",
    "for t in range(T):\n",
    "    M, N, K = map(int, input().split()) #가로, 세로, 개수\n",
    "    field = [[0]*M for i in range(N)]\n",
    "    for k in range(K):\n",
    "        x, y = map(int, input().split())\n",
    "        field[y][x] = 1\n",
    "\n",
    "    visited = [[0]*M for i in range(N)]\n",
    "    count = 0\n",
    "\n",
    "    for i in range(N):\n",
    "        for j in range(M):\n",
    "            if visited[i][j] == 0 and field[i][j] == 1:\n",
    "                find_adjacency(i, j)\n",
    "                count += 1\n",
    "\n",
    "    print(count)"
   ]
  },
  {
   "cell_type": "markdown",
   "metadata": {},
   "source": [
    "## 2178번: 미로 탐색"
   ]
  },
  {
   "cell_type": "code",
   "execution_count": 18,
   "metadata": {},
   "outputs": [
    {
     "name": "stdout",
     "output_type": "stream",
     "text": [
      "7 7\n",
      "1011111\n",
      "1110001\n",
      "1000001\n",
      "1000001\n",
      "1000001\n",
      "1000001\n",
      "1111111\n",
      "13\n"
     ]
    }
   ],
   "source": [
    "N, M = map(int, input().split())\n",
    "maze = []\n",
    "for n in range(N):\n",
    "    maze.append(list(map(int, list(input()))))\n",
    "    \n",
    "queue = []\n",
    "maze_count = [[0]*M for i in range(N)]\n",
    "queue.append([N-1, M-1])\n",
    "maze_count[N-1][M-1] = 1\n",
    "\n",
    "while queue:\n",
    "    i = queue[0][0]\n",
    "    j = queue[0][1]\n",
    "    queue.pop(0)\n",
    "    \n",
    "    if i!=0 and maze[i-1][j]==1 and maze_count[i-1][j] == 0:#상\n",
    "        maze_count[i-1][j] = maze_count[i][j] + 1\n",
    "        queue.append([i-1, j])\n",
    "    if i!=N-1 and maze[i+1][j]==1 and maze_count[i+1][j] == 0:#하\n",
    "        maze_count[i+1][j] = maze_count[i][j] + 1\n",
    "        queue.append([i+1, j])\n",
    "    if j!=0 and maze[i][j-1]==1 and maze_count[i][j-1] == 0:#좌\n",
    "        maze_count[i][j-1] = maze_count[i][j] + 1\n",
    "        queue.append([i, j-1])\n",
    "    if j!=M-1 and maze[i][j+1]==1 and maze_count[i][j+1] == 0:#우\n",
    "        maze_count[i][j+1] = maze_count[i][j] + 1\n",
    "        queue.append([i, j+1])\n",
    "        \n",
    "print(maze_count[0][0])"
   ]
  },
  {
   "cell_type": "markdown",
   "metadata": {},
   "source": [
    "## 7576번: 토마토"
   ]
  },
  {
   "cell_type": "code",
   "execution_count": 53,
   "metadata": {},
   "outputs": [
    {
     "name": "stdout",
     "output_type": "stream",
     "text": [
      "2 2\n",
      "1 -1\n",
      "-1 1\n",
      "0\n"
     ]
    }
   ],
   "source": [
    "import sys #sys.stdin.readline().rstrip()\n",
    "from collections import deque\n",
    "\n",
    "M, N = map(int, input().split())\n",
    "tomato = []\n",
    "for n in range(N):\n",
    "    tomato.append(list(map(int, input().split())))\n",
    "    \n",
    "queue = deque()\n",
    "for i in range(N):\n",
    "    for j in range(M):\n",
    "        if tomato[i][j] == 1:\n",
    "            queue.append([i, j])\n",
    "\n",
    "while queue:\n",
    "    i = queue[0][0]\n",
    "    j = queue[0][1]\n",
    "    queue.popleft()\n",
    "    \n",
    "    if i!=0 and tomato[i-1][j] == 0:#상\n",
    "        tomato[i-1][j] = tomato[i][j] + 1\n",
    "        queue.append([i-1, j])\n",
    "    if i!=N-1 and tomato[i+1][j] == 0:#하\n",
    "        tomato[i+1][j] = tomato[i][j] + 1\n",
    "        queue.append([i+1, j])\n",
    "    if j!=0 and tomato[i][j-1] == 0:#좌\n",
    "        tomato[i][j-1] = tomato[i][j] + 1\n",
    "        queue.append([i, j-1])\n",
    "    if j!=M-1 and tomato[i][j+1] == 0:#우\n",
    "        tomato[i][j+1] = tomato[i][j] + 1\n",
    "        queue.append([i, j+1])\n",
    "        \n",
    "max_value = 0\n",
    "for i in range(N):\n",
    "    max_value = max(max(tomato[i]), max_value)\n",
    "    if 0 in tomato[i]:\n",
    "        max_value = 0\n",
    "        break\n",
    "\n",
    "print(max_value-1)"
   ]
  },
  {
   "cell_type": "markdown",
   "metadata": {},
   "source": [
    "## 7569번: 토마토"
   ]
  },
  {
   "cell_type": "code",
   "execution_count": 8,
   "metadata": {},
   "outputs": [
    {
     "name": "stdout",
     "output_type": "stream",
     "text": [
      "4 3 2\n",
      "1 1 1 1\n",
      "1 1 1 1\n",
      "1 1 1 1\n",
      "1 1 1 1\n",
      "-1 -1 -1 -1\n",
      "1 1 1 -1\n",
      "0\n"
     ]
    }
   ],
   "source": [
    "import sys #sys.stdin.readline().rstrip()\n",
    "from collections import deque\n",
    "\n",
    "M, N, H = map(int, sys.stdin.readline().rstrip().split())\n",
    "tomato = []\n",
    "for h in range(H):\n",
    "    temp = []\n",
    "    for n in range(N):\n",
    "        temp.append(list(map(int, sys.stdin.readline().rstrip().split())))\n",
    "    tomato.append(temp)\n",
    "\n",
    "queue = deque()\n",
    "for i in range(H):\n",
    "    for j in range(N):\n",
    "        for k in range(M):\n",
    "            if tomato[i][j][k] == 1:\n",
    "                queue.append([i, j, k])\n",
    "\n",
    "while queue:\n",
    "    i = queue[0][0]\n",
    "    j = queue[0][1]\n",
    "    k = queue[0][2]\n",
    "    queue.popleft()\n",
    "    \n",
    "    if i!=H-1 and tomato[i+1][j][k] == 0:#위\n",
    "        tomato[i+1][j][k] = tomato[i][j][k] + 1\n",
    "        queue.append([i+1, j, k])\n",
    "    if i!=0 and tomato[i-1][j][k] == 0:#아래\n",
    "        tomato[i-1][j][k] = tomato[i][j][k] + 1\n",
    "        queue.append([i-1, j, k])\n",
    "    if j!=N-1 and tomato[i][j+1][k] == 0:#뒤\n",
    "        tomato[i][j+1][k] = tomato[i][j][k] + 1\n",
    "        queue.append([i, j+1, k])\n",
    "    if j!=0 and tomato[i][j-1][k] == 0:#앞\n",
    "        tomato[i][j-1][k] = tomato[i][j][k] + 1\n",
    "        queue.append([i, j-1, k])\n",
    "    if k!=M-1 and tomato[i][j][k+1] == 0:#오른쪽\n",
    "        tomato[i][j][k+1] = tomato[i][j][k] + 1\n",
    "        queue.append([i, j, k+1])\n",
    "    if k!=0 and tomato[i][j][k-1] == 0:#왼쪽\n",
    "        tomato[i][j][k-1] = tomato[i][j][k] + 1\n",
    "        queue.append([i, j, k-1])\n",
    "    \n",
    "        \n",
    "max_value = 0\n",
    "for i in range(H):\n",
    "    for j in range(N):\n",
    "        max_value = max(max(tomato[i][j]), max_value)\n",
    "        if 0 in tomato[i][j]:\n",
    "            max_value = 0\n",
    "            break\n",
    "    if max_value == 0:\n",
    "        break\n",
    "\n",
    "print(max_value-1)"
   ]
  },
  {
   "cell_type": "markdown",
   "metadata": {},
   "source": [
    "## 1697번: 숨바꼭질"
   ]
  },
  {
   "cell_type": "code",
   "execution_count": 5,
   "metadata": {},
   "outputs": [
    {
     "name": "stdout",
     "output_type": "stream",
     "text": [
      "5 17\n",
      "4\n"
     ]
    }
   ],
   "source": [
    "from collections import deque\n",
    "N, K = map(int, input().split())\n",
    "count = [0] * 100001\n",
    "count[N] = 1\n",
    "\n",
    "queue = deque()\n",
    "queue.append(N)\n",
    "\n",
    "while(queue):\n",
    "    x = queue.popleft()\n",
    "    if x == K:\n",
    "        break\n",
    "        \n",
    "    if x-1>=0 and count[x-1] == 0: #x-1\n",
    "        queue.append(x-1)\n",
    "        count[x-1] = count[x] + 1\n",
    "    if x+1<=100000 and count[x+1] == 0: #x+1\n",
    "        queue.append(x+1)\n",
    "        count[x+1] = count[x] + 1\n",
    "    if x*2<=100000 and count[x*2] == 0: #x*2\n",
    "        queue.append(x*2)\n",
    "        count[x*2] = count[x] + 1\n",
    "\n",
    "print(count[K]-1)"
   ]
  },
  {
   "cell_type": "markdown",
   "metadata": {},
   "source": [
    "## 2206번: 벽 부수고 이동하기"
   ]
  },
  {
   "cell_type": "code",
   "execution_count": 22,
   "metadata": {},
   "outputs": [
    {
     "name": "stdout",
     "output_type": "stream",
     "text": [
      "6 4\n",
      "0100\n",
      "1110\n",
      "1000\n",
      "0000\n",
      "0111\n",
      "0000\n",
      "15\n"
     ]
    }
   ],
   "source": [
    "from collections import deque\n",
    "\n",
    "N, M = map(int, input().split())\n",
    "matrix = []\n",
    "for n in range(N):\n",
    "    matrix.append(list(map(int, list(input()))))\n",
    "\n",
    "dx = [0, 0, 1, -1]\n",
    "dy = [1, -1, 0, 0]\n",
    "queue = deque()\n",
    "queue.append([0, 0, 1])\n",
    "visit = [[[0] * 2 for i in range(M)] for i in range(N)]\n",
    "visit[0][0][1] = 1\n",
    "\n",
    "while queue:\n",
    "    i, j, k = queue.popleft()\n",
    "    \n",
    "    for d in range(4):\n",
    "        x = i + dx[d]\n",
    "        y = j + dy[d]\n",
    "        if 0 <= x < N and 0 <= y < M:\n",
    "                if matrix[x][y] == 1 and k == 1:\n",
    "                    visit[x][y][0] = visit[i][j][1] + 1\n",
    "                    queue.append([x, y, 0])\n",
    "                elif matrix[x][y] == 0 and visit[x][y][k] == 0:\n",
    "                    visit[x][y][k] = visit[i][j][k] + 1\n",
    "                    queue.append([x, y, k])\n",
    "\n",
    "if visit[-1][-1] == [0, 0]:\n",
    "    print(-1)\n",
    "elif 0 in visit[-1][-1]:\n",
    "    print(max(visit[-1][-1]))\n",
    "else:\n",
    "    print(min(visit[-1][-1]))"
   ]
  },
  {
   "cell_type": "markdown",
   "metadata": {},
   "source": [
    "## 7562번: 나이트의 이동"
   ]
  },
  {
   "cell_type": "code",
   "execution_count": 8,
   "metadata": {},
   "outputs": [
    {
     "name": "stdout",
     "output_type": "stream",
     "text": [
      "3\n",
      "8\n",
      "0 0\n",
      "7 0\n",
      "5\n",
      "100\n",
      "0 0\n",
      "30 50\n",
      "28\n",
      "10\n",
      "1 1\n",
      "1 1\n",
      "0\n"
     ]
    }
   ],
   "source": [
    "from collections import deque\n",
    "\n",
    "T = int(input())\n",
    "for t in range(T):\n",
    "    I = int(input())\n",
    "    visit = [[0]*I for i in range(I)]\n",
    "    start_x , start_y = map(int, input().split())\n",
    "    end_x, end_y = map(int, input().split())\n",
    "\n",
    "    queue = deque()\n",
    "    queue.append([start_x, start_y])\n",
    "    dy = [-2, -2, -1, -1, +1, +1, +2, +2]\n",
    "    dx = [-1, +1, -2, +2, -2, +2, -1, +1]\n",
    "\n",
    "    while queue:\n",
    "        x, y = queue.popleft()\n",
    "        if x == end_x and y == end_y:\n",
    "            break\n",
    "        \n",
    "        for d in range(8):\n",
    "            i = x + dx[d]\n",
    "            j = y + dy[d]\n",
    "            if 0 <= i < I and 0 <= j < I and visit[i][j] == 0:\n",
    "                visit[i][j] = visit[x][y] + 1\n",
    "                queue.append([i, j])\n",
    "\n",
    "    print(visit[end_x][end_y])"
   ]
  },
  {
   "cell_type": "markdown",
   "metadata": {},
   "source": [
    "## 1707번: 이분 그래프"
   ]
  },
  {
   "cell_type": "code",
   "execution_count": 19,
   "metadata": {},
   "outputs": [
    {
     "name": "stdout",
     "output_type": "stream",
     "text": [
      "2\n",
      "3 2\n",
      "1 3\n",
      "2 3\n",
      "YES\n",
      "4 4\n",
      "1 2\n",
      "2 3\n",
      "3 4\n",
      "4 2\n",
      "NO\n"
     ]
    }
   ],
   "source": [
    "import sys #sys.stdin.readline().rstrip()\n",
    "from collections import deque\n",
    "\n",
    "T = int(input())\n",
    "for t in range(T):\n",
    "    V, E = map(int, input().split())#정점의 개수 V, 간선의 개수 E\n",
    "    graph = [[] for i in range(V + 1)]\n",
    "    check = [-1] * (V+1)\n",
    "\n",
    "    for i in range(E):\n",
    "        a, b = map(int, input().split())\n",
    "        graph[a].append(b)\n",
    "        graph[b].append(a)\n",
    "\n",
    "    result = 'YES'\n",
    "    \n",
    "    while -1 in check: \n",
    "        queue = deque()\n",
    "        index = check.index(-1) #방문하지 않은 정점\n",
    "        queue.append(index)\n",
    "        check[index] = 0\n",
    "        while queue:\n",
    "            select = queue.popleft()\n",
    "            for l in graph[select]:\n",
    "                if check[l] == check[select]: #이분 그래프 확인\n",
    "                    result = 'NO'\n",
    "                    break\n",
    "                if check[l] == -1: #방문 확인\n",
    "                    if check[select] == 1: check[l] = 0\n",
    "                    else: check[l] = 1\n",
    "                    queue.append(l)\n",
    "    \n",
    "    print(result)"
   ]
  }
 ],
 "metadata": {
  "kernelspec": {
   "display_name": "Python 3",
   "language": "python",
   "name": "python3"
  },
  "language_info": {
   "codemirror_mode": {
    "name": "ipython",
    "version": 3
   },
   "file_extension": ".py",
   "mimetype": "text/x-python",
   "name": "python",
   "nbconvert_exporter": "python",
   "pygments_lexer": "ipython3",
   "version": "3.8.3"
  },
  "toc": {
   "base_numbering": 1,
   "nav_menu": {},
   "number_sections": true,
   "sideBar": true,
   "skip_h1_title": false,
   "title_cell": "Table of Contents",
   "title_sidebar": "Contents",
   "toc_cell": false,
   "toc_position": {},
   "toc_section_display": true,
   "toc_window_display": false
  },
  "varInspector": {
   "cols": {
    "lenName": 16,
    "lenType": 16,
    "lenVar": 40
   },
   "kernels_config": {
    "python": {
     "delete_cmd_postfix": "",
     "delete_cmd_prefix": "del ",
     "library": "var_list.py",
     "varRefreshCmd": "print(var_dic_list())"
    },
    "r": {
     "delete_cmd_postfix": ") ",
     "delete_cmd_prefix": "rm(",
     "library": "var_list.r",
     "varRefreshCmd": "cat(var_dic_list()) "
    }
   },
   "types_to_exclude": [
    "module",
    "function",
    "builtin_function_or_method",
    "instance",
    "_Feature"
   ],
   "window_display": false
  }
 },
 "nbformat": 4,
 "nbformat_minor": 4
}
