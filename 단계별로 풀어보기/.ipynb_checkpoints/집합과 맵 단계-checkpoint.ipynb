{
 "cells": [
  {
   "cell_type": "markdown",
   "metadata": {},
   "source": [
    "## 10815번: 숫자 카드"
   ]
  },
  {
   "cell_type": "code",
   "execution_count": null,
   "metadata": {},
   "outputs": [],
   "source": [
    "N = int(input())\n",
    "arr1 = list(map(int, input().split()))\n",
    "M = int(input())\n",
    "arr2 = list(map(int, input().split()))\n",
    "\n",
    "card = [0]*(20000001)\n",
    "for a in arr1:\n",
    "    card[a] = 1\n",
    "for a in arr2:\n",
    "    print(card[a], end=' ')"
   ]
  },
  {
   "cell_type": "markdown",
   "metadata": {},
   "source": [
    "## 14425번: 문자열 집합"
   ]
  },
  {
   "cell_type": "code",
   "execution_count": null,
   "metadata": {},
   "outputs": [],
   "source": [
    "from collections import deque\n",
    "\n",
    "class Node:\n",
    "    def __init__(self, key):\n",
    "        self.key = key\n",
    "        self.data = None\n",
    "        self.children = []\n",
    "\n",
    "class Trie:\n",
    "    def __init__(self):\n",
    "        self.root = Node('root')\n",
    "    \n",
    "    def insert(self, string):\n",
    "        queue = deque()\n",
    "        for i in string:\n",
    "            queue.append(i)\n",
    "        curr = self.root\n",
    "            \n",
    "        while queue:\n",
    "            select = queue.popleft()\n",
    "            check = 0\n",
    "            for char, address in curr.children:\n",
    "                if select == char: #해당글자가 있을 경우\n",
    "                    curr = address\n",
    "                    check = 1\n",
    "                    break\n",
    "            if check == 0: #해당 글자가 없을 경우\n",
    "                queue.appendleft(select)\n",
    "                break\n",
    "                \n",
    "        while queue:\n",
    "            select = queue.popleft()\n",
    "            newNode = Node(select)\n",
    "            curr.children.append([select, newNode])\n",
    "            curr = newNode\n",
    "            \n",
    "        curr.data = string\n",
    "        \n",
    "    def find(self, string):\n",
    "        queue = deque()\n",
    "        for i in string:\n",
    "            queue.append(i)\n",
    "        curr = self.root\n",
    "        \n",
    "        while queue:\n",
    "            select = queue.popleft()\n",
    "            check = 0\n",
    "            for char, address in curr.children:\n",
    "                if select == char: #해당글자가 있을 경우\n",
    "                    curr = address\n",
    "                    check = 1\n",
    "                    break\n",
    "            if check == 0: #해당 글자가 없을 경우\n",
    "                queue.appendleft(select)\n",
    "                return False\n",
    "        if curr.data == string:\n",
    "            return True\n",
    "        else:\n",
    "            return False\n",
    "        \n",
    "N, M = map(int, input().split())\n",
    "trie = Trie()\n",
    "\n",
    "for _ in range(N):\n",
    "    string = input()\n",
    "    trie.insert(string)\n",
    "    \n",
    "count = 0\n",
    "for _ in range(M):\n",
    "    string = input()\n",
    "    if trie.find(string):\n",
    "        count += 1\n",
    "        \n",
    "print(count)"
   ]
  },
  {
   "cell_type": "markdown",
   "metadata": {},
   "source": [
    "## 1620번: 나는야 포켓몬 마스터 이다솜"
   ]
  },
  {
   "cell_type": "code",
   "execution_count": null,
   "metadata": {},
   "outputs": [],
   "source": [
    "import sys\n",
    "#input = sys.stdin.readline\n",
    "\n",
    "M, N = map(int, input().split())\n",
    "arr = []\n",
    "for _ in range(M):\n",
    "    arr.append(input().rstrip('\\n'))\n",
    "    \n",
    "for _ in range(N):\n",
    "    q = input().rstrip('\\n')\n",
    "    if(q.isnumeric()):\n",
    "        print(arr[int(q)-1])\n",
    "    else:\n",
    "        print(arr.index(q)+1)"
   ]
  },
  {
   "cell_type": "markdown",
   "metadata": {},
   "source": [
    "## 10816번: 숫자 카드 2"
   ]
  },
  {
   "cell_type": "code",
   "execution_count": null,
   "metadata": {},
   "outputs": [],
   "source": [
    "N = int(input())\n",
    "arr = list(map(int, input().split()))\n",
    "M = int(input())\n",
    "arr_search = list(map(int, input().split()))\n",
    "arr.sort()\n",
    "\n",
    "def search_front_num(num, left, right):\n",
    "    while (right > left):\n",
    "        mid = (left+right)//2\n",
    "        if arr[mid] >= num:\n",
    "            right = mid\n",
    "        else:\n",
    "            left = mid + 1\n",
    "    return right\n",
    "\n",
    "def search_back_num(num, left, right):\n",
    "    if arr[N-1] == num:\n",
    "        return N\n",
    "    while (right > left):\n",
    "        mid = (left+right)//2\n",
    "        if arr[mid] > num:\n",
    "            right = mid\n",
    "        else:\n",
    "            left = mid + 1\n",
    "    return right\n",
    "\n",
    "for a in arr_search:\n",
    "    back = search_back_num(a, 0, N-1)\n",
    "    front = search_front_num(a, 0, N-1)\n",
    "    if front == 0 and arr[back-1] != a:\n",
    "        print(0, end=' ')\n",
    "    else:\n",
    "        print(back-front, end=' ')"
   ]
  },
  {
   "cell_type": "markdown",
   "metadata": {},
   "source": [
    "## 1764번: 듣보잡"
   ]
  },
  {
   "cell_type": "code",
   "execution_count": null,
   "metadata": {},
   "outputs": [],
   "source": [
    "N, M = map(int, input().split())\n",
    "arr1 = set()\n",
    "arr2 = set()\n",
    "for _ in range(N):\n",
    "    arr1.add(input())\n",
    "for _ in range(M):\n",
    "    arr2.add(input())\n",
    "\n",
    "result = sorted(list(arr1&arr2))\n",
    "\n",
    "print(len(result))\n",
    "for i in result:\n",
    "    print(i)"
   ]
  },
  {
   "cell_type": "markdown",
   "metadata": {},
   "source": [
    "## 1269번: 대칭 차집합"
   ]
  },
  {
   "cell_type": "code",
   "execution_count": 5,
   "metadata": {},
   "outputs": [
    {
     "name": "stdout",
     "output_type": "stream",
     "text": [
      "3 5\n",
      "1 2 4\n",
      "2 3 4 5 6\n",
      "4\n"
     ]
    }
   ],
   "source": [
    "N, M = map(int, input().split())\n",
    "A = set(map(int, input().split()))\n",
    "B = set(map(int, input().split()))\n",
    "print(len(A-B)+len(B-A))"
   ]
  }
 ],
 "metadata": {
  "kernelspec": {
   "display_name": "Python 3",
   "language": "python",
   "name": "python3"
  },
  "language_info": {
   "codemirror_mode": {
    "name": "ipython",
    "version": 3
   },
   "file_extension": ".py",
   "mimetype": "text/x-python",
   "name": "python",
   "nbconvert_exporter": "python",
   "pygments_lexer": "ipython3",
   "version": "3.8.3"
  },
  "toc": {
   "base_numbering": 1,
   "nav_menu": {},
   "number_sections": true,
   "sideBar": true,
   "skip_h1_title": false,
   "title_cell": "Table of Contents",
   "title_sidebar": "Contents",
   "toc_cell": false,
   "toc_position": {},
   "toc_section_display": true,
   "toc_window_display": false
  },
  "varInspector": {
   "cols": {
    "lenName": 16,
    "lenType": 16,
    "lenVar": 40
   },
   "kernels_config": {
    "python": {
     "delete_cmd_postfix": "",
     "delete_cmd_prefix": "del ",
     "library": "var_list.py",
     "varRefreshCmd": "print(var_dic_list())"
    },
    "r": {
     "delete_cmd_postfix": ") ",
     "delete_cmd_prefix": "rm(",
     "library": "var_list.r",
     "varRefreshCmd": "cat(var_dic_list()) "
    }
   },
   "types_to_exclude": [
    "module",
    "function",
    "builtin_function_or_method",
    "instance",
    "_Feature"
   ],
   "window_display": false
  }
 },
 "nbformat": 4,
 "nbformat_minor": 4
}
