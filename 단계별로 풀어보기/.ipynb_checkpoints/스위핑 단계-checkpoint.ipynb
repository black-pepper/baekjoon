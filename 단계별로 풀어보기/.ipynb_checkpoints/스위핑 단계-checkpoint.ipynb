{
 "cells": [
  {
   "cell_type": "markdown",
   "metadata": {},
   "source": [
    "## 2170번: 선 긋기"
   ]
  },
  {
   "cell_type": "code",
   "execution_count": 11,
   "metadata": {},
   "outputs": [
    {
     "name": "stdout",
     "output_type": "stream",
     "text": [
      "4\n",
      "1 3\n",
      "2 5\n",
      "3 5\n",
      "6 7\n",
      "5\n"
     ]
    }
   ],
   "source": [
    "import sys\n",
    "#input = sys.stdin.readline\n",
    "\n",
    "N = int(input())\n",
    "line = []\n",
    "for i in range(N):\n",
    "    line.append(tuple(map(int, input().split())))\n",
    "\n",
    "line.sort()\n",
    "X, Y = line[0]\n",
    "result = 0\n",
    "for x, y in line:\n",
    "    if Y < x: #합친 선분의 오른쪽 끝이 새로운 선분의 왼쪽 끝보다 작으면\n",
    "        result += Y-X\n",
    "        X, Y = x, y\n",
    "        continue\n",
    "    Y = max(Y, y) #선분의 오른쪽 끝 업데이트\n",
    "result += Y-X\n",
    "print(result)"
   ]
  },
  {
   "cell_type": "markdown",
   "metadata": {},
   "source": [
    "## 2836번: 수상 택시"
   ]
  },
  {
   "cell_type": "code",
   "execution_count": 5,
   "metadata": {},
   "outputs": [
    {
     "name": "stdout",
     "output_type": "stream",
     "text": [
      "2 10\n",
      "2 8\n",
      "6 4\n",
      "14\n"
     ]
    }
   ],
   "source": [
    "import sys\n",
    "#input = sys.stdin.readline\n",
    "\n",
    "N, M = map(int, input().split())\n",
    "arr = []\n",
    "for i in range(N):\n",
    "    s, e = map(int, input().split())\n",
    "    if s > e:\n",
    "        arr.append((s, e))\n",
    "\n",
    "result = M\n",
    "arr.sort(reverse=True)\n",
    "start = -1\n",
    "end = -1\n",
    "for s, e in arr:\n",
    "    if end > s or start == end == -1:\n",
    "        result += (start-end)*2\n",
    "        start = s\n",
    "        end = e\n",
    "    else:\n",
    "        end = min(end, e)\n",
    "        \n",
    "result += (start-end)*2\n",
    "print(result)"
   ]
  },
  {
   "cell_type": "markdown",
   "metadata": {},
   "source": [
    "## 5419번: 북서풍"
   ]
  },
  {
   "cell_type": "code",
   "execution_count": 22,
   "metadata": {},
   "outputs": [
    {
     "name": "stdout",
     "output_type": "stream",
     "text": [
      "2\n",
      "4\n",
      "-10 -10\n",
      "-10 10\n",
      "10 -10\n",
      "10 10\n",
      "5\n",
      "3\n",
      "1 3\n",
      "2 2\n",
      "3 1\n",
      "3\n"
     ]
    }
   ],
   "source": [
    "from bisect import bisect_left\n",
    "import sys\n",
    "#input = sys.stdin.readline\n",
    "\n",
    "def tree_update(x):\n",
    "    while x <= len(arr_y):\n",
    "        tree[x] += 1\n",
    "        x += x & -x\n",
    "\n",
    "def tree_find(x):\n",
    "    result = 0\n",
    "    while x:\n",
    "        result += tree[x]\n",
    "        x -= x & -x\n",
    "    return result\n",
    "\n",
    "T = int(input())\n",
    "for t in range(T):\n",
    "    n = int(input())\n",
    "    arr = []\n",
    "    arr_y = set()\n",
    "    for i in range(n):\n",
    "        arr.append(list(map(int, input().split())))\n",
    "        arr[-1][1] *= -1\n",
    "        arr_y.add(arr[-1][1])\n",
    "\n",
    "    result = 0\n",
    "    arr.sort()\n",
    "    arr_y = [-10 ** 9 - 1] + sorted(list(arr_y))\n",
    "\n",
    "    tree = [0] * (len(arr_y) + 1)\n",
    "\n",
    "    for i in range(n):\n",
    "        temp = bisect_left(arr_y, arr[i][1])\n",
    "        result += tree_find(temp)\n",
    "        tree_update(temp)\n",
    "\n",
    "    print(result)"
   ]
  },
  {
   "cell_type": "markdown",
   "metadata": {},
   "source": [
    "## 17131번: 여우가 정보섬에 올라온 이유 (미완성)"
   ]
  },
  {
   "cell_type": "code",
   "execution_count": null,
   "metadata": {},
   "outputs": [],
   "source": [
    "import sys\n",
    "#input = sys.stdin.readline\n",
    "\n",
    "def tree_update(start, end, node, num, x):\n",
    "    if start == end:\n",
    "        tree[node] += num\n",
    "        return\n",
    "    mid = (start+end)//2\n",
    "    if x <= mid: #왼쪽으로\n",
    "        tree_update(start, mid, node*2, num, x)\n",
    "    else:\n",
    "        tree_update(mid+1, end, node*2+1, num, x)\n",
    "    tree[node] = tree[node*2] + tree[node*2+1]\n",
    "\n",
    "def tree_find(start, end, node, left, right):\n",
    "    if start > right or end < left:\n",
    "        return 0\n",
    "    if left <= start <= end <= right:\n",
    "        return tree[node]\n",
    "    mid = (start+end)//2\n",
    "    left_tree = tree_find(start, mid, node*2, left, right)\n",
    "    right_tree = tree_find(mid+1, end, node*2+1, left, right)\n",
    "    return left_tree + right_tree\n",
    "\n",
    "N = int(input())\n",
    "stars = []\n",
    "max_x = -2*10**5\n",
    "min_x = 2*10**5\n",
    "for i in range(N):\n",
    "    stars.append(list(map(int, input().split())))\n",
    "    max_x = max(max_x, stars[i][0])\n",
    "    min_x = min(min_x, stars[i][0])\n",
    "\n",
    "tree = [0] * ((max_x-min_x)*N)\n",
    "for i in range(N):\n",
    "    tree_update(min_x, max_x, 1, 1, stars[i][0])\n",
    "\n",
    "stars.sort(key=lambda x: x[1])\n",
    "ans = 0\n",
    "for x, y in stars:\n",
    "    l = tree_find(min_x, max_x, 1, min_x, x-1) #왼쪽\n",
    "    r = tree_find(min_x, max_x, 1, x+1, max_x) #오른쪽\n",
    "    ans = (ans + l*r) % (10**9+7)\n",
    "    tree_update(min_x, max_x, 1, -1, x)#제거\n",
    "print(ans)"
   ]
  }
 ],
 "metadata": {
  "kernelspec": {
   "display_name": "Python 3",
   "language": "python",
   "name": "python3"
  },
  "language_info": {
   "codemirror_mode": {
    "name": "ipython",
    "version": 3
   },
   "file_extension": ".py",
   "mimetype": "text/x-python",
   "name": "python",
   "nbconvert_exporter": "python",
   "pygments_lexer": "ipython3",
   "version": "3.8.3"
  },
  "toc": {
   "base_numbering": 1,
   "nav_menu": {},
   "number_sections": true,
   "sideBar": true,
   "skip_h1_title": false,
   "title_cell": "Table of Contents",
   "title_sidebar": "Contents",
   "toc_cell": false,
   "toc_position": {},
   "toc_section_display": true,
   "toc_window_display": false
  },
  "varInspector": {
   "cols": {
    "lenName": 16,
    "lenType": 16,
    "lenVar": 40
   },
   "kernels_config": {
    "python": {
     "delete_cmd_postfix": "",
     "delete_cmd_prefix": "del ",
     "library": "var_list.py",
     "varRefreshCmd": "print(var_dic_list())"
    },
    "r": {
     "delete_cmd_postfix": ") ",
     "delete_cmd_prefix": "rm(",
     "library": "var_list.r",
     "varRefreshCmd": "cat(var_dic_list()) "
    }
   },
   "types_to_exclude": [
    "module",
    "function",
    "builtin_function_or_method",
    "instance",
    "_Feature"
   ],
   "window_display": false
  }
 },
 "nbformat": 4,
 "nbformat_minor": 4
}
