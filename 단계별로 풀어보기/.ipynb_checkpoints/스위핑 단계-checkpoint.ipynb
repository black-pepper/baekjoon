{
 "cells": [
  {
   "cell_type": "markdown",
   "metadata": {},
   "source": [
    "## 2170번: 선 긋기"
   ]
  },
  {
   "cell_type": "code",
   "execution_count": 11,
   "metadata": {},
   "outputs": [
    {
     "name": "stdout",
     "output_type": "stream",
     "text": [
      "4\n",
      "1 3\n",
      "2 5\n",
      "3 5\n",
      "6 7\n",
      "5\n"
     ]
    }
   ],
   "source": [
    "import sys\n",
    "#input = sys.stdin.readline\n",
    "\n",
    "N = int(input())\n",
    "line = []\n",
    "for i in range(N):\n",
    "    line.append(tuple(map(int, input().split())))\n",
    "\n",
    "line.sort()\n",
    "X, Y = line[0]\n",
    "result = 0\n",
    "for x, y in line:\n",
    "    if Y < x: #합친 선분의 오른쪽 끝이 새로운 선분의 왼쪽 끝보다 작으면\n",
    "        result += Y-X\n",
    "        X, Y = x, y\n",
    "        continue\n",
    "    Y = max(Y, y) #선분의 오른쪽 끝 업데이트\n",
    "result += Y-X\n",
    "print(result)"
   ]
  },
  {
   "cell_type": "markdown",
   "metadata": {},
   "source": [
    "## 2836번: 수상 택시"
   ]
  },
  {
   "cell_type": "code",
   "execution_count": 5,
   "metadata": {},
   "outputs": [
    {
     "name": "stdout",
     "output_type": "stream",
     "text": [
      "2 10\n",
      "2 8\n",
      "6 4\n",
      "14\n"
     ]
    }
   ],
   "source": [
    "import sys\n",
    "#input = sys.stdin.readline\n",
    "\n",
    "N, M = map(int, input().split())\n",
    "arr = []\n",
    "for i in range(N):\n",
    "    s, e = map(int, input().split())\n",
    "    if s > e:\n",
    "        arr.append((s, e))\n",
    "\n",
    "result = M\n",
    "arr.sort(reverse=True)\n",
    "start = -1\n",
    "end = -1\n",
    "for s, e in arr:\n",
    "    if end > s or start == end == -1:\n",
    "        result += (start-end)*2\n",
    "        start = s\n",
    "        end = e\n",
    "    else:\n",
    "        end = min(end, e)\n",
    "        \n",
    "result += (start-end)*2\n",
    "print(result)"
   ]
  }
 ],
 "metadata": {
  "kernelspec": {
   "display_name": "Python 3",
   "language": "python",
   "name": "python3"
  },
  "language_info": {
   "codemirror_mode": {
    "name": "ipython",
    "version": 3
   },
   "file_extension": ".py",
   "mimetype": "text/x-python",
   "name": "python",
   "nbconvert_exporter": "python",
   "pygments_lexer": "ipython3",
   "version": "3.8.3"
  },
  "toc": {
   "base_numbering": 1,
   "nav_menu": {},
   "number_sections": true,
   "sideBar": true,
   "skip_h1_title": false,
   "title_cell": "Table of Contents",
   "title_sidebar": "Contents",
   "toc_cell": false,
   "toc_position": {},
   "toc_section_display": true,
   "toc_window_display": false
  },
  "varInspector": {
   "cols": {
    "lenName": 16,
    "lenType": 16,
    "lenVar": 40
   },
   "kernels_config": {
    "python": {
     "delete_cmd_postfix": "",
     "delete_cmd_prefix": "del ",
     "library": "var_list.py",
     "varRefreshCmd": "print(var_dic_list())"
    },
    "r": {
     "delete_cmd_postfix": ") ",
     "delete_cmd_prefix": "rm(",
     "library": "var_list.r",
     "varRefreshCmd": "cat(var_dic_list()) "
    }
   },
   "types_to_exclude": [
    "module",
    "function",
    "builtin_function_or_method",
    "instance",
    "_Feature"
   ],
   "window_display": false
  }
 },
 "nbformat": 4,
 "nbformat_minor": 4
}
