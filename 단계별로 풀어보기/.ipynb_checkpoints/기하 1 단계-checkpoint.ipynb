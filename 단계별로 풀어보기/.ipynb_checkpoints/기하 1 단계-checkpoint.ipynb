{
 "cells": [
  {
   "cell_type": "markdown",
   "metadata": {},
   "source": [
    "## 1085번: 직사각형에서 탈출"
   ]
  },
  {
   "cell_type": "code",
   "execution_count": 2,
   "metadata": {},
   "outputs": [
    {
     "name": "stdout",
     "output_type": "stream",
     "text": [
      "6 2 10 3\n",
      "1\n"
     ]
    }
   ],
   "source": [
    "x, y, w, h = map(int, input().split())\n",
    "\n",
    "d = []\n",
    "d.append(x)\n",
    "d.append(y)\n",
    "d.append(w-x)\n",
    "d.append(h-y)\n",
    "\n",
    "print(min(d))"
   ]
  },
  {
   "cell_type": "markdown",
   "metadata": {},
   "source": [
    "## 3009번: 네 번째 점"
   ]
  },
  {
   "cell_type": "code",
   "execution_count": 3,
   "metadata": {},
   "outputs": [
    {
     "name": "stdout",
     "output_type": "stream",
     "text": [
      "5 5\n",
      "5 7\n",
      "7 5\n",
      "7 7\n"
     ]
    }
   ],
   "source": [
    "x = []\n",
    "y = []\n",
    "\n",
    "for i in range(3):\n",
    "    x_input, y_input = map(int, input().split())\n",
    "    x.append(x_input)\n",
    "    y.append(y_input)\n",
    "    \n",
    "for i in range(3):\n",
    "    if x.count(x[i]) == 1 : x_result = x[i]\n",
    "    if y.count(y[i]) == 1 : y_result = y[i]\n",
    "\n",
    "print(x_result, y_result)"
   ]
  },
  {
   "cell_type": "markdown",
   "metadata": {},
   "source": [
    "## 3034번: 앵그리 창영"
   ]
  },
  {
   "cell_type": "code",
   "execution_count": 49,
   "metadata": {},
   "outputs": [
    {
     "name": "stdout",
     "output_type": "stream",
     "text": [
      "5 3 4\n",
      "3\n",
      "DA\n",
      "4\n",
      "DA\n",
      "5\n",
      "DA\n",
      "6\n",
      "NE\n",
      "7\n",
      "NE\n"
     ]
    }
   ],
   "source": [
    "N, W, H = map(int, input().split())\n",
    "check = W**2+H**2\n",
    "for i in range(N):\n",
    "    if int(input())**2 <= check:\n",
    "        print('DA')\n",
    "    else: print('NE')"
   ]
  },
  {
   "cell_type": "markdown",
   "metadata": {},
   "source": [
    "## 2477번: 참외밭"
   ]
  },
  {
   "cell_type": "code",
   "execution_count": 1,
   "metadata": {},
   "outputs": [
    {
     "name": "stdout",
     "output_type": "stream",
     "text": [
      "7\n",
      "4 50\n",
      "2 160\n",
      "3 30\n",
      "1 60\n",
      "3 20\n",
      "1 100\n",
      "47600\n"
     ]
    }
   ],
   "source": [
    "K = int(input())\n",
    "arr = [tuple(map(int,input().split())) for _ in range(6)]\n",
    "\n",
    "width, height = 0, 0\n",
    "width_idx, height_idx = -1, -1\n",
    "for i in range(6):\n",
    "    d, w = arr[i]\n",
    "    if d in [1, 2] and w>width:\n",
    "        width_idx, width = i, w\n",
    "    if d in [3, 4] and w>height:\n",
    "        height_idx, height = i, w\n",
    "        \n",
    "area = width*height\n",
    "small_width = abs(arr[height_idx-1][1]-arr[(height_idx+1)%6][1])\n",
    "small_height = abs(arr[width_idx-1][1]-arr[(width_idx+1)%6][1])\n",
    "area -= small_width*small_height\n",
    "print(area*K)"
   ]
  },
  {
   "cell_type": "markdown",
   "metadata": {},
   "source": [
    "## 3053번: 택시 기하학"
   ]
  },
  {
   "cell_type": "code",
   "execution_count": 5,
   "metadata": {},
   "outputs": [
    {
     "name": "stdout",
     "output_type": "stream",
     "text": [
      "1\n",
      "3.141592653589793\n",
      "2\n"
     ]
    }
   ],
   "source": [
    "R = int(input())\n",
    "print(R*R*3.141592653589793)\n",
    "print(R*R*2)"
   ]
  },
  {
   "cell_type": "markdown",
   "metadata": {},
   "source": [
    "## 1002번: 터렛"
   ]
  },
  {
   "cell_type": "code",
   "execution_count": 4,
   "metadata": {},
   "outputs": [
    {
     "name": "stdout",
     "output_type": "stream",
     "text": [
      "3\n",
      "0 0 13 40 0 37\n",
      "2\n",
      "0 0 3 0 7 4\n",
      "1\n",
      "1 1 1 1 1 5\n",
      "0\n"
     ]
    }
   ],
   "source": [
    "T = int(input())\n",
    "for i in range(T):\n",
    "    x1, y1, r1, x2, y2, r2 = map(int, input().split())\n",
    "\n",
    "    d = ((x1-x2)**2 + (y1-y2)**2)**(1/2)\n",
    "        \n",
    "    if d == 0 and r1 == r2 : result = -1  #겹침\n",
    "    elif d == r1 + r2 or r2 == d + r1 or r1 == d + r2: result = 1 #외접,내접 \n",
    "    elif max(d, r1, r2) > sum([d, r1, r2]) - max(d, r1, r2): result = 0 #만나지 않음\n",
    "    else : result = 2 # 두 점에서 만남\n",
    "\n",
    "    print(result)"
   ]
  }
 ],
 "metadata": {
  "kernelspec": {
   "display_name": "Python 3",
   "language": "python",
   "name": "python3"
  },
  "language_info": {
   "codemirror_mode": {
    "name": "ipython",
    "version": 3
   },
   "file_extension": ".py",
   "mimetype": "text/x-python",
   "name": "python",
   "nbconvert_exporter": "python",
   "pygments_lexer": "ipython3",
   "version": "3.8.3"
  },
  "toc": {
   "base_numbering": 1,
   "nav_menu": {},
   "number_sections": true,
   "sideBar": true,
   "skip_h1_title": false,
   "title_cell": "Table of Contents",
   "title_sidebar": "Contents",
   "toc_cell": false,
   "toc_position": {},
   "toc_section_display": true,
   "toc_window_display": true
  },
  "varInspector": {
   "cols": {
    "lenName": 16,
    "lenType": 16,
    "lenVar": 40
   },
   "kernels_config": {
    "python": {
     "delete_cmd_postfix": "",
     "delete_cmd_prefix": "del ",
     "library": "var_list.py",
     "varRefreshCmd": "print(var_dic_list())"
    },
    "r": {
     "delete_cmd_postfix": ") ",
     "delete_cmd_prefix": "rm(",
     "library": "var_list.r",
     "varRefreshCmd": "cat(var_dic_list()) "
    }
   },
   "position": {
    "height": "316.832px",
    "left": "397.145px",
    "right": "20px",
    "top": "393.96px",
    "width": "350px"
   },
   "types_to_exclude": [
    "module",
    "function",
    "builtin_function_or_method",
    "instance",
    "_Feature"
   ],
   "window_display": false
  }
 },
 "nbformat": 4,
 "nbformat_minor": 4
}
