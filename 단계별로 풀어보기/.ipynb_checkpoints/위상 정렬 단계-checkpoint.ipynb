{
 "cells": [
  {
   "cell_type": "markdown",
   "metadata": {},
   "source": [
    "## 2252번: 줄 세우기"
   ]
  },
  {
   "cell_type": "code",
   "execution_count": 11,
   "metadata": {},
   "outputs": [
    {
     "name": "stdout",
     "output_type": "stream",
     "text": [
      "4 2\n",
      "4 2\n",
      "3 1\n",
      "3 4 1 2 "
     ]
    }
   ],
   "source": [
    "import sys\n",
    "from collections import deque\n",
    "#input = sys.stdin.readline\n",
    "\n",
    "N, M = map(int, input().split())\n",
    "graph = [[] for i in range(N+1)]\n",
    "indegree = [0] * (N+1)\n",
    "for _ in range(M):\n",
    "    A, B = map(int, input().split())\n",
    "    graph[A].append(B)\n",
    "    indegree[B] += 1\n",
    "    \n",
    "queue = deque()\n",
    "for i in range(1, N+1):\n",
    "    if indegree[i] == 0:\n",
    "        queue.append(i)\n",
    "\n",
    "while queue:\n",
    "    select = queue.popleft()\n",
    "    for i in graph[select]:\n",
    "        indegree[i] -= 1\n",
    "        if indegree[i] == 0:\n",
    "            queue.append(i)\n",
    "    print(select, end=' ')"
   ]
  },
  {
   "cell_type": "markdown",
   "metadata": {},
   "source": [
    "## 3665번: 최종 순위"
   ]
  },
  {
   "cell_type": "code",
   "execution_count": 62,
   "metadata": {},
   "outputs": [
    {
     "name": "stdout",
     "output_type": "stream",
     "text": [
      "3\n",
      "5\n",
      "5 4 3 2 1\n",
      "2\n",
      "2 4\n",
      "3 4\n",
      "5 3 2 4 1 \n",
      "3\n",
      "2 3 1\n",
      "0\n",
      "2 3 1 \n",
      "4\n",
      "1 2 3 4\n",
      "3\n",
      "1 2\n",
      "3 4\n",
      "2 3\n",
      "IMPOSSIBLE\n",
      "\n"
     ]
    }
   ],
   "source": [
    "import sys\n",
    "#input = sys.stdin.readline\n",
    "T = int(input())\n",
    "for _ in range(T):\n",
    "    n = int(input())\n",
    "    rank = list(map(int, input().split()))\n",
    "    graph = [[0] * (n+1) for i in range(n+1)]\n",
    "    for i in range(n):\n",
    "        for j in range(i+1, n):\n",
    "            graph[rank[j]][rank[i]] = 1\n",
    "\n",
    "    m = int(input())\n",
    "    for i in range(m):\n",
    "        a, b = map(int, input().split())\n",
    "        temp = graph[a][b]\n",
    "        graph[a][b] = graph[b][a]\n",
    "        graph[b][a] = temp\n",
    "        \n",
    "    result = [0] * n\n",
    "    check = 0\n",
    "    for i in range(1, n+1):\n",
    "        indegree = sum(graph[i])\n",
    "        if result[indegree] != 0:\n",
    "            check = 1\n",
    "            break\n",
    "        result[indegree] = i\n",
    "\n",
    "    if check == 1:\n",
    "        print('IMPOSSIBLE', end=' ')\n",
    "    else:\n",
    "        for i in result:\n",
    "            print(i, end=' ')\n",
    "    print()"
   ]
  },
  {
   "cell_type": "markdown",
   "metadata": {},
   "source": [
    "## 1005: ACM Craft"
   ]
  },
  {
   "cell_type": "code",
   "execution_count": 1,
   "metadata": {},
   "outputs": [
    {
     "name": "stdout",
     "output_type": "stream",
     "text": [
      "2\n",
      "4 4\n",
      "10 1 100 10\n",
      "1 2\n",
      "1 3\n",
      "2 4\n",
      "3 4\n",
      "4\n",
      "120\n",
      "8 8\n",
      "10 20 1 5 8 7 1 43\n",
      "1 2\n",
      "1 3\n",
      "2 4\n",
      "2 5\n",
      "3 6\n",
      "5 7\n",
      "6 7\n",
      "7 8\n",
      "7\n",
      "39\n"
     ]
    }
   ],
   "source": [
    "import sys\n",
    "from collections import deque\n",
    "#input = sys.stdin.readline\n",
    "\n",
    "T = int(input())\n",
    "for _ in range(T):\n",
    "    N, K = map(int, input().split())#건물의 개수 N, 건설순서규칙의 총 개수 K\n",
    "    D = [0] + list(map(int, input().split()))#각 건물당 건설에 걸리는 시간 D\n",
    "    graph = [[] for i in range(N+1)]\n",
    "    counts = [0] * (N+1)\n",
    "\n",
    "\n",
    "    for i in range(K):#건설순서 XY\n",
    "        X, Y = map(int, input().split())\n",
    "        graph[X].append(Y)\n",
    "        counts[Y] += 1\n",
    "\n",
    "    end = int(input())\n",
    "\n",
    "    queue = deque()\n",
    "    dp = [0] * (N+1)\n",
    "\n",
    "    for i in range(1, N+1):\n",
    "        if counts[i] == 0:\n",
    "            queue.append(i)\n",
    "            dp[i] = D[i]\n",
    "\n",
    "    while queue:\n",
    "        select = queue.popleft()\n",
    "        for i in graph[select]:\n",
    "            counts[i] -= 1\n",
    "            dp[i] = max(dp[i], dp[select] + D[i])\n",
    "            if counts[i] == 0:\n",
    "                queue.append(i)\n",
    "\n",
    "    print(dp[end])"
   ]
  },
  {
   "cell_type": "markdown",
   "metadata": {},
   "source": [
    "## 1766번: 문제집"
   ]
  },
  {
   "cell_type": "code",
   "execution_count": 5,
   "metadata": {},
   "outputs": [
    {
     "name": "stdout",
     "output_type": "stream",
     "text": [
      "4 2\n",
      "4 2\n",
      "3 1\n",
      "3 1 4 2 "
     ]
    }
   ],
   "source": [
    "import sys\n",
    "#input = sys.stdin.readline\n",
    "\n",
    "N, M = map(int, input().split())\n",
    "graph = [[] for i in range(N+1)]\n",
    "\n",
    "indegree = [0] * (N+1)\n",
    "for i in range(M):\n",
    "    a, b = map(int, input().split())\n",
    "    graph[a].append(b)\n",
    "    indegree[b] += 1\n",
    "    \n",
    "for i in range(1, N+1):\n",
    "    graph[i].sort()\n",
    "    \n",
    "import heapq\n",
    "heap = []\n",
    "for i in range(1, N+1):\n",
    "    if indegree[i] == 0:\n",
    "        heapq.heappush(heap, i)\n",
    "        \n",
    "result = []\n",
    "while heap:\n",
    "    select = heapq.heappop(heap)\n",
    "    result.append(select)\n",
    "    for i in graph[select]:\n",
    "        indegree[i] -= 1\n",
    "        if indegree[i] == 0:\n",
    "            heapq.heappush(heap, i)\n",
    "            \n",
    "for i in result:\n",
    "    print(i, end=' ')"
   ]
  }
 ],
 "metadata": {
  "kernelspec": {
   "display_name": "Python 3",
   "language": "python",
   "name": "python3"
  },
  "language_info": {
   "codemirror_mode": {
    "name": "ipython",
    "version": 3
   },
   "file_extension": ".py",
   "mimetype": "text/x-python",
   "name": "python",
   "nbconvert_exporter": "python",
   "pygments_lexer": "ipython3",
   "version": "3.8.3"
  },
  "toc": {
   "base_numbering": 1,
   "nav_menu": {},
   "number_sections": true,
   "sideBar": true,
   "skip_h1_title": false,
   "title_cell": "Table of Contents",
   "title_sidebar": "Contents",
   "toc_cell": false,
   "toc_position": {},
   "toc_section_display": true,
   "toc_window_display": false
  },
  "varInspector": {
   "cols": {
    "lenName": 16,
    "lenType": 16,
    "lenVar": 40
   },
   "kernels_config": {
    "python": {
     "delete_cmd_postfix": "",
     "delete_cmd_prefix": "del ",
     "library": "var_list.py",
     "varRefreshCmd": "print(var_dic_list())"
    },
    "r": {
     "delete_cmd_postfix": ") ",
     "delete_cmd_prefix": "rm(",
     "library": "var_list.r",
     "varRefreshCmd": "cat(var_dic_list()) "
    }
   },
   "types_to_exclude": [
    "module",
    "function",
    "builtin_function_or_method",
    "instance",
    "_Feature"
   ],
   "window_display": false
  }
 },
 "nbformat": 4,
 "nbformat_minor": 4
}
