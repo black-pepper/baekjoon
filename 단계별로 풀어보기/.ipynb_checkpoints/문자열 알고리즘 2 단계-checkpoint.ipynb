{
 "cells": [
  {
   "cell_type": "markdown",
   "metadata": {},
   "source": [
    "## 13275번: 가장 긴 팰린드롬 부분 문자열"
   ]
  },
  {
   "cell_type": "code",
   "execution_count": 32,
   "metadata": {},
   "outputs": [
    {
     "name": "stdout",
     "output_type": "stream",
     "text": [
      "abcd\n",
      "1\n"
     ]
    }
   ],
   "source": [
    "#https://www.crocus.co.kr/1075\n",
    "def manacher(S, N):\n",
    "    r, p = 0, 0\n",
    "    for i in range(N):\n",
    "        if i<=r:\n",
    "            A[i] = min(A[2*p-i], r-i);\n",
    "        else:\n",
    "            A[i] = 0\n",
    "            \n",
    "        while i-A[i]-1>=0 and i+A[i]+1<N and S[i-A[i]-1]==S[i+A[i]+1]:\n",
    "            A[i] += 1\n",
    "        if r<i+A[i]:\n",
    "            r = i+A[i]\n",
    "            p = i\n",
    "            \n",
    "S = input()\n",
    "N = len(S)\n",
    "\n",
    "string = ' '\n",
    "for s in S:\n",
    "    string += s + ' '\n",
    "    \n",
    "N = len(string)\n",
    "A = [0]*N\n",
    "manacher(string, N)\n",
    "print(max(A))    "
   ]
  },
  {
   "cell_type": "markdown",
   "metadata": {},
   "source": [
    "## 16163번: #15164번_제보"
   ]
  },
  {
   "cell_type": "code",
   "execution_count": 20,
   "metadata": {},
   "outputs": [
    {
     "name": "stdout",
     "output_type": "stream",
     "text": [
      "ABCBA\n",
      "7\n"
     ]
    }
   ],
   "source": [
    "import sys\n",
    "#input = sys.stdin.readline\n",
    "\n",
    "def manacher(S, N):\n",
    "    r, p = 0, 0\n",
    "    for i in range(N):\n",
    "        if i<=r:\n",
    "            A[i] = min(A[2*p-i], r-i);\n",
    "        else:\n",
    "            A[i] = 0\n",
    "            \n",
    "        while i-A[i]-1>=0 and i+A[i]+1<N and S[i-A[i]-1]==S[i+A[i]+1]:\n",
    "            A[i] += 1\n",
    "        if r<i+A[i]:\n",
    "            r = i+A[i]\n",
    "            p = i\n",
    "            \n",
    "S = input().rstrip()\n",
    "N = len(S)\n",
    "\n",
    "string = '#'+'#'.join(S)+'#'\n",
    "N = len(string)\n",
    "A = [0]*N\n",
    "manacher(string, N)\n",
    "\n",
    "ans = 0\n",
    "for i in range(N):\n",
    "    if A[i]: ans += 1\n",
    "    if A[i]>1: ans += (A[i]-1)//2\n",
    "print(ans)"
   ]
  },
  {
   "cell_type": "markdown",
   "metadata": {},
   "source": [
    "## 11046번: 팰린드롬??"
   ]
  },
  {
   "cell_type": "code",
   "execution_count": 18,
   "metadata": {},
   "outputs": [
    {
     "name": "stdout",
     "output_type": "stream",
     "text": [
      "7\n",
      "1 2 1 3 1 2 1\n",
      "4\n",
      "1 3\n",
      "1\n",
      "2 5\n",
      "0\n",
      "3 3\n",
      "1\n",
      "5 7\n",
      "1\n"
     ]
    }
   ],
   "source": [
    "import sys\n",
    "#input = sys.stdin.readline\n",
    "\n",
    "def manacher(S, N):\n",
    "    r, p = 0, 0\n",
    "    for i in range(N):\n",
    "        if i<=r:\n",
    "            A[i] = min(A[2*p-i], r-i);\n",
    "        else:\n",
    "            A[i] = 0\n",
    "            \n",
    "        while i-A[i]-1>=0 and i+A[i]+1<N and S[i-A[i]-1]==S[i+A[i]+1]:\n",
    "            A[i] += 1\n",
    "        if r<i+A[i]:\n",
    "            r = i+A[i]\n",
    "            p = i\n",
    "            \n",
    "N = int(input())\n",
    "arr = list(map(int, input().split()))\n",
    "\n",
    "modified_arr = [0]*(N+N+1)\n",
    "modified_arr[1::2] = arr\n",
    "modified_N = len(modified_arr)\n",
    "A = [0]*modified_N\n",
    "manacher(modified_arr, modified_N)\n",
    "\n",
    "M = int(input())\n",
    "for i in range(M):\n",
    "    s, e = map(int, input().split())\n",
    "    if A[s+e-1] >= e-s: print(1)\n",
    "    else: print(0)"
   ]
  }
 ],
 "metadata": {
  "kernelspec": {
   "display_name": "Python 3",
   "language": "python",
   "name": "python3"
  },
  "language_info": {
   "codemirror_mode": {
    "name": "ipython",
    "version": 3
   },
   "file_extension": ".py",
   "mimetype": "text/x-python",
   "name": "python",
   "nbconvert_exporter": "python",
   "pygments_lexer": "ipython3",
   "version": "3.8.3"
  },
  "toc": {
   "base_numbering": 1,
   "nav_menu": {},
   "number_sections": true,
   "sideBar": true,
   "skip_h1_title": false,
   "title_cell": "Table of Contents",
   "title_sidebar": "Contents",
   "toc_cell": false,
   "toc_position": {},
   "toc_section_display": true,
   "toc_window_display": false
  },
  "varInspector": {
   "cols": {
    "lenName": 16,
    "lenType": 16,
    "lenVar": 40
   },
   "kernels_config": {
    "python": {
     "delete_cmd_postfix": "",
     "delete_cmd_prefix": "del ",
     "library": "var_list.py",
     "varRefreshCmd": "print(var_dic_list())"
    },
    "r": {
     "delete_cmd_postfix": ") ",
     "delete_cmd_prefix": "rm(",
     "library": "var_list.r",
     "varRefreshCmd": "cat(var_dic_list()) "
    }
   },
   "types_to_exclude": [
    "module",
    "function",
    "builtin_function_or_method",
    "instance",
    "_Feature"
   ],
   "window_display": false
  }
 },
 "nbformat": 4,
 "nbformat_minor": 4
}
