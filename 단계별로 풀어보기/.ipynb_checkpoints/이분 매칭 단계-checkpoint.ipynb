{
 "cells": [
  {
   "cell_type": "markdown",
   "metadata": {},
   "source": [
    "## 11375번: 열혈강호"
   ]
  },
  {
   "cell_type": "code",
   "execution_count": 32,
   "metadata": {},
   "outputs": [
    {
     "name": "stdout",
     "output_type": "stream",
     "text": [
      "5 5\n",
      "2 1 2\n",
      "1 1\n",
      "2 2 3\n",
      "3 3 4 5\n",
      "1 1\n",
      "4\n"
     ]
    }
   ],
   "source": [
    "#https://m.blog.naver.com/ndb796/221240613074\n",
    "import sys\n",
    "#input = sys.stdin.readline\n",
    "#sys.setrecursionlimit(100000)\n",
    "\n",
    "def DFS(x):\n",
    "    for n in worker[x]:\n",
    "        if visited[n]: continue\n",
    "        visited[n] = 1\n",
    "        if not work[n] or DFS(work[n]):\n",
    "            work[n] = x\n",
    "            return True\n",
    "    return False\n",
    "\n",
    "N, M = map(int, input().split())\n",
    "worker = [[]]\n",
    "for i in range(N):\n",
    "    cmd = list(map(int, input().split()))\n",
    "    worker.append(cmd[1:])\n",
    "\n",
    "work = [0]*(M+1)\n",
    "for i in range(N+1):\n",
    "    visited = [0]*(M+1)\n",
    "    DFS(i)\n",
    "    \n",
    "cnt = 0\n",
    "for i in range(M+1):\n",
    "    if work[i]: cnt+=1\n",
    "print(cnt)"
   ]
  },
  {
   "cell_type": "markdown",
   "metadata": {},
   "source": [
    "## 11375번: 열혈강호 2"
   ]
  },
  {
   "cell_type": "code",
   "execution_count": 6,
   "metadata": {},
   "outputs": [
    {
     "name": "stdout",
     "output_type": "stream",
     "text": [
      "5 5\n",
      "2 1 2\n",
      "2 1 2\n",
      "2 1 2\n",
      "2 4 5\n",
      "0\n"
     ]
    }
   ],
   "source": [
    "import sys\n",
    "#input = sys.stdin.readline\n",
    "#sys.setrecursionlimit(100000)\n",
    "\n",
    "def DFS(x):\n",
    "    for n in worker[x%N+1]:\n",
    "        if visited[n]: continue\n",
    "        visited[n] = 1\n",
    "        if not work[n] or DFS(work[n]):\n",
    "            work[n] = x\n",
    "            return True\n",
    "    return False\n",
    "\n",
    "N, M = map(int, input().split())\n",
    "worker = [[]]\n",
    "for _ in range(N):\n",
    "    cmd = list(map(int, input().split()))\n",
    "    worker.append(cmd[1:])\n",
    "    \n",
    "work = [0]*(M+1)\n",
    "for i in range((N*2)+1):\n",
    "    visited = [0]*(M+1)\n",
    "    DFS(i)\n",
    "    \n",
    "cnt = 0\n",
    "for i in range(M+1):\n",
    "    if work[i]: cnt+=1\n",
    "print(cnt)"
   ]
  },
  {
   "cell_type": "markdown",
   "metadata": {},
   "source": [
    "## 1017번: 소수 쌍 (미완성)"
   ]
  },
  {
   "cell_type": "code",
   "execution_count": 6,
   "metadata": {},
   "outputs": [
    {
     "name": "stdout",
     "output_type": "stream",
     "text": [
      "2\n",
      "597 22\n",
      "22\n"
     ]
    }
   ],
   "source": [
    "import sys\n",
    "#input = sys.stdin.readline\n",
    "#sys.setrecursionlimit(100000)\n",
    "\n",
    "def DFS(x):\n",
    "    if x==arr[0]: return False\n",
    "    for n in arr[1:]:\n",
    "        if arr[0]%2==n%2: continue\n",
    "        if visited[n] or not prime[x+n]: continue\n",
    "        visited[n] = 1\n",
    "        if match[n] == -1 or DFS(match[n]):\n",
    "            match[n] = x\n",
    "            return True\n",
    "    return False\n",
    "\n",
    "N = int(input())\n",
    "arr = list(map(int, input().split()))\n",
    "\n",
    "#에라토스테네스의체\n",
    "prime = [0, 0] + [1]*(2000)\n",
    "for i in range(2, 2000):\n",
    "    if not prime: continue\n",
    "    for j in range(i+i, len(prime), i): prime[j] = 0\n",
    "\n",
    "result = []\n",
    "for i in arr[1:]:\n",
    "    match = [-1]*(1001)\n",
    "    if not prime[arr[0]+i]: continue\n",
    "    match[i] = arr[0]\n",
    "    for j in arr:\n",
    "        if j%2==arr[0]%2:\n",
    "            visited = [0]*(1001)\n",
    "            DFS(j)\n",
    "    for j in range(1, N): \n",
    "        if arr[j]%2 == arr[0]%2: continue\n",
    "        if match[arr[j]] == -1: break\n",
    "        if j==N-1: result.append(i) #다 채워졌다면 추가\n",
    "    \n",
    "cnt = 0\n",
    "for i in arr:\n",
    "    if i%2: cnt+= 1\n",
    "            \n",
    "result.sort()\n",
    "if not result or cnt != N//2: print(-1)\n",
    "else:print(*result)"
   ]
  }
 ],
 "metadata": {
  "kernelspec": {
   "display_name": "Python 3",
   "language": "python",
   "name": "python3"
  },
  "language_info": {
   "codemirror_mode": {
    "name": "ipython",
    "version": 3
   },
   "file_extension": ".py",
   "mimetype": "text/x-python",
   "name": "python",
   "nbconvert_exporter": "python",
   "pygments_lexer": "ipython3",
   "version": "3.8.3"
  },
  "toc": {
   "base_numbering": 1,
   "nav_menu": {},
   "number_sections": true,
   "sideBar": true,
   "skip_h1_title": false,
   "title_cell": "Table of Contents",
   "title_sidebar": "Contents",
   "toc_cell": false,
   "toc_position": {},
   "toc_section_display": true,
   "toc_window_display": false
  },
  "varInspector": {
   "cols": {
    "lenName": 16,
    "lenType": 16,
    "lenVar": 40
   },
   "kernels_config": {
    "python": {
     "delete_cmd_postfix": "",
     "delete_cmd_prefix": "del ",
     "library": "var_list.py",
     "varRefreshCmd": "print(var_dic_list())"
    },
    "r": {
     "delete_cmd_postfix": ") ",
     "delete_cmd_prefix": "rm(",
     "library": "var_list.r",
     "varRefreshCmd": "cat(var_dic_list()) "
    }
   },
   "position": {
    "height": "331.832px",
    "left": "742.989px",
    "right": "20px",
    "top": "118.974px",
    "width": "350px"
   },
   "types_to_exclude": [
    "module",
    "function",
    "builtin_function_or_method",
    "instance",
    "_Feature"
   ],
   "window_display": false
  }
 },
 "nbformat": 4,
 "nbformat_minor": 4
}
