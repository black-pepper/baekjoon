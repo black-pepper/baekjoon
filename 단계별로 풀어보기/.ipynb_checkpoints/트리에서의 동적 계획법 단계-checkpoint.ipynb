{
 "cells": [
  {
   "cell_type": "markdown",
   "metadata": {},
   "source": [
    "## 15681번: 트리와 쿼리"
   ]
  },
  {
   "cell_type": "code",
   "execution_count": 10,
   "metadata": {},
   "outputs": [
    {
     "name": "stdout",
     "output_type": "stream",
     "text": [
      "9 5 3\n",
      "1 3\n",
      "4 3\n",
      "5 4\n",
      "5 6\n",
      "6 7\n",
      "2 3\n",
      "9 6\n",
      "6 8\n",
      "5\n",
      "9\n",
      "4\n",
      "4\n",
      "8\n",
      "1\n"
     ]
    }
   ],
   "source": [
    "import sys\n",
    "#input = sys.stdin.readline\n",
    "#sys.setrecursionlimit(100000)\n",
    "\n",
    "N, R, Q = map(int, input().split())\n",
    "tree = [[] for i in range(N+1)]\n",
    "for _ in range(N-1):\n",
    "    a, b = map(int, input().split())\n",
    "    tree[a].append(b)\n",
    "    tree[b].append(a)\n",
    "\n",
    "dp = [1] * (N+1)\n",
    "visited = [0] * (N+1)\n",
    "def DFS(n):\n",
    "    visited[n] = 1\n",
    "    for i in tree[n]:\n",
    "        if not visited[i]:\n",
    "            dp[n] += DFS(i)\n",
    "    return dp[n]\n",
    "DFS(R)\n",
    "\n",
    "for i in range(Q):\n",
    "    print(DFS(int(input())))"
   ]
  },
  {
   "cell_type": "markdown",
   "metadata": {},
   "source": [
    "## 2213번: 트리의 독립집합"
   ]
  },
  {
   "cell_type": "code",
   "execution_count": 50,
   "metadata": {},
   "outputs": [
    {
     "name": "stdout",
     "output_type": "stream",
     "text": [
      "7\n",
      "10 30 40 10 20 20 70\n",
      "1 2\n",
      "2 3\n",
      "4 3\n",
      "4 5\n",
      "6 2\n",
      "6 7\n",
      "140\n",
      "1 3 5 7\n"
     ]
    }
   ],
   "source": [
    "#https://pacific-ocean.tistory.com/332\n",
    "import sys\n",
    "#input = sys.stdin.readline\n",
    "\n",
    "n = int(input())\n",
    "weight = [0] + list(map(int, input().split()))\n",
    "graph = [[] for _ in range(n+1)]\n",
    "for i in range(n-1):\n",
    "    a, b = map(int, input().split())\n",
    "    graph[a].append(b)\n",
    "    graph[b].append(a)\n",
    "\n",
    "dp = [[0, 0] for _ in range(n+1)]\n",
    "num = [[[], []] for _ in range(n+1)]\n",
    "visited = [0]*(n+1)\n",
    "\n",
    "def DFS(s):\n",
    "    visited[s] = 1\n",
    "    dp[s][0] = weight[s]\n",
    "    num[s][0].append(s)\n",
    "    \n",
    "    for i in graph[s]:\n",
    "        if not visited[i]:\n",
    "            DFS(i)\n",
    "            dp[s][0] += dp[i][1]\n",
    "            for j in num[i][1]:\n",
    "                num[s][0].append(j)\n",
    "            if dp[i][0] <= dp[i][1]:\n",
    "                dp[s][1] += dp[i][1]\n",
    "                for k in num[i][1]:\n",
    "                    num[s][1].append(k)\n",
    "            else:\n",
    "                dp[s][1] += dp[i][0]\n",
    "                for k in num[i][0]:\n",
    "                    num[s][1].append(k)\n",
    "                    \n",
    "DFS(1)\n",
    "result = []\n",
    "if dp[1][1] <= dp[1][0]:\n",
    "    print(dp[1][0])\n",
    "    result = num[1][0]\n",
    "else:\n",
    "    print(dp[1][1])\n",
    "    result = num[1][1]\n",
    "result.sort()\n",
    "print(*result)"
   ]
  },
  {
   "cell_type": "markdown",
   "metadata": {},
   "source": [
    "## 1949번: 우수 마을"
   ]
  },
  {
   "cell_type": "code",
   "execution_count": 7,
   "metadata": {},
   "outputs": [
    {
     "name": "stdout",
     "output_type": "stream",
     "text": [
      "7\n",
      "1000 3000 4000 1000 2000 2000 7000\n",
      "1 2\n",
      "2 3\n",
      "4 3\n",
      "4 5\n",
      "6 2\n",
      "6 7\n",
      "14000\n"
     ]
    }
   ],
   "source": [
    "import sys\n",
    "#input = sys.stdin.readline\n",
    "#sys.setrecursionlimit(100000)\n",
    "\n",
    "N = int(input())\n",
    "people = [0] + list(map(int, input().split()))\n",
    "graph = [[] for i in range(N+1)]\n",
    "for i in range(N-1):\n",
    "    a, b = map(int, input().split())\n",
    "    graph[a].append(b)\n",
    "    graph[b].append(a)\n",
    "\n",
    "visited = [0] * (N+1)\n",
    "def DFS(s):\n",
    "    result = [0, people[s]] #자신 미포함, 자신 포함\n",
    "    visited[s] = 1\n",
    "    for n in graph[s]:\n",
    "        if not visited[n]:\n",
    "            rtn = DFS(n)\n",
    "            result[0] += max(rtn) #자신 미포함\n",
    "            result[1] += rtn[0] #자신 포함\n",
    "    return result\n",
    "\n",
    "print(max(DFS(1)))"
   ]
  }
 ],
 "metadata": {
  "kernelspec": {
   "display_name": "Python 3",
   "language": "python",
   "name": "python3"
  },
  "language_info": {
   "codemirror_mode": {
    "name": "ipython",
    "version": 3
   },
   "file_extension": ".py",
   "mimetype": "text/x-python",
   "name": "python",
   "nbconvert_exporter": "python",
   "pygments_lexer": "ipython3",
   "version": "3.8.3"
  },
  "toc": {
   "base_numbering": 1,
   "nav_menu": {},
   "number_sections": true,
   "sideBar": true,
   "skip_h1_title": false,
   "title_cell": "Table of Contents",
   "title_sidebar": "Contents",
   "toc_cell": false,
   "toc_position": {},
   "toc_section_display": true,
   "toc_window_display": false
  },
  "varInspector": {
   "cols": {
    "lenName": 16,
    "lenType": 16,
    "lenVar": 40
   },
   "kernels_config": {
    "python": {
     "delete_cmd_postfix": "",
     "delete_cmd_prefix": "del ",
     "library": "var_list.py",
     "varRefreshCmd": "print(var_dic_list())"
    },
    "r": {
     "delete_cmd_postfix": ") ",
     "delete_cmd_prefix": "rm(",
     "library": "var_list.r",
     "varRefreshCmd": "cat(var_dic_list()) "
    }
   },
   "position": {
    "height": "233.4px",
    "left": "446px",
    "right": "20px",
    "top": "120px",
    "width": "350px"
   },
   "types_to_exclude": [
    "module",
    "function",
    "builtin_function_or_method",
    "instance",
    "_Feature"
   ],
   "window_display": false
  }
 },
 "nbformat": 4,
 "nbformat_minor": 4
}
