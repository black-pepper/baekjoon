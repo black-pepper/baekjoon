{
 "cells": [
  {
   "cell_type": "markdown",
   "metadata": {},
   "source": [
    "## 17412번: 도시 왕복하기1"
   ]
  },
  {
   "cell_type": "code",
   "execution_count": 1,
   "metadata": {},
   "outputs": [
    {
     "name": "stdout",
     "output_type": "stream",
     "text": [
      "5 5\n",
      "1 3\n",
      "3 2\n",
      "1 5\n",
      "5 4\n",
      "4 2\n",
      "2\n"
     ]
    }
   ],
   "source": [
    "import sys\n",
    "#input = sys.stdin.readline\n",
    "from collections import deque\n",
    "INF = sys.maxsize\n",
    "\n",
    "N,  P = map(int, input().split())\n",
    "N += 1\n",
    "\n",
    "graph = [[] for _ in range(N)]\n",
    "capacity = [[0]*N for _ in range(N)]\n",
    "flow = [[0]*N for _ in range(N)]\n",
    "\n",
    "for _ in range(P):\n",
    "    start, end = map(int, input().split())\n",
    "    graph[start].append(end)\n",
    "    graph[end].append(start)\n",
    "    capacity[start][end] = 1\n",
    "\n",
    "def max_flow(start, end):\n",
    "    result = 0\n",
    "    while True:\n",
    "        visited = [-1] * N\n",
    "        queue = deque()\n",
    "        queue.append(start)\n",
    "        while queue:\n",
    "            v = queue.popleft()\n",
    "            for n in graph[v]:\n",
    "                if capacity[v][n] - flow[v][n] > 0 and visited[n] == -1:\n",
    "                    queue.append(n)\n",
    "                    visited[n] = v\n",
    "                    if n == end: break              \n",
    "        if visited[end] == -1: break\n",
    "        f = INF\n",
    "        v = end\n",
    "        while v != start:\n",
    "            f = min(f, capacity[visited[v]][v] - flow[visited[v]][v])\n",
    "            v = visited[v]\n",
    "        v = end\n",
    "        while v != start:\n",
    "            flow[visited[v]][v] += f\n",
    "            flow[v][visited[v]] -= f\n",
    "            v = visited[v]\n",
    "        result += f\n",
    "    return result\n",
    "        \n",
    "print(max_flow(1, 2))"
   ]
  },
  {
   "cell_type": "markdown",
   "metadata": {},
   "source": [
    "## 2316번: 도시 왕복하기 2"
   ]
  },
  {
   "cell_type": "code",
   "execution_count": 1,
   "metadata": {},
   "outputs": [
    {
     "name": "stdout",
     "output_type": "stream",
     "text": [
      "5 5\n",
      "1 3\n",
      "3 2\n",
      "1 5\n",
      "5 4\n",
      "4 2\n",
      "2\n"
     ]
    }
   ],
   "source": [
    "import sys\n",
    "#input = sys.stdin.readline\n",
    "from collections import deque\n",
    "INF = sys.maxsize\n",
    "\n",
    "def max_flow(start, end):\n",
    "    result = 0\n",
    "    while True:\n",
    "        visited = [-1] * size\n",
    "        queue = deque()\n",
    "        queue.append(start)\n",
    "        \n",
    "        while queue:\n",
    "            v = queue.popleft()\n",
    "            for n in graph[v]:\n",
    "                if capacity[v][n] - flow[v][n] > 0 and visited[n] == -1:\n",
    "                    queue.append(n)\n",
    "                    visited[n] = v\n",
    "                    if n == end: break\n",
    "                        \n",
    "        if visited[end] == -1: break\n",
    "        f = INF\n",
    "        v = end\n",
    "        while v != start:\n",
    "            f = min(f, capacity[visited[v]][v] - flow[visited[v]][v])\n",
    "            v = visited[v]\n",
    "        v = end\n",
    "        while v != start:\n",
    "            flow[visited[v]][v] += f\n",
    "            flow[v][visited[v]] -= f\n",
    "            v = visited[v]\n",
    "        result += f\n",
    "    return result\n",
    "\n",
    "N,  P = map(int, input().split())\n",
    "\n",
    "size = N*2+1\n",
    "graph = [[] for _ in range(size)]\n",
    "capacity = [[0]*size for _ in range(size)]\n",
    "flow = [[0]*size for _ in range(size)]\n",
    "\n",
    "for i in range(1, N+1):\n",
    "    graph[i].append(i+N)\n",
    "    graph[i+N].append(i)\n",
    "    capacity[i][i+N] = 1\n",
    "    \n",
    "for _ in range(P):\n",
    "    start, end = map(int, input().split())\n",
    "    \n",
    "    graph[start+N].append(end)\n",
    "    graph[end].append(start+N)\n",
    "    \n",
    "    graph[end+N].append(start)\n",
    "    graph[start].append(end+N)\n",
    "    \n",
    "    capacity[start+N][end] = 1\n",
    "    capacity[end+N][start] = 1\n",
    "    \n",
    "print(max_flow(1+N, 2))"
   ]
  },
  {
   "cell_type": "markdown",
   "metadata": {},
   "source": [
    "## 2365번: 숫자판 만들기"
   ]
  },
  {
   "cell_type": "code",
   "execution_count": null,
   "metadata": {},
   "outputs": [],
   "source": [
    "#https://www.acmicpc.net/source/43775941\n",
    "import sys\n",
    "#input = sys.stdin.readline\n",
    "\n",
    "n = int(input())\n",
    "arr = list(map(int, input().split()))\n",
    "arr2 = list(map(int, input().split()))\n",
    "\n",
    "mflow = sum(arr)\n",
    "size = 2*n+2\n",
    "graph = [[] for i in range(size)]\n",
    "start, end = 0, size-1\n",
    "\n",
    "for i in range(n):\n",
    "    for j in range(n):\n",
    "        graph[i+1].append(j+n+1)\n",
    "        graph[j+n+1].append(i+1)\n",
    "        \n",
    "for i in range(n):\n",
    "    graph[start].append(i+1)\n",
    "    graph[i+1].append(start)\n",
    "    graph[i+n+1].append(end)\n",
    "    graph[end].append(i+n+1)"
   ]
  },
  {
   "cell_type": "code",
   "execution_count": null,
   "metadata": {},
   "outputs": [],
   "source": [
    "low, high = 0, 10000\n",
    "last = False\n",
    "while True:\n",
    "    capacity = [[0] * size for i in range(size)]\n",
    "    k = (low + high) // 2\n",
    "    for i in range(n):\n",
    "        for j in range(n):\n",
    "            capacity[i+1][j+n+1] = k\n",
    "            \n",
    "    for i in range(n):\n",
    "        capacity[start][i+1] = arr[i]\n",
    "        capacity[i+n+1][end] = arr2[i]\n",
    "        \n",
    "    result = 0\n",
    "    while True:\n",
    "        que = [start]\n",
    "        path = [-1] * size\n",
    "        flow = [1e10] * size\n",
    "        while que:\n",
    "            now = que.pop()\n",
    "            if now == end:\n",
    "                break\n",
    "            for a in graph[now]:\n",
    "                if path[a] == -1 and capacity[now][a] != 0:\n",
    "                    path[a] = now\n",
    "                    flow[a] = min(flow[now], capacity[now][a])\n",
    "                    que.append(a)\n",
    "\n",
    "        if path[end] == -1:\n",
    "            break\n",
    "    \n",
    "        now = end\n",
    "        while now != start:\n",
    "            capacity[now][path[now]] += flow[end]\n",
    "            capacity[path[now]][now] -= flow[end]\n",
    "            now = path[now]\n",
    "        result += flow[end]\n",
    "        \n",
    "    if mflow == result and low >= high:\n",
    "        break\n",
    "    elif mflow == result:\n",
    "        high = k-1\n",
    "    elif low >= high:\n",
    "        high += 1\n",
    "        low += 1\n",
    "    else:\n",
    "        low = k+1\n",
    "        \n",
    "print(k)\n",
    "for i in range(n):\n",
    "    result = []\n",
    "    for j in range(n):\n",
    "        result.append(k - capacity[i+1][j+n+1])\n",
    "    print(*result)"
   ]
  }
 ],
 "metadata": {
  "kernelspec": {
   "display_name": "Python 3 (ipykernel)",
   "language": "python",
   "name": "python3"
  },
  "language_info": {
   "codemirror_mode": {
    "name": "ipython",
    "version": 3
   },
   "file_extension": ".py",
   "mimetype": "text/x-python",
   "name": "python",
   "nbconvert_exporter": "python",
   "pygments_lexer": "ipython3",
   "version": "3.9.12"
  },
  "toc": {
   "base_numbering": 1,
   "nav_menu": {},
   "number_sections": true,
   "sideBar": true,
   "skip_h1_title": false,
   "title_cell": "Table of Contents",
   "title_sidebar": "Contents",
   "toc_cell": false,
   "toc_position": {},
   "toc_section_display": true,
   "toc_window_display": false
  },
  "varInspector": {
   "cols": {
    "lenName": 16,
    "lenType": 16,
    "lenVar": 40
   },
   "kernels_config": {
    "python": {
     "delete_cmd_postfix": "",
     "delete_cmd_prefix": "del ",
     "library": "var_list.py",
     "varRefreshCmd": "print(var_dic_list())"
    },
    "r": {
     "delete_cmd_postfix": ") ",
     "delete_cmd_prefix": "rm(",
     "library": "var_list.r",
     "varRefreshCmd": "cat(var_dic_list()) "
    }
   },
   "types_to_exclude": [
    "module",
    "function",
    "builtin_function_or_method",
    "instance",
    "_Feature"
   ],
   "window_display": false
  }
 },
 "nbformat": 4,
 "nbformat_minor": 4
}
