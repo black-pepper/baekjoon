{
 "cells": [
  {
   "cell_type": "markdown",
   "metadata": {},
   "source": [
    "## 17412번: 도시 왕복하기1"
   ]
  },
  {
   "cell_type": "code",
   "execution_count": 1,
   "metadata": {},
   "outputs": [
    {
     "name": "stdout",
     "output_type": "stream",
     "text": [
      "5 5\n",
      "1 3\n",
      "3 2\n",
      "1 5\n",
      "5 4\n",
      "4 2\n",
      "2\n"
     ]
    }
   ],
   "source": [
    "import sys\n",
    "#input = sys.stdin.readline\n",
    "from collections import deque\n",
    "INF = sys.maxsize\n",
    "\n",
    "N,  P = map(int, input().split())\n",
    "N += 1\n",
    "\n",
    "graph = [[] for _ in range(N)]\n",
    "capacity = [[0]*N for _ in range(N)]\n",
    "flow = [[0]*N for _ in range(N)]\n",
    "\n",
    "for _ in range(P):\n",
    "    start, end = map(int, input().split())\n",
    "    graph[start].append(end)\n",
    "    graph[end].append(start)\n",
    "    capacity[start][end] = 1\n",
    "\n",
    "def max_flow(start, end):\n",
    "    result = 0\n",
    "    while True:\n",
    "        visited = [-1] * N\n",
    "        queue = deque()\n",
    "        queue.append(start)\n",
    "        while queue:\n",
    "            v = queue.popleft()\n",
    "            for n in graph[v]:\n",
    "                if capacity[v][n] - flow[v][n] > 0 and visited[n] == -1:\n",
    "                    queue.append(n)\n",
    "                    visited[n] = v\n",
    "                    if n == end: break              \n",
    "        if visited[end] == -1: break\n",
    "        f = INF\n",
    "        v = end\n",
    "        while v != start:\n",
    "            f = min(f, capacity[visited[v]][v] - flow[visited[v]][v])\n",
    "            v = visited[v]\n",
    "        v = end\n",
    "        while v != start:\n",
    "            flow[visited[v]][v] += f\n",
    "            flow[v][visited[v]] -= f\n",
    "            v = visited[v]\n",
    "        result += f\n",
    "    return result\n",
    "        \n",
    "print(max_flow(1, 2))"
   ]
  },
  {
   "cell_type": "markdown",
   "metadata": {},
   "source": [
    "## 2316번: 도시 왕복하기 2"
   ]
  },
  {
   "cell_type": "code",
   "execution_count": 1,
   "metadata": {},
   "outputs": [
    {
     "name": "stdout",
     "output_type": "stream",
     "text": [
      "5 5\n",
      "1 3\n",
      "3 2\n",
      "1 5\n",
      "5 4\n",
      "4 2\n",
      "2\n"
     ]
    }
   ],
   "source": [
    "import sys\n",
    "#input = sys.stdin.readline\n",
    "from collections import deque\n",
    "INF = sys.maxsize\n",
    "\n",
    "def max_flow(start, end):\n",
    "    result = 0\n",
    "    while True:\n",
    "        visited = [-1] * size\n",
    "        queue = deque()\n",
    "        queue.append(start)\n",
    "        \n",
    "        while queue:\n",
    "            v = queue.popleft()\n",
    "            for n in graph[v]:\n",
    "                if capacity[v][n] - flow[v][n] > 0 and visited[n] == -1:\n",
    "                    queue.append(n)\n",
    "                    visited[n] = v\n",
    "                    if n == end: break\n",
    "                        \n",
    "        if visited[end] == -1: break\n",
    "        f = INF\n",
    "        v = end\n",
    "        while v != start:\n",
    "            f = min(f, capacity[visited[v]][v] - flow[visited[v]][v])\n",
    "            v = visited[v]\n",
    "        v = end\n",
    "        while v != start:\n",
    "            flow[visited[v]][v] += f\n",
    "            flow[v][visited[v]] -= f\n",
    "            v = visited[v]\n",
    "        result += f\n",
    "    return result\n",
    "\n",
    "N,  P = map(int, input().split())\n",
    "\n",
    "size = N*2+1\n",
    "graph = [[] for _ in range(size)]\n",
    "capacity = [[0]*size for _ in range(size)]\n",
    "flow = [[0]*size for _ in range(size)]\n",
    "\n",
    "for i in range(1, N+1):\n",
    "    graph[i].append(i+N)\n",
    "    graph[i+N].append(i)\n",
    "    capacity[i][i+N] = 1\n",
    "    \n",
    "for _ in range(P):\n",
    "    start, end = map(int, input().split())\n",
    "    \n",
    "    graph[start+N].append(end)\n",
    "    graph[end].append(start+N)\n",
    "    \n",
    "    graph[end+N].append(start)\n",
    "    graph[start].append(end+N)\n",
    "    \n",
    "    capacity[start+N][end] = 1\n",
    "    capacity[end+N][start] = 1\n",
    "    \n",
    "print(max_flow(1+N, 2))"
   ]
  },
  {
   "cell_type": "markdown",
   "metadata": {},
   "source": [
    "## 2365번: 숫자판 만들기"
   ]
  },
  {
   "cell_type": "code",
   "execution_count": 17,
   "metadata": {},
   "outputs": [],
   "source": [
    "#https://justicehui.github.io/ps/2019/08/26/BOJ2365/\n",
    "import sys\n",
    "from collections import deque\n",
    "INF = sys.maxsize\n",
    "s, t = 101, 102\n",
    "asum, bsum = 0, 0\n",
    "\n",
    "def chk(x):\n",
    "    global s, y\n",
    "    for i in range(1, n+1):\n",
    "        for j in range(1, n+1):\n",
    "            c[i][j+bias] = x\n",
    "    \n",
    "    res = 0\n",
    "    while True:\n",
    "        par = [-1]*111\n",
    "        queue = deque()\n",
    "        queue.append(s)\n",
    "        while queue:\n",
    "            now = queue.popleft()\n",
    "            for nxt in g[now]:\n",
    "                if par[nxt] == -1 and c[now][nxt] - f[now][nxt]>0:\n",
    "                    par[nxt] = now\n",
    "                    queue.append(nxt)\n",
    "                    \n",
    "        flow = INF\n",
    "        if par[t] == -1: break\n",
    "        i=t\n",
    "        while i==s:\n",
    "            a, b = par[i], i\n",
    "            flow = min(flow, c[a][b] - f[a][b])\n",
    "            i=par[i]\n",
    "        res += flow\n",
    "        while i==s:\n",
    "            a, b = par[i], i\n",
    "            f[a][b] += flow\n",
    "            f[b][a] -= float\n",
    "            i=par[i]\n",
    "                \n",
    "    return asum == bsum and f[b][a] == flow"
   ]
  },
  {
   "cell_type": "code",
   "execution_count": 18,
   "metadata": {},
   "outputs": [
    {
     "name": "stdout",
     "output_type": "stream",
     "text": [
      "2\n",
      "12 4\n",
      "6 10\n"
     ]
    }
   ],
   "source": [
    "c = [[0]*111 for _ in range(111)]\n",
    "f = [[0]*111 for _ in range(111)]\n",
    "bias = 50\n",
    "g = [[] for _ in range(111)]\n",
    "par = [0]*111\n",
    "a, b= [0]*55, [0]*55\n",
    "\n",
    "n = int(input())\n",
    "arr = list(map(int, input().split()))\n",
    "for i in range(n):\n",
    "    a[i] = arr[i]\n",
    "    asum += a[i]\n",
    "arr = list(map(int, input().split()))\n",
    "for i in range(n):\n",
    "    b[i] = arr[i]\n",
    "    bsum += b[i]"
   ]
  },
  {
   "cell_type": "code",
   "execution_count": 19,
   "metadata": {},
   "outputs": [
    {
     "name": "stderr",
     "output_type": "stream",
     "text": [
      "IOPub data rate exceeded.\n",
      "The notebook server will temporarily stop sending output\n",
      "to the client in order to avoid crashing it.\n",
      "To change this limit, set the config variable\n",
      "`--NotebookApp.iopub_data_rate_limit`.\n",
      "\n",
      "Current values:\n",
      "NotebookApp.iopub_data_rate_limit=1000000.0 (bytes/sec)\n",
      "NotebookApp.rate_limit_window=3.0 (secs)\n",
      "\n"
     ]
    },
    {
     "ename": "KeyboardInterrupt",
     "evalue": "",
     "output_type": "error",
     "traceback": [
      "\u001b[1;31m---------------------------------------------------------------------------\u001b[0m",
      "\u001b[1;31mKeyboardInterrupt\u001b[0m                         Traceback (most recent call last)",
      "Input \u001b[1;32mIn [19]\u001b[0m, in \u001b[0;36m<cell line: 14>\u001b[1;34m()\u001b[0m\n\u001b[0;32m     14\u001b[0m \u001b[38;5;28;01mwhile\u001b[39;00m l\u001b[38;5;241m<\u001b[39m\u001b[38;5;241m=\u001b[39mr:\n\u001b[0;32m     15\u001b[0m     m \u001b[38;5;241m=\u001b[39m l\u001b[38;5;241m+\u001b[39mr\u001b[38;5;241m>>\u001b[39m\u001b[38;5;241m1\u001b[39m\n\u001b[1;32m---> 16\u001b[0m     \u001b[38;5;28;01mif\u001b[39;00m(\u001b[43mchk\u001b[49m\u001b[43m(\u001b[49m\u001b[43mm\u001b[49m\u001b[43m)\u001b[49m):\n\u001b[0;32m     17\u001b[0m         ans \u001b[38;5;241m=\u001b[39m m\n\u001b[0;32m     18\u001b[0m         r \u001b[38;5;241m=\u001b[39m m\u001b[38;5;241m-\u001b[39m\u001b[38;5;241m1\u001b[39m\n",
      "Input \u001b[1;32mIn [17]\u001b[0m, in \u001b[0;36mchk\u001b[1;34m(x)\u001b[0m\n\u001b[0;32m     14\u001b[0m res \u001b[38;5;241m=\u001b[39m \u001b[38;5;241m0\u001b[39m\n\u001b[0;32m     15\u001b[0m \u001b[38;5;28;01mwhile\u001b[39;00m \u001b[38;5;28;01mTrue\u001b[39;00m:\n\u001b[1;32m---> 16\u001b[0m     \u001b[38;5;28;43mprint\u001b[39;49m\u001b[43m(\u001b[49m\u001b[43mf\u001b[49m\u001b[43m)\u001b[49m\n\u001b[0;32m     17\u001b[0m     par \u001b[38;5;241m=\u001b[39m [\u001b[38;5;241m-\u001b[39m\u001b[38;5;241m1\u001b[39m]\u001b[38;5;241m*\u001b[39m\u001b[38;5;241m111\u001b[39m\n\u001b[0;32m     18\u001b[0m     queue \u001b[38;5;241m=\u001b[39m deque()\n",
      "File \u001b[1;32m~\\anaconda3\\lib\\site-packages\\ipykernel\\iostream.py:531\u001b[0m, in \u001b[0;36mOutStream.write\u001b[1;34m(self, string)\u001b[0m\n\u001b[0;32m    529\u001b[0m is_child \u001b[38;5;241m=\u001b[39m (\u001b[38;5;129;01mnot\u001b[39;00m \u001b[38;5;28mself\u001b[39m\u001b[38;5;241m.\u001b[39m_is_master_process())\n\u001b[0;32m    530\u001b[0m \u001b[38;5;66;03m# only touch the buffer in the IO thread to avoid races\u001b[39;00m\n\u001b[1;32m--> 531\u001b[0m \u001b[38;5;28;43mself\u001b[39;49m\u001b[38;5;241;43m.\u001b[39;49m\u001b[43mpub_thread\u001b[49m\u001b[38;5;241;43m.\u001b[39;49m\u001b[43mschedule\u001b[49m\u001b[43m(\u001b[49m\u001b[38;5;28;43;01mlambda\u001b[39;49;00m\u001b[43m:\u001b[49m\u001b[43m \u001b[49m\u001b[38;5;28;43mself\u001b[39;49m\u001b[38;5;241;43m.\u001b[39;49m\u001b[43m_buffer\u001b[49m\u001b[38;5;241;43m.\u001b[39;49m\u001b[43mwrite\u001b[49m\u001b[43m(\u001b[49m\u001b[43mstring\u001b[49m\u001b[43m)\u001b[49m\u001b[43m)\u001b[49m\n\u001b[0;32m    532\u001b[0m \u001b[38;5;28;01mif\u001b[39;00m is_child:\n\u001b[0;32m    533\u001b[0m     \u001b[38;5;66;03m# mp.Pool cannot be trusted to flush promptly (or ever),\u001b[39;00m\n\u001b[0;32m    534\u001b[0m     \u001b[38;5;66;03m# and this helps.\u001b[39;00m\n\u001b[0;32m    535\u001b[0m     \u001b[38;5;28;01mif\u001b[39;00m \u001b[38;5;28mself\u001b[39m\u001b[38;5;241m.\u001b[39m_subprocess_flush_pending:\n",
      "File \u001b[1;32m~\\anaconda3\\lib\\site-packages\\ipykernel\\iostream.py:216\u001b[0m, in \u001b[0;36mIOPubThread.schedule\u001b[1;34m(self, f)\u001b[0m\n\u001b[0;32m    214\u001b[0m     \u001b[38;5;28mself\u001b[39m\u001b[38;5;241m.\u001b[39m_events\u001b[38;5;241m.\u001b[39mappend(f)\n\u001b[0;32m    215\u001b[0m     \u001b[38;5;66;03m# wake event thread (message content is ignored)\u001b[39;00m\n\u001b[1;32m--> 216\u001b[0m     \u001b[38;5;28;43mself\u001b[39;49m\u001b[38;5;241;43m.\u001b[39;49m\u001b[43m_event_pipe\u001b[49m\u001b[38;5;241;43m.\u001b[39;49m\u001b[43msend\u001b[49m\u001b[43m(\u001b[49m\u001b[38;5;124;43mb\u001b[39;49m\u001b[38;5;124;43m'\u001b[39;49m\u001b[38;5;124;43m'\u001b[39;49m\u001b[43m)\u001b[49m\n\u001b[0;32m    217\u001b[0m \u001b[38;5;28;01melse\u001b[39;00m:\n\u001b[0;32m    218\u001b[0m     f()\n",
      "File \u001b[1;32m~\\anaconda3\\lib\\site-packages\\zmq\\sugar\\socket.py:547\u001b[0m, in \u001b[0;36mSocket.send\u001b[1;34m(self, data, flags, copy, track, routing_id, group)\u001b[0m\n\u001b[0;32m    540\u001b[0m         data \u001b[38;5;241m=\u001b[39m zmq\u001b[38;5;241m.\u001b[39mFrame(\n\u001b[0;32m    541\u001b[0m             data,\n\u001b[0;32m    542\u001b[0m             track\u001b[38;5;241m=\u001b[39mtrack,\n\u001b[0;32m    543\u001b[0m             copy\u001b[38;5;241m=\u001b[39mcopy \u001b[38;5;129;01mor\u001b[39;00m \u001b[38;5;28;01mNone\u001b[39;00m,\n\u001b[0;32m    544\u001b[0m             copy_threshold\u001b[38;5;241m=\u001b[39m\u001b[38;5;28mself\u001b[39m\u001b[38;5;241m.\u001b[39mcopy_threshold,\n\u001b[0;32m    545\u001b[0m         )\n\u001b[0;32m    546\u001b[0m     data\u001b[38;5;241m.\u001b[39mgroup \u001b[38;5;241m=\u001b[39m group\n\u001b[1;32m--> 547\u001b[0m \u001b[38;5;28;01mreturn\u001b[39;00m \u001b[38;5;28;43msuper\u001b[39;49m\u001b[43m(\u001b[49m\u001b[43mSocket\u001b[49m\u001b[43m,\u001b[49m\u001b[43m \u001b[49m\u001b[38;5;28;43mself\u001b[39;49m\u001b[43m)\u001b[49m\u001b[38;5;241;43m.\u001b[39;49m\u001b[43msend\u001b[49m\u001b[43m(\u001b[49m\u001b[43mdata\u001b[49m\u001b[43m,\u001b[49m\u001b[43m \u001b[49m\u001b[43mflags\u001b[49m\u001b[38;5;241;43m=\u001b[39;49m\u001b[43mflags\u001b[49m\u001b[43m,\u001b[49m\u001b[43m \u001b[49m\u001b[43mcopy\u001b[49m\u001b[38;5;241;43m=\u001b[39;49m\u001b[43mcopy\u001b[49m\u001b[43m,\u001b[49m\u001b[43m \u001b[49m\u001b[43mtrack\u001b[49m\u001b[38;5;241;43m=\u001b[39;49m\u001b[43mtrack\u001b[49m\u001b[43m)\u001b[49m\n",
      "File \u001b[1;32mzmq\\backend\\cython\\socket.pyx:718\u001b[0m, in \u001b[0;36mzmq.backend.cython.socket.Socket.send\u001b[1;34m()\u001b[0m\n",
      "File \u001b[1;32mzmq\\backend\\cython\\socket.pyx:765\u001b[0m, in \u001b[0;36mzmq.backend.cython.socket.Socket.send\u001b[1;34m()\u001b[0m\n",
      "File \u001b[1;32mzmq\\backend\\cython\\socket.pyx:242\u001b[0m, in \u001b[0;36mzmq.backend.cython.socket._send_copy\u001b[1;34m()\u001b[0m\n",
      "File \u001b[1;32m~\\anaconda3\\lib\\site-packages\\zmq\\backend\\cython\\checkrc.pxd:13\u001b[0m, in \u001b[0;36mzmq.backend.cython.checkrc._check_rc\u001b[1;34m()\u001b[0m\n",
      "\u001b[1;31mKeyboardInterrupt\u001b[0m: "
     ]
    }
   ],
   "source": [
    "for i in range(1, n+1):\n",
    "    g[s].append(i)\n",
    "    c[s][i] = a[i]\n",
    "    c[i+bias][t] = b[i]\n",
    "    g[i+bias].append(t)\n",
    "    \n",
    "for i in range(1, n+1):\n",
    "    for j in range(1, n+1):\n",
    "        g[i].append(j+bias)\n",
    "        g[j+bias].append(i)\n",
    "        \n",
    "l, r = 0, 10000\n",
    "ans = -1\n",
    "while l<=r:\n",
    "    m = l+r>>1\n",
    "    if(chk(m)):\n",
    "        ans = m\n",
    "        r = m-1\n",
    "    else:\n",
    "        l = m+1\n",
    "        \n",
    "print(ans)\n",
    "chk(ans)\n",
    "print(f)"
   ]
  }
 ],
 "metadata": {
  "kernelspec": {
   "display_name": "Python 3 (ipykernel)",
   "language": "python",
   "name": "python3"
  },
  "language_info": {
   "codemirror_mode": {
    "name": "ipython",
    "version": 3
   },
   "file_extension": ".py",
   "mimetype": "text/x-python",
   "name": "python",
   "nbconvert_exporter": "python",
   "pygments_lexer": "ipython3",
   "version": "3.9.12"
  },
  "toc": {
   "base_numbering": 1,
   "nav_menu": {},
   "number_sections": true,
   "sideBar": true,
   "skip_h1_title": false,
   "title_cell": "Table of Contents",
   "title_sidebar": "Contents",
   "toc_cell": false,
   "toc_position": {},
   "toc_section_display": true,
   "toc_window_display": false
  },
  "varInspector": {
   "cols": {
    "lenName": 16,
    "lenType": 16,
    "lenVar": 40
   },
   "kernels_config": {
    "python": {
     "delete_cmd_postfix": "",
     "delete_cmd_prefix": "del ",
     "library": "var_list.py",
     "varRefreshCmd": "print(var_dic_list())"
    },
    "r": {
     "delete_cmd_postfix": ") ",
     "delete_cmd_prefix": "rm(",
     "library": "var_list.r",
     "varRefreshCmd": "cat(var_dic_list()) "
    }
   },
   "types_to_exclude": [
    "module",
    "function",
    "builtin_function_or_method",
    "instance",
    "_Feature"
   ],
   "window_display": false
  }
 },
 "nbformat": 4,
 "nbformat_minor": 4
}
