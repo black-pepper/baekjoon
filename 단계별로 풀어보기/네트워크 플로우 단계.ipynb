{
 "cells": [
  {
   "cell_type": "markdown",
   "metadata": {},
   "source": [
    "## 17412번: 도시 왕복하기1"
   ]
  },
  {
   "cell_type": "code",
   "execution_count": 1,
   "metadata": {},
   "outputs": [
    {
     "name": "stdout",
     "output_type": "stream",
     "text": [
      "5 5\n",
      "1 3\n",
      "3 2\n",
      "1 5\n",
      "5 4\n",
      "4 2\n",
      "2\n"
     ]
    }
   ],
   "source": [
    "import sys\n",
    "#input = sys.stdin.readline\n",
    "from collections import deque\n",
    "INF = sys.maxsize\n",
    "\n",
    "N,  P = map(int, input().split())\n",
    "N += 1\n",
    "\n",
    "graph = [[] for _ in range(N)]\n",
    "capacity = [[0]*N for _ in range(N)]\n",
    "flow = [[0]*N for _ in range(N)]\n",
    "\n",
    "for _ in range(P):\n",
    "    start, end = map(int, input().split())\n",
    "    graph[start].append(end)\n",
    "    graph[end].append(start)\n",
    "    capacity[start][end] = 1\n",
    "\n",
    "def max_flow(start, end):\n",
    "    result = 0\n",
    "    while True:\n",
    "        visited = [-1] * N\n",
    "        queue = deque()\n",
    "        queue.append(start)\n",
    "        while queue:\n",
    "            v = queue.popleft()\n",
    "            for n in graph[v]:\n",
    "                if capacity[v][n] - flow[v][n] > 0 and visited[n] == -1:\n",
    "                    queue.append(n)\n",
    "                    visited[n] = v\n",
    "                    if n == end: break              \n",
    "        if visited[end] == -1: break\n",
    "        f = INF\n",
    "        v = end\n",
    "        while v != start:\n",
    "            f = min(f, capacity[visited[v]][v] - flow[visited[v]][v])\n",
    "            v = visited[v]\n",
    "        v = end\n",
    "        while v != start:\n",
    "            flow[visited[v]][v] += f\n",
    "            flow[v][visited[v]] -= f\n",
    "            v = visited[v]\n",
    "        result += f\n",
    "    return result\n",
    "        \n",
    "print(max_flow(1, 2))"
   ]
  }
 ],
 "metadata": {
  "kernelspec": {
   "display_name": "Python 3",
   "language": "python",
   "name": "python3"
  },
  "language_info": {
   "codemirror_mode": {
    "name": "ipython",
    "version": 3
   },
   "file_extension": ".py",
   "mimetype": "text/x-python",
   "name": "python",
   "nbconvert_exporter": "python",
   "pygments_lexer": "ipython3",
   "version": "3.8.3"
  },
  "toc": {
   "base_numbering": 1,
   "nav_menu": {},
   "number_sections": true,
   "sideBar": true,
   "skip_h1_title": false,
   "title_cell": "Table of Contents",
   "title_sidebar": "Contents",
   "toc_cell": false,
   "toc_position": {},
   "toc_section_display": true,
   "toc_window_display": false
  },
  "varInspector": {
   "cols": {
    "lenName": 16,
    "lenType": 16,
    "lenVar": 40
   },
   "kernels_config": {
    "python": {
     "delete_cmd_postfix": "",
     "delete_cmd_prefix": "del ",
     "library": "var_list.py",
     "varRefreshCmd": "print(var_dic_list())"
    },
    "r": {
     "delete_cmd_postfix": ") ",
     "delete_cmd_prefix": "rm(",
     "library": "var_list.r",
     "varRefreshCmd": "cat(var_dic_list()) "
    }
   },
   "types_to_exclude": [
    "module",
    "function",
    "builtin_function_or_method",
    "instance",
    "_Feature"
   ],
   "window_display": false
  }
 },
 "nbformat": 4,
 "nbformat_minor": 4
}
