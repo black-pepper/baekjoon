{
 "cells": [
  {
   "cell_type": "markdown",
   "metadata": {},
   "source": [
    "## 1712번: 손익분기점"
   ]
  },
  {
   "cell_type": "code",
   "execution_count": 4,
   "metadata": {},
   "outputs": [
    {
     "name": "stdout",
     "output_type": "stream",
     "text": [
      "1000 70 170\n",
      "11\n"
     ]
    }
   ],
   "source": [
    "A, B, C = map(int, input().split())\n",
    "\n",
    "if(B>=C):print(-1)\n",
    "else: print(A//(C-B)+1)"
   ]
  },
  {
   "cell_type": "markdown",
   "metadata": {},
   "source": [
    "## 2839번: 설탕 배달"
   ]
  },
  {
   "cell_type": "code",
   "execution_count": 19,
   "metadata": {},
   "outputs": [
    {
     "name": "stdout",
     "output_type": "stream",
     "text": [
      "18\n",
      "4\n"
     ]
    }
   ],
   "source": [
    "N = int(input())\n",
    "\n",
    "# 5의 배수일 경우 N/5\n",
    "if N%5==0:\n",
    "    result = N//5\n",
    "\n",
    "# 3보다 작을 경우 -1\n",
    "elif N<3:\n",
    "    result = -1\n",
    "    \n",
    "# N과 가장 가까운 5의 배수에서 3의 배수를 더함    \n",
    "else:\n",
    "    for x in reversed(range(0, N//5+1)):\n",
    "        y = (N-(x*5))//3\n",
    "        if(x*5+y*3==N):\n",
    "            result = x+y\n",
    "            break\n",
    "    if(x==0 and N%3!=0): result = -1\n",
    "        \n",
    "print(result)"
   ]
  },
  {
   "cell_type": "markdown",
   "metadata": {},
   "source": [
    "## 2292번: 벌집"
   ]
  },
  {
   "cell_type": "code",
   "execution_count": 39,
   "metadata": {},
   "outputs": [
    {
     "name": "stdout",
     "output_type": "stream",
     "text": [
      "37\n",
      "4\n"
     ]
    }
   ],
   "source": [
    "N = int(input())\n",
    "\n",
    "i = 0\n",
    "step_max = 1\n",
    "\n",
    "while step_max < N :\n",
    "    i += 1\n",
    "    step_max += i*6\n",
    "\n",
    "print(i+1)"
   ]
  },
  {
   "cell_type": "markdown",
   "metadata": {},
   "source": [
    "## 1193번: 분수찾기"
   ]
  },
  {
   "cell_type": "code",
   "execution_count": 1,
   "metadata": {},
   "outputs": [
    {
     "name": "stdout",
     "output_type": "stream",
     "text": [
      "14\n",
      "2/4\n"
     ]
    }
   ],
   "source": [
    "X = int(input())\n",
    "layer = 0\n",
    "number = 0\n",
    "\n",
    "while X!=0 :\n",
    "    if(layer==number):\n",
    "        layer += 1\n",
    "        number = 1\n",
    "    else: number += 1\n",
    "    X -= 1\n",
    "\n",
    "if layer%2 == 1: print(str(layer-number+1)+'/'+str(number))\n",
    "else : print(str(number)+'/'+str(layer-number+1))"
   ]
  },
  {
   "cell_type": "markdown",
   "metadata": {},
   "source": [
    "## 2869번: 달팽이는 올라가고 싶다"
   ]
  },
  {
   "cell_type": "code",
   "execution_count": 23,
   "metadata": {},
   "outputs": [
    {
     "name": "stdout",
     "output_type": "stream",
     "text": [
      "2 1 5\n",
      "4\n"
     ]
    }
   ],
   "source": [
    "import math\n",
    "\n",
    "A, B, V = map(int, input().split())\n",
    "result = math.ceil((V-A)/(A-B))\n",
    "print(result+1)"
   ]
  },
  {
   "cell_type": "markdown",
   "metadata": {},
   "source": [
    "## 1025번: ACM 호텔"
   ]
  },
  {
   "cell_type": "code",
   "execution_count": 37,
   "metadata": {},
   "outputs": [
    {
     "name": "stdout",
     "output_type": "stream",
     "text": [
      "1\n",
      "2 11 11\n",
      "106\n"
     ]
    }
   ],
   "source": [
    "T = int(input())\n",
    "\n",
    "for i in range(T):\n",
    "    H, W, N = map(int, input().split())\n",
    "    \n",
    "    if(N%H==0):\n",
    "        layer = H\n",
    "        number = N//H\n",
    "    \n",
    "    else:\n",
    "        layer = N%H\n",
    "        number = N//H+1\n",
    "\n",
    "    if(number<10): result = str(layer)+'0'+str(number)\n",
    "    else: result = str(layer)+str(number)\n",
    "    print(result)"
   ]
  },
  {
   "cell_type": "markdown",
   "metadata": {},
   "source": [
    "## 2775번: 부녀회장이 될테야"
   ]
  },
  {
   "cell_type": "code",
   "execution_count": 45,
   "metadata": {},
   "outputs": [
    {
     "name": "stdout",
     "output_type": "stream",
     "text": [
      "2\n",
      "1\n",
      "3\n",
      "6\n",
      "2\n",
      "3\n",
      "10\n"
     ]
    }
   ],
   "source": [
    "T = int(input())\n",
    "\n",
    "for k in range(T):\n",
    "    k = int(input())\n",
    "    n = int(input())\n",
    "\n",
    "    arr = []\n",
    "    for i in range(1, n+1):\n",
    "        arr.append(i)\n",
    "\n",
    "    for i in range(1, k+1):\n",
    "        for j in range(1, n):\n",
    "            arr[j] = arr[j-1]+arr[j]\n",
    "\n",
    "    print(arr[n-1])"
   ]
  },
  {
   "cell_type": "markdown",
   "metadata": {},
   "source": [
    "## 10757번: 큰 수 A+B"
   ]
  },
  {
   "cell_type": "code",
   "execution_count": 1,
   "metadata": {},
   "outputs": [
    {
     "name": "stdout",
     "output_type": "stream",
     "text": [
      "9223372036854775807 9223372036854775808\n",
      "18446744073709551615\n"
     ]
    }
   ],
   "source": [
    "A, B = map(int, input().split())\n",
    "print(A+B)"
   ]
  },
  {
   "cell_type": "markdown",
   "metadata": {},
   "source": [
    "## 1011번: Fly me to the Alpha Centauri"
   ]
  },
  {
   "cell_type": "code",
   "execution_count": 22,
   "metadata": {},
   "outputs": [
    {
     "name": "stdout",
     "output_type": "stream",
     "text": [
      "3\n",
      "0 3\n",
      "3\n",
      "1 5\n",
      "3\n",
      "45 50\n",
      "4\n"
     ]
    }
   ],
   "source": [
    "T = int(input())\n",
    "for k in range(T):\n",
    "\n",
    "    x, y = map(int, input().split())\n",
    "    d = y-x #거리\n",
    "    n = 0\n",
    "    result = 0\n",
    "    i = 0\n",
    "\n",
    "    while True:\n",
    "        if i%2!=0 : n += (i+1)/2\n",
    "        else : n += i/2\n",
    "        if n>=d :\n",
    "            result = i\n",
    "            break\n",
    "        i += 1\n",
    "\n",
    "    print(result)"
   ]
  }
 ],
 "metadata": {
  "kernelspec": {
   "display_name": "Python 3",
   "language": "python",
   "name": "python3"
  },
  "language_info": {
   "codemirror_mode": {
    "name": "ipython",
    "version": 3
   },
   "file_extension": ".py",
   "mimetype": "text/x-python",
   "name": "python",
   "nbconvert_exporter": "python",
   "pygments_lexer": "ipython3",
   "version": "3.8.3"
  },
  "toc": {
   "base_numbering": 1,
   "nav_menu": {},
   "number_sections": true,
   "sideBar": true,
   "skip_h1_title": false,
   "title_cell": "Table of Contents",
   "title_sidebar": "Contents",
   "toc_cell": false,
   "toc_position": {},
   "toc_section_display": true,
   "toc_window_display": true
  },
  "varInspector": {
   "cols": {
    "lenName": 16,
    "lenType": 16,
    "lenVar": 40
   },
   "kernels_config": {
    "python": {
     "delete_cmd_postfix": "",
     "delete_cmd_prefix": "del ",
     "library": "var_list.py",
     "varRefreshCmd": "print(var_dic_list())"
    },
    "r": {
     "delete_cmd_postfix": ") ",
     "delete_cmd_prefix": "rm(",
     "library": "var_list.r",
     "varRefreshCmd": "cat(var_dic_list()) "
    }
   },
   "types_to_exclude": [
    "module",
    "function",
    "builtin_function_or_method",
    "instance",
    "_Feature"
   ],
   "window_display": false
  }
 },
 "nbformat": 4,
 "nbformat_minor": 4
}
