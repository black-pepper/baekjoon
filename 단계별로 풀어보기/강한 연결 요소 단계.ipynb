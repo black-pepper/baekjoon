{
 "cells": [
  {
   "cell_type": "markdown",
   "metadata": {},
   "source": [
    "## 2150번: Strongly Connected Component (미완성)"
   ]
  },
  {
   "cell_type": "code",
   "execution_count": 3,
   "metadata": {},
   "outputs": [
    {
     "name": "stdout",
     "output_type": "stream",
     "text": [
      "7 9\n",
      "1 4\n",
      "4 5\n",
      "5 1\n",
      "1 6\n",
      "6 7\n",
      "2 7\n",
      "7 3\n",
      "3 7\n",
      "7 2\n"
     ]
    }
   ],
   "source": [
    "import sys\n",
    "#input = sys.stdin.readline\n",
    "\n",
    "V, E = map(int, input().split())\n",
    "graph = [[] for i in range(V+1)]\n",
    "Rgraph = [[] for i in range(V+1)]\n",
    "for i in range(E):\n",
    "    A, B = map(int, input().split())\n",
    "    graph[A].append(B)\n",
    "    Rgraph[B].append(A)"
   ]
  },
  {
   "cell_type": "code",
   "execution_count": 40,
   "metadata": {},
   "outputs": [],
   "source": [
    "from collections import deque\n",
    "def DFS(n):\n",
    "    global currentTime\n",
    "    visited[n] = 1\n",
    "    for i in graph[n]:\n",
    "        if visited[i] != 1:\n",
    "            DFS(i)\n",
    "    print(n, currentTime)\n",
    "    finishTime[currentTime] = n\n",
    "    currentTime += 1\n",
    "    \n",
    "def RDFS(n):\n",
    "    temp = [n]\n",
    "    stack = deque()\n",
    "    stack.append(n)\n",
    "    visited[n] = 1\n",
    "    while stack:\n",
    "        select = stack.pop()\n",
    "        for i in Rgraph[select]:\n",
    "            if visited[i] != 1:\n",
    "                visited[i] = 1\n",
    "                stack.append(i)\n",
    "                temp.append(i)\n",
    "    return temp"
   ]
  },
  {
   "cell_type": "code",
   "execution_count": 48,
   "metadata": {},
   "outputs": [
    {
     "name": "stdout",
     "output_type": "stream",
     "text": [
      "5 0\n",
      "4 1\n",
      "3 2\n",
      "2 3\n",
      "7 4\n",
      "6 5\n",
      "1 6\n",
      "7\n",
      "3\n",
      "1 4 5 -1\n",
      "2 3 7 -1\n",
      "6 -1\n"
     ]
    }
   ],
   "source": [
    "currentTime = 0\n",
    "finishTime = [0] * (V+1)\n",
    "visited = [0] * (V+1)\n",
    "DFS(1)\n",
    "print(currentTime)\n",
    "\n",
    "visited = [0] * (V+1)\n",
    "result = []\n",
    "for i in range(V-1, -1, -1):\n",
    "    s = finishTime[i]\n",
    "    if visited[s] != 1:\n",
    "        result.append(RDFS(s))\n",
    "        \n",
    "for i in result:\n",
    "    i.sort()\n",
    "result.sort()\n",
    "\n",
    "print(len(result))\n",
    "for i in result:\n",
    "    for j in i:\n",
    "        print(j, end=' ')\n",
    "    print(-1)"
   ]
  },
  {
   "cell_type": "code",
   "execution_count": 31,
   "metadata": {},
   "outputs": [
    {
     "data": {
      "text/plain": [
       "[5, 4, 3, 2, 7, 6, 1, 5]"
      ]
     },
     "execution_count": 31,
     "metadata": {},
     "output_type": "execute_result"
    }
   ],
   "source": [
    "finishTime"
   ]
  },
  {
   "cell_type": "code",
   "execution_count": 58,
   "metadata": {},
   "outputs": [
    {
     "name": "stdout",
     "output_type": "stream",
     "text": [
      "11 17\n",
      "1 4\n",
      "4 5\n",
      "5 6\n",
      "6 7\n",
      "7 5\n",
      "4 6\n",
      "1 3\n",
      "3 2\n",
      "2 8\n",
      "8 10\n",
      "10 11\n",
      "11 10\n",
      "10 8\n",
      "8 9\n",
      "9 5\n",
      "2 1\n",
      "9 11\n",
      "4\n",
      "1 2 3 -1\n",
      "4 -1\n",
      "5 6 7 -1\n",
      "8 9 10 11 -1\n"
     ]
    }
   ],
   "source": [
    "import sys\n",
    "#input = sys.stdin.readline\n",
    "\n",
    "V, E = map(int, input().split())\n",
    "graph = [[] for i in range(V+1)]\n",
    "Rgraph = [[] for i in range(V+1)]\n",
    "for i in range(E):\n",
    "    A, B = map(int, input().split())\n",
    "    graph[A].append(B)\n",
    "    Rgraph[B].append(A)\n",
    "    \n",
    "from collections import deque\n",
    "def DFS(n):\n",
    "    global currentTime\n",
    "    visited[n] = 1\n",
    "    for i in graph[n]:\n",
    "        if visited[i] != 1:\n",
    "            DFS(i)\n",
    "    finishTime[currentTime] = n\n",
    "    currentTime += 1\n",
    "    \n",
    "def RDFS(n):\n",
    "    temp = [n]\n",
    "    stack = deque()\n",
    "    stack.append(n)\n",
    "    visited[n] = 1\n",
    "    while stack:\n",
    "        select = stack.pop()\n",
    "        for i in Rgraph[select]:\n",
    "            if visited[i] != 1:\n",
    "                visited[i] = 1\n",
    "                stack.append(i)\n",
    "                temp.append(i)\n",
    "    return temp\n",
    "\n",
    "currentTime = 0\n",
    "finishTime = [0] * (V+1)\n",
    "visited = [0] * (V+1)\n",
    "DFS(1)\n",
    "\n",
    "visited = [0] * (V+1)\n",
    "result = []\n",
    "for i in range(V-1, -1, -1):\n",
    "    s = finishTime[i]\n",
    "    if visited[s] != 1:\n",
    "        result.append(RDFS(s))\n",
    "        result[-1].sort()\n",
    "        \n",
    "result.sort()\n",
    "\n",
    "print(len(result))\n",
    "for i in result:\n",
    "    for j in i:\n",
    "        print(j, end=' ')\n",
    "    print(-1)"
   ]
  }
 ],
 "metadata": {
  "kernelspec": {
   "display_name": "Python 3",
   "language": "python",
   "name": "python3"
  },
  "language_info": {
   "codemirror_mode": {
    "name": "ipython",
    "version": 3
   },
   "file_extension": ".py",
   "mimetype": "text/x-python",
   "name": "python",
   "nbconvert_exporter": "python",
   "pygments_lexer": "ipython3",
   "version": "3.8.3"
  },
  "toc": {
   "base_numbering": 1,
   "nav_menu": {},
   "number_sections": true,
   "sideBar": true,
   "skip_h1_title": false,
   "title_cell": "Table of Contents",
   "title_sidebar": "Contents",
   "toc_cell": false,
   "toc_position": {},
   "toc_section_display": true,
   "toc_window_display": false
  },
  "varInspector": {
   "cols": {
    "lenName": 16,
    "lenType": 16,
    "lenVar": 40
   },
   "kernels_config": {
    "python": {
     "delete_cmd_postfix": "",
     "delete_cmd_prefix": "del ",
     "library": "var_list.py",
     "varRefreshCmd": "print(var_dic_list())"
    },
    "r": {
     "delete_cmd_postfix": ") ",
     "delete_cmd_prefix": "rm(",
     "library": "var_list.r",
     "varRefreshCmd": "cat(var_dic_list()) "
    }
   },
   "types_to_exclude": [
    "module",
    "function",
    "builtin_function_or_method",
    "instance",
    "_Feature"
   ],
   "window_display": false
  }
 },
 "nbformat": 4,
 "nbformat_minor": 4
}
