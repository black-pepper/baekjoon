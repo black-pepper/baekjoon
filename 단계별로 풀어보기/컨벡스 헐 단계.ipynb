{
 "cells": [
  {
   "cell_type": "markdown",
   "metadata": {},
   "source": [
    "## 1708번: 볼록 껍질 (미완성)"
   ]
  },
  {
   "cell_type": "code",
   "execution_count": 7,
   "metadata": {},
   "outputs": [],
   "source": [
    "#https://dochi3.tistory.com/15\n",
    "def inclination(p1, p2):\n",
    "    return p2[0] - p1[0], p2[1] - p1[1]"
   ]
  },
  {
   "cell_type": "code",
   "execution_count": 8,
   "metadata": {},
   "outputs": [],
   "source": [
    "def ccw(p1, p2, p3):\n",
    "    v, u = inclination(p1, p2), inclination(p2, p3)\n",
    "    if v[0] * u[1] > v[1] * u[0]:\n",
    "        return True\n",
    "    return False"
   ]
  },
  {
   "cell_type": "code",
   "execution_count": 14,
   "metadata": {},
   "outputs": [],
   "source": [
    "def convex_hull(positions):\n",
    "    convex = []\n",
    "    for p3 in positions:\n",
    "        while len(convex) >= 2:\n",
    "            p1, p2 = convex[-2], convex[-1]\n",
    "            if ccw(p1, p2, p3): break\n",
    "            convex.pop()\n",
    "        convex.append(p3)\n",
    "        print(convex)\n",
    "    print(convex)\n",
    "    return len(convex)"
   ]
  },
  {
   "cell_type": "code",
   "execution_count": 4,
   "metadata": {},
   "outputs": [
    {
     "name": "stdout",
     "output_type": "stream",
     "text": [
      "8\n",
      "1 1\n",
      "1 2\n",
      "1 3\n",
      "2 1\n",
      "2 2\n",
      "2 3\n",
      "3 1\n",
      "3 2\n",
      "5\n"
     ]
    }
   ],
   "source": [
    "n = int(input())\n",
    "positions = []\n",
    "for i in range(n):\n",
    "    positions.append(list(map(int, input().split())))"
   ]
  },
  {
   "cell_type": "code",
   "execution_count": 15,
   "metadata": {},
   "outputs": [
    {
     "name": "stdout",
     "output_type": "stream",
     "text": [
      "[[3, 2]]\n",
      "[[3, 2], [3, 1]]\n",
      "[[3, 2], [2, 3]]\n",
      "[[3, 2], [2, 3], [2, 2]]\n",
      "[[3, 2], [2, 3], [2, 1]]\n",
      "[[3, 2], [2, 3], [1, 3]]\n",
      "[[3, 2], [2, 3], [1, 3], [1, 2]]\n",
      "[[3, 2], [2, 3], [1, 3], [1, 1]]\n",
      "[[3, 2], [2, 3], [1, 3], [1, 1]]\n",
      "[[1, 1]]\n",
      "[[1, 1], [1, 2]]\n",
      "[[1, 1], [1, 3]]\n",
      "[[1, 1], [2, 1]]\n",
      "[[1, 1], [2, 1], [2, 2]]\n",
      "[[1, 1], [2, 1], [2, 3]]\n",
      "[[1, 1], [3, 1]]\n",
      "[[1, 1], [3, 1], [3, 2]]\n",
      "[[1, 1], [3, 1], [3, 2]]\n",
      "5\n"
     ]
    }
   ],
   "source": [
    "answer = -2\n",
    "positions.sort(reverse=True)\n",
    "answer += convex_hull(positions)\n",
    " \n",
    "positions.reverse()\n",
    "answer += convex_hull(positions)\n",
    "print(answer)"
   ]
  }
 ],
 "metadata": {
  "kernelspec": {
   "display_name": "Python 3",
   "language": "python",
   "name": "python3"
  },
  "language_info": {
   "codemirror_mode": {
    "name": "ipython",
    "version": 3
   },
   "file_extension": ".py",
   "mimetype": "text/x-python",
   "name": "python",
   "nbconvert_exporter": "python",
   "pygments_lexer": "ipython3",
   "version": "3.8.3"
  },
  "toc": {
   "base_numbering": 1,
   "nav_menu": {},
   "number_sections": true,
   "sideBar": true,
   "skip_h1_title": false,
   "title_cell": "Table of Contents",
   "title_sidebar": "Contents",
   "toc_cell": false,
   "toc_position": {},
   "toc_section_display": true,
   "toc_window_display": false
  },
  "varInspector": {
   "cols": {
    "lenName": 16,
    "lenType": 16,
    "lenVar": 40
   },
   "kernels_config": {
    "python": {
     "delete_cmd_postfix": "",
     "delete_cmd_prefix": "del ",
     "library": "var_list.py",
     "varRefreshCmd": "print(var_dic_list())"
    },
    "r": {
     "delete_cmd_postfix": ") ",
     "delete_cmd_prefix": "rm(",
     "library": "var_list.r",
     "varRefreshCmd": "cat(var_dic_list()) "
    }
   },
   "types_to_exclude": [
    "module",
    "function",
    "builtin_function_or_method",
    "instance",
    "_Feature"
   ],
   "window_display": false
  }
 },
 "nbformat": 4,
 "nbformat_minor": 4
}
