{
 "cells": [
  {
   "cell_type": "markdown",
   "metadata": {},
   "source": [
    "## 11066번: 파일 합치기"
   ]
  },
  {
   "cell_type": "code",
   "execution_count": 2,
   "metadata": {},
   "outputs": [
    {
     "name": "stdout",
     "output_type": "stream",
     "text": [
      "2\n",
      "4\n",
      "40 30 30 50\n",
      "300\n",
      "15\n",
      "1 21 3 4 5 35 5 4 3 5 98 21 14 17 32\n",
      "864\n"
     ]
    }
   ],
   "source": [
    "T = int(input())\n",
    "for t in range(T):\n",
    "    K = int(input())\n",
    "    arr = list(map(int, input().split()))\n",
    "    dp = []\n",
    "    for k in range(K):\n",
    "        dp.append([0] * K)\n",
    "\n",
    "    dp = []\n",
    "    for k in range(K):\n",
    "        dp.append([0] * K)\n",
    "    for i in range(1, K): #대각선열\n",
    "        for j in range(K-i): #대각선 행\n",
    "            row = j #행\n",
    "            col = j+i #열\n",
    "\n",
    "            arr_sum = sum(arr[row:col+1])\n",
    "            dp[row][col] = dp[row][0] + dp[row+1][col] + arr_sum\n",
    "\n",
    "            for k in range(i): #최소값 찾기\n",
    "                dp[row][col] = min(dp[row][col], dp[row][col-i+k]+dp[row+k+1][col]+arr_sum)\n",
    "\n",
    "    print(dp[0][-1])"
   ]
  },
  {
   "cell_type": "markdown",
   "metadata": {},
   "source": [
    "## 11049번: 행렬 곱셈 순서"
   ]
  },
  {
   "cell_type": "code",
   "execution_count": 24,
   "metadata": {},
   "outputs": [
    {
     "name": "stdout",
     "output_type": "stream",
     "text": [
      "3\n",
      "5 3\n",
      "3 2\n",
      "2 6\n",
      "90\n"
     ]
    }
   ],
   "source": [
    "N = int(input())\n",
    "arr = []\n",
    "for n in range(N):\n",
    "    arr.append(list(map(int, input().split())))\n",
    "    \n",
    "dp = []\n",
    "for n in range(N):\n",
    "    dp.append([0] * N)\n",
    "    \n",
    "for i in range(1, N):\n",
    "    for j in range(N-i):\n",
    "        row = j #행\n",
    "        col = j+i #열\n",
    "        dp[row][col] = dp[row][0] + dp[row+1][col] + arr[row][0] * arr[row+1][0] * arr[col][1]\n",
    "        for k in range(i): #최소값 찾기\n",
    "            dp[row][col] = min(dp[row][col], dp[row][k+col-i] + dp[1+k+row][col] + arr[row][0] * arr[col][1] * arr[row+k+1][0])\n",
    "\n",
    "print(dp[0][-1])"
   ]
  },
  {
   "cell_type": "markdown",
   "metadata": {},
   "source": [
    "## 10942번: 팰린드롬?"
   ]
  },
  {
   "cell_type": "code",
   "execution_count": 7,
   "metadata": {},
   "outputs": [
    {
     "name": "stdout",
     "output_type": "stream",
     "text": [
      "7\n",
      "1 2 1 3 1 2 1\n",
      "4\n",
      "1 3\n",
      "1\n",
      "2 5 \n",
      "0\n",
      "3 3\n",
      "1\n",
      "5 7\n",
      "1\n"
     ]
    }
   ],
   "source": [
    "import sys\n",
    "\n",
    "N = int(sys.stdin.readline().rstrip())\n",
    "arr = list(map(int, sys.stdin.readline().split()))\n",
    "M = int(sys.stdin.readline().rstrip())\n",
    "\n",
    "dp = [[0] * N for i in range(N)]\n",
    "for i in range(N):\n",
    "    dp[i][i] = 1\n",
    "\n",
    "for i in range(1, N):\n",
    "    for j in range(N-i):\n",
    "        #dp[j][j+i]\n",
    "        if arr[j] == arr[j+i]:\n",
    "            if dp[j+1][j+i-1] == 1 or i==1:\n",
    "                dp[j][j+i] = 1\n",
    "\n",
    "for m in range(M):\n",
    "    S, E = map(int, sys.stdin.readline().split())\n",
    "    print(dp[S-1][E-1])"
   ]
  },
  {
   "cell_type": "markdown",
   "metadata": {},
   "source": [
    "## 2829번: 양팔저울"
   ]
  },
  {
   "cell_type": "code",
   "execution_count": 27,
   "metadata": {},
   "outputs": [
    {
     "name": "stdout",
     "output_type": "stream",
     "text": [
      "3\n",
      "1 2 8\n",
      "11\n",
      "1 2 3 4 5 6 7 8 9 10 11\n"
     ]
    }
   ],
   "source": [
    "N = int(input())\n",
    "arr = list(map(int, input().split()))\n",
    "T = int(input())\n",
    "T_arr = list(map(int, input().split()))"
   ]
  },
  {
   "cell_type": "code",
   "execution_count": 28,
   "metadata": {},
   "outputs": [
    {
     "data": {
      "text/plain": [
       "[[0, 0, 0, 0, 0, 0, 0, 0, 0, 0, 0, 0],\n",
       " [0, 0, 0, 0, 0, 0, 0, 0, 0, 0, 0, 0],\n",
       " [0, 0, 0, 0, 0, 0, 0, 0, 0, 0, 0, 0],\n",
       " [0, 0, 0, 0, 0, 0, 0, 0, 0, 0, 0, 0]]"
      ]
     },
     "execution_count": 28,
     "metadata": {},
     "output_type": "execute_result"
    }
   ],
   "source": [
    "dp = []\n",
    "arr_sum = sum(arr) + 1\n",
    "for i in range(N+1):\n",
    "    dp.append([0] * arr_sum)\n",
    "\n",
    "dp"
   ]
  },
  {
   "cell_type": "code",
   "execution_count": 29,
   "metadata": {},
   "outputs": [
    {
     "data": {
      "text/plain": [
       "[[0, 1, 1, 1, 1, 1, 1, 1, 1, 1, 1, 1],\n",
       " [0, 1, 2, 3, 3, 3, 3, 3, 3, 3, 3, 3],\n",
       " [0, 1, 2, 3, 3, 3, 3, 3, 8, 9, 10, 11],\n",
       " [0, 0, 0, 0, 0, 0, 0, 0, 0, 0, 0, 0]]"
      ]
     },
     "execution_count": 29,
     "metadata": {},
     "output_type": "execute_result"
    }
   ],
   "source": [
    "for i in range(N):\n",
    "    for j in range(1, arr_sum):\n",
    "        if j < arr[i]:\n",
    "            dp[i][j] = dp[i-1][j]\n",
    "        else:\n",
    "            dp[i][j] = max(dp[i-1][j], dp[i-1][j-arr[i]]+arr[i])\n",
    "            \n",
    "dp"
   ]
  },
  {
   "cell_type": "code",
   "execution_count": 31,
   "metadata": {},
   "outputs": [
    {
     "name": "stdout",
     "output_type": "stream",
     "text": [
      "Y Y Y N N N N Y Y Y Y "
     ]
    }
   ],
   "source": [
    "#5, 6, 7 조건 필요\n",
    "for t in T_arr:\n",
    "    if dp[N-1][t-1] != dp[N-1][t]:\n",
    "        print('Y', end=' ')\n",
    "    else:\n",
    "        print('N', end=' ')"
   ]
  },
  {
   "cell_type": "markdown",
   "metadata": {},
   "source": [
    "## 2293번: 동전 1"
   ]
  },
  {
   "cell_type": "code",
   "execution_count": 22,
   "metadata": {},
   "outputs": [
    {
     "name": "stdout",
     "output_type": "stream",
     "text": [
      "3 10\n",
      "1\n",
      "2\n",
      "5\n",
      "10\n"
     ]
    }
   ],
   "source": [
    "n, k = map(int, input().split())\n",
    "arr = []\n",
    "for i in range(n):\n",
    "    arr.append(int(input()))\n",
    "    \n",
    "dp = [0] * (k+1)\n",
    "dp[0] = 1\n",
    "for i in range(n):\n",
    "    for j in range(arr[i], k+1):\n",
    "        dp[j] = dp[j] + dp[j-arr[i]]\n",
    "        \n",
    "print(dp[-1])"
   ]
  }
 ],
 "metadata": {
  "kernelspec": {
   "display_name": "Python 3",
   "language": "python",
   "name": "python3"
  },
  "language_info": {
   "codemirror_mode": {
    "name": "ipython",
    "version": 3
   },
   "file_extension": ".py",
   "mimetype": "text/x-python",
   "name": "python",
   "nbconvert_exporter": "python",
   "pygments_lexer": "ipython3",
   "version": "3.8.3"
  }
 },
 "nbformat": 4,
 "nbformat_minor": 4
}
