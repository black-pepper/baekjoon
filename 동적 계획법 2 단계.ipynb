{
 "cells": [
  {
   "cell_type": "markdown",
   "metadata": {},
   "source": [
    "## 2293번: 동전 1"
   ]
  },
  {
   "cell_type": "code",
   "execution_count": 22,
   "metadata": {},
   "outputs": [
    {
     "name": "stdout",
     "output_type": "stream",
     "text": [
      "3 10\n",
      "1\n",
      "2\n",
      "5\n",
      "10\n"
     ]
    }
   ],
   "source": [
    "n, k = map(int, input().split())\n",
    "arr = []\n",
    "for i in range(n):\n",
    "    arr.append(int(input()))\n",
    "    \n",
    "dp = [0] * (k+1)\n",
    "dp[0] = 1\n",
    "for i in range(n):\n",
    "    for j in range(arr[i], k+1):\n",
    "        dp[j] = dp[j] + dp[j-arr[i]]\n",
    "        \n",
    "print(dp[-1])"
   ]
  },
  {
   "cell_type": "markdown",
   "metadata": {},
   "source": [
    "## 11066번: 파일 합치기"
   ]
  },
  {
   "cell_type": "code",
   "execution_count": 2,
   "metadata": {},
   "outputs": [
    {
     "name": "stdout",
     "output_type": "stream",
     "text": [
      "2\n",
      "4\n",
      "40 30 30 50\n",
      "300\n",
      "15\n",
      "1 21 3 4 5 35 5 4 3 5 98 21 14 17 32\n",
      "864\n"
     ]
    }
   ],
   "source": [
    "T = int(input())\n",
    "for t in range(T):\n",
    "    K = int(input())\n",
    "    arr = list(map(int, input().split()))\n",
    "    dp = []\n",
    "    for k in range(K):\n",
    "        dp.append([0] * K)\n",
    "\n",
    "    dp = []\n",
    "    for k in range(K):\n",
    "        dp.append([0] * K)\n",
    "    for i in range(1, K): #대각선열\n",
    "        for j in range(K-i): #대각선 행\n",
    "            row = j #행\n",
    "            col = j+i #열\n",
    "\n",
    "            arr_sum = sum(arr[row:col+1])\n",
    "            dp[row][col] = dp[row][0] + dp[row+1][col] + arr_sum\n",
    "\n",
    "            for k in range(i): #최소값 찾기\n",
    "                dp[row][col] = min(dp[row][col], dp[row][col-i+k]+dp[row+k+1][col]+arr_sum)\n",
    "\n",
    "    print(dp[0][-1])"
   ]
  }
 ],
 "metadata": {
  "kernelspec": {
   "display_name": "Python 3",
   "language": "python",
   "name": "python3"
  },
  "language_info": {
   "codemirror_mode": {
    "name": "ipython",
    "version": 3
   },
   "file_extension": ".py",
   "mimetype": "text/x-python",
   "name": "python",
   "nbconvert_exporter": "python",
   "pygments_lexer": "ipython3",
   "version": "3.8.3"
  }
 },
 "nbformat": 4,
 "nbformat_minor": 4
}
