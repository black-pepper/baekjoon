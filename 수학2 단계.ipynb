{
 "cells": [
  {
   "cell_type": "markdown",
   "metadata": {},
   "source": [
    "## 1978번: 소수 찾기"
   ]
  },
  {
   "cell_type": "code",
   "execution_count": 3,
   "metadata": {},
   "outputs": [
    {
     "name": "stdout",
     "output_type": "stream",
     "text": [
      "4\n",
      "1 3 5 7\n",
      "3\n"
     ]
    }
   ],
   "source": [
    "#배열 만들기 (소수이면 False)\n",
    "prime_number = []\n",
    "\n",
    "for i in range(0, 1001):\n",
    "    prime_number.append(False)\n",
    "\n",
    "prime_number[1] = True\n",
    "for i in range(2, 1001):\n",
    "    j = 2\n",
    "    multiple = 0\n",
    "    while True:\n",
    "        multiple = i * j\n",
    "        if multiple>1000: break\n",
    "        prime_number[multiple] = True #배수를 True로 변경\n",
    "        j += 1\n",
    "\n",
    "#for i in range(1, 1001):\n",
    "#    print(i,prime_number[i])\n",
    "        \n",
    "N = int(input())\n",
    "A = list(map(int, input().split()))\n",
    "prime_count = 0\n",
    "\n",
    "for i in A:\n",
    "    if prime_number[i]==False : prime_count += 1\n",
    "\n",
    "print(prime_count)"
   ]
  },
  {
   "cell_type": "markdown",
   "metadata": {},
   "source": [
    "## 2581번: 소수"
   ]
  },
  {
   "cell_type": "code",
   "execution_count": 7,
   "metadata": {
    "scrolled": true
   },
   "outputs": [
    {
     "name": "stdout",
     "output_type": "stream",
     "text": [
      "64\n",
      "65\n",
      "-1\n"
     ]
    }
   ],
   "source": [
    "#배열 만들기 (소수이면 False)\n",
    "prime_number = []\n",
    "\n",
    "for i in range(0, 10001):\n",
    "    prime_number.append(False)\n",
    "\n",
    "prime_number[1] = True\n",
    "for i in range(2, 10001):\n",
    "    j = 2\n",
    "    multiple = 0\n",
    "    while True:\n",
    "        multiple = i * j\n",
    "        if multiple>10000: break\n",
    "        prime_number[multiple] = True #배수를 True로 변경\n",
    "        j += 1\n",
    "\n",
    "M = int(input())\n",
    "N = int(input())\n",
    "prime_sum = 0\n",
    "prime_min = 0\n",
    "\n",
    "for i in range(M, N+1):\n",
    "    if prime_number[i] == False :\n",
    "        prime_sum += i\n",
    "        if prime_min == 0 : prime_min = i\n",
    "\n",
    "if prime_min == 0 :\n",
    "    print(-1)\n",
    "else:\n",
    "    print(prime_sum)\n",
    "    print(prime_min)"
   ]
  },
  {
   "cell_type": "markdown",
   "metadata": {},
   "source": [
    "## 1929번: 소수 구하기"
   ]
  },
  {
   "cell_type": "code",
   "execution_count": 11,
   "metadata": {},
   "outputs": [
    {
     "name": "stdout",
     "output_type": "stream",
     "text": [
      "3 16\n",
      "3\n",
      "5\n",
      "7\n",
      "11\n",
      "13\n"
     ]
    }
   ],
   "source": [
    "#배열 만들기 (소수이면 False)\n",
    "prime_number = []\n",
    "\n",
    "for i in range(0, 1000001):\n",
    "    prime_number.append(False)\n",
    "\n",
    "prime_number[1] = True\n",
    "for i in range(2, 1000001):\n",
    "    j = 2\n",
    "    multiple = 0\n",
    "    while True:\n",
    "        multiple = i * j\n",
    "        if multiple>1000000: break\n",
    "        prime_number[multiple] = True #배수를 True로 변경\n",
    "        j += 1\n",
    "\n",
    "M,N = map(int, input().split())\n",
    "\n",
    "for i in range(M, N+1):\n",
    "    if prime_number[i] == False : print(i)"
   ]
  },
  {
   "cell_type": "markdown",
   "metadata": {},
   "source": [
    "## 4948번: 베르트랑 공준"
   ]
  },
  {
   "cell_type": "code",
   "execution_count": 6,
   "metadata": {},
   "outputs": [
    {
     "name": "stdout",
     "output_type": "stream",
     "text": [
      "1\n",
      "1\n",
      "10\n",
      "4\n",
      "13\n",
      "3\n",
      "100\n",
      "21\n",
      "1000\n",
      "135\n",
      "10000\n",
      "1033\n",
      "100000\n",
      "8392\n",
      "0\n"
     ]
    }
   ],
   "source": [
    "#배열 만들기 (소수이면 False)\n",
    "prime_number = []\n",
    "\n",
    "for i in range(0, 123456*2+1):\n",
    "    prime_number.append(False)\n",
    "\n",
    "prime_number[1] = True\n",
    "for i in range(2, 123456*2+1):\n",
    "    j = 2\n",
    "    multiple = 0\n",
    "    while True:\n",
    "        multiple = i * j\n",
    "        if multiple>123456*2: break\n",
    "        prime_number[multiple] = True #배수를 True로 변경\n",
    "        j += 1\n",
    "\n",
    "while True:\n",
    "    n = int(input())\n",
    "    if n == 0 : break\n",
    "    count = 0\n",
    "    for i in range(n+1, 2*n+1):\n",
    "        if prime_number[i] == False : \n",
    "            count += 1\n",
    "    print(count)"
   ]
  },
  {
   "cell_type": "markdown",
   "metadata": {},
   "source": [
    "## 9020번: 골드바흐의 추측"
   ]
  },
  {
   "cell_type": "code",
   "execution_count": 21,
   "metadata": {},
   "outputs": [
    {
     "name": "stdout",
     "output_type": "stream",
     "text": [
      "3\n",
      "8\n",
      "3 5\n",
      "10\n",
      "5 5\n",
      "16\n",
      "5 11\n"
     ]
    }
   ],
   "source": [
    "#배열 만들기 (소수이면 False)\n",
    "prime_number = []\n",
    "\n",
    "for i in range(0, 10001):\n",
    "    prime_number.append(False)\n",
    "\n",
    "prime_number[1] = True\n",
    "for i in range(2, 10001):\n",
    "    j = 2\n",
    "    multiple = 0\n",
    "    while True:\n",
    "        multiple = i * j\n",
    "        if multiple>10000: break\n",
    "        prime_number[multiple] = True #배수를 True로 변경\n",
    "        j += 1\n",
    "        \n",
    "prime = []\n",
    "for i in range(0, 10001):\n",
    "    if prime_number[i] == False : prime.append(i)\n",
    "\n",
    "T = int(input())\n",
    "\n",
    "for k in range(T):\n",
    "    n = int(input())\n",
    "    x = 0\n",
    "    y = 10000\n",
    "    for i in prime:\n",
    "        if i > n : break\n",
    "        for j in prime:\n",
    "            if j > n : break\n",
    "            if i+j == n :\n",
    "                if abs(y-x) > abs(j-i):\n",
    "                    x = i\n",
    "                    y = j\n",
    "\n",
    "    print(x, y)"
   ]
  }
 ],
 "metadata": {
  "kernelspec": {
   "display_name": "Python 3",
   "language": "python",
   "name": "python3"
  },
  "language_info": {
   "codemirror_mode": {
    "name": "ipython",
    "version": 3
   },
   "file_extension": ".py",
   "mimetype": "text/x-python",
   "name": "python",
   "nbconvert_exporter": "python",
   "pygments_lexer": "ipython3",
   "version": "3.8.3"
  }
 },
 "nbformat": 4,
 "nbformat_minor": 4
}
