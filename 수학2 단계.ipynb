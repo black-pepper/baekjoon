{
 "cells": [
  {
   "cell_type": "markdown",
   "metadata": {},
   "source": [
    "## 1978번: 소수 찾기"
   ]
  },
  {
   "cell_type": "code",
   "execution_count": 3,
   "metadata": {},
   "outputs": [
    {
     "name": "stdout",
     "output_type": "stream",
     "text": [
      "4\n",
      "1 3 5 7\n",
      "3\n"
     ]
    }
   ],
   "source": [
    "#배열 만들기 (소수이면 False)\n",
    "prime_number = []\n",
    "\n",
    "for i in range(0, 1001):\n",
    "    prime_number.append(False)\n",
    "\n",
    "prime_number[1] = True\n",
    "for i in range(2, 1001):\n",
    "    j = 2\n",
    "    multiple = 0\n",
    "    while True:\n",
    "        multiple = i * j\n",
    "        if multiple>1000: break\n",
    "        prime_number[multiple] = True #배수를 True로 변경\n",
    "        j += 1\n",
    "\n",
    "#for i in range(1, 1001):\n",
    "#    print(i,prime_number[i])\n",
    "        \n",
    "N = int(input())\n",
    "A = list(map(int, input().split()))\n",
    "prime_count = 0\n",
    "\n",
    "for i in A:\n",
    "    if prime_number[i]==False : prime_count += 1\n",
    "\n",
    "print(prime_count)"
   ]
  },
  {
   "cell_type": "markdown",
   "metadata": {},
   "source": [
    "## 2581번: 소수"
   ]
  },
  {
   "cell_type": "code",
   "execution_count": 7,
   "metadata": {
    "scrolled": true
   },
   "outputs": [
    {
     "name": "stdout",
     "output_type": "stream",
     "text": [
      "64\n",
      "65\n",
      "-1\n"
     ]
    }
   ],
   "source": [
    "#배열 만들기 (소수이면 False)\n",
    "prime_number = []\n",
    "\n",
    "for i in range(0, 10001):\n",
    "    prime_number.append(False)\n",
    "\n",
    "prime_number[1] = True\n",
    "for i in range(2, 10001):\n",
    "    j = 2\n",
    "    multiple = 0\n",
    "    while True:\n",
    "        multiple = i * j\n",
    "        if multiple>10000: break\n",
    "        prime_number[multiple] = True #배수를 True로 변경\n",
    "        j += 1\n",
    "\n",
    "M = int(input())\n",
    "N = int(input())\n",
    "prime_sum = 0\n",
    "prime_min = 0\n",
    "\n",
    "for i in range(M, N+1):\n",
    "    if prime_number[i] == False :\n",
    "        prime_sum += i\n",
    "        if prime_min == 0 : prime_min = i\n",
    "\n",
    "if prime_min == 0 :\n",
    "    print(-1)\n",
    "else:\n",
    "    print(prime_sum)\n",
    "    print(prime_min)"
   ]
  },
  {
   "cell_type": "markdown",
   "metadata": {},
   "source": [
    "## 1929번: 소수 구하기"
   ]
  },
  {
   "cell_type": "code",
   "execution_count": 11,
   "metadata": {},
   "outputs": [
    {
     "name": "stdout",
     "output_type": "stream",
     "text": [
      "3 16\n",
      "3\n",
      "5\n",
      "7\n",
      "11\n",
      "13\n"
     ]
    }
   ],
   "source": [
    "#배열 만들기 (소수이면 False)\n",
    "prime_number = []\n",
    "\n",
    "for i in range(0, 1000001):\n",
    "    prime_number.append(False)\n",
    "\n",
    "prime_number[1] = True\n",
    "for i in range(2, 1000001):\n",
    "    j = 2\n",
    "    multiple = 0\n",
    "    while True:\n",
    "        multiple = i * j\n",
    "        if multiple>1000000: break\n",
    "        prime_number[multiple] = True #배수를 True로 변경\n",
    "        j += 1\n",
    "\n",
    "M,N = map(int, input().split())\n",
    "\n",
    "for i in range(M, N+1):\n",
    "    if prime_number[i] == False : print(i)"
   ]
  }
 ],
 "metadata": {
  "kernelspec": {
   "display_name": "Python 3",
   "language": "python",
   "name": "python3"
  },
  "language_info": {
   "codemirror_mode": {
    "name": "ipython",
    "version": 3
   },
   "file_extension": ".py",
   "mimetype": "text/x-python",
   "name": "python",
   "nbconvert_exporter": "python",
   "pygments_lexer": "ipython3",
   "version": "3.8.3"
  }
 },
 "nbformat": 4,
 "nbformat_minor": 4
}
