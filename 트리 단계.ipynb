{
 "cells": [
  {
   "cell_type": "markdown",
   "metadata": {},
   "source": [
    "## 11725번: 트리의 부모 찾기"
   ]
  },
  {
   "cell_type": "code",
   "execution_count": 3,
   "metadata": {},
   "outputs": [
    {
     "name": "stdout",
     "output_type": "stream",
     "text": [
      "12\n",
      "1 2\n",
      "1 3\n",
      "2 4\n",
      "3 5\n",
      "3 6\n",
      "4 7\n",
      "4 8\n",
      "5 9\n",
      "5 10\n",
      "6 11\n",
      "6 12\n",
      "1\n",
      "1\n",
      "2\n",
      "3\n",
      "3\n",
      "4\n",
      "4\n",
      "5\n",
      "5\n",
      "6\n",
      "6\n"
     ]
    }
   ],
   "source": [
    "import sys\n",
    "from collections import deque\n",
    "#input = sys.stdin.readline\n",
    "\n",
    "N = int(input())\n",
    "graph = [[] for i in range(N+1)]\n",
    "parents = [-1] * (N+1) #인덱스에 해당하는 부모노드를 저장\n",
    "parents[1] = 0\n",
    "\n",
    "for i in range(N-1):\n",
    "    a, b = map(int, input().split())\n",
    "    graph[a].append(b)\n",
    "    graph[b].append(a)\n",
    "        \n",
    "queue = deque()\n",
    "queue.append(1)\n",
    "\n",
    "while queue:\n",
    "    temp = queue.popleft()\n",
    "    for i in graph[temp]:\n",
    "        if parents[i] == -1:\n",
    "            parents[i] = temp\n",
    "            queue.append(i)\n",
    "        \n",
    "for i in range(2, N+1):\n",
    "    print(parents[i])"
   ]
  },
  {
   "cell_type": "markdown",
   "metadata": {},
   "source": [
    "## 1167번: 트리의 지름"
   ]
  },
  {
   "cell_type": "code",
   "execution_count": 55,
   "metadata": {},
   "outputs": [
    {
     "name": "stdout",
     "output_type": "stream",
     "text": [
      "5\n",
      "1 3 2 -1\n",
      "2 4 4 -1\n",
      "3 1 2 4 3 -1\n",
      "4 2 4 3 3 5 6 -1\n",
      "5 4 6 -1\n",
      "11\n"
     ]
    }
   ],
   "source": [
    "import sys\n",
    "import copy\n",
    "from collections import deque\n",
    "#input = sys.stdin.readline\n",
    "\n",
    "V = int(input())\n",
    "graph = [[] for i in range(V+1)]\n",
    "for _ in range(V):\n",
    "    edge = list(map(int, input().split()))\n",
    "    graph[edge[0]] = edge[1:-1]\n",
    "    \n",
    "max_v1 = -1\n",
    "max_v2 = -1\n",
    "\n",
    "def BFS(v):\n",
    "    distance = [-1] * (V+1)\n",
    "    queue = deque()\n",
    "    queue.append([v, 0])\n",
    "    max_v = 0\n",
    "    while queue:\n",
    "        v, w = queue.popleft()\n",
    "        distance[v] = w\n",
    "        if w > distance[max_v]:\n",
    "            max_v = v\n",
    "        for i in range(0, len(graph[v]), 2):\n",
    "            if distance[graph[v][i]] == -1:\n",
    "                queue.append([graph[v][i], w+graph[v][i+1]])\n",
    "            \n",
    "    return max_v, distance\n",
    "\n",
    "max_v1, distance_v1 = BFS(1) #첫번째 정점과 정점간 거리\n",
    "max_v2, distance_v2 = BFS(max_v1) #두번째 정점과 정점간 거리\n",
    "print(distance_v2[max_v2])"
   ]
  },
  {
   "cell_type": "markdown",
   "metadata": {},
   "source": [
    "## 1967번: 트리의 지름"
   ]
  },
  {
   "cell_type": "code",
   "execution_count": 7,
   "metadata": {},
   "outputs": [
    {
     "name": "stdout",
     "output_type": "stream",
     "text": [
      "12\n",
      "1 2 3\n",
      "1 3 2\n",
      "2 4 5\n",
      "3 5 11\n",
      "3 6 9\n",
      "4 7 1\n",
      "4 8 7\n",
      "5 9 15\n",
      "5 10 4\n",
      "6 11 6\n",
      "6 12 10\n",
      "45\n"
     ]
    }
   ],
   "source": [
    "import sys\n",
    "from collections import deque\n",
    "#input = sys.stdin.readline\n",
    "\n",
    "n = int(input())\n",
    "graph = [[] for i in range(n+1)]\n",
    "for i in range(n-1):\n",
    "    a, b, c = map(int, input().split())\n",
    "    graph[a].append([b, c])\n",
    "    graph[b].append([a, c])\n",
    "\n",
    "max_v1 = -1\n",
    "max_v2 = -1\n",
    "\n",
    "def BFS(v):\n",
    "    distance = [-1] * (n+1)\n",
    "    queue = deque()\n",
    "    queue.append([v, 0])\n",
    "    max_v = 0\n",
    "    while queue:\n",
    "        v, w = queue.popleft()\n",
    "        distance[v] = w\n",
    "        if w > distance[max_v]:\n",
    "            max_v = v\n",
    "        for i in graph[v]:\n",
    "            nv, nw = i\n",
    "            if distance[nv] == -1:\n",
    "                queue.append([nv, w+nw])\n",
    "            \n",
    "    return max_v, distance\n",
    "\n",
    "max_v1, distance_v1 = BFS(1) #첫번째 정점과 정점간 거리\n",
    "max_v2, distance_v2 = BFS(max_v1) #두번째 정점과 정점간 거리\n",
    "print(distance_v2[max_v2])"
   ]
  },
  {
   "cell_type": "markdown",
   "metadata": {},
   "source": [
    "## 1991번: 트리 순회"
   ]
  },
  {
   "cell_type": "code",
   "execution_count": 58,
   "metadata": {},
   "outputs": [
    {
     "name": "stdout",
     "output_type": "stream",
     "text": [
      "7\n",
      "A B C\n",
      "B D .\n",
      "C E F\n",
      "E . .\n",
      "F . G\n",
      "D . .\n",
      "G . .\n",
      "ABDCEFG\n",
      "DBAECFG\n",
      "DBEGFCA"
     ]
    }
   ],
   "source": [
    "import sys\n",
    "#input = sys.stdin.readline\n",
    "\n",
    "class TreeNode:\n",
    "    def __init__(self, data):\n",
    "        self.data = data\n",
    "        self.left = None\n",
    "        self.right = None\n",
    "        \n",
    "def inorder(root):\n",
    "    if root != None:\n",
    "        inorder(root.left)\n",
    "        print(root.data, end='')\n",
    "        inorder(root.right)\n",
    "        \n",
    "def preorder(root):\n",
    "    if root != None:\n",
    "        print(root.data, end='')\n",
    "        preorder(root.left)\n",
    "        preorder(root.right)\n",
    "        \n",
    "def postorder(root):\n",
    "    if root != None:\n",
    "        postorder(root.left)\n",
    "        postorder(root.right)\n",
    "        print(root.data, end='')\n",
    "\n",
    "N = int(input())\n",
    "tree = []\n",
    "for i in range(N):\n",
    "    tree.append(TreeNode(chr(ord('A')+i)))\n",
    "    \n",
    "A = ord('A')\n",
    "for i in range(N):\n",
    "    a, b, c = map(str, input().split())\n",
    "    if b != '.':\n",
    "        tree[ord(a)-A].left = tree[ord(b)-A]\n",
    "    if c != '.':\n",
    "        tree[ord(a)-A].right = tree[ord(c)-A]\n",
    "        \n",
    "preorder(tree[0])\n",
    "print()\n",
    "inorder(tree[0])\n",
    "print()\n",
    "postorder(tree[0])"
   ]
  },
  {
   "cell_type": "markdown",
   "metadata": {},
   "source": [
    "## 2263번: 트리의 순회"
   ]
  },
  {
   "cell_type": "code",
   "execution_count": 15,
   "metadata": {},
   "outputs": [
    {
     "name": "stdout",
     "output_type": "stream",
     "text": [
      "3\n",
      "1 2 3\n",
      "1 3 2\n",
      "2 1 3 "
     ]
    }
   ],
   "source": [
    "#Pypy3 통과\n",
    "import sys\n",
    "sys.setrecursionlimit(100000)\n",
    "#input = sys.stdin.readline\n",
    "\n",
    "class TreeNode:\n",
    "    def __init__(self, data):\n",
    "        self.data = data\n",
    "        self.left = None\n",
    "        self.right = None\n",
    "\n",
    "def find_root(in_start, in_end, post_start, post_end):\n",
    "    root = TreeNode(postorder[post_end])\n",
    "    if in_start < in_end:\n",
    "        root_index = inorder.index(root.data,in_start,in_end+1)\n",
    "        left_count = root_index - in_start #왼쪽트리 노드 개수\n",
    "        right_count = in_end - root_index  #오른쪽트리 노드 개수\n",
    "        if left_count != 0:\n",
    "            root.left = find_root(in_start, root_index-1, post_start, post_start+left_count-1)\n",
    "        if right_count != 0:\n",
    "            root.right = find_root(root_index+1, in_end, post_start+left_count, post_end-1)\n",
    "    return root\n",
    "\n",
    "def preorder(root):\n",
    "    if root != None:\n",
    "        print(root.data, end=' ')\n",
    "        preorder(root.left)\n",
    "        preorder(root.right)\n",
    "        \n",
    "n = int(input())\n",
    "inorder = list(map(int, input().split()))\n",
    "postorder = list(map(int, input().split()))\n",
    "\n",
    "root = find_root(0, n-1, 0, n-1)\n",
    "preorder(root)"
   ]
  }
 ],
 "metadata": {
  "kernelspec": {
   "display_name": "Python 3",
   "language": "python",
   "name": "python3"
  },
  "toc": {
   "base_numbering": 1,
   "nav_menu": {},
   "number_sections": true,
   "sideBar": true,
   "skip_h1_title": false,
   "title_cell": "Table of Contents",
   "title_sidebar": "Contents",
   "toc_cell": false,
   "toc_position": {},
   "toc_section_display": true,
   "toc_window_display": false
  },
  "varInspector": {
   "cols": {
    "lenName": 16,
    "lenType": 16,
    "lenVar": 40
   },
   "kernels_config": {
    "python": {
     "delete_cmd_postfix": "",
     "delete_cmd_prefix": "del ",
     "library": "var_list.py",
     "varRefreshCmd": "print(var_dic_list())"
    },
    "r": {
     "delete_cmd_postfix": ") ",
     "delete_cmd_prefix": "rm(",
     "library": "var_list.r",
     "varRefreshCmd": "cat(var_dic_list()) "
    }
   },
   "types_to_exclude": [
    "module",
    "function",
    "builtin_function_or_method",
    "instance",
    "_Feature"
   ],
   "window_display": false
  }
 },
 "nbformat": 4,
 "nbformat_minor": 4
}
