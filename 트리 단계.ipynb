{
 "cells": [
  {
   "cell_type": "markdown",
   "metadata": {},
   "source": [
    "## 11725번: 트리의 부모 찾기"
   ]
  },
  {
   "cell_type": "code",
   "execution_count": 3,
   "metadata": {},
   "outputs": [
    {
     "name": "stdout",
     "output_type": "stream",
     "text": [
      "12\n",
      "1 2\n",
      "1 3\n",
      "2 4\n",
      "3 5\n",
      "3 6\n",
      "4 7\n",
      "4 8\n",
      "5 9\n",
      "5 10\n",
      "6 11\n",
      "6 12\n",
      "1\n",
      "1\n",
      "2\n",
      "3\n",
      "3\n",
      "4\n",
      "4\n",
      "5\n",
      "5\n",
      "6\n",
      "6\n"
     ]
    }
   ],
   "source": [
    "import sys\n",
    "from collections import deque\n",
    "#input = sys.stdin.readline\n",
    "\n",
    "N = int(input())\n",
    "graph = [[] for i in range(N+1)]\n",
    "parents = [-1] * (N+1) #인덱스에 해당하는 부모노드를 저장\n",
    "parents[1] = 0\n",
    "\n",
    "for i in range(N-1):\n",
    "    a, b = map(int, input().split())\n",
    "    graph[a].append(b)\n",
    "    graph[b].append(a)\n",
    "        \n",
    "queue = deque()\n",
    "queue.append(1)\n",
    "\n",
    "while queue:\n",
    "    temp = queue.popleft()\n",
    "    for i in graph[temp]:\n",
    "        if parents[i] == -1:\n",
    "            parents[i] = temp\n",
    "            queue.append(i)\n",
    "        \n",
    "for i in range(2, N+1):\n",
    "    print(parents[i])"
   ]
  },
  {
   "cell_type": "markdown",
   "metadata": {},
   "source": [
    "## 1167번: 트리의 지름"
   ]
  },
  {
   "cell_type": "code",
   "execution_count": 55,
   "metadata": {},
   "outputs": [
    {
     "name": "stdout",
     "output_type": "stream",
     "text": [
      "5\n",
      "1 3 2 -1\n",
      "2 4 4 -1\n",
      "3 1 2 4 3 -1\n",
      "4 2 4 3 3 5 6 -1\n",
      "5 4 6 -1\n",
      "11\n"
     ]
    }
   ],
   "source": [
    "import sys\n",
    "import copy\n",
    "from collections import deque\n",
    "#input = sys.stdin.readline\n",
    "\n",
    "V = int(input())\n",
    "graph = [[] for i in range(V+1)]\n",
    "for _ in range(V):\n",
    "    edge = list(map(int, input().split()))\n",
    "    graph[edge[0]] = edge[1:-1]\n",
    "    \n",
    "max_v1 = -1\n",
    "max_v2 = -1\n",
    "\n",
    "def BFS(v):\n",
    "    distance = [-1] * (V+1)\n",
    "    queue = deque()\n",
    "    queue.append([v, 0])\n",
    "    max_v = 0\n",
    "    while queue:\n",
    "        v, w = queue.popleft()\n",
    "        distance[v] = w\n",
    "        if w > distance[max_v]:\n",
    "            max_v = v\n",
    "        for i in range(0, len(graph[v]), 2):\n",
    "            if distance[graph[v][i]] == -1:\n",
    "                queue.append([graph[v][i], w+graph[v][i+1]])\n",
    "            \n",
    "    return max_v, distance\n",
    "\n",
    "max_v1, distance_v1 = BFS(1) #첫번째 정점과 정점간 거리\n",
    "max_v2, distance_v2 = BFS(max_v1) #두번째 정점과 정점간 거리\n",
    "print(distance_v2[max_v2])"
   ]
  },
  {
   "cell_type": "markdown",
   "metadata": {},
   "source": [
    "## 1967번: 트리의 지름"
   ]
  },
  {
   "cell_type": "code",
   "execution_count": 7,
   "metadata": {},
   "outputs": [
    {
     "name": "stdout",
     "output_type": "stream",
     "text": [
      "12\n",
      "1 2 3\n",
      "1 3 2\n",
      "2 4 5\n",
      "3 5 11\n",
      "3 6 9\n",
      "4 7 1\n",
      "4 8 7\n",
      "5 9 15\n",
      "5 10 4\n",
      "6 11 6\n",
      "6 12 10\n",
      "45\n"
     ]
    }
   ],
   "source": [
    "import sys\n",
    "from collections import deque\n",
    "#input = sys.stdin.readline\n",
    "\n",
    "n = int(input())\n",
    "graph = [[] for i in range(n+1)]\n",
    "for i in range(n-1):\n",
    "    a, b, c = map(int, input().split())\n",
    "    graph[a].append([b, c])\n",
    "    graph[b].append([a, c])\n",
    "\n",
    "max_v1 = -1\n",
    "max_v2 = -1\n",
    "\n",
    "def BFS(v):\n",
    "    distance = [-1] * (n+1)\n",
    "    queue = deque()\n",
    "    queue.append([v, 0])\n",
    "    max_v = 0\n",
    "    while queue:\n",
    "        v, w = queue.popleft()\n",
    "        distance[v] = w\n",
    "        if w > distance[max_v]:\n",
    "            max_v = v\n",
    "        for i in graph[v]:\n",
    "            nv, nw = i\n",
    "            if distance[nv] == -1:\n",
    "                queue.append([nv, w+nw])\n",
    "            \n",
    "    return max_v, distance\n",
    "\n",
    "max_v1, distance_v1 = BFS(1) #첫번째 정점과 정점간 거리\n",
    "max_v2, distance_v2 = BFS(max_v1) #두번째 정점과 정점간 거리\n",
    "print(distance_v2[max_v2])"
   ]
  },
  {
   "cell_type": "markdown",
   "metadata": {},
   "source": [
    "## 1991번: 트리 순회"
   ]
  },
  {
   "cell_type": "code",
   "execution_count": 58,
   "metadata": {},
   "outputs": [
    {
     "name": "stdout",
     "output_type": "stream",
     "text": [
      "7\n",
      "A B C\n",
      "B D .\n",
      "C E F\n",
      "E . .\n",
      "F . G\n",
      "D . .\n",
      "G . .\n",
      "ABDCEFG\n",
      "DBAECFG\n",
      "DBEGFCA"
     ]
    }
   ],
   "source": [
    "import sys\n",
    "#input = sys.stdin.readline\n",
    "\n",
    "class TreeNode:\n",
    "    def __init__(self, data):\n",
    "        self.data = data\n",
    "        self.left = None\n",
    "        self.right = None\n",
    "        \n",
    "def inorder(root):\n",
    "    if root != None:\n",
    "        inorder(root.left)\n",
    "        print(root.data, end='')\n",
    "        inorder(root.right)\n",
    "        \n",
    "def preorder(root):\n",
    "    if root != None:\n",
    "        print(root.data, end='')\n",
    "        preorder(root.left)\n",
    "        preorder(root.right)\n",
    "        \n",
    "def postorder(root):\n",
    "    if root != None:\n",
    "        postorder(root.left)\n",
    "        postorder(root.right)\n",
    "        print(root.data, end='')\n",
    "\n",
    "N = int(input())\n",
    "tree = []\n",
    "for i in range(N):\n",
    "    tree.append(TreeNode(chr(ord('A')+i)))\n",
    "    \n",
    "A = ord('A')\n",
    "for i in range(N):\n",
    "    a, b, c = map(str, input().split())\n",
    "    if b != '.':\n",
    "        tree[ord(a)-A].left = tree[ord(b)-A]\n",
    "    if c != '.':\n",
    "        tree[ord(a)-A].right = tree[ord(c)-A]\n",
    "        \n",
    "preorder(tree[0])\n",
    "print()\n",
    "inorder(tree[0])\n",
    "print()\n",
    "postorder(tree[0])"
   ]
  },
  {
   "cell_type": "markdown",
   "metadata": {},
   "source": [
    "## 2263번: 트리의 순회"
   ]
  },
  {
   "cell_type": "code",
   "execution_count": 15,
   "metadata": {},
   "outputs": [
    {
     "name": "stdout",
     "output_type": "stream",
     "text": [
      "3\n",
      "1 2 3\n",
      "1 3 2\n",
      "2 1 3 "
     ]
    }
   ],
   "source": [
    "#Pypy3 통과\n",
    "import sys\n",
    "sys.setrecursionlimit(100000)\n",
    "#input = sys.stdin.readline\n",
    "\n",
    "class TreeNode:\n",
    "    def __init__(self, data):\n",
    "        self.data = data\n",
    "        self.left = None\n",
    "        self.right = None\n",
    "\n",
    "def find_root(in_start, in_end, post_start, post_end):\n",
    "    root = TreeNode(postorder[post_end])\n",
    "    if in_start < in_end:\n",
    "        root_index = inorder.index(root.data,in_start,in_end+1)\n",
    "        left_count = root_index - in_start #왼쪽트리 노드 개수\n",
    "        right_count = in_end - root_index  #오른쪽트리 노드 개수\n",
    "        if left_count != 0:\n",
    "            root.left = find_root(in_start, root_index-1, post_start, post_start+left_count-1)\n",
    "        if right_count != 0:\n",
    "            root.right = find_root(root_index+1, in_end, post_start+left_count, post_end-1)\n",
    "    return root\n",
    "\n",
    "def preorder(root):\n",
    "    if root != None:\n",
    "        print(root.data, end=' ')\n",
    "        preorder(root.left)\n",
    "        preorder(root.right)\n",
    "        \n",
    "n = int(input())\n",
    "inorder = list(map(int, input().split()))\n",
    "postorder = list(map(int, input().split()))\n",
    "\n",
    "root = find_root(0, n-1, 0, n-1)\n",
    "preorder(root)"
   ]
  },
  {
   "cell_type": "markdown",
   "metadata": {},
   "source": [
    "## 5639번: 이진 검색 트리"
   ]
  },
  {
   "cell_type": "code",
   "execution_count": 52,
   "metadata": {},
   "outputs": [
    {
     "name": "stdout",
     "output_type": "stream",
     "text": [
      "50\n",
      "30\n",
      "24\n",
      "5\n",
      "28\n",
      "45\n",
      "98\n",
      "52\n",
      "60\n",
      "5\n",
      "28\n",
      "24\n",
      "45\n",
      "30\n",
      "60\n",
      "52\n",
      "98\n",
      "50\n"
     ]
    }
   ],
   "source": [
    "import sys\n",
    "#sys.setrecursionlimit(100000)\n",
    "#input = sys.stdin.readline\n",
    "\n",
    "max_index = 10000\n",
    "count = 0\n",
    "arr = []\n",
    "while count <= max_index:\n",
    "    try:\n",
    "        temp = int(input())\n",
    "    except:\n",
    "        break\n",
    "    arr.append(temp)\n",
    "    count += 1\n",
    "\n",
    "def find_mid(start, end, key): #오른쪽 서브트리 인덱스\n",
    "    if arr[end] < key:\n",
    "        return end + 1\n",
    "    if arr[start] > key:\n",
    "        return start\n",
    "    \n",
    "    mid = 0\n",
    "    while start < end:\n",
    "        mid = (start + end) // 2\n",
    "        if arr[mid-1] < key and arr[mid] > key:\n",
    "            break\n",
    "        if arr[mid] > key:\n",
    "            end = mid\n",
    "        else:\n",
    "            start = mid + 1\n",
    "    return max(mid, start)\n",
    "\n",
    "def print_postorder(root_start, root_end):\n",
    "    #단말노드\n",
    "    if root_end == root_start:\n",
    "        print(arr[root_start])\n",
    "        return\n",
    "    \n",
    "    right_index = find_mid(root_start+1, root_end, arr[root_start])\n",
    "\n",
    "    #왼쪽 서브트리\n",
    "    if right_index != root_start+1:\n",
    "        print_postorder(root_start+1, right_index-1)\n",
    "\n",
    "    #오른쪽 서브트리\n",
    "    if right_index != root_end+1:\n",
    "        print_postorder(right_index, root_end)\n",
    "\n",
    "    print(arr[root_start])\n",
    "\n",
    "print_postorder(0, count-1)"
   ]
  },
  {
   "cell_type": "markdown",
   "metadata": {},
   "source": [
    "## 4803번: 트리"
   ]
  },
  {
   "cell_type": "code",
   "execution_count": 1,
   "metadata": {},
   "outputs": [
    {
     "name": "stdout",
     "output_type": "stream",
     "text": [
      "6 3\n",
      "1 2\n",
      "2 3\n",
      "3 4\n",
      "Case 1: A forest of 3 trees.\n",
      "6 5\n",
      "1 2\n",
      "2 3\n",
      "3 4\n",
      "4 5\n",
      "5 6\n",
      "Case 2: There is one tree.\n",
      "6 6\n",
      "1 2\n",
      "2 3\n",
      "1 3\n",
      "4 5\n",
      "5 6\n",
      "6 4\n",
      "Case 3: No trees.\n",
      "0 0\n"
     ]
    }
   ],
   "source": [
    "import sys\n",
    "from collections import deque\n",
    "#input = sys.stdin.readline\n",
    "\n",
    "def BFS(select, visit):\n",
    "    queue = deque()\n",
    "    queue.append([select, 0])\n",
    "    while queue:\n",
    "        select, parents = queue.popleft() #선택된 노드와 부모노드\n",
    "        if visit[select] == 1: #방문확인, 사이클이면 false 반환\n",
    "            return False, visit\n",
    "        else:\n",
    "            visit[select] = 1\n",
    "        for child in graph[select]:\n",
    "            if child != parents:\n",
    "                queue.append([child, select])\n",
    "    return True, visit\n",
    "    \n",
    "test_case = 1\n",
    "while True:\n",
    "    n, m = map(int, input().split()) #정점의 개수 n과 간선의 개수 m\n",
    "    \n",
    "    if n == 0 and m == 0:\n",
    "        break\n",
    "    \n",
    "    graph = [[] for i in range(n+1)]\n",
    "    for i in range(m):\n",
    "        a, b = map(int, input().split())\n",
    "        graph[a].append(b)\n",
    "        graph[b].append(a)\n",
    "        \n",
    "    count = 0\n",
    "    visit = [0] * (n+1)\n",
    "    for i in range(1, n+1):\n",
    "        if visit[i] == 0:\n",
    "            check, visit = BFS(i, visit)\n",
    "            if check == True:\n",
    "                count += 1\n",
    "                \n",
    "    if count == 0:\n",
    "        print(\"Case %d: No trees.\"%(test_case))\n",
    "    elif count == 1:\n",
    "        print(\"Case %d: There is one tree.\"%(test_case))\n",
    "    else:\n",
    "        print(\"Case %d: A forest of %d trees.\"%(test_case, count))\n",
    "        \n",
    "    test_case += 1"
   ]
  }
 ],
 "metadata": {
  "kernelspec": {
   "display_name": "Python 3",
   "language": "python",
   "name": "python3"
  },
  "toc": {
   "base_numbering": 1,
   "nav_menu": {},
   "number_sections": true,
   "sideBar": true,
   "skip_h1_title": false,
   "title_cell": "Table of Contents",
   "title_sidebar": "Contents",
   "toc_cell": false,
   "toc_position": {},
   "toc_section_display": true,
   "toc_window_display": false
  },
  "varInspector": {
   "cols": {
    "lenName": 16,
    "lenType": 16,
    "lenVar": 40
   },
   "kernels_config": {
    "python": {
     "delete_cmd_postfix": "",
     "delete_cmd_prefix": "del ",
     "library": "var_list.py",
     "varRefreshCmd": "print(var_dic_list())"
    },
    "r": {
     "delete_cmd_postfix": ") ",
     "delete_cmd_prefix": "rm(",
     "library": "var_list.r",
     "varRefreshCmd": "cat(var_dic_list()) "
    }
   },
   "types_to_exclude": [
    "module",
    "function",
    "builtin_function_or_method",
    "instance",
    "_Feature"
   ],
   "window_display": false
  }
 },
 "nbformat": 4,
 "nbformat_minor": 4
}
