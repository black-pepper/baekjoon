{
 "cells": [
  {
   "cell_type": "markdown",
   "metadata": {},
   "source": [
    "## 12852번: 1로 만들기 2"
   ]
  },
  {
   "cell_type": "code",
   "execution_count": 1,
   "metadata": {
    "code_folding": []
   },
   "outputs": [
    {
     "name": "stdout",
     "output_type": "stream",
     "text": [
      "10\n",
      "3\n",
      "10 9 3 1 "
     ]
    }
   ],
   "source": [
    "import sys\n",
    "import copy\n",
    "#input = sys.stdin.readline\n",
    "\n",
    "dp = [0] * 1000001\n",
    "dp[2] = 1\n",
    "dp[3] = 1\n",
    "process = [[] for i in range(1000001)]\n",
    "process[1] = [1]\n",
    "process[2] = [1, 2]\n",
    "process[3] = [1, 3]\n",
    "\n",
    "def make_one (num):\n",
    "    if num%6 == 0 :\n",
    "        if dp[num//3] <= dp[num//2] and dp[num//3] <= dp[num-1]:\n",
    "            dp[num] = dp[num//3] + 1\n",
    "            process[num] = copy.deepcopy(process[num//3])\n",
    "        elif dp[num//2] <= dp[num//3] and dp[num//2] <= dp[num-1]:\n",
    "            dp[num] = dp[num//2] + 1\n",
    "            process[num] = copy.deepcopy(process[num//2])\n",
    "        else:\n",
    "            dp[num] = dp[num-1] + 1\n",
    "            process[num] = copy.deepcopy(process[num-1])\n",
    "    elif num%3 == 0 :\n",
    "        if dp[num//3] <= dp[num-1]:\n",
    "            dp[num] = dp[num//3] + 1\n",
    "            process[num] = copy.deepcopy(process[num//3])\n",
    "        else:\n",
    "            dp[num] = dp[num-1] + 1\n",
    "            process[num] = copy.deepcopy(process[num-1])\n",
    "    elif num%2 == 0 :\n",
    "        if dp[num//2] <= dp[num-1]:\n",
    "            dp[num] = dp[num//2] + 1\n",
    "            process[num] = copy.deepcopy(process[num//2])\n",
    "        else:\n",
    "            dp[num] = dp[num-1] + 1\n",
    "            process[num] = copy.deepcopy(process[num-1])\n",
    "    else:\n",
    "        dp[num] = dp[num-1] + 1\n",
    "        process[num] = copy.deepcopy(process[num-1])\n",
    "    process[num].append(num)\n",
    "\n",
    "N = int(input())\n",
    "for i in range(4, N+1):\n",
    "    make_one(i)\n",
    "    \n",
    "print(dp[N])\n",
    "for i in range(len(process[N])-1, -1, -1):\n",
    "    print(process[N][i], end=' ')"
   ]
  },
  {
   "cell_type": "markdown",
   "metadata": {},
   "source": [
    "## 14002번: 가장 긴 증가하는 부분 수열 4"
   ]
  },
  {
   "cell_type": "code",
   "execution_count": 29,
   "metadata": {},
   "outputs": [
    {
     "name": "stdout",
     "output_type": "stream",
     "text": [
      "6\n",
      "10 20 10 30 20 50\n",
      "4\n",
      "10 20 30 50 "
     ]
    }
   ],
   "source": [
    "N = int(input())\n",
    "A = list(map(int, input().split()))\n",
    "dp = [1] * N\n",
    "before_index = [-1] * N\n",
    "\n",
    "for i in range(N):\n",
    "    temp = 0\n",
    "    temp_index = -1\n",
    "    for j in range(i):\n",
    "        if A[i] > A[j] and dp[j] > temp:\n",
    "            temp = dp[j]\n",
    "            temp_index = j\n",
    "    dp[i] = temp + 1\n",
    "    before_index[i] = temp_index\n",
    "            \n",
    "max_LIS = max(dp)\n",
    "\n",
    "result = []\n",
    "i = dp.index(max(dp))\n",
    "while True:\n",
    "    result.append(A[i])\n",
    "    i = before_index[i]\n",
    "    if i == -1: break\n",
    "    \n",
    "print(max(dp))\n",
    "for i in range(max_LIS-1, -1, -1):\n",
    "    print(result[i], end=' ')"
   ]
  },
  {
   "cell_type": "markdown",
   "metadata": {},
   "source": [
    "## 14003번: 가장 긴 증가하는 부분 수열 5"
   ]
  },
  {
   "cell_type": "code",
   "execution_count": 1,
   "metadata": {},
   "outputs": [
    {
     "name": "stdout",
     "output_type": "stream",
     "text": [
      "6\n",
      "10 20 10 30 20 50\n",
      "4\n",
      "10 20 30 50 "
     ]
    }
   ],
   "source": [
    "N = int(input())\n",
    "A = list(map(int, input().split()))\n",
    "\n",
    "dp = [] #A에서 자신까지의 증가하는 수열 저장\n",
    "LIS = [] #수열 저장\n",
    "A_index = [] #LIS배열 인덱스 저장\n",
    "LIS.append([-1000000001, 0])\n",
    "\n",
    "def search_LIS(num): #num보다 처음으로 큰 index값 찾기\n",
    "    index = 0\n",
    "    left = 0\n",
    "    right = len(LIS)-1\n",
    "    while (right >= left):\n",
    "        mid = (left + right) // 2\n",
    "        if num >= LIS[mid][0]:\n",
    "            left = mid + 1\n",
    "        else:\n",
    "            right = mid -1\n",
    "            index = mid\n",
    "    return index\n",
    "\n",
    "for a in A:\n",
    "    if LIS[-1][0] < a: #LIS의 최대값 보다 클 경우 추가\n",
    "        LIS.append([a, LIS[-1][1]+1])\n",
    "        dp.append(LIS[-1][1])\n",
    "        A_index.append(LIS[-1][1])\n",
    "        \n",
    "    else: #LIS의 최대값보다 작을 경우 LIS에 해당하는 위치에 업데이트\n",
    "        index = search_LIS(a)\n",
    "        if LIS[index-1][0] != a:\n",
    "            LIS[index][0] = a\n",
    "            A_index.append(index)\n",
    "            dp.append(LIS[index][1])\n",
    "        else:\n",
    "            A_index.append(index-1)\n",
    "            dp.append(LIS[index-1][1])\n",
    "                    \n",
    "print(LIS[-1][1])\n",
    "\n",
    "result = []\n",
    "count = LIS[-1][1]\n",
    "for i in range(N-1, -1, -1):\n",
    "    if count == A_index[i]:\n",
    "        result.append(A[i])\n",
    "        count -= 1\n",
    "\n",
    "for i in range(LIS[-1][1]-1, -1, -1):\n",
    "    print(result[i], end=' ')"
   ]
  },
  {
   "cell_type": "markdown",
   "metadata": {},
   "source": [
    "## 9252번: LCS 2"
   ]
  },
  {
   "cell_type": "code",
   "execution_count": 68,
   "metadata": {},
   "outputs": [
    {
     "name": "stdout",
     "output_type": "stream",
     "text": [
      "ACAYKP\n",
      "CAPCAK\n",
      "4\n",
      "ACAK"
     ]
    }
   ],
   "source": [
    "arr1 = list(input())\n",
    "arr2 = list(input())\n",
    "\n",
    "dp = []\n",
    "for i in range(len(arr2)+1):\n",
    "    dp.append([0] * (len(arr1)+1))\n",
    "    \n",
    "for i in range(len(arr2)):\n",
    "    for j in range(len(arr1)):\n",
    "        if arr2[i] == arr1[j]:\n",
    "            dp[i][j] = dp[i-1][j-1] + 1\n",
    "        else:\n",
    "            dp[i][j] = max(dp[i-1][j], dp[i][j-1])\n",
    "\n",
    "print(dp[-2][-2])\n",
    "\n",
    "i, j = len(arr2)-1, len(arr1)-1\n",
    "result = []\n",
    "while dp[i][j] != 0:\n",
    "    if dp[i][j]-1 == dp[i][j-1] == dp[i-1][j]:\n",
    "        result.append(arr1[j])\n",
    "        i -= 1\n",
    "        j -= 1\n",
    "    else:\n",
    "        if dp[i-1][j] >= dp[i][j]:\n",
    "            i=i-1\n",
    "        else:\n",
    "            j=j-1\n",
    "            \n",
    "for i in range(len(result)-1, -1, -1):\n",
    "    print(result[i], end='')"
   ]
  },
  {
   "cell_type": "markdown",
   "metadata": {},
   "source": [
    "## 2618번: 경찰차"
   ]
  },
  {
   "cell_type": "code",
   "execution_count": 5,
   "metadata": {},
   "outputs": [
    {
     "name": "stdout",
     "output_type": "stream",
     "text": [
      "6\n",
      "3\n",
      "3 5\n",
      "5 5\n",
      "2 3\n",
      "9\n",
      "2\n",
      "2\n",
      "1\n"
     ]
    }
   ],
   "source": [
    "#https://js1jj2sk3.tistory.com/52\n",
    "import sys\n",
    "sys.setrecursionlimit(100000) #Python 제출 시 재귀 깊이 설정\n",
    "N = int(input()) #동서방향 도로의 개수를 나타내는 정수 N\n",
    "W = int(input()) #처리해야 하는 사건의 개수를 나타내는 정수 W\n",
    "car1 = [[-1] * (W+1) for i in range(W+1)]\n",
    "car2 = [[-1] * (W+1) for i in range(W+1)]\n",
    "car1[0] = [1, 1]\n",
    "car2[0] = [N, N]\n",
    "for i in range(1, W+1):\n",
    "    car1[i] = list(map(int, input().split()))\n",
    "    car2[i] = [car1[i][0], car1[i][1]]\n",
    "    \n",
    "dp = [[-1] * (W + 1) for i in range(W+1)]\n",
    "def find_distance(c1, c2):\n",
    "    if c1 == W or c2 == W:\n",
    "        return 0\n",
    "    \n",
    "    if dp[c1][c2] != -1:\n",
    "        return dp[c1][c2]\n",
    "    \n",
    "    accident = max(c1, c2) + 1\n",
    "    car1_distance = abs(car1[c1][0] - car1[accident][0]) + abs(car1[c1][1] - car1[accident][1])\n",
    "    car1_distance += find_distance(accident, c2)\n",
    "    \n",
    "    car2_distance = abs(car2[c2][0] - car2[accident][0]) + abs(car2[c2][1] - car2[accident][1])\n",
    "    car2_distance += find_distance(c1, accident)\n",
    "    \n",
    "    dp[c1][c2] = min(car1_distance, car2_distance)\n",
    "    return dp[c1][c2]\n",
    "\n",
    "print(find_distance(0, 0))\n",
    "\n",
    "result = []\n",
    "def tracking(c1, c2):\n",
    "    if c1 == W or c2 == W:\n",
    "        return\n",
    "    \n",
    "    accident = max(c1, c2) + 1\n",
    "    car1_distance = abs(car1[c1][0] - car1[accident][0]) + abs(car1[c1][1] - car1[accident][1])\n",
    "    car1_distance += dp[accident][c2]\n",
    "    \n",
    "    car2_distance = abs(car2[c2][0] - car2[accident][0]) + abs(car2[c2][1] - car2[accident][1])\n",
    "    car2_distance += dp[c1][accident]\n",
    "    \n",
    "    if car1_distance > car2_distance :\n",
    "        result.append(2)\n",
    "        tracking(c1, accident)\n",
    "    else:\n",
    "        result.append(1)\n",
    "        tracking(accident, c2)\n",
    "        \n",
    "tracking(0, 0)\n",
    "for i in result:\n",
    "    print(i)"
   ]
  },
  {
   "cell_type": "markdown",
   "metadata": {},
   "source": [
    "## 13913번: 숨바꼭질 4"
   ]
  },
  {
   "cell_type": "code",
   "execution_count": 1,
   "metadata": {},
   "outputs": [
    {
     "name": "stdout",
     "output_type": "stream",
     "text": [
      "5 17\n",
      "4\n",
      "5 4 8 16 17 "
     ]
    }
   ],
   "source": [
    "from collections import deque\n",
    "N, K = map(int, input().split())\n",
    "count = [0] * 100001\n",
    "count[N] = [0, -1]\n",
    "\n",
    "queue = deque()\n",
    "queue.append(N)\n",
    "\n",
    "while queue:\n",
    "    x = queue.popleft()\n",
    "    if x == K:\n",
    "        break\n",
    "        \n",
    "    if x-1>=0 and count[x-1] == 0: #x-1\n",
    "        queue.append(x-1)\n",
    "        count[x-1] = [count[x][0] + 1, x]\n",
    "    if x+1<=100000 and count[x+1] == 0: #x+1\n",
    "        queue.append(x+1)\n",
    "        count[x+1] = [count[x][0] + 1, x]\n",
    "    if x*2<=100000 and count[x*2] == 0: #x*2\n",
    "        queue.append(x*2)\n",
    "        count[x*2] = [count[x][0] + 1, x]\n",
    "\n",
    "print(count[K][0])\n",
    "i = K\n",
    "result = [K]\n",
    "while count[i][1] != -1:\n",
    "    i = count[i][1]\n",
    "    result.append(i)\n",
    "    if count[i][0] == 0:\n",
    "        break\n",
    "for i in range(len(result)-1, -1, -1):\n",
    "    print(result[i], end=' ')"
   ]
  },
  {
   "cell_type": "markdown",
   "metadata": {},
   "source": [
    "## 9019번: DSLR"
   ]
  },
  {
   "cell_type": "code",
   "execution_count": 1,
   "metadata": {},
   "outputs": [
    {
     "name": "stdout",
     "output_type": "stream",
     "text": [
      "3\n",
      "1234 3412\n",
      "LL\n",
      "1000 1\n",
      "L\n",
      "1 16\n",
      "DDDD\n"
     ]
    }
   ],
   "source": [
    "import sys\n",
    "from collections import deque\n",
    "#input = sys.stdin.readline\n",
    "\n",
    "T = int(input())\n",
    "for _ in range(T):\n",
    "    A, B = map(int, input().split())\n",
    "    dp = [['0', -1] for i in range(10000)]\n",
    "    dp[A] = ['0', -2]\n",
    "\n",
    "    queue = deque()\n",
    "    queue.append(A)\n",
    "\n",
    "    while queue:\n",
    "        n = queue.popleft()\n",
    "        if n == B:\n",
    "            break\n",
    "\n",
    "        #D : n을 두배로\n",
    "        if dp[n*2%10000][1] == -1: \n",
    "            queue.append(n*2%10000)\n",
    "            dp[n*2%10000][0] = 'D'\n",
    "            dp[n*2%10000][1] = n\n",
    "\n",
    "        #S : n-1\n",
    "        if n-1 == -1 and dp[9999][1]==-1:\n",
    "            queue.append(9999)\n",
    "            dp[9999] = ['S', n]\n",
    "        elif dp[n-1][1] == -1:\n",
    "            queue.append(n-1)\n",
    "            dp[n-1][0] = 'S'\n",
    "            dp[n-1][1] = n\n",
    "\n",
    "        if n!=0:\n",
    "            #L : 각 자릿수를 왼편으로\n",
    "            L_index = int(n % 1000 * 10 + n / 1000)\n",
    "            if dp[L_index][1] == -1: \n",
    "                queue.append(L_index)\n",
    "                dp[L_index][0] = 'L'\n",
    "                dp[L_index][1] = n\n",
    "\n",
    "            #R : 각 자릿수를 오른편으로\n",
    "            R_index = int(n % 10 * 1000 + n // 10)\n",
    "            if dp[R_index][1] == -1: \n",
    "                queue.append(R_index)\n",
    "                dp[R_index][0] = 'R'\n",
    "                dp[R_index][1] = n\n",
    "\n",
    "    i = B\n",
    "    result = [dp[i][0]]\n",
    "    while dp[i][1] != -2:\n",
    "        i = dp[i][1]\n",
    "        result.append(dp[i][0])\n",
    "        if dp[i][0] == '0':\n",
    "            break\n",
    "    for i in range(len(result)-2, -1, -1):\n",
    "        print(result[i], end='')\n",
    "    print()"
   ]
  },
  {
   "cell_type": "markdown",
   "metadata": {},
   "source": [
    "## 11779번: 최소비용 구하기 2 (미완성)"
   ]
  },
  {
   "cell_type": "markdown",
   "metadata": {},
   "source": [
    "### 1916번: 최소비용 구하기"
   ]
  },
  {
   "cell_type": "code",
   "execution_count": 8,
   "metadata": {},
   "outputs": [
    {
     "name": "stdout",
     "output_type": "stream",
     "text": [
      "5\n",
      "8\n",
      "1 2 2\n",
      "1 3 3\n",
      "1 4 1\n",
      "1 5 10\n",
      "2 4 2\n",
      "3 4 1\n",
      "3 5 1\n",
      "4 5 3\n",
      "1 5\n",
      "4\n"
     ]
    }
   ],
   "source": [
    "import sys\n",
    "import heapq\n",
    "#input = sys.stdin.readline\n",
    "INF = sys.maxsize\n",
    "\n",
    "N = int(input()) #도시의 개수\n",
    "M = int(input()) #버스의 개수\n",
    "graph = [[] for i in range(N + 1)]\n",
    "\n",
    "for i in range(M):\n",
    "    a, b, c = map(int, input().split())\n",
    "    graph[a].append([b, c])\n",
    "    \n",
    "start, end = map(int, input().split())\n",
    "\n",
    "heap = []\n",
    "result = [INF] * (N+1)\n",
    "result[start] = 0\n",
    "heapq.heappush(heap, (0, start))\n",
    "\n",
    "while heap:\n",
    "    w, v = heapq.heappop(heap)\n",
    "    \n",
    "    if result[v] < w:\n",
    "        continue\n",
    "    \n",
    "    for nn , nw in graph[v]: #nn: 다음 노드, nw: 비용\n",
    "        next_w = nw + w\n",
    "        if next_w < result[nn]:\n",
    "            result[nn] = next_w\n",
    "            heapq.heappush(heap, (next_w, nn))\n",
    "            \n",
    "print(result[end])"
   ]
  }
 ],
 "metadata": {
  "kernelspec": {
   "display_name": "Python 3",
   "language": "python",
   "name": "python3"
  },
  "language_info": {
   "codemirror_mode": {
    "name": "ipython",
    "version": 3
   },
   "file_extension": ".py",
   "mimetype": "text/x-python",
   "name": "python",
   "nbconvert_exporter": "python",
   "pygments_lexer": "ipython3",
   "version": "3.8.3"
  },
  "toc": {
   "base_numbering": 1,
   "nav_menu": {},
   "number_sections": true,
   "sideBar": true,
   "skip_h1_title": false,
   "title_cell": "Table of Contents",
   "title_sidebar": "Contents",
   "toc_cell": false,
   "toc_position": {},
   "toc_section_display": true,
   "toc_window_display": false
  },
  "varInspector": {
   "cols": {
    "lenName": 16,
    "lenType": 16,
    "lenVar": 40
   },
   "kernels_config": {
    "python": {
     "delete_cmd_postfix": "",
     "delete_cmd_prefix": "del ",
     "library": "var_list.py",
     "varRefreshCmd": "print(var_dic_list())"
    },
    "r": {
     "delete_cmd_postfix": ") ",
     "delete_cmd_prefix": "rm(",
     "library": "var_list.r",
     "varRefreshCmd": "cat(var_dic_list()) "
    }
   },
   "position": {
    "height": "372.4px",
    "left": "370.4px",
    "right": "20px",
    "top": "71px",
    "width": "340px"
   },
   "types_to_exclude": [
    "module",
    "function",
    "builtin_function_or_method",
    "instance",
    "_Feature"
   ],
   "window_display": false
  }
 },
 "nbformat": 4,
 "nbformat_minor": 4
}
