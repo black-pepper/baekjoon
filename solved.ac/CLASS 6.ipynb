{
 "cells": [
  {
   "cell_type": "markdown",
   "metadata": {},
   "source": [
    "## 13334번: 철로"
   ]
  },
  {
   "cell_type": "code",
   "execution_count": 29,
   "metadata": {},
   "outputs": [
    {
     "name": "stdout",
     "output_type": "stream",
     "text": [
      "5\n",
      "-5 5\n",
      "30 40\n",
      "-5 5\n",
      "50 40\n",
      "5 -5\n",
      "10\n",
      "3\n"
     ]
    }
   ],
   "source": [
    "#https://blog.naver.com/occidere/221085858307\n",
    "import sys\n",
    "import heapq\n",
    "#input = sys.stdin.readline\n",
    "\n",
    "n = int(input())\n",
    "arr = []\n",
    "for i in range(n):\n",
    "    arr.append(list(map(int, input().split())))\n",
    "    arr[i].sort()\n",
    "d = int(input())\n",
    "\n",
    "arr.sort(key=lambda x:x[1])\n",
    "result = -1\n",
    "heap = []\n",
    "for i in range(n):\n",
    "    heapq.heappush(heap, arr[i][0])\n",
    "    while heap and heap[0]<arr[i][1]-d:\n",
    "        heapq.heappop(heap)\n",
    "    result = max(result, len(heap))\n",
    "    \n",
    "print(result)"
   ]
  },
  {
   "cell_type": "markdown",
   "metadata": {},
   "source": [
    "## 1019번: 책 페이지"
   ]
  },
  {
   "cell_type": "code",
   "execution_count": 6,
   "metadata": {},
   "outputs": [
    {
     "name": "stdout",
     "output_type": "stream",
     "text": [
      "11\n",
      "1 4 1 1 1 1 1 1 1 1 "
     ]
    }
   ],
   "source": [
    "#https://pacific-ocean.tistory.com/240\n",
    "N = int(input())\n",
    "page = [0] * 10\n",
    "point = 1\n",
    "while N != 0:\n",
    "    while N % 10 != 9:\n",
    "        for i in str(N):\n",
    "            page[int(i)] += point\n",
    "        N -= 1\n",
    "    if N<10:\n",
    "        for i in range(N+1):\n",
    "            page[i] += point\n",
    "        page[0] -= point\n",
    "        break\n",
    "    else:\n",
    "        for i in range(10):\n",
    "            page[i] += (N//10+1) * point\n",
    "    page[0] -= point\n",
    "    point *= 10\n",
    "    N//=10\n",
    "for i in page:\n",
    "    print(i, end=' ')"
   ]
  },
  {
   "cell_type": "markdown",
   "metadata": {},
   "source": [
    "## 2533번: 사회망 서비스(SNS)"
   ]
  },
  {
   "cell_type": "code",
   "execution_count": 1,
   "metadata": {},
   "outputs": [
    {
     "name": "stdout",
     "output_type": "stream",
     "text": [
      "8\n",
      "1 2\n",
      "1 3\n",
      "1 4\n",
      "2 5\n",
      "2 6\n",
      "4 7\n",
      "4 8\n",
      "3\n"
     ]
    }
   ],
   "source": [
    "#Python3 통과, PyPy3 메모리초과\n",
    "import sys\n",
    "#sys.setrecursionlimit(10**6)\n",
    "#input = sys.stdin.readline\n",
    "\n",
    "N = int(input())\n",
    "tree = [[] for i in range(N+1)]\n",
    "for i in range(N-1):\n",
    "    u, v = map(int, input().split())\n",
    "    tree[u].append(v)\n",
    "    tree[v].append(u)\n",
    "    \n",
    "dp = [[0, 0] for i in range(N+1)]\n",
    "visit = [0] * (N+1)\n",
    "def DFS(select):\n",
    "    dp[select][1] = 1\n",
    "    for i in tree[select]:\n",
    "        if visit[i] == 0:\n",
    "            visit[i] = 1\n",
    "            DFS(i)\n",
    "            dp[select][0] += dp[i][1]\n",
    "            dp[select][1] += min(dp[i][0], dp[i][1])\n",
    "\n",
    "visit[1] = 1\n",
    "DFS(1)\n",
    "print(min(dp[1][0], dp[1][1]))"
   ]
  },
  {
   "cell_type": "markdown",
   "metadata": {},
   "source": [
    "## 14428번: 수열과 쿼리 16"
   ]
  },
  {
   "cell_type": "code",
   "execution_count": 32,
   "metadata": {},
   "outputs": [
    {
     "name": "stdout",
     "output_type": "stream",
     "text": [
      "5\n",
      "5 4 3 2 1\n",
      "6\n",
      "2 1 3\n",
      "3\n",
      "2 1 4\n",
      "4\n",
      "1 5 3\n",
      "2 3 5\n",
      "4\n",
      "1 4 3\n",
      "2 3 5\n",
      "3\n"
     ]
    }
   ],
   "source": [
    "import sys\n",
    "#input = sys.stdin.readline\n",
    "#sys.setrecursionlimit(10**4)\n",
    "\n",
    "def init(start, end, node):\n",
    "    if start == end:\n",
    "        tree[node] = [arr[start], start]\n",
    "    else:\n",
    "        mid = (start+end)//2\n",
    "        tree[node] = min(init(start, mid, node*2), init(mid+1, end, node*2+1))\n",
    "    return tree[node]\n",
    "\n",
    "def tree_find(start, end, node, left, right):\n",
    "    if left>end or right<start:\n",
    "        return [10**9, 100000]\n",
    "    if left<=start and end<=right:\n",
    "        return tree[node]\n",
    "    mid = (start+end)//2\n",
    "    temp1 = tree_find(start, mid, node*2, left, right)\n",
    "    temp2 = tree_find(mid+1, end, node*2+1, left, right)\n",
    "    return min(temp1, temp2)\n",
    "\n",
    "def tree_update(start, end, node, index, num):\n",
    "    if index<start or index>end:\n",
    "        pass\n",
    "    elif start == end:\n",
    "        tree[node][0] = num\n",
    "    else:\n",
    "        mid = (start + end)//2\n",
    "        left = tree_update(start, mid, node*2, index, num)\n",
    "        right = tree_update(mid+1, end, node*2+1, index, num)\n",
    "        tree[node] = min(left, right)\n",
    "    return tree[node]\n",
    "\n",
    "N = int(input())\n",
    "arr = list(map(int, input().split()))\n",
    "tree = [0] * (4*N)\n",
    "init(0, N-1, 1)\n",
    "\n",
    "M = int(input())\n",
    "for i in range(M):\n",
    "    a, b, c = map(int, input().split())\n",
    "    if a == 1:\n",
    "        tree_update(0, N-1, 1, b-1, c)\n",
    "    else:\n",
    "        print(tree_find(0, N-1, 1, b-1, c-1)[1]+1)"
   ]
  },
  {
   "cell_type": "markdown",
   "metadata": {},
   "source": [
    "## 2243번: 사탕상자"
   ]
  },
  {
   "cell_type": "code",
   "execution_count": 23,
   "metadata": {
    "scrolled": true
   },
   "outputs": [
    {
     "name": "stdout",
     "output_type": "stream",
     "text": [
      "6\n",
      "2 1 2\n",
      "2 3 3\n",
      "1 2\n",
      "1\n",
      "1 2\n",
      "3\n",
      "2 1 -1\n",
      "1 2\n",
      "3\n"
     ]
    }
   ],
   "source": [
    "import sys\n",
    "#input = sys.stdin.readline\n",
    "#sys.setrecursionlimit(10**4)\n",
    "MAX_SIZE = 1000000\n",
    "\n",
    "def tree_pop(start, end, node, num):\n",
    "    tree[node] -= 1\n",
    "    if start == end:\n",
    "        return start\n",
    "    mid = (start+end)//2\n",
    "    if tree[node*2] >= num:\n",
    "        return tree_pop(start, mid, node*2, num)\n",
    "    else:\n",
    "        return tree_pop(mid+1, end, node*2+1, num-(tree[node*2]))\n",
    "\n",
    "def tree_push(start, end, node, idx, num):\n",
    "    if idx<start or idx>end:\n",
    "        return\n",
    "    tree[node] += num\n",
    "    if start == end:\n",
    "        return\n",
    "    mid = (start+end)//2\n",
    "    tree_push(start, mid, node*2, idx, num)\n",
    "    tree_push(mid+1, end, node*2+1, idx, num)\n",
    "\n",
    "tree = [0] * (MAX_SIZE * 4)\n",
    "n = int(input())\n",
    "for i in range(n):\n",
    "    cmd = list(map(int, input().split()))\n",
    "    if cmd[0] == 1: #사탕을 꺼내는 경우\n",
    "        print(tree_pop(0, MAX_SIZE-1, 1, cmd[1])+1)\n",
    "    else:\n",
    "        tree_push(0, MAX_SIZE-1, 1, cmd[1]-1, cmd[2])"
   ]
  },
  {
   "cell_type": "markdown",
   "metadata": {},
   "source": [
    "## 3015번: 오아시스 재결합"
   ]
  },
  {
   "cell_type": "code",
   "execution_count": 14,
   "metadata": {},
   "outputs": [
    {
     "name": "stdout",
     "output_type": "stream",
     "text": [
      "7\n",
      "2\n",
      "4\n",
      "1\n",
      "2\n",
      "2\n",
      "5\n",
      "1\n",
      "10\n"
     ]
    }
   ],
   "source": [
    "from collections import deque\n",
    "\n",
    "N = int(input())\n",
    "stack = deque()\n",
    "cnt = 0\n",
    "for i in range(N):\n",
    "    num = int(input())\n",
    "    while stack and stack[-1][0] < num:\n",
    "        cnt += stack.pop()[1]\n",
    "    \n",
    "    if not stack:\n",
    "        stack.append([num, 1])\n",
    "    else:\n",
    "        if stack[-1][0] == num:\n",
    "            select = stack.pop()\n",
    "            cnt += select[1]\n",
    "            \n",
    "            if stack:\n",
    "                cnt += 1\n",
    "            \n",
    "            select[1] += 1\n",
    "            stack.append(select)\n",
    "        else:\n",
    "            stack.append([num, 1])\n",
    "            cnt += 1\n",
    "    \n",
    "print(cnt)"
   ]
  },
  {
   "cell_type": "markdown",
   "metadata": {},
   "source": [
    "## 11689번: GCD(n, k) = 1"
   ]
  },
  {
   "cell_type": "code",
   "execution_count": 66,
   "metadata": {},
   "outputs": [
    {
     "name": "stdout",
     "output_type": "stream",
     "text": [
      "99\n",
      "60\n"
     ]
    }
   ],
   "source": [
    "import math\n",
    "n = int(input())\n",
    "result = n\n",
    "max_length = math.ceil(math.sqrt(n)) + 1\n",
    "for i in range(2, max_length):\n",
    "    if n%i == 0:\n",
    "        while n%i == 0:\n",
    "            n //= i\n",
    "        result *= 1-(1/i)\n",
    "if n>1:\n",
    "    result *= 1-(1/n)\n",
    "print(int(result))"
   ]
  },
  {
   "cell_type": "markdown",
   "metadata": {},
   "source": [
    "## 15824번: 너 봄에는 캡사이신이 맛있단다"
   ]
  },
  {
   "cell_type": "code",
   "execution_count": 20,
   "metadata": {},
   "outputs": [
    {
     "name": "stdout",
     "output_type": "stream",
     "text": [
      "3\n",
      "5 2 8\n",
      "18\n"
     ]
    }
   ],
   "source": [
    "import sys\n",
    "#input = sys.stdin.readline\n",
    "MOD = 1000000007\n",
    "\n",
    "N = int(input())\n",
    "arr = list(map(int, input().split()))\n",
    "arr.sort()\n",
    "\n",
    "MAX = 300001\n",
    "POW = [1] #2제곱값 저장\n",
    "for i in range(1, MAX):\n",
    "    POW.append((POW[i-1]*2)%MOD)\n",
    "    \n",
    "plus = 0\n",
    "minus = 0\n",
    "for i in range(N):\n",
    "    minus += (arr[i]*POW[N-i-1])%MOD\n",
    "    plus += (arr[i]*POW[i])%MOD\n",
    "print((plus-minus)%MOD)"
   ]
  },
  {
   "cell_type": "markdown",
   "metadata": {},
   "source": [
    "## 16287번: Parcel"
   ]
  },
  {
   "cell_type": "code",
   "execution_count": 19,
   "metadata": {},
   "outputs": [
    {
     "name": "stdout",
     "output_type": "stream",
     "text": [
      "21 7\n",
      "10 1 4 6 2 8 5\n",
      "YES\n"
     ]
    }
   ],
   "source": [
    "import sys\n",
    "#input = sys.stdin.readline\n",
    "\n",
    "w, n = map(int, input().split())\n",
    "A = list(map(int, input().split()))\n",
    "\n",
    "dp = [() for _ in range(w+1)]\n",
    "for i in range(n):\n",
    "    for j in range(i+1, n):\n",
    "        if A[i]+A[j] <= w:\n",
    "            dp[A[i]+A[j]] = (A[i], A[j])\n",
    "\n",
    "ans = 'NO'\n",
    "for i in range(w):\n",
    "    if dp[i] and dp[w-i]:\n",
    "        if dp[i][0] not in dp[w-i] and dp[i][1] not in dp[w-i]:\n",
    "            ans = 'YES'\n",
    "print(ans)"
   ]
  },
  {
   "cell_type": "markdown",
   "metadata": {},
   "source": [
    "## 16565번: N포커"
   ]
  },
  {
   "cell_type": "code",
   "execution_count": null,
   "metadata": {},
   "outputs": [],
   "source": []
  }
 ],
 "metadata": {
  "kernelspec": {
   "display_name": "Python 3",
   "language": "python",
   "name": "python3"
  },
  "language_info": {
   "codemirror_mode": {
    "name": "ipython",
    "version": 3
   },
   "file_extension": ".py",
   "mimetype": "text/x-python",
   "name": "python",
   "nbconvert_exporter": "python",
   "pygments_lexer": "ipython3",
   "version": "3.8.3"
  },
  "toc": {
   "base_numbering": 1,
   "nav_menu": {},
   "number_sections": true,
   "sideBar": true,
   "skip_h1_title": false,
   "title_cell": "Table of Contents",
   "title_sidebar": "Contents",
   "toc_cell": false,
   "toc_position": {},
   "toc_section_display": true,
   "toc_window_display": false
  },
  "varInspector": {
   "cols": {
    "lenName": 16,
    "lenType": 16,
    "lenVar": 40
   },
   "kernels_config": {
    "python": {
     "delete_cmd_postfix": "",
     "delete_cmd_prefix": "del ",
     "library": "var_list.py",
     "varRefreshCmd": "print(var_dic_list())"
    },
    "r": {
     "delete_cmd_postfix": ") ",
     "delete_cmd_prefix": "rm(",
     "library": "var_list.r",
     "varRefreshCmd": "cat(var_dic_list()) "
    }
   },
   "types_to_exclude": [
    "module",
    "function",
    "builtin_function_or_method",
    "instance",
    "_Feature"
   ],
   "window_display": false
  }
 },
 "nbformat": 4,
 "nbformat_minor": 4
}
