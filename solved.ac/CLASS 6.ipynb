{
 "cells": [
  {
   "cell_type": "markdown",
   "metadata": {},
   "source": [
    "## 1019번: 책 페이지"
   ]
  },
  {
   "cell_type": "code",
   "execution_count": 6,
   "metadata": {},
   "outputs": [
    {
     "name": "stdout",
     "output_type": "stream",
     "text": [
      "11\n",
      "1 4 1 1 1 1 1 1 1 1 "
     ]
    }
   ],
   "source": [
    "#https://pacific-ocean.tistory.com/240\n",
    "N = int(input())\n",
    "page = [0] * 10\n",
    "point = 1\n",
    "while N != 0:\n",
    "    while N % 10 != 9:\n",
    "        for i in str(N):\n",
    "            page[int(i)] += point\n",
    "        N -= 1\n",
    "    if N<10:\n",
    "        for i in range(N+1):\n",
    "            page[i] += point\n",
    "        page[0] -= point\n",
    "        break\n",
    "    else:\n",
    "        for i in range(10):\n",
    "            page[i] += (N//10+1) * point\n",
    "    page[0] -= point\n",
    "    point *= 10\n",
    "    N//=10\n",
    "for i in page:\n",
    "    print(i, end=' ')"
   ]
  },
  {
   "cell_type": "markdown",
   "metadata": {},
   "source": [
    "## 2533번: 사회망 서비스(SNS) (메모리초과)"
   ]
  },
  {
   "cell_type": "code",
   "execution_count": 1,
   "metadata": {},
   "outputs": [
    {
     "name": "stdout",
     "output_type": "stream",
     "text": [
      "8\n",
      "1 2\n",
      "1 3\n",
      "1 4\n",
      "2 5\n",
      "2 6\n",
      "4 7\n",
      "4 8\n",
      "3\n"
     ]
    }
   ],
   "source": [
    "import sys\n",
    "#sys.setrecursionlimit(10**6)\n",
    "\n",
    "N = int(input())\n",
    "tree = [[] for i in range(N+1)]\n",
    "for i in range(N-1):\n",
    "    u, v = map(int, input().split())\n",
    "    tree[u].append(v)\n",
    "    tree[v].append(u)\n",
    "    \n",
    "dp = [[0, 0] for i in range(N+1)]\n",
    "visit = [0] * (N+1)\n",
    "def DFS(select):\n",
    "    dp[select][1] = 1\n",
    "    for i in tree[select]:\n",
    "        if visit[i] == 0:\n",
    "            visit[i] = 1\n",
    "            DFS(i)\n",
    "            dp[select][0] += dp[i][1]\n",
    "            dp[select][1] += min(dp[i][0], dp[i][1])\n",
    "    #print(select, dp[select][0], dp[select][1])\n",
    "visit[1] = 1\n",
    "DFS(1)\n",
    "print(min(dp[1][0], dp[1][1]))"
   ]
  }
 ],
 "metadata": {
  "kernelspec": {
   "display_name": "Python 3",
   "language": "python",
   "name": "python3"
  },
  "language_info": {
   "codemirror_mode": {
    "name": "ipython",
    "version": 3
   },
   "file_extension": ".py",
   "mimetype": "text/x-python",
   "name": "python",
   "nbconvert_exporter": "python",
   "pygments_lexer": "ipython3",
   "version": "3.8.3"
  },
  "toc": {
   "base_numbering": 1,
   "nav_menu": {},
   "number_sections": true,
   "sideBar": true,
   "skip_h1_title": false,
   "title_cell": "Table of Contents",
   "title_sidebar": "Contents",
   "toc_cell": false,
   "toc_position": {},
   "toc_section_display": true,
   "toc_window_display": false
  },
  "varInspector": {
   "cols": {
    "lenName": 16,
    "lenType": 16,
    "lenVar": 40
   },
   "kernels_config": {
    "python": {
     "delete_cmd_postfix": "",
     "delete_cmd_prefix": "del ",
     "library": "var_list.py",
     "varRefreshCmd": "print(var_dic_list())"
    },
    "r": {
     "delete_cmd_postfix": ") ",
     "delete_cmd_prefix": "rm(",
     "library": "var_list.r",
     "varRefreshCmd": "cat(var_dic_list()) "
    }
   },
   "types_to_exclude": [
    "module",
    "function",
    "builtin_function_or_method",
    "instance",
    "_Feature"
   ],
   "window_display": false
  }
 },
 "nbformat": 4,
 "nbformat_minor": 4
}
