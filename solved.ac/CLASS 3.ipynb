{
 "cells": [
  {
   "cell_type": "markdown",
   "metadata": {},
   "source": [
    "## 1074번: Z"
   ]
  },
  {
   "cell_type": "code",
   "execution_count": 28,
   "metadata": {},
   "outputs": [
    {
     "name": "stdout",
     "output_type": "stream",
     "text": [
      "3 7 7\n",
      "63\n"
     ]
    }
   ],
   "source": [
    "N, r, c = map(int, input().split())\n",
    "\n",
    "def find_count(N, r, c, count):\n",
    "    if N == 0:\n",
    "        return count\n",
    "    \n",
    "    split_matrix = 2**(N-1)\n",
    "    if r<split_matrix and c<split_matrix: #첫번째칸\n",
    "        return find_count(N-1, r, c, count)\n",
    "    \n",
    "    elif r<split_matrix and c>=split_matrix: #두번째칸\n",
    "        return find_count(N-1, r, c-split_matrix, count + 4**(N-1))\n",
    "    \n",
    "    elif r>=split_matrix and c<split_matrix: #세번째칸\n",
    "        return find_count(N-1, r-split_matrix, c, count + 4**(N-1)*2)\n",
    "    \n",
    "    else: #네번째칸\n",
    "        return find_count(N-1, r-split_matrix, c-split_matrix, count + 4**(N-1)*3)\n",
    "        \n",
    "print(find_count(N, r, c, 0))"
   ]
  },
  {
   "cell_type": "markdown",
   "metadata": {},
   "source": [
    "## 1620번: 나는야 포켓몬 마스터 이다솜"
   ]
  },
  {
   "cell_type": "code",
   "execution_count": 7,
   "metadata": {},
   "outputs": [
    {
     "name": "stdout",
     "output_type": "stream",
     "text": [
      "26 5\n",
      "Bulbasaur\n",
      "Ivysaur\n",
      "Venusaur\n",
      "Charmander\n",
      "Charmeleon\n",
      "Charizard\n",
      "Squirtle\n",
      "Wartortle\n",
      "Blastoise\n",
      "Caterpie\n",
      "Metapod\n",
      "Butterfree\n",
      "Weedle\n",
      "Kakuna\n",
      "Beedrill\n",
      "Pidgey\n",
      "Pidgeotto\n",
      "Pidgeot\n",
      "Rattata\n",
      "Raticate\n",
      "Spearow\n",
      "Fearow\n",
      "Ekans\n",
      "Arbok\n",
      "Pikachu\n",
      "Raichu\n",
      "25\n",
      "Pikachu\n",
      "Raichu\n",
      "26\n",
      "3\n",
      "Venusaur\n",
      "Pidgey\n",
      "16\n",
      "Kakuna\n",
      "14\n"
     ]
    }
   ],
   "source": [
    "import sys\n",
    "#input = sys.stdin.readline\n",
    "\n",
    "M, N = map(int, input().split())\n",
    "arr = []\n",
    "for _ in range(M):\n",
    "    arr.append(input().rstrip('\\n'))\n",
    "    \n",
    "for _ in range(N):\n",
    "    q = input().rstrip('\\n')\n",
    "    if(q.isnumeric()):\n",
    "        print(arr[int(q)-1])\n",
    "    else:\n",
    "        print(arr.index(q)+1)"
   ]
  }
 ],
 "metadata": {
  "kernelspec": {
   "display_name": "Python 3",
   "language": "python",
   "name": "python3"
  },
  "language_info": {
   "codemirror_mode": {
    "name": "ipython",
    "version": 3
   },
   "file_extension": ".py",
   "mimetype": "text/x-python",
   "name": "python",
   "nbconvert_exporter": "python",
   "pygments_lexer": "ipython3",
   "version": "3.8.3"
  },
  "toc": {
   "base_numbering": 1,
   "nav_menu": {},
   "number_sections": true,
   "sideBar": true,
   "skip_h1_title": false,
   "title_cell": "Table of Contents",
   "title_sidebar": "Contents",
   "toc_cell": false,
   "toc_position": {},
   "toc_section_display": true,
   "toc_window_display": false
  },
  "varInspector": {
   "cols": {
    "lenName": 16,
    "lenType": 16,
    "lenVar": 40
   },
   "kernels_config": {
    "python": {
     "delete_cmd_postfix": "",
     "delete_cmd_prefix": "del ",
     "library": "var_list.py",
     "varRefreshCmd": "print(var_dic_list())"
    },
    "r": {
     "delete_cmd_postfix": ") ",
     "delete_cmd_prefix": "rm(",
     "library": "var_list.r",
     "varRefreshCmd": "cat(var_dic_list()) "
    }
   },
   "types_to_exclude": [
    "module",
    "function",
    "builtin_function_or_method",
    "instance",
    "_Feature"
   ],
   "window_display": false
  }
 },
 "nbformat": 4,
 "nbformat_minor": 4
}
