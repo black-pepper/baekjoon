{
 "cells": [
  {
   "cell_type": "markdown",
   "metadata": {},
   "source": [
    "## 2166번: 다각형의 면적"
   ]
  },
  {
   "cell_type": "code",
   "execution_count": 6,
   "metadata": {},
   "outputs": [
    {
     "name": "stdout",
     "output_type": "stream",
     "text": [
      "4\n",
      "0 0\n",
      "0 10\n",
      "10 10\n",
      "10 0\n",
      "100.0\n"
     ]
    }
   ],
   "source": [
    "import math\n",
    "N = int(input())\n",
    "point = []\n",
    "for i in range(N):\n",
    "    x, y = map(int, input().split())\n",
    "    point.append([x, y])\n",
    "    \n",
    "point.append(point[0])\n",
    "left, right = 0, 0\n",
    "for i in range(N):\n",
    "    left += point[i][0] * point[i+1][1]\n",
    "    right += point[i][1] * point[i+1][0]\n",
    "    \n",
    "print(\"%0.1f\"%round(abs(left-right)/2, 1))"
   ]
  },
  {
   "cell_type": "markdown",
   "metadata": {},
   "source": [
    "## 2467번: 용액"
   ]
  },
  {
   "cell_type": "code",
   "execution_count": 1,
   "metadata": {},
   "outputs": [
    {
     "name": "stdout",
     "output_type": "stream",
     "text": [
      "5\n",
      "-99 -2 -1 4 98\n",
      "-99 98\n"
     ]
    }
   ],
   "source": [
    "import sys\n",
    "#input = sys.stdin.readline\n",
    "\n",
    "n = int(input())\n",
    "arr = list(map(int, input().split()))\n",
    "\n",
    "left, right = 0, n-1\n",
    "value1, value2 = arr[left], arr[right]\n",
    "\n",
    "while left<right:\n",
    "    temp = arr[left]+arr[right]\n",
    "    if abs(value1+value2) > abs(temp):\n",
    "        value1, value2 = arr[left], arr[right]\n",
    "    if  temp < 0:\n",
    "        left += 1\n",
    "    else:\n",
    "        right -= 1\n",
    "        \n",
    "print(value1, value2)"
   ]
  },
  {
   "cell_type": "markdown",
   "metadata": {},
   "source": [
    "## 1647번: 도시 분할 계획"
   ]
  },
  {
   "cell_type": "code",
   "execution_count": 12,
   "metadata": {},
   "outputs": [
    {
     "name": "stdout",
     "output_type": "stream",
     "text": [
      "7 12\n",
      "1 2 3\n",
      "1 3 2\n",
      "3 2 1\n",
      "2 5 2\n",
      "3 4 4\n",
      "7 3 6\n",
      "5 1 5\n",
      "1 6 2\n",
      "6 4 1\n",
      "6 5 3\n",
      "4 5 3\n",
      "6 7 4\n",
      "8\n"
     ]
    }
   ],
   "source": [
    "import sys\n",
    "import heapq\n",
    "#input = sys.stdin.readline\n",
    "\n",
    "N, M = map(int, input().split())\n",
    "heap = []\n",
    "for i in range(M):\n",
    "    a, b, c = map(int, input().split())\n",
    "    heapq.heappush(heap, [c, a, b])\n",
    "    \n",
    "root = [i for i in range(N+1)]\n",
    "def find(target):\n",
    "    if root[target] == target:\n",
    "        return target\n",
    "    root[target] = find(root[target])\n",
    "    return root[target]\n",
    "def union(a, b):\n",
    "    a = find(a)\n",
    "    b = find(b)\n",
    "    if a == b:\n",
    "        return False\n",
    "    if a < b:\n",
    "        root[b] = a\n",
    "    else:\n",
    "        root[a] = b\n",
    "    return True\n",
    "        \n",
    "max_cost = 0\n",
    "count = 0\n",
    "while heap and count != N-2:\n",
    "    c, a, b = heapq.heappop(heap)\n",
    "    if union(a, b):\n",
    "        max_cost += c\n",
    "        count += 1\n",
    "        \n",
    "print(max_cost)"
   ]
  },
  {
   "cell_type": "markdown",
   "metadata": {},
   "source": [
    "## 1987번: 알파벳 (미완성)"
   ]
  },
  {
   "cell_type": "code",
   "execution_count": 6,
   "metadata": {},
   "outputs": [
    {
     "name": "stdout",
     "output_type": "stream",
     "text": [
      "2 4\n",
      "CAAB\n",
      "ADCB\n",
      "3\n"
     ]
    }
   ],
   "source": [
    "import sys\n",
    "#input = sys.stdin.readline\n",
    "#sys.setrecursionlimit(100000)\n",
    "\n",
    "R, C = map(int, input().split())\n",
    "board = []\n",
    "for i in range(R):\n",
    "    board.append(list(input()))\n",
    "\n",
    "count = 0\n",
    "def DFS(i, j, c, alphabet):\n",
    "    global count\n",
    "    alphabet[ord(board[i][j])] = 1\n",
    "    count = max(count, c)\n",
    "    if i > 0 and alphabet[ord(board[i-1][j])] != 1: #상\n",
    "        DFS(i-1, j, c+1, alphabet)\n",
    "    if i < R-1 and alphabet[ord(board[i+1][j])] != 1: #하\n",
    "        DFS(i+1, j, c+1, alphabet)\n",
    "    if j > 0 and alphabet[ord(board[i][j-1])] != 1: #좌\n",
    "        DFS(i, j-1, c+1, alphabet)\n",
    "    if j < C-1 and alphabet[ord(board[i][j+1])] != 1: #우\n",
    "        DFS(i, j+1, c+1, alphabet)\n",
    "        \n",
    "alphabet = [0] * 91\n",
    "DFS(0, 0, 1, alphabet)\n",
    "        \n",
    "print(count)"
   ]
  }
 ],
 "metadata": {
  "kernelspec": {
   "display_name": "Python 3",
   "language": "python",
   "name": "python3"
  },
  "language_info": {
   "codemirror_mode": {
    "name": "ipython",
    "version": 3
   },
   "file_extension": ".py",
   "mimetype": "text/x-python",
   "name": "python",
   "nbconvert_exporter": "python",
   "pygments_lexer": "ipython3",
   "version": "3.8.3"
  },
  "toc": {
   "base_numbering": 1,
   "nav_menu": {},
   "number_sections": true,
   "sideBar": true,
   "skip_h1_title": false,
   "title_cell": "Table of Contents",
   "title_sidebar": "Contents",
   "toc_cell": false,
   "toc_position": {},
   "toc_section_display": true,
   "toc_window_display": false
  },
  "varInspector": {
   "cols": {
    "lenName": 16,
    "lenType": 16,
    "lenVar": 40
   },
   "kernels_config": {
    "python": {
     "delete_cmd_postfix": "",
     "delete_cmd_prefix": "del ",
     "library": "var_list.py",
     "varRefreshCmd": "print(var_dic_list())"
    },
    "r": {
     "delete_cmd_postfix": ") ",
     "delete_cmd_prefix": "rm(",
     "library": "var_list.r",
     "varRefreshCmd": "cat(var_dic_list()) "
    }
   },
   "types_to_exclude": [
    "module",
    "function",
    "builtin_function_or_method",
    "instance",
    "_Feature"
   ],
   "window_display": false
  }
 },
 "nbformat": 4,
 "nbformat_minor": 4
}
