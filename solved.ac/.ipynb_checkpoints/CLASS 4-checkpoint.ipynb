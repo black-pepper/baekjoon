{
 "cells": [
  {
   "cell_type": "markdown",
   "metadata": {},
   "source": [
    "## 11660번: 구간 합 구하기"
   ]
  },
  {
   "cell_type": "code",
   "execution_count": 2,
   "metadata": {},
   "outputs": [
    {
     "name": "stdout",
     "output_type": "stream",
     "text": [
      "4 3\n",
      "1 2 3 4\n",
      "2 3 4 5\n",
      "3 4 5 6\n",
      "4 5 6 7\n",
      "2 2 3 4\n",
      "27\n",
      "3 4 3 4\n",
      "6\n",
      "1 1 4 4\n",
      "64\n"
     ]
    }
   ],
   "source": [
    "import sys\n",
    "#input = sys.stdin.readline\n",
    "\n",
    "N, M = map(int, input().split())\n",
    "dp = [[0]*(N+1) for _ in range(N+1)]\n",
    "for i in range(1, N+1):\n",
    "    arr = list(map(int, input().split()))\n",
    "    for j in range(1, N+1):\n",
    "        dp[i][j] = dp[i][j-1] + dp[i-1][j] - dp[i-1][j-1] + arr[j-1]\n",
    "for i in range(M):\n",
    "    x1, y1, x2, y2 = map(int, input().split())\n",
    "    print(dp[x2][y2]-(dp[x1-1][y2]+dp[x2][y1-1]-dp[x1-1][y1-1]))"
   ]
  },
  {
   "cell_type": "markdown",
   "metadata": {},
   "source": [
    "## 15663번: N과 M (9)"
   ]
  },
  {
   "cell_type": "code",
   "execution_count": 15,
   "metadata": {},
   "outputs": [
    {
     "name": "stdout",
     "output_type": "stream",
     "text": [
      "4 4\n",
      "1 1 1 1\n",
      "1 1 1 1\n"
     ]
    }
   ],
   "source": [
    "from itertools import permutations\n",
    "N, M = map(int, input().split())\n",
    "arr = list(map(int, input().split()))\n",
    "for c in sorted(list(set(permutations(arr, M)))):\n",
    "    print(*c)"
   ]
  },
  {
   "cell_type": "markdown",
   "metadata": {},
   "source": [
    "## 2407번: 조합"
   ]
  },
  {
   "cell_type": "code",
   "execution_count": 5,
   "metadata": {},
   "outputs": [
    {
     "name": "stdout",
     "output_type": "stream",
     "text": [
      "100 6\n",
      "1192052400\n"
     ]
    }
   ],
   "source": [
    "from math import factorial \n",
    "n, m = map(int, input().split())\n",
    "print(factorial(n)//(factorial(m)*factorial(n-m)))"
   ]
  },
  {
   "cell_type": "code",
   "execution_count": 11,
   "metadata": {},
   "outputs": [
    {
     "name": "stdout",
     "output_type": "stream",
     "text": [
      "100 6\n",
      "1192052400\n"
     ]
    }
   ],
   "source": [
    "n, m = map(int, input().split())\n",
    "dp = [1] * (n+1) #팩토리얼 메모이제이션\n",
    "for i in range(1, n+1):\n",
    "    dp[i] = dp[i-1]*i\n",
    "print(dp[n]//(dp[m]*dp[n-m]))"
   ]
  },
  {
   "cell_type": "markdown",
   "metadata": {},
   "source": [
    "## 9465번: 스티커"
   ]
  },
  {
   "cell_type": "code",
   "execution_count": 8,
   "metadata": {},
   "outputs": [
    {
     "name": "stdout",
     "output_type": "stream",
     "text": [
      "2\n",
      "5\n",
      "50 10 100 20 40\n",
      "30 50 70 10 60\n",
      "260\n",
      "7\n",
      "10 30 10 50 100 20 40\n",
      "20 40 30 50 60 20 80\n",
      "290\n"
     ]
    }
   ],
   "source": [
    "import sys\n",
    "#input = sys.stdin.readline\n",
    "T = int(input())\n",
    "for t in range(T):\n",
    "    n = int(input())\n",
    "    sticker = []\n",
    "    for i in range(2):\n",
    "        sticker.append(list(map(int, input().split())))\n",
    "\n",
    "    dp = [[0] * (n+1) for _ in range(2)]\n",
    "    dp[0][0], dp[1][0] = sticker[0][0], sticker[1][0]\n",
    "    for j in range(1, n):\n",
    "        for i in range(2):\n",
    "            dp[i][j] = max(dp[i-1][j-1], dp[i-1][j-2]) + sticker[i][j]\n",
    "    print(max(dp[0][-2], dp[1][-2]))"
   ]
  },
  {
   "cell_type": "markdown",
   "metadata": {},
   "source": [
    "## 15654번: N과 M (5)"
   ]
  },
  {
   "cell_type": "code",
   "execution_count": 1,
   "metadata": {
    "ExecuteTime": {
     "end_time": "2021-10-06T04:20:23.062832Z",
     "start_time": "2021-10-06T04:20:09.706787Z"
    }
   },
   "outputs": [
    {
     "name": "stdout",
     "output_type": "stream",
     "text": [
      "3 1\n",
      "4 5 2\n",
      "2\n",
      "4\n",
      "5\n"
     ]
    }
   ],
   "source": [
    "from itertools import permutations\n",
    "\n",
    "N, M = map(int, input().split())\n",
    "arr = list(map(int, input().split()))\n",
    "arr.sort()\n",
    "for p in permutations(arr, M):\n",
    "    print(*p)"
   ]
  },
  {
   "cell_type": "code",
   "execution_count": 19,
   "metadata": {
    "ExecuteTime": {
     "end_time": "2021-10-06T04:27:50.117009Z",
     "start_time": "2021-10-06T04:27:46.892379Z"
    }
   },
   "outputs": [
    {
     "name": "stdout",
     "output_type": "stream",
     "text": [
      "3 1\n",
      "4 5 2\n",
      "2\n",
      "4\n",
      "5\n"
     ]
    }
   ],
   "source": [
    "def permutation(index, result, cnt):\n",
    "    if cnt == M:\n",
    "        print(*result)\n",
    "        return\n",
    "    for i in range(N):\n",
    "        if arr[i] in result:\n",
    "            continue\n",
    "        permutation(i+1, result+[arr[i]], cnt+1)\n",
    "        \n",
    "N, M = map(int, input().split())\n",
    "arr = list(map(int, input().split()))\n",
    "\n",
    "arr.sort()\n",
    "permutation(0, [], 0)"
   ]
  },
  {
   "cell_type": "markdown",
   "metadata": {},
   "source": [
    "## 2448번: 별 찍기 - 11"
   ]
  },
  {
   "cell_type": "code",
   "execution_count": 70,
   "metadata": {},
   "outputs": [
    {
     "name": "stdout",
     "output_type": "stream",
     "text": [
      "24\n",
      "                       *                       \n",
      "                      * *                      \n",
      "                     *****                     \n",
      "                    *     *                    \n",
      "                   * *   * *                   \n",
      "                  ***** *****                  \n",
      "                 *           *                 \n",
      "                * *         * *                \n",
      "               *****       *****               \n",
      "              *     *     *     *              \n",
      "             * *   * *   * *   * *             \n",
      "            ***** ***** ***** *****            \n",
      "           *                       *           \n",
      "          * *                     * *          \n",
      "         *****                   *****         \n",
      "        *     *                 *     *        \n",
      "       * *   * *               * *   * *       \n",
      "      ***** *****             ***** *****      \n",
      "     *           *           *           *     \n",
      "    * *         * *         * *         * *    \n",
      "   *****       *****       *****       *****   \n",
      "  *     *     *     *     *     *     *     *  \n",
      " * *   * *   * *   * *   * *   * *   * *   * * \n",
      "***** ***** ***** ***** ***** ***** ***** *****\n"
     ]
    }
   ],
   "source": [
    "from math import log2\n",
    "\n",
    "def fill_star(x1, y1, x2, y2):\n",
    "    if x2-x1 == 2 and y2-y1 == 4:\n",
    "        stars[x1][y1+2] = '*'\n",
    "        for i in range(1, 4, 2): stars[x1+1][y1+i] = '*'\n",
    "        for i in range(5): stars[x1+2][y1+i] = '*'\n",
    "    else:\n",
    "        fill_star(x1, y1+(y2-y1-2)//4+1, (x1+x2)//2, y2-(y2-y1-2)//4-1) #위\n",
    "        fill_star((x1+x2)//2+1, y1, x2, (y1+y2)//2-1) #아래 왼쪽\n",
    "        fill_star((x1+x2)//2+1, (y1+y2)//2+1, x2, y2) #아래 오른쪽\n",
    "\n",
    "N = int(input())\n",
    "k = int(log2(N//3))\n",
    "col = 5*2**(k)+2**k-1\n",
    "stars = [[' '] * col  for i in range(N)]\n",
    "fill_star(0, 0, N-1 , col-1)\n",
    "for s in stars:\n",
    "    print(''.join(s))"
   ]
  },
  {
   "cell_type": "markdown",
   "metadata": {},
   "source": [
    "## 1865번: 웜홀"
   ]
  },
  {
   "cell_type": "code",
   "execution_count": 39,
   "metadata": {},
   "outputs": [
    {
     "name": "stdout",
     "output_type": "stream",
     "text": [
      "2\n",
      "3 3 1\n",
      "1 2 2\n",
      "1 3 4\n",
      "2 3 1\n",
      "3 1 3\n",
      "NO\n",
      "3 2 1\n",
      "1 2 3\n",
      "2 3 4\n",
      "3 1 8\n",
      "YES\n"
     ]
    }
   ],
   "source": [
    "import sys\n",
    "#input = sys.stdin.readline\n",
    "T = int(input())\n",
    "\n",
    "for t in range(T):\n",
    "    N, M, W = map(int, input().split())\n",
    "    graph = [[] for i in range(N+1)]\n",
    "    for i in range(M):\n",
    "        S, E, T = map(int, input().split())\n",
    "        graph[S].append((E, T))\n",
    "        graph[E].append((S, T))\n",
    "    for i in range(W):\n",
    "        S, E, T = map(int, input().split())\n",
    "        graph[S].append((E, -T))\n",
    "\n",
    "    INF = 500\n",
    "    distance = [INF] * (N+1)\n",
    "\n",
    "    distance[1] = 0\n",
    "    for _ in range(N-1):\n",
    "        for s in range(1, N+1):\n",
    "            for n, t in graph[s]:\n",
    "                if distance[n] > distance[s] + t:\n",
    "                    distance[n] = distance[s] + t\n",
    "\n",
    "    flag = 0\n",
    "    for s in range(1, N+1):\n",
    "        for n, t in graph[s]:\n",
    "            if distance[n] > distance[s] + t:\n",
    "                flag = 1\n",
    "                break\n",
    "        if flag:\n",
    "            break\n",
    "\n",
    "    if flag:\n",
    "        print('YES')\n",
    "    else:\n",
    "        print('NO')"
   ]
  }
 ],
 "metadata": {
  "kernelspec": {
   "display_name": "Python 3",
   "language": "python",
   "name": "python3"
  },
  "language_info": {
   "codemirror_mode": {
    "name": "ipython",
    "version": 3
   },
   "file_extension": ".py",
   "mimetype": "text/x-python",
   "name": "python",
   "nbconvert_exporter": "python",
   "pygments_lexer": "ipython3",
   "version": "3.8.3"
  },
  "toc": {
   "base_numbering": 1,
   "nav_menu": {},
   "number_sections": true,
   "sideBar": true,
   "skip_h1_title": false,
   "title_cell": "Table of Contents",
   "title_sidebar": "Contents",
   "toc_cell": false,
   "toc_position": {},
   "toc_section_display": true,
   "toc_window_display": false
  },
  "varInspector": {
   "cols": {
    "lenName": 16,
    "lenType": 16,
    "lenVar": 40
   },
   "kernels_config": {
    "python": {
     "delete_cmd_postfix": "",
     "delete_cmd_prefix": "del ",
     "library": "var_list.py",
     "varRefreshCmd": "print(var_dic_list())"
    },
    "r": {
     "delete_cmd_postfix": ") ",
     "delete_cmd_prefix": "rm(",
     "library": "var_list.r",
     "varRefreshCmd": "cat(var_dic_list()) "
    }
   },
   "position": {
    "height": "198.4px",
    "left": "366px",
    "right": "20px",
    "top": "120px",
    "width": "350px"
   },
   "types_to_exclude": [
    "module",
    "function",
    "builtin_function_or_method",
    "instance",
    "_Feature"
   ],
   "window_display": false
  }
 },
 "nbformat": 4,
 "nbformat_minor": 4
}
