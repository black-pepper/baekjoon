{
 "cells": [
  {
   "cell_type": "markdown",
   "metadata": {},
   "source": [
    "## 1214번: 쿨한 물건 구매"
   ]
  },
  {
   "cell_type": "code",
   "execution_count": 27,
   "metadata": {},
   "outputs": [
    {
     "name": "stdout",
     "output_type": "stream",
     "text": [
      "18\n"
     ]
    }
   ],
   "source": [
    "#https://profailure.tistory.com/231\n",
    "D, P, Q = map(int, input().split())\n",
    "\n",
    "if P < Q: P, Q = Q, P\n",
    "\n",
    "n = D//P+1\n",
    "ans = P*n\n",
    "if D%P==0 or D%Q==0: ans = D\n",
    "else: \n",
    "    for i in range(n-1, -1, -1):\n",
    "        div, mod = divmod(D-(i*P), Q)\n",
    "        if mod == 0 :\n",
    "            ans = D\n",
    "            break\n",
    "        m = (i*P)+((div+1)*Q)\n",
    "        if m == ans: break\n",
    "        ans = min(ans, m)\n",
    "    \n",
    "print(ans)"
   ]
  },
  {
   "cell_type": "markdown",
   "metadata": {},
   "source": [
    "## 14157번: 팰린드롬 개수 구하기"
   ]
  },
  {
   "cell_type": "code",
   "execution_count": 1,
   "metadata": {},
   "outputs": [
    {
     "name": "stdout",
     "output_type": "stream",
     "text": [
      "abb\n",
      "4\n"
     ]
    }
   ],
   "source": [
    "#https://url.kr/32o15w\n",
    "S = input()\n",
    "N = len(S)\n",
    "dp = [[0]*N for _ in range(N)]\n",
    "\n",
    "for i in range(N):\n",
    "    dp[i][i] = 1\n",
    "    \n",
    "for i in range(N-1):\n",
    "    if S[i]==S[i+1]: dp[i][i+1] = 3\n",
    "    else: dp[i][i+1] = 2\n",
    "        \n",
    "for i in range(1, N):\n",
    "    for j in range(N):\n",
    "        k = j+i\n",
    "        if k >= N: break\n",
    "        if S[j]==S[k]: dp[j][k] = (dp[j+1][k] + dp[j][k-1] + 1)%10007\n",
    "        else: dp[j][k] = (dp[j+1][k] + dp[j][k-1] - dp[j+1][k-1])%10007\n",
    "            \n",
    "print(dp[0][-1])"
   ]
  }
 ],
 "metadata": {
  "kernelspec": {
   "display_name": "Python 3",
   "language": "python",
   "name": "python3"
  },
  "language_info": {
   "codemirror_mode": {
    "name": "ipython",
    "version": 3
   },
   "file_extension": ".py",
   "mimetype": "text/x-python",
   "name": "python",
   "nbconvert_exporter": "python",
   "pygments_lexer": "ipython3",
   "version": "3.8.3"
  },
  "toc": {
   "base_numbering": 1,
   "nav_menu": {},
   "number_sections": true,
   "sideBar": true,
   "skip_h1_title": false,
   "title_cell": "Table of Contents",
   "title_sidebar": "Contents",
   "toc_cell": false,
   "toc_position": {},
   "toc_section_display": true,
   "toc_window_display": false
  },
  "varInspector": {
   "cols": {
    "lenName": 16,
    "lenType": 16,
    "lenVar": 40
   },
   "kernels_config": {
    "python": {
     "delete_cmd_postfix": "",
     "delete_cmd_prefix": "del ",
     "library": "var_list.py",
     "varRefreshCmd": "print(var_dic_list())"
    },
    "r": {
     "delete_cmd_postfix": ") ",
     "delete_cmd_prefix": "rm(",
     "library": "var_list.r",
     "varRefreshCmd": "cat(var_dic_list()) "
    }
   },
   "types_to_exclude": [
    "module",
    "function",
    "builtin_function_or_method",
    "instance",
    "_Feature"
   ],
   "window_display": false
  }
 },
 "nbformat": 4,
 "nbformat_minor": 4
}
