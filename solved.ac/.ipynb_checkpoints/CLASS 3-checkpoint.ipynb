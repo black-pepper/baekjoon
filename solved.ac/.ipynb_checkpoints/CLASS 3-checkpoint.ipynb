{
 "cells": [
  {
   "cell_type": "markdown",
   "metadata": {},
   "source": [
    "## 1074번: Z"
   ]
  },
  {
   "cell_type": "code",
   "execution_count": 28,
   "metadata": {},
   "outputs": [
    {
     "name": "stdout",
     "output_type": "stream",
     "text": [
      "3 7 7\n",
      "63\n"
     ]
    }
   ],
   "source": [
    "N, r, c = map(int, input().split())\n",
    "\n",
    "def find_count(N, r, c, count):\n",
    "    if N == 0:\n",
    "        return count\n",
    "    \n",
    "    split_matrix = 2**(N-1)\n",
    "    if r<split_matrix and c<split_matrix: #첫번째칸\n",
    "        return find_count(N-1, r, c, count)\n",
    "    \n",
    "    elif r<split_matrix and c>=split_matrix: #두번째칸\n",
    "        return find_count(N-1, r, c-split_matrix, count + 4**(N-1))\n",
    "    \n",
    "    elif r>=split_matrix and c<split_matrix: #세번째칸\n",
    "        return find_count(N-1, r-split_matrix, c, count + 4**(N-1)*2)\n",
    "    \n",
    "    else: #네번째칸\n",
    "        return find_count(N-1, r-split_matrix, c-split_matrix, count + 4**(N-1)*3)\n",
    "        \n",
    "print(find_count(N, r, c, 0))"
   ]
  },
  {
   "cell_type": "markdown",
   "metadata": {},
   "source": [
    "## 1620번: 나는야 포켓몬 마스터 이다솜"
   ]
  },
  {
   "cell_type": "code",
   "execution_count": 7,
   "metadata": {},
   "outputs": [
    {
     "name": "stdout",
     "output_type": "stream",
     "text": [
      "26 5\n",
      "Bulbasaur\n",
      "Ivysaur\n",
      "Venusaur\n",
      "Charmander\n",
      "Charmeleon\n",
      "Charizard\n",
      "Squirtle\n",
      "Wartortle\n",
      "Blastoise\n",
      "Caterpie\n",
      "Metapod\n",
      "Butterfree\n",
      "Weedle\n",
      "Kakuna\n",
      "Beedrill\n",
      "Pidgey\n",
      "Pidgeotto\n",
      "Pidgeot\n",
      "Rattata\n",
      "Raticate\n",
      "Spearow\n",
      "Fearow\n",
      "Ekans\n",
      "Arbok\n",
      "Pikachu\n",
      "Raichu\n",
      "25\n",
      "Pikachu\n",
      "Raichu\n",
      "26\n",
      "3\n",
      "Venusaur\n",
      "Pidgey\n",
      "16\n",
      "Kakuna\n",
      "14\n"
     ]
    }
   ],
   "source": [
    "import sys\n",
    "#input = sys.stdin.readline\n",
    "\n",
    "M, N = map(int, input().split())\n",
    "arr = []\n",
    "for _ in range(M):\n",
    "    arr.append(input().rstrip('\\n'))\n",
    "    \n",
    "for _ in range(N):\n",
    "    q = input().rstrip('\\n')\n",
    "    if(q.isnumeric()):\n",
    "        print(arr[int(q)-1])\n",
    "    else:\n",
    "        print(arr.index(q)+1)"
   ]
  },
  {
   "cell_type": "markdown",
   "metadata": {},
   "source": [
    "## 7662번: 이중 우선순위 큐"
   ]
  },
  {
   "cell_type": "code",
   "execution_count": 6,
   "metadata": {},
   "outputs": [
    {
     "name": "stdout",
     "output_type": "stream",
     "text": [
      "2\n",
      "7\n",
      "I 16\n",
      "I -5643\n",
      "D -1\n",
      "D 1\n",
      "D 1\n",
      "I 123\n",
      "D -1\n",
      "EMPTY\n",
      "9\n",
      "I -45\n",
      "I 653\n",
      "D 1\n",
      "I -642\n",
      "I 45\n",
      "I 97\n",
      "D 1\n",
      "D -1\n",
      "I 333\n",
      "333 -45\n"
     ]
    }
   ],
   "source": [
    "import sys\n",
    "import heapq\n",
    "#input = sys.stdin.readline\n",
    "\n",
    "T = int(input())\n",
    "for _ in range(T):\n",
    "    K = int(input())\n",
    "    check = [0] * 1000000\n",
    "    min_heap = []\n",
    "    max_heap = []\n",
    "    for k in range(K):\n",
    "        command, num = input().split()\n",
    "        num = int(num)\n",
    "        if 'I' in command:\n",
    "            heapq.heappush(min_heap, [num, k])\n",
    "            heapq.heappush(max_heap, [-num, k])\n",
    "            check[k] = 1\n",
    "        else:\n",
    "            if num == 1:\n",
    "                while max_heap:\n",
    "                    num, temp = heapq.heappop(max_heap)\n",
    "                    if check[temp] == 1:\n",
    "                        check[temp] = 0\n",
    "                        break\n",
    "            else:\n",
    "                while min_heap:\n",
    "                    num, temp = heapq.heappop(min_heap)\n",
    "                    if check[temp] == 1:\n",
    "                        check[temp] = 0\n",
    "                        break\n",
    "    \n",
    "    max_value = ''\n",
    "    min_value = ''\n",
    "    \n",
    "    while min_heap:\n",
    "        num, temp = heapq.heappop(min_heap)\n",
    "        if check[temp] == 1:\n",
    "            min_value = num\n",
    "            break\n",
    "    while max_heap:\n",
    "        num, temp = heapq.heappop(max_heap)\n",
    "        if check[temp] == 1:\n",
    "            max_value = num *-1\n",
    "            break\n",
    "            \n",
    "    if min_value == '':\n",
    "        print('EMPTY')\n",
    "    else:\n",
    "        print(max_value, min_value,)"
   ]
  },
  {
   "cell_type": "markdown",
   "metadata": {},
   "source": [
    "## 11724번: 연결 요소의 개수"
   ]
  },
  {
   "cell_type": "code",
   "execution_count": 6,
   "metadata": {},
   "outputs": [
    {
     "name": "stdout",
     "output_type": "stream",
     "text": [
      "6 2\n",
      "1 3\n",
      "2 3\n",
      "4\n"
     ]
    }
   ],
   "source": [
    "import sys\n",
    "from collections import deque\n",
    "#input = sys.stdin.readline\n",
    "\n",
    "N, M = map(int, input().split())\n",
    "graph = [[] for i in range(N+1)]\n",
    "for _ in range(M):\n",
    "    u, v = map(int, input().split())\n",
    "    graph[u].append(v)\n",
    "    graph[v].append(u)\n",
    "    \n",
    "def BFS(num):\n",
    "    queue = deque()\n",
    "    queue.append(num)\n",
    "    visited[num] = 1\n",
    "    while queue:\n",
    "        select = queue.popleft()\n",
    "        for n in graph[select]:\n",
    "            if visited[n] == 0:\n",
    "                queue.append(n)\n",
    "                visited[n] = 1\n",
    "                \n",
    "visited = [0] * (N+1)\n",
    "count = 0\n",
    "for i in range(1, N+1):\n",
    "    if visited[i] == 0:\n",
    "        BFS(i)\n",
    "        count += 1\n",
    "        \n",
    "print(count)"
   ]
  },
  {
   "cell_type": "markdown",
   "metadata": {},
   "source": [
    "## 9095번: 1, 2, 3 더하기"
   ]
  },
  {
   "cell_type": "code",
   "execution_count": 3,
   "metadata": {},
   "outputs": [
    {
     "name": "stdout",
     "output_type": "stream",
     "text": [
      "3\n",
      "4\n",
      "7\n",
      "7\n",
      "44\n",
      "10\n",
      "274\n"
     ]
    }
   ],
   "source": [
    "dp = [0] * 12\n",
    "dp[1] = 1\n",
    "dp[2] = 2\n",
    "dp[3] = 4\n",
    "for i in range(4, 12):\n",
    "    dp[i] = dp[i-1] + dp[i-2] + dp[i-3]\n",
    "    \n",
    "T = int(input())\n",
    "for _ in range(T):\n",
    "    n = int(input())\n",
    "    print(dp[n])"
   ]
  },
  {
   "cell_type": "markdown",
   "metadata": {},
   "source": [
    "## 1764번: 듣보잡 (미완성)"
   ]
  },
  {
   "cell_type": "code",
   "execution_count": 4,
   "metadata": {},
   "outputs": [
    {
     "name": "stdout",
     "output_type": "stream",
     "text": [
      "3 4\n",
      "ohhenrie\n",
      "charlie\n",
      "baesangwook\n",
      "obama\n",
      "baesangwook\n",
      "ohhenrie\n",
      "clinton\n",
      "2\n",
      "baesangwook\n",
      "ohhenrie\n"
     ]
    }
   ],
   "source": [
    "import sys\n",
    "#input = sys.stdin.readline\n",
    "\n",
    "N, M = map(int, input().split())\n",
    "arr = []\n",
    "result = []\n",
    "for _ in range(N):\n",
    "    arr.append(input())\n",
    "for _ in range(M):\n",
    "    temp = input()\n",
    "    if temp in arr:\n",
    "        result.append(temp)\n",
    "result.sort()\n",
    "\n",
    "print(len(result))\n",
    "for i in result:\n",
    "    print(i)"
   ]
  }
 ],
 "metadata": {
  "kernelspec": {
   "display_name": "Python 3",
   "language": "python",
   "name": "python3"
  },
  "language_info": {
   "codemirror_mode": {
    "name": "ipython",
    "version": 3
   },
   "file_extension": ".py",
   "mimetype": "text/x-python",
   "name": "python",
   "nbconvert_exporter": "python",
   "pygments_lexer": "ipython3",
   "version": "3.8.3"
  },
  "toc": {
   "base_numbering": 1,
   "nav_menu": {},
   "number_sections": true,
   "sideBar": true,
   "skip_h1_title": false,
   "title_cell": "Table of Contents",
   "title_sidebar": "Contents",
   "toc_cell": false,
   "toc_position": {},
   "toc_section_display": true,
   "toc_window_display": false
  },
  "varInspector": {
   "cols": {
    "lenName": 16,
    "lenType": 16,
    "lenVar": 40
   },
   "kernels_config": {
    "python": {
     "delete_cmd_postfix": "",
     "delete_cmd_prefix": "del ",
     "library": "var_list.py",
     "varRefreshCmd": "print(var_dic_list())"
    },
    "r": {
     "delete_cmd_postfix": ") ",
     "delete_cmd_prefix": "rm(",
     "library": "var_list.r",
     "varRefreshCmd": "cat(var_dic_list()) "
    }
   },
   "position": {
    "height": "347.4px",
    "left": "885.2px",
    "right": "20px",
    "top": "133px",
    "width": "350px"
   },
   "types_to_exclude": [
    "module",
    "function",
    "builtin_function_or_method",
    "instance",
    "_Feature"
   ],
   "window_display": false
  }
 },
 "nbformat": 4,
 "nbformat_minor": 4
}
