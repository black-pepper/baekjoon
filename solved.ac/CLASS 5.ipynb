{
 "cells": [
  {
   "cell_type": "markdown",
   "metadata": {},
   "source": [
    "## 2166번: 다각형의 면적"
   ]
  },
  {
   "cell_type": "code",
   "execution_count": 6,
   "metadata": {},
   "outputs": [
    {
     "name": "stdout",
     "output_type": "stream",
     "text": [
      "4\n",
      "0 0\n",
      "0 10\n",
      "10 10\n",
      "10 0\n",
      "100.0\n"
     ]
    }
   ],
   "source": [
    "import math\n",
    "N = int(input())\n",
    "point = []\n",
    "for i in range(N):\n",
    "    x, y = map(int, input().split())\n",
    "    point.append([x, y])\n",
    "    \n",
    "point.append(point[0])\n",
    "left, right = 0, 0\n",
    "for i in range(N):\n",
    "    left += point[i][0] * point[i+1][1]\n",
    "    right += point[i][1] * point[i+1][0]\n",
    "    \n",
    "print(\"%0.1f\"%round(abs(left-right)/2, 1))"
   ]
  },
  {
   "cell_type": "markdown",
   "metadata": {},
   "source": [
    "## 2467번: 용액"
   ]
  },
  {
   "cell_type": "code",
   "execution_count": 1,
   "metadata": {},
   "outputs": [
    {
     "name": "stdout",
     "output_type": "stream",
     "text": [
      "5\n",
      "-99 -2 -1 4 98\n",
      "-99 98\n"
     ]
    }
   ],
   "source": [
    "import sys\n",
    "#input = sys.stdin.readline\n",
    "\n",
    "n = int(input())\n",
    "arr = list(map(int, input().split()))\n",
    "\n",
    "left, right = 0, n-1\n",
    "value1, value2 = arr[left], arr[right]\n",
    "\n",
    "while left<right:\n",
    "    temp = arr[left]+arr[right]\n",
    "    if abs(value1+value2) > abs(temp):\n",
    "        value1, value2 = arr[left], arr[right]\n",
    "    if  temp < 0:\n",
    "        left += 1\n",
    "    else:\n",
    "        right -= 1\n",
    "        \n",
    "print(value1, value2)"
   ]
  },
  {
   "cell_type": "markdown",
   "metadata": {},
   "source": [
    "## 1647번: 도시 분할 계획"
   ]
  },
  {
   "cell_type": "code",
   "execution_count": 12,
   "metadata": {},
   "outputs": [
    {
     "name": "stdout",
     "output_type": "stream",
     "text": [
      "7 12\n",
      "1 2 3\n",
      "1 3 2\n",
      "3 2 1\n",
      "2 5 2\n",
      "3 4 4\n",
      "7 3 6\n",
      "5 1 5\n",
      "1 6 2\n",
      "6 4 1\n",
      "6 5 3\n",
      "4 5 3\n",
      "6 7 4\n",
      "8\n"
     ]
    }
   ],
   "source": [
    "import sys\n",
    "import heapq\n",
    "#input = sys.stdin.readline\n",
    "\n",
    "N, M = map(int, input().split())\n",
    "heap = []\n",
    "for i in range(M):\n",
    "    a, b, c = map(int, input().split())\n",
    "    heapq.heappush(heap, [c, a, b])\n",
    "    \n",
    "root = [i for i in range(N+1)]\n",
    "def find(target):\n",
    "    if root[target] == target:\n",
    "        return target\n",
    "    root[target] = find(root[target])\n",
    "    return root[target]\n",
    "def union(a, b):\n",
    "    a = find(a)\n",
    "    b = find(b)\n",
    "    if a == b:\n",
    "        return False\n",
    "    if a < b:\n",
    "        root[b] = a\n",
    "    else:\n",
    "        root[a] = b\n",
    "    return True\n",
    "        \n",
    "max_cost = 0\n",
    "count = 0\n",
    "while heap and count != N-2:\n",
    "    c, a, b = heapq.heappop(heap)\n",
    "    if union(a, b):\n",
    "        max_cost += c\n",
    "        count += 1\n",
    "        \n",
    "print(max_cost)"
   ]
  },
  {
   "cell_type": "markdown",
   "metadata": {},
   "source": [
    "## 1987번: 알파벳"
   ]
  },
  {
   "cell_type": "code",
   "execution_count": 8,
   "metadata": {},
   "outputs": [
    {
     "name": "stdout",
     "output_type": "stream",
     "text": [
      "2 4\n",
      "CAAB\n",
      "ADCB\n",
      "3\n"
     ]
    }
   ],
   "source": [
    "import sys\n",
    "#input = sys.stdin.readline\n",
    "#sys.setrecursionlimit(100000)\n",
    "\n",
    "R, C = map(int, input().split())\n",
    "board = []\n",
    "for i in range(R):\n",
    "    board.append(list(input()))\n",
    "\n",
    "count = 0\n",
    "def DFS(i, j, c, alphabet):\n",
    "    global count\n",
    "    alphabet[ord(board[i][j])] = 1\n",
    "    count = max(count, c)\n",
    "    if i > 0 and alphabet[ord(board[i-1][j])] != 1: #상\n",
    "        DFS(i-1, j, c+1, alphabet)\n",
    "    if i < R-1 and alphabet[ord(board[i+1][j])] != 1: #하\n",
    "        DFS(i+1, j, c+1, alphabet)\n",
    "    if j > 0 and alphabet[ord(board[i][j-1])] != 1: #좌\n",
    "        DFS(i, j-1, c+1, alphabet)\n",
    "    if j < C-1 and alphabet[ord(board[i][j+1])] != 1: #우\n",
    "        DFS(i, j+1, c+1, alphabet)\n",
    "    alphabet[ord(board[i][j])] = 0\n",
    "        \n",
    "alphabet = [0] * 91\n",
    "DFS(0, 0, 1, alphabet)\n",
    "        \n",
    "print(count)"
   ]
  },
  {
   "cell_type": "markdown",
   "metadata": {},
   "source": [
    "## 2056번: 작업"
   ]
  },
  {
   "cell_type": "code",
   "execution_count": 1,
   "metadata": {},
   "outputs": [
    {
     "name": "stdout",
     "output_type": "stream",
     "text": [
      "7\n",
      "5 0\n",
      "1 1 1\n",
      "3 1 2\n",
      "6 1 1\n",
      "1 2 2 4\n",
      "8 2 2 4\n",
      "4 3 3 5 6\n",
      "23\n"
     ]
    }
   ],
   "source": [
    "import sys\n",
    "#input = sys.stdin.readline\n",
    "\n",
    "N = int(input())\n",
    "graph = []\n",
    "for i in range(N):\n",
    "    graph.append(list(map(int, input().split())))\n",
    "    \n",
    "dp = [0] * N\n",
    "dp[0] = graph[0][0]\n",
    "for i in range(1, N):\n",
    "    max_time = 0\n",
    "    for j in graph[i][2:]:\n",
    "        max_time = max(max_time, dp[j-1])\n",
    "    dp[i] = max_time + graph[i][0]\n",
    "    \n",
    "print(max(dp))"
   ]
  },
  {
   "cell_type": "markdown",
   "metadata": {},
   "source": [
    "## 2239번: 스도쿠"
   ]
  },
  {
   "cell_type": "code",
   "execution_count": 5,
   "metadata": {},
   "outputs": [
    {
     "name": "stdout",
     "output_type": "stream",
     "text": [
      "103000509\n",
      "002109400\n",
      "000704000\n",
      "300502006\n",
      "060000050\n",
      "700803004\n",
      "000401000\n",
      "009205800\n",
      "804000107\n",
      "143628579\n",
      "572139468\n",
      "986754231\n",
      "391542786\n",
      "468917352\n",
      "725863914\n",
      "237481695\n",
      "619275843\n",
      "854396127\n"
     ]
    }
   ],
   "source": [
    "arr = []\n",
    "for i in range(9):\n",
    "    arr.append(list(map(int, list(input()))))\n",
    "\n",
    "def check_number (y, x, num):\n",
    "    for i in range(9):\n",
    "        if arr[y][i] == num: #가로\n",
    "            return False\n",
    "        if arr[i][x] == num: #세로\n",
    "            return False\n",
    "    for i in range(y//3*3, (y//3+1)*3):\n",
    "        for j in range(x//3*3, (x//3+1)*3):\n",
    "            if arr[i][j] == num: #칸\n",
    "                return False\n",
    "    return True\n",
    "\n",
    "complete = 0\n",
    "def input_number(y, x):\n",
    "    global complete\n",
    "    #빈칸 찾기\n",
    "    for i in range(y, 9):\n",
    "        for j in range(9):\n",
    "            if i==y and j<x:\n",
    "                continue\n",
    "            if arr[i][j] == 0:\n",
    "                y = i\n",
    "                x = j\n",
    "                break\n",
    "        if arr[y][x] == 0:\n",
    "            break\n",
    "        if i==8 and j==8:\n",
    "            complete = 1\n",
    "            return\n",
    "\n",
    "    #빈칸 채우기\n",
    "    for k in range(10):\n",
    "        if check_number(y, x, k):\n",
    "            arr[y][x] = k\n",
    "            \n",
    "            if y==8 and x==8:\n",
    "                complete = 1\n",
    "                return\n",
    "            \n",
    "            if x==8:\n",
    "                input_number(y+1, 0)\n",
    "            else:\n",
    "                input_number(y, x+1)\n",
    "            if complete == 1:\n",
    "                return\n",
    "    arr[y][x] = 0\n",
    "    return\n",
    "\n",
    "def print_arr():\n",
    "    for i in range(9):\n",
    "        for j in range(9):\n",
    "            print(arr[i][j], end='')\n",
    "        print()\n",
    "\n",
    "input_number(0, 0)\n",
    "print_arr()"
   ]
  },
  {
   "cell_type": "markdown",
   "metadata": {},
   "source": [
    " ## 2473번: 세 용액"
   ]
  },
  {
   "cell_type": "code",
   "execution_count": 1,
   "metadata": {},
   "outputs": [
    {
     "name": "stdout",
     "output_type": "stream",
     "text": [
      "5\n",
      "-2 6 -97 -6 98\n",
      "-97 -2 98\n"
     ]
    }
   ],
   "source": [
    "import sys\n",
    "#input = sys.stdin.readline\n",
    "\n",
    "n = int(input())\n",
    "arr = list(map(int, input().split()))\n",
    "\n",
    "arr.sort()\n",
    "value1, value2, value3 = arr[0], arr[1], arr[2]\n",
    "\n",
    "for i in range(n-1):\n",
    "    left, right = 1+i, n-1\n",
    "    while left<right:\n",
    "        temp = arr[i]+arr[left]+arr[right]\n",
    "        if abs(value1+value2+value3) > abs(temp):\n",
    "            value1, value2, value3 = arr[i],arr[left], arr[right]\n",
    "        if  temp < 0:\n",
    "            left += 1\n",
    "        else:\n",
    "            right -= 1\n",
    "        \n",
    "print(value1, value2, value3)"
   ]
  },
  {
   "cell_type": "markdown",
   "metadata": {},
   "source": [
    "## 9466번: 텀 프로젝트"
   ]
  },
  {
   "cell_type": "code",
   "execution_count": 24,
   "metadata": {},
   "outputs": [
    {
     "name": "stdout",
     "output_type": "stream",
     "text": [
      "2\n",
      "7\n",
      "3 1 3 7 3 4 6\n",
      "3\n",
      "8\n",
      "1 2 3 4 5 6 7 8\n",
      "0\n"
     ]
    }
   ],
   "source": [
    "import sys\n",
    "#input = sys.stdin.readline\n",
    "#sys.setrecursionlimit(100000)\n",
    "T = int(input())\n",
    "for t in range(T):\n",
    "    n = int(input())\n",
    "    arr = [0]\n",
    "    arr = arr + list(map(int, input().split()))\n",
    "\n",
    "    visited = [0] * (n+1)\n",
    "    def DFS(index, count):\n",
    "        global result\n",
    "        visited[index] = 1\n",
    "        if visited[arr[index]] == 0:\n",
    "            value, ccount = DFS(arr[index], count+1)\n",
    "            if value == index:\n",
    "                result -= (ccount - count + 1)\n",
    "                return 0, 0\n",
    "            else:\n",
    "                return value, ccount\n",
    "        else:\n",
    "            if index == arr[index]:\n",
    "                result -= 1\n",
    "                return 0, 0\n",
    "            return arr[index], count\n",
    "\n",
    "    result = n\n",
    "    for i in range(1, n+1):\n",
    "        if visited[i] == 0:\n",
    "            DFS(i, 1)\n",
    "\n",
    "    print(result)"
   ]
  },
  {
   "cell_type": "markdown",
   "metadata": {},
   "source": [
    "## 1005번: ACM Craft"
   ]
  },
  {
   "cell_type": "code",
   "execution_count": 47,
   "metadata": {},
   "outputs": [
    {
     "name": "stdout",
     "output_type": "stream",
     "text": [
      "1\n",
      "5 10\n",
      "100000 99999 99997 99994 99990\n",
      "4 5\n",
      "3 5\n",
      "3 4\n",
      "2 5\n",
      "2 4\n",
      "2 3\n",
      "1 5\n",
      "1 4\n",
      "1 3\n",
      "1 2\n",
      "4\n",
      "399990\n"
     ]
    }
   ],
   "source": [
    "import sys\n",
    "from collections import deque\n",
    "#input = sys.stdin.readline\n",
    "\n",
    "T = int(input())\n",
    "for _ in range(T):\n",
    "    N, K = map(int, input().split())#건물의 개수 N, 건설순서규칙의 총 개수 K\n",
    "    D = [0] + list(map(int, input().split()))#각 건물당 건설에 걸리는 시간 D\n",
    "    graph = [[] for i in range(N+1)]\n",
    "    counts = [0] * (N+1)\n",
    "\n",
    "\n",
    "    for i in range(K):#건설순서 XY\n",
    "        X, Y = map(int, input().split())\n",
    "        graph[X].append(Y)\n",
    "        counts[Y] += 1\n",
    "\n",
    "    end = int(input())\n",
    "\n",
    "    queue = deque()\n",
    "    dp = [0] * (N+1)\n",
    "\n",
    "    for i in range(1, N+1):\n",
    "        if counts[i] == 0:\n",
    "            queue.append(i)\n",
    "            dp[i] = D[i]\n",
    "\n",
    "    while queue:\n",
    "        select = queue.popleft()\n",
    "        for i in graph[select]:\n",
    "            counts[i] -= 1\n",
    "            dp[i] = max(dp[i], dp[select] + D[i])\n",
    "            if counts[i] == 0:\n",
    "                queue.append(i)\n",
    "\n",
    "    print(dp[end])"
   ]
  }
 ],
 "metadata": {
  "kernelspec": {
   "display_name": "Python 3",
   "language": "python",
   "name": "python3"
  },
  "language_info": {
   "codemirror_mode": {
    "name": "ipython",
    "version": 3
   },
   "file_extension": ".py",
   "mimetype": "text/x-python",
   "name": "python",
   "nbconvert_exporter": "python",
   "pygments_lexer": "ipython3",
   "version": "3.8.3"
  },
  "toc": {
   "base_numbering": 1,
   "nav_menu": {},
   "number_sections": true,
   "sideBar": true,
   "skip_h1_title": false,
   "title_cell": "Table of Contents",
   "title_sidebar": "Contents",
   "toc_cell": false,
   "toc_position": {},
   "toc_section_display": true,
   "toc_window_display": false
  },
  "varInspector": {
   "cols": {
    "lenName": 16,
    "lenType": 16,
    "lenVar": 40
   },
   "kernels_config": {
    "python": {
     "delete_cmd_postfix": "",
     "delete_cmd_prefix": "del ",
     "library": "var_list.py",
     "varRefreshCmd": "print(var_dic_list())"
    },
    "r": {
     "delete_cmd_postfix": ") ",
     "delete_cmd_prefix": "rm(",
     "library": "var_list.r",
     "varRefreshCmd": "cat(var_dic_list()) "
    }
   },
   "types_to_exclude": [
    "module",
    "function",
    "builtin_function_or_method",
    "instance",
    "_Feature"
   ],
   "window_display": false
  }
 },
 "nbformat": 4,
 "nbformat_minor": 4
}
