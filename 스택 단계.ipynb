{
 "cells": [
  {
   "cell_type": "markdown",
   "metadata": {},
   "source": [
    "## 10828번: 스택"
   ]
  },
  {
   "cell_type": "code",
   "execution_count": 5,
   "metadata": {},
   "outputs": [
    {
     "name": "stdout",
     "output_type": "stream",
     "text": [
      "7\n",
      "pop\n",
      "-1\n",
      "top\n",
      "-1\n",
      "push 123\n",
      "top\n",
      "123\n",
      "pop\n",
      "123\n",
      "top\n",
      "-1\n",
      "pop\n",
      "-1\n"
     ]
    }
   ],
   "source": [
    "import sys\n",
    "n = int(sys.stdin.readline().rstrip())\n",
    "stack = []\n",
    "stack.append(-1)\n",
    "\n",
    "for i in range(n):\n",
    "    command = sys.stdin.readline().rstrip()\n",
    "    if 'push' in command:\n",
    "        push, num = command.split()\n",
    "        stack.append(num)\n",
    "    elif 'pop' in command:\n",
    "        if len(stack)>1:\n",
    "            print(stack.pop(-1))\n",
    "        else:\n",
    "            print(stack[0])\n",
    "    elif 'size' in command:\n",
    "        print(len(stack)-1)\n",
    "    elif 'empty' in command:\n",
    "        print(int(len(stack)==1))\n",
    "    elif 'top' in command:\n",
    "        print(stack[-1])"
   ]
  },
  {
   "cell_type": "markdown",
   "metadata": {},
   "source": [
    "## 10773번: 제로"
   ]
  },
  {
   "cell_type": "code",
   "execution_count": 2,
   "metadata": {},
   "outputs": [
    {
     "name": "stdout",
     "output_type": "stream",
     "text": [
      "10\n",
      "1\n",
      "3\n",
      "5\n",
      "4\n",
      "0\n",
      "0\n",
      "7\n",
      "0\n",
      "0\n",
      "6\n",
      "7\n"
     ]
    }
   ],
   "source": [
    "K = int(input())\n",
    "stack = []\n",
    "\n",
    "for i in range(K):\n",
    "    N = int(input())\n",
    "    \n",
    "    if N == 0:\n",
    "        stack.pop(-1)\n",
    "    else:\n",
    "        stack.append(N)\n",
    "\n",
    "print(sum(stack))"
   ]
  },
  {
   "cell_type": "markdown",
   "metadata": {},
   "source": [
    "## 9012번: 괄호"
   ]
  },
  {
   "cell_type": "code",
   "execution_count": 3,
   "metadata": {},
   "outputs": [
    {
     "name": "stdout",
     "output_type": "stream",
     "text": [
      "6\n",
      "(())())\n",
      "NO\n",
      "(((()())()\n",
      "NO\n",
      "(()())((()))\n",
      "YES\n",
      "((()()(()))(((())))()\n",
      "NO\n",
      "()()()()(()()())()\n",
      "YES\n",
      "(()((())()(\n",
      "NO\n"
     ]
    }
   ],
   "source": [
    "T = int(input())\n",
    "\n",
    "def check_VPS(string) :\n",
    "    stack = []\n",
    "    for i in range(len(string)):\n",
    "        if string[i] == '(':\n",
    "            stack.append(1)\n",
    "        else:\n",
    "            if len(stack) == 0:\n",
    "                return \"NO\"\n",
    "            else:\n",
    "                stack.pop(-1)\n",
    "    if len(stack) == 0:\n",
    "        return \"YES\"\n",
    "    else:\n",
    "        return \"NO\"\n",
    "                \n",
    "for i in range(T):\n",
    "    string = input()\n",
    "    print(check_VPS(string))"
   ]
  },
  {
   "cell_type": "markdown",
   "metadata": {},
   "source": [
    "## 4949번: 균형잡힌 세상"
   ]
  },
  {
   "cell_type": "code",
   "execution_count": 9,
   "metadata": {},
   "outputs": [
    {
     "name": "stdout",
     "output_type": "stream",
     "text": [
      "So when I die (the [first] I will see in (heaven) is a score list).\n",
      "yes\n",
      "[ first in ] ( first out ).\n",
      "yes\n",
      "Half Moon tonight (At least it is better than no Moon at all].\n",
      "no\n",
      "A rope may form )( a trail in a maze.\n",
      "no\n",
      "Help( I[m being held prisoner in a fortune cookie factory)].\n",
      "no\n",
      "([ (([( [ ] ) ( ) (( ))] )) ]).\n",
      "yes\n",
      " .\n",
      "yes\n",
      ".\n"
     ]
    }
   ],
   "source": [
    "def check_VPS(string):\n",
    "    stack = []\n",
    "    for i in string:\n",
    "        if i == '(' or i == '[':\n",
    "            stack.append(i)\n",
    "        elif i == ')' or i == ']':\n",
    "            if len(stack) == 0:\n",
    "                return 'no'\n",
    "            if i == ')' and stack[-1] == '(' or i == ']' and stack[-1] == '[':\n",
    "                stack.pop(-1)\n",
    "            else:\n",
    "                return 'no'\n",
    "    if len(stack) == 0:\n",
    "        return 'yes'\n",
    "    else:\n",
    "        return 'no'\n",
    "\n",
    "while True:\n",
    "    string = input()\n",
    "    if string == '.':\n",
    "        break\n",
    "    print(check_VPS(string))"
   ]
  }
 ],
 "metadata": {
  "kernelspec": {
   "display_name": "Python 3",
   "language": "python",
   "name": "python3"
  },
  "language_info": {
   "codemirror_mode": {
    "name": "ipython",
    "version": 3
   },
   "file_extension": ".py",
   "mimetype": "text/x-python",
   "name": "python",
   "nbconvert_exporter": "python",
   "pygments_lexer": "ipython3",
   "version": "3.8.3"
  }
 },
 "nbformat": 4,
 "nbformat_minor": 4
}
