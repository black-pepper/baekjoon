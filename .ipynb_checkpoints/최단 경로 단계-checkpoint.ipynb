{
 "cells": [
  {
   "cell_type": "markdown",
   "metadata": {},
   "source": [
    "## 1753번: 최단경로"
   ]
  },
  {
   "cell_type": "code",
   "execution_count": 7,
   "metadata": {},
   "outputs": [
    {
     "name": "stdout",
     "output_type": "stream",
     "text": [
      "5 6\n",
      "1\n",
      "5 1 1\n",
      "1 2 2\n",
      "1 3 3\n",
      "2 3 4\n",
      "2 4 5\n",
      "3 4 6\n",
      "0\n",
      "2\n",
      "3\n",
      "7\n",
      "INF\n"
     ]
    }
   ],
   "source": [
    "import sys\n",
    "import heapq\n",
    "#input = sys.stdin.readline\n",
    "\n",
    "V, E = map(int, input().split()) #정점의 개수 V와 간선의 개수 E\n",
    "start = int(input())\n",
    "INF = sys.maxsize\n",
    "result = [INF] * (V+1)\n",
    "queue = []\n",
    "graph = [[] for i in range(V + 1)]\n",
    "\n",
    "for e in range(E):\n",
    "    u, v, w =map(int, input().split())\n",
    "    graph[u].append([v, w])\n",
    "\n",
    "\n",
    "result[start] = 0\n",
    "heapq.heappush(queue, (0, start))\n",
    "\n",
    "while queue:\n",
    "    w, v = heapq.heappop(queue)\n",
    "    \n",
    "    if result[v] < w:\n",
    "        continue\n",
    "    \n",
    "    for nn , nw in graph[v]: #nn: 다음 노드, nw: 거리\n",
    "        next_w = nw + w\n",
    "        if next_w < result[nn]:\n",
    "            result[nn] = next_w\n",
    "            heapq.heappush(queue, (next_w, nn))\n",
    "        \n",
    "for i in result[1:]:\n",
    "    if i == INF:\n",
    "        print('INF')\n",
    "    else:\n",
    "        print(i)"
   ]
  },
  {
   "cell_type": "markdown",
   "metadata": {},
   "source": [
    "## 1504번: 특정한 최단 경로"
   ]
  },
  {
   "cell_type": "code",
   "execution_count": 5,
   "metadata": {},
   "outputs": [
    {
     "name": "stdout",
     "output_type": "stream",
     "text": [
      "4 6\n",
      "1 2 3\n",
      "2 3 3\n",
      "3 4 1\n",
      "1 3 5\n",
      "2 4 5\n",
      "1 4 4\n",
      "2 3\n",
      "7\n"
     ]
    }
   ],
   "source": [
    "import sys\n",
    "import heapq\n",
    "#input = sys.stdin.readline\n",
    "\n",
    "N, E = map(int, input().split()) #정점의 개수 N와 간선의 개수 E\n",
    "INF = sys.maxsize\n",
    "\n",
    "graph = [[] for i in range(N + 1)]\n",
    "for e in range(E):\n",
    "    a, b, c =map(int, input().split()) #a와 b사이의 거리c\n",
    "    graph[a].append([b, c])\n",
    "    graph[b].append([a, c])\n",
    "    \n",
    "v1, v2 = map(int, input().split())\n",
    "    \n",
    "def Dijkstra(start):\n",
    "    result = [INF] * (N+1)\n",
    "    heap = []\n",
    "    result[start] = 0\n",
    "    heapq.heappush(heap, (0, start))\n",
    "\n",
    "    while heap:\n",
    "        w, v = heapq.heappop(heap)\n",
    "\n",
    "        if result[v] < w:\n",
    "            continue\n",
    "\n",
    "        for nn , nw in graph[v]: #nn: 다음 노드, nw: 거리\n",
    "            next_w = nw + w\n",
    "            if next_w < result[nn]:\n",
    "                result[nn] = next_w\n",
    "                heapq.heappush(heap, (next_w, nn))\n",
    "        \n",
    "    return result\n",
    "\n",
    "result_start = Dijkstra(1)\n",
    "result_v1 = Dijkstra(v1)\n",
    "result_v2 = Dijkstra(v2)\n",
    "\n",
    "result = min(result_start[v1] + result_v1[v2] + result_v2[N] ,\n",
    "    result_start[v2] + result_v2[v1] + result_v1[N])\n",
    "\n",
    "if result >= INF:\n",
    "    print(-1)\n",
    "else:\n",
    "    print(result)"
   ]
  },
  {
   "cell_type": "markdown",
   "metadata": {},
   "source": [
    "## 9370번: 미확인 도착지"
   ]
  },
  {
   "cell_type": "code",
   "execution_count": 10,
   "metadata": {},
   "outputs": [
    {
     "name": "stdout",
     "output_type": "stream",
     "text": [
      "2\n",
      "5 4 2\n",
      "1 2 3\n",
      "1 2 6\n",
      "2 3 2\n",
      "3 4 4\n",
      "3 5 3\n",
      "5\n",
      "4\n",
      "4 5 \n",
      "6 9 2\n",
      "2 3 1\n",
      "1 2 1\n",
      "1 3 3\n",
      "2 4 4\n",
      "2 5 5\n",
      "3 4 3\n",
      "3 6 2\n",
      "4 5 4\n",
      "4 6 3\n",
      "5 6 7\n",
      "5\n",
      "6\n",
      "6 \n"
     ]
    }
   ],
   "source": [
    "import sys\n",
    "import heapq\n",
    "import copy\n",
    "#input = sys.stdin.readline\n",
    "INF = sys.maxsize\n",
    "\n",
    "T = int(input())\n",
    "for x in range(T):\n",
    "    n, m, t = map(int, input().split()) #교차로, 도로, 목적지 후보의 개수\n",
    "    s, g, h = map(int, input().split()) #예술가들의 출발지, g와 h 사이의 도로를 방문\n",
    "\n",
    "    graph = [[] for i in range(n+1)]\n",
    "    for _ in range(m):\n",
    "        a, b, d = map(int, input().split()) #a와 b 사이에 길이 d의 양방향 도로\n",
    "        graph[a].append([b, d])\n",
    "        graph[b].append([a, d])\n",
    "\n",
    "    destination = []\n",
    "    for _ in range(t):\n",
    "        destination.append(int(input())) #t개의 목적지 후보들\n",
    "\n",
    "    def Dijkstra(start):\n",
    "        result = [INF] * (n+1)\n",
    "        heap = []\n",
    "        result[start] = 0\n",
    "        heapq.heappush(heap, (0, start))\n",
    "\n",
    "        while heap:\n",
    "            w, v = heapq.heappop(heap)\n",
    "\n",
    "            if result[v] < w:\n",
    "                continue\n",
    "\n",
    "            for nn , nw in graph[v]: #nn: 다음 노드, nw: 거리\n",
    "                next_w = nw + w\n",
    "                if next_w < result[nn]:\n",
    "                    result[nn] = next_w\n",
    "                    heapq.heappush(heap, (next_w, nn))\n",
    "\n",
    "        return result\n",
    "\n",
    "    result_s = Dijkstra(s)\n",
    "    result_g = Dijkstra(g)\n",
    "    result_h = Dijkstra(h)\n",
    "\n",
    "    destination.sort()\n",
    "    for i in destination:\n",
    "        if result_s[g] + result_g[h] + result_h[i] == result_s[i] or result_s[h] + result_h[g] + result_g[i] == result_s[i]:\n",
    "            print(i, end=' ')\n",
    "    print()"
   ]
  },
  {
   "cell_type": "markdown",
   "metadata": {},
   "source": [
    "## 11404번: 플로이드"
   ]
  },
  {
   "cell_type": "code",
   "execution_count": 16,
   "metadata": {},
   "outputs": [
    {
     "name": "stdout",
     "output_type": "stream",
     "text": [
      "5\n",
      "14\n",
      "1 2 2\n",
      "1 3 3\n",
      "1 4 1\n",
      "1 5 10\n",
      "2 4 2\n",
      "3 4 1\n",
      "3 5 1\n",
      "4 5 3\n",
      "3 5 10\n",
      "3 1 8\n",
      "1 4 2\n",
      "5 1 7\n",
      "3 4 2\n",
      "5 2 4\n",
      "0 2 3 1 4 \n",
      "12 0 15 2 5 \n",
      "8 5 0 1 1 \n",
      "10 7 13 0 3 \n",
      "7 4 10 6 0 \n"
     ]
    }
   ],
   "source": [
    "import sys\n",
    "#input = sys.stdin.readline\n",
    "INF = sys.maxsize\n",
    "\n",
    "n = int(input()) #도시의 개수n\n",
    "m = int(input()) #버스의 개수m\n",
    "dp = [[INF]*(n+1) for i in range(n+1)]\n",
    "\n",
    "for _ in range(m):\n",
    "    a, b, c = map(int, input().split()) #시작도시, 도착도시, 비용\n",
    "    dp[a][b] = min(dp[a][b], c)\n",
    "    \n",
    "for i in range(n+1):\n",
    "    dp[i][i] = 0\n",
    "\n",
    "for k in range(1, n+1): #거쳐가는 노드\n",
    "    for i in range(1, n+1): #출발\n",
    "        for j in range(1, n+1): #도착\n",
    "            dp[i][j] = min(dp[i][j], dp[i][k] + dp[k][j])\n",
    "            \n",
    "for i in range(1, n+1):\n",
    "    for j in range(1, n+1):\n",
    "        if dp[i][j] == INF:\n",
    "            print(0, end=' ')\n",
    "        else:\n",
    "            print(dp[i][j], end=' ')\n",
    "    print()"
   ]
  }
 ],
 "metadata": {
  "kernelspec": {
   "display_name": "Python 3",
   "language": "python",
   "name": "python3"
  },
  "language_info": {
   "codemirror_mode": {
    "name": "ipython",
    "version": 3
   },
   "file_extension": ".py",
   "mimetype": "text/x-python",
   "name": "python",
   "nbconvert_exporter": "python",
   "pygments_lexer": "ipython3",
   "version": "3.8.3"
  }
 },
 "nbformat": 4,
 "nbformat_minor": 4
}
