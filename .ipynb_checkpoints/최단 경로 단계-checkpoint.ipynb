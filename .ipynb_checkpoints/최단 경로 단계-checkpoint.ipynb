{
 "cells": [
  {
   "cell_type": "markdown",
   "metadata": {},
   "source": [
    "## 1753번: 최단경로"
   ]
  },
  {
   "cell_type": "code",
   "execution_count": 7,
   "metadata": {},
   "outputs": [
    {
     "name": "stdout",
     "output_type": "stream",
     "text": [
      "5 6\n",
      "1\n",
      "5 1 1\n",
      "1 2 2\n",
      "1 3 3\n",
      "2 3 4\n",
      "2 4 5\n",
      "3 4 6\n",
      "0\n",
      "2\n",
      "3\n",
      "7\n",
      "INF\n"
     ]
    }
   ],
   "source": [
    "import sys\n",
    "import heapq\n",
    "#input = sys.stdin.readline\n",
    "\n",
    "V, E = map(int, input().split()) #정점의 개수 V와 간선의 개수 E\n",
    "start = int(input())\n",
    "INF = sys.maxsize\n",
    "result = [INF] * (V+1)\n",
    "queue = []\n",
    "graph = [[] for i in range(V + 1)]\n",
    "\n",
    "for e in range(E):\n",
    "    u, v, w =map(int, input().split())\n",
    "    graph[u].append([v, w])\n",
    "\n",
    "\n",
    "result[start] = 0\n",
    "heapq.heappush(queue, (0, start))\n",
    "\n",
    "while queue:\n",
    "    w, v = heapq.heappop(queue)\n",
    "    \n",
    "    if result[v] < w:\n",
    "        continue\n",
    "    \n",
    "    for nn , nw in graph[v]: #nn: 다음 노드, nw: 거리\n",
    "        next_w = nw + w\n",
    "        if next_w < result[nn]:\n",
    "            result[nn] = next_w\n",
    "            heapq.heappush(queue, (next_w, nn))\n",
    "        \n",
    "for i in result[1:]:\n",
    "    if i == INF:\n",
    "        print('INF')\n",
    "    else:\n",
    "        print(i)"
   ]
  },
  {
   "cell_type": "markdown",
   "metadata": {},
   "source": [
    "## 1504번: 특정한 최단 경로"
   ]
  },
  {
   "cell_type": "code",
   "execution_count": 5,
   "metadata": {},
   "outputs": [
    {
     "name": "stdout",
     "output_type": "stream",
     "text": [
      "4 6\n",
      "1 2 3\n",
      "2 3 3\n",
      "3 4 1\n",
      "1 3 5\n",
      "2 4 5\n",
      "1 4 4\n",
      "2 3\n",
      "7\n"
     ]
    }
   ],
   "source": [
    "import sys\n",
    "import heapq\n",
    "#input = sys.stdin.readline\n",
    "\n",
    "N, E = map(int, input().split()) #정점의 개수 N와 간선의 개수 E\n",
    "INF = sys.maxsize\n",
    "\n",
    "graph = [[] for i in range(N + 1)]\n",
    "for e in range(E):\n",
    "    a, b, c =map(int, input().split()) #a와 b사이의 거리c\n",
    "    graph[a].append([b, c])\n",
    "    graph[b].append([a, c])\n",
    "    \n",
    "v1, v2 = map(int, input().split())\n",
    "    \n",
    "def Dijkstra(start):\n",
    "    result = [INF] * (N+1)\n",
    "    heap = []\n",
    "    result[start] = 0\n",
    "    heapq.heappush(heap, (0, start))\n",
    "\n",
    "    while heap:\n",
    "        w, v = heapq.heappop(heap)\n",
    "\n",
    "        if result[v] < w:\n",
    "            continue\n",
    "\n",
    "        for nn , nw in graph[v]: #nn: 다음 노드, nw: 거리\n",
    "            next_w = nw + w\n",
    "            if next_w < result[nn]:\n",
    "                result[nn] = next_w\n",
    "                heapq.heappush(heap, (next_w, nn))\n",
    "        \n",
    "    return result\n",
    "\n",
    "result_start = Dijkstra(1)\n",
    "result_v1 = Dijkstra(v1)\n",
    "result_v2 = Dijkstra(v2)\n",
    "\n",
    "result = min(result_start[v1] + result_v1[v2] + result_v2[N] ,\n",
    "    result_start[v2] + result_v2[v1] + result_v1[N])\n",
    "\n",
    "if result >= INF:\n",
    "    print(-1)\n",
    "else:\n",
    "    print(result)"
   ]
  },
  {
   "cell_type": "markdown",
   "metadata": {},
   "source": [
    "## 9370번: 미확인 도착지"
   ]
  },
  {
   "cell_type": "code",
   "execution_count": 10,
   "metadata": {},
   "outputs": [
    {
     "name": "stdout",
     "output_type": "stream",
     "text": [
      "2\n",
      "5 4 2\n",
      "1 2 3\n",
      "1 2 6\n",
      "2 3 2\n",
      "3 4 4\n",
      "3 5 3\n",
      "5\n",
      "4\n",
      "4 5 \n",
      "6 9 2\n",
      "2 3 1\n",
      "1 2 1\n",
      "1 3 3\n",
      "2 4 4\n",
      "2 5 5\n",
      "3 4 3\n",
      "3 6 2\n",
      "4 5 4\n",
      "4 6 3\n",
      "5 6 7\n",
      "5\n",
      "6\n",
      "6 \n"
     ]
    }
   ],
   "source": [
    "import sys\n",
    "import heapq\n",
    "#input = sys.stdin.readline\n",
    "INF = sys.maxsize\n",
    "\n",
    "T = int(input())\n",
    "for x in range(T):\n",
    "    n, m, t = map(int, input().split()) #교차로, 도로, 목적지 후보의 개수\n",
    "    s, g, h = map(int, input().split()) #예술가들의 출발지, g와 h 사이의 도로를 방문\n",
    "\n",
    "    graph = [[] for i in range(n+1)]\n",
    "    for _ in range(m):\n",
    "        a, b, d = map(int, input().split()) #a와 b 사이에 길이 d의 양방향 도로\n",
    "        graph[a].append([b, d])\n",
    "        graph[b].append([a, d])\n",
    "\n",
    "    destination = []\n",
    "    for _ in range(t):\n",
    "        destination.append(int(input())) #t개의 목적지 후보들\n",
    "\n",
    "    def Dijkstra(start):\n",
    "        result = [INF] * (n+1)\n",
    "        heap = []\n",
    "        result[start] = 0\n",
    "        heapq.heappush(heap, (0, start))\n",
    "\n",
    "        while heap:\n",
    "            w, v = heapq.heappop(heap)\n",
    "\n",
    "            if result[v] < w:\n",
    "                continue\n",
    "\n",
    "            for nn , nw in graph[v]: #nn: 다음 노드, nw: 거리\n",
    "                next_w = nw + w\n",
    "                if next_w < result[nn]:\n",
    "                    result[nn] = next_w\n",
    "                    heapq.heappush(heap, (next_w, nn))\n",
    "\n",
    "        return result\n",
    "\n",
    "    result_s = Dijkstra(s)\n",
    "    result_g = Dijkstra(g)\n",
    "    result_h = Dijkstra(h)\n",
    "\n",
    "    destination.sort()\n",
    "    for i in destination:\n",
    "        if result_s[g] + result_g[h] + result_h[i] == result_s[i] or result_s[h] + result_h[g] + result_g[i] == result_s[i]:\n",
    "            print(i, end=' ')\n",
    "    print()"
   ]
  },
  {
   "cell_type": "markdown",
   "metadata": {},
   "source": [
    "## 11657번: 타임머신"
   ]
  },
  {
   "cell_type": "code",
   "execution_count": 4,
   "metadata": {},
   "outputs": [
    {
     "name": "stdout",
     "output_type": "stream",
     "text": [
      "3 2\n",
      "1 2 4\n",
      "1 2 3\n",
      "3\n",
      "-1\n"
     ]
    }
   ],
   "source": [
    "import sys\n",
    "#input = sys.stdin.readline\n",
    "INF = sys.maxsize\n",
    "\n",
    "N, M = map(int, input().split()) #도시의 개수\n",
    "graph = [[] for i in range(N + 1)]\n",
    "for i in range(M):\n",
    "    A, B, C = map(int, input().split()) #시작도시A, 도착도시B, 걸리는 시간C\n",
    "    graph[A].append([B, C])\n",
    "    \n",
    "minus_cycle = 0\n",
    "result = [INF] * (N+1)\n",
    "result[1] = 0\n",
    "for i in range(1, N+1):\n",
    "    for j in range(1, N+1):\n",
    "        for b, c in graph[j]:\n",
    "            if result[j] == INF:\n",
    "                continue\n",
    "            if result[b] > c + result[j]:\n",
    "                result[b] = c + result[j]\n",
    "                if i==N:\n",
    "                    minus_cycle = 1\n",
    "                    \n",
    "if minus_cycle == 1:\n",
    "    print(-1)\n",
    "else:\n",
    "    for i in range(2, N+1):\n",
    "        if result[i] == INF:\n",
    "            print(-1)\n",
    "        else:\n",
    "            print(result[i])"
   ]
  },
  {
   "cell_type": "markdown",
   "metadata": {},
   "source": [
    "## 11404번: 플로이드"
   ]
  },
  {
   "cell_type": "code",
   "execution_count": 16,
   "metadata": {},
   "outputs": [
    {
     "name": "stdout",
     "output_type": "stream",
     "text": [
      "5\n",
      "14\n",
      "1 2 2\n",
      "1 3 3\n",
      "1 4 1\n",
      "1 5 10\n",
      "2 4 2\n",
      "3 4 1\n",
      "3 5 1\n",
      "4 5 3\n",
      "3 5 10\n",
      "3 1 8\n",
      "1 4 2\n",
      "5 1 7\n",
      "3 4 2\n",
      "5 2 4\n",
      "0 2 3 1 4 \n",
      "12 0 15 2 5 \n",
      "8 5 0 1 1 \n",
      "10 7 13 0 3 \n",
      "7 4 10 6 0 \n"
     ]
    }
   ],
   "source": [
    "import sys\n",
    "#input = sys.stdin.readline\n",
    "INF = sys.maxsize\n",
    "\n",
    "n = int(input()) #도시의 개수n\n",
    "m = int(input()) #버스의 개수m\n",
    "dp = [[INF]*(n+1) for i in range(n+1)]\n",
    "\n",
    "for _ in range(m):\n",
    "    a, b, c = map(int, input().split()) #시작도시, 도착도시, 비용\n",
    "    dp[a][b] = min(dp[a][b], c)\n",
    "    \n",
    "for i in range(n+1):\n",
    "    dp[i][i] = 0\n",
    "\n",
    "for k in range(1, n+1): #거쳐가는 노드\n",
    "    for i in range(1, n+1): #출발\n",
    "        for j in range(1, n+1): #도착\n",
    "            dp[i][j] = min(dp[i][j], dp[i][k] + dp[k][j])\n",
    "            \n",
    "for i in range(1, n+1):\n",
    "    for j in range(1, n+1):\n",
    "        if dp[i][j] == INF:\n",
    "            print(0, end=' ')\n",
    "        else:\n",
    "            print(dp[i][j], end=' ')\n",
    "    print()"
   ]
  },
  {
   "cell_type": "markdown",
   "metadata": {},
   "source": [
    "## 10217번: KCM Travel"
   ]
  },
  {
   "cell_type": "code",
   "execution_count": 19,
   "metadata": {},
   "outputs": [
    {
     "name": "stdout",
     "output_type": "stream",
     "text": [
      "2\n",
      "3 100 3\n",
      "1 2 1 1\n",
      "2 3 1 1\n",
      "1 3 3 30\n",
      "2\n",
      "4 10 4\n",
      "1 2 5 3\n",
      "2 3 5 4\n",
      "3 4 1 5\n",
      "1 3 10 6\n",
      "Poor KCM\n"
     ]
    }
   ],
   "source": [
    "import sys\n",
    "#input = sys.stdin.readline\n",
    "#INF = sys.maxsize\n",
    "\n",
    "T = int(input())\n",
    "for t in range(T):\n",
    "    N, M, K = map(int, input().split()) #공항의 수N, 총 지원비용 M, 티켓정보 수 K\n",
    "    graph = [[] for i in range(N + 1)]\n",
    "    for k in range(K):\n",
    "        u, v, c, d = map(int, input().split()) #출발, 도착, 비용, 시간\n",
    "        graph[u].append([v, c, d])\n",
    "\n",
    "    dp = [[INF for i in range(M+1)] for i in range(N+1)]\n",
    "    dp[1][0] = 0\n",
    "    \n",
    "    for cost in range(M+1):\n",
    "        for start in range(1, N+1):\n",
    "            if dp[start][cost] == INF:\n",
    "                continue\n",
    "            time = dp[start][cost]\n",
    "            for end, next_cost, next_time in graph[start]:\n",
    "                if next_cost + cost > M:\n",
    "                    continue\n",
    "                dp[end][next_cost + cost] = min(dp[end][next_cost + cost], time + next_time)\n",
    "\n",
    "    min_time = min(dp[N])\n",
    "    \n",
    "    if min_time == INF:\n",
    "        print(\"Poor KCM\")\n",
    "    else:\n",
    "        print(min_time)"
   ]
  },
  {
   "cell_type": "markdown",
   "metadata": {},
   "source": [
    "## 1956번: 운동"
   ]
  },
  {
   "cell_type": "code",
   "execution_count": 1,
   "metadata": {},
   "outputs": [
    {
     "name": "stdout",
     "output_type": "stream",
     "text": [
      "3 4\n",
      "1 2 1\n",
      "3 2 1\n",
      "1 3 5\n",
      "2 3 2\n",
      "3\n"
     ]
    }
   ],
   "source": [
    "import sys\n",
    "#input = sys.stdin.readline\n",
    "INF = sys.maxsize\n",
    "\n",
    "V, E = map(int, input().split()) #V개의 마을와 E개의 도로\n",
    "dp = [[INF]*(V+1) for i in range(V+1)]\n",
    "for _ in range(E):\n",
    "    a, b, c = map(int, input().split()) #시작마을, 도착마을, 거리\n",
    "    dp[a][b] = min(dp[a][b], c)\n",
    "        \n",
    "for k in range(1, V+1): #거쳐가는 노드\n",
    "    for i in range(1, V+1): #출발\n",
    "        for j in range(1, V+1): #도착\n",
    "            dp[i][j] = min(dp[i][j], dp[i][k] + dp[k][j])\n",
    "    \n",
    "result = INF\n",
    "for i in range(1, V+1):\n",
    "    result = min(result, dp[i][i])\n",
    "\n",
    "if result == INF:\n",
    "    print(-1)\n",
    "else:\n",
    "    print(result)"
   ]
  }
 ],
 "metadata": {
  "kernelspec": {
   "display_name": "Python 3",
   "language": "python",
   "name": "python3"
  },
  "language_info": {
   "codemirror_mode": {
    "name": "ipython",
    "version": 3
   },
   "file_extension": ".py",
   "mimetype": "text/x-python",
   "name": "python",
   "nbconvert_exporter": "python",
   "pygments_lexer": "ipython3",
   "version": "3.8.3"
  },
  "toc": {
   "base_numbering": 1,
   "nav_menu": {},
   "number_sections": true,
   "sideBar": true,
   "skip_h1_title": false,
   "title_cell": "Table of Contents",
   "title_sidebar": "Contents",
   "toc_cell": false,
   "toc_position": {},
   "toc_section_display": true,
   "toc_window_display": false
  },
  "varInspector": {
   "cols": {
    "lenName": 16,
    "lenType": 16,
    "lenVar": 40
   },
   "kernels_config": {
    "python": {
     "delete_cmd_postfix": "",
     "delete_cmd_prefix": "del ",
     "library": "var_list.py",
     "varRefreshCmd": "print(var_dic_list())"
    },
    "r": {
     "delete_cmd_postfix": ") ",
     "delete_cmd_prefix": "rm(",
     "library": "var_list.r",
     "varRefreshCmd": "cat(var_dic_list()) "
    }
   },
   "types_to_exclude": [
    "module",
    "function",
    "builtin_function_or_method",
    "instance",
    "_Feature"
   ],
   "window_display": false
  }
 },
 "nbformat": 4,
 "nbformat_minor": 4
}
