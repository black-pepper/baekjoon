{
 "cells": [
  {
   "cell_type": "markdown",
   "metadata": {},
   "source": [
    "## 1753번: 최단경로"
   ]
  },
  {
   "cell_type": "code",
   "execution_count": 7,
   "metadata": {},
   "outputs": [
    {
     "name": "stdout",
     "output_type": "stream",
     "text": [
      "5 6\n",
      "1\n",
      "5 1 1\n",
      "1 2 2\n",
      "1 3 3\n",
      "2 3 4\n",
      "2 4 5\n",
      "3 4 6\n",
      "0\n",
      "2\n",
      "3\n",
      "7\n",
      "INF\n"
     ]
    }
   ],
   "source": [
    "import sys\n",
    "import heapq\n",
    "#input = sys.stdin.readline\n",
    "\n",
    "V, E = map(int, input().split()) #정점의 개수 V와 간선의 개수 E\n",
    "start = int(input())\n",
    "INF = sys.maxsize\n",
    "result = [INF] * (V+1)\n",
    "queue = []\n",
    "graph = [[] for i in range(V + 1)]\n",
    "\n",
    "for e in range(E):\n",
    "    u, v, w =map(int, input().split())\n",
    "    graph[u].append([v, w])\n",
    "\n",
    "\n",
    "result[start] = 0\n",
    "heapq.heappush(queue, (0, start))\n",
    "\n",
    "while queue:\n",
    "    w, v = heapq.heappop(queue)\n",
    "    \n",
    "    if result[v] < w:\n",
    "        continue\n",
    "    \n",
    "    for nn , nw in graph[v]: #nn: 다음 노드, nw: 거리\n",
    "        next_w = nw + w\n",
    "        if next_w < result[nn]:\n",
    "            result[nn] = next_w\n",
    "            heapq.heappush(queue, (next_w, nn))\n",
    "        \n",
    "for i in result[1:]:\n",
    "    if i == INF:\n",
    "        print('INF')\n",
    "    else:\n",
    "        print(i)"
   ]
  }
 ],
 "metadata": {
  "kernelspec": {
   "display_name": "Python 3",
   "language": "python",
   "name": "python3"
  },
  "language_info": {
   "codemirror_mode": {
    "name": "ipython",
    "version": 3
   },
   "file_extension": ".py",
   "mimetype": "text/x-python",
   "name": "python",
   "nbconvert_exporter": "python",
   "pygments_lexer": "ipython3",
   "version": "3.8.3"
  }
 },
 "nbformat": 4,
 "nbformat_minor": 4
}
