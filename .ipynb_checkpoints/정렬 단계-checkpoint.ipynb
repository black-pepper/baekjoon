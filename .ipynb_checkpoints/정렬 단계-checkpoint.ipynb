{
 "cells": [
  {
   "cell_type": "markdown",
   "metadata": {},
   "source": [
    "## 2750번: 수 정렬하기"
   ]
  },
  {
   "cell_type": "code",
   "execution_count": 2,
   "metadata": {},
   "outputs": [
    {
     "name": "stdout",
     "output_type": "stream",
     "text": [
      "5\n",
      "5\n",
      "2\n",
      "3\n",
      "4\n",
      "1\n",
      "1 2 3 4 5 "
     ]
    }
   ],
   "source": [
    "#삽입정렬\n",
    "T = int(input())\n",
    "arr = []\n",
    "\n",
    "for i in range(T):\n",
    "    num = int(input())\n",
    "    if arr == [] : arr.append(num)\n",
    "    else :\n",
    "        for j in range(len(arr)+1):\n",
    "            if j == len(arr) : arr.append(num)\n",
    "            elif arr[j] < num : pass\n",
    "            else :\n",
    "                arr.insert(j, num)\n",
    "                break\n",
    "                    \n",
    "for i in range(T):\n",
    "\tprint(arr[i], end=' ')"
   ]
  },
  {
   "cell_type": "code",
   "execution_count": 3,
   "metadata": {},
   "outputs": [
    {
     "name": "stdout",
     "output_type": "stream",
     "text": [
      "5\n",
      "5\n",
      "2\n",
      "3\n",
      "4\n",
      "1\n",
      "1 2 3 4 5 "
     ]
    }
   ],
   "source": [
    "#거품정렬\n",
    "T = int(input())\n",
    "arr = []\n",
    "\n",
    "for i in range(T):\n",
    "    num = int(input())\n",
    "    arr.append(num)\n",
    "\n",
    "for i in range(T):\n",
    "    for j in range(1, T-i):\n",
    "        if arr[j-1]>arr[j] :\n",
    "            temp = arr[j-1]\n",
    "            arr[j-1] = arr[j]\n",
    "            arr[j] = temp\n",
    "\n",
    "for i in range(T):\n",
    "    print(arr[i], end=' ')"
   ]
  },
  {
   "cell_type": "code",
   "execution_count": 4,
   "metadata": {},
   "outputs": [
    {
     "name": "stdout",
     "output_type": "stream",
     "text": [
      "5\n",
      "5\n",
      "2\n",
      "3\n",
      "4\n",
      "1\n",
      "1 2 3 4 5 "
     ]
    }
   ],
   "source": [
    "#선택정렬\n",
    "T = int(input())\n",
    "arr = []\n",
    "\n",
    "for i in range(T):\n",
    "    num = int(input())\n",
    "    arr.append(num)\n",
    "\n",
    "for i in range(T):\n",
    "    for j in range(i+1, T):\n",
    "        if arr[i]>arr[j] :\n",
    "            temp = arr[i]\n",
    "            arr[i] = arr[j]\n",
    "            arr[j] = temp\n",
    "\n",
    "for i in range(T):\n",
    "    print(arr[i], end=' ')"
   ]
  },
  {
   "cell_type": "markdown",
   "metadata": {},
   "source": [
    "## 2751번: 수 정렬하기 2"
   ]
  },
  {
   "cell_type": "code",
   "execution_count": 7,
   "metadata": {},
   "outputs": [
    {
     "name": "stdout",
     "output_type": "stream",
     "text": [
      "5\n",
      "5\n",
      "4\n",
      "3\n",
      "2\n",
      "1\n",
      "1\n",
      "2\n",
      "3\n",
      "4\n",
      "5\n"
     ]
    }
   ],
   "source": [
    "N = int(input())\n",
    "arr = []\n",
    "\n",
    "for i in range(N):\n",
    "    num = int(input())\n",
    "    arr.append(num)\n",
    "\n",
    "arr.sort()    \n",
    "    \n",
    "for i in range(N):\n",
    "    print(arr[i])"
   ]
  },
  {
   "cell_type": "markdown",
   "metadata": {},
   "source": [
    "## 10989번: 수 정렬하기 3"
   ]
  },
  {
   "cell_type": "code",
   "execution_count": 10,
   "metadata": {},
   "outputs": [
    {
     "name": "stdout",
     "output_type": "stream",
     "text": [
      "10\n",
      "5\n",
      "2\n",
      "3\n",
      "1\n",
      "4\n",
      "2\n",
      "3\n",
      "5\n",
      "1\n",
      "7\n",
      "1\n",
      "1\n",
      "2\n",
      "2\n",
      "3\n",
      "3\n",
      "4\n",
      "5\n",
      "5\n",
      "7\n"
     ]
    }
   ],
   "source": [
    "#제출시 int(input())을 int(sys.stdin.readline())로 변경\n",
    "import sys\n",
    "arr = [0] * 10001\n",
    "N = int(input())\n",
    "\n",
    "for i in range(N):\n",
    "    num = int(input())\n",
    "    arr[num] += 1\n",
    "    \n",
    "for i in range(10001):\n",
    "    for j in range(arr[i]):\n",
    "        print(i)"
   ]
  },
  {
   "cell_type": "markdown",
   "metadata": {},
   "source": [
    "## 2108번: 통계학"
   ]
  },
  {
   "cell_type": "code",
   "execution_count": 10,
   "metadata": {},
   "outputs": [
    {
     "name": "stdout",
     "output_type": "stream",
     "text": [
      "5\n",
      "-1\n",
      "-2\n",
      "-3\n",
      "-1\n",
      "-2\n",
      "-2\n",
      "-2\n",
      "-1\n",
      "2\n"
     ]
    }
   ],
   "source": [
    "N = int(input())\n",
    "\n",
    "arr1 = []\n",
    "arr2 = [0] * 8001\n",
    "\n",
    "for i in range(N):\n",
    "    num = int(input())\n",
    "    arr1.append(num)\n",
    "    arr2[4000+num] += 1\n",
    "\n",
    "arr1.sort()\n",
    "    \n",
    "#산술평균\n",
    "print(round(sum(arr1)/N))\n",
    "\n",
    "#중앙값\n",
    "print(arr1[N//2])\n",
    "\n",
    "#최빈값\n",
    "freq = 0\n",
    "for i in range(8001):\n",
    "    if arr2[i] > freq :\n",
    "        freq = arr2[i]\n",
    "freq_num = []\n",
    "for i in range(8001):\n",
    "    if arr2[i] == freq :\n",
    "        freq_num.append(i-4000)\n",
    "if len(freq_num) == 1 :\n",
    "    print(freq_num[0])\n",
    "else :\n",
    "    print(freq_num[1])\n",
    "    \n",
    "#범위\n",
    "print(max(arr1)-min(arr1))"
   ]
  }
 ],
 "metadata": {
  "kernelspec": {
   "display_name": "Python 3",
   "language": "python",
   "name": "python3"
  },
  "language_info": {
   "codemirror_mode": {
    "name": "ipython",
    "version": 3
   },
   "file_extension": ".py",
   "mimetype": "text/x-python",
   "name": "python",
   "nbconvert_exporter": "python",
   "pygments_lexer": "ipython3",
   "version": "3.8.3"
  }
 },
 "nbformat": 4,
 "nbformat_minor": 4
}
