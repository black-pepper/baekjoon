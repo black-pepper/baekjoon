{
 "cells": [
  {
   "cell_type": "markdown",
   "metadata": {},
   "source": [
    "## 15649번: N과 M (1)"
   ]
  },
  {
   "cell_type": "code",
   "execution_count": 1,
   "metadata": {
    "ExecuteTime": {
     "end_time": "2020-10-28T01:12:16.902285Z",
     "start_time": "2020-10-28T01:12:03.835894Z"
    }
   },
   "outputs": [
    {
     "name": "stdout",
     "output_type": "stream",
     "text": [
      "4 4\n",
      "1 2 3 4 \n",
      "1 2 4 3 \n",
      "1 3 2 4 \n",
      "1 3 4 2 \n",
      "1 4 2 3 \n",
      "1 4 3 2 \n",
      "2 1 3 4 \n",
      "2 1 4 3 \n",
      "2 3 1 4 \n",
      "2 3 4 1 \n",
      "2 4 1 3 \n",
      "2 4 3 1 \n",
      "3 1 2 4 \n",
      "3 1 4 2 \n",
      "3 2 1 4 \n",
      "3 2 4 1 \n",
      "3 4 1 2 \n",
      "3 4 2 1 \n",
      "4 1 2 3 \n",
      "4 1 3 2 \n",
      "4 2 1 3 \n",
      "4 2 3 1 \n",
      "4 3 1 2 \n",
      "4 3 2 1 \n"
     ]
    }
   ],
   "source": [
    "N, M = map(int, input().split())\n",
    "arr_num = [0] * M\n",
    "\n",
    "def Sequence (Seq_num):\n",
    "    global arr_num\n",
    "    global N\n",
    "    global M\n",
    "    \n",
    "    #마지막 수라면 출력\n",
    "    if Seq_num == M-1:\n",
    "        for i in range(1, N+1):\n",
    "            #i가 arr_num에 없으면 삽입\n",
    "            if i not in arr_num:\n",
    "                arr_num[Seq_num] = i\n",
    "                for j in range(M):\n",
    "                    print(arr_num[j], end=' ')\n",
    "                print()\n",
    "        arr_num[Seq_num] = 0\n",
    "    \n",
    "    #마지막 수가 아니라면 해당 자리에 숫자 삽입\n",
    "    else:\n",
    "        for i in range(1, N+1):\n",
    "            #i가 arr_num에 없으면 삽입\n",
    "            if i not in arr_num:\n",
    "                arr_num[Seq_num] = i\n",
    "                Sequence(Seq_num+1)\n",
    "        arr_num[Seq_num] = 0\n",
    "        \n",
    "Sequence(0)"
   ]
  },
  {
   "cell_type": "markdown",
   "metadata": {},
   "source": [
    "## 15650번: N과 M (2)"
   ]
  },
  {
   "cell_type": "code",
   "execution_count": 2,
   "metadata": {
    "ExecuteTime": {
     "end_time": "2020-10-28T01:16:54.096175Z",
     "start_time": "2020-10-28T01:16:34.556247Z"
    }
   },
   "outputs": [
    {
     "name": "stdout",
     "output_type": "stream",
     "text": [
      "4 4\n",
      "1 2 3 4 \n"
     ]
    }
   ],
   "source": [
    "N, M = map(int, input().split())\n",
    "arr_num = [0] * M\n",
    "\n",
    "def Sequence (Seq_num):\n",
    "    global arr_num\n",
    "    global N\n",
    "    global M\n",
    "    \n",
    "    #마지막 수라면 출력\n",
    "    if Seq_num == M-1:\n",
    "        for i in range(1, N+1):\n",
    "            #i가 arr_num에 없고 이전 수가 i보다 더 작거나 없는 경우 삽입\n",
    "            if i not in arr_num and arr_num[Seq_num-1]<i or Seq_num == 0:\n",
    "                arr_num[Seq_num] = i\n",
    "                for j in range(M):\n",
    "                    print(arr_num[j], end=' ')\n",
    "                print()\n",
    "        arr_num[Seq_num] = 0\n",
    "    \n",
    "    #마지막 수가 아니라면 해당 자리에 숫자 삽입\n",
    "    else:\n",
    "        for i in range(1, N+1):\n",
    "            #i가 arr_num에 없고 이전 수가 i보다 더 작거나 없는 경우 삽입\n",
    "            if i not in arr_num and arr_num[Seq_num-1]<i or Seq_num == 0:\n",
    "                arr_num[Seq_num] = i\n",
    "                Sequence(Seq_num+1)\n",
    "        arr_num[Seq_num] = 0\n",
    "        \n",
    "Sequence(0)"
   ]
  },
  {
   "cell_type": "markdown",
   "metadata": {},
   "source": [
    "## 15651번: N과 M (3)"
   ]
  },
  {
   "cell_type": "code",
   "execution_count": 3,
   "metadata": {
    "ExecuteTime": {
     "end_time": "2020-10-28T01:17:40.706649Z",
     "start_time": "2020-10-28T01:17:22.037815Z"
    }
   },
   "outputs": [
    {
     "name": "stdout",
     "output_type": "stream",
     "text": [
      "3 1\n",
      "1 \n",
      "2 \n",
      "3 \n"
     ]
    }
   ],
   "source": [
    "N, M = map(int, input().split())\n",
    "arr_num = [0] * M\n",
    "\n",
    "def Sequence (Seq_num):\n",
    "    global arr_num\n",
    "    global N\n",
    "    global M\n",
    "    \n",
    "    #마지막 수라면 출력\n",
    "    if Seq_num == M-1:\n",
    "        for i in range(1, N+1):\n",
    "            arr_num[Seq_num] = i\n",
    "            for j in range(M):\n",
    "                print(arr_num[j], end=' ')\n",
    "            print()\n",
    "        arr_num[Seq_num] = 0\n",
    "    \n",
    "    #마지막 수가 아니라면 해당 자리에 숫자 삽입\n",
    "    else:\n",
    "        for i in range(1, N+1):\n",
    "            arr_num[Seq_num] = i\n",
    "            Sequence(Seq_num+1)\n",
    "        arr_num[Seq_num] = 0\n",
    "        \n",
    "Sequence(0)"
   ]
  },
  {
   "cell_type": "markdown",
   "metadata": {},
   "source": [
    "## 15652번: N과 M (4)"
   ]
  },
  {
   "cell_type": "code",
   "execution_count": 4,
   "metadata": {
    "ExecuteTime": {
     "end_time": "2020-10-28T01:18:51.157105Z",
     "start_time": "2020-10-28T01:18:49.701189Z"
    }
   },
   "outputs": [
    {
     "name": "stdout",
     "output_type": "stream",
     "text": [
      "4 4\n",
      "1 1 1 1 \n",
      "1 1 1 2 \n",
      "1 1 1 3 \n",
      "1 1 1 4 \n",
      "1 1 2 2 \n",
      "1 1 2 3 \n",
      "1 1 2 4 \n",
      "1 1 3 3 \n",
      "1 1 3 4 \n",
      "1 1 4 4 \n",
      "1 2 2 2 \n",
      "1 2 2 3 \n",
      "1 2 2 4 \n",
      "1 2 3 3 \n",
      "1 2 3 4 \n",
      "1 2 4 4 \n",
      "1 3 3 3 \n",
      "1 3 3 4 \n",
      "1 3 4 4 \n",
      "1 4 4 4 \n",
      "2 2 2 2 \n",
      "2 2 2 3 \n",
      "2 2 2 4 \n",
      "2 2 3 3 \n",
      "2 2 3 4 \n",
      "2 2 4 4 \n",
      "2 3 3 3 \n",
      "2 3 3 4 \n",
      "2 3 4 4 \n",
      "2 4 4 4 \n",
      "3 3 3 3 \n",
      "3 3 3 4 \n",
      "3 3 4 4 \n",
      "3 4 4 4 \n",
      "4 4 4 4 \n"
     ]
    }
   ],
   "source": [
    "N, M = map(int, input().split())\n",
    "arr = [0] * M\n",
    "\n",
    "def Sequence (Seq_num):\n",
    "    global N, M\n",
    "    global arr\n",
    "    \n",
    "    if Seq_num == M-1 :\n",
    "        for i in range(1,N+1):\n",
    "            if arr[Seq_num-1] <= i or Seq_num == 0 :\n",
    "                arr[Seq_num] = i\n",
    "                for j in arr:\n",
    "                    print(j, end=' ')\n",
    "                print()\n",
    "            \n",
    "    else:\n",
    "        for i in range(1,N+1):\n",
    "            if arr[Seq_num-1] <= i or Seq_num == 0 :\n",
    "                arr[Seq_num] = i\n",
    "                Sequence(Seq_num+1)\n",
    "\n",
    "Sequence(0)"
   ]
  },
  {
   "cell_type": "markdown",
   "metadata": {},
   "source": [
    "## 9663번: N-Queen"
   ]
  },
  {
   "cell_type": "code",
   "execution_count": 18,
   "metadata": {
    "ExecuteTime": {
     "end_time": "2020-11-16T01:48:22.376684Z",
     "start_time": "2020-11-16T01:47:08.512981Z"
    }
   },
   "outputs": [
    {
     "name": "stdout",
     "output_type": "stream",
     "text": [
      "8\n",
      "92\n"
     ]
    }
   ],
   "source": [
    "#pypy3로 통과\n",
    "N = int(input())\n",
    "matrix = [0] * N\n",
    "count = 0\n",
    "\n",
    "def Put_queen(q_count):\n",
    "    global count\n",
    "    able = 1\n",
    "    if q_count == N:\n",
    "        count += 1\n",
    "        return\n",
    "    for i in range(N):\n",
    "        able = 1\n",
    "        for j in range(q_count):\n",
    "            if matrix[j] == i or abs(q_count-j) == abs(i-matrix[j]):\n",
    "                able = 0\n",
    "                break\n",
    "        if able == 1:\n",
    "            matrix[q_count] = i\n",
    "            Put_queen(q_count+1)\n",
    "\n",
    "Put_queen(0)\n",
    "print(count)"
   ]
  },
  {
   "cell_type": "markdown",
   "metadata": {},
   "source": [
    "## 2580번: 스도쿠"
   ]
  },
  {
   "cell_type": "code",
   "execution_count": 49,
   "metadata": {
    "scrolled": false
   },
   "outputs": [
    {
     "name": "stdout",
     "output_type": "stream",
     "text": [
      "0 3 5 4 6 9 2 7 8\n",
      "7 8 2 1 0 5 6 0 9\n",
      "0 6 0 2 7 8 1 3 5\n",
      "3 2 1 0 4 6 8 9 7\n",
      "8 0 4 9 1 3 5 0 6\n",
      "5 9 6 8 2 0 4 1 3\n",
      "9 1 7 6 5 2 0 8 0\n",
      "6 0 3 7 0 1 9 5 2\n",
      "2 5 8 3 9 4 7 6 0\n",
      "1 3 5 4 6 9 2 7 8 \n",
      "7 8 2 1 3 5 6 4 9 \n",
      "4 6 9 2 7 8 1 3 5 \n",
      "3 2 1 5 4 6 8 9 7 \n",
      "8 7 4 9 1 3 5 2 6 \n",
      "5 9 6 8 2 7 4 1 3 \n",
      "9 1 7 6 5 2 3 8 4 \n",
      "6 4 3 7 8 1 9 5 2 \n",
      "2 5 8 3 9 4 7 6 1 \n"
     ]
    }
   ],
   "source": [
    "arr = []\n",
    "for i in range(9):\n",
    "    arr.append(list(map(int, input().split())))\n",
    "\n",
    "def check_number (y, x, num):\n",
    "    for i in range(9):\n",
    "        if arr[y][i] == num: #가로\n",
    "            return False\n",
    "        if arr[i][x] == num: #세로\n",
    "            return False\n",
    "    for i in range(y//3*3, (y//3+1)*3):\n",
    "        for j in range(x//3*3, (x//3+1)*3):\n",
    "            if arr[i][j] == num: #칸\n",
    "                return False\n",
    "    return True\n",
    "\n",
    "complete = 0\n",
    "def input_number(y, x):\n",
    "    global complete\n",
    "    #빈칸 찾기\n",
    "    for i in range(y, 9):\n",
    "        for j in range(9):\n",
    "            if i==y and j<x:\n",
    "                continue\n",
    "            if arr[i][j] == 0:\n",
    "                y = i\n",
    "                x = j\n",
    "                break\n",
    "        if arr[y][x] == 0:\n",
    "            break\n",
    "        if i==8 and j==8:\n",
    "            complete = 1\n",
    "            return\n",
    "\n",
    "    #빈칸 채우기\n",
    "    for k in range(10):\n",
    "        if check_number(y, x, k):\n",
    "            arr[y][x] = k\n",
    "            \n",
    "            if y==8 and x==8:\n",
    "                complete = 1\n",
    "                return\n",
    "            \n",
    "            if x==8:\n",
    "                input_number(y+1, 0)\n",
    "            else:\n",
    "                input_number(y, x+1)\n",
    "            if complete == 1:\n",
    "                return\n",
    "    arr[y][x] = 0\n",
    "    return\n",
    "\n",
    "def print_arr():\n",
    "    for i in range(9):\n",
    "        for j in range(9):\n",
    "            print(arr[i][j], end=' ')\n",
    "        print()\n",
    "\n",
    "input_number(0, 0)\n",
    "print_arr()"
   ]
  },
  {
   "cell_type": "markdown",
   "metadata": {},
   "source": [
    "## 14888: 연산자 끼워넣기"
   ]
  },
  {
   "cell_type": "code",
   "execution_count": 32,
   "metadata": {},
   "outputs": [
    {
     "name": "stdout",
     "output_type": "stream",
     "text": [
      "6\n",
      "1 2 3 4 5 6\n",
      "2 1 1 1\n",
      "54\n",
      "-24\n"
     ]
    }
   ],
   "source": [
    "#PyPy3 통과\n",
    "from itertools import permutations\n",
    "\n",
    "N = int(input())\n",
    "A = list(map(int, input().split()))\n",
    "operator_input = list(map(int, input().split()))\n",
    "operator_temp = ['+', '-', '*', '/']\n",
    "operator = []\n",
    "\n",
    "for i in range(4):\n",
    "    for j in range(operator_input[i]):\n",
    "        operator.append(operator_temp[i])\n",
    "\n",
    "#연산자 조합\n",
    "if sum(operator_input) == 1:\n",
    "    operator_case = [operator]\n",
    "else:\n",
    "    operator_case = list(permutations(operator, len(operator)))\n",
    "operator_case\n",
    "\n",
    "#연산\n",
    "max_result = -1000000000\n",
    "min_result = 1000000000\n",
    "for op in operator_case:\n",
    "    result = A[0]\n",
    "    for i in range(N-1):\n",
    "        if op[i] == '+':\n",
    "            result = result + A[i+1]\n",
    "        elif op[i] == '-':\n",
    "            result = result - A[i+1]\n",
    "        elif op[i] == '*':\n",
    "            result = result * A[i+1]\n",
    "        else:\n",
    "            if result<0:\n",
    "                result = -(abs(result)//A[i+1])\n",
    "            else:\n",
    "                result = result // A[i+1]\n",
    "    if max_result < result:\n",
    "        max_result = result\n",
    "    if min_result > result:\n",
    "        min_result = result\n",
    "        \n",
    "print(max_result)\n",
    "print(min_result)"
   ]
  }
 ],
 "metadata": {
  "kernelspec": {
   "display_name": "Python 3",
   "language": "python",
   "name": "python3"
  },
  "language_info": {
   "codemirror_mode": {
    "name": "ipython",
    "version": 3
   },
   "file_extension": ".py",
   "mimetype": "text/x-python",
   "name": "python",
   "nbconvert_exporter": "python",
   "pygments_lexer": "ipython3",
   "version": "3.8.3"
  },
  "toc": {
   "base_numbering": 1,
   "nav_menu": {},
   "number_sections": true,
   "sideBar": true,
   "skip_h1_title": false,
   "title_cell": "Table of Contents",
   "title_sidebar": "Contents",
   "toc_cell": false,
   "toc_position": {},
   "toc_section_display": true,
   "toc_window_display": false
  },
  "varInspector": {
   "cols": {
    "lenName": 16,
    "lenType": 16,
    "lenVar": 40
   },
   "kernels_config": {
    "python": {
     "delete_cmd_postfix": "",
     "delete_cmd_prefix": "del ",
     "library": "var_list.py",
     "varRefreshCmd": "print(var_dic_list())"
    },
    "r": {
     "delete_cmd_postfix": ") ",
     "delete_cmd_prefix": "rm(",
     "library": "var_list.r",
     "varRefreshCmd": "cat(var_dic_list()) "
    }
   },
   "types_to_exclude": [
    "module",
    "function",
    "builtin_function_or_method",
    "instance",
    "_Feature"
   ],
   "window_display": false
  }
 },
 "nbformat": 4,
 "nbformat_minor": 4
}
