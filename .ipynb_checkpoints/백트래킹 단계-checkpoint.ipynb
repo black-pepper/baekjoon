{
 "cells": [
  {
   "cell_type": "markdown",
   "metadata": {},
   "source": [
    "## 15649번: N과 M (1)"
   ]
  },
  {
   "cell_type": "code",
   "execution_count": 1,
   "metadata": {
    "ExecuteTime": {
     "end_time": "2020-10-28T01:12:16.902285Z",
     "start_time": "2020-10-28T01:12:03.835894Z"
    }
   },
   "outputs": [
    {
     "name": "stdout",
     "output_type": "stream",
     "text": [
      "4 4\n",
      "1 2 3 4 \n",
      "1 2 4 3 \n",
      "1 3 2 4 \n",
      "1 3 4 2 \n",
      "1 4 2 3 \n",
      "1 4 3 2 \n",
      "2 1 3 4 \n",
      "2 1 4 3 \n",
      "2 3 1 4 \n",
      "2 3 4 1 \n",
      "2 4 1 3 \n",
      "2 4 3 1 \n",
      "3 1 2 4 \n",
      "3 1 4 2 \n",
      "3 2 1 4 \n",
      "3 2 4 1 \n",
      "3 4 1 2 \n",
      "3 4 2 1 \n",
      "4 1 2 3 \n",
      "4 1 3 2 \n",
      "4 2 1 3 \n",
      "4 2 3 1 \n",
      "4 3 1 2 \n",
      "4 3 2 1 \n"
     ]
    }
   ],
   "source": [
    "N, M = map(int, input().split())\n",
    "arr_num = [0] * M\n",
    "\n",
    "def Sequence (Seq_num):\n",
    "    global arr_num\n",
    "    global N\n",
    "    global M\n",
    "    \n",
    "    #마지막 수라면 출력\n",
    "    if Seq_num == M-1:\n",
    "        for i in range(1, N+1):\n",
    "            #i가 arr_num에 없으면 삽입\n",
    "            if i not in arr_num:\n",
    "                arr_num[Seq_num] = i\n",
    "                for j in range(M):\n",
    "                    print(arr_num[j], end=' ')\n",
    "                print()\n",
    "        arr_num[Seq_num] = 0\n",
    "    \n",
    "    #마지막 수가 아니라면 해당 자리에 숫자 삽입\n",
    "    else:\n",
    "        for i in range(1, N+1):\n",
    "            #i가 arr_num에 없으면 삽입\n",
    "            if i not in arr_num:\n",
    "                arr_num[Seq_num] = i\n",
    "                Sequence(Seq_num+1)\n",
    "        arr_num[Seq_num] = 0\n",
    "        \n",
    "Sequence(0)"
   ]
  },
  {
   "cell_type": "markdown",
   "metadata": {},
   "source": [
    "## 15650번: N과 M (2)"
   ]
  },
  {
   "cell_type": "code",
   "execution_count": 2,
   "metadata": {
    "ExecuteTime": {
     "end_time": "2020-10-28T01:16:54.096175Z",
     "start_time": "2020-10-28T01:16:34.556247Z"
    }
   },
   "outputs": [
    {
     "name": "stdout",
     "output_type": "stream",
     "text": [
      "4 4\n",
      "1 2 3 4 \n"
     ]
    }
   ],
   "source": [
    "N, M = map(int, input().split())\n",
    "arr_num = [0] * M\n",
    "\n",
    "def Sequence (Seq_num):\n",
    "    global arr_num\n",
    "    global N\n",
    "    global M\n",
    "    \n",
    "    #마지막 수라면 출력\n",
    "    if Seq_num == M-1:\n",
    "        for i in range(1, N+1):\n",
    "            #i가 arr_num에 없고 이전 수가 i보다 더 작거나 없는 경우 삽입\n",
    "            if i not in arr_num and arr_num[Seq_num-1]<i or Seq_num == 0:\n",
    "                arr_num[Seq_num] = i\n",
    "                for j in range(M):\n",
    "                    print(arr_num[j], end=' ')\n",
    "                print()\n",
    "        arr_num[Seq_num] = 0\n",
    "    \n",
    "    #마지막 수가 아니라면 해당 자리에 숫자 삽입\n",
    "    else:\n",
    "        for i in range(1, N+1):\n",
    "            #i가 arr_num에 없고 이전 수가 i보다 더 작거나 없는 경우 삽입\n",
    "            if i not in arr_num and arr_num[Seq_num-1]<i or Seq_num == 0:\n",
    "                arr_num[Seq_num] = i\n",
    "                Sequence(Seq_num+1)\n",
    "        arr_num[Seq_num] = 0\n",
    "        \n",
    "Sequence(0)"
   ]
  },
  {
   "cell_type": "markdown",
   "metadata": {},
   "source": [
    "## 15651번: N과 M (3)"
   ]
  },
  {
   "cell_type": "code",
   "execution_count": 3,
   "metadata": {
    "ExecuteTime": {
     "end_time": "2020-10-28T01:17:40.706649Z",
     "start_time": "2020-10-28T01:17:22.037815Z"
    }
   },
   "outputs": [
    {
     "name": "stdout",
     "output_type": "stream",
     "text": [
      "3 1\n",
      "1 \n",
      "2 \n",
      "3 \n"
     ]
    }
   ],
   "source": [
    "N, M = map(int, input().split())\n",
    "arr_num = [0] * M\n",
    "\n",
    "def Sequence (Seq_num):\n",
    "    global arr_num\n",
    "    global N\n",
    "    global M\n",
    "    \n",
    "    #마지막 수라면 출력\n",
    "    if Seq_num == M-1:\n",
    "        for i in range(1, N+1):\n",
    "            arr_num[Seq_num] = i\n",
    "            for j in range(M):\n",
    "                print(arr_num[j], end=' ')\n",
    "            print()\n",
    "        arr_num[Seq_num] = 0\n",
    "    \n",
    "    #마지막 수가 아니라면 해당 자리에 숫자 삽입\n",
    "    else:\n",
    "        for i in range(1, N+1):\n",
    "            arr_num[Seq_num] = i\n",
    "            Sequence(Seq_num+1)\n",
    "        arr_num[Seq_num] = 0\n",
    "        \n",
    "Sequence(0)"
   ]
  },
  {
   "cell_type": "markdown",
   "metadata": {},
   "source": [
    "## 15652번: N과 M (4)"
   ]
  },
  {
   "cell_type": "code",
   "execution_count": 4,
   "metadata": {
    "ExecuteTime": {
     "end_time": "2020-10-28T01:18:51.157105Z",
     "start_time": "2020-10-28T01:18:49.701189Z"
    }
   },
   "outputs": [
    {
     "name": "stdout",
     "output_type": "stream",
     "text": [
      "4 4\n",
      "1 1 1 1 \n",
      "1 1 1 2 \n",
      "1 1 1 3 \n",
      "1 1 1 4 \n",
      "1 1 2 2 \n",
      "1 1 2 3 \n",
      "1 1 2 4 \n",
      "1 1 3 3 \n",
      "1 1 3 4 \n",
      "1 1 4 4 \n",
      "1 2 2 2 \n",
      "1 2 2 3 \n",
      "1 2 2 4 \n",
      "1 2 3 3 \n",
      "1 2 3 4 \n",
      "1 2 4 4 \n",
      "1 3 3 3 \n",
      "1 3 3 4 \n",
      "1 3 4 4 \n",
      "1 4 4 4 \n",
      "2 2 2 2 \n",
      "2 2 2 3 \n",
      "2 2 2 4 \n",
      "2 2 3 3 \n",
      "2 2 3 4 \n",
      "2 2 4 4 \n",
      "2 3 3 3 \n",
      "2 3 3 4 \n",
      "2 3 4 4 \n",
      "2 4 4 4 \n",
      "3 3 3 3 \n",
      "3 3 3 4 \n",
      "3 3 4 4 \n",
      "3 4 4 4 \n",
      "4 4 4 4 \n"
     ]
    }
   ],
   "source": [
    "N, M = map(int, input().split())\n",
    "arr = [0] * M\n",
    "\n",
    "def Sequence (Seq_num):\n",
    "    global N, M\n",
    "    global arr\n",
    "    \n",
    "    if Seq_num == M-1 :\n",
    "        for i in range(1,N+1):\n",
    "            if arr[Seq_num-1] <= i or Seq_num == 0 :\n",
    "                arr[Seq_num] = i\n",
    "                for j in arr:\n",
    "                    print(j, end=' ')\n",
    "                print()\n",
    "            \n",
    "    else:\n",
    "        for i in range(1,N+1):\n",
    "            if arr[Seq_num-1] <= i or Seq_num == 0 :\n",
    "                arr[Seq_num] = i\n",
    "                Sequence(Seq_num+1)\n",
    "\n",
    "Sequence(0)"
   ]
  },
  {
   "cell_type": "markdown",
   "metadata": {},
   "source": [
    "## 9663번: N-Queen (미완성)"
   ]
  },
  {
   "cell_type": "code",
   "execution_count": null,
   "metadata": {},
   "outputs": [],
   "source": [
    "N = int(input())\n",
    "arr = []\n",
    "for i in range(N):\n",
    "    arr.append([0]*N)\n",
    "\n",
    "def Put_queen(Seq_num):\n",
    "    for y in range(N):\n",
    "        if 1 in arr[y]: continue\n",
    "        for x in range(N):\n",
    "            \n",
    "            "
   ]
  }
 ],
 "metadata": {
  "kernelspec": {
   "display_name": "Python 3",
   "language": "python",
   "name": "python3"
  },
  "language_info": {
   "codemirror_mode": {
    "name": "ipython",
    "version": 3
   },
   "file_extension": ".py",
   "mimetype": "text/x-python",
   "name": "python",
   "nbconvert_exporter": "python",
   "pygments_lexer": "ipython3",
   "version": "3.7.6"
  },
  "toc": {
   "base_numbering": 1,
   "nav_menu": {},
   "number_sections": true,
   "sideBar": true,
   "skip_h1_title": false,
   "title_cell": "Table of Contents",
   "title_sidebar": "Contents",
   "toc_cell": false,
   "toc_position": {},
   "toc_section_display": true,
   "toc_window_display": false
  },
  "varInspector": {
   "cols": {
    "lenName": 16,
    "lenType": 16,
    "lenVar": 40
   },
   "kernels_config": {
    "python": {
     "delete_cmd_postfix": "",
     "delete_cmd_prefix": "del ",
     "library": "var_list.py",
     "varRefreshCmd": "print(var_dic_list())"
    },
    "r": {
     "delete_cmd_postfix": ") ",
     "delete_cmd_prefix": "rm(",
     "library": "var_list.r",
     "varRefreshCmd": "cat(var_dic_list()) "
    }
   },
   "types_to_exclude": [
    "module",
    "function",
    "builtin_function_or_method",
    "instance",
    "_Feature"
   ],
   "window_display": false
  }
 },
 "nbformat": 4,
 "nbformat_minor": 4
}
