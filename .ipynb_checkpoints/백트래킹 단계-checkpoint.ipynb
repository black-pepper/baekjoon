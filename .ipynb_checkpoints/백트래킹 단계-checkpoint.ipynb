{
 "cells": [
  {
   "cell_type": "markdown",
   "metadata": {},
   "source": [
    "## 15649번: N과 M (1)"
   ]
  },
  {
   "cell_type": "code",
   "execution_count": 3,
   "metadata": {
    "scrolled": true
   },
   "outputs": [
    {
     "name": "stdout",
     "output_type": "stream",
     "text": [
      "4 4\n",
      "1 2 3 4 \n",
      "1 2 4 3 \n",
      "1 3 2 4 \n",
      "1 3 4 2 \n",
      "1 4 2 3 \n",
      "1 4 3 2 \n",
      "2 1 3 4 \n",
      "2 1 4 3 \n",
      "2 3 1 4 \n",
      "2 3 4 1 \n",
      "2 4 1 3 \n",
      "2 4 3 1 \n",
      "3 1 2 4 \n",
      "3 1 4 2 \n",
      "3 2 1 4 \n",
      "3 2 4 1 \n",
      "3 4 1 2 \n",
      "3 4 2 1 \n",
      "4 1 2 3 \n",
      "4 1 3 2 \n",
      "4 2 1 3 \n",
      "4 2 3 1 \n",
      "4 3 1 2 \n",
      "4 3 2 1 \n"
     ]
    }
   ],
   "source": [
    "N, M = map(int, input().split())\n",
    "arr_num = [0] * M\n",
    "\n",
    "def Sequence (Seq_num):\n",
    "    global arr_num\n",
    "    global N\n",
    "    global M\n",
    "    \n",
    "    #마지막 수라면 출력\n",
    "    if Seq_num == M-1:\n",
    "        for i in range(1, N+1):\n",
    "            #i가 arr_num에 없으면 삽입\n",
    "            if i not in arr_num:\n",
    "                arr_num[Seq_num] = i\n",
    "                for j in range(M):\n",
    "                    print(arr_num[j], end=' ')\n",
    "                print()\n",
    "        arr_num[Seq_num] = 0\n",
    "    \n",
    "    #마지막 수가 아니라면 해당 자리에 숫자 삽입\n",
    "    else:\n",
    "        for i in range(1, N+1):\n",
    "            #i가 arr_num에 없으면 삽입\n",
    "            if i not in arr_num:\n",
    "                arr_num[Seq_num] = i\n",
    "                Sequence(Seq_num+1)\n",
    "        arr_num[Seq_num] = 0\n",
    "        \n",
    "Sequence(0)"
   ]
  }
 ],
 "metadata": {
  "kernelspec": {
   "display_name": "Python 3",
   "language": "python",
   "name": "python3"
  },
  "language_info": {
   "codemirror_mode": {
    "name": "ipython",
    "version": 3
   },
   "file_extension": ".py",
   "mimetype": "text/x-python",
   "name": "python",
   "nbconvert_exporter": "python",
   "pygments_lexer": "ipython3",
   "version": "3.8.3"
  }
 },
 "nbformat": 4,
 "nbformat_minor": 4
}
