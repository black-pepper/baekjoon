{
 "cells": [
  {
   "cell_type": "markdown",
   "metadata": {},
   "source": [
    "## 1260번: DFS와 BFS"
   ]
  },
  {
   "cell_type": "code",
   "execution_count": 2,
   "metadata": {},
   "outputs": [
    {
     "name": "stdout",
     "output_type": "stream",
     "text": [
      "1000 1 1000\n",
      "999 1000\n",
      "1000 999 \n",
      "1000 999 "
     ]
    }
   ],
   "source": [
    "n, m, v = map(int, input().split())\n",
    "matrix = []\n",
    "\n",
    "for i in range(n+1):\n",
    "    matrix.append([0]*(n+1))\n",
    "    \n",
    "for i in range(m):\n",
    "    start, end = map(int, input().split())\n",
    "    matrix[start][end] = 1\n",
    "    matrix[end][start] = 1\n",
    "    \n",
    "visit_dfs = [0] * (n+1)\n",
    "def DFS(v):\n",
    "    visit_dfs[v] = 1\n",
    "    print(v, end = ' ')\n",
    "    for i in range(1, n+1):\n",
    "        if visit_dfs[i] == 0 and matrix[v][i] == 1:\n",
    "            DFS(i)\n",
    "            \n",
    "visit_bfs = [0] * (n+1)\n",
    "def BFS(v):\n",
    "    queue = []\n",
    "    queue.append(v)\n",
    "    visit_bfs[v] = 1\n",
    "\n",
    "    while queue:\n",
    "        temp = queue.pop(0)\n",
    "        print(temp, end=' ')\n",
    "        \n",
    "        for i in range(n+1):\n",
    "            if visit_bfs[i] == 0 and matrix[temp][i] == 1:\n",
    "                queue.append(i)\n",
    "                visit_bfs[i] = 1\n",
    "                  \n",
    "DFS(v)\n",
    "print()\n",
    "BFS(v)"
   ]
  },
  {
   "cell_type": "markdown",
   "metadata": {},
   "source": [
    "## 2606번: 바이러스"
   ]
  },
  {
   "cell_type": "code",
   "execution_count": 11,
   "metadata": {},
   "outputs": [
    {
     "name": "stdout",
     "output_type": "stream",
     "text": [
      "7\n",
      "6\n",
      "1 2\n",
      "2 3\n",
      "1 5\n",
      "5 2\n",
      "5 6\n",
      "4 7\n",
      "4\n"
     ]
    }
   ],
   "source": [
    "N = int(input())\n",
    "M = int(input())\n",
    "matrix = []\n",
    "\n",
    "for n in range(N+1):\n",
    "    matrix.append([0] * (N+1))\n",
    "for m in range(M):\n",
    "    x, y = map(int, input().split())\n",
    "    matrix[x][y] = 1\n",
    "    matrix[y][x] = 1\n",
    "    \n",
    "count = 0\n",
    "visit = [0] * (N+1)\n",
    "def DFS(v):\n",
    "    global count\n",
    "    visit[v] = 1\n",
    "    count += 1\n",
    "    for i in range(1, n+1):\n",
    "        if visit[i] == 0 and matrix[v][i] == 1:\n",
    "            DFS(i)\n",
    "            \n",
    "DFS(1)\n",
    "print(count-1)"
   ]
  },
  {
   "cell_type": "markdown",
   "metadata": {},
   "source": [
    "## 2667번: 단지번호붙이기"
   ]
  },
  {
   "cell_type": "code",
   "execution_count": 9,
   "metadata": {},
   "outputs": [
    {
     "name": "stdout",
     "output_type": "stream",
     "text": [
      "7\n",
      "0110100\n",
      "0110101\n",
      "1110101\n",
      "0000111\n",
      "0100000\n",
      "0111110\n",
      "0111000\n",
      "3\n",
      "7\n",
      "8\n",
      "9\n"
     ]
    }
   ],
   "source": [
    "N = int(input())\n",
    "building = []\n",
    "for n in range(N):\n",
    "    building.append(list(map(int, list(input()))))\n",
    "\n",
    "visited = [[0]*N for i in range(N)]\n",
    "complex_count = []\n",
    "\n",
    "def find_complex(i, j):\n",
    "    visited[i][j] = 1\n",
    "    complex_count[-1] += 1\n",
    "    if i!=0 and building[i-1][j] ==1 and visited[i-1][j] == 0:#상\n",
    "        find_complex(i-1,j)\n",
    "    if i!=N-1 and building[i+1][j] ==1 and visited[i+1][j] == 0:#하\n",
    "        find_complex(i+1,j)\n",
    "    if j!=0 and building[i][j-1] ==1 and visited[i][j-1] == 0:#좌\n",
    "        find_complex(i,j-1)\n",
    "    if j!=N-1 and building[i][j+1] ==1 and visited[i][j+1] == 0:#우\n",
    "        find_complex(i,j+1)\n",
    "\n",
    "for i in range(N):\n",
    "    for j in range(N):\n",
    "        if building[i][j] == 1 and visited[i][j] == 0:\n",
    "            complex_count.append(0)\n",
    "            find_complex(i, j)\n",
    "            \n",
    "complex_count.sort()\n",
    "count = len(complex_count)\n",
    "print(count)\n",
    "for i in range(count):\n",
    "    print(complex_count[i])"
   ]
  },
  {
   "cell_type": "markdown",
   "metadata": {},
   "source": [
    "## 1012번: 유기농 배추"
   ]
  },
  {
   "cell_type": "code",
   "execution_count": 14,
   "metadata": {},
   "outputs": [
    {
     "name": "stdout",
     "output_type": "stream",
     "text": [
      "1\n",
      "5 3 6\n",
      "0 2\n",
      "1 2\n",
      "2 2\n",
      "3 2\n",
      "4 2\n",
      "4 0\n",
      "2\n"
     ]
    }
   ],
   "source": [
    "import sys\n",
    "sys.setrecursionlimit(100000) #재귀 깊이 미설정시 RecursionError 발생\n",
    "\n",
    "def find_adjacency(i, j):\n",
    "    visited[i][j] = 1\n",
    "    if i!=0 and field[i-1][j] == 1 and visited[i-1][j] == 0:#상\n",
    "        find_adjacency(i-1, j)\n",
    "    if i!=N-1 and field[i+1][j] == 1 and visited[i+1][j] == 0:#하\n",
    "        find_adjacency(i+1, j)\n",
    "    if j!=0 and field[i][j-1] == 1 and visited[i][j-1] == 0:#좌\n",
    "        find_adjacency(i, j-1)\n",
    "    if j!=M-1 and field[i][j+1] == 1 and visited[i][j+1] == 0:#우\n",
    "        find_adjacency(i, j+1)\n",
    "\n",
    "T = int(input())\n",
    "for t in range(T):\n",
    "    M, N, K = map(int, input().split()) #가로, 세로, 개수\n",
    "    field = [[0]*M for i in range(N)]\n",
    "    for k in range(K):\n",
    "        x, y = map(int, input().split())\n",
    "        field[y][x] = 1\n",
    "\n",
    "    visited = [[0]*M for i in range(N)]\n",
    "    count = 0\n",
    "\n",
    "    for i in range(N):\n",
    "        for j in range(M):\n",
    "            if visited[i][j] == 0 and field[i][j] == 1:\n",
    "                find_adjacency(i, j)\n",
    "                count += 1\n",
    "\n",
    "    print(count)"
   ]
  },
  {
   "cell_type": "markdown",
   "metadata": {},
   "source": [
    "## 2178번: 미로 탐색"
   ]
  },
  {
   "cell_type": "code",
   "execution_count": 18,
   "metadata": {},
   "outputs": [
    {
     "name": "stdout",
     "output_type": "stream",
     "text": [
      "7 7\n",
      "1011111\n",
      "1110001\n",
      "1000001\n",
      "1000001\n",
      "1000001\n",
      "1000001\n",
      "1111111\n",
      "13\n"
     ]
    }
   ],
   "source": [
    "N, M = map(int, input().split())\n",
    "maze = []\n",
    "for n in range(N):\n",
    "    maze.append(list(map(int, list(input()))))\n",
    "    \n",
    "queue = []\n",
    "maze_count = [[0]*M for i in range(N)]\n",
    "queue.append([N-1, M-1])\n",
    "maze_count[N-1][M-1] = 1\n",
    "\n",
    "while queue:\n",
    "    i = queue[0][0]\n",
    "    j = queue[0][1]\n",
    "    queue.pop(0)\n",
    "    \n",
    "    if i!=0 and maze[i-1][j]==1 and maze_count[i-1][j] == 0:#상\n",
    "        maze_count[i-1][j] = maze_count[i][j] + 1\n",
    "        queue.append([i-1, j])\n",
    "    if i!=N-1 and maze[i+1][j]==1 and maze_count[i+1][j] == 0:#하\n",
    "        maze_count[i+1][j] = maze_count[i][j] + 1\n",
    "        queue.append([i+1, j])\n",
    "    if j!=0 and maze[i][j-1]==1 and maze_count[i][j-1] == 0:#좌\n",
    "        maze_count[i][j-1] = maze_count[i][j] + 1\n",
    "        queue.append([i, j-1])\n",
    "    if j!=M-1 and maze[i][j+1]==1 and maze_count[i][j+1] == 0:#우\n",
    "        maze_count[i][j+1] = maze_count[i][j] + 1\n",
    "        queue.append([i, j+1])\n",
    "        \n",
    "print(maze_count[0][0])"
   ]
  },
  {
   "cell_type": "markdown",
   "metadata": {},
   "source": [
    "## 7576번: 토마토"
   ]
  },
  {
   "cell_type": "code",
   "execution_count": 53,
   "metadata": {},
   "outputs": [
    {
     "name": "stdout",
     "output_type": "stream",
     "text": [
      "2 2\n",
      "1 -1\n",
      "-1 1\n",
      "0\n"
     ]
    }
   ],
   "source": [
    "import sys #sys.stdin.readline().rstrip()\n",
    "from collections import deque\n",
    "\n",
    "M, N = map(int, input().split())\n",
    "tomato = []\n",
    "for n in range(N):\n",
    "    tomato.append(list(map(int, input().split())))\n",
    "    \n",
    "queue = deque()\n",
    "for i in range(N):\n",
    "    for j in range(M):\n",
    "        if tomato[i][j] == 1:\n",
    "            queue.append([i, j])\n",
    "\n",
    "while queue:\n",
    "    i = queue[0][0]\n",
    "    j = queue[0][1]\n",
    "    queue.popleft()\n",
    "    \n",
    "    if i!=0 and tomato[i-1][j] == 0:#상\n",
    "        tomato[i-1][j] = tomato[i][j] + 1\n",
    "        queue.append([i-1, j])\n",
    "    if i!=N-1 and tomato[i+1][j] == 0:#하\n",
    "        tomato[i+1][j] = tomato[i][j] + 1\n",
    "        queue.append([i+1, j])\n",
    "    if j!=0 and tomato[i][j-1] == 0:#좌\n",
    "        tomato[i][j-1] = tomato[i][j] + 1\n",
    "        queue.append([i, j-1])\n",
    "    if j!=M-1 and tomato[i][j+1] == 0:#우\n",
    "        tomato[i][j+1] = tomato[i][j] + 1\n",
    "        queue.append([i, j+1])\n",
    "        \n",
    "max_value = 0\n",
    "for i in range(N):\n",
    "    max_value = max(max(tomato[i]), max_value)\n",
    "    if 0 in tomato[i]:\n",
    "        max_value = 0\n",
    "        break\n",
    "\n",
    "print(max_value-1)"
   ]
  },
  {
   "cell_type": "markdown",
   "metadata": {},
   "source": [
    "## 7569번: 토마토"
   ]
  },
  {
   "cell_type": "code",
   "execution_count": 8,
   "metadata": {},
   "outputs": [
    {
     "name": "stdout",
     "output_type": "stream",
     "text": [
      "4 3 2\n",
      "1 1 1 1\n",
      "1 1 1 1\n",
      "1 1 1 1\n",
      "1 1 1 1\n",
      "-1 -1 -1 -1\n",
      "1 1 1 -1\n",
      "0\n"
     ]
    }
   ],
   "source": [
    "import sys #sys.stdin.readline().rstrip()\n",
    "from collections import deque\n",
    "\n",
    "M, N, H = map(int, sys.stdin.readline().rstrip().split())\n",
    "tomato = []\n",
    "for h in range(H):\n",
    "    temp = []\n",
    "    for n in range(N):\n",
    "        temp.append(list(map(int, sys.stdin.readline().rstrip().split())))\n",
    "    tomato.append(temp)\n",
    "\n",
    "queue = deque()\n",
    "for i in range(H):\n",
    "    for j in range(N):\n",
    "        for k in range(M):\n",
    "            if tomato[i][j][k] == 1:\n",
    "                queue.append([i, j, k])\n",
    "\n",
    "while queue:\n",
    "    i = queue[0][0]\n",
    "    j = queue[0][1]\n",
    "    k = queue[0][2]\n",
    "    queue.popleft()\n",
    "    \n",
    "    if i!=H-1 and tomato[i+1][j][k] == 0:#위\n",
    "        tomato[i+1][j][k] = tomato[i][j][k] + 1\n",
    "        queue.append([i+1, j, k])\n",
    "    if i!=0 and tomato[i-1][j][k] == 0:#아래\n",
    "        tomato[i-1][j][k] = tomato[i][j][k] + 1\n",
    "        queue.append([i-1, j, k])\n",
    "    if j!=N-1 and tomato[i][j+1][k] == 0:#뒤\n",
    "        tomato[i][j+1][k] = tomato[i][j][k] + 1\n",
    "        queue.append([i, j+1, k])\n",
    "    if j!=0 and tomato[i][j-1][k] == 0:#앞\n",
    "        tomato[i][j-1][k] = tomato[i][j][k] + 1\n",
    "        queue.append([i, j-1, k])\n",
    "    if k!=M-1 and tomato[i][j][k+1] == 0:#오른쪽\n",
    "        tomato[i][j][k+1] = tomato[i][j][k] + 1\n",
    "        queue.append([i, j, k+1])\n",
    "    if k!=0 and tomato[i][j][k-1] == 0:#왼쪽\n",
    "        tomato[i][j][k-1] = tomato[i][j][k] + 1\n",
    "        queue.append([i, j, k-1])\n",
    "    \n",
    "        \n",
    "max_value = 0\n",
    "for i in range(H):\n",
    "    for j in range(N):\n",
    "        max_value = max(max(tomato[i][j]), max_value)\n",
    "        if 0 in tomato[i][j]:\n",
    "            max_value = 0\n",
    "            break\n",
    "    if max_value == 0:\n",
    "        break\n",
    "\n",
    "print(max_value-1)"
   ]
  }
 ],
 "metadata": {
  "kernelspec": {
   "display_name": "Python 3",
   "language": "python",
   "name": "python3"
  },
  "language_info": {
   "codemirror_mode": {
    "name": "ipython",
    "version": 3
   },
   "file_extension": ".py",
   "mimetype": "text/x-python",
   "name": "python",
   "nbconvert_exporter": "python",
   "pygments_lexer": "ipython3",
   "version": "3.8.3"
  }
 },
 "nbformat": 4,
 "nbformat_minor": 4
}
