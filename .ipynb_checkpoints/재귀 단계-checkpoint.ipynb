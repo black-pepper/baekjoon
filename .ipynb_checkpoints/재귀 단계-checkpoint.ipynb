{
 "cells": [
  {
   "cell_type": "markdown",
   "metadata": {},
   "source": [
    "## 10872번: 팩토리얼"
   ]
  },
  {
   "cell_type": "code",
   "execution_count": 6,
   "metadata": {},
   "outputs": [
    {
     "name": "stdout",
     "output_type": "stream",
     "text": [
      "10\n",
      "3628800\n"
     ]
    }
   ],
   "source": [
    "def Factorial(N):\n",
    "    if N == 0 : return 1\n",
    "    if N == 1 : return 1\n",
    "    return N * Factorial(N-1)\n",
    "\n",
    "N = int(input())\n",
    "print(Factorial(N))"
   ]
  },
  {
   "cell_type": "markdown",
   "metadata": {},
   "source": [
    "## 10870번: 피보나치 수 5"
   ]
  },
  {
   "cell_type": "code",
   "execution_count": 7,
   "metadata": {},
   "outputs": [
    {
     "name": "stdout",
     "output_type": "stream",
     "text": [
      "10\n",
      "55\n"
     ]
    }
   ],
   "source": [
    "def Fibonacci(n):\n",
    "    if n == 0 : return 0\n",
    "    if n == 1 : return 1\n",
    "    return Fibonacci(n-1) + Fibonacci(n-2)\n",
    "\n",
    "n = int(input())\n",
    "print(Fibonacci(n))"
   ]
  },
  {
   "cell_type": "markdown",
   "metadata": {},
   "source": [
    "## 2447번: 별 찍기 - 10 (미완성)"
   ]
  },
  {
   "cell_type": "code",
   "execution_count": 5,
   "metadata": {},
   "outputs": [
    {
     "name": "stdout",
     "output_type": "stream",
     "text": [
      "3\n",
      "** \n",
      "   \n",
      "   \n"
     ]
    }
   ],
   "source": [
    "N = int(input())\n",
    "\n",
    "arr = []\n",
    "for i in range(N+1):\n",
    "    arr.append([])\n",
    "    for j in range(N+1):\n",
    "        arr[i].append(' ')\n",
    "\n",
    "def Star(x1, y1, x2, y2):\n",
    "    if x1 == x2 and y1 == y2 : \n",
    "        arr[y1][x1]='*'\n",
    "        return\n",
    "    else:\n",
    "        #첫번째\n",
    "        Star(x1, y1, (x2-x1+1)/3, (y2-y1+1)/3)\n",
    "        #두번째\n",
    "        Star(int((x2-x1+1)/3+1), y1, int((x2-x1+1)/3*2) ,int((y2-y1+1)/3))\n",
    "        #세번째\n",
    "        #네번째\n",
    "        #여섯번째\n",
    "        #일곱번째\n",
    "        #여덟번째\n",
    "        #어홉번째\n",
    "        return\n",
    "\n",
    "Star(1, 1, N, N)\n",
    "for i in range(1, N+1):\n",
    "    for j in range(1, N+1):\n",
    "        print(arr[i][j],end='')\n",
    "    print()"
   ]
  }
 ],
 "metadata": {
  "kernelspec": {
   "display_name": "Python 3",
   "language": "python",
   "name": "python3"
  },
  "language_info": {
   "codemirror_mode": {
    "name": "ipython",
    "version": 3
   },
   "file_extension": ".py",
   "mimetype": "text/x-python",
   "name": "python",
   "nbconvert_exporter": "python",
   "pygments_lexer": "ipython3",
   "version": "3.8.3"
  }
 },
 "nbformat": 4,
 "nbformat_minor": 4
}
