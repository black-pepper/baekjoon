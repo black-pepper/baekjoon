{
 "cells": [
  {
   "cell_type": "markdown",
   "metadata": {},
   "source": [
    "## 2630번: 색종이 만들기"
   ]
  },
  {
   "cell_type": "code",
   "execution_count": 12,
   "metadata": {},
   "outputs": [
    {
     "name": "stdout",
     "output_type": "stream",
     "text": [
      "8\n",
      "1 1 0 0 0 0 1 1\n",
      "1 1 0 0 0 0 1 1\n",
      "0 0 0 0 1 1 0 0\n",
      "0 0 0 0 1 1 0 0\n",
      "1 0 0 0 1 1 1 1\n",
      "0 1 0 0 1 1 1 1\n",
      "0 0 1 1 1 1 1 1\n",
      "0 0 1 1 1 1 1 1\n",
      "9\n",
      "7\n"
     ]
    }
   ],
   "source": [
    "N = int(input())\n",
    "white_paper = 0\n",
    "blue_paper = 0\n",
    "arr = []\n",
    "for n in range(N):\n",
    "    arr.append(list(map(int, input().split())))\n",
    "    \n",
    "def QuadTree(start_x, start_y, size):\n",
    "    global white_paper, blue_paper\n",
    "    \n",
    "    #범위 내 숫자가 모두 같은지 확인\n",
    "    QT_check = 1\n",
    "    for y in range(size):\n",
    "        for x in range(size):\n",
    "            if arr[start_y + y][start_x + x] != arr[start_y][start_x]:\n",
    "                QT_check = 0\n",
    "                break\n",
    "        if QT_check == 0:\n",
    "            break\n",
    "    \n",
    "    #같으면 색종이 개수에 더하기\n",
    "    if QT_check == 1:\n",
    "        if arr[start_y][start_x] == 0:\n",
    "            white_paper += 1\n",
    "        else:\n",
    "            blue_paper += 1\n",
    "    #다르면 4개로 나누기\n",
    "    else:\n",
    "        half_size = size//2\n",
    "        QuadTree(start_x, start_y, half_size)\n",
    "        QuadTree(start_x + half_size , start_y, half_size)\n",
    "        QuadTree(start_x, start_y + half_size, half_size)\n",
    "        QuadTree(start_x + half_size, start_y + half_size, half_size)\n",
    "        \n",
    "QuadTree(0, 0, N)\n",
    "print(white_paper)\n",
    "print(blue_paper)"
   ]
  },
  {
   "cell_type": "markdown",
   "metadata": {},
   "source": [
    "## 1992번: 쿼드트리"
   ]
  },
  {
   "cell_type": "code",
   "execution_count": 27,
   "metadata": {},
   "outputs": [
    {
     "name": "stdout",
     "output_type": "stream",
     "text": [
      "8\n",
      "11110000\n",
      "11110000\n",
      "00011100\n",
      "00011100\n",
      "11110000\n",
      "11110000\n",
      "11110011\n",
      "11110011\n",
      "((110(0101))(0010)1(0001))"
     ]
    }
   ],
   "source": [
    "N = int(input())\n",
    "arr = []\n",
    "for n in range(N):\n",
    "    arr.append(list(map(int, list(input()))))\n",
    "    \n",
    "def QuadTree(start_x, start_y, size):\n",
    "    #같은지 확인\n",
    "    QT_check = 1\n",
    "    for y in range(size):\n",
    "        for x in range(size):\n",
    "            if arr[y+start_y][x+start_x] != arr[start_y][start_x]:\n",
    "                QT_check = 0\n",
    "                break\n",
    "        if QT_check == 0:\n",
    "            break\n",
    "                \n",
    "    #같으면 출력\n",
    "    if QT_check == 1:\n",
    "        print(arr[start_y][start_x], end='')\n",
    "    #다르면 나누기\n",
    "    else:\n",
    "        half_size = size//2\n",
    "        print('(',end='')\n",
    "        QuadTree(start_x,start_y,half_size)\n",
    "        QuadTree(start_x+half_size,start_y,half_size)\n",
    "        QuadTree(start_x,start_y+half_size,half_size)\n",
    "        QuadTree(start_x+half_size,start_y+half_size,half_size)\n",
    "        print(')',end='')\n",
    "    \n",
    "QuadTree(0,0,N)"
   ]
  }
 ],
 "metadata": {
  "kernelspec": {
   "display_name": "Python 3",
   "language": "python",
   "name": "python3"
  },
  "language_info": {
   "codemirror_mode": {
    "name": "ipython",
    "version": 3
   },
   "file_extension": ".py",
   "mimetype": "text/x-python",
   "name": "python",
   "nbconvert_exporter": "python",
   "pygments_lexer": "ipython3",
   "version": "3.8.3"
  }
 },
 "nbformat": 4,
 "nbformat_minor": 4
}
