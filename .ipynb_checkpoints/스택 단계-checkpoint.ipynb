{
 "cells": [
  {
   "cell_type": "markdown",
   "metadata": {},
   "source": [
    "## 10828번: 스택"
   ]
  },
  {
   "cell_type": "code",
   "execution_count": 5,
   "metadata": {},
   "outputs": [
    {
     "name": "stdout",
     "output_type": "stream",
     "text": [
      "7\n",
      "pop\n",
      "-1\n",
      "top\n",
      "-1\n",
      "push 123\n",
      "top\n",
      "123\n",
      "pop\n",
      "123\n",
      "top\n",
      "-1\n",
      "pop\n",
      "-1\n"
     ]
    }
   ],
   "source": [
    "import sys\n",
    "n = int(sys.stdin.readline().rstrip())\n",
    "stack = []\n",
    "stack.append(-1)\n",
    "\n",
    "for i in range(n):\n",
    "    command = sys.stdin.readline().rstrip()\n",
    "    if 'push' in command:\n",
    "        push, num = command.split()\n",
    "        stack.append(num)\n",
    "    elif 'pop' in command:\n",
    "        if len(stack)>1:\n",
    "            print(stack.pop(-1))\n",
    "        else:\n",
    "            print(stack[0])\n",
    "    elif 'size' in command:\n",
    "        print(len(stack)-1)\n",
    "    elif 'empty' in command:\n",
    "        print(int(len(stack)==1))\n",
    "    elif 'top' in command:\n",
    "        print(stack[-1])"
   ]
  }
 ],
 "metadata": {
  "kernelspec": {
   "display_name": "Python 3",
   "language": "python",
   "name": "python3"
  },
  "language_info": {
   "codemirror_mode": {
    "name": "ipython",
    "version": 3
   },
   "file_extension": ".py",
   "mimetype": "text/x-python",
   "name": "python",
   "nbconvert_exporter": "python",
   "pygments_lexer": "ipython3",
   "version": "3.8.3"
  }
 },
 "nbformat": 4,
 "nbformat_minor": 4
}
