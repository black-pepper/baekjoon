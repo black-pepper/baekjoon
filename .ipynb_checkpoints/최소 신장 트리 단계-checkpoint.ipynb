{
 "cells": [
  {
   "cell_type": "markdown",
   "metadata": {},
   "source": [
    "## 9372번: 상근이의 여행"
   ]
  },
  {
   "cell_type": "code",
   "execution_count": 23,
   "metadata": {},
   "outputs": [
    {
     "name": "stdout",
     "output_type": "stream",
     "text": [
      "2\n",
      "3 3\n",
      "1 2\n",
      "2 3\n",
      "1 3\n",
      "2\n",
      "5 4\n",
      "2 1\n",
      "2 3\n",
      "4 3\n",
      "4 5\n",
      "4\n"
     ]
    }
   ],
   "source": [
    "import sys\n",
    "#input = sys.stdin.readline\n",
    "\n",
    "T = int(input())\n",
    "for _ in range(T):\n",
    "    N, M = map(int, input().split())\n",
    "    for i in range(M):\n",
    "        a, b = map(int, input().split())\n",
    "    print(N-1)"
   ]
  },
  {
   "cell_type": "markdown",
   "metadata": {},
   "source": [
    "##  1197번: 최소 스패닝 트리"
   ]
  },
  {
   "cell_type": "code",
   "execution_count": 11,
   "metadata": {},
   "outputs": [
    {
     "name": "stdout",
     "output_type": "stream",
     "text": [
      "3 3\n",
      "1 2 1\n",
      "2 3 2\n",
      "1 3 3\n",
      "3\n"
     ]
    }
   ],
   "source": [
    "import sys\n",
    "import heapq\n",
    "#input = sys.stdin.readline\n",
    "#sys.setrecursionlimit(100000)\n",
    "\n",
    "heap = []\n",
    "V, E = map(int, input().split())\n",
    "for e in range(E):\n",
    "    A, B, C = map(int, input().split())\n",
    "    heapq.heappush(heap, [C, A, B])\n",
    "    \n",
    "#사이클 검출 (유니온 파인드)\n",
    "root = [i for i in range(V+1)] \n",
    "def find_root(target):\n",
    "    if root[target] == target:\n",
    "        return target\n",
    "    root[target] = find_root(root[target])\n",
    "    return root[target]\n",
    "def union(a, b):\n",
    "    a = find_root(a)\n",
    "    b = find_root(b)\n",
    "    if a == b: return False\n",
    "    if a < b:\n",
    "        root[b] = a\n",
    "    else:\n",
    "        root[a] = b\n",
    "    return True\n",
    "    \n",
    "#크루스칼 알고리즘\n",
    "weight = 0\n",
    "count = 0 #연결된 간선 수\n",
    "while heap and count != V-1:\n",
    "    w, a, b = heapq.heappop(heap)\n",
    "    if union(a, b):\n",
    "        weight += w\n",
    "        count += 1\n",
    "    \n",
    "print(weight)"
   ]
  },
  {
   "cell_type": "markdown",
   "metadata": {},
   "source": [
    "## 4386번: 별자리 만들기"
   ]
  },
  {
   "cell_type": "code",
   "execution_count": 19,
   "metadata": {},
   "outputs": [
    {
     "name": "stdout",
     "output_type": "stream",
     "text": [
      "3\n",
      "1.0 1.0\n",
      "2.0 2.0\n",
      "2.0 4.0\n",
      "3.414213562373095\n"
     ]
    }
   ],
   "source": [
    "import sys\n",
    "import math\n",
    "import heapq\n",
    "#input = sys.stdin.readline\n",
    "#sys.setrecursionlimit(100000)\n",
    "\n",
    "n = int(input())\n",
    "star = []\n",
    "for _ in range(n):\n",
    "    star.append(list(map(float, input().split())))\n",
    "\n",
    "heap = []\n",
    "def find_distance(x1, y1, x2, y2):\n",
    "    return math.sqrt(abs(x1-x2)**2 + abs(y1-y2)**2)\n",
    "\n",
    "for i in range(n):\n",
    "    for j in range(i+1, n):\n",
    "        heapq.heappush(heap, [find_distance(star[i][0],star[i][1],star[j][0],star[j][1]), i, j])\n",
    "\n",
    "#유니온 파인드\n",
    "root = [i for i in range(n)] \n",
    "def find_root(target):\n",
    "    if root[target] == target:\n",
    "        return target\n",
    "    root[target] = find_root(root[target])\n",
    "    return root[target]\n",
    "        \n",
    "def union(a, b):\n",
    "    a = find_root(a)\n",
    "    b = find_root(b)\n",
    "    if a == b: return False\n",
    "    if a < b:\n",
    "        root[b] = a\n",
    "    else:\n",
    "        root[a] = b\n",
    "    return True\n",
    "    \n",
    "#크루스칼\n",
    "distance = 0\n",
    "count = 0\n",
    "while heap and count != n-1:\n",
    "    d, a, b = heapq.heappop(heap)\n",
    "    if union(a, b):\n",
    "        distance += d\n",
    "        count += 1\n",
    "        \n",
    "print(distance)"
   ]
  },
  {
   "cell_type": "markdown",
   "metadata": {},
   "source": [
    "## 1774번: 우주신과의 교감"
   ]
  },
  {
   "cell_type": "code",
   "execution_count": 19,
   "metadata": {},
   "outputs": [
    {
     "name": "stdout",
     "output_type": "stream",
     "text": [
      "4 1\n",
      "1 1\n",
      "3 1\n",
      "2 3\n",
      "4 3\n",
      "1 4\n",
      "4.00\n"
     ]
    }
   ],
   "source": [
    "import sys\n",
    "import math\n",
    "import heapq\n",
    "#input = sys.stdin.readline\n",
    "#sys.setrecursionlimit(100000)\n",
    "\n",
    "n, m = map(int, input().split())\n",
    "star = [0]\n",
    "for _ in range(n):\n",
    "    star.append(list(map(float, input().split())))\n",
    "\n",
    "heap = []\n",
    "def find_distance(x1, y1, x2, y2):\n",
    "    return math.sqrt(abs(x1-x2)**2 + abs(y1-y2)**2)\n",
    "\n",
    "for i in range(1, n+1):\n",
    "    for j in range(i+1, n+1):\n",
    "        heapq.heappush(heap, [find_distance(star[i][0],star[i][1],star[j][0],star[j][1]), i, j])\n",
    "        \n",
    "#유니온 파인드\n",
    "root = [i for i in range(n+1)] \n",
    "def find_root(target):\n",
    "    if root[target] == target:\n",
    "        return target\n",
    "    root[target] = find_root(root[target])\n",
    "    return root[target]\n",
    "        \n",
    "def union(a, b):\n",
    "    a = find_root(a)\n",
    "    b = find_root(b)\n",
    "    if a == b: return False\n",
    "    if a < b:\n",
    "        root[b] = a\n",
    "    else:\n",
    "        root[a] = b\n",
    "    return True\n",
    "    \n",
    "    \n",
    "distance = 0\n",
    "for i in range(m):\n",
    "    a, b = map(int, input().split())\n",
    "    union(a, b)\n",
    "    \n",
    "#크루스칼\n",
    "while heap:\n",
    "    d, a, b = heapq.heappop(heap)\n",
    "    if union(a, b):\n",
    "        distance += d\n",
    "        \n",
    "print(\"%0.2f\"%distance)"
   ]
  },
  {
   "cell_type": "markdown",
   "metadata": {},
   "source": [
    "## 2887번: 행성 터널"
   ]
  },
  {
   "cell_type": "code",
   "execution_count": 6,
   "metadata": {},
   "outputs": [
    {
     "name": "stdout",
     "output_type": "stream",
     "text": [
      "5\n",
      "11 -15 -15\n",
      "14 -5 -15\n",
      "-1 -1 -5\n",
      "10 -4 -1\n",
      "19 -4 19\n",
      "4\n"
     ]
    }
   ],
   "source": [
    "import sys\n",
    "import heapq\n",
    "#input = sys.stdin.readline\n",
    "#sys.setrecursionlimit(100000)\n",
    "\n",
    "N = int(input())\n",
    "planet_x = []\n",
    "planet_y = []\n",
    "planet_z = []\n",
    "for i in range(N):\n",
    "    x, y, z= map(int, input().split())\n",
    "    planet_x.append([x, i])\n",
    "    planet_y.append([y, i])\n",
    "    planet_z.append([z, i])\n",
    "    \n",
    "planet_x.sort()\n",
    "planet_y.sort()\n",
    "planet_z.sort()\n",
    "\n",
    "heap = []\n",
    "for i in range(N-1):\n",
    "    heapq.heappush(heap,[abs(planet_x[i+1][0]-planet_x[i][0]), planet_x[i+1][1], planet_x[i][1]])\n",
    "    heapq.heappush(heap,[abs(planet_y[i+1][0]-planet_y[i][0]), planet_y[i+1][1], planet_y[i][1]])\n",
    "    heapq.heappush(heap,[abs(planet_z[i+1][0]-planet_z[i][0]), planet_z[i+1][1], planet_z[i][1]])\n",
    "\n",
    "#유니온 파인드\n",
    "root = [i for i in range(N)]\n",
    "def find_root(target):\n",
    "    if root[target] == target:\n",
    "        return target\n",
    "    root[target] = find_root(root[target])\n",
    "    return root[target]\n",
    "    \n",
    "def union(a, b):\n",
    "    a = find_root(a)\n",
    "    b = find_root(b)\n",
    "    if a == b:\n",
    "        return False\n",
    "    if a < b:\n",
    "        root[b] = a\n",
    "    else:\n",
    "        root[a] = b\n",
    "    return True\n",
    "    \n",
    "#크루스칼\n",
    "cost = 0\n",
    "count = 0\n",
    "while heap and count != N-1:\n",
    "    c, a, b = heapq.heappop(heap)\n",
    "    if union(a, b):\n",
    "        cost += c\n",
    "        count += 1\n",
    "        \n",
    "print(cost)"
   ]
  },
  {
   "cell_type": "markdown",
   "metadata": {},
   "source": [
    "## 17472번: 다리 만들기 2 (미완성)"
   ]
  },
  {
   "cell_type": "code",
   "execution_count": 83,
   "metadata": {},
   "outputs": [
    {
     "name": "stdout",
     "output_type": "stream",
     "text": [
      "7 7\n",
      "1 1 1 0 1 1 1\n",
      "1 1 1 0 1 1 1\n",
      "1 1 1 0 1 1 1\n",
      "0 0 0 0 0 0 0\n",
      "1 1 1 0 1 1 1\n",
      "1 1 1 0 1 1 1\n",
      "1 1 1 0 1 1 1\n",
      "-1\n"
     ]
    }
   ],
   "source": [
    "import sys\n",
    "#input = sys.stdin.readline\n",
    "#sys.setrecursionlimit(100000)\n",
    "\n",
    "N, M = map(int, input().split())\n",
    "maps = []\n",
    "for i in range(N):\n",
    "    maps.append(list(map(int, input().split())))\n",
    "\n",
    "#정점 찾기\n",
    "from collections import deque\n",
    "number = 2\n",
    "def BFS(i, j):\n",
    "    global number\n",
    "    queue = deque()\n",
    "    queue.append([i, j])\n",
    "    while queue:\n",
    "        i, j = queue.popleft()\n",
    "        maps[i][j] = number\n",
    "        if i > 0 and maps[i-1][j] == 1:#위\n",
    "            queue.append([i-1, j])\n",
    "        if i+1 < N and maps[i+1][j] == 1:#아래\n",
    "            queue.append([i+1, j])\n",
    "        if j > 0 and maps[i][j-1] == 1:#왼쪽\n",
    "            queue.append([i, j-1])\n",
    "        if j+1 < M and maps[i][j+1] == 1:#오른쪽\n",
    "            queue.append([i, j+1])\n",
    "    number += 1\n",
    "    \n",
    "for i in range(N):\n",
    "    for j in range(M):\n",
    "        if maps[i][j] == 1:\n",
    "            BFS(i, j)\n",
    "number -= 1\n",
    "            \n",
    "#간선 찾기\n",
    "edge = [[100]*(number+1) for i in range(number+1)]\n",
    "start = 0\n",
    "count = 0\n",
    "for i in range(N):\n",
    "    for j in range(M):\n",
    "        if maps[i][j] != 0 and start == 0: #출발지점\n",
    "            start = maps[i][j]\n",
    "        elif maps[i][j] == 0 and start != 0:\n",
    "            count += 1\n",
    "        elif maps[i][j] != 0 and maps[i][j] != start and start != 0: #도착지점\n",
    "            if count != 1:\n",
    "                if start < maps[i][j]:\n",
    "                    edge[start][maps[i][j]] = min(edge[start][maps[i][j]], count)\n",
    "                else:\n",
    "                    edge[maps[i][j]][start] = min(edge[start][maps[i][j]], count)\n",
    "            start = maps[i][j]\n",
    "            count = 0\n",
    "    start = 0\n",
    "    count = 0\n",
    "    \n",
    "for i in range(M):\n",
    "    for j in range(N):\n",
    "        if maps[j][i] != 0 and start == 0: #출발지점\n",
    "            start = maps[j][i]\n",
    "        elif maps[j][i] == 0 and start != 0:\n",
    "            count += 1\n",
    "        elif maps[j][i] != 0 and maps[j][i] != start and start != 0: #도착지점\n",
    "            if count != 1:\n",
    "                if start < maps[j][i]:\n",
    "                    edge[start][maps[j][i]] = min(edge[start][maps[j][i]], count)\n",
    "                else:\n",
    "                    edge[maps[j][i]][start] = min(edge[start][maps[j][i]], count)\n",
    "            start = maps[j][i]\n",
    "            count = 0\n",
    "    start = 0\n",
    "    count = 0\n",
    "\n",
    "#다리 연결하기\n",
    "import heapq\n",
    "heap = []\n",
    "for i in range(number+1):\n",
    "    for j in range(number+1):\n",
    "        if 100 > edge[i][j]:\n",
    "            heapq.heappush(heap, [edge[i][j], i, j])\n",
    "            \n",
    "#유니온 파인드\n",
    "root = [i for i in range(number+1)] \n",
    "def find_root(target):\n",
    "    if root[target] == target:\n",
    "        return target\n",
    "    root[target] = find_root(root[target])\n",
    "    return root[target]\n",
    "def union(i, j):\n",
    "    i = find_root(i)\n",
    "    j = find_root(j)\n",
    "    if i == j:\n",
    "        return False\n",
    "    if i < j:\n",
    "        root[j] = i\n",
    "    else:\n",
    "        root[i] = j\n",
    "    return True\n",
    "\n",
    "count = 0\n",
    "distance = 0\n",
    "while heap and count != number-2 :\n",
    "    d, i, j = heapq.heappop(heap)\n",
    "    if union(i, j):\n",
    "        distance += d\n",
    "        count += 1\n",
    "        \n",
    "check = 0\n",
    "for i in range(2, number-1):\n",
    "    if find_root(i) != find_root(i+1):\n",
    "        check = 1\n",
    "\n",
    "if not heap and check == 1:\n",
    "    print(-1)\n",
    "else:\n",
    "    print(distance)"
   ]
  },
  {
   "cell_type": "code",
   "execution_count": 75,
   "metadata": {},
   "outputs": [
    {
     "data": {
      "text/plain": [
       "[0, 1, 2, 3, 2, 4]"
      ]
     },
     "execution_count": 75,
     "metadata": {},
     "output_type": "execute_result"
    }
   ],
   "source": [
    "root"
   ]
  },
  {
   "cell_type": "code",
   "execution_count": 76,
   "metadata": {},
   "outputs": [
    {
     "data": {
      "text/plain": [
       "[[0, 0, 0, 2, 2, 0, 0, 0],\n",
       " [0, 0, 0, 2, 2, 0, 0, 0],\n",
       " [3, 3, 0, 0, 0, 0, 4, 4],\n",
       " [3, 3, 0, 0, 0, 0, 4, 4],\n",
       " [3, 3, 0, 0, 0, 0, 0, 0],\n",
       " [0, 0, 0, 0, 0, 0, 0, 0],\n",
       " [5, 5, 5, 5, 5, 5, 5, 5]]"
      ]
     },
     "execution_count": 76,
     "metadata": {},
     "output_type": "execute_result"
    }
   ],
   "source": [
    "maps"
   ]
  },
  {
   "cell_type": "code",
   "execution_count": 77,
   "metadata": {},
   "outputs": [
    {
     "data": {
      "text/plain": [
       "[[100, 100, 100, 100, 100, 100],\n",
       " [100, 100, 100, 100, 100, 100],\n",
       " [100, 100, 100, 100, 100, 4],\n",
       " [100, 100, 100, 100, 4, 100],\n",
       " [100, 100, 100, 100, 100, 2],\n",
       " [100, 100, 100, 100, 100, 100]]"
      ]
     },
     "execution_count": 77,
     "metadata": {},
     "output_type": "execute_result"
    }
   ],
   "source": [
    "edge"
   ]
  },
  {
   "cell_type": "code",
   "execution_count": 78,
   "metadata": {},
   "outputs": [
    {
     "data": {
      "text/plain": [
       "[[4, 3, 4]]"
      ]
     },
     "execution_count": 78,
     "metadata": {},
     "output_type": "execute_result"
    }
   ],
   "source": [
    "heap"
   ]
  },
  {
   "cell_type": "code",
   "execution_count": 79,
   "metadata": {},
   "outputs": [
    {
     "data": {
      "text/plain": [
       "5"
      ]
     },
     "execution_count": 79,
     "metadata": {},
     "output_type": "execute_result"
    }
   ],
   "source": [
    "number"
   ]
  }
 ],
 "metadata": {
  "kernelspec": {
   "display_name": "Python 3",
   "language": "python",
   "name": "python3"
  },
  "language_info": {
   "codemirror_mode": {
    "name": "ipython",
    "version": 3
   },
   "file_extension": ".py",
   "mimetype": "text/x-python",
   "name": "python",
   "nbconvert_exporter": "python",
   "pygments_lexer": "ipython3",
   "version": "3.8.3"
  },
  "toc": {
   "base_numbering": 1,
   "nav_menu": {},
   "number_sections": true,
   "sideBar": true,
   "skip_h1_title": false,
   "title_cell": "Table of Contents",
   "title_sidebar": "Contents",
   "toc_cell": false,
   "toc_position": {},
   "toc_section_display": true,
   "toc_window_display": false
  },
  "varInspector": {
   "cols": {
    "lenName": 16,
    "lenType": 16,
    "lenVar": 40
   },
   "kernels_config": {
    "python": {
     "delete_cmd_postfix": "",
     "delete_cmd_prefix": "del ",
     "library": "var_list.py",
     "varRefreshCmd": "print(var_dic_list())"
    },
    "r": {
     "delete_cmd_postfix": ") ",
     "delete_cmd_prefix": "rm(",
     "library": "var_list.r",
     "varRefreshCmd": "cat(var_dic_list()) "
    }
   },
   "types_to_exclude": [
    "module",
    "function",
    "builtin_function_or_method",
    "instance",
    "_Feature"
   ],
   "window_display": false
  }
 },
 "nbformat": 4,
 "nbformat_minor": 4
}
