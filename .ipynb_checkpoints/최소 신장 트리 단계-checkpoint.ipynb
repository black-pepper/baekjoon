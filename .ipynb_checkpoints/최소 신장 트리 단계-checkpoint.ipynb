{
 "cells": [
  {
   "cell_type": "markdown",
   "metadata": {},
   "source": [
    "##  1197번: 최소 스패닝 트리"
   ]
  },
  {
   "cell_type": "code",
   "execution_count": 11,
   "metadata": {},
   "outputs": [
    {
     "name": "stdout",
     "output_type": "stream",
     "text": [
      "3 3\n",
      "1 2 1\n",
      "2 3 2\n",
      "1 3 3\n",
      "3\n"
     ]
    }
   ],
   "source": [
    "import sys\n",
    "import heapq\n",
    "#input = sys.stdin.readline\n",
    "#sys.setrecursionlimit(100000)\n",
    "\n",
    "heap = []\n",
    "V, E = map(int, input().split())\n",
    "for e in range(E):\n",
    "    A, B, C = map(int, input().split())\n",
    "    heapq.heappush(heap, [C, A, B])\n",
    "    \n",
    "#사이클 검출 (유니온 파인드)\n",
    "root = [i for i in range(V+1)] \n",
    "def find_root(target):\n",
    "    if root[target] == target:\n",
    "        return target\n",
    "    root[target] = find_root(root[target])\n",
    "    return root[target]\n",
    "def union(a, b):\n",
    "    a = find_root(a)\n",
    "    b = find_root(b)\n",
    "    if a == b: return False\n",
    "    if a < b:\n",
    "        root[b] = a\n",
    "    else:\n",
    "        root[a] = b\n",
    "    return True\n",
    "    \n",
    "#크루스칼 알고리즘\n",
    "weight = 0\n",
    "count = 0 #연결된 간선 수\n",
    "while heap and count != V-1:\n",
    "    w, a, b = heapq.heappop(heap)\n",
    "    if union(a, b):\n",
    "        weight += w\n",
    "        count += 1\n",
    "    \n",
    "print(weight)"
   ]
  }
 ],
 "metadata": {
  "kernelspec": {
   "display_name": "Python 3",
   "language": "python",
   "name": "python3"
  },
  "language_info": {
   "codemirror_mode": {
    "name": "ipython",
    "version": 3
   },
   "file_extension": ".py",
   "mimetype": "text/x-python",
   "name": "python",
   "nbconvert_exporter": "python",
   "pygments_lexer": "ipython3",
   "version": "3.8.3"
  },
  "toc": {
   "base_numbering": 1,
   "nav_menu": {},
   "number_sections": true,
   "sideBar": true,
   "skip_h1_title": false,
   "title_cell": "Table of Contents",
   "title_sidebar": "Contents",
   "toc_cell": false,
   "toc_position": {},
   "toc_section_display": true,
   "toc_window_display": false
  },
  "varInspector": {
   "cols": {
    "lenName": 16,
    "lenType": 16,
    "lenVar": 40
   },
   "kernels_config": {
    "python": {
     "delete_cmd_postfix": "",
     "delete_cmd_prefix": "del ",
     "library": "var_list.py",
     "varRefreshCmd": "print(var_dic_list())"
    },
    "r": {
     "delete_cmd_postfix": ") ",
     "delete_cmd_prefix": "rm(",
     "library": "var_list.r",
     "varRefreshCmd": "cat(var_dic_list()) "
    }
   },
   "types_to_exclude": [
    "module",
    "function",
    "builtin_function_or_method",
    "instance",
    "_Feature"
   ],
   "window_display": false
  }
 },
 "nbformat": 4,
 "nbformat_minor": 4
}
