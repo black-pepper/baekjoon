{
 "cells": [
  {
   "cell_type": "markdown",
   "metadata": {},
   "source": [
    "## 9372번: 상근이의 여행"
   ]
  },
  {
   "cell_type": "code",
   "execution_count": 23,
   "metadata": {},
   "outputs": [
    {
     "name": "stdout",
     "output_type": "stream",
     "text": [
      "2\n",
      "3 3\n",
      "1 2\n",
      "2 3\n",
      "1 3\n",
      "2\n",
      "5 4\n",
      "2 1\n",
      "2 3\n",
      "4 3\n",
      "4 5\n",
      "4\n"
     ]
    }
   ],
   "source": [
    "import sys\n",
    "#input = sys.stdin.readline\n",
    "\n",
    "T = int(input())\n",
    "for _ in range(T):\n",
    "    N, M = map(int, input().split())\n",
    "    for i in range(M):\n",
    "        a, b = map(int, input().split())\n",
    "    print(N-1)"
   ]
  },
  {
   "cell_type": "markdown",
   "metadata": {},
   "source": [
    "##  1197번: 최소 스패닝 트리"
   ]
  },
  {
   "cell_type": "code",
   "execution_count": 11,
   "metadata": {},
   "outputs": [
    {
     "name": "stdout",
     "output_type": "stream",
     "text": [
      "3 3\n",
      "1 2 1\n",
      "2 3 2\n",
      "1 3 3\n",
      "3\n"
     ]
    }
   ],
   "source": [
    "import sys\n",
    "import heapq\n",
    "#input = sys.stdin.readline\n",
    "#sys.setrecursionlimit(100000)\n",
    "\n",
    "heap = []\n",
    "V, E = map(int, input().split())\n",
    "for e in range(E):\n",
    "    A, B, C = map(int, input().split())\n",
    "    heapq.heappush(heap, [C, A, B])\n",
    "    \n",
    "#사이클 검출 (유니온 파인드)\n",
    "root = [i for i in range(V+1)] \n",
    "def find_root(target):\n",
    "    if root[target] == target:\n",
    "        return target\n",
    "    root[target] = find_root(root[target])\n",
    "    return root[target]\n",
    "def union(a, b):\n",
    "    a = find_root(a)\n",
    "    b = find_root(b)\n",
    "    if a == b: return False\n",
    "    if a < b:\n",
    "        root[b] = a\n",
    "    else:\n",
    "        root[a] = b\n",
    "    return True\n",
    "    \n",
    "#크루스칼 알고리즘\n",
    "weight = 0\n",
    "count = 0 #연결된 간선 수\n",
    "while heap and count != V-1:\n",
    "    w, a, b = heapq.heappop(heap)\n",
    "    if union(a, b):\n",
    "        weight += w\n",
    "        count += 1\n",
    "    \n",
    "print(weight)"
   ]
  },
  {
   "cell_type": "markdown",
   "metadata": {},
   "source": [
    "## 4386번: 별자리 만들기"
   ]
  },
  {
   "cell_type": "code",
   "execution_count": 19,
   "metadata": {},
   "outputs": [
    {
     "name": "stdout",
     "output_type": "stream",
     "text": [
      "3\n",
      "1.0 1.0\n",
      "2.0 2.0\n",
      "2.0 4.0\n",
      "3.414213562373095\n"
     ]
    }
   ],
   "source": [
    "import sys\n",
    "import math\n",
    "import heapq\n",
    "#input = sys.stdin.readline\n",
    "#sys.setrecursionlimit(100000)\n",
    "\n",
    "n = int(input())\n",
    "star = []\n",
    "for _ in range(n):\n",
    "    star.append(list(map(float, input().split())))\n",
    "\n",
    "heap = []\n",
    "def find_distance(x1, y1, x2, y2):\n",
    "    return math.sqrt(abs(x1-x2)**2 + abs(y1-y2)**2)\n",
    "\n",
    "for i in range(n):\n",
    "    for j in range(i+1, n):\n",
    "        heapq.heappush(heap, [find_distance(star[i][0],star[i][1],star[j][0],star[j][1]), i, j])\n",
    "\n",
    "#유니온 파인드\n",
    "root = [i for i in range(n)] \n",
    "def find_root(target):\n",
    "    if root[target] == target:\n",
    "        return target\n",
    "    root[target] = find_root(root[target])\n",
    "    return root[target]\n",
    "        \n",
    "def union(a, b):\n",
    "    a = find_root(a)\n",
    "    b = find_root(b)\n",
    "    if a == b: return False\n",
    "    if a < b:\n",
    "        root[b] = a\n",
    "    else:\n",
    "        root[a] = b\n",
    "    return True\n",
    "    \n",
    "#크루스칼\n",
    "distance = 0\n",
    "count = 0\n",
    "while heap and count != n-1:\n",
    "    d, a, b = heapq.heappop(heap)\n",
    "    if union(a, b):\n",
    "        distance += d\n",
    "        count += 1\n",
    "        \n",
    "print(distance)"
   ]
  },
  {
   "cell_type": "markdown",
   "metadata": {},
   "source": [
    "## 1774번: 우주신과의 교감"
   ]
  },
  {
   "cell_type": "code",
   "execution_count": 19,
   "metadata": {},
   "outputs": [
    {
     "name": "stdout",
     "output_type": "stream",
     "text": [
      "4 1\n",
      "1 1\n",
      "3 1\n",
      "2 3\n",
      "4 3\n",
      "1 4\n",
      "4.00\n"
     ]
    }
   ],
   "source": [
    "import sys\n",
    "import math\n",
    "import heapq\n",
    "#input = sys.stdin.readline\n",
    "#sys.setrecursionlimit(100000)\n",
    "\n",
    "n, m = map(int, input().split())\n",
    "star = [0]\n",
    "for _ in range(n):\n",
    "    star.append(list(map(float, input().split())))\n",
    "\n",
    "heap = []\n",
    "def find_distance(x1, y1, x2, y2):\n",
    "    return math.sqrt(abs(x1-x2)**2 + abs(y1-y2)**2)\n",
    "\n",
    "for i in range(1, n+1):\n",
    "    for j in range(i+1, n+1):\n",
    "        heapq.heappush(heap, [find_distance(star[i][0],star[i][1],star[j][0],star[j][1]), i, j])\n",
    "        \n",
    "#유니온 파인드\n",
    "root = [i for i in range(n+1)] \n",
    "def find_root(target):\n",
    "    if root[target] == target:\n",
    "        return target\n",
    "    root[target] = find_root(root[target])\n",
    "    return root[target]\n",
    "        \n",
    "def union(a, b):\n",
    "    a = find_root(a)\n",
    "    b = find_root(b)\n",
    "    if a == b: return False\n",
    "    if a < b:\n",
    "        root[b] = a\n",
    "    else:\n",
    "        root[a] = b\n",
    "    return True\n",
    "    \n",
    "    \n",
    "distance = 0\n",
    "for i in range(m):\n",
    "    a, b = map(int, input().split())\n",
    "    union(a, b)\n",
    "    \n",
    "#크루스칼\n",
    "while heap:\n",
    "    d, a, b = heapq.heappop(heap)\n",
    "    if union(a, b):\n",
    "        distance += d\n",
    "        \n",
    "print(\"%0.2f\"%distance)"
   ]
  }
 ],
 "metadata": {
  "kernelspec": {
   "display_name": "Python 3",
   "language": "python",
   "name": "python3"
  },
  "language_info": {
   "codemirror_mode": {
    "name": "ipython",
    "version": 3
   },
   "file_extension": ".py",
   "mimetype": "text/x-python",
   "name": "python",
   "nbconvert_exporter": "python",
   "pygments_lexer": "ipython3",
   "version": "3.8.3"
  },
  "toc": {
   "base_numbering": 1,
   "nav_menu": {},
   "number_sections": true,
   "sideBar": true,
   "skip_h1_title": false,
   "title_cell": "Table of Contents",
   "title_sidebar": "Contents",
   "toc_cell": false,
   "toc_position": {},
   "toc_section_display": true,
   "toc_window_display": false
  },
  "varInspector": {
   "cols": {
    "lenName": 16,
    "lenType": 16,
    "lenVar": 40
   },
   "kernels_config": {
    "python": {
     "delete_cmd_postfix": "",
     "delete_cmd_prefix": "del ",
     "library": "var_list.py",
     "varRefreshCmd": "print(var_dic_list())"
    },
    "r": {
     "delete_cmd_postfix": ") ",
     "delete_cmd_prefix": "rm(",
     "library": "var_list.r",
     "varRefreshCmd": "cat(var_dic_list()) "
    }
   },
   "types_to_exclude": [
    "module",
    "function",
    "builtin_function_or_method",
    "instance",
    "_Feature"
   ],
   "window_display": false
  }
 },
 "nbformat": 4,
 "nbformat_minor": 4
}
