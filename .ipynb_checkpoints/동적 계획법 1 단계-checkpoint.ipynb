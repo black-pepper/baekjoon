{
 "cells": [
  {
   "cell_type": "markdown",
   "metadata": {},
   "source": [
    "## 2748번: 피보나치 수 2"
   ]
  },
  {
   "cell_type": "code",
   "execution_count": 4,
   "metadata": {
    "ExecuteTime": {
     "end_time": "2020-10-29T07:41:48.123549Z",
     "start_time": "2020-10-29T07:41:47.081605Z"
    }
   },
   "outputs": [
    {
     "name": "stdout",
     "output_type": "stream",
     "text": [
      "10\n",
      "55\n"
     ]
    }
   ],
   "source": [
    "Fibonacci = [0] * 91\n",
    "Fibonacci[1] = 1\n",
    "Fibonacci[2] = 1\n",
    "\n",
    "for i in range(3, 91):\n",
    "    Fibonacci[i] = Fibonacci[i-1] + Fibonacci[i-2]\n",
    "\n",
    "N = int(input())\n",
    "print(Fibonacci[N])"
   ]
  },
  {
   "cell_type": "code",
   "execution_count": 7,
   "metadata": {
    "ExecuteTime": {
     "end_time": "2020-11-03T01:12:07.579047Z",
     "start_time": "2020-11-03T01:12:06.371596Z"
    }
   },
   "outputs": [
    {
     "name": "stdout",
     "output_type": "stream",
     "text": [
      "10\n",
      "55\n"
     ]
    }
   ],
   "source": [
    "fibo_num = [0] * 91\n",
    "fibo_num[1] = 1\n",
    "fibo_num[2] = 1\n",
    "\n",
    "def Fibonacci (num):\n",
    "    if num == 0 : return 0\n",
    "    if fibo_num[num] == 0:\n",
    "        fibo_num[num] = Fibonacci(num-1) + Fibonacci(num-2)    \n",
    "    return fibo_num[num]\n",
    "\n",
    "N = int(input())\n",
    "print(Fibonacci(N))"
   ]
  },
  {
   "cell_type": "markdown",
   "metadata": {},
   "source": [
    "## 1003번: 피보나치 함수 "
   ]
  },
  {
   "cell_type": "code",
   "execution_count": 19,
   "metadata": {
    "scrolled": true
   },
   "outputs": [
    {
     "name": "stdout",
     "output_type": "stream",
     "text": [
      "3\n",
      "0\n",
      "1 0\n",
      "1\n",
      "0 1\n",
      "3\n",
      "1 2\n"
     ]
    }
   ],
   "source": [
    "fibonacci_0 = [0] * 41\n",
    "fibonacci_1 = [0] * 41\n",
    "\n",
    "#0일때\n",
    "fibonacci_0[0] = 1\n",
    "fibonacci_1[0] = 0\n",
    "\n",
    "#1일때\n",
    "fibonacci_0[1] = 0\n",
    "fibonacci_1[1] = 1\n",
    "\n",
    "for i in range(2, 41):\n",
    "    fibonacci_0[i] = fibonacci_0[i-1] + fibonacci_0[i-2]\n",
    "    fibonacci_1[i] = fibonacci_1[i-1] + fibonacci_1[i-2]\n",
    "\n",
    "T = int(input())\n",
    "\n",
    "for i in range(T):\n",
    "    N = int(input())\n",
    "    print(fibonacci_0[N], fibonacci_1[N])"
   ]
  },
  {
   "cell_type": "markdown",
   "metadata": {},
   "source": [
    "## 1904번: 01타일"
   ]
  },
  {
   "cell_type": "code",
   "execution_count": 18,
   "metadata": {},
   "outputs": [
    {
     "name": "stdout",
     "output_type": "stream",
     "text": [
      "4\n",
      "5\n"
     ]
    }
   ],
   "source": [
    "tail = [0]\n",
    "\n",
    "N = int(input()) \n",
    "\n",
    "tail_odd = 1\n",
    "tail_even = 2 \n",
    "\n",
    "if(N == 0): pass\n",
    "elif(N == 1): pass\n",
    "elif(N == 2): pass\n",
    "else: \n",
    "    for i in range(3,N+1):\n",
    "        if i%2 == 1:\n",
    "            tail_odd = (tail_odd + tail_even) % 15746\n",
    "        else :\n",
    "            tail_even = (tail_odd + tail_even) % 15746\n",
    "\n",
    "if(N == 0): print(0)\n",
    "elif(N%2 == 1): print(tail_odd)\n",
    "else: print(tail_even)"
   ]
  },
  {
   "cell_type": "markdown",
   "metadata": {},
   "source": [
    "## 9461번: 파도반 수열"
   ]
  },
  {
   "cell_type": "code",
   "execution_count": 4,
   "metadata": {},
   "outputs": [
    {
     "name": "stdout",
     "output_type": "stream",
     "text": [
      "2\n",
      "6\n",
      "3\n",
      "12\n",
      "16\n"
     ]
    }
   ],
   "source": [
    "arr = [1] * 101\n",
    "arr[4] = 2\n",
    "arr[5] = 2\n",
    "\n",
    "for i in range(6, 101):\n",
    "    arr[i] = arr[i-5] + arr[i-1]\n",
    "\n",
    "T = int(input())\n",
    "for i in range(T):\n",
    "    N = int(input())\n",
    "    print(arr[N])"
   ]
  },
  {
   "cell_type": "markdown",
   "metadata": {},
   "source": [
    "## 1149번: RGB거리"
   ]
  },
  {
   "cell_type": "code",
   "execution_count": 17,
   "metadata": {},
   "outputs": [
    {
     "name": "stdout",
     "output_type": "stream",
     "text": [
      "3\n",
      "26 40 83\n",
      "49 60 57\n",
      "13 89 99\n",
      "96\n"
     ]
    }
   ],
   "source": [
    "N = int(input())\n",
    "R_sum = G_sum = B_sum = 0\n",
    "\n",
    "for i in range(N):\n",
    "    R, G, B = map(int, input().split())\n",
    "    R_temp = R_sum\n",
    "    G_temp = G_sum\n",
    "    B_temp = B_sum\n",
    "    \n",
    "    if(G_temp>B_temp):\n",
    "        R_sum = B_temp + R\n",
    "    else:\n",
    "        R_sum = G_temp + R\n",
    "        \n",
    "    if(R_temp>B_temp):\n",
    "        G_sum = B_temp + G\n",
    "    else:\n",
    "        G_sum = R_temp + G\n",
    "        \n",
    "    if(R_temp>G_temp):\n",
    "        B_sum = G_temp + B\n",
    "    else:\n",
    "        B_sum = R_temp + B\n",
    "        \n",
    "if R_sum <= G_sum and R_sum <= B_sum:\n",
    "    print(R_sum)\n",
    "elif G_sum <= R_sum and G_sum <= B_sum:\n",
    "    print(G_sum)\n",
    "else:\n",
    "    print(B_sum)"
   ]
  },
  {
   "cell_type": "markdown",
   "metadata": {},
   "source": [
    "## 1932번: 정수 삼각형"
   ]
  },
  {
   "cell_type": "code",
   "execution_count": 1,
   "metadata": {
    "ExecuteTime": {
     "end_time": "2020-11-02T02:09:44.866992Z",
     "start_time": "2020-11-02T02:09:29.786919Z"
    }
   },
   "outputs": [
    {
     "name": "stdout",
     "output_type": "stream",
     "text": [
      "5\n",
      "7\n",
      "3 8\n",
      "8 1 0\n",
      "2 7 4 4\n",
      "4 5 2 6 5\n",
      "30\n"
     ]
    }
   ],
   "source": [
    "import copy\n",
    "\n",
    "arr = [0]\n",
    "arr_temp = [0]\n",
    "\n",
    "n = int(input())\n",
    "\n",
    "for i in range(n):\n",
    "    arr_temp = copy.deepcopy(arr)\n",
    "    arr = list(map(int, input().split()))\n",
    "    \n",
    "    for j in range(len(arr)):\n",
    "        if j == 0 :\n",
    "            arr[j] = arr_temp[j] + arr[j]\n",
    "        elif j == len(arr)-1 :\n",
    "            arr[j] = arr_temp[j-1] + arr[j]\n",
    "        else:\n",
    "            if arr_temp[j] > arr_temp[j-1]:\n",
    "                arr[j] = arr_temp[j] + arr[j]\n",
    "            else:\n",
    "                arr[j] = arr_temp[j-1] + arr[j]\n",
    "    #print(arr)\n",
    "    #print(arr_temp)\n",
    "\n",
    "print(max(arr))"
   ]
  },
  {
   "cell_type": "markdown",
   "metadata": {},
   "source": [
    "## 2579번: 계단오르기"
   ]
  },
  {
   "cell_type": "code",
   "execution_count": 1,
   "metadata": {
    "ExecuteTime": {
     "end_time": "2020-11-04T02:07:30.660083Z",
     "start_time": "2020-11-04T02:07:22.593309Z"
    }
   },
   "outputs": [
    {
     "name": "stdout",
     "output_type": "stream",
     "text": [
      "6\n",
      "10\n",
      "20\n",
      "15\n",
      "25\n",
      "10\n",
      "20\n",
      "75\n"
     ]
    }
   ],
   "source": [
    "N = int(input())\n",
    "arr = [0]\n",
    "for i in range(N):\n",
    "    arr.append(int(input()))\n",
    "\n",
    "dp = [0] * (N+1)\n",
    "\n",
    "def UpStare () :\n",
    "    dp[1] = arr[1]\n",
    "    if N == 1 : return True\n",
    "\n",
    "    dp[2] = arr[1] + arr[2]\n",
    "    if N == 2 : return True\n",
    "\n",
    "    dp[3] = max([arr[1]+arr[3], arr[2]+arr[3]])\n",
    "    if N == 3 : return True\n",
    "\n",
    "    for i in range(4, N+1):\n",
    "        dp[i] = max(arr[i]+dp[i-2], arr[i]+dp[i-3]+arr[i-1])\n",
    "\n",
    "UpStare()\n",
    "print(dp[N])"
   ]
  },
  {
   "cell_type": "markdown",
   "metadata": {},
   "source": [
    "## 1463번: 1로 만들기"
   ]
  },
  {
   "cell_type": "code",
   "execution_count": 1,
   "metadata": {
    "ExecuteTime": {
     "end_time": "2020-11-04T04:28:35.971222Z",
     "start_time": "2020-11-04T04:28:33.941168Z"
    }
   },
   "outputs": [
    {
     "name": "stdout",
     "output_type": "stream",
     "text": [
      "10\n",
      "3\n"
     ]
    }
   ],
   "source": [
    "arr = [0] * 10000000\n",
    "arr[2] = 1\n",
    "arr[3] = 1\n",
    "num = 4\n",
    "\n",
    "def make_one (num):\n",
    "    if num%3 == 0 :\n",
    "        if arr[num//3] > arr[num-1]:\n",
    "            arr[num] = arr[num-1] + 1\n",
    "        else: arr[num] = arr[num//3] + 1\n",
    "    elif num%2 == 0 :\n",
    "        if arr[num//2] > arr[num-1]:\n",
    "            arr[num] = arr[num-1]+1\n",
    "        else : arr[num] = arr[num//2] + 1\n",
    "    else:\n",
    "        arr[num] = arr[num-1] + 1\n",
    "\n",
    "N = int(input())\n",
    "for i in range(4, N+1):\n",
    "    make_one(i)\n",
    "    \n",
    "print(arr[N])"
   ]
  },
  {
   "cell_type": "markdown",
   "metadata": {},
   "source": [
    "## 10844번: 쉬운 계단 수"
   ]
  },
  {
   "cell_type": "code",
   "execution_count": 23,
   "metadata": {
    "ExecuteTime": {
     "end_time": "2020-11-06T05:24:17.438024Z",
     "start_time": "2020-11-06T05:24:15.902173Z"
    }
   },
   "outputs": [
    {
     "name": "stdout",
     "output_type": "stream",
     "text": [
      "2\n",
      "17\n"
     ]
    }
   ],
   "source": [
    "import copy\n",
    "\n",
    "N = int(input())\n",
    "arr = [1] * 10\n",
    "arr[0] = 0\n",
    "new_arr = copy.deepcopy(arr)\n",
    "\n",
    "for i in range(1, N):\n",
    "    arr = copy.deepcopy(new_arr)\n",
    "    new_arr = [0] * 10\n",
    "    \n",
    "    #new_arr 배열에 리프노드 숫자 개수 세기\n",
    "    for j in range(10):\n",
    "        if j == 0:\n",
    "            #new_arr 1에 추가\n",
    "            new_arr[1] += arr[0]\n",
    "        elif j == 9:\n",
    "            #new_arr 8에 추가\n",
    "            new_arr[8] += arr[9]\n",
    "        else:\n",
    "            #j-1에 추가\n",
    "            new_arr[j-1] += arr[j]\n",
    "            #j+1에 추가\n",
    "            new_arr[j+1] += arr[j]\n",
    "\n",
    "print(sum(new_arr)%1000000000)"
   ]
  },
  {
   "cell_type": "markdown",
   "metadata": {},
   "source": [
    "## 2156번: 포도주 시식"
   ]
  },
  {
   "cell_type": "code",
   "execution_count": 11,
   "metadata": {
    "ExecuteTime": {
     "end_time": "2020-11-09T02:13:34.746435Z",
     "start_time": "2020-11-09T02:13:27.019293Z"
    }
   },
   "outputs": [
    {
     "name": "stdout",
     "output_type": "stream",
     "text": [
      "6\n",
      "6\n",
      "10\n",
      "13\n",
      "9\n",
      "8\n",
      "1\n",
      "33\n"
     ]
    }
   ],
   "source": [
    "N = int(input())\n",
    "arr = [0]\n",
    "for i in range(N):\n",
    "    arr.append(int(input()))\n",
    "\n",
    "dp = [0] * (N+1)\n",
    "\n",
    "def Drink () :\n",
    "    dp[1] = arr[1]\n",
    "    if N == 1 : return True\n",
    "\n",
    "    dp[2] = arr[1] + arr[2]\n",
    "    if N == 2 : return True\n",
    "\n",
    "    dp[3] = max([arr[1]+arr[3], arr[2]+arr[3]])\n",
    "    dp[3] = max(dp[2], dp[3])\n",
    "    if N == 3 : return True\n",
    "\n",
    "    for i in range(4, N+1):\n",
    "        dp[i] = max(arr[i]+dp[i-2], arr[i]+dp[i-3]+arr[i-1])\n",
    "        dp[i] = max(dp[i-1], dp[i])\n",
    "\n",
    "Drink()\n",
    "print(max(dp))"
   ]
  },
  {
   "cell_type": "markdown",
   "metadata": {},
   "source": [
    "## 11053번: 가장 긴 증가하는 부분 수열"
   ]
  },
  {
   "cell_type": "code",
   "execution_count": 26,
   "metadata": {
    "ExecuteTime": {
     "end_time": "2020-11-07T11:16:34.100979Z",
     "start_time": "2020-11-07T11:16:31.732411Z"
    }
   },
   "outputs": [
    {
     "name": "stdout",
     "output_type": "stream",
     "text": [
      "6\n",
      "10 20 10 30 20 50\n",
      "4\n"
     ]
    }
   ],
   "source": [
    "N = int(input())\n",
    "A = list(map(int, input().split()))\n",
    "A_count = [1] * N\n",
    "\n",
    "for i in range(N):\n",
    "    temp = 0\n",
    "    for j in range(i):\n",
    "        if A[i] > A[j] and A_count[j] > temp:\n",
    "            temp = A_count[j]\n",
    "    A_count[i] = temp + 1\n",
    "            \n",
    "    \n",
    "print(max(A_count))"
   ]
  },
  {
   "cell_type": "markdown",
   "metadata": {},
   "source": [
    "## 11054번: 가장 긴 바이토닉 부분 수열"
   ]
  },
  {
   "cell_type": "code",
   "execution_count": 50,
   "metadata": {},
   "outputs": [
    {
     "name": "stdout",
     "output_type": "stream",
     "text": [
      "10\n",
      "1 5 2 1 4 3 4 5 2 1\n",
      "7\n"
     ]
    }
   ],
   "source": [
    "N = int(input())\n",
    "A = list(map(int, input().split()))\n",
    "A_plus = [1] * N\n",
    "A_minus = [1] * N\n",
    "A_result = [0] * N\n",
    "\n",
    "for i in range(N):\n",
    "    temp = 0\n",
    "    #커지는 수열 길이 구하기\n",
    "    for j in range(i):\n",
    "        if A[i] > A[j] and A_plus[j] > temp:\n",
    "            temp = A_plus[j]\n",
    "    A_plus[i] = temp + 1\n",
    "    temp = 0\n",
    "    #작아지는 수열 길이 구하기\n",
    "    for j in range(i):\n",
    "        if A[N-i-1] > A[N-j-1] and A_minus[N-j-1] > temp:\n",
    "            temp = A_minus[N-j-1]\n",
    "    A_minus[N-i-1] = temp + 1\n",
    "    \n",
    "for i in range(N):\n",
    "    A_result[i] = A_plus[i] + A_minus[i]\n",
    "            \n",
    "print(max(A_result)-1)"
   ]
  }
 ],
 "metadata": {
  "kernelspec": {
   "display_name": "Python 3",
   "language": "python",
   "name": "python3"
  },
  "toc": {
   "base_numbering": 1,
   "nav_menu": {},
   "number_sections": true,
   "sideBar": true,
   "skip_h1_title": false,
   "title_cell": "Table of Contents",
   "title_sidebar": "Contents",
   "toc_cell": false,
   "toc_position": {},
   "toc_section_display": true,
   "toc_window_display": false
  },
  "varInspector": {
   "cols": {
    "lenName": 16,
    "lenType": 16,
    "lenVar": 40
   },
   "kernels_config": {
    "python": {
     "delete_cmd_postfix": "",
     "delete_cmd_prefix": "del ",
     "library": "var_list.py",
     "varRefreshCmd": "print(var_dic_list())"
    },
    "r": {
     "delete_cmd_postfix": ") ",
     "delete_cmd_prefix": "rm(",
     "library": "var_list.r",
     "varRefreshCmd": "cat(var_dic_list()) "
    }
   },
   "types_to_exclude": [
    "module",
    "function",
    "builtin_function_or_method",
    "instance",
    "_Feature"
   ],
   "window_display": false
  }
 },
 "nbformat": 4,
 "nbformat_minor": 4
}
