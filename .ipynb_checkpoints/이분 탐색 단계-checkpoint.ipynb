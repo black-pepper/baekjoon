{
 "cells": [
  {
   "cell_type": "markdown",
   "metadata": {},
   "source": [
    "## 1920번: 수 찾기"
   ]
  },
  {
   "cell_type": "code",
   "execution_count": 11,
   "metadata": {},
   "outputs": [
    {
     "name": "stdout",
     "output_type": "stream",
     "text": [
      "5\n",
      "4 1 5 2 3\n",
      "5\n",
      "1 3 7 9 5\n",
      "1\n",
      "1\n",
      "0\n",
      "0\n",
      "1\n"
     ]
    }
   ],
   "source": [
    "N = int(input())\n",
    "arr = list(map(int, input().split()))\n",
    "M = int(input())\n",
    "arr_search = list(map(int, input().split()))\n",
    "\n",
    "#arr 정렬\n",
    "arr.sort()\n",
    "\n",
    "#이분탐색\n",
    "for i in arr_search:\n",
    "    left = 0\n",
    "    right = len(arr) - 1\n",
    "    while True:\n",
    "        #i가 범위 밖인 경우\n",
    "        if i > arr[right] or i < arr[left]:\n",
    "            print(0)\n",
    "            break\n",
    "\n",
    "        mid = (left + right) // 2\n",
    "        #i를 찾았을 경우\n",
    "        if arr[mid] == i or arr[left] == i or arr[right] == i:\n",
    "            print(1)\n",
    "            break\n",
    "        #i가 없는 경우\n",
    "        if mid == left:\n",
    "            print(0)\n",
    "            break\n",
    "\n",
    "        if arr[mid] < i:\n",
    "            left = mid\n",
    "        else:\n",
    "            right = mid"
   ]
  }
 ],
 "metadata": {
  "kernelspec": {
   "display_name": "Python 3",
   "language": "python",
   "name": "python3"
  },
  "language_info": {
   "codemirror_mode": {
    "name": "ipython",
    "version": 3
   },
   "file_extension": ".py",
   "mimetype": "text/x-python",
   "name": "python",
   "nbconvert_exporter": "python",
   "pygments_lexer": "ipython3",
   "version": "3.8.3"
  }
 },
 "nbformat": 4,
 "nbformat_minor": 4
}
