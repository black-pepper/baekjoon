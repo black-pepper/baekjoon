{
 "cells": [
  {
   "cell_type": "markdown",
   "metadata": {},
   "source": [
    "## 5086번: 배수와 약수"
   ]
  },
  {
   "cell_type": "code",
   "execution_count": 1,
   "metadata": {
    "ExecuteTime": {
     "end_time": "2020-11-18T01:28:40.267520Z",
     "start_time": "2020-11-18T01:28:21.542282Z"
    }
   },
   "outputs": [
    {
     "name": "stdout",
     "output_type": "stream",
     "text": [
      "8 16\n",
      "factor\n",
      "32 4\n",
      "multiple\n",
      "17 5\n",
      "neither\n",
      "0 0\n"
     ]
    }
   ],
   "source": [
    "while True:\n",
    "    A, B = map(int, input().split())\n",
    "    \n",
    "    if A == 0 and B == 0:\n",
    "        break\n",
    "    \n",
    "    if B % A == 0:\n",
    "        print('factor')\n",
    "    elif A % B == 0:\n",
    "        print('multiple')\n",
    "    else:\n",
    "        print('neither')"
   ]
  },
  {
   "cell_type": "markdown",
   "metadata": {},
   "source": [
    "## 1037번: 약수"
   ]
  },
  {
   "cell_type": "code",
   "execution_count": 3,
   "metadata": {
    "ExecuteTime": {
     "end_time": "2020-11-18T01:33:08.655173Z",
     "start_time": "2020-11-18T01:33:06.321781Z"
    }
   },
   "outputs": [
    {
     "name": "stdout",
     "output_type": "stream",
     "text": [
      "2\n",
      "2 4\n",
      "8\n"
     ]
    }
   ],
   "source": [
    "count = int(input())\n",
    "factor = list(map(int, input().split()))\n",
    "print(min(factor) * max(factor))"
   ]
  },
  {
   "cell_type": "markdown",
   "metadata": {},
   "source": [
    "## 11653번: 소인수분해"
   ]
  },
  {
   "cell_type": "code",
   "execution_count": 17,
   "metadata": {
    "ExecuteTime": {
     "end_time": "2020-11-18T02:39:04.101523Z",
     "start_time": "2020-11-18T02:39:03.438693Z"
    }
   },
   "outputs": [
    {
     "name": "stdout",
     "output_type": "stream",
     "text": [
      "9991\n",
      "97\n",
      "103\n"
     ]
    }
   ],
   "source": [
    "N = int(input())\n",
    "factor = []\n",
    "\n",
    "for i in range(2, N+1):\n",
    "    while N%i == 0 :\n",
    "        N = N//i\n",
    "        factor.append(i)\n",
    "    if N==1 :\n",
    "        break\n",
    "\n",
    "for i in factor:\n",
    "    print(i)"
   ]
  },
  {
   "cell_type": "markdown",
   "metadata": {},
   "source": [
    "## 2609번: 최대공약수와 최소공배수"
   ]
  },
  {
   "cell_type": "code",
   "execution_count": 17,
   "metadata": {
    "ExecuteTime": {
     "end_time": "2020-11-18T04:47:25.627622Z",
     "start_time": "2020-11-18T04:47:23.305969Z"
    }
   },
   "outputs": [
    {
     "name": "stdout",
     "output_type": "stream",
     "text": [
      "24 18\n",
      "6\n",
      "72\n"
     ]
    }
   ],
   "source": [
    "A, B = map(int, input().split())\n",
    "A_factor = []\n",
    "B_factor = []\n",
    "\n",
    "#소인수분해\n",
    "def find_factor(factor, num):\n",
    "    factor.append(1)\n",
    "    for i in range(2, num+1):\n",
    "        while num%i == 0 :\n",
    "            num = num//i\n",
    "            factor.append(i)\n",
    "        if num==1 :\n",
    "            break\n",
    "    return factor\n",
    "\n",
    "A_factor = find_factor(A_factor, A)\n",
    "B_factor = find_factor(B_factor, B)\n",
    "common = []\n",
    "\n",
    "#공통 소수 찾기\n",
    "i = 2\n",
    "max_factor = max(max(A_factor),max(B_factor))\n",
    "while i<= max_factor :\n",
    "    if i in A_factor and i in B_factor:\n",
    "        common.append(i)\n",
    "        A_factor.pop(A_factor.index(i))\n",
    "        B_factor.pop(B_factor.index(i))\n",
    "    else:\n",
    "        i += 1\n",
    "\n",
    "#배열에 있는 수 모두 곱하기\n",
    "def multiply(arr):\n",
    "    if len(arr) == 0:\n",
    "        return 1\n",
    "    mul = 1\n",
    "    for i in arr:\n",
    "        mul *= i\n",
    "    return mul\n",
    "\n",
    "print(multiply(common))\n",
    "print(multiply(common)*multiply(A_factor)*multiply(B_factor))"
   ]
  },
  {
   "cell_type": "markdown",
   "metadata": {},
   "source": [
    "## 2981번: 검문"
   ]
  },
  {
   "cell_type": "code",
   "execution_count": 15,
   "metadata": {},
   "outputs": [
    {
     "name": "stdout",
     "output_type": "stream",
     "text": [
      "3\n",
      "6\n",
      "34\n",
      "38\n",
      "2 4 "
     ]
    }
   ],
   "source": [
    "N = int(input())\n",
    "M = []\n",
    "\n",
    "for i in range(N):\n",
    "    M.append(int(input()))\n",
    "\n",
    "#최대공약수\n",
    "def Find_GCD (num1, num2):\n",
    "    if num2 == 0: return num1\n",
    "    return Find_GCD(num2, num1 % num2)\n",
    "\n",
    "#큰 수에서 작은 수 빼기\n",
    "M.sort()\n",
    "arr = []\n",
    "for i in range(1, N):\n",
    "    arr.append(M[i]-M[i-1])\n",
    "\n",
    "#뺀 수들의 최대공약수 구하기\n",
    "arr.sort()\n",
    "temp = arr[0]\n",
    "for i in range(1, len(arr)):\n",
    "    temp = Find_GCD(arr[i], temp)\n",
    "\n",
    "#최대공약수의 약수 구하기\n",
    "factor = []\n",
    "for i in range(2, temp+1):\n",
    "    if temp%i == 0:\n",
    "        factor.append(i)\n",
    "\n",
    "for i in factor:\n",
    "    print(i,end=' ')"
   ]
  },
  {
   "cell_type": "markdown",
   "metadata": {},
   "source": [
    "## 3036번: 링"
   ]
  },
  {
   "cell_type": "code",
   "execution_count": 10,
   "metadata": {},
   "outputs": [
    {
     "name": "stdout",
     "output_type": "stream",
     "text": [
      "4\n",
      "12 3 8 4\n",
      "4/1\n",
      "3/2\n",
      "3/1\n"
     ]
    }
   ],
   "source": [
    "N = int(input())\n",
    "arr = list(map(int, input().split()))\n",
    "\n",
    "for i in arr[1:]:\n",
    "    numerator = arr[0]\n",
    "    denominator = i\n",
    "    \n",
    "    j = min(numerator, denominator)\n",
    "    while True:\n",
    "        if j <= 1 : break\n",
    "        if numerator%j == 0 and denominator%j == 0:\n",
    "            numerator = numerator//j\n",
    "            denominator = denominator//j\n",
    "        else:\n",
    "            j -= 1\n",
    "    \n",
    "    print(\"%s/%s\"%(numerator,denominator))"
   ]
  },
  {
   "cell_type": "markdown",
   "metadata": {},
   "source": [
    "## 11050번: 이항 계수 1"
   ]
  },
  {
   "cell_type": "code",
   "execution_count": 19,
   "metadata": {},
   "outputs": [
    {
     "name": "stdout",
     "output_type": "stream",
     "text": [
      "5 2\n",
      "10\n"
     ]
    }
   ],
   "source": [
    "N, K = map(int, input().split())\n",
    "\n",
    "def Factorial (num):\n",
    "    if num == 1 : return 1\n",
    "    return num * Factorial(num-1)\n",
    "\n",
    "if N == K :\n",
    "    print(1)\n",
    "elif K == 0:\n",
    "    print(1)\n",
    "else:\n",
    "    print(Factorial(N)//Factorial(K)//Factorial(N-K))"
   ]
  },
  {
   "cell_type": "markdown",
   "metadata": {},
   "source": [
    "## 11051번: 이항 계수2"
   ]
  },
  {
   "cell_type": "code",
   "execution_count": 24,
   "metadata": {},
   "outputs": [
    {
     "name": "stdout",
     "output_type": "stream",
     "text": [
      "5 2\n",
      "10\n"
     ]
    }
   ],
   "source": [
    "N, K = map(int, input().split())\n",
    "dp = [0] * 1001\n",
    "dp[1] = 1\n",
    "\n",
    "def Factorial (num):\n",
    "    if dp[num] == 0 :\n",
    "        dp[num] = num * Factorial(num-1)\n",
    "    return dp[num]\n",
    "\n",
    "if N == K :\n",
    "    print(1)\n",
    "elif K == 0:\n",
    "    print(1)\n",
    "else:\n",
    "    print(Factorial(N)//Factorial(K)//Factorial(N-K)%10007)"
   ]
  },
  {
   "cell_type": "markdown",
   "metadata": {},
   "source": [
    "## 9375번: 패션왕 신해빈"
   ]
  },
  {
   "cell_type": "code",
   "execution_count": 1,
   "metadata": {
    "ExecuteTime": {
     "end_time": "2020-11-25T08:24:39.836613Z",
     "start_time": "2020-11-25T08:23:36.822034Z"
    }
   },
   "outputs": [
    {
     "name": "stdout",
     "output_type": "stream",
     "text": [
      "2\n",
      "3\n",
      "hat headgear\n",
      "sunglasses eyewear\n",
      "turban headgear\n",
      "5\n",
      "3\n",
      "mask face\n",
      "sunglasses face\n",
      "makeup face\n",
      "3\n"
     ]
    }
   ],
   "source": [
    "T = int(input())\n",
    "for i in range(T):\n",
    "    N = int(input())\n",
    "    arr_count = []\n",
    "    arr_kind = []\n",
    "    for j in range(N):\n",
    "        count, kind = map(str, input().split())\n",
    "        if kind in arr_kind:\n",
    "            #이미 존재하는 종류일 경우\n",
    "            arr_count[arr_kind.index(kind)] += 1\n",
    "        else:\n",
    "            arr_kind.append(kind)\n",
    "            #없는 경우와 새로 추가된 것\n",
    "            arr_count.append(2)\n",
    "    mul = 1\n",
    "    for j in arr_count:\n",
    "        mul *= j\n",
    "    print(mul-1) #모두 없는 경우 빼기"
   ]
  },
  {
   "cell_type": "markdown",
   "metadata": {},
   "source": [
    "## 1676번: 팩토리얼 0의 개수"
   ]
  },
  {
   "cell_type": "code",
   "execution_count": 2,
   "metadata": {
    "ExecuteTime": {
     "end_time": "2020-11-25T08:25:18.578143Z",
     "start_time": "2020-11-25T08:25:13.098982Z"
    }
   },
   "outputs": [
    {
     "name": "stdout",
     "output_type": "stream",
     "text": [
      "10\n",
      "2\n"
     ]
    }
   ],
   "source": [
    "N = int(input())\n",
    "count = 0\n",
    "\n",
    "for i in range(5, N+1, 5):\n",
    "    while i % 5 == 0 :\n",
    "        i = i//5\n",
    "        count += 1\n",
    "\n",
    "print(count)"
   ]
  },
  {
   "cell_type": "markdown",
   "metadata": {},
   "source": [
    "## 2004번: 조합 0의 개수"
   ]
  },
  {
   "cell_type": "code",
   "execution_count": 1,
   "metadata": {},
   "outputs": [
    {
     "name": "stdout",
     "output_type": "stream",
     "text": [
      "25 12\n",
      "2\n"
     ]
    }
   ],
   "source": [
    "N, M = map(int, input().split())\n",
    "\n",
    "def count5 (num):\n",
    "    count = 0\n",
    "    for i in range(14):\n",
    "        count += num // (5**i)\n",
    "    return count\n",
    "\n",
    "def count2 (num):\n",
    "    count = 0\n",
    "    for i in range(31):\n",
    "        count += num // (2**i)\n",
    "    return count\n",
    "\n",
    "print(min(count5(N) - count5(M) - count5(N-M), count2(N) - count2(M) - count2(N-M)))"
   ]
  }
 ],
 "metadata": {
  "kernelspec": {
   "display_name": "Python 3",
   "language": "python",
   "name": "python3"
  },
  "language_info": {
   "codemirror_mode": {
    "name": "ipython",
    "version": 3
   },
   "file_extension": ".py",
   "mimetype": "text/x-python",
   "name": "python",
   "nbconvert_exporter": "python",
   "pygments_lexer": "ipython3",
   "version": "3.8.3"
  },
  "toc": {
   "base_numbering": 1,
   "nav_menu": {},
   "number_sections": true,
   "sideBar": true,
   "skip_h1_title": false,
   "title_cell": "Table of Contents",
   "title_sidebar": "Contents",
   "toc_cell": false,
   "toc_position": {},
   "toc_section_display": true,
   "toc_window_display": false
  },
  "varInspector": {
   "cols": {
    "lenName": 16,
    "lenType": 16,
    "lenVar": 40
   },
   "kernels_config": {
    "python": {
     "delete_cmd_postfix": "",
     "delete_cmd_prefix": "del ",
     "library": "var_list.py",
     "varRefreshCmd": "print(var_dic_list())"
    },
    "r": {
     "delete_cmd_postfix": ") ",
     "delete_cmd_prefix": "rm(",
     "library": "var_list.r",
     "varRefreshCmd": "cat(var_dic_list()) "
    }
   },
   "types_to_exclude": [
    "module",
    "function",
    "builtin_function_or_method",
    "instance",
    "_Feature"
   ],
   "window_display": false
  }
 },
 "nbformat": 4,
 "nbformat_minor": 4
}
