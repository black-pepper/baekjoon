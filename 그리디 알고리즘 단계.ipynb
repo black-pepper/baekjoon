{
 "cells": [
  {
   "cell_type": "markdown",
   "metadata": {},
   "source": [
    "## 11047번: 동전 0"
   ]
  },
  {
   "cell_type": "code",
   "execution_count": 1,
   "metadata": {},
   "outputs": [
    {
     "name": "stdout",
     "output_type": "stream",
     "text": [
      "10 4790\n",
      "1\n",
      "5\n",
      "10\n",
      "50\n",
      "100\n",
      "500\n",
      "1000\n",
      "5000\n",
      "10000\n",
      "50000\n",
      "12\n"
     ]
    }
   ],
   "source": [
    "N, K = map(int, input().split())\n",
    "arr = [0] * N\n",
    "count = 0\n",
    "\n",
    "for i in range(N):\n",
    "    arr[i] = int(input())\n",
    "\n",
    "for i in reversed(arr):\n",
    "    count += K//i\n",
    "    K = K%i\n",
    "\n",
    "print(count)"
   ]
  },
  {
   "cell_type": "markdown",
   "metadata": {},
   "source": [
    "## 1931번: 회의실배정"
   ]
  },
  {
   "cell_type": "code",
   "execution_count": 2,
   "metadata": {
    "ExecuteTime": {
     "end_time": "2020-11-13T02:43:06.120756Z",
     "start_time": "2020-11-13T02:42:36.927642Z"
    }
   },
   "outputs": [
    {
     "name": "stdout",
     "output_type": "stream",
     "text": [
      "11\n",
      "1 4\n",
      "3 5\n",
      "0 6\n",
      "5 7\n",
      "3 8\n",
      "5 9\n",
      "6 10\n",
      "8 11\n",
      "8 12\n",
      "2 13\n",
      "12 14\n",
      "4\n"
     ]
    }
   ],
   "source": [
    "N = int(input())\n",
    "arr = []\n",
    "\n",
    "for i in range(N):\n",
    "    start_time, end_time = map(int, input().split())\n",
    "    arr.append([end_time, start_time])\n",
    "\n",
    "arr.sort()\n",
    "index = 0\n",
    "count = 1\n",
    "for i in range(1, N):\n",
    "    if arr[index][0] <= arr[i][1]:\n",
    "        count += 1\n",
    "        index = i\n",
    "\n",
    "print(count)"
   ]
  },
  {
   "cell_type": "markdown",
   "metadata": {},
   "source": [
    "## 11399번: ATM"
   ]
  },
  {
   "cell_type": "code",
   "execution_count": 1,
   "metadata": {},
   "outputs": [
    {
     "name": "stdout",
     "output_type": "stream",
     "text": [
      "5\n",
      "3 1 4 3 2\n",
      "32\n"
     ]
    }
   ],
   "source": [
    "N = int(input())\n",
    "P = list(map(int, input().split()))\n",
    "\n",
    "P.sort()\n",
    "P_sum = 0\n",
    "for i in range(N+1):\n",
    "    P_sum += sum(P[:i])\n",
    "    \n",
    "print(P_sum)"
   ]
  },
  {
   "cell_type": "markdown",
   "metadata": {},
   "source": [
    "## 1541번: 잃어버린 괄호"
   ]
  },
  {
   "cell_type": "code",
   "execution_count": 1,
   "metadata": {
    "ExecuteTime": {
     "end_time": "2020-11-18T01:20:51.685629Z",
     "start_time": "2020-11-18T01:20:46.109689Z"
    }
   },
   "outputs": [
    {
     "name": "stdout",
     "output_type": "stream",
     "text": [
      "55-50+40\n",
      "-35\n"
     ]
    }
   ],
   "source": [
    "string = list(input())\n",
    "number = []\n",
    "sign = '+'\n",
    "num = ''\n",
    "\n",
    "#문자열로 정수 리스트 만들기\n",
    "def Append_number(app):\n",
    "    if sign == '+':\n",
    "        number.append(int(app))\n",
    "    else:\n",
    "        number.append(int(app)*-1)\n",
    "\n",
    "for i in string:\n",
    "    if i == '+' or i == '-' :\n",
    "        Append_number(num)\n",
    "        sign = i\n",
    "        num = ''\n",
    "    else :\n",
    "        num = num + i\n",
    "Append_number(num)\n",
    "\n",
    "A_sum = 0\n",
    "B_sum = 0\n",
    "#첫 음수 인덱스 찾기\n",
    "minus_index = len(number)\n",
    "for i in range(len(number)):\n",
    "    if number[i] < 0 :\n",
    "        minus_index = i\n",
    "        break\n",
    "\n",
    "#음수 인덱스를 기준으로 절대값 sum 구하기 (이전:A_sum, 이후:B_sum)\n",
    "A_sum = sum(number[:minus_index])\n",
    "for i in range(minus_index, len(number)):\n",
    "    B_sum += abs(number[i])\n",
    "\n",
    "print(A_sum-B_sum)"
   ]
  },
  {
   "cell_type": "markdown",
   "metadata": {},
   "source": [
    "## 13305번: 주유소"
   ]
  },
  {
   "cell_type": "code",
   "execution_count": 5,
   "metadata": {},
   "outputs": [
    {
     "name": "stdout",
     "output_type": "stream",
     "text": [
      "4\n",
      "3 3 4\n",
      "1 1 1 1\n",
      "10\n"
     ]
    }
   ],
   "source": [
    "import sys\n",
    "\n",
    "N = int(sys.stdin.readline().rstrip())\n",
    "road = list(map(int, sys.stdin.readline().rstrip().split()))\n",
    "price = list(map(int, sys.stdin.readline().rstrip().split()))\n",
    "result = 0\n",
    "\n",
    "min_price = 1000000000\n",
    "for i in range(N-1):\n",
    "    min_price = min(min_price, price[i])\n",
    "    result += min_price * road[i]\n",
    "\n",
    "print(result)"
   ]
  }
 ],
 "metadata": {
  "kernelspec": {
   "display_name": "Python 3",
   "language": "python",
   "name": "python3"
  },
  "language_info": {
   "codemirror_mode": {
    "name": "ipython",
    "version": 3
   },
   "file_extension": ".py",
   "mimetype": "text/x-python",
   "name": "python",
   "nbconvert_exporter": "python",
   "pygments_lexer": "ipython3",
   "version": "3.8.3"
  },
  "toc": {
   "base_numbering": 1,
   "nav_menu": {},
   "number_sections": true,
   "sideBar": true,
   "skip_h1_title": false,
   "title_cell": "Table of Contents",
   "title_sidebar": "Contents",
   "toc_cell": false,
   "toc_position": {},
   "toc_section_display": true,
   "toc_window_display": false
  },
  "varInspector": {
   "cols": {
    "lenName": 16,
    "lenType": 16,
    "lenVar": 40
   },
   "kernels_config": {
    "python": {
     "delete_cmd_postfix": "",
     "delete_cmd_prefix": "del ",
     "library": "var_list.py",
     "varRefreshCmd": "print(var_dic_list())"
    },
    "r": {
     "delete_cmd_postfix": ") ",
     "delete_cmd_prefix": "rm(",
     "library": "var_list.r",
     "varRefreshCmd": "cat(var_dic_list()) "
    }
   },
   "types_to_exclude": [
    "module",
    "function",
    "builtin_function_or_method",
    "instance",
    "_Feature"
   ],
   "window_display": false
  }
 },
 "nbformat": 4,
 "nbformat_minor": 4
}
