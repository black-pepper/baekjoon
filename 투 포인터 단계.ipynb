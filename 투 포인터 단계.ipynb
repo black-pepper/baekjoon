{
 "cells": [
  {
   "cell_type": "markdown",
   "metadata": {},
   "source": [
    "## 3273번: 두 수의 합"
   ]
  },
  {
   "cell_type": "code",
   "execution_count": 10,
   "metadata": {},
   "outputs": [
    {
     "name": "stdout",
     "output_type": "stream",
     "text": [
      "9\n",
      "5 12 7 10 9 1 2 3 11\n",
      "13\n",
      "3\n"
     ]
    }
   ],
   "source": [
    "import sys\n",
    "#input = sys.stdin.readline\n",
    "\n",
    "n = int(input())\n",
    "arr = list(map(int, input().split()))\n",
    "x = int(input())\n",
    "count = 0\n",
    "\n",
    "arr.sort()\n",
    "left, right = 0, n-1\n",
    "\n",
    "while left<right:\n",
    "    temp = arr[left] + arr[right]\n",
    "    if temp == x:\n",
    "        count += 1\n",
    "    if temp < x:\n",
    "        left += 1\n",
    "    else:\n",
    "        right -= 1\n",
    "\n",
    "print(count)"
   ]
  },
  {
   "cell_type": "markdown",
   "metadata": {},
   "source": [
    "## 2470번: 두 용액"
   ]
  },
  {
   "cell_type": "code",
   "execution_count": 1,
   "metadata": {},
   "outputs": [
    {
     "name": "stdout",
     "output_type": "stream",
     "text": [
      "5\n",
      "-2 4 -99 -1 98\n",
      "-99 98\n"
     ]
    }
   ],
   "source": [
    "import sys\n",
    "#input = sys.stdin.readline\n",
    "\n",
    "n = int(input())\n",
    "arr = list(map(int, input().split()))\n",
    "\n",
    "arr.sort()\n",
    "left, right = 0, n-1\n",
    "value1, value2 = arr[left], arr[right]\n",
    "\n",
    "while left<right:\n",
    "    temp = arr[left]+arr[right]\n",
    "    if abs(value1+value2) > abs(temp):\n",
    "        value1, value2 = arr[left], arr[right]\n",
    "    if  temp < 0:\n",
    "        left += 1\n",
    "    else:\n",
    "        right -= 1\n",
    "        \n",
    "print(value1, value2)"
   ]
  }
 ],
 "metadata": {
  "kernelspec": {
   "display_name": "Python 3",
   "language": "python",
   "name": "python3"
  },
  "language_info": {
   "codemirror_mode": {
    "name": "ipython",
    "version": 3
   },
   "file_extension": ".py",
   "mimetype": "text/x-python",
   "name": "python",
   "nbconvert_exporter": "python",
   "pygments_lexer": "ipython3",
   "version": "3.8.3"
  }
 },
 "nbformat": 4,
 "nbformat_minor": 4
}
