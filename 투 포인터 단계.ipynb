{
 "cells": [
  {
   "cell_type": "markdown",
   "metadata": {},
   "source": [
    "## 3273번: 두 수의 합"
   ]
  },
  {
   "cell_type": "code",
   "execution_count": 10,
   "metadata": {},
   "outputs": [
    {
     "name": "stdout",
     "output_type": "stream",
     "text": [
      "9\n",
      "5 12 7 10 9 1 2 3 11\n",
      "13\n",
      "3\n"
     ]
    }
   ],
   "source": [
    "import sys\n",
    "#input = sys.stdin.readline\n",
    "\n",
    "n = int(input())\n",
    "arr = list(map(int, input().split()))\n",
    "x = int(input())\n",
    "count = 0\n",
    "\n",
    "arr.sort()\n",
    "left, right = 0, n-1\n",
    "\n",
    "while left<right:\n",
    "    temp = arr[left] + arr[right]\n",
    "    if temp == x:\n",
    "        count += 1\n",
    "    if temp < x:\n",
    "        left += 1\n",
    "    else:\n",
    "        right -= 1\n",
    "\n",
    "print(count)"
   ]
  },
  {
   "cell_type": "markdown",
   "metadata": {},
   "source": [
    "## 2470번: 두 용액"
   ]
  },
  {
   "cell_type": "code",
   "execution_count": 1,
   "metadata": {},
   "outputs": [
    {
     "name": "stdout",
     "output_type": "stream",
     "text": [
      "5\n",
      "-2 4 -99 -1 98\n",
      "-99 98\n"
     ]
    }
   ],
   "source": [
    "import sys\n",
    "#input = sys.stdin.readline\n",
    "\n",
    "n = int(input())\n",
    "arr = list(map(int, input().split()))\n",
    "\n",
    "arr.sort()\n",
    "left, right = 0, n-1\n",
    "value1, value2 = arr[left], arr[right]\n",
    "\n",
    "while left<right:\n",
    "    temp = arr[left]+arr[right]\n",
    "    if abs(value1+value2) > abs(temp):\n",
    "        value1, value2 = arr[left], arr[right]\n",
    "    if  temp < 0:\n",
    "        left += 1\n",
    "    else:\n",
    "        right -= 1\n",
    "        \n",
    "print(value1, value2)"
   ]
  },
  {
   "cell_type": "markdown",
   "metadata": {},
   "source": [
    "## 1806번: 부분합"
   ]
  },
  {
   "cell_type": "code",
   "execution_count": 41,
   "metadata": {},
   "outputs": [
    {
     "name": "stdout",
     "output_type": "stream",
     "text": [
      "10 15\n",
      "5 1 3 5 10 7 4 9 2 8\n",
      "2\n"
     ]
    }
   ],
   "source": [
    "import sys\n",
    "#input = sys.stdin.readline\n",
    "\n",
    "N, S = map(int, input().split())\n",
    "arr = list(map(int, input().split()))\n",
    "\n",
    "min_count = N+1\n",
    "count = 1\n",
    "start_index = 0\n",
    "end_index = 0\n",
    "arr_sum = arr[0]\n",
    "arr.append(0)\n",
    "\n",
    "while end_index < N:\n",
    "    if arr_sum >= S and min_count > count:\n",
    "        min_count = count\n",
    "        if count == 1:\n",
    "            break\n",
    "            \n",
    "    if arr_sum > S:\n",
    "        arr_sum -= arr[start_index]\n",
    "        start_index += 1\n",
    "        count -= 1\n",
    "        \n",
    "    else:\n",
    "        end_index += 1\n",
    "        arr_sum += arr[end_index]\n",
    "        count += 1\n",
    "\n",
    "if min_count == N+1:\n",
    "    print(0)\n",
    "else:\n",
    "    print(min_count)"
   ]
  },
  {
   "cell_type": "markdown",
   "metadata": {},
   "source": [
    "## 1644번: 소수의 연속합"
   ]
  },
  {
   "cell_type": "code",
   "execution_count": 43,
   "metadata": {},
   "outputs": [
    {
     "name": "stdout",
     "output_type": "stream",
     "text": [
      "53\n",
      "2\n"
     ]
    }
   ],
   "source": [
    "import sys\n",
    "#input = sys.stdin.readline\n",
    "\n",
    "def prime_list(n):\n",
    "    sieve = [True] * n\n",
    "\n",
    "    m = int(n ** 0.5)\n",
    "    for i in range(2, m + 1):\n",
    "        if sieve[i] == True:         \n",
    "            for j in range(i+i, n, i):\n",
    "                sieve[j] = False\n",
    "\n",
    "    return [i for i in range(2, n) if sieve[i] == True]\n",
    "\n",
    "N = int(input())\n",
    "if N == 1:\n",
    "    arr = [0]\n",
    "else:\n",
    "    arr = prime_list(N+1)\n",
    "\n",
    "count = 0\n",
    "start_index = 0\n",
    "end_index = 0\n",
    "arr_sum = arr[0]\n",
    "arr.append(0)\n",
    "\n",
    "while end_index < len(arr)-1:\n",
    "    if arr_sum == N:\n",
    "        count += 1\n",
    "            \n",
    "    if arr_sum > N:\n",
    "        arr_sum -= arr[start_index]\n",
    "        start_index += 1\n",
    "        \n",
    "    else:\n",
    "        end_index += 1\n",
    "        arr_sum += arr[end_index]\n",
    "\n",
    "print(count)"
   ]
  }
 ],
 "metadata": {
  "kernelspec": {
   "display_name": "Python 3",
   "language": "python",
   "name": "python3"
  },
  "language_info": {
   "codemirror_mode": {
    "name": "ipython",
    "version": 3
   },
   "file_extension": ".py",
   "mimetype": "text/x-python",
   "name": "python",
   "nbconvert_exporter": "python",
   "pygments_lexer": "ipython3",
   "version": "3.8.3"
  }
 },
 "nbformat": 4,
 "nbformat_minor": 4
}
