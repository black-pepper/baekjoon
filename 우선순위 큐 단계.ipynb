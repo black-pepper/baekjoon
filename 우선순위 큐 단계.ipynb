{
 "cells": [
  {
   "cell_type": "markdown",
   "metadata": {},
   "source": [
    "## 11279번: 최대 힙"
   ]
  },
  {
   "cell_type": "code",
   "execution_count": 9,
   "metadata": {},
   "outputs": [
    {
     "name": "stdout",
     "output_type": "stream",
     "text": [
      "13\n",
      "0\n",
      "0\n",
      "1\n",
      "2\n",
      "0\n",
      "2\n",
      "0\n",
      "1\n",
      "3\n",
      "2\n",
      "1\n",
      "0\n",
      "3\n",
      "0\n",
      "2\n",
      "0\n",
      "1\n",
      "0\n",
      "0\n",
      "0\n",
      "0\n"
     ]
    }
   ],
   "source": [
    "import sys\n",
    "import heapq\n",
    "\n",
    "heap = []\n",
    "N = int(sys.stdin.readline())\n",
    "\n",
    "for n in range(N):\n",
    "    x = int(sys.stdin.readline())\n",
    "    if x == 0:\n",
    "        if not heap:\n",
    "            print(0)\n",
    "        else:\n",
    "            print(heapq.heappop(heap)[1])\n",
    "    else:\n",
    "        heapq.heappush(heap, [-x, x])"
   ]
  },
  {
   "cell_type": "markdown",
   "metadata": {},
   "source": [
    "## 1927번: 최소 힙"
   ]
  },
  {
   "cell_type": "code",
   "execution_count": 7,
   "metadata": {},
   "outputs": [
    {
     "name": "stdout",
     "output_type": "stream",
     "text": [
      "9\n",
      "0\n",
      "0\n",
      "12345678\n",
      "1\n",
      "2\n",
      "0\n",
      "1\n",
      "0\n",
      "2\n",
      "0\n",
      "12345678\n",
      "0\n",
      "0\n",
      "32\n"
     ]
    }
   ],
   "source": [
    "import sys\n",
    "import heapq\n",
    "\n",
    "heap = []\n",
    "\n",
    "N = int(sys.stdin.readline())\n",
    "for n in range(N):\n",
    "    x = int(sys.stdin.readline())\n",
    "    if x == 0:\n",
    "        if not heap:\n",
    "            print(0)\n",
    "        else:\n",
    "            print(heapq.heappop(heap))\n",
    "    else:\n",
    "        heapq.heappush(heap, x)"
   ]
  },
  {
   "cell_type": "markdown",
   "metadata": {},
   "source": [
    "## 11286번: 절댓값 힙"
   ]
  },
  {
   "cell_type": "code",
   "execution_count": 2,
   "metadata": {},
   "outputs": [
    {
     "name": "stdout",
     "output_type": "stream",
     "text": [
      "18\n",
      "1\n",
      "-1\n",
      "0\n",
      "-1\n",
      "0\n",
      "1\n",
      "0\n",
      "0\n",
      "1\n",
      "1\n",
      "-1\n",
      "-1\n",
      "2\n",
      "-2\n",
      "0\n",
      "-1\n",
      "0\n",
      "-1\n",
      "0\n",
      "1\n",
      "0\n",
      "1\n",
      "0\n",
      "-2\n",
      "0\n",
      "2\n",
      "0\n",
      "0\n"
     ]
    }
   ],
   "source": [
    "import sys\n",
    "import heapq\n",
    "\n",
    "heap = []\n",
    "N = int(sys.stdin.readline())\n",
    "\n",
    "for n in range(N):\n",
    "    x = int(sys.stdin.readline())\n",
    "    if x == 0:\n",
    "        if not heap:\n",
    "            print(0)\n",
    "        else:\n",
    "            print(heapq.heappop(heap)[1])\n",
    "    else:\n",
    "        heapq.heappush(heap, [abs(x), x])"
   ]
  },
  {
   "cell_type": "markdown",
   "metadata": {},
   "source": [
    "## 1655번: 가운데를 말해요"
   ]
  },
  {
   "cell_type": "code",
   "execution_count": 3,
   "metadata": {},
   "outputs": [
    {
     "name": "stdout",
     "output_type": "stream",
     "text": [
      "7\n",
      "1\n",
      "1\n",
      "5\n",
      "1\n",
      "2\n",
      "2\n",
      "10\n",
      "2\n",
      "-99\n",
      "2\n",
      "7\n",
      "2\n",
      "5\n",
      "5\n"
     ]
    }
   ],
   "source": [
    "import sys\n",
    "import heapq\n",
    "\n",
    "N = int(sys.stdin.readline())\n",
    "\n",
    "mid = int(sys.stdin.readline())\n",
    "print(mid)\n",
    "\n",
    "right_heap = [] #mid보다 큰 수 저장. 최소힙\n",
    "left_heap = [] #mid보다 작은 수 저장. 최대힙\n",
    "right_count = 0\n",
    "left_count = 0\n",
    "\n",
    "for n in range(N-1):\n",
    "    num = int(sys.stdin.readline())\n",
    "    \n",
    "    if num >= mid:\n",
    "        heapq.heappush(right_heap, num)\n",
    "        right_count += 1\n",
    "    else:\n",
    "        heapq.heappush(left_heap, [-num, num])\n",
    "        left_count += 1\n",
    "    \n",
    "    difference = right_count - left_count\n",
    "    if difference > 1:\n",
    "        heapq.heappush(left_heap, [-mid, mid])\n",
    "        mid = heapq.heappop(right_heap)\n",
    "        right_count -= 1\n",
    "        left_count += 1\n",
    "    elif difference < 0:\n",
    "        heapq.heappush(right_heap, mid)\n",
    "        mid = heapq.heappop(left_heap)[1]\n",
    "        left_count -= 1\n",
    "        right_count += 1\n",
    "        \n",
    "    print(mid)"
   ]
  }
 ],
 "metadata": {
  "kernelspec": {
   "display_name": "Python 3",
   "language": "python",
   "name": "python3"
  },
  "language_info": {
   "codemirror_mode": {
    "name": "ipython",
    "version": 3
   },
   "file_extension": ".py",
   "mimetype": "text/x-python",
   "name": "python",
   "nbconvert_exporter": "python",
   "pygments_lexer": "ipython3",
   "version": "3.8.3"
  }
 },
 "nbformat": 4,
 "nbformat_minor": 4
}
