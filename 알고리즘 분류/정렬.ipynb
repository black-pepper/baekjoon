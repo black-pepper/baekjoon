{
 "cells": [
  {
   "cell_type": "markdown",
   "metadata": {},
   "source": [
    "## 10825번: 국영수"
   ]
  },
  {
   "cell_type": "code",
   "execution_count": 7,
   "metadata": {},
   "outputs": [
    {
     "name": "stdout",
     "output_type": "stream",
     "text": [
      "12\n",
      "Junkyu 50 60 100\n",
      "Sangkeun 80 60 50\n",
      "Sunyoung 80 70 100\n",
      "Soong 50 60 90\n",
      "Haebin 50 60 100\n",
      "Kangsoo 60 80 100\n",
      "Donghyuk 80 60 100\n",
      "Sei 70 70 70\n",
      "Wonseob 70 70 90\n",
      "Sanghyun 70 70 80\n",
      "nsj 80 80 80\n",
      "Taewhan 50 60 90\n",
      "Donghyuk\n",
      "Sangkeun\n",
      "Sunyoung\n",
      "nsj\n",
      "Wonseob\n",
      "Sanghyun\n",
      "Sei\n",
      "Kangsoo\n",
      "Haebin\n",
      "Junkyu\n",
      "Soong\n",
      "Taewhan\n"
     ]
    }
   ],
   "source": [
    "import sys\n",
    "#input = sys.stdin.readline\n",
    "\n",
    "N = int(input())\n",
    "student = []\n",
    "for _ in range(N):\n",
    "    name, kor, eng, math = input().split()\n",
    "    student.append([name, int(kor), int(eng), int(math)])\n",
    "    \n",
    "student.sort(key=lambda x: (-x[1], x[2], -x[3], x[0]))\n",
    "for s in student:\n",
    "    print(s[0])"
   ]
  },
  {
   "cell_type": "markdown",
   "metadata": {},
   "source": [
    "## 10867번: 중복 빼고 정렬하기"
   ]
  },
  {
   "cell_type": "code",
   "execution_count": 10,
   "metadata": {},
   "outputs": [
    {
     "name": "stdout",
     "output_type": "stream",
     "text": [
      "10\n",
      "1 4 2 3 1 4 2 3 1 2\n",
      "1 2 3 4 "
     ]
    }
   ],
   "source": [
    "N = int(input())\n",
    "arr = list(map(int, input().split()))\n",
    "num = [0]*2001\n",
    "for a in arr:\n",
    "    num[a] += 1\n",
    "for i in range(-1000, 1001):\n",
    "    if num[i]: print(i, end=' ')"
   ]
  },
  {
   "cell_type": "markdown",
   "metadata": {},
   "source": [
    "## 2822번: 점수 계산"
   ]
  },
  {
   "cell_type": "code",
   "execution_count": 23,
   "metadata": {},
   "outputs": [
    {
     "name": "stdout",
     "output_type": "stream",
     "text": [
      "20\n",
      "30\n",
      "50\n",
      "80\n",
      "110\n",
      "11\n",
      "0\n",
      "85\n",
      "355\n",
      "2 3 4 5 8\n"
     ]
    }
   ],
   "source": [
    "score = []\n",
    "for i in range(1, 9):\n",
    "    score.append((int(input()), i))\n",
    "score.sort(reverse=True)\n",
    "arr = list(zip(*score[:5]))\n",
    "print(sum(arr[0]))\n",
    "print(*sorted(arr[1]))"
   ]
  },
  {
   "cell_type": "markdown",
   "metadata": {},
   "source": [
    "## 1449번: 수리공 항승"
   ]
  },
  {
   "cell_type": "code",
   "execution_count": 8,
   "metadata": {},
   "outputs": [
    {
     "name": "stdout",
     "output_type": "stream",
     "text": [
      "3\n"
     ]
    }
   ],
   "source": [
    "N, L = map(int, input().split())\n",
    "arr = list(map(int, input().split()))\n",
    "\n",
    "arr.sort()\n",
    "\n",
    "cnt = 0\n",
    "end = -1\n",
    "for a in arr:\n",
    "    if end < a:\n",
    "        cnt += 1\n",
    "        end = a+L-1\n",
    "print(cnt)"
   ]
  },
  {
   "cell_type": "markdown",
   "metadata": {},
   "source": [
    "## 1431번: 시리얼 번호"
   ]
  },
  {
   "cell_type": "code",
   "execution_count": 1,
   "metadata": {
    "ExecuteTime": {
     "end_time": "2022-07-18T00:36:37.233885Z",
     "start_time": "2022-07-18T00:36:24.193899Z"
    }
   },
   "outputs": [
    {
     "name": "stdout",
     "output_type": "stream",
     "text": [
      "2\n",
      "Z19\n",
      "Z20\n",
      "Z20\n",
      "Z19\n"
     ]
    }
   ],
   "source": [
    "def compare(a, b):\n",
    "    #A와 B의 길이가 다르면, 짧은 것이 먼저 온다.\n",
    "    if len(a)<len(b): return True\n",
    "    elif len(a)>len(b): return False\n",
    "    \n",
    "    #작은 합을 가지는 것이 먼저온다. (숫자인 것만 더한다)\n",
    "    a_sum, b_sum = 0, 0\n",
    "    for i in range(len(a)):\n",
    "        if a[i].isdigit(): a_sum += int(a[i])\n",
    "        if b[i].isdigit(): b_sum += int(b[i])\n",
    "    if a_sum<b_sum: return True\n",
    "    elif a_sum>b_sum: return False\n",
    "    \n",
    "    #사전순으로 비교한다. 숫자가 알파벳보다 사전순으로 작다.\n",
    "    if a<b: return True\n",
    "    else: return False\n",
    "    \n",
    "serial = []\n",
    "N = int(input())\n",
    "for i in range(N):\n",
    "    serial.append(input())\n",
    "    \n",
    "for i in range(N):\n",
    "    for j in range(i+1, N):\n",
    "        if not compare(serial[i], serial[j]):\n",
    "            serial[i], serial[j] = serial[j], serial[i]\n",
    "print('\\n'.join(serial))"
   ]
  },
  {
   "cell_type": "markdown",
   "metadata": {},
   "source": [
    "## 8979번: 올림픽"
   ]
  },
  {
   "cell_type": "code",
   "execution_count": 73,
   "metadata": {
    "ExecuteTime": {
     "end_time": "2022-07-19T05:50:04.665187Z",
     "start_time": "2022-07-19T05:49:50.715783Z"
    }
   },
   "outputs": [
    {
     "name": "stdout",
     "output_type": "stream",
     "text": [
      "4 2\n",
      "1 3 0 0\n",
      "3 0 0 2\n",
      "4 0 2 0\n",
      "2 0 2 0\n",
      "2\n"
     ]
    }
   ],
   "source": [
    "N, K = map(int, input().split())\n",
    "medal = []\n",
    "for i in range(N):\n",
    "    medal.append(list(map(int, input().split()))+[1])\n",
    "    \n",
    "medal.sort(key=lambda x:(-x[1], -x[2], -x[3]))\n",
    "\n",
    "for i in range(N):\n",
    "    if medal[i-1][1:4] == medal[i][1:4]:\n",
    "        medal[i][4] = medal[i-1][-1]\n",
    "    else:\n",
    "        medal[i][4] = i+1\n",
    "    \n",
    "    if K==medal[i][0]:\n",
    "        print(medal[i][-1])\n",
    "        break"
   ]
  },
  {
   "cell_type": "markdown",
   "metadata": {},
   "source": [
    "## 11931번: 수 정렬하기 4"
   ]
  },
  {
   "cell_type": "code",
   "execution_count": 7,
   "metadata": {},
   "outputs": [
    {
     "name": "stdout",
     "output_type": "stream",
     "text": [
      "5\n",
      "1\n",
      "2\n",
      "3\n",
      "4\n",
      "5\n",
      "5\n",
      "4\n",
      "3\n",
      "2\n",
      "1\n"
     ]
    }
   ],
   "source": [
    "N = int(input())\n",
    "arr = []\n",
    "for i in range(N): arr.append(int(input()))\n",
    "arr.sort(reverse=True)\n",
    "for a in arr: print(a)"
   ]
  },
  {
   "cell_type": "markdown",
   "metadata": {},
   "source": [
    "## 5635번: 생일"
   ]
  },
  {
   "cell_type": "code",
   "execution_count": 1,
   "metadata": {},
   "outputs": [
    {
     "name": "stdout",
     "output_type": "stream",
     "text": [
      "5\n",
      "Mickey 1 10 1991\n",
      "Alice 30 12 1990\n",
      "Tom 15 8 1993\n",
      "Jerry 18 9 1990\n",
      "Garfield 20 9 1990\n"
     ]
    }
   ],
   "source": [
    "n = int(input())\n",
    "birthday = []\n",
    "for i in range(n):\n",
    "    name, dd, mm, yyyy = input().split()\n",
    "    birthday.append([int(yyyy), int(mm), int(dd), name])\n",
    "    \n",
    "birthday.sort()\n",
    "print(birthday[-1][-1])\n",
    "print(birthday[0][-1])"
   ]
  },
  {
   "cell_type": "markdown",
   "metadata": {},
   "source": [
    "## 1015번: 수열 정렬"
   ]
  },
  {
   "cell_type": "code",
   "execution_count": 22,
   "metadata": {},
   "outputs": [
    {
     "name": "stdout",
     "output_type": "stream",
     "text": [
      "8\n",
      "4 1 6 1 3 6 1 4\n",
      "4 0 6 1 3 7 2 5 "
     ]
    }
   ],
   "source": [
    "N = int(input())\n",
    "arr = list(map(int, input().split()))\n",
    "\n",
    "temp = []\n",
    "for i in range(N):\n",
    "    temp.append([arr[i], i])\n",
    "    \n",
    "temp.sort()\n",
    "for i in range(N):\n",
    "    temp[i].append(i)\n",
    "    \n",
    "temp.sort(key = lambda x :(x[1]))\n",
    "for i in range(N): print(temp[i][2], end=' ')"
   ]
  },
  {
   "cell_type": "markdown",
   "metadata": {},
   "source": [
    "## 1377번: 버블 소트"
   ]
  },
  {
   "cell_type": "code",
   "execution_count": 17,
   "metadata": {},
   "outputs": [
    {
     "name": "stdout",
     "output_type": "stream",
     "text": [
      "5\n",
      "10\n",
      "1\n",
      "5\n",
      "2\n",
      "3\n",
      "3\n"
     ]
    }
   ],
   "source": [
    "import sys\n",
    "#input = sys.stdin.readline\n",
    "\n",
    "N = int(input())\n",
    "arr = []\n",
    "for i in range(N):\n",
    "    n = int(input())\n",
    "    arr.append((n, i))\n",
    "    \n",
    "arr.sort()\n",
    "diff = [0]*N\n",
    "for i in range(N):\n",
    "    diff[i] = arr[i][1]-i\n",
    "print(max(diff)+1)"
   ]
  },
  {
   "cell_type": "markdown",
   "metadata": {},
   "source": [
    "## 9237번: 이장님 초대"
   ]
  },
  {
   "cell_type": "code",
   "execution_count": 9,
   "metadata": {},
   "outputs": [
    {
     "name": "stdout",
     "output_type": "stream",
     "text": [
      "6\n",
      "39 38 9 35 39 20\n"
     ]
    }
   ],
   "source": [
    "N = int(input())\n",
    "arr = list(map(int, input().split()))\n",
    "\n",
    "arr.sort(reverse=True)\n",
    "result = 0\n",
    "for i in range(N):\n",
    "    result = max(result, arr[i]+i+2)\n",
    "print(result)"
   ]
  }
 ],
 "metadata": {
  "kernelspec": {
   "display_name": "Python 3 (ipykernel)",
   "language": "python",
   "name": "python3"
  },
  "language_info": {
   "codemirror_mode": {
    "name": "ipython",
    "version": 3
   },
   "file_extension": ".py",
   "mimetype": "text/x-python",
   "name": "python",
   "nbconvert_exporter": "python",
   "pygments_lexer": "ipython3",
   "version": "3.9.12"
  },
  "toc": {
   "base_numbering": 1,
   "nav_menu": {},
   "number_sections": true,
   "sideBar": true,
   "skip_h1_title": false,
   "title_cell": "Table of Contents",
   "title_sidebar": "Contents",
   "toc_cell": false,
   "toc_position": {},
   "toc_section_display": true,
   "toc_window_display": false
  },
  "varInspector": {
   "cols": {
    "lenName": 16,
    "lenType": 16,
    "lenVar": 40
   },
   "kernels_config": {
    "python": {
     "delete_cmd_postfix": "",
     "delete_cmd_prefix": "del ",
     "library": "var_list.py",
     "varRefreshCmd": "print(var_dic_list())"
    },
    "r": {
     "delete_cmd_postfix": ") ",
     "delete_cmd_prefix": "rm(",
     "library": "var_list.r",
     "varRefreshCmd": "cat(var_dic_list()) "
    }
   },
   "types_to_exclude": [
    "module",
    "function",
    "builtin_function_or_method",
    "instance",
    "_Feature"
   ],
   "window_display": false
  }
 },
 "nbformat": 4,
 "nbformat_minor": 4
}
