{
 "cells": [
  {
   "cell_type": "markdown",
   "metadata": {},
   "source": [
    "## 14502번: 연구소"
   ]
  },
  {
   "cell_type": "code",
   "execution_count": 3,
   "metadata": {},
   "outputs": [
    {
     "name": "stdout",
     "output_type": "stream",
     "text": [
      "8 8\n",
      "2 0 0 0 0 0 0 2\n",
      "2 0 0 0 0 0 0 2\n",
      "2 0 0 0 0 0 0 2\n",
      "2 0 0 0 0 0 0 2\n",
      "2 0 0 0 0 0 0 2\n",
      "0 0 0 0 0 0 0 0\n",
      "0 0 0 0 0 0 0 0\n",
      "0 0 0 0 0 0 0 0\n",
      "3\n"
     ]
    }
   ],
   "source": [
    "import sys\n",
    "#input = sys.stdin.readline\n",
    "\n",
    "from collections import deque\n",
    "def BFS():\n",
    "    queue = deque()\n",
    "    for i, j in virus:\n",
    "        queue.append([i, j])\n",
    "    while queue:\n",
    "        i, j = queue.popleft()\n",
    "        if 0<i and graph[i-1][j] == 0:#상\n",
    "            graph[i-1][j] = 2\n",
    "            queue.append([i-1, j])\n",
    "        if N-1>i and graph[i+1][j] == 0: #하\n",
    "            graph[i+1][j] = 2\n",
    "            queue.append([i+1, j])\n",
    "        if 0<j and graph[i][j-1] == 0: #좌\n",
    "            graph[i][j-1] = 2\n",
    "            queue.append([i, j-1])\n",
    "        if M-1>j and graph[i][j+1] == 0: #우\n",
    "            graph[i][j+1] = 2\n",
    "            queue.append([i, j+1])\n",
    "            \n",
    "    #안전영역 구하기\n",
    "    global result\n",
    "    cnt = 0\n",
    "    for i in range(N):\n",
    "        for j in range(M):\n",
    "            if graph[i][j] == 0:\n",
    "                cnt += 1\n",
    "    result = max(cnt, result)\n",
    "    \n",
    "N, M = map(int, input().split())\n",
    "graph = []\n",
    "for i in range(N):\n",
    "    graph.append(list(map(int, input().split())))\n",
    "    \n",
    "#현재상태 저장\n",
    "import copy\n",
    "temp = copy.deepcopy(graph)\n",
    "\n",
    "#2와 0위치 찾기\n",
    "virus = []\n",
    "ground = []\n",
    "for i in range(N):\n",
    "    for j in range(M):\n",
    "        if graph[i][j] == 2:\n",
    "            virus.append([i, j])\n",
    "        elif graph[i][j] == 0:\n",
    "            ground.append([i, j])\n",
    "    \n",
    "import itertools\n",
    "result = 0\n",
    "for a, b, c in itertools.combinations(ground, 3):\n",
    "    #벽 세우기\n",
    "    graph[a[0]][a[1]] = 3\n",
    "    graph[b[0]][b[1]] = 3\n",
    "    graph[c[0]][c[1]] = 3\n",
    "    \n",
    "    BFS() #바이러스 퍼트리기\n",
    "    \n",
    "    graph = copy.deepcopy(temp)#리셋\n",
    "print(result)"
   ]
  },
  {
   "cell_type": "markdown",
   "metadata": {},
   "source": [
    "## 10026번: 적록색약"
   ]
  },
  {
   "cell_type": "code",
   "execution_count": 8,
   "metadata": {},
   "outputs": [
    {
     "name": "stdout",
     "output_type": "stream",
     "text": [
      "5\n",
      "RRRBB\n",
      "GGBBB\n",
      "BBBRR\n",
      "BBRRR\n",
      "RRRRR\n",
      "4 3\n"
     ]
    }
   ],
   "source": [
    "import sys\n",
    "from collections import deque\n",
    "#input = sys.stdin.readline\n",
    "\n",
    "ni = [-1, 1, 0, 0]\n",
    "nj = [0, 0, -1, 1]\n",
    "def color_BFS(i, j, c):\n",
    "    queue = deque()\n",
    "    queue. append([i, j])\n",
    "    while queue:\n",
    "        i, j = queue.popleft()\n",
    "        for n in range(4):\n",
    "            if 0<=i+ni[n]<N and 0<=j+nj[n]<N:\n",
    "                if visited[i+ni[n]][j+nj[n]] != 1 and graph[i+ni[n]][j+nj[n]]==c:\n",
    "                    visited[i+ni[n]][j+nj[n]] = 1\n",
    "                    queue.append([i+ni[n], j+nj[n]])\n",
    "\n",
    "def BFS(i, j):\n",
    "    queue = deque()\n",
    "    queue. append([i, j])\n",
    "    while queue:\n",
    "        i, j = queue.popleft()\n",
    "        for n in range(4):\n",
    "            if 0<=i+ni[n]<N and 0<=j+nj[n]<N:\n",
    "                if visited[i+ni[n]][j+nj[n]] != 1 and graph[i+ni[n]][j+nj[n]]!='B':\n",
    "                    visited[i+ni[n]][j+nj[n]] = 1\n",
    "                    queue.append([i+ni[n], j+nj[n]])\n",
    "                    \n",
    "N = int(input())\n",
    "graph = []\n",
    "for i in range(N):\n",
    "    graph.append(list(map(str, input().strip())))\n",
    "    \n",
    "#색약X\n",
    "visited = [[0]*N for _ in range(N)]\n",
    "color_result = 0\n",
    "for i in range(N):\n",
    "    for j in range(N):\n",
    "        if visited[i][j] == 0:\n",
    "            color_BFS(i, j, graph[i][j])\n",
    "            color_result += 1\n",
    "#색약O\n",
    "visited = [[0]*N for _ in range(N)]\n",
    "result = 0\n",
    "for i in range(N):\n",
    "    for j in range(N):\n",
    "        if visited[i][j] == 0:\n",
    "            if graph[i][j] == 'B':\n",
    "                color_BFS(i, j, 'B')\n",
    "            else:\n",
    "                BFS(i, j)\n",
    "            result += 1\n",
    "            \n",
    "print(color_result, result)"
   ]
  }
 ],
 "metadata": {
  "kernelspec": {
   "display_name": "Python 3",
   "language": "python",
   "name": "python3"
  },
  "language_info": {
   "codemirror_mode": {
    "name": "ipython",
    "version": 3
   },
   "file_extension": ".py",
   "mimetype": "text/x-python",
   "name": "python",
   "nbconvert_exporter": "python",
   "pygments_lexer": "ipython3",
   "version": "3.8.3"
  },
  "toc": {
   "base_numbering": 1,
   "nav_menu": {},
   "number_sections": true,
   "sideBar": true,
   "skip_h1_title": false,
   "title_cell": "Table of Contents",
   "title_sidebar": "Contents",
   "toc_cell": false,
   "toc_position": {},
   "toc_section_display": true,
   "toc_window_display": false
  },
  "varInspector": {
   "cols": {
    "lenName": 16,
    "lenType": 16,
    "lenVar": 40
   },
   "kernels_config": {
    "python": {
     "delete_cmd_postfix": "",
     "delete_cmd_prefix": "del ",
     "library": "var_list.py",
     "varRefreshCmd": "print(var_dic_list())"
    },
    "r": {
     "delete_cmd_postfix": ") ",
     "delete_cmd_prefix": "rm(",
     "library": "var_list.r",
     "varRefreshCmd": "cat(var_dic_list()) "
    }
   },
   "position": {
    "height": "253.4px",
    "left": "246.6px",
    "right": "20px",
    "top": "0px",
    "width": "368px"
   },
   "types_to_exclude": [
    "module",
    "function",
    "builtin_function_or_method",
    "instance",
    "_Feature"
   ],
   "window_display": false
  }
 },
 "nbformat": 4,
 "nbformat_minor": 4
}
