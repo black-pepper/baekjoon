{
 "cells": [
  {
   "cell_type": "markdown",
   "metadata": {},
   "source": [
    "## 14502번: 연구소"
   ]
  },
  {
   "cell_type": "code",
   "execution_count": 3,
   "metadata": {},
   "outputs": [
    {
     "name": "stdout",
     "output_type": "stream",
     "text": [
      "8 8\n",
      "2 0 0 0 0 0 0 2\n",
      "2 0 0 0 0 0 0 2\n",
      "2 0 0 0 0 0 0 2\n",
      "2 0 0 0 0 0 0 2\n",
      "2 0 0 0 0 0 0 2\n",
      "0 0 0 0 0 0 0 0\n",
      "0 0 0 0 0 0 0 0\n",
      "0 0 0 0 0 0 0 0\n",
      "3\n"
     ]
    }
   ],
   "source": [
    "import sys\n",
    "#input = sys.stdin.readline\n",
    "\n",
    "from collections import deque\n",
    "def BFS():\n",
    "    queue = deque()\n",
    "    for i, j in virus:\n",
    "        queue.append([i, j])\n",
    "    while queue:\n",
    "        i, j = queue.popleft()\n",
    "        if 0<i and graph[i-1][j] == 0:#상\n",
    "            graph[i-1][j] = 2\n",
    "            queue.append([i-1, j])\n",
    "        if N-1>i and graph[i+1][j] == 0: #하\n",
    "            graph[i+1][j] = 2\n",
    "            queue.append([i+1, j])\n",
    "        if 0<j and graph[i][j-1] == 0: #좌\n",
    "            graph[i][j-1] = 2\n",
    "            queue.append([i, j-1])\n",
    "        if M-1>j and graph[i][j+1] == 0: #우\n",
    "            graph[i][j+1] = 2\n",
    "            queue.append([i, j+1])\n",
    "            \n",
    "    #안전영역 구하기\n",
    "    global result\n",
    "    cnt = 0\n",
    "    for i in range(N):\n",
    "        for j in range(M):\n",
    "            if graph[i][j] == 0:\n",
    "                cnt += 1\n",
    "    result = max(cnt, result)\n",
    "    \n",
    "N, M = map(int, input().split())\n",
    "graph = []\n",
    "for i in range(N):\n",
    "    graph.append(list(map(int, input().split())))\n",
    "    \n",
    "#현재상태 저장\n",
    "import copy\n",
    "temp = copy.deepcopy(graph)\n",
    "\n",
    "#2와 0위치 찾기\n",
    "virus = []\n",
    "ground = []\n",
    "for i in range(N):\n",
    "    for j in range(M):\n",
    "        if graph[i][j] == 2:\n",
    "            virus.append([i, j])\n",
    "        elif graph[i][j] == 0:\n",
    "            ground.append([i, j])\n",
    "    \n",
    "import itertools\n",
    "result = 0\n",
    "for a, b, c in itertools.combinations(ground, 3):\n",
    "    #벽 세우기\n",
    "    graph[a[0]][a[1]] = 3\n",
    "    graph[b[0]][b[1]] = 3\n",
    "    graph[c[0]][c[1]] = 3\n",
    "    \n",
    "    BFS() #바이러스 퍼트리기\n",
    "    \n",
    "    graph = copy.deepcopy(temp)#리셋\n",
    "print(result)"
   ]
  },
  {
   "cell_type": "markdown",
   "metadata": {},
   "source": [
    "## 10026번: 적록색약"
   ]
  },
  {
   "cell_type": "code",
   "execution_count": 8,
   "metadata": {},
   "outputs": [
    {
     "name": "stdout",
     "output_type": "stream",
     "text": [
      "5\n",
      "RRRBB\n",
      "GGBBB\n",
      "BBBRR\n",
      "BBRRR\n",
      "RRRRR\n",
      "4 3\n"
     ]
    }
   ],
   "source": [
    "import sys\n",
    "from collections import deque\n",
    "#input = sys.stdin.readline\n",
    "\n",
    "ni = [-1, 1, 0, 0]\n",
    "nj = [0, 0, -1, 1]\n",
    "def color_BFS(i, j, c):\n",
    "    queue = deque()\n",
    "    queue. append([i, j])\n",
    "    while queue:\n",
    "        i, j = queue.popleft()\n",
    "        for n in range(4):\n",
    "            if 0<=i+ni[n]<N and 0<=j+nj[n]<N:\n",
    "                if visited[i+ni[n]][j+nj[n]] != 1 and graph[i+ni[n]][j+nj[n]]==c:\n",
    "                    visited[i+ni[n]][j+nj[n]] = 1\n",
    "                    queue.append([i+ni[n], j+nj[n]])\n",
    "\n",
    "def BFS(i, j):\n",
    "    queue = deque()\n",
    "    queue. append([i, j])\n",
    "    while queue:\n",
    "        i, j = queue.popleft()\n",
    "        for n in range(4):\n",
    "            if 0<=i+ni[n]<N and 0<=j+nj[n]<N:\n",
    "                if visited[i+ni[n]][j+nj[n]] != 1 and graph[i+ni[n]][j+nj[n]]!='B':\n",
    "                    visited[i+ni[n]][j+nj[n]] = 1\n",
    "                    queue.append([i+ni[n], j+nj[n]])\n",
    "                    \n",
    "N = int(input())\n",
    "graph = []\n",
    "for i in range(N):\n",
    "    graph.append(list(map(str, input().strip())))\n",
    "    \n",
    "#색약X\n",
    "visited = [[0]*N for _ in range(N)]\n",
    "color_result = 0\n",
    "for i in range(N):\n",
    "    for j in range(N):\n",
    "        if visited[i][j] == 0:\n",
    "            color_BFS(i, j, graph[i][j])\n",
    "            color_result += 1\n",
    "#색약O\n",
    "visited = [[0]*N for _ in range(N)]\n",
    "result = 0\n",
    "for i in range(N):\n",
    "    for j in range(N):\n",
    "        if visited[i][j] == 0:\n",
    "            if graph[i][j] == 'B':\n",
    "                color_BFS(i, j, 'B')\n",
    "            else:\n",
    "                BFS(i, j)\n",
    "            result += 1\n",
    "            \n",
    "print(color_result, result)"
   ]
  },
  {
   "cell_type": "markdown",
   "metadata": {},
   "source": [
    "## 2644번: 촌수계산"
   ]
  },
  {
   "cell_type": "code",
   "execution_count": 23,
   "metadata": {},
   "outputs": [
    {
     "name": "stdout",
     "output_type": "stream",
     "text": [
      "9\n",
      "8 6\n",
      "7\n",
      "1 2\n",
      "1 3\n",
      "2 7\n",
      "2 8\n",
      "2 9\n",
      "4 5\n",
      "4 6\n",
      "-1\n"
     ]
    }
   ],
   "source": [
    "n = int(input())\n",
    "a, b = map(int, input().split())\n",
    "m = int(input())\n",
    "graph = [[] for _ in range(n+1)]\n",
    "for i in range(m):\n",
    "    x, y = map(int, input().split())\n",
    "    graph[x].append(y)\n",
    "    graph[y].append(x)\n",
    "    \n",
    "from collections import deque\n",
    "queue = deque()\n",
    "queue.append([a, 0])\n",
    "visited = [0] * (n+1)\n",
    "result = -1\n",
    "while queue:\n",
    "    s, cnt = queue.popleft()\n",
    "    if s == b:\n",
    "        result = cnt\n",
    "        break\n",
    "    for i in graph[s]:\n",
    "        if visited[i] == 0:\n",
    "            visited[i] = 1\n",
    "            queue.append([i, cnt+1])\n",
    "            \n",
    "print(result)"
   ]
  },
  {
   "cell_type": "markdown",
   "metadata": {},
   "source": [
    "## 3055번: 탈출"
   ]
  },
  {
   "cell_type": "code",
   "execution_count": 36,
   "metadata": {},
   "outputs": [
    {
     "name": "stdout",
     "output_type": "stream",
     "text": [
      "5 4\n",
      ".D.*\n",
      "....\n",
      "..X.\n",
      "S.*.\n",
      "....\n",
      "4\n"
     ]
    }
   ],
   "source": [
    "import sys\n",
    "from collections import deque\n",
    "#input = sys.stdin.readline\n",
    "\n",
    "R, C = map(int, input().split())\n",
    "graph = []\n",
    "for _ in range(R):\n",
    "    graph.append(list(map(str, input().strip())))\n",
    "\n",
    "queue = deque()\n",
    "#물, 고슴도치 위치 찾기\n",
    "x, y = 0, 0\n",
    "for i in range(R):\n",
    "    for j in range(C):\n",
    "        if graph[i][j] == '*':\n",
    "            queue.append([i, j, 0])\n",
    "        elif graph[i][j] == 'S':\n",
    "            x, y = i, j\n",
    "\n",
    "queue.append([x, y, 1])\n",
    "ni = [-1, 1, 0, 0]\n",
    "nj = [0, 0, -1, 1]\n",
    "result = 0\n",
    "flag = 0\n",
    "visited = [[0]*C for _ in range(R)]\n",
    "while queue:\n",
    "    i, j, s = queue.popleft()\n",
    "    if s == 0: #물일 때\n",
    "        for n in range(4):\n",
    "            if 0<=i+ni[n]<R and 0<=j+nj[n]<C:\n",
    "                if graph[i+ni[n]][j+nj[n]] == '.':\n",
    "                    graph[i+ni[n]][j+nj[n]] = '*'\n",
    "                    queue.append([i+ni[n], j+nj[n], 0])\n",
    "    else: #고슴도치일 때\n",
    "        for n in range(4):\n",
    "            if 0<=i+ni[n]<R and 0<=j+nj[n]<C:\n",
    "                if graph[i+ni[n]][j+nj[n]] == '.' and visited[i+ni[n]][j+nj[n]] == 0:\n",
    "                    visited[i+ni[n]][j+nj[n]] = 1\n",
    "                    queue.append([i+ni[n], j+nj[n], s+1])\n",
    "                elif graph[i+ni[n]][j+nj[n]] == 'D':\n",
    "                    result = s\n",
    "                    flag = 1\n",
    "                    break\n",
    "    if flag == 1:\n",
    "        break\n",
    "        \n",
    "if result == 0:\n",
    "    print('KAKTUS')\n",
    "else:\n",
    "    print(result)"
   ]
  },
  {
   "cell_type": "markdown",
   "metadata": {},
   "source": [
    "## 16234번: 인구 이동 (미완성)"
   ]
  },
  {
   "cell_type": "code",
   "execution_count": 11,
   "metadata": {},
   "outputs": [],
   "source": [
    "import sys\n",
    "from collections import deque \n",
    "#input = sys.stdin.readline\n",
    "\n",
    "ni = [-1, 1, 0, 0] #상하좌우\n",
    "nj = [0, 0, -1, 1]\n",
    "\n",
    "def BFS(x, y):\n",
    "    queue = deque()\n",
    "    queue.append((x, y))\n",
    "    visited = [[0]*N for _ in range(N)]\n",
    "    visited[x][y] = 1\n",
    "    sum_ = matrix[x][y]\n",
    "    cnt = 1\n",
    "    while queue:\n",
    "        i, j = queue.popleft()\n",
    "        for n in range(4):\n",
    "            if 0<=i+ni[n]<N and 0<=j+nj[n]<N:\n",
    "                if visited[i+ni[n]][j+nj[n]] == 0:\n",
    "                    if L<= abs(matrix[i][j]-matrix[i+ni[n]][j+nj[n]])<=R:\n",
    "                        queue.append([i+ni[n], j+nj[n]])\n",
    "                        visited[i+ni[n]][j+nj[n]] = 1\n",
    "                        sum_ += matrix[i+ni[n]][j+nj[n]]\n",
    "                        cnt += 1\n",
    "    queue.append((x, y))\n",
    "    visited[x][y] = 0\n",
    "    avg = sum_ // cnt\n",
    "    while queue:\n",
    "        i, j = queue.popleft()\n",
    "        matrix[i][j] = avg\n",
    "        for n in range(4):\n",
    "            if 0<=i+ni[n]<N and 0<=j+nj[n]<N:\n",
    "                if visited[i+ni[n]][j+nj[n]] == 1:\n",
    "                    queue.append([i+ni[n], j+nj[n]])\n",
    "                    visited[i+ni[n]][j+nj[n]] = 0"
   ]
  },
  {
   "cell_type": "code",
   "execution_count": 16,
   "metadata": {},
   "outputs": [
    {
     "name": "stdout",
     "output_type": "stream",
     "text": [
      "3 5 10\n",
      "10 15 20\n",
      "20 30 25\n",
      "40 22 10\n"
     ]
    }
   ],
   "source": [
    "N, L, R = map(int, input().split())\n",
    "matrix = []\n",
    "for i in range(N):\n",
    "    matrix.append(list(map(int, input().split())))"
   ]
  },
  {
   "cell_type": "code",
   "execution_count": 17,
   "metadata": {},
   "outputs": [
    {
     "name": "stdout",
     "output_type": "stream",
     "text": [
      "1\n"
     ]
    }
   ],
   "source": [
    "day = 0\n",
    "while True:\n",
    "    flag = 0\n",
    "    for i in range(N):\n",
    "        for j in range(N):\n",
    "            for k in range(4):\n",
    "                if 0<=i+ni[k]<N and 0<=j+nj[k]<N:\n",
    "                    if L<= abs(matrix[i][j]-matrix[i+ni[k]][j+nj[k]])<=R:\n",
    "                        BFS(i, j)\n",
    "                        flag = 1\n",
    "    if not flag:\n",
    "        break\n",
    "    day += 1\n",
    "print(day)"
   ]
  },
  {
   "cell_type": "markdown",
   "metadata": {},
   "source": [
    "## 10451번: 순열 사이클"
   ]
  },
  {
   "cell_type": "code",
   "execution_count": 2,
   "metadata": {
    "ExecuteTime": {
     "end_time": "2021-09-22T02:13:19.699574Z",
     "start_time": "2021-09-22T02:12:54.397310Z"
    }
   },
   "outputs": [
    {
     "name": "stdout",
     "output_type": "stream",
     "text": [
      "2\n",
      "8\n",
      "3 2 7 8 1 4 5 6\n",
      "3\n",
      "10\n",
      "2 1 3 4 5 6 7 9 10 8\n",
      "7\n"
     ]
    }
   ],
   "source": [
    "import sys\n",
    "#input = sys.stdin.readline\n",
    "\n",
    "T = int(input())\n",
    "for _ in range(T):\n",
    "    N = int(input())\n",
    "    arr = [0] + list(map(int, input().split()))\n",
    "    visited = [0] * (N+1)\n",
    "    cnt = 0\n",
    "\n",
    "    for i in range(1, N+1):\n",
    "        if visited[i] == 0:\n",
    "            cnt += 1\n",
    "            s = i\n",
    "            while True:\n",
    "                visited[s] = 1\n",
    "                if visited[arr[s]] == 1:\n",
    "                    break\n",
    "                s = arr[s]\n",
    "    print(cnt)"
   ]
  },
  {
   "cell_type": "markdown",
   "metadata": {},
   "source": [
    "## 1525번: 퍼즐"
   ]
  },
  {
   "cell_type": "code",
   "execution_count": 37,
   "metadata": {},
   "outputs": [
    {
     "name": "stdout",
     "output_type": "stream",
     "text": [
      "1 0 3\n",
      "4 2 5\n",
      "7 8 6\n",
      "3\n"
     ]
    }
   ],
   "source": [
    "import sys\n",
    "from collections import deque\n",
    "#input = sys.stdin.readline\n",
    "\n",
    "puzzle = ''\n",
    "for i in range(3):\n",
    "    puzzle += input().replace(' ','').replace('\\n','')\n",
    "\n",
    "visited = {}\n",
    "n = [-1, +1, -3, +3]\n",
    "\n",
    "def BFS(puzzle):\n",
    "    queue = deque()\n",
    "    queue.append((puzzle, 0))\n",
    "    visited[puzzle] = 1\n",
    "    while queue:\n",
    "        s, c = queue.popleft()\n",
    "        e = s.index('0')\n",
    "        if s == '123456780':\n",
    "            return c\n",
    "        for i in n:\n",
    "            after = list(s)\n",
    "            if 0<=(e%3)+i<3 or e+2<e+i<9 or 0<=e+i<e-2:\n",
    "                after[e], after[e+i] = after[e+i], after[e]\n",
    "                after = ''.join(after)\n",
    "                if not after in visited.keys():\n",
    "                    queue.append((after, c+1))\n",
    "                    visited[after] = 1\n",
    "    return -1\n",
    "\n",
    "print(BFS(puzzle))"
   ]
  },
  {
   "cell_type": "markdown",
   "metadata": {},
   "source": [
    "## 4963번: 섬의 개수"
   ]
  },
  {
   "cell_type": "code",
   "execution_count": 14,
   "metadata": {},
   "outputs": [
    {
     "name": "stdout",
     "output_type": "stream",
     "text": [
      "1 1\n",
      "0\n",
      "0\n",
      "2 2\n",
      "0 1\n",
      "1 0\n",
      "1\n",
      "3 2\n",
      "1 1 1\n",
      "1 1 1\n",
      "1\n",
      "5 4\n",
      "1 0 1 0 0\n",
      "1 0 0 0 0\n",
      "1 0 1 0 1\n",
      "1 0 0 1 0\n",
      "3\n",
      "5 4\n",
      "1 1 1 0 1\n",
      "1 0 1 0 1\n",
      "1 0 1 0 1\n",
      "1 0 1 1 1\n",
      "1\n",
      "5 5\n",
      "1 0 1 0 1\n",
      "0 0 0 0 0\n",
      "1 0 1 0 1\n",
      "0 0 0 0 0\n",
      "1 0 1 0 1\n",
      "9\n",
      "0 0\n"
     ]
    }
   ],
   "source": [
    "import sys\n",
    "from collections import deque\n",
    "#input = sys.stdin.readline\n",
    "\n",
    "ni = [-1, -1, -1, 0, 0, 0, 1, 1, 1]\n",
    "nj = [-1, 0, 1, -1, 0, 1, -1, 0, 1]\n",
    "\n",
    "def BFS(i, j, visited):\n",
    "    queue = deque()\n",
    "    queue.append((i, j))\n",
    "    while queue:\n",
    "        i, j = queue.popleft()\n",
    "        for n in range(9):\n",
    "            if 0<=i+ni[n]<h and 0<=j+nj[n]<w:\n",
    "                if visited[i+ni[n]][j+nj[n]] == 0 and graph[i+ni[n]][j+nj[n]] == 1:\n",
    "                    visited[i+ni[n]][j+nj[n]] = 1\n",
    "                    queue.append((i+ni[n], j+nj[n]))\n",
    "\n",
    "while True:\n",
    "    w, h = map(int, input().split())\n",
    "    if w == h == 0:\n",
    "        break\n",
    "        \n",
    "    graph = []\n",
    "    for i in range(h):\n",
    "        graph.append(list(map(int, input().split())))\n",
    "\n",
    "    cnt = 0\n",
    "    visited = [[0]*w for _ in range(h)]\n",
    "    for i in range(h):\n",
    "        for j in range(w):\n",
    "            if visited[i][j] == 0 and graph[i][j] == 1:\n",
    "                BFS(i, j, visited)\n",
    "                cnt += 1\n",
    "    print(cnt)"
   ]
  },
  {
   "cell_type": "markdown",
   "metadata": {},
   "source": [
    "## 2583번: 영역 구하기"
   ]
  },
  {
   "cell_type": "code",
   "execution_count": 30,
   "metadata": {},
   "outputs": [
    {
     "name": "stdout",
     "output_type": "stream",
     "text": [
      "5 7 3\n",
      "0 2 4 4\n",
      "1 1 2 5\n",
      "4 0 6 2\n",
      "3\n",
      "1 7 13\n"
     ]
    }
   ],
   "source": [
    "import sys\n",
    "#input = sys.stdin.readline\n",
    "#sys.setrecursionlimit(100000)\n",
    "\n",
    "M, N, K = map(int, input().split())\n",
    "graph = [[0]*N for i in range(M)]\n",
    "for _ in range(K):\n",
    "    x1, y1, x2, y2 = map(int, input().split())\n",
    "    for i in range(y1, y2):\n",
    "        for j in range(x1, x2):\n",
    "            graph[i][j] = 1\n",
    "\n",
    "ni = [-1, 1, 0, 0]\n",
    "nj = [0, 0, -1, 1]\n",
    "visited = [[0]*N for i in range(M)]\n",
    "\n",
    "def DFS(i, j):\n",
    "    visited[i][j] = 1\n",
    "    cnt = 0\n",
    "    for n in range(4):\n",
    "        if 0<=i+ni[n]<M and 0<=j+nj[n]<N:\n",
    "            if visited[i+ni[n]][j+nj[n]] == 0 and graph[i+ni[n]][j+nj[n]]==0:\n",
    "                cnt += DFS(i+ni[n], j+nj[n])\n",
    "    return cnt+1\n",
    "        \n",
    "result = []\n",
    "for i in range(M):\n",
    "    for j in range(N):\n",
    "        if graph[i][j] == 0 and visited[i][j] == 0:\n",
    "            result.append(DFS(i, j))\n",
    "print(len(result))\n",
    "print(*sorted(result))"
   ]
  },
  {
   "cell_type": "markdown",
   "metadata": {},
   "source": [
    "## 5014번: 스타트링크"
   ]
  },
  {
   "cell_type": "code",
   "execution_count": 1,
   "metadata": {},
   "outputs": [
    {
     "name": "stdout",
     "output_type": "stream",
     "text": [
      "100 2 1 1 0\n",
      "use the stairs\n"
     ]
    }
   ],
   "source": [
    "from collections import deque\n",
    "#F:건물 층수, S:출발지, G:도착지, U:위로 가는 층수, D:아래로 가는 층수\n",
    "F, S, G, U, D = map(int, input().split())\n",
    "\n",
    "queue = deque()\n",
    "queue.append((S, 0))\n",
    "visited = [0]*(F+1)\n",
    "ans = \"use the stairs\"\n",
    "while queue:\n",
    "    s, c = queue.popleft()\n",
    "    if s == G:\n",
    "        ans = c\n",
    "        break\n",
    "    if s+U <= F and not visited[s+U]: #위\n",
    "        queue.append((s+U, c+1))\n",
    "        visited[s+U] = 1\n",
    "    if s-D > 0 and not visited[s-D]: #아래\n",
    "        queue.append((s-D, c+1))\n",
    "        visited[s-D] = 1\n",
    "print(ans)"
   ]
  },
  {
   "cell_type": "markdown",
   "metadata": {},
   "source": [
    "## 2146번: 다리 만들기"
   ]
  },
  {
   "cell_type": "code",
   "execution_count": 20,
   "metadata": {
    "scrolled": true
   },
   "outputs": [
    {
     "name": "stdout",
     "output_type": "stream",
     "text": [
      "10\n",
      "1 1 1 0 0 0 0 1 1 1\n",
      "1 1 1 1 0 0 0 0 1 1\n",
      "1 0 1 1 0 0 0 0 1 1\n",
      "0 0 1 1 1 0 0 0 0 1\n",
      "0 0 0 1 0 0 0 0 0 1\n",
      "0 0 0 0 0 0 0 0 0 1\n",
      "0 0 0 0 0 0 0 0 0 0\n",
      "0 0 0 0 1 1 0 0 0 0\n",
      "0 0 0 0 1 1 1 0 0 0\n",
      "0 0 0 0 0 0 0 0 0 0\n",
      "3\n"
     ]
    }
   ],
   "source": [
    "import sys\n",
    "from collections import deque\n",
    "#input = sys.stdin.readline\n",
    "\n",
    "N = int(input())\n",
    "island = []\n",
    "for i in range(N):\n",
    "    island.append(list(map(int, input().split())))\n",
    "    \n",
    "#섬 찾기\n",
    "ni = [-1, 1, 0, 0]\n",
    "nj = [0, 0, -1, 1]\n",
    "cnt = 1\n",
    "visited = [[0]*N for _ in range(N)]\n",
    "def find(i, j):\n",
    "    global cnt, N\n",
    "    queue = deque()\n",
    "    queue.append((i, j))\n",
    "    visited[i][j] = 1\n",
    "    island[i][j] = cnt\n",
    "    while queue:\n",
    "        i, j = queue.popleft()\n",
    "        for n in range(4):\n",
    "            if 0<=i+ni[n]<N and 0<=j+nj[n]<N:\n",
    "                if island[i+ni[n]][j+nj[n]]==1 and visited[i+ni[n]][j+nj[n]]==0:\n",
    "                    queue.append((i+ni[n],j+nj[n]))\n",
    "                    island[i+ni[n]][j+nj[n]] = cnt\n",
    "                    visited[i+ni[n]][j+nj[n]] = 1\n",
    "                    \n",
    "for i in range(N):\n",
    "    for j in range(N):\n",
    "        if visited[i][j] == 0 and island[i][j] == 1:\n",
    "            find(i, j)\n",
    "            cnt += 1\n",
    "            \n",
    "temp=[deque() for i in range(cnt)]\n",
    "for i in range(N):\n",
    "    for j in range(N):\n",
    "        if island[i][j] != 0:\n",
    "            temp[island[i][j]].append((i, j, 0))\n",
    "            \n",
    "#다리짓기\n",
    "def make(queue, s):\n",
    "    visited = [[0]*N for _ in range(N)]\n",
    "    while queue:\n",
    "        i, j, c= queue.popleft()\n",
    "        for n in range(4):\n",
    "            if 0<=i+ni[n]<N and 0<=j+nj[n]<N:\n",
    "                if island[i+ni[n]][j+nj[n]] not in [0, s]:\n",
    "                    return c\n",
    "                if island[i+ni[n]][j+nj[n]]==0 and visited[i+ni[n]][j+nj[n]]==0:\n",
    "                    queue.append((i+ni[n],j+nj[n],c+1))\n",
    "                    visited[i+ni[n]][j+nj[n]] = 1\n",
    "    return sys.maxsize\n",
    "                    \n",
    "result = sys.maxsize\n",
    "for i in range(1, cnt):\n",
    "    result = min(make(temp[i], i), result)\n",
    "    \n",
    "print(result)"
   ]
  },
  {
   "cell_type": "markdown",
   "metadata": {},
   "source": [
    "## 13023번: ABCDE"
   ]
  },
  {
   "cell_type": "code",
   "execution_count": 4,
   "metadata": {},
   "outputs": [
    {
     "name": "stdout",
     "output_type": "stream",
     "text": [
      "5 4\n",
      "0 1\n",
      "1 2\n",
      "2 3\n",
      "3 4\n",
      "1\n"
     ]
    }
   ],
   "source": [
    "def check(i, d):\n",
    "    if d >= 5:\n",
    "        return 1\n",
    "    visited[i] = 1\n",
    "    temp = 0\n",
    "    for n in graph[i]:\n",
    "        if not visited[n]:\n",
    "            temp = max(temp, check(n, d+1))\n",
    "    visited[i] = 0\n",
    "    return temp\n",
    "\n",
    "N, M = map(int, input().split())\n",
    "graph = [[] for _ in range(N)]\n",
    "for _ in range(M):\n",
    "    a, b = map(int, input().split())\n",
    "    graph[a].append(b)\n",
    "    graph[b].append(a)\n",
    "\n",
    "result = 0\n",
    "for i in range(N):\n",
    "    visited = [0]*N\n",
    "    result = check(i, 1)\n",
    "    if result: break\n",
    "        \n",
    "print(result)"
   ]
  },
  {
   "cell_type": "markdown",
   "metadata": {},
   "source": [
    "## 17472번: 다리 만들기 2"
   ]
  },
  {
   "cell_type": "code",
   "execution_count": 22,
   "metadata": {},
   "outputs": [
    {
     "name": "stdout",
     "output_type": "stream",
     "text": [
      "7 8\n",
      "0 0 0 0 0 0 1 1\n",
      "1 1 0 0 0 0 1 1\n",
      "1 1 0 0 0 0 0 0\n",
      "1 1 0 0 0 1 1 0\n",
      "0 0 0 0 0 1 1 0\n",
      "0 0 0 0 0 0 0 0\n",
      "1 1 1 1 1 1 1 1\n",
      "9\n"
     ]
    }
   ],
   "source": [
    "import sys\n",
    "#input = sys.stdin.readline\n",
    "#sys.setrecursionlimit(100000)\n",
    "\n",
    "N, M = map(int, input().split())\n",
    "maps = []\n",
    "for i in range(N):\n",
    "    maps.append(list(map(int, input().split())))\n",
    "\n",
    "#정점 찾기\n",
    "from collections import deque\n",
    "number = 2\n",
    "def BFS(i, j):\n",
    "    global number\n",
    "    queue = deque()\n",
    "    queue.append([i, j])\n",
    "    while queue:\n",
    "        i, j = queue.popleft()\n",
    "        maps[i][j] = number #해당 위치를 number에 해당하는 숫자로 변경\n",
    "        if i > 0 and maps[i-1][j] == 1:#위\n",
    "            queue.append([i-1, j])\n",
    "        if i+1 < N and maps[i+1][j] == 1:#아래\n",
    "            queue.append([i+1, j])\n",
    "        if j > 0 and maps[i][j-1] == 1:#왼쪽\n",
    "            queue.append([i, j-1])\n",
    "        if j+1 < M and maps[i][j+1] == 1:#오른쪽\n",
    "            queue.append([i, j+1])\n",
    "    number += 1\n",
    "    \n",
    "for i in range(N):\n",
    "    for j in range(M):\n",
    "        if maps[i][j] == 1:\n",
    "            BFS(i, j)\n",
    "number -= 1\n",
    "            \n",
    "#간선 찾기 (연결될 수 있는 다리 모두 다 찾기)\n",
    "edge = [[100]*(number+1) for i in range(number+1)]\n",
    "start = 0\n",
    "count = 0\n",
    "for i in range(N): #가로로 찾아보기\n",
    "    for j in range(M):\n",
    "        #바다가 아니면서 해당 위치가 시작점과 다르다면\n",
    "        if maps[i][j] != 0 and maps[i][j] != start and start != 0: #도착지점\n",
    "            if count >= 2: #길이가 2 이상이면\n",
    "                if start < maps[i][j]: #낮은 숫자가 출발점이 되도록 기록\n",
    "                    edge[start][maps[i][j]] = min(edge[start][maps[i][j]], count)\n",
    "                else:\n",
    "                    edge[maps[i][j]][start] = min(edge[maps[i][j]][start], count)\n",
    "            start = maps[i][j]\n",
    "            count = 0\n",
    "        #바다가 아니면서 해당 위치가 시작점과 같거나 시작점이 없다면\n",
    "        if maps[i][j] != 0 and (start == 0 or start == maps[i][j]): #출발지점\n",
    "            start = maps[i][j]\n",
    "            count = 0\n",
    "        #시작점이 있으면서 해당 위치가 바다라면\n",
    "        if maps[i][j] == 0 and start != 0:\n",
    "            count += 1\n",
    "    start = 0\n",
    "    count = 0\n",
    "    \n",
    "for i in range(M): #세로로 찾아보기\n",
    "    for j in range(N):\n",
    "        if maps[j][i] != 0 and maps[j][i] != start and start != 0: #도착지점\n",
    "            if count >= 2: #길이가 2 이상이면\n",
    "                if start < maps[j][i]: #낮은 숫자가 출발점이 되도록 기록\n",
    "                    edge[start][maps[j][i]] = min(edge[start][maps[j][i]], count)\n",
    "                else:\n",
    "                    edge[maps[j][i]][start] = min(edge[maps[j][i]][start], count)\n",
    "            start = maps[j][i]\n",
    "            count = 0\n",
    "        if maps[j][i] != 0 and (start == 0 or start == maps[j][i]): #출발지점\n",
    "            start = maps[j][i]\n",
    "            count = 0\n",
    "        if maps[j][i] == 0 and start != 0:\n",
    "            count += 1\n",
    "    start = 0\n",
    "    count = 0\n",
    "\n",
    "#다리 연결하기 (크루스칼 MST)\n",
    "import heapq\n",
    "heap = [] #연결될 수 있는 다리를 모두 힙에 넣기\n",
    "for i in range(number+1):\n",
    "    for j in range(number+1):\n",
    "        if 100 > edge[i][j]:\n",
    "            heapq.heappush(heap, [edge[i][j], i, j])\n",
    "            \n",
    "#유니온 파인드\n",
    "root = [i for i in range(number+1)] \n",
    "def find_root(target):\n",
    "    if root[target] == target:\n",
    "        return target\n",
    "    root[target] = find_root(root[target])\n",
    "    return root[target]\n",
    "def union(i, j):\n",
    "    i = find_root(i)\n",
    "    j = find_root(j)\n",
    "    if i == j:\n",
    "        return False\n",
    "    if i < j:\n",
    "        root[j] = i\n",
    "    else:\n",
    "        root[i] = j\n",
    "    return True\n",
    "\n",
    "count = number-2 #만들어져야하는 다리 수\n",
    "distance = 0 #총 거리\n",
    "while heap and count:\n",
    "    d, i, j = heapq.heappop(heap)\n",
    "    if union(i, j):\n",
    "        distance += d\n",
    "        count -= 1\n",
    "\n",
    "if count: #연결 안된 섬이 남았다면\n",
    "    print(-1)\n",
    "else:\n",
    "    print(distance)"
   ]
  },
  {
   "cell_type": "markdown",
   "metadata": {},
   "source": [
    "## 5567번: 결혼식"
   ]
  },
  {
   "cell_type": "code",
   "execution_count": 23,
   "metadata": {},
   "outputs": [
    {
     "name": "stdout",
     "output_type": "stream",
     "text": [
      "6\n",
      "5\n",
      "2 3\n",
      "3 4\n",
      "4 5\n",
      "5 6\n",
      "2 5\n",
      "0\n"
     ]
    }
   ],
   "source": [
    "import sys\n",
    "from collections import deque\n",
    "#input = sys.stdin.readline\n",
    "\n",
    "n = int(input())\n",
    "m = int(input())\n",
    "graph = [[] for _ in range(n+1)]\n",
    "for i in range(m):\n",
    "    a, b = map(int, input().split())\n",
    "    graph[a].append(b)\n",
    "    graph[b].append(a)\n",
    "\n",
    "visited = [0]*(n+1)\n",
    "queue = deque()\n",
    "queue.append((1, 0)) #위치, 깊이\n",
    "visited[1] = 1\n",
    "while queue:\n",
    "    s, d = queue.popleft()\n",
    "    if d > 1: continue #친구의 친구까지\n",
    "    for i in graph[s]:\n",
    "        if not visited[i]:\n",
    "            queue.append((i, d+1))\n",
    "            visited[i] = 1\n",
    "            \n",
    "print(sum(visited)-1) #루트(1)을 제외한 방문수"
   ]
  },
  {
   "cell_type": "markdown",
   "metadata": {},
   "source": [
    "## 2668번: 숫자고르기"
   ]
  },
  {
   "cell_type": "code",
   "execution_count": 22,
   "metadata": {},
   "outputs": [
    {
     "name": "stdout",
     "output_type": "stream",
     "text": [
      "3\n",
      "1\n",
      "3\n",
      "5\n"
     ]
    }
   ],
   "source": [
    "N = int(input())\n",
    "graph = []\n",
    "for i in range(N):\n",
    "    graph.append(int(input())-1)\n",
    "\n",
    "select = [0] * N\n",
    "for i in range(N):\n",
    "    visited = [0] * N\n",
    "    visited[i] = 1\n",
    "    s = graph[i]\n",
    "    temp = [i]\n",
    "    while not visited[s]:\n",
    "        temp.append(s)\n",
    "        visited[s] = 1\n",
    "        s = graph[s]\n",
    "    if i==s:\n",
    "        for t in temp:\n",
    "            select[t] = 1\n",
    "            \n",
    "print(sum(select))\n",
    "for i in range(N):\n",
    "    if select[i] == 1:\n",
    "        print(i+1)"
   ]
  },
  {
   "cell_type": "markdown",
   "metadata": {},
   "source": [
    "## 5214번: 환승"
   ]
  },
  {
   "cell_type": "code",
   "execution_count": 18,
   "metadata": {},
   "outputs": [
    {
     "name": "stdout",
     "output_type": "stream",
     "text": [
      "15 8 4\n",
      "11 12 8 14 13 6 10 7\n",
      "1 5 8 12 13 6 2 4\n",
      "10 15 4 5 9 8 14 12\n",
      "11 12 14 3 5 6 1 13\n",
      "3\n"
     ]
    }
   ],
   "source": [
    "import sys\n",
    "from collections import deque\n",
    "#input = sys.stdin.readline\n",
    "\n",
    "#graph[1~N]: 역, graph[N+1~N+M]: 하이퍼튜브\n",
    "N, K, M = map(int, input().split())\n",
    "graph = [[] for _ in range(N+1)]\n",
    "for i in range(1, M+1):\n",
    "    graph.append(list(map(int, input().split())))\n",
    "    for j in graph[-1]:\n",
    "        graph[j].append(i+N)\n",
    "\n",
    "queue = deque()\n",
    "queue.append((1, 1)) #현재위치, 역의개수\n",
    "visited = [0] * (N+M+1)\n",
    "visited[1] = 1\n",
    "cnt = -1 #역의 개수 최솟값\n",
    "while queue:\n",
    "    s, c = queue.popleft()\n",
    "    if s == N: #N에 도착했을경우\n",
    "        cnt = c\n",
    "        break\n",
    "    for n in graph[s]:\n",
    "        if not visited[n]:\n",
    "            visited[n] = 1\n",
    "            if n<=N: queue.append((n, c+1)) #역\n",
    "            else: queue.append((n, c)) #하이퍼튜브\n",
    "print(cnt)"
   ]
  },
  {
   "cell_type": "markdown",
   "metadata": {},
   "source": [
    "## 1939번: 중량제한"
   ]
  },
  {
   "cell_type": "code",
   "execution_count": 2,
   "metadata": {},
   "outputs": [
    {
     "name": "stdout",
     "output_type": "stream",
     "text": [
      "3 3\n",
      "1 2 2\n",
      "3 1 3\n",
      "2 3 2\n",
      "1 3\n",
      "3\n"
     ]
    }
   ],
   "source": [
    "import sys\n",
    "from collections import deque\n",
    "#input = sys.stdin.readline\n",
    "\n",
    "N, M = map(int, input().split())\n",
    "graph = [[] for _ in range(N+1)]\n",
    "for i in range(M):\n",
    "    a, b, c = map(int, input().split())\n",
    "    graph[a].append((b, c))\n",
    "    graph[b].append((a, c))\n",
    "start, end = map(int, input().split())\n",
    "\n",
    "def BFS(num):\n",
    "    queue = deque()\n",
    "    queue.append(start)\n",
    "    visited = [0]*(N+1)\n",
    "    visited[start] = 1\n",
    "    while queue:\n",
    "        s = queue.popleft()\n",
    "        if s == end:\n",
    "            return 1\n",
    "        for n, w in graph[s]:\n",
    "            if not visited[n] and w>=num:\n",
    "                visited[n] = 1\n",
    "                queue.append(n)\n",
    "    return 0\n",
    "\n",
    "left, right, mid = 1, 1000000000, 0\n",
    "while left<=right:\n",
    "    mid = (left+right)//2\n",
    "    if BFS(mid): left = mid+1\n",
    "    else: right = mid-1\n",
    "print(right)"
   ]
  },
  {
   "cell_type": "markdown",
   "metadata": {},
   "source": [
    "## 11266번: 단절점"
   ]
  },
  {
   "cell_type": "code",
   "execution_count": 13,
   "metadata": {},
   "outputs": [],
   "source": [
    "#https://velog.io/@leehe228/boj11266\n",
    "import sys\n",
    "#input = sys.stdin.readline\n",
    "#sys.setrecursionlimit(100000)\n",
    "\n",
    "def DFS(curr, isroot):\n",
    "    global nodecnt\n",
    "    nodecnt += 1\n",
    "    order[curr] = nodecnt\n",
    "    \n",
    "    rtn = order[curr]\n",
    "    child = 0\n",
    "    \n",
    "    for n in graph[curr]:\n",
    "        if order[n] == 0:\n",
    "            child += 1\n",
    "            min_child = DFS(n, 0)\n",
    "            if not isroot and min_child >= order[curr]:\n",
    "                cut[curr] = 1\n",
    "            rtn = min(rtn, min_child)\n",
    "        else:\n",
    "            rtn = min(rtn, order[n])\n",
    "    \n",
    "    if isroot and child > 1:\n",
    "        cut[curr] = 1\n",
    "    return rtn\n",
    "\n",
    "V, E = map(int, input().split())\n",
    "graph = [[] for _ in range(V+1)]\n",
    "for i in range(E):\n",
    "    A, B = map(int, input().split())\n",
    "    graph[A].append(B)\n",
    "    graph[B].append(A)\n",
    "    \n",
    "order = [0]*(V+1) #탐색 순서\n",
    "cut = [0]*(V+1) #단절점\n",
    "nodecnt = 0\n",
    "\n",
    "for v in range(1, V+1):\n",
    "    if order[v] == 0:\n",
    "        DFS(v, 1)\n",
    "        \n",
    "print(sum(cut))\n",
    "for i in range(1, V+1):\n",
    "    if cut[i]: print(i, end=' ')"
   ]
  },
  {
   "cell_type": "markdown",
   "metadata": {},
   "source": [
    "## 1325번: 효율적인 해킹"
   ]
  },
  {
   "cell_type": "code",
   "execution_count": 1,
   "metadata": {},
   "outputs": [
    {
     "name": "stdout",
     "output_type": "stream",
     "text": [
      "5 4\n",
      "3 1\n",
      "3 2\n",
      "4 3\n",
      "5 3\n",
      "1 2 "
     ]
    }
   ],
   "source": [
    "import sys\n",
    "#input = sys.stdin.readline\n",
    "from collections import deque\n",
    "def BFS(v):\n",
    "    queue = deque()\n",
    "    queue.append(v)\n",
    "    visited[v] = 1\n",
    "    while queue:\n",
    "        v = queue.popleft()\n",
    "        for n in graph[v]:\n",
    "            if not visited[n]:\n",
    "                visited[n] = 1\n",
    "                queue.append(n)\n",
    "    return sum(visited)\n",
    "\n",
    "N, M = map(int, input().split())\n",
    "graph = [[] for _ in range(N+1)]\n",
    "for i in range(M):\n",
    "    A, B = map(int, input().split())\n",
    "    graph[B].append(A)            \n",
    "            \n",
    "result = [(0, 0)]\n",
    "for i in range(1, N+1):\n",
    "    visited = [0] * (N+1)\n",
    "    cnt = BFS(i)\n",
    "    if result[0][0] < cnt: result = [(cnt, i)]\n",
    "    elif result[0][0] == cnt: result.append((cnt, i))\n",
    "        \n",
    "result.sort()\n",
    "for c, v in result: print(v, end=' ')"
   ]
  },
  {
   "cell_type": "markdown",
   "metadata": {},
   "source": [
    "## 17142번: 연구소 3"
   ]
  },
  {
   "cell_type": "code",
   "execution_count": 87,
   "metadata": {},
   "outputs": [
    {
     "name": "stdout",
     "output_type": "stream",
     "text": [
      "7 3\n",
      "2 0 0 0 1 1 0\n",
      "0 0 1 0 1 2 0\n",
      "0 1 1 0 1 0 0\n",
      "0 1 0 0 0 0 0\n",
      "0 0 0 2 0 1 1\n",
      "0 1 0 0 0 0 0\n",
      "2 1 0 0 0 0 2\n",
      "4\n"
     ]
    }
   ],
   "source": [
    "import sys\n",
    "#input = sys.stdin.readline\n",
    "N, M = map(int, input().split())\n",
    "graph = []\n",
    "for i in range(N):\n",
    "    graph.append(list(map(int, input().split())))\n",
    "    \n",
    "#바이러스 위치 찾기\n",
    "virus = []\n",
    "for i in range(N):\n",
    "    for j in range(N):\n",
    "        if graph[i][j] == 2: virus.append((i, j))\n",
    "            \n",
    "from itertools import combinations\n",
    "cmb = combinations(virus, M)\n",
    "\n",
    "from collections import deque\n",
    "ii = [-1, 1, 0, 0]\n",
    "ij = [0, 0, -1, 1]\n",
    "def BFS(start):\n",
    "    queue = deque()\n",
    "    visited = [[0]*N for _ in range(N)]\n",
    "    for i, j in start:\n",
    "        queue.append((i, j))\n",
    "        visited[i][j] = 1\n",
    "    time = 0\n",
    "    while queue:\n",
    "        i, j = queue.popleft()\n",
    "        for n in range(4):\n",
    "            ni = ii[n] + i\n",
    "            nj = ij[n] + j\n",
    "            if 0<=ni<N and 0<=nj<N and not visited[ni][nj] and graph[ni][nj] != 1:\n",
    "                queue.append((ni, nj))\n",
    "                visited[ni][nj] = visited[i][j]+1\n",
    "        if graph[i][j] != 2: #바이러스가 있는곳이 아니라면\n",
    "            time = max(time, visited[i][j]-1) #시간 갱신\n",
    "    #for i in visited: print(i)\n",
    "    #print()\n",
    "    #퍼지지 않은곳이 있는지 확인\n",
    "    for i in range(N):\n",
    "        for j in range(N):\n",
    "            if not graph[i][j] and not visited[i][j]:\n",
    "                return INF\n",
    "    return time\n",
    "\n",
    "INF = sys.maxsize\n",
    "result = INF\n",
    "for cmb in combinations(virus, M):\n",
    "    result = min(result, BFS(cmb))\n",
    "    \n",
    "if result == INF: print(-1)\n",
    "else: print(result)"
   ]
  },
  {
   "cell_type": "markdown",
   "metadata": {},
   "source": [
    "## 6593번: 상범 빌딩"
   ]
  },
  {
   "cell_type": "code",
   "execution_count": 19,
   "metadata": {},
   "outputs": [
    {
     "name": "stdout",
     "output_type": "stream",
     "text": [
      "3 4 5\n",
      "S....\n",
      ".###.\n",
      ".##..\n",
      "###.#\n",
      "\n",
      "#####\n",
      "#####\n",
      "##.##\n",
      "##...\n",
      "\n",
      "#####\n",
      "#####\n",
      "#.###\n",
      "####E\n",
      "\n",
      "Escaped in 11 minute(s).\n",
      "1 3 3\n",
      "S##\n",
      "#E#\n",
      "###\n",
      "\n",
      "Trapped!\n",
      "0 0 0\n"
     ]
    }
   ],
   "source": [
    "import sys\n",
    "#input = sys.stdin.readline\n",
    "from collections import deque\n",
    "dl = [-1, 1, 0, 0, 0, 0]\n",
    "di = [0, 0, -1, 1, 0, 0]\n",
    "dj = [0, 0, 0, 0, -1, 1]\n",
    "\n",
    "def BFS():\n",
    "    queue = deque()\n",
    "    queue.append(start)\n",
    "    visited = [[[0]*C for _ in range(R)] for _ in range(L)]\n",
    "    visited[start[0]][start[1]][start[2]] = 1\n",
    "    while queue:\n",
    "        l, i, j = queue.popleft()\n",
    "        if graph[l][i][j] == 'E':\n",
    "            return 'Escaped in %d minute(s).'%(visited[l][i][j]-1)\n",
    "        for n in range(6):\n",
    "            nl, ni, nj = dl[n]+l, di[n]+i, dj[n]+j\n",
    "            if 0<=nl<L and 0<=ni<R and 0<=nj<C:\n",
    "                if graph[nl][ni][nj] != '#' and not visited[nl][ni][nj]:\n",
    "                    queue.append((nl, ni, nj))\n",
    "                    visited[nl][ni][nj] = visited[l][i][j]+1\n",
    "    return 'Trapped!'\n",
    "\n",
    "while True:\n",
    "    L, R, C = map(int, input().split())\n",
    "    if L == R == C == 0: break\n",
    "        \n",
    "    graph = [[] for _ in range(L)]\n",
    "    start = ()\n",
    "    for l in range(L):\n",
    "        for i in range(R):\n",
    "            graph[l].append(list(input().strip()))\n",
    "            for j in range(C):\n",
    "                if graph[l][i][j] == 'S': start = (l, i, j)\n",
    "        input()\n",
    "        \n",
    "    print(BFS())"
   ]
  },
  {
   "cell_type": "markdown",
   "metadata": {},
   "source": [
    "## 9205번: 맥주 마시면서 걸어가기"
   ]
  },
  {
   "cell_type": "code",
   "execution_count": 27,
   "metadata": {},
   "outputs": [
    {
     "name": "stdout",
     "output_type": "stream",
     "text": [
      "2\n",
      "2\n",
      "0 0\n",
      "1000 0\n",
      "1000 1000\n",
      "2000 1000\n",
      "happy\n",
      "2\n",
      "0 0\n",
      "1000 0\n",
      "2000 1000\n",
      "2000 2000\n",
      "sad\n"
     ]
    }
   ],
   "source": [
    "from collections import deque\n",
    "def check(v1, v2):\n",
    "    x1, y1 = graph[v1]\n",
    "    x2, y2 = graph[v2]\n",
    "    return abs(x2-x1)+abs(y2-y1) <= 1000\n",
    "    \n",
    "def BFS():\n",
    "    visited = [0]*(N+2)\n",
    "    queue = deque()\n",
    "    queue.append(0)\n",
    "    visited[0] = 1\n",
    "    while queue:\n",
    "        v = queue.popleft()\n",
    "        if v == N+1:\n",
    "            return \"happy\"\n",
    "        for i in range(N+2):\n",
    "            if not visited[i] and check(i, v):\n",
    "                visited[i] = 1\n",
    "                queue.append(i)\n",
    "    return \"sad\"\n",
    "\n",
    "for t in range(int(input())):\n",
    "    N = int(input())\n",
    "    graph = []\n",
    "    for _ in range(N+2):\n",
    "        graph.append(tuple(map(int, input().split())))\n",
    "    print(BFS())"
   ]
  },
  {
   "cell_type": "markdown",
   "metadata": {},
   "source": [
    "## 2251번: 물통"
   ]
  },
  {
   "cell_type": "code",
   "execution_count": 10,
   "metadata": {},
   "outputs": [
    {
     "name": "stdout",
     "output_type": "stream",
     "text": [
      "8 9 10\n",
      "1 2 8 9 10 "
     ]
    }
   ],
   "source": [
    "from collections import deque\n",
    "from copy import deepcopy\n",
    "\n",
    "volume = list(map(int, input().split()))\n",
    "\n",
    "visited = {}\n",
    "queue = deque()\n",
    "queue.append([0, 0, volume[2]])\n",
    "visited[str([0, 0, volume[2]])] = 1\n",
    "ans = [0]*(volume[2]+1)\n",
    "while queue:\n",
    "    bucket = queue.popleft()\n",
    "    if bucket[0] == 0:\n",
    "        ans[bucket[2]] = 1\n",
    "    for i in range(3):\n",
    "        if not bucket[i]: continue\n",
    "        for j in range(3):\n",
    "            if i !=j:\n",
    "                temp = deepcopy(bucket)\n",
    "                if bucket[i]+bucket[j] <= volume[j]:\n",
    "                    temp[i] = 0\n",
    "                    temp[j] = bucket[i]+bucket[j]\n",
    "                else:\n",
    "                    temp[i] = bucket[i]+bucket[j]-volume[j]\n",
    "                    temp[j] = volume[j]\n",
    "                #print(bucket, temp)\n",
    "                if str(temp) not in visited:\n",
    "                    queue.append(temp)\n",
    "                    visited[str(temp)] = 1\n",
    "for i in range(volume[2]+1):\n",
    "    if ans[i]: print(i, end=' ')"
   ]
  }
 ],
 "metadata": {
  "kernelspec": {
   "display_name": "Python 3",
   "language": "python",
   "name": "python3"
  },
  "language_info": {
   "codemirror_mode": {
    "name": "ipython",
    "version": 3
   },
   "file_extension": ".py",
   "mimetype": "text/x-python",
   "name": "python",
   "nbconvert_exporter": "python",
   "pygments_lexer": "ipython3",
   "version": "3.8.3"
  },
  "toc": {
   "base_numbering": 1,
   "nav_menu": {},
   "number_sections": true,
   "sideBar": true,
   "skip_h1_title": false,
   "title_cell": "Table of Contents",
   "title_sidebar": "Contents",
   "toc_cell": false,
   "toc_position": {},
   "toc_section_display": true,
   "toc_window_display": false
  },
  "varInspector": {
   "cols": {
    "lenName": 16,
    "lenType": 16,
    "lenVar": 40
   },
   "kernels_config": {
    "python": {
     "delete_cmd_postfix": "",
     "delete_cmd_prefix": "del ",
     "library": "var_list.py",
     "varRefreshCmd": "print(var_dic_list())"
    },
    "r": {
     "delete_cmd_postfix": ") ",
     "delete_cmd_prefix": "rm(",
     "library": "var_list.r",
     "varRefreshCmd": "cat(var_dic_list()) "
    }
   },
   "position": {
    "height": "253.395px",
    "left": "556.582px",
    "right": "20px",
    "top": "20px",
    "width": "367.983px"
   },
   "types_to_exclude": [
    "module",
    "function",
    "builtin_function_or_method",
    "instance",
    "_Feature"
   ],
   "window_display": false
  }
 },
 "nbformat": 4,
 "nbformat_minor": 4
}
