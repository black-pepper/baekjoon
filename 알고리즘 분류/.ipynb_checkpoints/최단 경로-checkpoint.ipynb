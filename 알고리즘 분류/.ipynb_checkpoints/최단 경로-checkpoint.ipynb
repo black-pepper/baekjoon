{
 "cells": [
  {
   "cell_type": "markdown",
   "metadata": {},
   "source": [
    "## 1261번: 알고스팟"
   ]
  },
  {
   "cell_type": "code",
   "execution_count": 27,
   "metadata": {},
   "outputs": [
    {
     "name": "stdout",
     "output_type": "stream",
     "text": [
      "3 3\n",
      "011\n",
      "111\n",
      "110\n",
      "3\n"
     ]
    }
   ],
   "source": [
    "import sys\n",
    "import heapq\n",
    "#input = sys.stdin.readline\n",
    "M, N = map(int, input().split())\n",
    "graph = []\n",
    "for i in range(N):\n",
    "    graph.append(list(map(int, input().strip())))\n",
    "    \n",
    "INF = 10001\n",
    "result = [[INF]*M for _ in range(N)]\n",
    "heap = []\n",
    "heapq.heappush(heap, (0, 0, 0))\n",
    "result[0][0] = 0\n",
    "\n",
    "ni = (-1, 1, 0, 0)\n",
    "nj = (0, 0, -1, 1)\n",
    "while heap:\n",
    "    i, j, w = heapq.heappop(heap)\n",
    "    \n",
    "    if result[i][j] < w:\n",
    "        continue\n",
    "        \n",
    "    for n in range(4):\n",
    "        if 0<=i+ni[n]<N and 0<=j+nj[n]<M:\n",
    "            if graph[i+ni[n]][j+nj[n]]+w < result[i+ni[n]][j+nj[n]]:\n",
    "                result[i+ni[n]][j+nj[n]] = graph[i+ni[n]][j+nj[n]]+w\n",
    "                heapq.heappush(heap, (i+ni[n], j+nj[n], result[i+ni[n]][j+nj[n]]))\n",
    "                \n",
    "print(result[-1][-1])"
   ]
  },
  {
   "cell_type": "markdown",
   "metadata": {},
   "source": [
    "## 1238번: 파티"
   ]
  },
  {
   "cell_type": "code",
   "execution_count": 11,
   "metadata": {
    "ExecuteTime": {
     "end_time": "2021-08-12T23:01:56.602453Z",
     "start_time": "2021-08-12T23:01:36.020055Z"
    }
   },
   "outputs": [
    {
     "name": "stdout",
     "output_type": "stream",
     "text": [
      "4 8 2\n",
      "1 2 4\n",
      "1 3 2\n",
      "1 4 7\n",
      "2 1 1\n",
      "2 3 5\n",
      "3 1 2\n",
      "3 4 4\n",
      "4 2 3\n",
      "10\n"
     ]
    }
   ],
   "source": [
    "import sys\n",
    "import heapq\n",
    "#input = sys.stdin.readline\n",
    "\n",
    "def Dijkstra(graph):\n",
    "    INF = sys.maxsize\n",
    "    result= [INF] * (N+1)\n",
    "    heap = []\n",
    "    heapq.heappush(heap, (X, 0))\n",
    "    result[0] = 0\n",
    "    result[X] = 0\n",
    "    while heap:\n",
    "        s, w = heapq.heappop(heap)\n",
    "        if result[s] < w:\n",
    "            continue\n",
    "        for n, nw in graph[s]:\n",
    "            if nw+w < result[n]:\n",
    "                result[n] = nw+w\n",
    "                heapq.heappush(heap, (n, result[n]))\n",
    "    return result\n",
    "\n",
    "N, M, X = map(int, input().split())\n",
    "graph_1 = [[] for _ in range(N+1)]\n",
    "graph_2 = [[] for _ in range(N+1)]\n",
    "for i in range(M):\n",
    "    s, e, t = map(int, input().split())\n",
    "    graph_1[e].append((s, t))\n",
    "    graph_2[s].append((e, t))\n",
    "\n",
    "result1 = Dijkstra(graph_1)\n",
    "result2 = Dijkstra(graph_2)\n",
    "result = [0] * (N+1)\n",
    "for i in range(N+1):\n",
    "    result[i] = result1[i] + result2[i]\n",
    "    \n",
    "print(max(result))"
   ]
  },
  {
   "cell_type": "markdown",
   "metadata": {},
   "source": [
    "## 13549번: 숨바꼭질3"
   ]
  },
  {
   "cell_type": "code",
   "execution_count": 27,
   "metadata": {},
   "outputs": [
    {
     "name": "stdout",
     "output_type": "stream",
     "text": [
      "99999 100000\n",
      "1\n"
     ]
    }
   ],
   "source": [
    "import sys\n",
    "import heapq\n",
    "\n",
    "N, K = map(int, input().split())\n",
    "\n",
    "INF = sys.maxsize\n",
    "size = max(N, K) * 2\n",
    "result = [INF] * (size+1)\n",
    "result[N] = 0\n",
    "heap = []\n",
    "heapq.heappush(heap, (N, 0))\n",
    "\n",
    "while heap:\n",
    "    s, w = heapq.heappop(heap)\n",
    "    if result[s] < w:\n",
    "        continue\n",
    "    if s<size and w+1 < result[s+1]:\n",
    "        result[s+1] = w+1\n",
    "        heapq.heappush(heap, (s+1, result[s+1]))\n",
    "    if s>0 and w+1 < result[s-1]:\n",
    "        result[s-1] = w+1\n",
    "        heapq.heappush(heap, (s-1, result[s-1]))\n",
    "    if s*2<size and w < result[s*2]:\n",
    "        result[s*2] = w\n",
    "        heapq.heappush(heap, (s*2, result[s*2]))\n",
    "        \n",
    "print(result[K])"
   ]
  },
  {
   "cell_type": "markdown",
   "metadata": {},
   "source": [
    "## 4485번: 녹색 옷 입은 애가 젤다지?"
   ]
  },
  {
   "cell_type": "code",
   "execution_count": 9,
   "metadata": {},
   "outputs": [
    {
     "name": "stdout",
     "output_type": "stream",
     "text": [
      "3\n",
      "5 5 4\n",
      "3 9 1\n",
      "3 2 7\n",
      "Problem 1: 20\n",
      "5\n",
      "3 7 2 0 1\n",
      "2 8 0 9 1\n",
      "1 2 1 8 1\n",
      "9 8 9 2 0\n",
      "3 6 5 1 5\n",
      "Problem 2: 19\n",
      "7\n",
      "9 0 5 1 1 5 3\n",
      "4 1 2 1 6 5 3\n",
      "0 7 6 1 6 8 5\n",
      "1 1 7 8 3 2 3\n",
      "9 4 0 7 6 4 1\n",
      "5 8 3 2 4 8 3\n",
      "7 4 8 4 8 3 4\n",
      "Problem 3: 36\n",
      "0\n"
     ]
    }
   ],
   "source": [
    "import sys\n",
    "import heapq\n",
    "#input = sys.stdin.readline\n",
    "INF = sys.maxsize\n",
    "\n",
    "t = 0\n",
    "while True:\n",
    "    t += 1\n",
    "    N = int(input())\n",
    "    if N == 0:\n",
    "        break\n",
    "    matrix = []\n",
    "    for i in range(N):\n",
    "        matrix.append(list(map(int, input().split())))\n",
    "        \n",
    "    result = [[INF]*(N) for _ in range(N)]\n",
    "    result[0][0] = matrix[0][0]\n",
    "    heap = []\n",
    "    heapq.heappush(heap, [0, 0, matrix[0][0]])\n",
    "\n",
    "    ni = [-1, 1, 0, 0]\n",
    "    nj = [0, 0, -1, 1]\n",
    "    while heap:\n",
    "        i, j, w = heapq.heappop(heap)\n",
    "        if result[i][j] < w:\n",
    "            continue\n",
    "        for n in range(4):\n",
    "            if 0<=i+ni[n]<N and 0<=j+nj[n]<N:\n",
    "                if result[i+ni[n]][j+nj[n]] > w + matrix[i+ni[n]][j+nj[n]]:\n",
    "                    result[i+ni[n]][j+nj[n]] = w + matrix[i+ni[n]][j+nj[n]]\n",
    "                    heapq.heappush(heap, [i+ni[n], j+nj[n], result[i+ni[n]][j+nj[n]]])\n",
    "\n",
    "    print('Problem %d: %d'%(t, result[-1][-1]))"
   ]
  },
  {
   "cell_type": "markdown",
   "metadata": {},
   "source": [
    "## 11403번: 경로 찾기"
   ]
  },
  {
   "cell_type": "code",
   "execution_count": 1,
   "metadata": {},
   "outputs": [
    {
     "name": "stdout",
     "output_type": "stream",
     "text": [
      "3\n",
      "0 1 0\n",
      "0 0 1\n",
      "1 0 0\n",
      "1 1 1\n",
      "1 1 1\n",
      "1 1 1\n"
     ]
    }
   ],
   "source": [
    "N = int(input())\n",
    "G = []\n",
    "for i in range(N):\n",
    "    G.append(list(map(int, input().split())))\n",
    "\n",
    "for k in range(N): #거치는곳\n",
    "    for i in range(N): #출발\n",
    "        for j in range(N): #도착\n",
    "            if G[i][k]+G[k][j] > 1: G[i][j] = 1\n",
    "                \n",
    "for g in G:\n",
    "    print(*g)"
   ]
  },
  {
   "cell_type": "markdown",
   "metadata": {},
   "source": [
    "## 1506번: 경찰서"
   ]
  },
  {
   "cell_type": "code",
   "execution_count": 1,
   "metadata": {},
   "outputs": [
    {
     "name": "stdout",
     "output_type": "stream",
     "text": [
      "5\n",
      "1 2 3 4 5\n",
      "00011\n",
      "10000\n",
      "00010\n",
      "00100\n",
      "01000\n",
      "4\n"
     ]
    }
   ],
   "source": [
    "#http://wookje.dance/2018/06/24/boj-1506-boj-%EA%B2%BD%EC%B0%B0%EC%84%9C/\n",
    "import sys\n",
    "#input = sys.stdin.readline\n",
    "\n",
    "N = int(input())\n",
    "cost = list(map(int, input().split()))\n",
    "matrix = []\n",
    "for i in range(N):\n",
    "    matrix.append(list(map(int, input().strip())))\n",
    "    \n",
    "#플로이드 와샬\n",
    "for k in range(N): #거치는곳\n",
    "    for i in range(N): #출발\n",
    "        for j in range(N): #도착\n",
    "            if matrix[i][k]+matrix[k][j] > 1: matrix[i][j] = 1\n",
    "                \n",
    "visited = [0]*N\n",
    "ans = 0\n",
    "for i in range(N):\n",
    "    if not visited[i]:\n",
    "        print()\n",
    "        c = cost[i]\n",
    "        for j in range(N):\n",
    "            if matrix[i][j] & matrix[j][i]: #왔다 갔다 가능하면\n",
    "                c = min (c, cost[j]) #가장 적은 비용 저장\n",
    "                visited[j] = 1\n",
    "        ans += c\n",
    "print(ans)"
   ]
  },
  {
   "cell_type": "markdown",
   "metadata": {},
   "source": [
    "## 18352번: 특정 거리의 도시 찾기"
   ]
  },
  {
   "cell_type": "code",
   "execution_count": 23,
   "metadata": {},
   "outputs": [
    {
     "name": "stdout",
     "output_type": "stream",
     "text": [
      "4 4 1 1\n",
      "1 2\n",
      "1 3\n",
      "2 3\n",
      "2 4\n",
      "2\n",
      "3\n"
     ]
    }
   ],
   "source": [
    "import sys\n",
    "from collections import deque\n",
    "#input = sys.stdin.readline\n",
    "\n",
    "N, M, K, X = map(int, input().split())\n",
    "graph = [[] for _ in range(N+1)]\n",
    "for i in range(M):\n",
    "    A, B = map(int, input().split())\n",
    "    graph[A].append(B)\n",
    "    \n",
    "queue = deque()\n",
    "visited = [-1]*(N+1)\n",
    "queue.append(X)\n",
    "visited[X] = 0 #K에서부터의 거리를 저장\n",
    "while queue:\n",
    "    s = queue.popleft()\n",
    "    for n in graph[s]:\n",
    "        if visited[n] == -1:\n",
    "            visited[n] = visited[s]+1\n",
    "            queue.append(n)\n",
    "        \n",
    "for i in range(N+1):\n",
    "    if visited[i] == K: print(i)\n",
    "if K not in visited: print(-1) #K인 거리가 없다면 -1출력"
   ]
  },
  {
   "cell_type": "markdown",
   "metadata": {},
   "source": [
    "## 2211번: 네트워크 복구"
   ]
  },
  {
   "cell_type": "code",
   "execution_count": 18,
   "metadata": {},
   "outputs": [
    {
     "name": "stdout",
     "output_type": "stream",
     "text": [
      "4 5\n",
      "1 2 1\n",
      "1 4 4\n",
      "1 3 2\n",
      "4 2 2\n",
      "4 3 3\n",
      "3\n",
      "2 1\n",
      "3 1\n",
      "4 2\n"
     ]
    }
   ],
   "source": [
    "import sys\n",
    "import heapq\n",
    "#input = sys.stdin.readline\n",
    "#INF = sys.maxsize\n",
    "\n",
    "N, M = map(int, input().split())\n",
    "graph = [[] for _ in range(N+1)]\n",
    "for _ in range(M):\n",
    "    a, b, c = map(int, input().split())\n",
    "    graph[a].append((b, c))\n",
    "    graph[b].append((a, c))\n",
    "\n",
    "\n",
    "before = [-1]*(N+1)\n",
    "distance = [INF]*(N+1)\n",
    "distance[1] = 0\n",
    "\n",
    "heap = [(1, 0)]\n",
    "\n",
    "while heap:\n",
    "    v, w = heapq.heappop(heap)\n",
    "    if distance[v]<w: continue\n",
    "        \n",
    "    for nv, nw in graph[v]: #nv: 다음 위치, nw: 거리\n",
    "        if nw+w < distance[nv]:\n",
    "            distance[nv] = nw+w\n",
    "            heapq.heappush(heap, (nv, nw+w))\n",
    "            before[nv] = v\n",
    "            \n",
    "print(N-1)\n",
    "for i in range(2, N+1):\n",
    "    print(i, before[i])"
   ]
  }
 ],
 "metadata": {
  "kernelspec": {
   "display_name": "Python 3",
   "language": "python",
   "name": "python3"
  },
  "language_info": {
   "codemirror_mode": {
    "name": "ipython",
    "version": 3
   },
   "file_extension": ".py",
   "mimetype": "text/x-python",
   "name": "python",
   "nbconvert_exporter": "python",
   "pygments_lexer": "ipython3",
   "version": "3.8.3"
  },
  "toc": {
   "base_numbering": 1,
   "nav_menu": {},
   "number_sections": true,
   "sideBar": true,
   "skip_h1_title": false,
   "title_cell": "Table of Contents",
   "title_sidebar": "Contents",
   "toc_cell": false,
   "toc_position": {},
   "toc_section_display": true,
   "toc_window_display": false
  },
  "varInspector": {
   "cols": {
    "lenName": 16,
    "lenType": 16,
    "lenVar": 40
   },
   "kernels_config": {
    "python": {
     "delete_cmd_postfix": "",
     "delete_cmd_prefix": "del ",
     "library": "var_list.py",
     "varRefreshCmd": "print(var_dic_list())"
    },
    "r": {
     "delete_cmd_postfix": ") ",
     "delete_cmd_prefix": "rm(",
     "library": "var_list.r",
     "varRefreshCmd": "cat(var_dic_list()) "
    }
   },
   "position": {
    "height": "310.417px",
    "left": "290px",
    "right": "20px",
    "top": "120px",
    "width": "350px"
   },
   "types_to_exclude": [
    "module",
    "function",
    "builtin_function_or_method",
    "instance",
    "_Feature"
   ],
   "window_display": false
  }
 },
 "nbformat": 4,
 "nbformat_minor": 4
}
