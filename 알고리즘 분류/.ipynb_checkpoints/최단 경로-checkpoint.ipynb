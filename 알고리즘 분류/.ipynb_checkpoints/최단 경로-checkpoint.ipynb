{
 "cells": [
  {
   "cell_type": "markdown",
   "metadata": {},
   "source": [
    "## 1261번: 알고스팟"
   ]
  },
  {
   "cell_type": "code",
   "execution_count": 27,
   "metadata": {},
   "outputs": [
    {
     "name": "stdout",
     "output_type": "stream",
     "text": [
      "3 3\n",
      "011\n",
      "111\n",
      "110\n",
      "3\n"
     ]
    }
   ],
   "source": [
    "import sys\n",
    "import heapq\n",
    "#input = sys.stdin.readline\n",
    "M, N = map(int, input().split())\n",
    "graph = []\n",
    "for i in range(N):\n",
    "    graph.append(list(map(int, input().strip())))\n",
    "    \n",
    "INF = 10001\n",
    "result = [[INF]*M for _ in range(N)]\n",
    "heap = []\n",
    "heapq.heappush(heap, (0, 0, 0))\n",
    "result[0][0] = 0\n",
    "\n",
    "ni = (-1, 1, 0, 0)\n",
    "nj = (0, 0, -1, 1)\n",
    "while heap:\n",
    "    i, j, w = heapq.heappop(heap)\n",
    "    \n",
    "    if result[i][j] < w:\n",
    "        continue\n",
    "        \n",
    "    for n in range(4):\n",
    "        if 0<=i+ni[n]<N and 0<=j+nj[n]<M:\n",
    "            if graph[i+ni[n]][j+nj[n]]+w < result[i+ni[n]][j+nj[n]]:\n",
    "                result[i+ni[n]][j+nj[n]] = graph[i+ni[n]][j+nj[n]]+w\n",
    "                heapq.heappush(heap, (i+ni[n], j+nj[n], result[i+ni[n]][j+nj[n]]))\n",
    "                \n",
    "print(result[-1][-1])"
   ]
  },
  {
   "cell_type": "markdown",
   "metadata": {},
   "source": [
    "## 1238번: 파티"
   ]
  },
  {
   "cell_type": "code",
   "execution_count": 11,
   "metadata": {
    "ExecuteTime": {
     "end_time": "2021-08-12T23:01:56.602453Z",
     "start_time": "2021-08-12T23:01:36.020055Z"
    }
   },
   "outputs": [
    {
     "name": "stdout",
     "output_type": "stream",
     "text": [
      "4 8 2\n",
      "1 2 4\n",
      "1 3 2\n",
      "1 4 7\n",
      "2 1 1\n",
      "2 3 5\n",
      "3 1 2\n",
      "3 4 4\n",
      "4 2 3\n",
      "10\n"
     ]
    }
   ],
   "source": [
    "import sys\n",
    "import heapq\n",
    "#input = sys.stdin.readline\n",
    "\n",
    "def Dijkstra(graph):\n",
    "    INF = sys.maxsize\n",
    "    result= [INF] * (N+1)\n",
    "    heap = []\n",
    "    heapq.heappush(heap, (X, 0))\n",
    "    result[0] = 0\n",
    "    result[X] = 0\n",
    "    while heap:\n",
    "        s, w = heapq.heappop(heap)\n",
    "        if result[s] < w:\n",
    "            continue\n",
    "        for n, nw in graph[s]:\n",
    "            if nw+w < result[n]:\n",
    "                result[n] = nw+w\n",
    "                heapq.heappush(heap, (n, result[n]))\n",
    "    return result\n",
    "\n",
    "N, M, X = map(int, input().split())\n",
    "graph_1 = [[] for _ in range(N+1)]\n",
    "graph_2 = [[] for _ in range(N+1)]\n",
    "for i in range(M):\n",
    "    s, e, t = map(int, input().split())\n",
    "    graph_1[e].append((s, t))\n",
    "    graph_2[s].append((e, t))\n",
    "\n",
    "result1 = Dijkstra(graph_1)\n",
    "result2 = Dijkstra(graph_2)\n",
    "result = [0] * (N+1)\n",
    "for i in range(N+1):\n",
    "    result[i] = result1[i] + result2[i]\n",
    "    \n",
    "print(max(result))"
   ]
  },
  {
   "cell_type": "markdown",
   "metadata": {},
   "source": [
    "## 13549번: 숨바꼭질3"
   ]
  },
  {
   "cell_type": "code",
   "execution_count": 27,
   "metadata": {},
   "outputs": [
    {
     "name": "stdout",
     "output_type": "stream",
     "text": [
      "99999 100000\n",
      "1\n"
     ]
    }
   ],
   "source": [
    "import sys\n",
    "import heapq\n",
    "\n",
    "N, K = map(int, input().split())\n",
    "\n",
    "INF = sys.maxsize\n",
    "size = max(N, K) * 2\n",
    "result = [INF] * (size+1)\n",
    "result[N] = 0\n",
    "heap = []\n",
    "heapq.heappush(heap, (N, 0))\n",
    "\n",
    "while heap:\n",
    "    s, w = heapq.heappop(heap)\n",
    "    if result[s] < w:\n",
    "        continue\n",
    "    if s<size and w+1 < result[s+1]:\n",
    "        result[s+1] = w+1\n",
    "        heapq.heappush(heap, (s+1, result[s+1]))\n",
    "    if s>0 and w+1 < result[s-1]:\n",
    "        result[s-1] = w+1\n",
    "        heapq.heappush(heap, (s-1, result[s-1]))\n",
    "    if s*2<size and w < result[s*2]:\n",
    "        result[s*2] = w\n",
    "        heapq.heappush(heap, (s*2, result[s*2]))\n",
    "        \n",
    "print(result[K])"
   ]
  },
  {
   "cell_type": "markdown",
   "metadata": {},
   "source": [
    "## 4485번: 녹색 옷 입은 애가 젤다지?"
   ]
  },
  {
   "cell_type": "code",
   "execution_count": 9,
   "metadata": {},
   "outputs": [
    {
     "name": "stdout",
     "output_type": "stream",
     "text": [
      "3\n",
      "5 5 4\n",
      "3 9 1\n",
      "3 2 7\n",
      "Problem 1: 20\n",
      "5\n",
      "3 7 2 0 1\n",
      "2 8 0 9 1\n",
      "1 2 1 8 1\n",
      "9 8 9 2 0\n",
      "3 6 5 1 5\n",
      "Problem 2: 19\n",
      "7\n",
      "9 0 5 1 1 5 3\n",
      "4 1 2 1 6 5 3\n",
      "0 7 6 1 6 8 5\n",
      "1 1 7 8 3 2 3\n",
      "9 4 0 7 6 4 1\n",
      "5 8 3 2 4 8 3\n",
      "7 4 8 4 8 3 4\n",
      "Problem 3: 36\n",
      "0\n"
     ]
    }
   ],
   "source": [
    "import sys\n",
    "import heapq\n",
    "#input = sys.stdin.readline\n",
    "INF = sys.maxsize\n",
    "\n",
    "t = 0\n",
    "while True:\n",
    "    t += 1\n",
    "    N = int(input())\n",
    "    if N == 0:\n",
    "        break\n",
    "    matrix = []\n",
    "    for i in range(N):\n",
    "        matrix.append(list(map(int, input().split())))\n",
    "        \n",
    "    result = [[INF]*(N) for _ in range(N)]\n",
    "    result[0][0] = matrix[0][0]\n",
    "    heap = []\n",
    "    heapq.heappush(heap, [0, 0, matrix[0][0]])\n",
    "\n",
    "    ni = [-1, 1, 0, 0]\n",
    "    nj = [0, 0, -1, 1]\n",
    "    while heap:\n",
    "        i, j, w = heapq.heappop(heap)\n",
    "        if result[i][j] < w:\n",
    "            continue\n",
    "        for n in range(4):\n",
    "            if 0<=i+ni[n]<N and 0<=j+nj[n]<N:\n",
    "                if result[i+ni[n]][j+nj[n]] > w + matrix[i+ni[n]][j+nj[n]]:\n",
    "                    result[i+ni[n]][j+nj[n]] = w + matrix[i+ni[n]][j+nj[n]]\n",
    "                    heapq.heappush(heap, [i+ni[n], j+nj[n], result[i+ni[n]][j+nj[n]]])\n",
    "\n",
    "    print('Problem %d: %d'%(t, result[-1][-1]))"
   ]
  },
  {
   "cell_type": "markdown",
   "metadata": {},
   "source": [
    "## 11403번: 경로 찾기"
   ]
  },
  {
   "cell_type": "code",
   "execution_count": 1,
   "metadata": {},
   "outputs": [
    {
     "name": "stdout",
     "output_type": "stream",
     "text": [
      "3\n",
      "0 1 0\n",
      "0 0 1\n",
      "1 0 0\n",
      "1 1 1\n",
      "1 1 1\n",
      "1 1 1\n"
     ]
    }
   ],
   "source": [
    "N = int(input())\n",
    "G = []\n",
    "for i in range(N):\n",
    "    G.append(list(map(int, input().split())))\n",
    "\n",
    "for k in range(N): #거치는곳\n",
    "    for i in range(N): #출발\n",
    "        for j in range(N): #도착\n",
    "            if G[i][k]+G[k][j] > 1: G[i][j] = 1\n",
    "                \n",
    "for g in G:\n",
    "    print(*g)"
   ]
  },
  {
   "cell_type": "markdown",
   "metadata": {},
   "source": [
    "## 1506번: 경찰서"
   ]
  },
  {
   "cell_type": "code",
   "execution_count": 1,
   "metadata": {},
   "outputs": [
    {
     "name": "stdout",
     "output_type": "stream",
     "text": [
      "5\n",
      "1 2 3 4 5\n",
      "00011\n",
      "10000\n",
      "00010\n",
      "00100\n",
      "01000\n",
      "4\n"
     ]
    }
   ],
   "source": [
    "#http://wookje.dance/2018/06/24/boj-1506-boj-%EA%B2%BD%EC%B0%B0%EC%84%9C/\n",
    "import sys\n",
    "#input = sys.stdin.readline\n",
    "\n",
    "N = int(input())\n",
    "cost = list(map(int, input().split()))\n",
    "matrix = []\n",
    "for i in range(N):\n",
    "    matrix.append(list(map(int, input().strip())))\n",
    "    \n",
    "#플로이드 와샬\n",
    "for k in range(N): #거치는곳\n",
    "    for i in range(N): #출발\n",
    "        for j in range(N): #도착\n",
    "            if matrix[i][k]+matrix[k][j] > 1: matrix[i][j] = 1\n",
    "                \n",
    "visited = [0]*N\n",
    "ans = 0\n",
    "for i in range(N):\n",
    "    if not visited[i]:\n",
    "        print()\n",
    "        c = cost[i]\n",
    "        for j in range(N):\n",
    "            if matrix[i][j] & matrix[j][i]: #왔다 갔다 가능하면\n",
    "                c = min (c, cost[j]) #가장 적은 비용 저장\n",
    "                visited[j] = 1\n",
    "        ans += c\n",
    "print(ans)"
   ]
  },
  {
   "cell_type": "markdown",
   "metadata": {},
   "source": [
    "## 18352번: 특정 거리의 도시 찾기"
   ]
  },
  {
   "cell_type": "code",
   "execution_count": 23,
   "metadata": {},
   "outputs": [
    {
     "name": "stdout",
     "output_type": "stream",
     "text": [
      "4 4 1 1\n",
      "1 2\n",
      "1 3\n",
      "2 3\n",
      "2 4\n",
      "2\n",
      "3\n"
     ]
    }
   ],
   "source": [
    "import sys\n",
    "from collections import deque\n",
    "#input = sys.stdin.readline\n",
    "\n",
    "N, M, K, X = map(int, input().split())\n",
    "graph = [[] for _ in range(N+1)]\n",
    "for i in range(M):\n",
    "    A, B = map(int, input().split())\n",
    "    graph[A].append(B)\n",
    "    \n",
    "queue = deque()\n",
    "visited = [-1]*(N+1)\n",
    "queue.append(X)\n",
    "visited[X] = 0 #K에서부터의 거리를 저장\n",
    "while queue:\n",
    "    s = queue.popleft()\n",
    "    for n in graph[s]:\n",
    "        if visited[n] == -1:\n",
    "            visited[n] = visited[s]+1\n",
    "            queue.append(n)\n",
    "        \n",
    "for i in range(N+1):\n",
    "    if visited[i] == K: print(i)\n",
    "if K not in visited: print(-1) #K인 거리가 없다면 -1출력"
   ]
  },
  {
   "cell_type": "markdown",
   "metadata": {},
   "source": [
    "## 2211번: 네트워크 복구"
   ]
  },
  {
   "cell_type": "code",
   "execution_count": 18,
   "metadata": {},
   "outputs": [
    {
     "name": "stdout",
     "output_type": "stream",
     "text": [
      "4 5\n",
      "1 2 1\n",
      "1 4 4\n",
      "1 3 2\n",
      "4 2 2\n",
      "4 3 3\n",
      "3\n",
      "2 1\n",
      "3 1\n",
      "4 2\n"
     ]
    }
   ],
   "source": [
    "import sys\n",
    "import heapq\n",
    "#input = sys.stdin.readline\n",
    "#INF = sys.maxsize\n",
    "\n",
    "N, M = map(int, input().split())\n",
    "graph = [[] for _ in range(N+1)]\n",
    "for _ in range(M):\n",
    "    a, b, c = map(int, input().split())\n",
    "    graph[a].append((b, c))\n",
    "    graph[b].append((a, c))\n",
    "\n",
    "\n",
    "before = [-1]*(N+1)\n",
    "distance = [INF]*(N+1)\n",
    "distance[1] = 0\n",
    "\n",
    "heap = [(1, 0)]\n",
    "\n",
    "while heap:\n",
    "    v, w = heapq.heappop(heap)\n",
    "    if distance[v]<w: continue\n",
    "        \n",
    "    for nv, nw in graph[v]: #nv: 다음 위치, nw: 거리\n",
    "        if nw+w < distance[nv]:\n",
    "            distance[nv] = nw+w\n",
    "            heapq.heappush(heap, (nv, nw+w))\n",
    "            before[nv] = v\n",
    "            \n",
    "print(N-1)\n",
    "for i in range(2, N+1):\n",
    "    print(i, before[i])"
   ]
  },
  {
   "cell_type": "markdown",
   "metadata": {},
   "source": [
    "## 2665번: 미로만들기"
   ]
  },
  {
   "cell_type": "code",
   "execution_count": 1,
   "metadata": {},
   "outputs": [
    {
     "name": "stdout",
     "output_type": "stream",
     "text": [
      "8\n",
      "11100110\n",
      "11010010\n",
      "10011010\n",
      "11101100\n",
      "01000111\n",
      "00110001\n",
      "11011000\n",
      "11000111\n",
      "4\n"
     ]
    }
   ],
   "source": [
    "import sys\n",
    "import heapq\n",
    "#input = sys.stdin.readline\n",
    "\n",
    "N = int(input())\n",
    "graph = []\n",
    "for i in range(N):\n",
    "    graph.append(list(map(int, input().strip())))\n",
    "    \n",
    "INF = sys.maxsize\n",
    "result = [[INF]*N for _ in range(N)]\n",
    "heap = []\n",
    "heapq.heappush(heap, (0, 0, 0))\n",
    "result[0][0] = 0\n",
    "\n",
    "ni = (-1, 1, 0, 0)\n",
    "nj = (0, 0, -1, 1)\n",
    "while heap:\n",
    "    i, j, w = heapq.heappop(heap)\n",
    "    \n",
    "    if result[i][j] < w:\n",
    "        continue\n",
    "        \n",
    "    for n in range(4):\n",
    "        if 0<=i+ni[n]<N and 0<=j+nj[n]<N:\n",
    "            if (graph[i+ni[n]][j+nj[n]]^1)+w < result[i+ni[n]][j+nj[n]]:\n",
    "                result[i+ni[n]][j+nj[n]] = (graph[i+ni[n]][j+nj[n]]^1)+w\n",
    "                heapq.heappush(heap, (i+ni[n], j+nj[n], result[i+ni[n]][j+nj[n]]))\n",
    "                \n",
    "print(result[-1][-1])"
   ]
  },
  {
   "cell_type": "markdown",
   "metadata": {},
   "source": [
    "## 2458번: 키 순서"
   ]
  },
  {
   "cell_type": "code",
   "execution_count": 17,
   "metadata": {},
   "outputs": [
    {
     "name": "stdout",
     "output_type": "stream",
     "text": [
      "6 6\n",
      "1 5\n",
      "3 4\n",
      "5 4\n",
      "4 2\n",
      "4 6\n",
      "5 2\n"
     ]
    }
   ],
   "source": [
    "#https://cocook.tistory.com/13\n",
    "N, M = map(int, input().split())\n",
    "distance = [[0]*N for _ in range(N)]\n",
    "for i in range(M):\n",
    "    a, b = map(int, input().split())\n",
    "    distance[a-1][b-1] = 1\n",
    "    \n",
    "for k in range(N): #거쳐가는 정점\n",
    "    for i in range(N): #출발\n",
    "        for j in range(N): #도착\n",
    "            distance[i][j] = distance[i][j] or (distance[i][k] and distance[k][j])\n",
    "            \n",
    "cnt =[0]*N\n",
    "for i in range(N):\n",
    "    for j in range(N):\n",
    "        if distance[i][j]:\n",
    "            cnt[i] +=1\n",
    "            cnt[j] +=1\n",
    "            \n",
    "print(cnt.count(N-1))"
   ]
  },
  {
   "cell_type": "markdown",
   "metadata": {},
   "source": [
    "## 10159번: 저울"
   ]
  },
  {
   "cell_type": "code",
   "execution_count": 42,
   "metadata": {},
   "outputs": [
    {
     "name": "stdout",
     "output_type": "stream",
     "text": [
      "6\n",
      "5\n",
      "1 2\n",
      "2 3\n",
      "3 4\n",
      "5 4\n",
      "6 5\n",
      "2\n",
      "2\n",
      "2\n",
      "0\n",
      "3\n",
      "3\n"
     ]
    }
   ],
   "source": [
    "import sys\n",
    "#input = sys.stdin.readline\n",
    "\n",
    "N = int(input())\n",
    "M = int(input())\n",
    "\n",
    "distance1 = [[0] * N for _ in range(N)]\n",
    "distance2 = [[0] * N for _ in range(N)]\n",
    "\n",
    "for i in range(M):\n",
    "    a, b = map(int, input().split())\n",
    "    distance1[a-1][b-1] = 1\n",
    "    distance2[b-1][a-1] = 1\n",
    "\n",
    "for s in range(N):\n",
    "    for i in range(N):\n",
    "        for j in range(N):\n",
    "            distance1[i][j] |= distance1[i][s] and distance1[s][j]\n",
    "            distance2[i][j] |= distance2[i][s] and distance2[s][j]\n",
    "\n",
    "for i in range(N):\n",
    "    print(N-sum(distance1[i])-sum(distance2[i])-1)"
   ]
  },
  {
   "cell_type": "markdown",
   "metadata": {},
   "source": [
    "## 1613번: 역사"
   ]
  },
  {
   "cell_type": "code",
   "execution_count": 22,
   "metadata": {
    "scrolled": true
   },
   "outputs": [
    {
     "name": "stdout",
     "output_type": "stream",
     "text": [
      "5 5\n",
      "1 2\n",
      "1 3\n",
      "2 3\n",
      "3 4\n",
      "2 4\n",
      "3\n",
      "1 5\n",
      "0\n",
      "2 4\n",
      "-1\n",
      "3 1\n",
      "1\n"
     ]
    }
   ],
   "source": [
    "import sys\n",
    "#input = sys.stdin.readline\n",
    "\n",
    "n, k = map(int, input().split())\n",
    "distance = [[0]*n for _ in range(n)]\n",
    "\n",
    "for i in range(k):\n",
    "    a, b = map(int, input().split())\n",
    "    distance[a-1][b-1] = -1\n",
    "    distance[b-1][a-1] = 1\n",
    "    \n",
    "for k in range(n):\n",
    "    for i in range(n):\n",
    "        for j in range(n):\n",
    "            if distance[i][k] != 0 and distance[i][k] == distance[k][j]:\n",
    "                distance[i][j] = distance[i][k]\n",
    "                \n",
    "s = int(input())\n",
    "for i in range(s):\n",
    "    a, b = map(int, input().split())\n",
    "    print(distance[a-1][b-1])            "
   ]
  },
  {
   "cell_type": "markdown",
   "metadata": {},
   "source": [
    "## 10282번: 해킹"
   ]
  },
  {
   "cell_type": "code",
   "execution_count": 1,
   "metadata": {
    "scrolled": true
   },
   "outputs": [
    {
     "name": "stdout",
     "output_type": "stream",
     "text": [
      "2\n",
      "3 2 2\n",
      "2 1 5\n",
      "3 2 5\n",
      "2 5\n",
      "3 3 1\n",
      "2 1 2\n",
      "3 1 8\n",
      "3 2 4\n",
      "3 6\n"
     ]
    }
   ],
   "source": [
    "import sys\n",
    "#input = sys.stdin.readline\n",
    "INF = sys.maxsize\n",
    "import heapq\n",
    "\n",
    "def solution(n, c, graph):\n",
    "    distance = [-1]*(n+1)\n",
    "    distance[c] = 0\n",
    "    heap = [(0, c)]\n",
    "\n",
    "    while heap:\n",
    "        w, v = heapq.heappop(heap)\n",
    "        if distance[v]<w: continue\n",
    "\n",
    "        for nv, nw in graph[v]:\n",
    "            if w+nw < distance[nv] or distance[nv]==-1:\n",
    "                distance[nv] = w+nw\n",
    "                heapq.heappush(heap, (w+nw, nv))\n",
    "    print(n-distance.count(-1)+1, max(distance))\n",
    "    \n",
    "for _ in range(int(input())):\n",
    "    n, d, c = map(int, input().split())\n",
    "    graph = [[] for _ in range(n+1)]\n",
    "    for i in range(d):\n",
    "        a, b, s = map(int, input().split())\n",
    "        graph[b].append((a, s))\n",
    "    solution(n, c, graph)"
   ]
  },
  {
   "cell_type": "markdown",
   "metadata": {},
   "source": [
    "## 1719번: 택배"
   ]
  },
  {
   "cell_type": "code",
   "execution_count": 41,
   "metadata": {},
   "outputs": [
    {
     "name": "stdout",
     "output_type": "stream",
     "text": [
      "6 10\n",
      "1 2 2\n",
      "1 3 1\n",
      "2 4 5\n",
      "2 5 3\n",
      "2 6 7\n",
      "3 4 4\n",
      "3 5 6\n",
      "3 6 7\n",
      "4 6 4\n",
      "5 6 2\n",
      "- 2 3 3 2 2\n",
      "1 - 1 4 5 5\n",
      "1 1 - 4 5 6\n",
      "3 2 3 - 6 6\n",
      "2 2 3 6 - 6\n",
      "5 5 3 4 5 -\n"
     ]
    }
   ],
   "source": [
    "import sys\n",
    "#input = sys.stdin.readline\n",
    "INF = sys.maxsize\n",
    "\n",
    "n, m = map(int, input().split())\n",
    "distance = [[INF]*(n+1) for _ in range(n+1)]\n",
    "route = [['-']*(n+1) for _ in range(n+1)]\n",
    "for _ in range(m):\n",
    "    a, b, t = map(int, input().split())\n",
    "    distance[a][b] = t\n",
    "    distance[b][a] = t\n",
    "    route[a][b] = b\n",
    "    route[b][a] = a\n",
    "    \n",
    "for i in range(n+1): distance[i][i] = 0\n",
    "for s in range(1, n+1):\n",
    "    for i in range(1, n+1):\n",
    "        for j in range(1, n+1):\n",
    "            if distance[i][j] > distance[i][s] + distance[s][j]:\n",
    "                distance[i][j] = distance[i][s] + distance[s][j]\n",
    "                route[i][j] = route[i][s]\n",
    "                \n",
    "for r in route[1:]:\n",
    "    print(*r[1:])"
   ]
  },
  {
   "cell_type": "markdown",
   "metadata": {},
   "source": [
    "## 6087번: 레이저 통신"
   ]
  },
  {
   "cell_type": "code",
   "execution_count": 2,
   "metadata": {},
   "outputs": [
    {
     "name": "stdout",
     "output_type": "stream",
     "text": [
      "7 8\n",
      ".......\n",
      "......C\n",
      "......*\n",
      "*****.*\n",
      "....*..\n",
      "....*..\n",
      ".C..*..\n",
      ".......\n",
      "3\n"
     ]
    }
   ],
   "source": [
    "import sys\n",
    "import heapq\n",
    "#input = sys.stdin.readline\n",
    "INF = sys.maxsize\n",
    "\n",
    "W, H = map(int, input().split())\n",
    "matrix = []\n",
    "for _ in range(H):\n",
    "    matrix.append(input())\n",
    "\n",
    "start = ()\n",
    "end = ()\n",
    "for i in range(H):\n",
    "    for j in range(W):\n",
    "        if matrix[i][j] == 'C':\n",
    "            if not start: start = (i, j)\n",
    "            else: end = (i, j)\n",
    "                \n",
    "direction = [(-1, 0), (0, 1), (1, 0), (0, -1)]\n",
    "distance = [[INF]*W for _ in range(H)]\n",
    "heap = []\n",
    "for d in range(4):\n",
    "    heap.append((0, start[0], start[1], d))\n",
    "    \n",
    "def add_heap(w, i, j, d):\n",
    "    di, dj = direction[d]\n",
    "    ni, nj = di+i, dj+j\n",
    "    if 0<=ni<H and 0<=nj<W and matrix[ni][nj]!='*' and distance[ni][nj]>=w:\n",
    "        heapq.heappush(heap, (w, ni, nj, d))\n",
    "        distance[ni][nj] = w\n",
    "    \n",
    "while heap:\n",
    "    w, i, j, d = heapq.heappop(heap)\n",
    "    if distance[i][j] < w: continue\n",
    "    \n",
    "    #같은 방향\n",
    "    add_heap(w, i, j, d)\n",
    "        \n",
    "    #회전\n",
    "    add_heap(w+1, i, j, (d+1)%4)\n",
    "    add_heap(w+1, i, j, (d-1)%4)\n",
    "        \n",
    "print(distance[end[0]][end[1]])"
   ]
  }
 ],
 "metadata": {
  "kernelspec": {
   "display_name": "Python 3 (ipykernel)",
   "language": "python",
   "name": "python3"
  },
  "language_info": {
   "codemirror_mode": {
    "name": "ipython",
    "version": 3
   },
   "file_extension": ".py",
   "mimetype": "text/x-python",
   "name": "python",
   "nbconvert_exporter": "python",
   "pygments_lexer": "ipython3",
   "version": "3.9.12"
  },
  "toc": {
   "base_numbering": 1,
   "nav_menu": {},
   "number_sections": true,
   "sideBar": true,
   "skip_h1_title": false,
   "title_cell": "Table of Contents",
   "title_sidebar": "Contents",
   "toc_cell": false,
   "toc_position": {},
   "toc_section_display": true,
   "toc_window_display": false
  },
  "varInspector": {
   "cols": {
    "lenName": 16,
    "lenType": 16,
    "lenVar": 40
   },
   "kernels_config": {
    "python": {
     "delete_cmd_postfix": "",
     "delete_cmd_prefix": "del ",
     "library": "var_list.py",
     "varRefreshCmd": "print(var_dic_list())"
    },
    "r": {
     "delete_cmd_postfix": ") ",
     "delete_cmd_prefix": "rm(",
     "library": "var_list.r",
     "varRefreshCmd": "cat(var_dic_list()) "
    }
   },
   "position": {
    "height": "282.415px",
    "left": "290px",
    "right": "20px",
    "top": "120px",
    "width": "523.011px"
   },
   "types_to_exclude": [
    "module",
    "function",
    "builtin_function_or_method",
    "instance",
    "_Feature"
   ],
   "window_display": false
  }
 },
 "nbformat": 4,
 "nbformat_minor": 4
}
