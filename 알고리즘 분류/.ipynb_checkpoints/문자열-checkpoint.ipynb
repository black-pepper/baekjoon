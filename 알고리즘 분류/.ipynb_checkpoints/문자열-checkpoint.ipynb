{
 "cells": [
  {
   "cell_type": "markdown",
   "metadata": {},
   "source": [
    "## 1701번: Cubeditor"
   ]
  },
  {
   "cell_type": "code",
   "execution_count": 3,
   "metadata": {},
   "outputs": [
    {
     "name": "stdout",
     "output_type": "stream",
     "text": [
      "abcdabcabb\n",
      "3\n"
     ]
    }
   ],
   "source": [
    "import sys\n",
    "#input = sys.stdin.readline\n",
    "\n",
    "def make_table(pattern):\n",
    "    table = [0] * len(pattern)\n",
    "    j = 0\n",
    "    for i in range(1, len(pattern)):\n",
    "        while j>0 and pattern[i] != pattern[j]:\n",
    "            j = table[j-1]\n",
    "        if pattern[i] == pattern[j]:\n",
    "            j += 1\n",
    "            table[i] = j\n",
    "    return table\n",
    "\n",
    "parent = input().replace(\"\\n\",\"\")\n",
    "result = 0\n",
    "for i in range(len(parent)):\n",
    "    result = max(result,max(make_table(parent[i:])))\n",
    "print(result)"
   ]
  },
  {
   "cell_type": "markdown",
   "metadata": {},
   "source": [
    "## 9935번: 문자열 폭발"
   ]
  },
  {
   "cell_type": "code",
   "execution_count": 32,
   "metadata": {},
   "outputs": [
    {
     "name": "stdout",
     "output_type": "stream",
     "text": [
      "12ab112ab2ab\n",
      "12ab\n",
      "FRULA\n"
     ]
    }
   ],
   "source": [
    "import sys\n",
    "#input = sys.stdin.readline\n",
    "\n",
    "string = input().replace(\"\\n\",\"\")\n",
    "bomb = input().replace(\"\\n\",\"\")\n",
    "\n",
    "length = len(bomb)\n",
    "result = []\n",
    "for c in string:\n",
    "    result.append(c)\n",
    "    if c == bomb[-1] and ''.join(result[-length:]) == bomb:\n",
    "        del result[-length:]\n",
    "result = ''.join(result)\n",
    "        \n",
    "if result:\n",
    "    print(result)\n",
    "else:\n",
    "    print('FRULA')"
   ]
  },
  {
   "cell_type": "markdown",
   "metadata": {},
   "source": [
    "## 5052번: 전화번호 목록"
   ]
  },
  {
   "cell_type": "code",
   "execution_count": 40,
   "metadata": {},
   "outputs": [
    {
     "name": "stdout",
     "output_type": "stream",
     "text": [
      "2\n",
      "3\n",
      "911\n",
      "97625999\n",
      "91125426\n",
      "NO\n",
      "5\n",
      "113\n",
      "12340\n",
      "123440\n",
      "12345\n",
      "98346\n",
      "YES\n"
     ]
    }
   ],
   "source": [
    "import sys\n",
    "from copy import deepcopy\n",
    "#input = sys.stdin.readline\n",
    "\n",
    "t = int(input())\n",
    "\n",
    "for _ in range(t):\n",
    "    n = int(input())\n",
    "    phone = {}\n",
    "    for i in range(n):\n",
    "        phone[input().replace(\"\\n\",\"\")] = True\n",
    "\n",
    "    result = 'YES'\n",
    "    temp = deepcopy(phone)\n",
    "    for i in temp.keys():\n",
    "        del phone[i]\n",
    "        for j in range(1, len(i)+1):\n",
    "            if i[:j] in phone:\n",
    "                result = 'NO'\n",
    "                break\n",
    "        phone[i] = True\n",
    "    print(result)"
   ]
  },
  {
   "cell_type": "markdown",
   "metadata": {},
   "source": [
    "## 1958번: LCS 3"
   ]
  },
  {
   "cell_type": "code",
   "execution_count": 43,
   "metadata": {},
   "outputs": [
    {
     "name": "stdout",
     "output_type": "stream",
     "text": [
      "abcdefghijklmn\n",
      "bdefg\n",
      "efg\n",
      "3\n"
     ]
    }
   ],
   "source": [
    "#https://hjp845.tistory.com/30\n",
    "string1 = input()\n",
    "string2 = input()\n",
    "string3 = input()\n",
    "\n",
    "len1 = len(string1)\n",
    "len2 = len(string2)\n",
    "len3 = len(string3)\n",
    "\n",
    "dp = [[[0 for i in range(len3+1)] for j in range(len2+1)] for k in range(len1+1)]\n",
    "\n",
    "for i in range(1, len1+1):\n",
    "    for j in range(1, len2+1):\n",
    "        for k in range(1, len3+1):\n",
    "            if string1[i-1] == string2[j-1] == string3[k-1]:\n",
    "                dp[i][j][k] = dp[i-1][j-1][k-1]+1\n",
    "            else:\n",
    "                dp[i][j][k] = max(dp[i][j][k-1],dp[i][j-1][k],dp[i][j-1][k-1],dp[i-1][j][k],dp[i-1][j-1][k],dp[i-1][j][k-1])\n",
    "\n",
    "print(dp[-1][-1][-1])"
   ]
  },
  {
   "cell_type": "markdown",
   "metadata": {},
   "source": [
    "## 1013번: Contact"
   ]
  },
  {
   "cell_type": "code",
   "execution_count": 74,
   "metadata": {},
   "outputs": [
    {
     "name": "stdout",
     "output_type": "stream",
     "text": [
      "3\n",
      "10010111\n",
      "NO\n",
      "011000100110001\n",
      "NO\n",
      "0110001011001\n",
      "YES\n"
     ]
    }
   ],
   "source": [
    "import re\n",
    "\n",
    "T = int(input())\n",
    "pattern = re.compile('(100+1+|01)+')\n",
    "for _ in range(T):\n",
    "    sign = input()\n",
    "    check = pattern.fullmatch(sign)\n",
    "    if check: print(\"YES\")\n",
    "    else: print(\"NO\")"
   ]
  },
  {
   "cell_type": "markdown",
   "metadata": {},
   "source": [
    "## 4358번: 생태학"
   ]
  },
  {
   "cell_type": "code",
   "execution_count": 12,
   "metadata": {
    "ExecuteTime": {
     "end_time": "2021-09-21T02:12:59.766893Z",
     "start_time": "2021-09-21T02:11:17.457166Z"
    }
   },
   "outputs": [
    {
     "name": "stdout",
     "output_type": "stream",
     "text": [
      "Red Alder\n",
      "Ash\n",
      "Aspen\n",
      "Basswood\n",
      "Ash\n",
      "Beech\n",
      "Yellow Birch\n",
      "Ash\n",
      "Cherry\n",
      "Cottonwood\n",
      "Ash\n",
      "Cypress\n",
      "Red Elm\n",
      "Gum\n",
      "Hackberry\n",
      "White Oak\n",
      "Hickory\n",
      "Pecan\n",
      "Hard Maple\n",
      "White Oak\n",
      "Soft Maple\n",
      "Red Oak\n",
      "Red Oak\n",
      "White Oak\n",
      "Poplan\n",
      "Sassafras\n",
      "Sycamore\n",
      "Black Walnut\n",
      "Willow\n",
      "\n",
      "Ash 13.7931\n",
      "Aspen 3.4483\n",
      "Basswood 3.4483\n",
      "Beech 3.4483\n",
      "Black Walnut 3.4483\n",
      "Cherry 3.4483\n",
      "Cottonwood 3.4483\n",
      "Cypress 3.4483\n",
      "Gum 3.4483\n",
      "Hackberry 3.4483\n",
      "Hard Maple 3.4483\n",
      "Hickory 3.4483\n",
      "Pecan 3.4483\n",
      "Poplan 3.4483\n",
      "Red Alder 3.4483\n",
      "Red Elm 3.4483\n",
      "Red Oak 6.8966\n",
      "Sassafras 3.4483\n",
      "Soft Maple 3.4483\n",
      "Sycamore 3.4483\n",
      "White Oak 10.3448\n",
      "Willow 3.4483\n",
      "Yellow Birch 3.4483\n"
     ]
    }
   ],
   "source": [
    "import sys\n",
    "#input = sys.stdin.readline\n",
    "\n",
    "dic = {}\n",
    "cnt = 0\n",
    "while True:\n",
    "    name = input().replace('\\n','')\n",
    "    if not name:\n",
    "        break\n",
    "    if name in dic:\n",
    "        dic[name] += 1\n",
    "    else:\n",
    "        dic[name] = 1\n",
    "    cnt += 1\n",
    "    \n",
    "arr = []\n",
    "for n, c in dic.items():\n",
    "    arr.append((n, c/cnt))\n",
    "arr.sort()\n",
    "\n",
    "for n, c in arr:\n",
    "    print('%s %.4f' % (n, c*100))"
   ]
  },
  {
   "cell_type": "markdown",
   "metadata": {},
   "source": [
    "## 10610번: 30"
   ]
  },
  {
   "cell_type": "code",
   "execution_count": 5,
   "metadata": {},
   "outputs": [
    {
     "name": "stdout",
     "output_type": "stream",
     "text": [
      "80875542\n",
      "88755420"
     ]
    }
   ],
   "source": [
    "N = list(map(int, input().strip()))\n",
    "if sum(N)%3==0 and 0 in N:\n",
    "    N.sort(reverse=True)\n",
    "    for i in N: print(i,end='')\n",
    "else:\n",
    "    print(-1)"
   ]
  },
  {
   "cell_type": "markdown",
   "metadata": {},
   "source": [
    "## 11656번: 접미사 배열"
   ]
  },
  {
   "cell_type": "code",
   "execution_count": 1,
   "metadata": {},
   "outputs": [
    {
     "name": "stdout",
     "output_type": "stream",
     "text": [
      "baekjoon\n",
      "aekjoon\n",
      "baekjoon\n",
      "ekjoon\n",
      "joon\n",
      "kjoon\n",
      "n\n",
      "on\n",
      "oon\n"
     ]
    }
   ],
   "source": [
    "string = input()\n",
    "result = []\n",
    "for i in range(len(string)):\n",
    "    result.append(string[i:])\n",
    "result.sort()\n",
    "for s in result:\n",
    "    print(s)"
   ]
  },
  {
   "cell_type": "markdown",
   "metadata": {},
   "source": [
    "## 17413번: 단어 뒤집기 2"
   ]
  },
  {
   "cell_type": "code",
   "execution_count": 3,
   "metadata": {},
   "outputs": [
    {
     "name": "stdout",
     "output_type": "stream",
     "text": [
      "baekjoon online judge\n",
      "noojkeab enilno egduj\n"
     ]
    }
   ],
   "source": [
    "import sys\n",
    "#input = sys.stdin.readline\n",
    "\n",
    "string = input()\n",
    "\n",
    "def reverse(string):\n",
    "    return ''.join(reversed(string))\n",
    "\n",
    "stack = []\n",
    "result = ''.replace(\"\\n\",\"\")\n",
    "for i in range(len(string)):\n",
    "    if string[i] == '>': #태그 시작\n",
    "        result += '>'\n",
    "        stack.pop(-1)\n",
    "    elif string[i] == '<': #태그 끝\n",
    "        result += reverse(stack)\n",
    "        result += '<'\n",
    "        stack = ['<']\n",
    "    elif string[i] == ' ': #띄어쓰기\n",
    "        if stack[-1] == '<':\n",
    "            result += ' '\n",
    "        else:\n",
    "            result += reverse(stack)\n",
    "            stack = []\n",
    "            result += ' '\n",
    "    else:\n",
    "        if stack != ['<']:\n",
    "            stack.append(string[i])\n",
    "        else:\n",
    "            result += string[i]\n",
    "result += reverse(stack)\n",
    "print(result)"
   ]
  },
  {
   "cell_type": "markdown",
   "metadata": {},
   "source": [
    "## 5525번: IOIOI"
   ]
  },
  {
   "cell_type": "code",
   "execution_count": 92,
   "metadata": {},
   "outputs": [
    {
     "name": "stdout",
     "output_type": "stream",
     "text": [
      "2\n",
      "13\n",
      "OOIOIOIOIIOII\n",
      "2\n"
     ]
    }
   ],
   "source": [
    "N = int(input())\n",
    "M = int(input())\n",
    "string = input()\n",
    "\n",
    "result = 0\n",
    "cnt = 0\n",
    "i = 1\n",
    "while i < M-2:\n",
    "    if string[i-1:i+2] == 'IOI':\n",
    "        cnt += 1\n",
    "        if cnt == N:\n",
    "            cnt -= 1\n",
    "            result += 1\n",
    "        i += 2\n",
    "    else:\n",
    "        cnt = 0\n",
    "        i += 1\n",
    "print(result)"
   ]
  },
  {
   "cell_type": "markdown",
   "metadata": {},
   "source": [
    "## 12904번: A와 B"
   ]
  },
  {
   "cell_type": "code",
   "execution_count": 9,
   "metadata": {},
   "outputs": [
    {
     "name": "stdout",
     "output_type": "stream",
     "text": [
      "B\n",
      "ABBA\n",
      "1\n"
     ]
    }
   ],
   "source": [
    "S = list(input().strip())\n",
    "T = list(input().strip())\n",
    "\n",
    "result = 0\n",
    "while T:\n",
    "    if T.pop(-1) == 'B':\n",
    "        T.reverse()\n",
    "    if S == T:\n",
    "        result = 1\n",
    "        break\n",
    "print(result)"
   ]
  },
  {
   "cell_type": "markdown",
   "metadata": {},
   "source": [
    "## 1120번: 문자열"
   ]
  },
  {
   "cell_type": "code",
   "execution_count": 12,
   "metadata": {},
   "outputs": [
    {
     "name": "stdout",
     "output_type": "stream",
     "text": [
      "giorgi igroig\n",
      "6\n"
     ]
    }
   ],
   "source": [
    "A, B = input().split()\n",
    "A_len = len(A)\n",
    "result = 50\n",
    "for i in range(len(B)-A_len+1):\n",
    "    cnt = 0\n",
    "    for j in range(A_len):\n",
    "        if A[j]!=B[i+j]:\n",
    "            cnt += 1\n",
    "    result = min(result, cnt)\n",
    "print(result)"
   ]
  },
  {
   "cell_type": "markdown",
   "metadata": {},
   "source": [
    "## 1302번: 베스트셀러"
   ]
  },
  {
   "cell_type": "code",
   "execution_count": 38,
   "metadata": {},
   "outputs": [
    {
     "name": "stdout",
     "output_type": "stream",
     "text": [
      "5\n",
      "top\n",
      "top\n",
      "top\n",
      "top\n",
      "kimtop\n",
      "top\n"
     ]
    }
   ],
   "source": [
    "from collections import Counter\n",
    "\n",
    "N = int(input())\n",
    "books = []\n",
    "for i in range(N):\n",
    "    books.append(input())\n",
    "books.sort()\n",
    "    \n",
    "result = Counter()\n",
    "for i in range(N):\n",
    "    result[books[i]] += 1\n",
    "    \n",
    "print(result.most_common(1)[0][0])"
   ]
  },
  {
   "cell_type": "markdown",
   "metadata": {},
   "source": [
    "## 16916번: 부분 문자열"
   ]
  },
  {
   "cell_type": "code",
   "execution_count": 1,
   "metadata": {},
   "outputs": [
    {
     "name": "stdout",
     "output_type": "stream",
     "text": [
      "baekjoon\n",
      "aek\n",
      "1\n"
     ]
    }
   ],
   "source": [
    "def makeTable(pattern):\n",
    "    table = [0] * len(pattern)\n",
    "    j = 0\n",
    "    for i in range(1, len(pattern)):\n",
    "        while j > 0 and pattern[i] != pattern[j] :\n",
    "            j = table[j - 1]\n",
    "        if pattern[i] == pattern[j]:\n",
    "            j += 1\n",
    "            table[i] = j\n",
    "    return table\n",
    "\n",
    "def KMP(parent, pattern):\n",
    "    global count\n",
    "    table = makeTable(pattern)\n",
    "    parentSize = len(parent)\n",
    "    patternSize = len(pattern)\n",
    "    j = 0\n",
    "    for i in range(parentSize):\n",
    "        while(j>0 and parent[i] != pattern[j]):\n",
    "            j = table[j-1]\n",
    "        if parent[i] == pattern[j]:\n",
    "            if(j == patternSize-1):\n",
    "                return 1\n",
    "            else:\n",
    "                j += 1\n",
    "    return 0\n",
    "\n",
    "S = input()\n",
    "P = input()\n",
    "print(KMP(S, P))"
   ]
  },
  {
   "cell_type": "markdown",
   "metadata": {},
   "source": [
    "## 1543번: 문서 검색"
   ]
  },
  {
   "cell_type": "code",
   "execution_count": 9,
   "metadata": {},
   "outputs": [
    {
     "name": "stdout",
     "output_type": "stream",
     "text": [
      "aaaaaaa\n",
      "aa\n",
      "3\n"
     ]
    }
   ],
   "source": [
    "import sys\n",
    "#input = sys.stdin.readline\n",
    "document = input().replace(\"\\n\",\"\")\n",
    "find = input().replace(\"\\n\",\"\")\n",
    "\n",
    "temp = ''\n",
    "start = 0\n",
    "cnt = 0\n",
    "for end in range(len(document)+1):\n",
    "    if find in document[start:end]:\n",
    "        cnt += 1\n",
    "        start = end\n",
    "print(cnt)"
   ]
  },
  {
   "cell_type": "markdown",
   "metadata": {},
   "source": [
    "## 9202번: Boggle (미완성)"
   ]
  },
  {
   "cell_type": "code",
   "execution_count": 27,
   "metadata": {},
   "outputs": [],
   "source": [
    "class Node:\n",
    "    def __init__(self, key):\n",
    "        self.key = key\n",
    "        self.data = None\n",
    "        self.children = {}\n",
    "\n",
    "class Trie:\n",
    "    def __init__(self):\n",
    "        self.root = Node(None)\n",
    "        \n",
    "    #트라이에 단어 삽입\n",
    "    def insert(self, string):\n",
    "        curr = self.root\n",
    "        for ch in string:\n",
    "            if ch not in curr.children:\n",
    "                curr.children[ch] = Node(ch)\n",
    "            curr = curr.children[ch]\n",
    "        curr.data = string\n",
    "    \n",
    "    #해당 칸을 기준으로 단어가 있는지 확인\n",
    "    def BFS(self, i, j, find, board):\n",
    "        if board[i][j] not in self.root.children:\n",
    "            return\n",
    "        queue = deque()\n",
    "        curr = self.root.children[board[i][j]]\n",
    "        queue.append((curr, i, j))\n",
    "        visited = [[0, 0, 0, 0] for _ in range(4)]\n",
    "        while queue:\n",
    "            curr, i, j = queue.popleft()\n",
    "            #만약 글자가 있을 경우\n",
    "            if curr.data:\n",
    "                find[curr.data] = 1\n",
    "            for n in range(9):\n",
    "                if 0<=i+ni[n]<4 and 0<=j+nj[n]<4:\n",
    "                    #해당 글자가 있는지 확인\n",
    "                    s = board[i+ni[n]][j+nj[n]]\n",
    "                    if s in curr.children:\n",
    "                        queue.append((curr.children[s], i+ni[n], j+nj[n]))\n",
    "                        visited[i+ni[n]][j+nj[n]] = 1\n",
    "                        \n",
    "    def DFS(self, i, j, curr):\n",
    "        visited[i][j] = 1\n",
    "        if curr.data:\n",
    "            find[curr.data] = 1\n",
    "        for n in range(9):\n",
    "            if 0<=i+ni[n]<4 and 0<=j+nj[n]<4:\n",
    "                s = board[i+ni[n]][j+nj[n]]\n",
    "                if s in curr.children:\n",
    "                    DFS(i+ni[n], j+nj[n], curr.children[s])\n",
    "        visited[i][j] = 0"
   ]
  },
  {
   "cell_type": "code",
   "execution_count": 18,
   "metadata": {},
   "outputs": [
    {
     "name": "stdout",
     "output_type": "stream",
     "text": [
      "5\n",
      "ICPC\n",
      "ACM\n",
      "CONTEST\n",
      "GCPC\n",
      "PROGRAMM\n",
      "\n"
     ]
    },
    {
     "data": {
      "text/plain": [
       "''"
      ]
     },
     "execution_count": 18,
     "metadata": {},
     "output_type": "execute_result"
    }
   ],
   "source": [
    "from collections import deque\n",
    "\n",
    "ni = [-1, -1, -1, 0, 0, 0, +1, +1, +1]\n",
    "nj = [-1, 0, +1, -1, 0, +1, -1, 0, +1]\n",
    "\n",
    "trie = Trie()\n",
    "w = int(input())\n",
    "for i in range(w):\n",
    "    trie.insert(input())\n",
    "input()"
   ]
  },
  {
   "cell_type": "code",
   "execution_count": 31,
   "metadata": {},
   "outputs": [
    {
     "name": "stdout",
     "output_type": "stream",
     "text": [
      "0 0 <__main__.Node object at 0x00000000297423D0>\n"
     ]
    },
    {
     "ename": "TypeError",
     "evalue": "DFS() takes 3 positional arguments but 4 were given",
     "output_type": "error",
     "traceback": [
      "\u001b[1;31m---------------------------------------------------------------------------\u001b[0m",
      "\u001b[1;31mTypeError\u001b[0m                                 Traceback (most recent call last)",
      "\u001b[1;32m<ipython-input-31-8f694e46ce1e>\u001b[0m in \u001b[0;36m<module>\u001b[1;34m\u001b[0m\n\u001b[0;32m      4\u001b[0m             \u001b[0mcurr\u001b[0m \u001b[1;33m=\u001b[0m \u001b[0mtrie\u001b[0m\u001b[1;33m.\u001b[0m\u001b[0mroot\u001b[0m\u001b[1;33m.\u001b[0m\u001b[0mchildren\u001b[0m\u001b[1;33m[\u001b[0m\u001b[0mboard\u001b[0m\u001b[1;33m[\u001b[0m\u001b[0mi\u001b[0m\u001b[1;33m]\u001b[0m\u001b[1;33m[\u001b[0m\u001b[0mj\u001b[0m\u001b[1;33m]\u001b[0m\u001b[1;33m]\u001b[0m\u001b[1;33m\u001b[0m\u001b[1;33m\u001b[0m\u001b[0m\n\u001b[0;32m      5\u001b[0m             \u001b[0mprint\u001b[0m\u001b[1;33m(\u001b[0m\u001b[0mi\u001b[0m\u001b[1;33m,\u001b[0m \u001b[0mj\u001b[0m\u001b[1;33m,\u001b[0m \u001b[0mcurr\u001b[0m\u001b[1;33m)\u001b[0m\u001b[1;33m\u001b[0m\u001b[1;33m\u001b[0m\u001b[0m\n\u001b[1;32m----> 6\u001b[1;33m             \u001b[0mtrie\u001b[0m\u001b[1;33m.\u001b[0m\u001b[0mDFS\u001b[0m\u001b[1;33m(\u001b[0m\u001b[0mi\u001b[0m\u001b[1;33m,\u001b[0m \u001b[0mj\u001b[0m\u001b[1;33m,\u001b[0m \u001b[1;33m[\u001b[0m\u001b[0mcurr\u001b[0m\u001b[1;33m]\u001b[0m\u001b[1;33m)\u001b[0m\u001b[1;33m\u001b[0m\u001b[1;33m\u001b[0m\u001b[0m\n\u001b[0m",
      "\u001b[1;31mTypeError\u001b[0m: DFS() takes 3 positional arguments but 4 were given"
     ]
    }
   ],
   "source": [
    "for i in range(4):\n",
    "    for j in range(4):\n",
    "        if board[i][j] in trie.root.children:\n",
    "            curr = trie.root.children[board[i][j]]\n",
    "            trie.DFS(i, j)"
   ]
  },
  {
   "cell_type": "code",
   "execution_count": 19,
   "metadata": {},
   "outputs": [
    {
     "name": "stdout",
     "output_type": "stream",
     "text": [
      "3\n",
      "ACMA\n",
      "APCA\n",
      "TOGI\n",
      "NEST\n",
      "\n"
     ]
    },
    {
     "ename": "TypeError",
     "evalue": "DFS() takes 3 positional arguments but 4 were given",
     "output_type": "error",
     "traceback": [
      "\u001b[1;31m---------------------------------------------------------------------------\u001b[0m",
      "\u001b[1;31mTypeError\u001b[0m                                 Traceback (most recent call last)",
      "\u001b[1;32m<ipython-input-19-bc5d11ef0ef5>\u001b[0m in \u001b[0;36m<module>\u001b[1;34m\u001b[0m\n\u001b[0;32m     13\u001b[0m         \u001b[1;32mfor\u001b[0m \u001b[0mj\u001b[0m \u001b[1;32min\u001b[0m \u001b[0mrange\u001b[0m\u001b[1;33m(\u001b[0m\u001b[1;36m4\u001b[0m\u001b[1;33m)\u001b[0m\u001b[1;33m:\u001b[0m\u001b[1;33m\u001b[0m\u001b[1;33m\u001b[0m\u001b[0m\n\u001b[0;32m     14\u001b[0m             \u001b[1;32mif\u001b[0m \u001b[0mboard\u001b[0m\u001b[1;33m[\u001b[0m\u001b[0mi\u001b[0m\u001b[1;33m]\u001b[0m\u001b[1;33m[\u001b[0m\u001b[0mj\u001b[0m\u001b[1;33m]\u001b[0m \u001b[1;32min\u001b[0m \u001b[0mtrie\u001b[0m\u001b[1;33m.\u001b[0m\u001b[0mroot\u001b[0m\u001b[1;33m.\u001b[0m\u001b[0mchildren\u001b[0m\u001b[1;33m:\u001b[0m\u001b[1;33m\u001b[0m\u001b[1;33m\u001b[0m\u001b[0m\n\u001b[1;32m---> 15\u001b[1;33m                 \u001b[0mtrie\u001b[0m\u001b[1;33m.\u001b[0m\u001b[0mDFS\u001b[0m\u001b[1;33m(\u001b[0m\u001b[0mi\u001b[0m\u001b[1;33m,\u001b[0m \u001b[0mj\u001b[0m\u001b[1;33m,\u001b[0m \u001b[0mtrie\u001b[0m\u001b[1;33m.\u001b[0m\u001b[0mroot\u001b[0m\u001b[1;33m.\u001b[0m\u001b[0mchildren\u001b[0m\u001b[1;33m[\u001b[0m\u001b[0mboard\u001b[0m\u001b[1;33m[\u001b[0m\u001b[0mi\u001b[0m\u001b[1;33m]\u001b[0m\u001b[1;33m[\u001b[0m\u001b[0mj\u001b[0m\u001b[1;33m]\u001b[0m\u001b[1;33m]\u001b[0m\u001b[1;33m)\u001b[0m\u001b[1;33m\u001b[0m\u001b[1;33m\u001b[0m\u001b[0m\n\u001b[0m\u001b[0;32m     16\u001b[0m \u001b[1;33m\u001b[0m\u001b[0m\n\u001b[0;32m     17\u001b[0m     \u001b[1;31m#점수 계산\u001b[0m\u001b[1;33m\u001b[0m\u001b[1;33m\u001b[0m\u001b[1;33m\u001b[0m\u001b[0m\n",
      "\u001b[1;31mTypeError\u001b[0m: DFS() takes 3 positional arguments but 4 were given"
     ]
    }
   ],
   "source": [
    "B = int(input())\n",
    "result = []\n",
    "\n",
    "for b in range(B):\n",
    "    board = []\n",
    "    for i in range(4):\n",
    "        board.append(list(input().strip()))\n",
    "    if b != B-1: input()\n",
    "\n",
    "    find = {}\n",
    "    visited = [[0, 0, 0, 0] for _ in range(4)]\n",
    "    for i in range(4):\n",
    "        for j in range(4):\n",
    "            if board[i][j] in trie.root.children:\n",
    "                trie.DFS(i, j, trie.root.children[board[i][j]])\n",
    "\n",
    "    #점수 계산\n",
    "    value = sorted(list(find.keys()))\n",
    "    max_word = ''\n",
    "    score = 0\n",
    "    for v in value:\n",
    "        v_len = len(v)\n",
    "        if v_len == 8: score += 11\n",
    "        elif v_len == 7: score += 5\n",
    "        elif v_len == 6: score += 3\n",
    "        elif v_len == 5: score += 2\n",
    "        elif v_len >= 3: score += 1\n",
    "        if len(max_word) < v_len:\n",
    "            max_word = v\n",
    "    result.append([score, max_word, len(visited)])\n",
    "    \n",
    "for r in result:\n",
    "    print(r[0], r[1], r[2])"
   ]
  }
 ],
 "metadata": {
  "kernelspec": {
   "display_name": "Python 3",
   "language": "python",
   "name": "python3"
  },
  "language_info": {
   "codemirror_mode": {
    "name": "ipython",
    "version": 3
   },
   "file_extension": ".py",
   "mimetype": "text/x-python",
   "name": "python",
   "nbconvert_exporter": "python",
   "pygments_lexer": "ipython3",
   "version": "3.8.3"
  },
  "toc": {
   "base_numbering": 1,
   "nav_menu": {},
   "number_sections": true,
   "sideBar": true,
   "skip_h1_title": false,
   "title_cell": "Table of Contents",
   "title_sidebar": "Contents",
   "toc_cell": false,
   "toc_position": {},
   "toc_section_display": true,
   "toc_window_display": false
  },
  "varInspector": {
   "cols": {
    "lenName": 16,
    "lenType": 16,
    "lenVar": 40
   },
   "kernels_config": {
    "python": {
     "delete_cmd_postfix": "",
     "delete_cmd_prefix": "del ",
     "library": "var_list.py",
     "varRefreshCmd": "print(var_dic_list())"
    },
    "r": {
     "delete_cmd_postfix": ") ",
     "delete_cmd_prefix": "rm(",
     "library": "var_list.r",
     "varRefreshCmd": "cat(var_dic_list()) "
    }
   },
   "position": {
    "height": "251.4px",
    "left": "286px",
    "right": "20px",
    "top": "120px",
    "width": "350px"
   },
   "types_to_exclude": [
    "module",
    "function",
    "builtin_function_or_method",
    "instance",
    "_Feature"
   ],
   "window_display": false
  }
 },
 "nbformat": 4,
 "nbformat_minor": 4
}
