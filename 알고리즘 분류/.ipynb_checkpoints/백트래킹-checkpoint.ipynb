{
 "cells": [
  {
   "cell_type": "markdown",
   "metadata": {},
   "source": [
    "## 1759번: 암호 만들기"
   ]
  },
  {
   "cell_type": "code",
   "execution_count": 68,
   "metadata": {},
   "outputs": [
    {
     "name": "stdout",
     "output_type": "stream",
     "text": [
      "4 6\n",
      "a t c i s w\n",
      "acis\n",
      "acit\n",
      "aciw\n",
      "acst\n",
      "acsw\n",
      "actw\n",
      "aist\n",
      "aisw\n",
      "aitw\n",
      "astw\n",
      "cist\n",
      "cisw\n",
      "citw\n",
      "istw\n"
     ]
    }
   ],
   "source": [
    "vowel = ['a', 'e', 'i', 'o', 'u']\n",
    "def check_vowel(string):\n",
    "    ret = 0\n",
    "    for i in string:\n",
    "        for j in vowel:\n",
    "            if i == j :\n",
    "                ret += 1\n",
    "                break\n",
    "    return ret\n",
    "\n",
    "result = ''\n",
    "def solve(cnt, idx):\n",
    "    global L, C, result\n",
    "    #print(result)\n",
    "    vowel_cnt = check_vowel(result)\n",
    "    if cnt == L and 0<vowel_cnt and 1<len(result)-vowel_cnt:\n",
    "        for i in result:\n",
    "            print(i, end='')\n",
    "        print()\n",
    "        return\n",
    "    for i in range(idx, C):\n",
    "        result += alphabet[i]\n",
    "        solve(cnt+1, i+1)\n",
    "        result = result[:-1]\n",
    "        \n",
    "L, C = map(int, input().split())\n",
    "alphabet = list(map(str, input().split()))\n",
    "alphabet.sort()\n",
    "\n",
    "solve(0, 0)"
   ]
  }
 ],
 "metadata": {
  "kernelspec": {
   "display_name": "Python 3",
   "language": "python",
   "name": "python3"
  },
  "language_info": {
   "codemirror_mode": {
    "name": "ipython",
    "version": 3
   },
   "file_extension": ".py",
   "mimetype": "text/x-python",
   "name": "python",
   "nbconvert_exporter": "python",
   "pygments_lexer": "ipython3",
   "version": "3.8.3"
  },
  "toc": {
   "base_numbering": 1,
   "nav_menu": {},
   "number_sections": true,
   "sideBar": true,
   "skip_h1_title": false,
   "title_cell": "Table of Contents",
   "title_sidebar": "Contents",
   "toc_cell": false,
   "toc_position": {},
   "toc_section_display": true,
   "toc_window_display": false
  },
  "varInspector": {
   "cols": {
    "lenName": 16,
    "lenType": 16,
    "lenVar": 40
   },
   "kernels_config": {
    "python": {
     "delete_cmd_postfix": "",
     "delete_cmd_prefix": "del ",
     "library": "var_list.py",
     "varRefreshCmd": "print(var_dic_list())"
    },
    "r": {
     "delete_cmd_postfix": ") ",
     "delete_cmd_prefix": "rm(",
     "library": "var_list.r",
     "varRefreshCmd": "cat(var_dic_list()) "
    }
   },
   "types_to_exclude": [
    "module",
    "function",
    "builtin_function_or_method",
    "instance",
    "_Feature"
   ],
   "window_display": false
  }
 },
 "nbformat": 4,
 "nbformat_minor": 4
}
