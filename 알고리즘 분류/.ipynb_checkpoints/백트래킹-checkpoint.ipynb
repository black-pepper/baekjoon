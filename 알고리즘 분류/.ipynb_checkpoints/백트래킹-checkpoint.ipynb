{
 "cells": [
  {
   "cell_type": "markdown",
   "metadata": {},
   "source": [
    "## 1759번: 암호 만들기"
   ]
  },
  {
   "cell_type": "code",
   "execution_count": 68,
   "metadata": {},
   "outputs": [
    {
     "name": "stdout",
     "output_type": "stream",
     "text": [
      "4 6\n",
      "a t c i s w\n",
      "acis\n",
      "acit\n",
      "aciw\n",
      "acst\n",
      "acsw\n",
      "actw\n",
      "aist\n",
      "aisw\n",
      "aitw\n",
      "astw\n",
      "cist\n",
      "cisw\n",
      "citw\n",
      "istw\n"
     ]
    }
   ],
   "source": [
    "vowel = ['a', 'e', 'i', 'o', 'u']\n",
    "def check_vowel(string):\n",
    "    ret = 0\n",
    "    for i in string:\n",
    "        for j in vowel:\n",
    "            if i == j :\n",
    "                ret += 1\n",
    "                break\n",
    "    return ret\n",
    "\n",
    "result = ''\n",
    "def solve(cnt, idx):\n",
    "    global L, C, result\n",
    "    #print(result)\n",
    "    vowel_cnt = check_vowel(result)\n",
    "    if cnt == L and 0<vowel_cnt and 1<len(result)-vowel_cnt:\n",
    "        for i in result:\n",
    "            print(i, end='')\n",
    "        print()\n",
    "        return\n",
    "    for i in range(idx, C):\n",
    "        result += alphabet[i]\n",
    "        solve(cnt+1, i+1)\n",
    "        result = result[:-1]\n",
    "        \n",
    "L, C = map(int, input().split())\n",
    "alphabet = list(map(str, input().split()))\n",
    "alphabet.sort()\n",
    "\n",
    "solve(0, 0)"
   ]
  },
  {
   "cell_type": "markdown",
   "metadata": {
    "ExecuteTime": {
     "end_time": "2021-09-29T04:17:16.161472Z",
     "start_time": "2021-09-29T04:17:16.143519Z"
    }
   },
   "source": [
    "## 6603번: 로또"
   ]
  },
  {
   "cell_type": "code",
   "execution_count": 16,
   "metadata": {
    "ExecuteTime": {
     "end_time": "2021-09-29T04:28:23.517535Z",
     "start_time": "2021-09-29T04:28:11.014328Z"
    }
   },
   "outputs": [
    {
     "name": "stdout",
     "output_type": "stream",
     "text": [
      "7 1 2 3 4 5 6 7\n",
      "1 2 3 4 5 6\n",
      "1 2 3 4 5 7\n",
      "1 2 3 4 6 7\n",
      "1 2 3 5 6 7\n",
      "1 2 4 5 6 7\n",
      "1 3 4 5 6 7\n",
      "2 3 4 5 6 7\n",
      "\n",
      "8 1 2 3 5 8 13 21 34\n",
      "1 2 3 5 8 13\n",
      "1 2 3 5 8 21\n",
      "1 2 3 5 8 34\n",
      "1 2 3 5 13 21\n",
      "1 2 3 5 13 34\n",
      "1 2 3 5 21 34\n",
      "1 2 3 8 13 21\n",
      "1 2 3 8 13 34\n",
      "1 2 3 8 21 34\n",
      "1 2 3 13 21 34\n",
      "1 2 5 8 13 21\n",
      "1 2 5 8 13 34\n",
      "1 2 5 8 21 34\n",
      "1 2 5 13 21 34\n",
      "1 2 8 13 21 34\n",
      "1 3 5 8 13 21\n",
      "1 3 5 8 13 34\n",
      "1 3 5 8 21 34\n",
      "1 3 5 13 21 34\n",
      "1 3 8 13 21 34\n",
      "1 5 8 13 21 34\n",
      "2 3 5 8 13 21\n",
      "2 3 5 8 13 34\n",
      "2 3 5 8 21 34\n",
      "2 3 5 13 21 34\n",
      "2 3 8 13 21 34\n",
      "2 5 8 13 21 34\n",
      "3 5 8 13 21 34\n",
      "\n",
      "0\n"
     ]
    }
   ],
   "source": [
    "import sys\n",
    "#input = sys.stdin.readline\n",
    "\n",
    "def find_num(c):\n",
    "        if len(result) == 6:\n",
    "            print(*result)\n",
    "            return\n",
    "        for i in range(c, n):\n",
    "            result.append(arr[i])\n",
    "            find_num(i+1)\n",
    "            result.pop()\n",
    "\n",
    "while True:\n",
    "    arr = list(map(int, input().split()))\n",
    "    if arr == [0]:\n",
    "        break\n",
    "    n = arr[0]\n",
    "    del arr[0]\n",
    "\n",
    "    arr.sort()\n",
    "    result = []\n",
    "    \n",
    "    find_num(0)\n",
    "    print()"
   ]
  },
  {
   "cell_type": "markdown",
   "metadata": {},
   "source": [
    "## 15664번: N과 M (10)"
   ]
  },
  {
   "cell_type": "code",
   "execution_count": 16,
   "metadata": {},
   "outputs": [
    {
     "name": "stdout",
     "output_type": "stream",
     "text": [
      "4 2\n",
      "9 7 9 1\n",
      "1 7\n",
      "1 9\n",
      "7 9\n",
      "9 9\n"
     ]
    }
   ],
   "source": [
    "N, M = map(int, input().split())\n",
    "arr = list(map(int, input().split()))\n",
    "\n",
    "arr.sort()\n",
    "result = [[-1]]\n",
    "def solution(i, temp):\n",
    "    if len(temp)==M:\n",
    "        result.append(temp)\n",
    "        return\n",
    "    for i in range(i, N):\n",
    "        solution(i+1, temp+[arr[i]])\n",
    "solution(0, [])\n",
    "           \n",
    "result.sort()\n",
    "for i in range(1, len(result)):\n",
    "    if result[i] == result[i-1]:\n",
    "        continue\n",
    "    print(*result[i])"
   ]
  }
 ],
 "metadata": {
  "kernelspec": {
   "display_name": "Python 3",
   "language": "python",
   "name": "python3"
  },
  "language_info": {
   "codemirror_mode": {
    "name": "ipython",
    "version": 3
   },
   "file_extension": ".py",
   "mimetype": "text/x-python",
   "name": "python",
   "nbconvert_exporter": "python",
   "pygments_lexer": "ipython3",
   "version": "3.8.3"
  },
  "toc": {
   "base_numbering": 1,
   "nav_menu": {},
   "number_sections": true,
   "sideBar": true,
   "skip_h1_title": false,
   "title_cell": "Table of Contents",
   "title_sidebar": "Contents",
   "toc_cell": false,
   "toc_position": {},
   "toc_section_display": true,
   "toc_window_display": false
  },
  "varInspector": {
   "cols": {
    "lenName": 16,
    "lenType": 16,
    "lenVar": 40
   },
   "kernels_config": {
    "python": {
     "delete_cmd_postfix": "",
     "delete_cmd_prefix": "del ",
     "library": "var_list.py",
     "varRefreshCmd": "print(var_dic_list())"
    },
    "r": {
     "delete_cmd_postfix": ") ",
     "delete_cmd_prefix": "rm(",
     "library": "var_list.r",
     "varRefreshCmd": "cat(var_dic_list()) "
    }
   },
   "position": {
    "height": "144.854px",
    "left": "671px",
    "right": "20px",
    "top": "119px",
    "width": "350px"
   },
   "types_to_exclude": [
    "module",
    "function",
    "builtin_function_or_method",
    "instance",
    "_Feature"
   ],
   "window_display": false
  }
 },
 "nbformat": 4,
 "nbformat_minor": 4
}
