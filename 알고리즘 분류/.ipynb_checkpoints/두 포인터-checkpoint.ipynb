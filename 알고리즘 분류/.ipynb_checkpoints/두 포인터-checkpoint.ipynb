{
 "cells": [
  {
   "cell_type": "markdown",
   "metadata": {},
   "source": [
    "## 2003번: 수들의 합 2"
   ]
  },
  {
   "cell_type": "code",
   "execution_count": 20,
   "metadata": {},
   "outputs": [
    {
     "name": "stdout",
     "output_type": "stream",
     "text": [
      "4 2\n",
      "1 1 1 1\n",
      "3\n"
     ]
    }
   ],
   "source": [
    "import sys\n",
    "#input = sys.stdin.readline\n",
    "\n",
    "N, M = map(int, input().split())\n",
    "A = list(map(int, input().split()))\n",
    "\n",
    "p1, p2 = 0, 0\n",
    "cnt = 0\n",
    "total = A[0]\n",
    "while True:\n",
    "    if total == M:\n",
    "        cnt += 1\n",
    "    if total <= M:\n",
    "        if p1 == N-1: break\n",
    "        p1 += 1\n",
    "        total += A[p1]\n",
    "    else:\n",
    "        total -= A[p2]\n",
    "        p2 += 1\n",
    "        \n",
    "print(cnt)"
   ]
  },
  {
   "cell_type": "markdown",
   "metadata": {},
   "source": [
    "## 17609번: 회문"
   ]
  },
  {
   "cell_type": "code",
   "execution_count": 54,
   "metadata": {},
   "outputs": [
    {
     "name": "stdout",
     "output_type": "stream",
     "text": [
      "7\n",
      "abba\n",
      "0\n",
      "summuus\n",
      "1\n",
      "xabba\n",
      "1\n",
      "xabbay\n",
      "2\n",
      "comcom\n",
      "2\n",
      "comwwmoc\n",
      "0\n",
      "comwwtmoc\n",
      "1\n"
     ]
    }
   ],
   "source": [
    "def palindrome(l, r, result):\n",
    "    while l<=r:\n",
    "        if string[l]!=string[r]:\n",
    "            if result==1: return 2\n",
    "            temp1 = palindrome(l+1, r, 1)\n",
    "            temp2 = palindrome(l, r-1, 1)\n",
    "            return min(temp1, temp2)\n",
    "        l += 1\n",
    "        r -= 1\n",
    "    return result\n",
    "\n",
    "for _ in range(int(input())):\n",
    "    string = input()\n",
    "    print(palindrome(0, len(string)-1, 0))"
   ]
  }
 ],
 "metadata": {
  "kernelspec": {
   "display_name": "Python 3 (ipykernel)",
   "language": "python",
   "name": "python3"
  },
  "language_info": {
   "codemirror_mode": {
    "name": "ipython",
    "version": 3
   },
   "file_extension": ".py",
   "mimetype": "text/x-python",
   "name": "python",
   "nbconvert_exporter": "python",
   "pygments_lexer": "ipython3",
   "version": "3.9.12"
  },
  "toc": {
   "base_numbering": 1,
   "nav_menu": {},
   "number_sections": true,
   "sideBar": true,
   "skip_h1_title": false,
   "title_cell": "Table of Contents",
   "title_sidebar": "Contents",
   "toc_cell": false,
   "toc_position": {},
   "toc_section_display": true,
   "toc_window_display": false
  },
  "varInspector": {
   "cols": {
    "lenName": 16,
    "lenType": 16,
    "lenVar": 40
   },
   "kernels_config": {
    "python": {
     "delete_cmd_postfix": "",
     "delete_cmd_prefix": "del ",
     "library": "var_list.py",
     "varRefreshCmd": "print(var_dic_list())"
    },
    "r": {
     "delete_cmd_postfix": ") ",
     "delete_cmd_prefix": "rm(",
     "library": "var_list.r",
     "varRefreshCmd": "cat(var_dic_list()) "
    }
   },
   "types_to_exclude": [
    "module",
    "function",
    "builtin_function_or_method",
    "instance",
    "_Feature"
   ],
   "window_display": false
  }
 },
 "nbformat": 4,
 "nbformat_minor": 4
}
