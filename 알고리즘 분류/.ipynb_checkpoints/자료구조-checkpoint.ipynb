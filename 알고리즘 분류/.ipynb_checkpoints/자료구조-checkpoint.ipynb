{
 "cells": [
  {
   "cell_type": "markdown",
   "metadata": {},
   "source": [
    "## 2504번: 괄호의 값"
   ]
  },
  {
   "cell_type": "code",
   "execution_count": 7,
   "metadata": {},
   "outputs": [
    {
     "name": "stdout",
     "output_type": "stream",
     "text": [
      "(()[[]])([])\n",
      "28\n"
     ]
    }
   ],
   "source": [
    "from collections import deque\n",
    "\n",
    "string = input()\n",
    "\n",
    "flag = 0\n",
    "stack = deque()\n",
    "bracket = {'(':2, '[':3, ')':-2, ']':-3}\n",
    "for s in string:\n",
    "    if bracket[s] > 0:\n",
    "        stack.append(s)\n",
    "    else:\n",
    "        keep = 0\n",
    "        if not stack: #스택이 비었을 때\n",
    "            temp = 1\n",
    "            break\n",
    "        while stack:\n",
    "            temp = stack.pop()\n",
    "            if  type(temp) == int:#숫자일 때\n",
    "                keep += temp\n",
    "            else:\n",
    "                break\n",
    "        if type(temp) == int:\n",
    "            continue\n",
    "        keep = max(keep, 1)\n",
    "        if abs(bracket[s]) != bracket[temp]:#맞지앉을 때\n",
    "            flag = 1\n",
    "            break\n",
    "        else:\n",
    "            stack.append(keep*abs(bracket[s]))\n",
    "            \n",
    "result = 0\n",
    "while stack:\n",
    "    temp = stack.pop()\n",
    "    if type(temp) != int:\n",
    "        flag = 1\n",
    "        break\n",
    "    result += temp\n",
    "        \n",
    "if flag:\n",
    "    print(0)\n",
    "else:\n",
    "    print(result)"
   ]
  }
 ],
 "metadata": {
  "kernelspec": {
   "display_name": "Python 3",
   "language": "python",
   "name": "python3"
  },
  "toc": {
   "base_numbering": 1,
   "nav_menu": {},
   "number_sections": true,
   "sideBar": true,
   "skip_h1_title": false,
   "title_cell": "Table of Contents",
   "title_sidebar": "Contents",
   "toc_cell": false,
   "toc_position": {},
   "toc_section_display": true,
   "toc_window_display": false
  },
  "varInspector": {
   "cols": {
    "lenName": 16,
    "lenType": 16,
    "lenVar": 40
   },
   "kernels_config": {
    "python": {
     "delete_cmd_postfix": "",
     "delete_cmd_prefix": "del ",
     "library": "var_list.py",
     "varRefreshCmd": "print(var_dic_list())"
    },
    "r": {
     "delete_cmd_postfix": ") ",
     "delete_cmd_prefix": "rm(",
     "library": "var_list.r",
     "varRefreshCmd": "cat(var_dic_list()) "
    }
   },
   "position": {
    "height": "331px",
    "left": "422px",
    "right": "20px",
    "top": "120px",
    "width": "350px"
   },
   "types_to_exclude": [
    "module",
    "function",
    "builtin_function_or_method",
    "instance",
    "_Feature"
   ],
   "window_display": false
  }
 },
 "nbformat": 4,
 "nbformat_minor": 4
}
