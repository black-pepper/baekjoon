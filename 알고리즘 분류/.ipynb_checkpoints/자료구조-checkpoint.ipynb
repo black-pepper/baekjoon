{
 "cells": [
  {
   "cell_type": "markdown",
   "metadata": {},
   "source": [
    "## 2504번: 괄호의 값"
   ]
  },
  {
   "cell_type": "code",
   "execution_count": 7,
   "metadata": {},
   "outputs": [
    {
     "name": "stdout",
     "output_type": "stream",
     "text": [
      "(()[[]])([])\n",
      "28\n"
     ]
    }
   ],
   "source": [
    "from collections import deque\n",
    "\n",
    "string = input()\n",
    "\n",
    "flag = 0\n",
    "stack = deque()\n",
    "bracket = {'(':2, '[':3, ')':-2, ']':-3}\n",
    "for s in string:\n",
    "    if bracket[s] > 0:\n",
    "        stack.append(s)\n",
    "    else:\n",
    "        keep = 0\n",
    "        if not stack: #스택이 비었을 때\n",
    "            temp = 1\n",
    "            break\n",
    "        while stack:\n",
    "            temp = stack.pop()\n",
    "            if  type(temp) == int:#숫자일 때\n",
    "                keep += temp\n",
    "            else:\n",
    "                break\n",
    "        if type(temp) == int:\n",
    "            continue\n",
    "        keep = max(keep, 1)\n",
    "        if abs(bracket[s]) != bracket[temp]:#맞지앉을 때\n",
    "            flag = 1\n",
    "            break\n",
    "        else:\n",
    "            stack.append(keep*abs(bracket[s]))\n",
    "            \n",
    "result = 0\n",
    "while stack:\n",
    "    temp = stack.pop()\n",
    "    if type(temp) != int:\n",
    "        flag = 1\n",
    "        break\n",
    "    result += temp\n",
    "        \n",
    "if flag:\n",
    "    print(0)\n",
    "else:\n",
    "    print(result)"
   ]
  },
  {
   "cell_type": "markdown",
   "metadata": {},
   "source": [
    "## 10799번: 쇠막대기"
   ]
  },
  {
   "cell_type": "code",
   "execution_count": 1,
   "metadata": {},
   "outputs": [
    {
     "name": "stdout",
     "output_type": "stream",
     "text": [
      "()(((()())(())()))(())\n",
      "17\n"
     ]
    }
   ],
   "source": [
    "arr = input()\n",
    "\n",
    "height = 0\n",
    "ans = 0\n",
    "size = len(arr)\n",
    "i = 0\n",
    "while i<size:\n",
    "    if i<size and arr[i:i+2] == '()': #()일 때\n",
    "        ans += height\n",
    "        i += 1\n",
    "    elif arr[i] == '(': #(일 때\n",
    "        height += 1\n",
    "    else: #)일 때\n",
    "        ans += 1\n",
    "        height -= 1\n",
    "    i += 1\n",
    "print(ans)"
   ]
  },
  {
   "cell_type": "markdown",
   "metadata": {},
   "source": [
    "## 1158번: 요세푸스 문제"
   ]
  },
  {
   "cell_type": "code",
   "execution_count": 8,
   "metadata": {},
   "outputs": [],
   "source": [
    "from collections import deque\n",
    "\n",
    "N, K = map(int, input().split())\n",
    "queue = deque()\n",
    "for i in range(1, N+1):\n",
    "    queue.append(i)\n",
    "\n",
    "result = []\n",
    "while queue:\n",
    "    for i in range(K-1):\n",
    "        queue.append(queue.popleft())\n",
    "    result.append(queue.popleft())\n",
    "    \n",
    "print('<', end='')\n",
    "print(*result,sep=', ',end='')\n",
    "print('>')"
   ]
  },
  {
   "cell_type": "markdown",
   "metadata": {},
   "source": [
    "## 2493번: 탑"
   ]
  },
  {
   "cell_type": "code",
   "execution_count": null,
   "metadata": {},
   "outputs": [],
   "source": [
    "import heapq\n",
    "\n",
    "N = int(input())\n",
    "arr= list(map(int, input().split()))\n",
    "\n",
    "result = [0] * N\n",
    "heap = []\n",
    "\n",
    "for i in range(N-1, -1, -1):\n",
    "    while heap:\n",
    "        if arr[i] < heap[0][0]:\n",
    "            break\n",
    "        result[heap[0][1]] = i+1\n",
    "        heapq.heappop(heap)\n",
    "    heapq.heappush(heap, [arr[i], i])\n",
    "print(*result)"
   ]
  },
  {
   "cell_type": "markdown",
   "metadata": {},
   "source": [
    "## 1406번: 에디터"
   ]
  },
  {
   "cell_type": "code",
   "execution_count": 23,
   "metadata": {},
   "outputs": [
    {
     "name": "stdout",
     "output_type": "stream",
     "text": [
      "dmih\n",
      "11\n",
      "B\n",
      "B\n",
      "P x\n",
      "L\n",
      "B\n",
      "B\n",
      "B\n",
      "P y\n",
      "D\n",
      "D\n",
      "P z\n",
      "yxz\n"
     ]
    }
   ],
   "source": [
    "import sys\n",
    "from collections import deque\n",
    "#input = sys.stdin.readline\n",
    "\n",
    "string = list(input().replace(\"\\n\",\"\").strip())\n",
    "M = int(input())\n",
    "\n",
    "left = deque()\n",
    "right = deque()\n",
    "for s in string:\n",
    "    left.append(s)\n",
    "    \n",
    "for _ in range(M):\n",
    "    cmd = list(input().split())\n",
    "    if cmd[0] == 'L' and left:\n",
    "        right.appendleft(left.pop())\n",
    "    elif cmd[0] == 'D' and right:\n",
    "        left.append(right.popleft())\n",
    "    elif cmd[0] == 'B' and left:\n",
    "        left.pop()\n",
    "    elif cmd[0] == 'P':\n",
    "        left.append(cmd[1])\n",
    "        \n",
    "print(''.join(left)+''.join(right))"
   ]
  },
  {
   "cell_type": "markdown",
   "metadata": {},
   "source": [
    "## 5397번: 키로거"
   ]
  },
  {
   "cell_type": "code",
   "execution_count": 11,
   "metadata": {},
   "outputs": [
    {
     "name": "stdout",
     "output_type": "stream",
     "text": [
      "2\n",
      "<<BP<A>>Cd-\n",
      "BAPC\n",
      "ThIsIsS3Cr3t\n",
      "ThIsIsS3Cr3t\n"
     ]
    }
   ],
   "source": [
    "import sys\n",
    "from collections import deque\n",
    "#input = sys.stdin.readline\n",
    "\n",
    "T = int(input())\n",
    "for _ in range(T):\n",
    "    string = input().replace(\"\\n\",\"\")\n",
    "\n",
    "    left = deque()\n",
    "    right = deque()\n",
    "    for s in string:\n",
    "        if s == '-':\n",
    "            if left: left.pop()\n",
    "        elif s == '<':\n",
    "            if left: right.appendleft(left.pop())\n",
    "        elif s == '>':\n",
    "            if right: left.append(right.popleft())\n",
    "        else:\n",
    "            left.append(s)\n",
    "\n",
    "    print(''.join(left)+''.join(right))"
   ]
  }
 ],
 "metadata": {
  "kernelspec": {
   "display_name": "Python 3",
   "language": "python",
   "name": "python3"
  },
  "language_info": {
   "codemirror_mode": {
    "name": "ipython",
    "version": 3
   },
   "file_extension": ".py",
   "mimetype": "text/x-python",
   "name": "python",
   "nbconvert_exporter": "python",
   "pygments_lexer": "ipython3",
   "version": "3.8.3"
  },
  "toc": {
   "base_numbering": 1,
   "nav_menu": {},
   "number_sections": true,
   "sideBar": true,
   "skip_h1_title": false,
   "title_cell": "Table of Contents",
   "title_sidebar": "Contents",
   "toc_cell": false,
   "toc_position": {},
   "toc_section_display": true,
   "toc_window_display": false
  },
  "varInspector": {
   "cols": {
    "lenName": 16,
    "lenType": 16,
    "lenVar": 40
   },
   "kernels_config": {
    "python": {
     "delete_cmd_postfix": "",
     "delete_cmd_prefix": "del ",
     "library": "var_list.py",
     "varRefreshCmd": "print(var_dic_list())"
    },
    "r": {
     "delete_cmd_postfix": ") ",
     "delete_cmd_prefix": "rm(",
     "library": "var_list.r",
     "varRefreshCmd": "cat(var_dic_list()) "
    }
   },
   "position": {
    "height": "330.994px",
    "left": "422.989px",
    "right": "20px",
    "top": "120px",
    "width": "350px"
   },
   "types_to_exclude": [
    "module",
    "function",
    "builtin_function_or_method",
    "instance",
    "_Feature"
   ],
   "window_display": false
  }
 },
 "nbformat": 4,
 "nbformat_minor": 4
}
