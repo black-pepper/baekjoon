{
 "cells": [
  {
   "cell_type": "markdown",
   "metadata": {},
   "source": [
    "## 2504번: 괄호의 값"
   ]
  },
  {
   "cell_type": "code",
   "execution_count": 31,
   "metadata": {},
   "outputs": [
    {
     "name": "stdout",
     "output_type": "stream",
     "text": [
      "(()[[]])([])\n",
      "28\n"
     ]
    }
   ],
   "source": [
    "from collections import deque\n",
    "\n",
    "string = input()\n",
    "\n",
    "flag = 0\n",
    "stack = deque()\n",
    "bracket = {'(':2, '[':3, ')':-2, ']':-3}\n",
    "for s in string:\n",
    "    if bracket[s] > 0:\n",
    "        stack.append(s)\n",
    "    else:\n",
    "        keep = 0\n",
    "        if not stack: #스택이 비었을 때\n",
    "            temp = 1\n",
    "            break\n",
    "        while stack:\n",
    "            temp = stack.pop()\n",
    "            if  type(temp) == int:#숫자일 때\n",
    "                keep += temp\n",
    "            else:\n",
    "                break\n",
    "        if type(temp) == int:\n",
    "            continue\n",
    "        keep = max(keep, 1)\n",
    "        if abs(bracket[s]) != bracket[temp]:#맞지앉을 때\n",
    "            flag = 1\n",
    "            break\n",
    "        else:\n",
    "            stack.append(keep*abs(bracket[s]))\n",
    "            \n",
    "result = 0\n",
    "while stack:\n",
    "    temp = stack.pop()\n",
    "    if type(temp) != int:\n",
    "        flag = 1\n",
    "        break\n",
    "    result += temp\n",
    "        \n",
    "if flag:\n",
    "    print(0)\n",
    "else:\n",
    "    print(result)"
   ]
  },
  {
   "cell_type": "markdown",
   "metadata": {},
   "source": [
    "## 10799번: 쇠막대기"
   ]
  },
  {
   "cell_type": "code",
   "execution_count": 32,
   "metadata": {},
   "outputs": [
    {
     "name": "stdout",
     "output_type": "stream",
     "text": [
      "(((()(()()))(())()))(()())\n",
      "24\n"
     ]
    }
   ],
   "source": [
    "arr = input()\n",
    "\n",
    "height = 0\n",
    "ans = 0\n",
    "size = len(arr)\n",
    "i = 0\n",
    "while i<size:\n",
    "    if i<size and arr[i:i+2] == '()': #()일 때\n",
    "        ans += height\n",
    "        i += 1\n",
    "    elif arr[i] == '(': #(일 때\n",
    "        height += 1\n",
    "    else: #)일 때\n",
    "        ans += 1\n",
    "        height -= 1\n",
    "    i += 1\n",
    "print(ans)"
   ]
  },
  {
   "cell_type": "markdown",
   "metadata": {},
   "source": [
    "## 1158번: 요세푸스 문제"
   ]
  },
  {
   "cell_type": "code",
   "execution_count": 33,
   "metadata": {},
   "outputs": [
    {
     "name": "stdout",
     "output_type": "stream",
     "text": [
      "7 3\n",
      "<3, 6, 2, 7, 5, 1, 4>\n"
     ]
    }
   ],
   "source": [
    "from collections import deque\n",
    "\n",
    "N, K = map(int, input().split())\n",
    "queue = deque()\n",
    "for i in range(1, N+1):\n",
    "    queue.append(i)\n",
    "\n",
    "result = []\n",
    "while queue:\n",
    "    for i in range(K-1):\n",
    "        queue.append(queue.popleft())\n",
    "    result.append(queue.popleft())\n",
    "    \n",
    "print('<', end='')\n",
    "print(*result,sep=', ',end='')\n",
    "print('>')"
   ]
  },
  {
   "cell_type": "markdown",
   "metadata": {},
   "source": [
    "## 2493번: 탑"
   ]
  },
  {
   "cell_type": "code",
   "execution_count": 34,
   "metadata": {},
   "outputs": [
    {
     "name": "stdout",
     "output_type": "stream",
     "text": [
      "5\n",
      "6 9 5 7 4\n",
      "0 0 2 2 4\n"
     ]
    }
   ],
   "source": [
    "import heapq\n",
    "\n",
    "N = int(input())\n",
    "arr= list(map(int, input().split()))\n",
    "\n",
    "result = [0] * N\n",
    "heap = []\n",
    "\n",
    "for i in range(N-1, -1, -1):\n",
    "    while heap:\n",
    "        if arr[i] < heap[0][0]:\n",
    "            break\n",
    "        result[heap[0][1]] = i+1\n",
    "        heapq.heappop(heap)\n",
    "    heapq.heappush(heap, [arr[i], i])\n",
    "print(*result)"
   ]
  },
  {
   "cell_type": "markdown",
   "metadata": {},
   "source": [
    "## 1406번: 에디터"
   ]
  },
  {
   "cell_type": "code",
   "execution_count": 35,
   "metadata": {},
   "outputs": [
    {
     "name": "stdout",
     "output_type": "stream",
     "text": [
      "abcd\n",
      "3\n",
      "P x\n",
      "L\n",
      "P y\n",
      "abcdyx\n"
     ]
    }
   ],
   "source": [
    "import sys\n",
    "from collections import deque\n",
    "#input = sys.stdin.readline\n",
    "\n",
    "string = list(input().replace(\"\\n\",\"\").strip())\n",
    "M = int(input())\n",
    "\n",
    "left = deque()\n",
    "right = deque()\n",
    "for s in string:\n",
    "    left.append(s)\n",
    "    \n",
    "for _ in range(M):\n",
    "    cmd = list(input().split())\n",
    "    if cmd[0] == 'L' and left:\n",
    "        right.appendleft(left.pop())\n",
    "    elif cmd[0] == 'D' and right:\n",
    "        left.append(right.popleft())\n",
    "    elif cmd[0] == 'B' and left:\n",
    "        left.pop()\n",
    "    elif cmd[0] == 'P':\n",
    "        left.append(cmd[1])\n",
    "        \n",
    "print(''.join(left)+''.join(right))"
   ]
  },
  {
   "cell_type": "markdown",
   "metadata": {},
   "source": [
    "## 5397번: 키로거"
   ]
  },
  {
   "cell_type": "code",
   "execution_count": 36,
   "metadata": {},
   "outputs": [
    {
     "name": "stdout",
     "output_type": "stream",
     "text": [
      "2\n",
      "<<BP<A>>Cd-\n",
      "BAPC\n",
      "ThIsIsS3Cr3t\n",
      "ThIsIsS3Cr3t\n"
     ]
    }
   ],
   "source": [
    "import sys\n",
    "from collections import deque\n",
    "#input = sys.stdin.readline\n",
    "\n",
    "T = int(input())\n",
    "for _ in range(T):\n",
    "    string = input().replace(\"\\n\",\"\")\n",
    "\n",
    "    left = deque()\n",
    "    right = deque()\n",
    "    for s in string:\n",
    "        if s == '-':\n",
    "            if left: left.pop()\n",
    "        elif s == '<':\n",
    "            if left: right.appendleft(left.pop())\n",
    "        elif s == '>':\n",
    "            if right: left.append(right.popleft())\n",
    "        else:\n",
    "            left.append(s)\n",
    "\n",
    "    print(''.join(left)+''.join(right))"
   ]
  },
  {
   "cell_type": "markdown",
   "metadata": {},
   "source": [
    "## 1935번: 후위 표기식2"
   ]
  },
  {
   "cell_type": "code",
   "execution_count": 30,
   "metadata": {},
   "outputs": [
    {
     "name": "stdout",
     "output_type": "stream",
     "text": [
      "5\n",
      "ABC*+DE/-\n",
      "1\n",
      "2\n",
      "3\n",
      "4\n",
      "5\n",
      "6.20\n"
     ]
    }
   ],
   "source": [
    "from collections import deque\n",
    "\n",
    "N = int(input())\n",
    "string = input().strip()\n",
    "number = []\n",
    "for i in range(N):\n",
    "    number.append(int(input()))\n",
    "\n",
    "stack = deque()\n",
    "for s in string:\n",
    "    if s not in ['+', '-', '*', '/']:\n",
    "        stack.append(number[ord(s)-ord('A')])\n",
    "    else:\n",
    "        a, b = stack.pop(), stack.pop()\n",
    "        if s == '+':\n",
    "            stack.append(b+a)\n",
    "        elif s == '-':\n",
    "            stack.append(b-a)\n",
    "        elif s == '*':\n",
    "            stack.append(b*a)\n",
    "        elif s == '/':\n",
    "            stack.append(b/a)\n",
    "            \n",
    "print('%0.2f'%stack.pop())"
   ]
  },
  {
   "cell_type": "markdown",
   "metadata": {},
   "source": [
    "## 2075번: N번째 큰 수"
   ]
  },
  {
   "cell_type": "code",
   "execution_count": 2,
   "metadata": {},
   "outputs": [
    {
     "name": "stdout",
     "output_type": "stream",
     "text": [
      "5\n",
      "12 7 9 15 5\n",
      "13 8 11 19 6\n",
      "21 10 26 31 16\n",
      "48 14 28 35 25\n",
      "52 20 32 41 49\n",
      "35\n"
     ]
    }
   ],
   "source": [
    "import sys\n",
    "#input = sys.stdin.readline\n",
    "import heapq\n",
    "N = int(input())\n",
    "heap = []\n",
    "\n",
    "for i in list(map(int, input().split())):\n",
    "    heapq.heappush(heap, i)\n",
    "\n",
    "for i in range(N-1):\n",
    "    arr = list(map(int, input().split()))\n",
    "    for a in arr:\n",
    "        if heap[0]<a:\n",
    "            heapq.heappop(heap)\n",
    "            heapq.heappush(heap, a)\n",
    "            \n",
    "print(heap[0])"
   ]
  },
  {
   "cell_type": "markdown",
   "metadata": {},
   "source": [
    "## 1725번: 히스토그램"
   ]
  },
  {
   "cell_type": "code",
   "execution_count": 10,
   "metadata": {},
   "outputs": [
    {
     "name": "stdout",
     "output_type": "stream",
     "text": [
      "7\n",
      "2\n",
      "1\n",
      "4\n",
      "5\n",
      "1\n",
      "3\n",
      "3\n",
      "8\n"
     ]
    }
   ],
   "source": [
    "arr = []\n",
    "for i in range(int(input())):\n",
    "    arr.append(int(input()))\n",
    "\n",
    "stack = []\n",
    "stack.append((arr[0], 0))\n",
    "area = arr[0]\n",
    "    \n",
    "for i in range(1, len(arr)):\n",
    "    #스택 가장 위의 값보다 클때까지 스택을 pop\n",
    "    temp = i\n",
    "    while stack and stack[-1][0]>arr[i]:\n",
    "        area = max(area, stack[-1][0] * (i - stack[-1][1]))\n",
    "        temp = stack[-1][1]\n",
    "        stack.pop()\n",
    "    #스택이 비었거나 스택 가장 위의 값보다 클경우 arr[i]를 push\n",
    "    if not stack or stack[-1][0]<arr[i]:\n",
    "        stack.append((arr[i], temp))\n",
    "    \n",
    "#스택에 남은 값들 모두 pop\n",
    "while len(stack)>0:\n",
    "    area = max(area, stack[-1][0] * (len(arr) - stack[-1][1]))\n",
    "    stack.pop()\n",
    "        \n",
    "print(area)"
   ]
  },
  {
   "cell_type": "markdown",
   "metadata": {},
   "source": [
    "## 11003번: 최솟값 찾기"
   ]
  },
  {
   "cell_type": "code",
   "execution_count": 8,
   "metadata": {},
   "outputs": [
    {
     "name": "stdout",
     "output_type": "stream",
     "text": [
      "12 3\n",
      "1 5 2 3 6 2 3 7 3 5 2 6\n",
      "1 1 1 2 2 2 2 2 3 3 2 2 "
     ]
    }
   ],
   "source": [
    "import heapq\n",
    "\n",
    "N, L = map(int, input().split())\n",
    "arr = list(map(int, input().split()))\n",
    "\n",
    "heap = []\n",
    "for i in range(N):\n",
    "    heapq.heappush(heap, (arr[i], i))\n",
    "    while heap[0][1] <= i-L:\n",
    "        heapq.heappop(heap)\n",
    "    print(heap[0][0], end=' ')"
   ]
  },
  {
   "cell_type": "markdown",
   "metadata": {},
   "source": [
    "## 24523번: 내 뒤에 나와 다른 수"
   ]
  },
  {
   "cell_type": "code",
   "execution_count": 17,
   "metadata": {},
   "outputs": [
    {
     "name": "stdout",
     "output_type": "stream",
     "text": [
      "6\n",
      "3 3 1 1 4 4\n",
      "3 3 5 5 -1 -1 "
     ]
    }
   ],
   "source": [
    "N = int(input())\n",
    "A = list(map(int, input().split()))\n",
    "\n",
    "i = 0\n",
    "for j in range(1, N):\n",
    "    if A[i] != A[j]:\n",
    "        print((str(j+1)+' ')*(j-i), end='')\n",
    "        i = j\n",
    "print(('-1'+' ')*(N-i), end='')"
   ]
  },
  {
   "cell_type": "markdown",
   "metadata": {},
   "source": [
    "## 11652번: 카드"
   ]
  },
  {
   "cell_type": "code",
   "execution_count": 24,
   "metadata": {},
   "outputs": [
    {
     "name": "stdout",
     "output_type": "stream",
     "text": [
      "5\n",
      "1\n",
      "2\n",
      "1\n",
      "2\n",
      "1\n",
      "1\n"
     ]
    }
   ],
   "source": [
    "import sys\n",
    "#input = sys.stdin.readline\n",
    "from collections import Counter\n",
    "\n",
    "N = int(input())\n",
    "arr = []\n",
    "for _ in range(N):\n",
    "    arr.append(int(input()))\n",
    "arr.sort()\n",
    "\n",
    "result = Counter(arr)\n",
    "print(result.most_common()[0][0])"
   ]
  },
  {
   "cell_type": "markdown",
   "metadata": {},
   "source": [
    "## 7785번: 회사에 있는 사람"
   ]
  },
  {
   "cell_type": "code",
   "execution_count": 4,
   "metadata": {},
   "outputs": [
    {
     "name": "stdout",
     "output_type": "stream",
     "text": [
      "4\n",
      "Baha enter\n",
      "Askar enter\n",
      "Baha leave\n",
      "Artem enter\n",
      "Askar\n",
      "Artem\n"
     ]
    }
   ],
   "source": [
    "n = int(input())\n",
    "employee = {}\n",
    "for i in range(n):\n",
    "    name, state = input().split()\n",
    "    employee[name] = state\n",
    "    \n",
    "result = []\n",
    "for name, state in employee.items():\n",
    "    if state == 'enter':\n",
    "        result.append(name)\n",
    "        \n",
    "result.sort(reverse=True)\n",
    "print('\\n'.join(result))"
   ]
  },
  {
   "cell_type": "markdown",
   "metadata": {},
   "source": [
    "## 3986번: 좋은 단어"
   ]
  },
  {
   "cell_type": "code",
   "execution_count": 5,
   "metadata": {},
   "outputs": [
    {
     "name": "stdout",
     "output_type": "stream",
     "text": [
      "1\n",
      "ABBABB\n",
      "1\n"
     ]
    }
   ],
   "source": [
    "from collections import deque\n",
    "N = int(input())\n",
    "ans = 0\n",
    "for _ in range(N):\n",
    "    word = list(input().strip())\n",
    "    stack = deque()\n",
    "    for w in word:\n",
    "        if not stack or stack[-1] != w:\n",
    "            stack.append(w)\n",
    "        else: stack.pop()\n",
    "    if not stack: ans+=1\n",
    "print(ans)"
   ]
  },
  {
   "cell_type": "markdown",
   "metadata": {},
   "source": [
    "## 16161번: 가장 긴 증가하는 팰린드롬 부분수열"
   ]
  },
  {
   "cell_type": "code",
   "execution_count": 5,
   "metadata": {},
   "outputs": [
    {
     "name": "stdout",
     "output_type": "stream",
     "text": [
      "10\n",
      "1 3 1 5 7 7 5 7 7 5\n",
      "4\n"
     ]
    }
   ],
   "source": [
    "#https://peisea0830.tistory.com/121\n",
    "import sys\n",
    "#input = sys.stdin.readline\n",
    "N = int(input())\n",
    "S = list(map(int, input().split()))\n",
    "\n",
    "start, ans = 0, 0\n",
    "while start < N:\n",
    "    end = start\n",
    "    while end+1<N and S[end+1]==S[start] and end+1-start<2:\n",
    "        end += 1\n",
    "    \n",
    "    left, right = start-1, end+1\n",
    "    length = end-start+1\n",
    "    temp = S[start]\n",
    "    \n",
    "    while left>=0 and right<N:\n",
    "        if S[left]==S[right] and S[left]<temp:\n",
    "            temp = S[left]\n",
    "            left -= 1\n",
    "            right += 1\n",
    "            length += 2\n",
    "        else: break\n",
    "            \n",
    "    ans = max(ans, length)\n",
    "    start = right\n",
    "    \n",
    "print(ans)"
   ]
  },
  {
   "cell_type": "markdown",
   "metadata": {},
   "source": [
    "## 2161번: 카드1"
   ]
  },
  {
   "cell_type": "code",
   "execution_count": 16,
   "metadata": {},
   "outputs": [
    {
     "name": "stdout",
     "output_type": "stream",
     "text": [
      "7\n",
      "1 3 5 7 4 2 6\n"
     ]
    }
   ],
   "source": [
    "from collections import deque\n",
    "N = int(input())\n",
    "queue = deque(list(range(1, N+1)))\n",
    "result = []\n",
    "for i in range(N*2):\n",
    "    if i%2: queue.rotate(-1)\n",
    "    else: result.append(queue.popleft())\n",
    "print(*result)"
   ]
  }
 ],
 "metadata": {
  "kernelspec": {
   "display_name": "Python 3 (ipykernel)",
   "language": "python",
   "name": "python3"
  },
  "language_info": {
   "codemirror_mode": {
    "name": "ipython",
    "version": 3
   },
   "file_extension": ".py",
   "mimetype": "text/x-python",
   "name": "python",
   "nbconvert_exporter": "python",
   "pygments_lexer": "ipython3",
   "version": "3.9.12"
  },
  "toc": {
   "base_numbering": 1,
   "nav_menu": {},
   "number_sections": true,
   "sideBar": true,
   "skip_h1_title": false,
   "title_cell": "Table of Contents",
   "title_sidebar": "Contents",
   "toc_cell": false,
   "toc_position": {},
   "toc_section_display": true,
   "toc_window_display": false
  },
  "varInspector": {
   "cols": {
    "lenName": 16,
    "lenType": 16,
    "lenVar": 40
   },
   "kernels_config": {
    "python": {
     "delete_cmd_postfix": "",
     "delete_cmd_prefix": "del ",
     "library": "var_list.py",
     "varRefreshCmd": "print(var_dic_list())"
    },
    "r": {
     "delete_cmd_postfix": ") ",
     "delete_cmd_prefix": "rm(",
     "library": "var_list.r",
     "varRefreshCmd": "cat(var_dic_list()) "
    }
   },
   "types_to_exclude": [
    "module",
    "function",
    "builtin_function_or_method",
    "instance",
    "_Feature"
   ],
   "window_display": false
  }
 },
 "nbformat": 4,
 "nbformat_minor": 4
}
