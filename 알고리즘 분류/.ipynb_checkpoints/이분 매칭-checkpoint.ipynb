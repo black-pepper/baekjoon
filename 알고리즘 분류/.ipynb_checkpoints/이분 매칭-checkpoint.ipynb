{
 "cells": [
  {
   "cell_type": "markdown",
   "metadata": {},
   "source": [
    "## 2188번: 축사 배정"
   ]
  },
  {
   "cell_type": "code",
   "execution_count": 1,
   "metadata": {},
   "outputs": [
    {
     "name": "stdout",
     "output_type": "stream",
     "text": [
      "5 5\n",
      "2 2 5\n",
      "3 2 3 4\n",
      "2 1 5\n",
      "3 1 2 5\n",
      "1 2\n",
      "4\n"
     ]
    }
   ],
   "source": [
    "import sys\n",
    "#input = sys.stdin.readline\n",
    "#sys.setrecursionlimit(100000)\n",
    "\n",
    "def DFS(x):\n",
    "    for n in cow[x]:\n",
    "        if visited[n]: continue\n",
    "        visited[n] = 1\n",
    "        if not room[n] or DFS(room[n]):\n",
    "            room[n] = x\n",
    "            return True\n",
    "    return False\n",
    "\n",
    "N, M = map(int, input().split())\n",
    "cow = [[]]\n",
    "for i in range(N):\n",
    "    cmd = list(map(int, input().split()))\n",
    "    cow.append(cmd[1:])\n",
    "\n",
    "room = [0]*(M+1)\n",
    "for i in range(N+1):\n",
    "    visited = [0]*(M+1)\n",
    "    DFS(i)\n",
    "    \n",
    "cnt = 0\n",
    "for i in range(M+1):\n",
    "    if room[i]: cnt+=1\n",
    "print(cnt)"
   ]
  },
  {
   "cell_type": "markdown",
   "metadata": {},
   "source": [
    "## 11377번: 열혈강호 3"
   ]
  },
  {
   "cell_type": "code",
   "execution_count": 4,
   "metadata": {},
   "outputs": [
    {
     "name": "stdout",
     "output_type": "stream",
     "text": [
      "5 5 1\n",
      "3 1 2 3\n",
      "3 1 2 3\n",
      "1 5\n",
      "1 5\n",
      "1 5\n",
      "4\n"
     ]
    }
   ],
   "source": [
    "import sys\n",
    "#input = sys.stdin.readline\n",
    "#sys.setrecursionlimit(100000)\n",
    "\n",
    "def DFS(x):\n",
    "    for n in worker[x]:\n",
    "        if visited[n]: continue\n",
    "        visited[n] = 1\n",
    "        if not work[n] or DFS(work[n]):\n",
    "            work[n] = x\n",
    "            return True\n",
    "    return False\n",
    "\n",
    "N, M, K = map(int, input().split())\n",
    "worker = [[]]\n",
    "for _ in range(N):\n",
    "    cmd = list(map(int, input().split()))\n",
    "    worker.append(cmd[1:])\n",
    "    \n",
    "work = [0]*(M+1)\n",
    "for i in range(N+1):\n",
    "    visited = [0]*(M+1)\n",
    "    DFS(i)\n",
    "cnt = 0\n",
    "for i in range(N+1):\n",
    "    visited = [0]*(M+1)\n",
    "    if DFS(i): cnt += 1\n",
    "    if cnt == K: break\n",
    "    \n",
    "cnt = 0\n",
    "for i in range(M+1):\n",
    "    if work[i]: cnt+=1\n",
    "print(cnt)"
   ]
  },
  {
   "cell_type": "markdown",
   "metadata": {},
   "source": [
    "## 1298번: 노트북의 주인을 찾아서"
   ]
  },
  {
   "cell_type": "code",
   "execution_count": 16,
   "metadata": {},
   "outputs": [
    {
     "name": "stdout",
     "output_type": "stream",
     "text": [
      "5 5\n",
      "1 1\n",
      "2 2\n",
      "3 3\n",
      "4 4\n",
      "5 5\n",
      "5\n"
     ]
    }
   ],
   "source": [
    "import sys\n",
    "#input = sys.stdin.readline\n",
    "#sys.setrecursionlimit(100000)\n",
    "\n",
    "def DFS(x):\n",
    "    for n in student[x]:\n",
    "        if visited[n]: continue\n",
    "        visited[n] = 1\n",
    "        if not notebook[n] or DFS(notebook[n]):\n",
    "            notebook[n] = x\n",
    "            return True\n",
    "    return False\n",
    "\n",
    "N, M = map(int, input().split())\n",
    "student = [[] for _ in range(N+1)]\n",
    "for i in range(M):\n",
    "    a, b = map(int, input().split())\n",
    "    student[a].append(b)\n",
    "    \n",
    "notebook = [0]*(N+1)\n",
    "for i in range(N+1):\n",
    "    visited = [0]*(N+1)\n",
    "    DFS(i)\n",
    "    \n",
    "cnt = 0\n",
    "for i in range(N+1):\n",
    "    if notebook[i]: cnt += 1\n",
    "print(cnt)"
   ]
  },
  {
   "cell_type": "markdown",
   "metadata": {},
   "source": [
    "## 11378번: 열혈강호 4"
   ]
  },
  {
   "cell_type": "code",
   "execution_count": 31,
   "metadata": {},
   "outputs": [
    {
     "name": "stdout",
     "output_type": "stream",
     "text": [
      "5 5 1\n",
      "5 1 2 3 4 5\n",
      "1 1\n",
      "1 1\n",
      "1 1\n",
      "2 1 5\n",
      "4\n"
     ]
    }
   ],
   "source": [
    "import sys\n",
    "#input = sys.stdin.readline\n",
    "#sys.setrecursionlimit(100000)\n",
    "\n",
    "N, M, K = map(int, input().split())\n",
    "worker = [[]]\n",
    "for _ in range(N):\n",
    "    worker.append(list(map(int, input().split()))[1:])\n",
    "\n",
    "def DFS(x):\n",
    "    for n in worker[x]:\n",
    "        if visited[n]: continue\n",
    "        visited[n] = 1\n",
    "        if not work[n] or DFS(work[n]):\n",
    "            work[n] = x\n",
    "            return True\n",
    "    return False\n",
    "    \n",
    "work = [0] * (M+1)\n",
    "cnt = 0\n",
    "for i in range(1, N+1):\n",
    "    visited = [0]*(M+1)\n",
    "    cnt += DFS(i)\n",
    "for i in range(1, N+1):\n",
    "    while K:\n",
    "        visited = [0]*(M+1)\n",
    "        if DFS(i):\n",
    "            K -= 1\n",
    "            cnt += 1\n",
    "        else: break\n",
    "print(cnt)"
   ]
  },
  {
   "cell_type": "markdown",
   "metadata": {},
   "source": [
    "## 2414번: 게시판 구멍 막기"
   ]
  },
  {
   "cell_type": "code",
   "execution_count": 62,
   "metadata": {},
   "outputs": [
    {
     "name": "stdout",
     "output_type": "stream",
     "text": [
      "4 4\n",
      "*.*.\n",
      ".***\n",
      "***.\n",
      "..*.\n",
      "4\n"
     ]
    }
   ],
   "source": [
    "#https://www.crocus.co.kr/750\n",
    "import sys\n",
    "#sys.setrecursionlimit(100000)\n",
    "\n",
    "def DFS(x):\n",
    "    for n in graph[x]:\n",
    "        if visited[n]: continue\n",
    "        visited[n] = 1\n",
    "        if not match[n] or DFS(match[n]):\n",
    "            match[n] = x\n",
    "            return True\n",
    "    return False\n",
    "\n",
    "N, M = map(int, input().split())\n",
    "matrix = []\n",
    "for _ in range(N):\n",
    "    matrix.append(input())\n",
    "    \n",
    "#행기준 번호\n",
    "matrix_row = [[0]*M for _ in range(N)]\n",
    "cnt = 1\n",
    "for i in range(N):\n",
    "    for j in range(M):\n",
    "        if matrix[i][j] == '.' and j!=0 and matrix[i][j-1] == '*': cnt+= 1\n",
    "        if matrix[i][j] == '*': matrix_row[i][j] = cnt\n",
    "    if matrix[i][-1] == '*': cnt += 1\n",
    "graph = [[] for _ in range(cnt+1)] #행번호 크기의 그래프 생성\n",
    "        \n",
    "#열기준 번호\n",
    "matrix_col = [[0]*M for _ in range(N)]\n",
    "cnt = 1\n",
    "for j in range(M):\n",
    "    for i in range(N):\n",
    "        if matrix[i][j] == '.' and i!=0 and matrix[i-1][j] == '*': cnt+= 1\n",
    "        if matrix[i][j] == '*': matrix_col[i][j] = cnt\n",
    "    if matrix[-1][j] == '*': cnt += 1\n",
    "        \n",
    "for i in range(N):\n",
    "    for j in range(M):\n",
    "        if matrix[i][j] == '*':\n",
    "            graph[matrix_row[i][j]].append(matrix_col[i][j])\n",
    "            \n",
    "match = [0]*(cnt+1) #열번호 크기의 매칭배열 생성\n",
    "ans = 0\n",
    "for i in range(1, len(graph)):\n",
    "    visited = [0]*(cnt+1)\n",
    "    ans += DFS(i)\n",
    "    \n",
    "#ans = 0\n",
    "#for i in match:\n",
    "#    if i != 0: ans+=1\n",
    "print(ans)"
   ]
  }
 ],
 "metadata": {
  "kernelspec": {
   "display_name": "Python 3",
   "language": "python",
   "name": "python3"
  },
  "language_info": {
   "codemirror_mode": {
    "name": "ipython",
    "version": 3
   },
   "file_extension": ".py",
   "mimetype": "text/x-python",
   "name": "python",
   "nbconvert_exporter": "python",
   "pygments_lexer": "ipython3",
   "version": "3.8.3"
  },
  "toc": {
   "base_numbering": 1,
   "nav_menu": {},
   "number_sections": true,
   "sideBar": true,
   "skip_h1_title": false,
   "title_cell": "Table of Contents",
   "title_sidebar": "Contents",
   "toc_cell": false,
   "toc_position": {},
   "toc_section_display": true,
   "toc_window_display": false
  },
  "varInspector": {
   "cols": {
    "lenName": 16,
    "lenType": 16,
    "lenVar": 40
   },
   "kernels_config": {
    "python": {
     "delete_cmd_postfix": "",
     "delete_cmd_prefix": "del ",
     "library": "var_list.py",
     "varRefreshCmd": "print(var_dic_list())"
    },
    "r": {
     "delete_cmd_postfix": ") ",
     "delete_cmd_prefix": "rm(",
     "library": "var_list.r",
     "varRefreshCmd": "cat(var_dic_list()) "
    }
   },
   "types_to_exclude": [
    "module",
    "function",
    "builtin_function_or_method",
    "instance",
    "_Feature"
   ],
   "window_display": false
  }
 },
 "nbformat": 4,
 "nbformat_minor": 4
}
