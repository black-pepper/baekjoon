{
 "cells": [
  {
   "cell_type": "markdown",
   "metadata": {},
   "source": [
    "## 10868번: 최솟값"
   ]
  },
  {
   "cell_type": "code",
   "execution_count": 10,
   "metadata": {},
   "outputs": [
    {
     "name": "stdout",
     "output_type": "stream",
     "text": [
      "10 4\n",
      "75\n",
      "30\n",
      "100\n",
      "38\n",
      "50\n",
      "51\n",
      "52\n",
      "20\n",
      "81\n",
      "5\n",
      "1 10\n",
      "5\n",
      "3 5\n",
      "38\n",
      "6 9\n",
      "20\n",
      "8 10\n",
      "5\n"
     ]
    }
   ],
   "source": [
    "import sys\n",
    "#input = sys.stdin.readline\n",
    "#sys.setrecursionlimit(10**4)\n",
    "MAX = 1000000000\n",
    "\n",
    "def tree_init(start, end, node):\n",
    "    if start == end:\n",
    "        tree[node] = arr[start]\n",
    "    else:\n",
    "        mid = (start+end)//2\n",
    "        tree[node] = min(tree_init(start, mid, node*2), tree_init(mid+1, end, node*2+1))\n",
    "    return tree[node]\n",
    "\n",
    "def tree_find(start, end, node, left, right):\n",
    "    if left>end or right<start:\n",
    "        return MAX\n",
    "    if left<=start and end<=right:\n",
    "        return tree[node]\n",
    "    mid = (start+end)//2\n",
    "    return min(tree_find(start, mid, node*2, left, right), tree_find(mid+1, end, node*2+1, left, right))\n",
    "\n",
    "N, M = map(int, input().split())\n",
    "arr = []\n",
    "for i in range(N):\n",
    "    arr.append(int(input()))\n",
    "    \n",
    "tree = [0]*(4*N)\n",
    "tree_init(0, N-1, 1)\n",
    "for i in range(M):\n",
    "    a, b = map(int, input().split())\n",
    "    print(tree_find(0, N-1, 1, a-1, b-1))"
   ]
  }
 ],
 "metadata": {
  "kernelspec": {
   "display_name": "Python 3",
   "language": "python",
   "name": "python3"
  },
  "language_info": {
   "codemirror_mode": {
    "name": "ipython",
    "version": 3
   },
   "file_extension": ".py",
   "mimetype": "text/x-python",
   "name": "python",
   "nbconvert_exporter": "python",
   "pygments_lexer": "ipython3",
   "version": "3.8.3"
  },
  "toc": {
   "base_numbering": 1,
   "nav_menu": {},
   "number_sections": true,
   "sideBar": true,
   "skip_h1_title": false,
   "title_cell": "Table of Contents",
   "title_sidebar": "Contents",
   "toc_cell": false,
   "toc_position": {},
   "toc_section_display": true,
   "toc_window_display": false
  },
  "varInspector": {
   "cols": {
    "lenName": 16,
    "lenType": 16,
    "lenVar": 40
   },
   "kernels_config": {
    "python": {
     "delete_cmd_postfix": "",
     "delete_cmd_prefix": "del ",
     "library": "var_list.py",
     "varRefreshCmd": "print(var_dic_list())"
    },
    "r": {
     "delete_cmd_postfix": ") ",
     "delete_cmd_prefix": "rm(",
     "library": "var_list.r",
     "varRefreshCmd": "cat(var_dic_list()) "
    }
   },
   "types_to_exclude": [
    "module",
    "function",
    "builtin_function_or_method",
    "instance",
    "_Feature"
   ],
   "window_display": false
  }
 },
 "nbformat": 4,
 "nbformat_minor": 4
}
