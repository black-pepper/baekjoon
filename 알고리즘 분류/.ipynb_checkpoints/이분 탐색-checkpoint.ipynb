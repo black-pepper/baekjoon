{
 "cells": [
  {
   "cell_type": "markdown",
   "metadata": {},
   "source": [
    "## 2352번: 반도체 설계"
   ]
  },
  {
   "cell_type": "code",
   "execution_count": 1,
   "metadata": {
    "ExecuteTime": {
     "end_time": "2021-08-06T22:53:10.668021Z",
     "start_time": "2021-08-06T22:53:06.285835Z"
    }
   },
   "outputs": [
    {
     "name": "stdout",
     "output_type": "stream",
     "text": [
      "6\n",
      "4 2 6 3 1 5\n",
      "3\n"
     ]
    }
   ],
   "source": [
    "from bisect import bisect_left\n",
    "\n",
    "n = int(input())\n",
    "arr = list(map(int, input().split()))\n",
    "\n",
    "LIS = []\n",
    "LIS.append(0)\n",
    "\n",
    "for i in arr:\n",
    "    if LIS[-1] < i:\n",
    "        LIS.append(i)\n",
    "    else:\n",
    "        index = bisect_left(LIS, i)\n",
    "        if LIS[index-1] != i:\n",
    "            LIS[index] = i\n",
    "print(len(LIS)-1)"
   ]
  },
  {
   "cell_type": "markdown",
   "metadata": {},
   "source": [
    "## 2512번: 예산"
   ]
  },
  {
   "cell_type": "code",
   "execution_count": 7,
   "metadata": {},
   "outputs": [
    {
     "name": "stdout",
     "output_type": "stream",
     "text": [
      "4\n",
      "120 110 140 150\n",
      "485\n",
      "127\n"
     ]
    }
   ],
   "source": [
    "import sys\n",
    "#input = sys.stdin.readline\n",
    "\n",
    "N = int(input())\n",
    "arr = list(map(int, input().split()))\n",
    "M = int(input())\n",
    "\n",
    "left, right = 0, max(arr)\n",
    "while left <= right:\n",
    "    mid = (left+right)//2\n",
    "    temp = 0\n",
    "    for a in arr:\n",
    "        temp += min(mid, a)\n",
    "    if temp <= M:\n",
    "        left = mid+1\n",
    "    else:\n",
    "        right = mid-1\n",
    "print(right)"
   ]
  },
  {
   "cell_type": "markdown",
   "metadata": {},
   "source": [
    "## 12738번: 가장 긴 증가하는 부분 수열 3"
   ]
  },
  {
   "cell_type": "code",
   "execution_count": 7,
   "metadata": {},
   "outputs": [
    {
     "name": "stdout",
     "output_type": "stream",
     "text": [
      "6\n",
      "10 20 10 30 20 50\n",
      "4\n"
     ]
    }
   ],
   "source": [
    "from bisect import bisect_left\n",
    "N = int(input())\n",
    "A = list(map(int, input().split()))\n",
    "\n",
    "dp = [A[0]] #A에서 자신까지의 증가하는 수열 저장\n",
    "\n",
    "for a in A[1:]:\n",
    "    if dp[-1] < a: #dp의 최대값 보다 클 경우 추가\n",
    "        dp.append(a)\n",
    "    else: #dp의 최대값보다 작을 경우 dp에 해당하는 위치에 업데이트\n",
    "        index = bisect_left(dp, a) #위치 찾기\n",
    "        dp[index] = a\n",
    "        \n",
    "print(len(dp))"
   ]
  },
  {
   "cell_type": "markdown",
   "metadata": {},
   "source": [
    "## 1365번: 꼬인 전깃줄"
   ]
  },
  {
   "cell_type": "code",
   "execution_count": 3,
   "metadata": {},
   "outputs": [
    {
     "name": "stdout",
     "output_type": "stream",
     "text": [
      "4\n",
      "2 3 4 1\n",
      "1\n"
     ]
    }
   ],
   "source": [
    "from bisect import bisect_left\n",
    "N = int(input())\n",
    "arr = list(map(int, input().split()))\n",
    "\n",
    "dp = [arr[0]]\n",
    "\n",
    "for a in arr[1:]:\n",
    "    if dp[-1] < a:\n",
    "        dp.append(a)\n",
    "    else:\n",
    "        index = bisect_left(dp, a)\n",
    "        dp[index] = a\n",
    "        \n",
    "print(N-len(dp))"
   ]
  },
  {
   "cell_type": "markdown",
   "metadata": {},
   "source": [
    "## 2568번: 전깃줄 - 2"
   ]
  },
  {
   "cell_type": "code",
   "execution_count": 29,
   "metadata": {},
   "outputs": [
    {
     "name": "stdout",
     "output_type": "stream",
     "text": [
      "8\n",
      "1 8\n",
      "3 9\n",
      "2 2\n",
      "4 1\n",
      "6 4\n",
      "10 10\n",
      "9 7\n",
      "7 6\n",
      "3\n",
      "1\n",
      "2\n",
      "3\n"
     ]
    }
   ],
   "source": [
    "from bisect import bisect_left\n",
    "\n",
    "N = int(input())\n",
    "wire = []\n",
    "for i in range(N):\n",
    "    wire.append(list(map(int, input().split())))\n",
    "\n",
    "#O(NlogN) LIS\n",
    "wire.sort()\n",
    "record = [0]\n",
    "last = 0\n",
    "\n",
    "dp = [wire[0][1]]\n",
    "for i in range(1, N):\n",
    "    if dp[-1] < wire[i][1]:\n",
    "        dp.append(wire[i][1])\n",
    "        record.append(len(dp)-1)\n",
    "        last = i\n",
    "    else:\n",
    "        index = bisect_left(dp, wire[i][1])\n",
    "        dp[index] = wire[i][1]\n",
    "        record.append(index)\n",
    "        \n",
    "LIS = [False] * N #LIS인지 아닌지 저장\n",
    "step = len(dp)-1\n",
    "for i in range(last, -1, -1):\n",
    "    if record[i]==step:\n",
    "        LIS[i] = True\n",
    "        step -= 1\n",
    "    if step == -1: break\n",
    "        \n",
    "print(N-len(dp))\n",
    "for i in range(N):\n",
    "    if not LIS[i]: print(wire[i][0])"
   ]
  },
  {
   "cell_type": "markdown",
   "metadata": {},
   "source": [
    "## 3745번: 오름세"
   ]
  },
  {
   "cell_type": "code",
   "execution_count": 8,
   "metadata": {},
   "outputs": [
    {
     "name": "stdout",
     "output_type": "stream",
     "text": [
      "6\n",
      "5 2 1 4 5 3\n",
      "3\n",
      "3\n",
      "1 1 1\n",
      "1\n",
      "4\n",
      "4 3 2 1\n",
      "1\n",
      "\n"
     ]
    }
   ],
   "source": [
    "from bisect import bisect_left\n",
    "\n",
    "while True:\n",
    "    try:\n",
    "        N = int(input())\n",
    "        arr = list(map(int, input().split()))\n",
    "\n",
    "        dp = [arr[0]]\n",
    "        for i in range(1, N):\n",
    "            if dp[-1] < arr[i]:\n",
    "                dp.append(arr[i])\n",
    "            else:\n",
    "                index = bisect_left(dp, arr[i])\n",
    "                dp[index] = arr[i]\n",
    "        print(len(dp))\n",
    "        \n",
    "    except:\n",
    "        break"
   ]
  },
  {
   "cell_type": "markdown",
   "metadata": {},
   "source": [
    "## 1072번: 게임"
   ]
  },
  {
   "cell_type": "code",
   "execution_count": 21,
   "metadata": {},
   "outputs": [
    {
     "name": "stdout",
     "output_type": "stream",
     "text": [
      "100 80\n",
      "6\n"
     ]
    }
   ],
   "source": [
    "x, y = map(int, input().split())\n",
    "z = y*100//x\n",
    "\n",
    "left, right = 1, x\n",
    "while left <= right:\n",
    "    mid = (left+right)//2\n",
    "    if (y+mid)*100//(x+mid) > z:\n",
    "        right = mid-1\n",
    "    else:\n",
    "        left = mid+1\n",
    "        \n",
    "if z==(y+left)*100//(x+left):\n",
    "    print(-1)\n",
    "else:\n",
    "    print(left)"
   ]
  }
 ],
 "metadata": {
  "kernelspec": {
   "display_name": "Python 3",
   "language": "python",
   "name": "python3"
  },
  "language_info": {
   "codemirror_mode": {
    "name": "ipython",
    "version": 3
   },
   "file_extension": ".py",
   "mimetype": "text/x-python",
   "name": "python",
   "nbconvert_exporter": "python",
   "pygments_lexer": "ipython3",
   "version": "3.8.3"
  },
  "toc": {
   "base_numbering": 1,
   "nav_menu": {},
   "number_sections": true,
   "sideBar": true,
   "skip_h1_title": false,
   "title_cell": "Table of Contents",
   "title_sidebar": "Contents",
   "toc_cell": false,
   "toc_position": {},
   "toc_section_display": true,
   "toc_window_display": false
  },
  "varInspector": {
   "cols": {
    "lenName": 16,
    "lenType": 16,
    "lenVar": 40
   },
   "kernels_config": {
    "python": {
     "delete_cmd_postfix": "",
     "delete_cmd_prefix": "del ",
     "library": "var_list.py",
     "varRefreshCmd": "print(var_dic_list())"
    },
    "r": {
     "delete_cmd_postfix": ") ",
     "delete_cmd_prefix": "rm(",
     "library": "var_list.r",
     "varRefreshCmd": "cat(var_dic_list()) "
    }
   },
   "types_to_exclude": [
    "module",
    "function",
    "builtin_function_or_method",
    "instance",
    "_Feature"
   ],
   "window_display": false
  }
 },
 "nbformat": 4,
 "nbformat_minor": 4
}
