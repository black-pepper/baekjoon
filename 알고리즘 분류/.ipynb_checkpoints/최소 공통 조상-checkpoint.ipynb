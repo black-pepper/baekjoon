{
 "cells": [
  {
   "cell_type": "markdown",
   "metadata": {},
   "source": [
    "## 2233번: 사과나무"
   ]
  },
  {
   "cell_type": "code",
   "execution_count": 47,
   "metadata": {},
   "outputs": [
    {
     "name": "stdout",
     "output_type": "stream",
     "text": [
      "5\n",
      "0001011011\n",
      "4 5\n",
      "2 7\n"
     ]
    }
   ],
   "source": [
    "N = int(input())\n",
    "binary = list(map(int, input().strip()))\n",
    "X, Y = map(int, input().split())\n",
    "\n",
    "vertex = [-1] * len(binary) #binary에 해당하는 정점 i값\n",
    "apple = [] #apple[i] = 정점 i의 X, Y좌표\n",
    "before = [-1]*N #tree[i] = 정점 i의 부모 노드\n",
    "level = [0]*N #level[i] = 정점 i의 레벨\n",
    "stack = [-1] #정점 i 저장\n",
    "for i in range(len(binary)):\n",
    "    if binary[i] == 0:\n",
    "        apple.append([i])\n",
    "        stack.append(len(apple)-1)\n",
    "        vertex[i] = len(apple)-1\n",
    "    else:\n",
    "        s = stack.pop()\n",
    "        apple[s].append(i)\n",
    "        before[s] = stack[-1]\n",
    "        vertex[i] = s\n",
    "        level[s] = len(stack)\n",
    "        \n",
    "#썩은 사과\n",
    "a, b = vertex[X-1], vertex[Y-1]\n",
    "\n",
    "#같은 레벨로 올리기\n",
    "if level[a] > level[b]:\n",
    "    a, b = b, a\n",
    "while level[a]!=level[b]:\n",
    "    b = before[b]\n",
    "    \n",
    "#최소 공통 조상 찾기\n",
    "while a!=b:\n",
    "    a = before[a]\n",
    "    b = before[b]\n",
    "print(apple[a][0]+1, apple[a][1]+1)"
   ]
  }
 ],
 "metadata": {
  "kernelspec": {
   "display_name": "Python 3",
   "language": "python",
   "name": "python3"
  },
  "language_info": {
   "codemirror_mode": {
    "name": "ipython",
    "version": 3
   },
   "file_extension": ".py",
   "mimetype": "text/x-python",
   "name": "python",
   "nbconvert_exporter": "python",
   "pygments_lexer": "ipython3",
   "version": "3.8.3"
  },
  "toc": {
   "base_numbering": 1,
   "nav_menu": {},
   "number_sections": true,
   "sideBar": true,
   "skip_h1_title": false,
   "title_cell": "Table of Contents",
   "title_sidebar": "Contents",
   "toc_cell": false,
   "toc_position": {},
   "toc_section_display": true,
   "toc_window_display": false
  },
  "varInspector": {
   "cols": {
    "lenName": 16,
    "lenType": 16,
    "lenVar": 40
   },
   "kernels_config": {
    "python": {
     "delete_cmd_postfix": "",
     "delete_cmd_prefix": "del ",
     "library": "var_list.py",
     "varRefreshCmd": "print(var_dic_list())"
    },
    "r": {
     "delete_cmd_postfix": ") ",
     "delete_cmd_prefix": "rm(",
     "library": "var_list.r",
     "varRefreshCmd": "cat(var_dic_list()) "
    }
   },
   "types_to_exclude": [
    "module",
    "function",
    "builtin_function_or_method",
    "instance",
    "_Feature"
   ],
   "window_display": false
  }
 },
 "nbformat": 4,
 "nbformat_minor": 4
}
