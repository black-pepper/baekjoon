{
 "cells": [
  {
   "cell_type": "markdown",
   "metadata": {},
   "source": [
    "## 14503번: 로봇 청소기"
   ]
  },
  {
   "cell_type": "code",
   "execution_count": 1,
   "metadata": {
    "scrolled": true
   },
   "outputs": [
    {
     "name": "stdout",
     "output_type": "stream",
     "text": [
      "11 10\n",
      "7 4 0\n",
      "1 1 1 1 1 1 1 1 1 1\n",
      "1 0 0 0 0 0 0 0 0 1\n",
      "1 0 0 0 1 1 1 1 0 1\n",
      "1 0 0 1 1 0 0 0 0 1\n",
      "1 0 1 1 0 0 0 0 0 1\n",
      "1 0 0 0 0 0 0 0 0 1\n",
      "1 0 0 0 0 0 0 1 0 1\n",
      "1 0 0 0 0 0 1 1 0 1\n",
      "1 0 0 0 0 0 1 1 0 1\n",
      "1 0 0 0 0 0 0 0 0 1\n",
      "1 1 1 1 1 1 1 1 1 1\n",
      "57\n"
     ]
    }
   ],
   "source": [
    "import sys\n",
    "#input = sys.stdin.readline\n",
    "\n",
    "N, M = map(int, input().split())\n",
    "r, c, d = map(int, input().split())\n",
    "matrix = []\n",
    "for i in range(N):\n",
    "    matrix.append(list(map(int, input().split())))\n",
    "\n",
    "dr = [-1, 0, 1, 0] #북, 동, 남, 서\n",
    "dc = [0, 1, 0, -1]\n",
    "cnt = 0\n",
    "\n",
    "def cleaning(r, c, d):\n",
    "    global cnt\n",
    "    if matrix[r][c] == 0:\n",
    "        cnt += 1\n",
    "        matrix[r][c] = 2\n",
    "    for i in range(4):\n",
    "        nd = (d+3)%4\n",
    "        nr = r+dr[nd]\n",
    "        nc = c+dc[nd]\n",
    "        if matrix[nr][nc] == 0:\n",
    "            cleaning(nr, nc, nd)\n",
    "            return\n",
    "        d = nd\n",
    "    nd = (d+2)%4\n",
    "    nr = r + dr[nd]\n",
    "    nc = c + dc[nd]\n",
    "    if matrix[nr][nc] == 1:\n",
    "        return\n",
    "    cleaning(nr, nc, d)\n",
    "        \n",
    "cleaning(r, c, d)\n",
    "print(cnt)"
   ]
  },
  {
   "cell_type": "code",
   "execution_count": 47,
   "metadata": {},
   "outputs": [
    {
     "name": "stdout",
     "output_type": "stream",
     "text": [
      "1 , 1 , 1 , 1 , 1 , 1 , 1 , 1 , 1 , 1 , \n",
      "1 , 56, 57, 46, 45, 44, 43, 42, 41, 1 , \n",
      "1 , 55, 48, 47, 1 , 1 , 1 , 1 , 40, 1 , \n",
      "1 , 50, 49, 1 , 1 , 36, 37, 38, 39, 1 , \n",
      "1 , 51, 1 , 1 , 35, 34, 31, 30, 0 , 1 , \n",
      "1 , 52, 53, 12, 11, 33, 32, 29, 28, 1 , \n",
      "1 , 54, 14, 13, 10, 9 , 0 , 1 , 27, 1 , \n",
      "1 , 16, 15, 2 , 1 , 8 , 1 , 1 , 26, 1 , \n",
      "1 , 17, 18, 3 , 4 , 7 , 1 , 1 , 25, 1 , \n",
      "1 , 21, 19, 20, 5 , 6 , 22, 23, 24, 1 , \n",
      "1 , 1 , 1 , 1 , 1 , 1 , 1 , 1 , 1 , 1 , \n"
     ]
    }
   ],
   "source": [
    "for i in range(N):\n",
    "    for j in range(M):\n",
    "        if matrix[i][j]<10:\n",
    "            print(str(matrix[i][j])+' ', end=', ')\n",
    "        else:\n",
    "            print(matrix[i][j], end=', ')\n",
    "    print()"
   ]
  },
  {
   "cell_type": "markdown",
   "metadata": {},
   "source": [
    "## 1476번: 날짜 계산 "
   ]
  },
  {
   "cell_type": "code",
   "execution_count": 7,
   "metadata": {},
   "outputs": [
    {
     "name": "stdout",
     "output_type": "stream",
     "text": [
      "15 28 19\n",
      "7980\n"
     ]
    }
   ],
   "source": [
    "E, S, M = map(int, input().split())\n",
    "e, s, m, y = 0, 0, 0, 0\n",
    "while True:\n",
    "    e = max((e+1)%16, 1)\n",
    "    s = max((s+1)%29, 1)\n",
    "    m = max((m+1)%20, 1)\n",
    "    y += 1\n",
    "    if e == E and s == S and m == M:\n",
    "        break\n",
    "print(y)"
   ]
  },
  {
   "cell_type": "code",
   "execution_count": 19,
   "metadata": {},
   "outputs": [
    {
     "name": "stdout",
     "output_type": "stream",
     "text": [
      "1 16 16\n",
      "16\n"
     ]
    }
   ],
   "source": [
    "import sys\n",
    "E, S, M = map(int, input().split())\n",
    "for y in range(1, sys.maxsize):\n",
    "    if (y-E)%15==0 and (y-S)%28==0 and (y-M)%19==0:\n",
    "        print(y)\n",
    "        break"
   ]
  },
  {
   "cell_type": "markdown",
   "metadata": {},
   "source": [
    "## 15686번: 치킨 배달"
   ]
  },
  {
   "cell_type": "code",
   "execution_count": 17,
   "metadata": {},
   "outputs": [
    {
     "name": "stdout",
     "output_type": "stream",
     "text": [
      "5 1\n",
      "1 2 0 2 1\n",
      "1 2 0 2 1\n",
      "1 2 0 2 1\n",
      "1 2 0 2 1\n",
      "1 2 0 2 1\n",
      "32\n"
     ]
    }
   ],
   "source": [
    "import sys\n",
    "#input = sys.stdin.readline\n",
    "from itertools import combinations\n",
    "\n",
    "N, M = list(map(int, input().split()))\n",
    "matrix = []\n",
    "for i in range(N):\n",
    "    matrix.append(list(map(int, input().split())))\n",
    "\n",
    "chicken = []\n",
    "house = []\n",
    "for i in range(N):\n",
    "    for j in range(N):\n",
    "        if matrix[i][j] == 1:\n",
    "            house.append((i, j))\n",
    "        elif matrix[i][j] == 2:\n",
    "            chicken.append((i, j))\n",
    "\n",
    "dp = [[0]*len(chicken) for i in range(len(house))]\n",
    "for i in range(len(house)):\n",
    "    for j in range(len(chicken)):\n",
    "        dp[i][j] = abs(chicken[j][0]-house[i][0])\n",
    "        dp[i][j] += abs(chicken[j][1]-house[i][1])\n",
    "\n",
    "MAX = sys.maxsize\n",
    "def average(exc):\n",
    "    result = 0\n",
    "    for i in range(len(house)):\n",
    "        temp = MAX\n",
    "        for j in range(len(chicken)):\n",
    "            if j in exc:\n",
    "                continue\n",
    "            temp = min(temp, dp[i][j])\n",
    "        result += temp\n",
    "    return result\n",
    "\n",
    "result = MAX\n",
    "for c in combinations(list(range(len(chicken))), len(chicken)-M):\n",
    "    result = min(average(c), result)\n",
    "print(result)"
   ]
  },
  {
   "cell_type": "markdown",
   "metadata": {},
   "source": [
    "## 14500번: 테트로미노"
   ]
  },
  {
   "cell_type": "code",
   "execution_count": 76,
   "metadata": {},
   "outputs": [
    {
     "name": "stdout",
     "output_type": "stream",
     "text": [
      "5 5\n",
      "1 2 3 4 5\n",
      "5 4 3 2 1\n",
      "2 3 4 5 6\n",
      "6 5 4 3 2\n",
      "1 2 1 2 1\n",
      "19\n"
     ]
    }
   ],
   "source": [
    "import sys\n",
    "#input = sys.stdin.readline\n",
    "\n",
    "N, M = map(int, input().split())\n",
    "matrix = []\n",
    "for i in range(N):\n",
    "    matrix.append(list(map(int, input().split())))\n",
    "\n",
    "di = [-1, 1, 0, 0]\n",
    "dj = [0, 0, -1, 1]\n",
    "visited = [[0]*M for _ in range(N)]\n",
    "result = 0\n",
    "def DFS(num, cnt, i, j):\n",
    "    visited[i][j] = 1\n",
    "    if cnt==4:\n",
    "        global result\n",
    "        result = max(result, num+matrix[i][j])\n",
    "        visited[i][j] = 0\n",
    "        return\n",
    "    for d in range(4):\n",
    "        if 0<=i+di[d]<N and 0<=j+dj[d]<M:\n",
    "            if visited[i+di[d]][j+dj[d]] == 0:\n",
    "                DFS(num+matrix[i][j], cnt+1, i+di[d], j+dj[d])\n",
    "    visited[i][j] = 0\n",
    "        \n",
    "def shape(i, j):\n",
    "    global result\n",
    "    num = matrix[i][j]\n",
    "    cnt = 1\n",
    "    for d in range(4):\n",
    "        if 0<=i+di[d]<N and 0<=j+dj[d]<M:\n",
    "            cnt += 1\n",
    "            num += matrix[i+di[d]][j+dj[d]]\n",
    "    if cnt < 5:\n",
    "        result = max(result, num)\n",
    "        return\n",
    "    for d in range(4):\n",
    "        result = max(result, num-matrix[i+di[d]][j+dj[d]])\n",
    "        \n",
    "for i in range(N):\n",
    "    for j in range(M):\n",
    "        DFS(0, 1, i, j)\n",
    "        shape(i, j)\n",
    "        \n",
    "print(result)"
   ]
  },
  {
   "cell_type": "markdown",
   "metadata": {},
   "source": [
    "## 14499번: 주사위 굴리기"
   ]
  },
  {
   "cell_type": "code",
   "execution_count": 70,
   "metadata": {},
   "outputs": [
    {
     "name": "stdout",
     "output_type": "stream",
     "text": [
      "4 2 0 0 8\n",
      "0 2\n",
      "3 4\n",
      "5 6\n",
      "7 8\n",
      "4 4 4 1 3 3 3 2\n",
      "0\n",
      "0\n",
      "3\n",
      "0\n",
      "0\n",
      "8\n",
      "6\n",
      "3\n"
     ]
    }
   ],
   "source": [
    "import sys\n",
    "#input = sys.stdin.readline\n",
    "\n",
    "dice_x = [0, 0, 0, 0]\n",
    "dice_y = [0, 0, 0, 0]\n",
    "\n",
    "dx = [0, 0, 0, -1, 1] #동,서,북,남\n",
    "dy = [0, 1, -1, 0, 0]\n",
    "\n",
    "def roll(d):\n",
    "    global x, y, dice_x, dice_y\n",
    "    if not 0<=x+dx[d]<N or not 0<=y+dy[d]<M:\n",
    "        return #명령 무시\n",
    "    \n",
    "    #주사위 굴리기\n",
    "    x = x+dx[d]\n",
    "    y = y+dy[d]\n",
    "    if d==1: #동\n",
    "        dice_y = dice_y[-1:]+dice_y[:3]\n",
    "        dice_x[0], dice_x[2] = dice_y[0], dice_y[2]\n",
    "    elif d==2: #서\n",
    "        dice_y = dice_y[1:]+dice_y[:1]\n",
    "        dice_x[0], dice_x[2] = dice_y[0], dice_y[2]\n",
    "    elif d==3: #북\n",
    "        dice_x = dice_x[1:]+dice_x[:1]\n",
    "        dice_y[0], dice_y[2] = dice_x[0], dice_x[2]\n",
    "    else: #남\n",
    "        dice_x = dice_x[-1:]+dice_x[:3]\n",
    "        dice_y[0], dice_y[2] = dice_x[0], dice_x[2]\n",
    "        \n",
    "    #숫자 복사\n",
    "    if matrix[x][y] == 0:\n",
    "        matrix[x][y] = dice_x[2]\n",
    "    else:\n",
    "        dice_x[2] = dice_y[2] = matrix[x][y]\n",
    "        matrix[x][y] = 0\n",
    "    print(dice_x[0])\n",
    "        \n",
    "N, M, x, y, K = map(int, input().split())\n",
    "matrix = []\n",
    "for i in range(N):\n",
    "    matrix.append(list(map(int, input().split())))\n",
    "cmd = list(map(int, input().split()))\n",
    "        \n",
    "for c in cmd:\n",
    "    roll(c)"
   ]
  },
  {
   "cell_type": "markdown",
   "metadata": {},
   "source": [
    "## 1475번: 방 번호"
   ]
  },
  {
   "cell_type": "code",
   "execution_count": 2,
   "metadata": {},
   "outputs": [
    {
     "name": "stdout",
     "output_type": "stream",
     "text": [
      "9999\n",
      "2\n"
     ]
    }
   ],
   "source": [
    "num = [0] * 10\n",
    "n = list(map(int, input().strip()))\n",
    "for i in n:\n",
    "    num[i] += 1\n",
    "num[6] = num[9] = round((num[6]+num[9]+0.1)/2)\n",
    "\n",
    "print(max(num))"
   ]
  },
  {
   "cell_type": "markdown",
   "metadata": {},
   "source": [
    "## 12100번: 2048 (Easy) (미완성)"
   ]
  },
  {
   "cell_type": "code",
   "execution_count": 49,
   "metadata": {},
   "outputs": [
    {
     "name": "stdout",
     "output_type": "stream",
     "text": [
      "3\n",
      "0 64 8\n",
      "128 0 32\n",
      "32 0 0\n",
      "256\n"
     ]
    }
   ],
   "source": [
    "import sys\n",
    "#input = sys.stdin.readline\n",
    "from copy import deepcopy\n",
    "\n",
    "ni = [-1, 1, 0, 0] #상 하 좌 우\n",
    "nj = [0, 0, -1, 1]\n",
    "\n",
    "def move_block(board, check, i, j, d):\n",
    "    global result\n",
    "    #보드 크기를 벗어날 때\n",
    "    if not 0<=i+ni[d]<N or not 0<=j+nj[d]<N:\n",
    "        return False\n",
    "    #다른 블록이 있을 때\n",
    "    if board[i+ni[d]][j+nj[d]] != 0:\n",
    "        #다른 종류의 블록일 경우\n",
    "        if board[i+ni[d]][j+nj[d]]!=board[i][j]:\n",
    "            return False\n",
    "        #같은 종류의 블록이지만 이미 합쳐진 블록일 때\n",
    "        elif check[i+ni[d]][j+nj[d]] or check[i][j]:\n",
    "            return False\n",
    "        else: #합칠 수 있는 블록일 때\n",
    "            check[i][j] = 1\n",
    "    board[i+ni[d]][j+nj[d]] += board[i][j]\n",
    "    check[i+ni[d]][j+nj[d]] = check[i][j]\n",
    "    board[i][j] = 0\n",
    "    check[i][j] = 0\n",
    "    i += ni[d]\n",
    "    j += nj[d]\n",
    "    result = max(result, board[i][j])\n",
    "    return True\n",
    "\n",
    "def move_up(board):\n",
    "    flag = 1\n",
    "    check = [[0]*N for i in range(N)]\n",
    "    while flag:\n",
    "        flag = 0\n",
    "        for i in range(N):\n",
    "            for j in range(N):\n",
    "                if board[i][j] != 0:\n",
    "                    flag = move_block(board, check, i, j, 0)\n",
    "    return board\n",
    "                \n",
    "def move_down(board):\n",
    "    flag = 1\n",
    "    check = [[0]*N for i in range(N)]\n",
    "    while flag:\n",
    "        flag = 0\n",
    "        for i in range(N-1, -1, -1):\n",
    "            for j in range(N-1, -1, -1):\n",
    "                if board[i][j] != 0:\n",
    "                    flag = move_block(board, check, i, j, 1)\n",
    "    return board\n",
    "                    \n",
    "def move_left(board):\n",
    "    flag = 1\n",
    "    check = [[0]*N for i in range(N)]\n",
    "    while flag:\n",
    "        flag = 0\n",
    "        for j in range(N):\n",
    "            for i in range(N):\n",
    "                if board[i][j] != 0:\n",
    "                    flag = move_block(board, check, i, j, 2)\n",
    "    return board\n",
    "                    \n",
    "def move_right(board):\n",
    "    flag = 1\n",
    "    check = [[0]*N for i in range(N)]\n",
    "    while flag:\n",
    "        flag = 0\n",
    "        for j in range(N-1, -1, -1):\n",
    "            for i in range(N-1, -1, -1):\n",
    "                if board[i][j] != 0:\n",
    "                    flag = move_block(board, check, i, j, 3)\n",
    "    return board\n",
    "\n",
    "N = int(input())\n",
    "board = []\n",
    "result = 0\n",
    "for i in range(N):\n",
    "    board.append(list(map(int, input().split())))\n",
    "    result = max(result, max(board[i]))\n",
    "\n",
    "def move(board, cnt):\n",
    "    if cnt>=5:\n",
    "        return\n",
    "    move(move_up(deepcopy(board)), cnt+1)\n",
    "    move(move_down(deepcopy(board)), cnt+1)\n",
    "    move(move_left(deepcopy(board)), cnt+1)\n",
    "    move(move_right(deepcopy(board)), cnt+1)\n",
    "    \n",
    "move(board, 0)\n",
    "print(result)"
   ]
  },
  {
   "cell_type": "markdown",
   "metadata": {},
   "source": [
    "## 14891번: 톱니바퀴"
   ]
  },
  {
   "cell_type": "code",
   "execution_count": 37,
   "metadata": {
    "ExecuteTime": {
     "end_time": "2021-09-20T04:23:27.405895Z",
     "start_time": "2021-09-20T04:23:04.720076Z"
    }
   },
   "outputs": [
    {
     "name": "stdout",
     "output_type": "stream",
     "text": [
      "10101111\n",
      "01111101\n",
      "11001110\n",
      "00000010\n",
      "2\n",
      "3 -1\n",
      "1 1\n",
      "7\n"
     ]
    }
   ],
   "source": [
    "import sys\n",
    "#input = sys.stdin.readline\n",
    "\n",
    "def turn_gear(num, d, before):\n",
    "    if 0 < num and before != num-1: #왼쪽 톱니바퀴 확인\n",
    "        if gears[num][6] != gears[num-1][2]:\n",
    "            turn_gear(num-1, -d, num)\n",
    "    if 3 > num and before != num+1: #오른쪽 톱니바퀴 확인\n",
    "        if gears[num][2] != gears[num+1][6]:\n",
    "            turn_gear(num+1, -d, num)\n",
    "    if d == 1:\n",
    "        gears[num].insert(0, gears[num].pop(7))\n",
    "    else:\n",
    "        gears[num].append(gears[num].pop(0))\n",
    "\n",
    "gears = []\n",
    "for i in range(4):\n",
    "    gears.append(list(map(int, input().strip())))\n",
    "K = int(input())\n",
    "\n",
    "for _ in range(K):\n",
    "    num, d = map(int, input().split())\n",
    "    turn_gear(num-1, d, -1)\n",
    "    \n",
    "result = 0\n",
    "for i in range(4):\n",
    "    if gears[i][0] == 1:\n",
    "        result += 2**i\n",
    "print(result)"
   ]
  },
  {
   "cell_type": "markdown",
   "metadata": {},
   "source": [
    "## 14890번: 경사로"
   ]
  },
  {
   "cell_type": "code",
   "execution_count": 42,
   "metadata": {},
   "outputs": [
    {
     "name": "stdout",
     "output_type": "stream",
     "text": [
      "6 2\n",
      "3 3 3 3 3 3\n",
      "2 3 3 3 3 3\n",
      "2 2 2 3 2 3\n",
      "1 1 1 2 2 2\n",
      "1 1 1 3 3 1\n",
      "1 1 2 3 3 2\n",
      "3\n"
     ]
    }
   ],
   "source": [
    "import sys\n",
    "#input = sys.stdin.readline\n",
    "\n",
    "N, L = map(int, input().split())\n",
    "matrix  = []\n",
    "for i in range(N):\n",
    "    matrix.append(list(map(int, input().split())))\n",
    "\n",
    "def down(arr, runway, i):#내려가는 경사가 가능한지 확인\n",
    "    for j in range(L):\n",
    "        if i+j >= N or arr[i+j]!=arr[i-1]-1 or runway[i+j]:\n",
    "            return 0\n",
    "        runway[i+j] = 1 #경사설치\n",
    "    return i+L\n",
    "\n",
    "def up(arr, runway, i):#올라가는 경사가 가능한지 확인\n",
    "    for j in range(1, L+1):\n",
    "        if i-j < 0 or arr[i-j]!=arr[i]-1 or runway[i-j]:\n",
    "            return 0\n",
    "        runway[i-j] = 1 #경사설치\n",
    "    return i+1\n",
    "\n",
    "def check(arr):\n",
    "    i = 1\n",
    "    runway = [0] * N #경사로\n",
    "    while i<N and 0<i:\n",
    "        if arr[i-1] == arr[i]:#같을때\n",
    "            i += 1\n",
    "        elif arr[i-1]+1 == arr[i]: #한층 높을때\n",
    "            i = up(arr, runway, i)\n",
    "        elif arr[i-1]-1 == arr[i]: #한층 낮을때\n",
    "            i = down(arr, runway, i)\n",
    "        else:\n",
    "            return 0\n",
    "    return min(i, 1)\n",
    "\n",
    "cnt = 0\n",
    "for i in range(N):\n",
    "    cnt += check([matrix[i][j] for j in range(N)])\n",
    "for i in range(N):\n",
    "    cnt += check([matrix[j][i] for j in range(N)])\n",
    "print(cnt)"
   ]
  },
  {
   "cell_type": "markdown",
   "metadata": {},
   "source": [
    "## 2636번: 치즈"
   ]
  },
  {
   "cell_type": "code",
   "execution_count": 7,
   "metadata": {},
   "outputs": [
    {
     "name": "stdout",
     "output_type": "stream",
     "text": [
      "3\n",
      "5\n"
     ]
    }
   ],
   "source": [
    "from collections import deque\n",
    "R, C = map(int, input().split())\n",
    "graph = []\n",
    "cnt = 0 #남은 치즈\n",
    "time = 0 #총 시간\n",
    "for r in range(R):\n",
    "    graph.append(list(map(int, input().split())))\n",
    "    cnt += sum(graph[r])\n",
    "\n",
    "ni = [-1, 1, 0, 0]\n",
    "nj = [0, 0, -1, 1]\n",
    "def BFS():\n",
    "    global cnt\n",
    "    visited = [[0]*C for _ in range(R)]\n",
    "    queue = deque()\n",
    "    queue.append((0, 0))\n",
    "    while queue:\n",
    "        i, j = queue.popleft()\n",
    "        if graph[i][j] == 1:\n",
    "            graph[i][j] = 0\n",
    "            cnt -= 1\n",
    "            continue\n",
    "        for n in range(4):\n",
    "            if 0<=i+ni[n]<R and 0<=j+nj[n]<C:\n",
    "                if not visited[i+ni[n]][j+nj[n]]:\n",
    "                    visited[i+ni[n]][j+nj[n]] = 1\n",
    "                    queue.append((i+ni[n],j+nj[n]))\n",
    "    \n",
    "temp = cnt #이전 치즈 저장\n",
    "while cnt: #치즈가 없어질때까지\n",
    "    temp = cnt\n",
    "    BFS()\n",
    "    time += 1\n",
    "print(time)\n",
    "print(temp) "
   ]
  },
  {
   "cell_type": "markdown",
   "metadata": {},
   "source": [
    "## 11559번: Puyo Puyo"
   ]
  },
  {
   "cell_type": "code",
   "execution_count": 13,
   "metadata": {},
   "outputs": [
    {
     "name": "stdout",
     "output_type": "stream",
     "text": [
      "......\n",
      "......\n",
      "......\n",
      "......\n",
      "......\n",
      "......\n",
      "......\n",
      "......\n",
      ".Y....\n",
      ".YG...\n",
      "RRYG..\n",
      "RRYGG.\n",
      "3\n"
     ]
    }
   ],
   "source": [
    "from collections import deque\n",
    "ni = [-1, 1, 0, 0]\n",
    "nj = [0, 0, -1, 1]\n",
    "\n",
    "def BFS(i, j, s): #뿌요가 4개 이상이면 터트리기\n",
    "    visited[i][j] = 1\n",
    "    queue = deque() #방문할 뿌요 저장\n",
    "    queue.append((i, j))\n",
    "    temp = [] #방문한 뿌요 저장\n",
    "    while queue:\n",
    "        i, j = queue.popleft()\n",
    "        temp.append((i, j))\n",
    "        for n in range(4):\n",
    "            if (0<=i+ni[n]<12 and 0<=j+nj[n]<6 \n",
    "                and graph[i+ni[n]][j+nj[n]] == s\n",
    "                and visited[i+ni[n]][j+nj[n]]!= 1):\n",
    "                queue.append((i+ni[n], j+nj[n]))\n",
    "                visited[i+ni[n]][j+nj[n]] = 1\n",
    "    if len(temp) >= 4: #같은 뿌요 수가 4개 이상이면 없애기\n",
    "        for i, j in temp:\n",
    "            graph[i][j] = '.'\n",
    "        return 1\n",
    "    else:\n",
    "        return 0\n",
    "        \n",
    "def drop(i, j): #뿌요 떨어뜨리기\n",
    "    floor = 11\n",
    "    for f in range(i+1, 12):\n",
    "        if graph[f][j] != '.':\n",
    "            floor = f-1\n",
    "            break\n",
    "    graph[floor][j] = graph[i][j]\n",
    "    graph[i][j] = '.'\n",
    "    \n",
    "graph = [] #뿌요 입력받기\n",
    "for i in range(12):\n",
    "    graph.append(list(map(str, input().strip())))\n",
    "\n",
    "result = 0\n",
    "while True:\n",
    "    \n",
    "    #for g in graph: print(*g)\n",
    "    #print()\n",
    "    \n",
    "    #없어질 뿌요 탐색\n",
    "    flag = 0 #터진 뿌요가 있는지 확인\n",
    "    visited = [[0]*6 for _ in range(12)]\n",
    "    for i in range(12): \n",
    "        for j in range(6):\n",
    "            if graph[i][j] != '.':\n",
    "                cnt = 0 #연결된 같은 뿌요 수\n",
    "                flag = max(flag, BFS(i, j, graph[i][j]))\n",
    "    if not flag: #터진 뿌요가 없다면 종료\n",
    "        break\n",
    "    result += 1\n",
    "    \n",
    "    #아래에서부터 탐색하며 뿌요 떨어뜨리기\n",
    "    for i in range(10, -1, -1):\n",
    "        for j in range(6):\n",
    "            if graph[i][j] != '.' and graph[i+1][j] == '.':\n",
    "                drop(i, j)\n",
    "                \n",
    "print(result)"
   ]
  },
  {
   "cell_type": "markdown",
   "metadata": {},
   "source": [
    "## 2573번: 빙산"
   ]
  },
  {
   "cell_type": "code",
   "execution_count": 14,
   "metadata": {},
   "outputs": [
    {
     "name": "stdout",
     "output_type": "stream",
     "text": [
      "5 7\n",
      "0 0 0 0 0 0 0\n",
      "0 2 4 5 3 0 0\n",
      "0 3 0 2 5 2 0\n",
      "0 7 6 2 4 0 0\n",
      "0 0 0 0 0 0 0\n",
      "2\n"
     ]
    }
   ],
   "source": [
    "import sys\n",
    "from collections import deque\n",
    "#input = sys.stdin.readline\n",
    "N, M = map(int, input().split())\n",
    "\n",
    "matrix = []\n",
    "for i in range(N):\n",
    "    matrix.append(list(map(int, input().split())))\n",
    "\n",
    "ni = [-1, 1, 0, 0]\n",
    "nj = [0, 0, -1, 1]\n",
    "def melt(i, j):\n",
    "    iceberg = deque() #빙산\n",
    "    queue = deque() #BFS\n",
    "    queue.append((i, j))\n",
    "    visited[i][j] = 1\n",
    "    while queue:\n",
    "        i, j = queue.popleft()\n",
    "        cnt = 0 #인접 바다 수\n",
    "        #바닷물이 접한 부분 찾아서 저장\n",
    "        for n in range(4):\n",
    "            if 0<=i+ni[n]<N and 0<=j+nj[n]<M and matrix[ni[n]+i][nj[n]+j]==0:\n",
    "                cnt+=1\n",
    "        iceberg.append((i,j,cnt))\n",
    "        #다음 지역 탐색\n",
    "        for n in range(4):\n",
    "            if 0<=i+ni[n]<N and 0<=j+nj[n]<M and matrix[ni[n]+i][nj[n]+j]:\n",
    "                if not visited[ni[n]+i][nj[n]+j]:\n",
    "                    queue.append((ni[n]+i, nj[n]+j))\n",
    "                    visited[ni[n]+i][nj[n]+j] = 1\n",
    "    while iceberg: #빙산 녹이기\n",
    "        i, j, c = iceberg.popleft()\n",
    "        matrix[i][j] = max(matrix[i][j]-c, 0)\n",
    "    \n",
    "time = 0\n",
    "end = 0\n",
    "while True:\n",
    "    time += 1\n",
    "    flag = 0\n",
    "    visited = [[0]*M for i in range(N)]\n",
    "    for i in range(N):\n",
    "        for j in range(M):\n",
    "            if matrix[i][j] and not visited[i][j]:\n",
    "                if flag:\n",
    "                    end = time-1\n",
    "                melt(i, j)\n",
    "                flag = 1\n",
    "        if end: break\n",
    "    if end: break\n",
    "        \n",
    "    #남은 빙하가 있는지 확인\n",
    "    flag = 0\n",
    "    for i in range(N):\n",
    "        for j in range(M):\n",
    "            if matrix[i][j]:\n",
    "                flag = 1\n",
    "    if not flag: break #빙하가 모두 사라지면\n",
    "print(end)"
   ]
  }
 ],
 "metadata": {
  "kernelspec": {
   "display_name": "Python 3",
   "language": "python",
   "name": "python3"
  },
  "language_info": {
   "codemirror_mode": {
    "name": "ipython",
    "version": 3
   },
   "file_extension": ".py",
   "mimetype": "text/x-python",
   "name": "python",
   "nbconvert_exporter": "python",
   "pygments_lexer": "ipython3",
   "version": "3.8.3"
  },
  "toc": {
   "base_numbering": 1,
   "nav_menu": {},
   "number_sections": true,
   "sideBar": true,
   "skip_h1_title": false,
   "title_cell": "Table of Contents",
   "title_sidebar": "Contents",
   "toc_cell": false,
   "toc_position": {},
   "toc_section_display": true,
   "toc_window_display": false
  },
  "varInspector": {
   "cols": {
    "lenName": 16,
    "lenType": 16,
    "lenVar": 40
   },
   "kernels_config": {
    "python": {
     "delete_cmd_postfix": "",
     "delete_cmd_prefix": "del ",
     "library": "var_list.py",
     "varRefreshCmd": "print(var_dic_list())"
    },
    "r": {
     "delete_cmd_postfix": ") ",
     "delete_cmd_prefix": "rm(",
     "library": "var_list.r",
     "varRefreshCmd": "cat(var_dic_list()) "
    }
   },
   "types_to_exclude": [
    "module",
    "function",
    "builtin_function_or_method",
    "instance",
    "_Feature"
   ],
   "window_display": false
  }
 },
 "nbformat": 4,
 "nbformat_minor": 4
}
