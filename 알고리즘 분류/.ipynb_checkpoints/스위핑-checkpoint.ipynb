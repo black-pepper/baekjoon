{
 "cells": [
  {
   "cell_type": "markdown",
   "metadata": {},
   "source": [
    "## 1911번: 흙길 보수하기"
   ]
  },
  {
   "cell_type": "code",
   "execution_count": 42,
   "metadata": {},
   "outputs": [
    {
     "name": "stdout",
     "output_type": "stream",
     "text": [
      "3 3\n",
      "1 6\n",
      "13 17\n",
      "8 12\n",
      "5\n"
     ]
    }
   ],
   "source": [
    "N, L = map(int, input().split()) #웅덩이 개수, 널빤지 길이\n",
    "arr = []\n",
    "for i in range(N):\n",
    "    arr.append(tuple(map(int, input().split())))\n",
    "arr.sort()\n",
    "\n",
    "right, cnt = 0, 0 #널빤지 끝, 개수\n",
    "for s, e in arr:\n",
    "    \n",
    "    if right < s: #띄우고 새 널빤지 놓기\n",
    "        if (e-s)%L == 0:\n",
    "            right = e-1\n",
    "            cnt += (e-s)//L\n",
    "        else:\n",
    "            right = s+((e-s)//L+1)*L-1\n",
    "            cnt += (e-s)//L+1\n",
    "    else: #연결해놓기\n",
    "        if (e-1-right)%L == 0:\n",
    "            cnt += (e-1-right)//L\n",
    "            right = e-1\n",
    "        else:\n",
    "            cnt += (e-1-right)//L+1\n",
    "            right = right+1 + ((e-1-right)//L+1)*L-1\n",
    "print(cnt)"
   ]
  },
  {
   "cell_type": "markdown",
   "metadata": {},
   "source": [
    "## 15922번: 아우으 우아으이야!!"
   ]
  },
  {
   "cell_type": "code",
   "execution_count": 9,
   "metadata": {},
   "outputs": [
    {
     "name": "stdout",
     "output_type": "stream",
     "text": [
      "5\n",
      "-5 -2\n",
      "-3 0\n",
      "2 5\n",
      "6 10\n",
      "8 12\n",
      "14\n"
     ]
    }
   ],
   "source": [
    "import sys\n",
    "#input = sys.stdin.readline\n",
    "\n",
    "N = int(input())\n",
    "arr = []\n",
    "for i in range(N):\n",
    "    arr.append(tuple(map(int, input().split())))\n",
    "    \n",
    "ans, right = 0, -1000000000\n",
    "for s, e in arr:\n",
    "    if e <= right: continue\n",
    "    ans += abs(e-max(s, right))\n",
    "    right = e\n",
    "print(ans)"
   ]
  },
  {
   "cell_type": "markdown",
   "metadata": {},
   "source": [
    "## 17619번: 개구리 점프"
   ]
  },
  {
   "cell_type": "code",
   "execution_count": 2,
   "metadata": {},
   "outputs": [
    {
     "name": "stdout",
     "output_type": "stream",
     "text": [
      "4 2\n",
      "1 5 2\n",
      "3 7 4\n",
      "7 9 1\n",
      "10 13 4\n",
      "1 3\n",
      "1\n",
      "1 4\n",
      "0\n"
     ]
    }
   ],
   "source": [
    "import sys\n",
    "#input = sys.stdin.readline\n",
    "#sys.setrecursionlimit(100000)\n",
    "\n",
    "def union(a, b):\n",
    "    a = find_root(a)\n",
    "    b = find_root(b)\n",
    "    if a > b: parent[a] = b\n",
    "    else: parent[b] = a\n",
    "\n",
    "def find_root(target):\n",
    "    if target == parent[target]:\n",
    "        return target\n",
    "    parent[target] = find_root(parent[target])\n",
    "    return parent[target]\n",
    "\n",
    "N, Q = map(int, input().split())\n",
    "arr = []\n",
    "for i in range(1, N+1):\n",
    "    arr.append(list(map(int, input().split()))+[i])\n",
    "arr.sort()\n",
    "\n",
    "parent = [i for i in range(N+1)]\n",
    "right = arr[0][1]\n",
    "for i in range(1, N):\n",
    "    x1, x2, y, idx = arr[i]\n",
    "    if x1 <= right:\n",
    "        union(arr[i-1][3], arr[i][3])\n",
    "    right = max(right, x2)\n",
    "    \n",
    "for i in range(Q):\n",
    "    x, y = map(int, input().split())\n",
    "    print(int(find_root(x)==find_root(y)))"
   ]
  },
  {
   "cell_type": "markdown",
   "metadata": {},
   "source": [
    "## 19598번: 최소 회의실 개수"
   ]
  },
  {
   "cell_type": "code",
   "execution_count": 29,
   "metadata": {},
   "outputs": [
    {
     "name": "stdout",
     "output_type": "stream",
     "text": [
      "3\n",
      "0 40\n",
      "15 30\n",
      "5 10\n"
     ]
    }
   ],
   "source": [
    "import heapq\n",
    "N = int(input())\n",
    "arr = []\n",
    "for _ in range(N):\n",
    "    arr.append(tuple(map(int, input().split())))\n",
    "    \n",
    "arr.sort()\n",
    "ends = [0] #끝나는 시간저장\n",
    "for s, e in arr:\n",
    "    if s >= ends[0]:\n",
    "        heapq.heappop(ends)\n",
    "    heapq.heappush(ends, e)\n",
    "print(len(ends))"
   ]
  },
  {
   "cell_type": "markdown",
   "metadata": {},
   "source": [
    "## 1689번: 겹치는 선분"
   ]
  },
  {
   "cell_type": "code",
   "execution_count": 21,
   "metadata": {},
   "outputs": [
    {
     "name": "stdout",
     "output_type": "stream",
     "text": [
      "11\n",
      "1 2\n",
      "3 6\n",
      "7 8\n",
      "10 11\n",
      "13 16\n",
      "0 5\n",
      "5 6\n",
      "2 5\n",
      "6 10\n",
      "9 14\n",
      "12 15\n",
      "3\n"
     ]
    }
   ],
   "source": [
    "import heapq\n",
    "N = int(input())\n",
    "arr = []\n",
    "for _ in range(N):\n",
    "    arr.append(tuple(map(int, input().split())))\n",
    "    \n",
    "arr.sort()\n",
    "ends = []\n",
    "ans = 0\n",
    "for s, e in arr:\n",
    "    while ends and s >= ends[0]:\n",
    "        heapq.heappop(ends)\n",
    "    heapq.heappush(ends, e)\n",
    "    ans = max(ans, len(ends))\n",
    "print(ans)"
   ]
  },
  {
   "cell_type": "markdown",
   "metadata": {},
   "source": [
    "## 2672번: 여러 직사각형의 전체 면적 구하기"
   ]
  },
  {
   "cell_type": "code",
   "execution_count": 2,
   "metadata": {},
   "outputs": [
    {
     "name": "stdout",
     "output_type": "stream",
     "text": [
      "4\n",
      "52.7 22.9 27.3 13.3\n",
      "68.8 57.6 23.2 8.0\n",
      "20.0 48.0 37.0 23.5\n",
      "41.5 36.2 27.3 21.4\n",
      "1853.61\n"
     ]
    }
   ],
   "source": [
    "#https://rebro.kr/65\n",
    "import sys\n",
    "#input = sys.stdin.readline\n",
    "\n",
    "N = int(input())\n",
    "arr = []\n",
    "for i in range(N):\n",
    "    x, y, w, h = map(float, input().split())\n",
    "    x, y, w, h = x*10, y*10, w*10, h*10\n",
    "    arr.append(tuple(map(int, [x, y, y+h, 1])))\n",
    "    arr.append(tuple(map(int, [x+w, y, y+h, 0])))\n",
    "\n",
    "arr.sort()\n",
    "ans = 0\n",
    "curr = 0\n",
    "A = [0]*20001\n",
    "for x, y1, y2, c in arr:\n",
    "    cnt = 0\n",
    "    for i in range(20001):\n",
    "        if A[i]>0: cnt+=1\n",
    "    ans += cnt*(x-curr)\n",
    "    for i in range(y1+1, y2+1):\n",
    "        if c: A[i] += 1\n",
    "        else: A[i] -= 1\n",
    "    curr = x\n",
    "if ans%100==0:\n",
    "    print(ans//100)\n",
    "else:\n",
    "    print(\"%0.2f\"%(ans/100))"
   ]
  },
  {
   "cell_type": "markdown",
   "metadata": {},
   "source": [
    "## 1933번: 스카이라인"
   ]
  },
  {
   "cell_type": "code",
   "execution_count": 29,
   "metadata": {},
   "outputs": [
    {
     "name": "stdout",
     "output_type": "stream",
     "text": [
      "8\n",
      "1 11 5\n",
      "2 6 7\n",
      "3 13 9\n",
      "12 7 16\n",
      "14 3 25\n",
      "19 18 22\n",
      "23 13 29\n",
      "24 4 28\n",
      "1 11 3 13 9 0 12 7 16 3 19 18 22 3 23 13 29 0 "
     ]
    }
   ],
   "source": [
    "import sys\n",
    "import heapq\n",
    "#input = sys.stdin.readline\n",
    "\n",
    "N = int(input())\n",
    "heap = []\n",
    "for _ in range(N):\n",
    "    x1, h, x2 = map(int, input().split())\n",
    "    heapq.heappush(heap, (x1, x2, h))\n",
    "\n",
    "MAX = 1000000001\n",
    "top = [(0, MAX)]\n",
    "before = 0\n",
    "while heap or top[0][1]!=MAX:\n",
    "    if heap:x = min(heap[0][0], top[0][1])\n",
    "    else: x = top[0][1]\n",
    "    while heap and heap[0][0]<=x:\n",
    "        x1, x2, h = heapq.heappop(heap)\n",
    "        heapq.heappush(top, (-h, x2))\n",
    "    while top[0][1]!=MAX and top[0][1]<=x:\n",
    "        heapq.heappop(top)\n",
    "    if before != -top[0][0]:\n",
    "        print(x, -top[0][0], end=' ')\n",
    "        before = -top[0][0]"
   ]
  }
 ],
 "metadata": {
  "kernelspec": {
   "display_name": "Python 3",
   "language": "python",
   "name": "python3"
  },
  "language_info": {
   "codemirror_mode": {
    "name": "ipython",
    "version": 3
   },
   "file_extension": ".py",
   "mimetype": "text/x-python",
   "name": "python",
   "nbconvert_exporter": "python",
   "pygments_lexer": "ipython3",
   "version": "3.8.3"
  },
  "toc": {
   "base_numbering": 1,
   "nav_menu": {},
   "number_sections": true,
   "sideBar": true,
   "skip_h1_title": false,
   "title_cell": "Table of Contents",
   "title_sidebar": "Contents",
   "toc_cell": false,
   "toc_position": {},
   "toc_section_display": true,
   "toc_window_display": false
  },
  "varInspector": {
   "cols": {
    "lenName": 16,
    "lenType": 16,
    "lenVar": 40
   },
   "kernels_config": {
    "python": {
     "delete_cmd_postfix": "",
     "delete_cmd_prefix": "del ",
     "library": "var_list.py",
     "varRefreshCmd": "print(var_dic_list())"
    },
    "r": {
     "delete_cmd_postfix": ") ",
     "delete_cmd_prefix": "rm(",
     "library": "var_list.r",
     "varRefreshCmd": "cat(var_dic_list()) "
    }
   },
   "types_to_exclude": [
    "module",
    "function",
    "builtin_function_or_method",
    "instance",
    "_Feature"
   ],
   "window_display": false
  }
 },
 "nbformat": 4,
 "nbformat_minor": 4
}
