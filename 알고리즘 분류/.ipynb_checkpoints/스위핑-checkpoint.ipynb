{
 "cells": [
  {
   "cell_type": "markdown",
   "metadata": {},
   "source": [
    "## 1911번: 흙길 보수하기"
   ]
  },
  {
   "cell_type": "code",
   "execution_count": 42,
   "metadata": {},
   "outputs": [
    {
     "name": "stdout",
     "output_type": "stream",
     "text": [
      "3 3\n",
      "1 6\n",
      "13 17\n",
      "8 12\n",
      "5\n"
     ]
    }
   ],
   "source": [
    "N, L = map(int, input().split()) #웅덩이 개수, 널빤지 길이\n",
    "arr = []\n",
    "for i in range(N):\n",
    "    arr.append(tuple(map(int, input().split())))\n",
    "arr.sort()\n",
    "\n",
    "right, cnt = 0, 0 #널빤지 끝, 개수\n",
    "for s, e in arr:\n",
    "    \n",
    "    if right < s: #띄우고 새 널빤지 놓기\n",
    "        if (e-s)%L == 0:\n",
    "            right = e-1\n",
    "            cnt += (e-s)//L\n",
    "        else:\n",
    "            right = s+((e-s)//L+1)*L-1\n",
    "            cnt += (e-s)//L+1\n",
    "    else: #연결해놓기\n",
    "        if (e-1-right)%L == 0:\n",
    "            cnt += (e-1-right)//L\n",
    "            right = e-1\n",
    "        else:\n",
    "            cnt += (e-1-right)//L+1\n",
    "            right = right+1 + ((e-1-right)//L+1)*L-1\n",
    "print(cnt)"
   ]
  },
  {
   "cell_type": "markdown",
   "metadata": {},
   "source": [
    "## 15922번: 아우으 우아으이야!!"
   ]
  },
  {
   "cell_type": "code",
   "execution_count": 9,
   "metadata": {},
   "outputs": [
    {
     "name": "stdout",
     "output_type": "stream",
     "text": [
      "5\n",
      "-5 -2\n",
      "-3 0\n",
      "2 5\n",
      "6 10\n",
      "8 12\n",
      "14\n"
     ]
    }
   ],
   "source": [
    "import sys\n",
    "#input = sys.stdin.readline\n",
    "\n",
    "N = int(input())\n",
    "arr = []\n",
    "for i in range(N):\n",
    "    arr.append(tuple(map(int, input().split())))\n",
    "    \n",
    "ans, right = 0, -1000000000\n",
    "for s, e in arr:\n",
    "    if e <= right: continue\n",
    "    ans += abs(e-max(s, right))\n",
    "    right = e\n",
    "print(ans)"
   ]
  }
 ],
 "metadata": {
  "kernelspec": {
   "display_name": "Python 3",
   "language": "python",
   "name": "python3"
  },
  "language_info": {
   "codemirror_mode": {
    "name": "ipython",
    "version": 3
   },
   "file_extension": ".py",
   "mimetype": "text/x-python",
   "name": "python",
   "nbconvert_exporter": "python",
   "pygments_lexer": "ipython3",
   "version": "3.8.3"
  },
  "toc": {
   "base_numbering": 1,
   "nav_menu": {},
   "number_sections": true,
   "sideBar": true,
   "skip_h1_title": false,
   "title_cell": "Table of Contents",
   "title_sidebar": "Contents",
   "toc_cell": false,
   "toc_position": {},
   "toc_section_display": true,
   "toc_window_display": false
  },
  "varInspector": {
   "cols": {
    "lenName": 16,
    "lenType": 16,
    "lenVar": 40
   },
   "kernels_config": {
    "python": {
     "delete_cmd_postfix": "",
     "delete_cmd_prefix": "del ",
     "library": "var_list.py",
     "varRefreshCmd": "print(var_dic_list())"
    },
    "r": {
     "delete_cmd_postfix": ") ",
     "delete_cmd_prefix": "rm(",
     "library": "var_list.r",
     "varRefreshCmd": "cat(var_dic_list()) "
    }
   },
   "types_to_exclude": [
    "module",
    "function",
    "builtin_function_or_method",
    "instance",
    "_Feature"
   ],
   "window_display": false
  }
 },
 "nbformat": 4,
 "nbformat_minor": 4
}
