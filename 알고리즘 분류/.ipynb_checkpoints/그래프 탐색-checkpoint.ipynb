{
 "cells": [
  {
   "cell_type": "markdown",
   "metadata": {},
   "source": [
    "## 14502번: 연구소"
   ]
  },
  {
   "cell_type": "code",
   "execution_count": 3,
   "metadata": {},
   "outputs": [
    {
     "name": "stdout",
     "output_type": "stream",
     "text": [
      "8 8\n",
      "2 0 0 0 0 0 0 2\n",
      "2 0 0 0 0 0 0 2\n",
      "2 0 0 0 0 0 0 2\n",
      "2 0 0 0 0 0 0 2\n",
      "2 0 0 0 0 0 0 2\n",
      "0 0 0 0 0 0 0 0\n",
      "0 0 0 0 0 0 0 0\n",
      "0 0 0 0 0 0 0 0\n",
      "3\n"
     ]
    }
   ],
   "source": [
    "import sys\n",
    "#input = sys.stdin.readline\n",
    "\n",
    "from collections import deque\n",
    "def BFS():\n",
    "    queue = deque()\n",
    "    for i, j in virus:\n",
    "        queue.append([i, j])\n",
    "    while queue:\n",
    "        i, j = queue.popleft()\n",
    "        if 0<i and graph[i-1][j] == 0:#상\n",
    "            graph[i-1][j] = 2\n",
    "            queue.append([i-1, j])\n",
    "        if N-1>i and graph[i+1][j] == 0: #하\n",
    "            graph[i+1][j] = 2\n",
    "            queue.append([i+1, j])\n",
    "        if 0<j and graph[i][j-1] == 0: #좌\n",
    "            graph[i][j-1] = 2\n",
    "            queue.append([i, j-1])\n",
    "        if M-1>j and graph[i][j+1] == 0: #우\n",
    "            graph[i][j+1] = 2\n",
    "            queue.append([i, j+1])\n",
    "            \n",
    "    #안전영역 구하기\n",
    "    global result\n",
    "    cnt = 0\n",
    "    for i in range(N):\n",
    "        for j in range(M):\n",
    "            if graph[i][j] == 0:\n",
    "                cnt += 1\n",
    "    result = max(cnt, result)\n",
    "    \n",
    "N, M = map(int, input().split())\n",
    "graph = []\n",
    "for i in range(N):\n",
    "    graph.append(list(map(int, input().split())))\n",
    "    \n",
    "#현재상태 저장\n",
    "import copy\n",
    "temp = copy.deepcopy(graph)\n",
    "\n",
    "#2와 0위치 찾기\n",
    "virus = []\n",
    "ground = []\n",
    "for i in range(N):\n",
    "    for j in range(M):\n",
    "        if graph[i][j] == 2:\n",
    "            virus.append([i, j])\n",
    "        elif graph[i][j] == 0:\n",
    "            ground.append([i, j])\n",
    "    \n",
    "import itertools\n",
    "result = 0\n",
    "for a, b, c in itertools.combinations(ground, 3):\n",
    "    #벽 세우기\n",
    "    graph[a[0]][a[1]] = 3\n",
    "    graph[b[0]][b[1]] = 3\n",
    "    graph[c[0]][c[1]] = 3\n",
    "    \n",
    "    BFS() #바이러스 퍼트리기\n",
    "    \n",
    "    graph = copy.deepcopy(temp)#리셋\n",
    "print(result)"
   ]
  },
  {
   "cell_type": "markdown",
   "metadata": {},
   "source": [
    "## 10026번: 적록색약"
   ]
  },
  {
   "cell_type": "code",
   "execution_count": 8,
   "metadata": {},
   "outputs": [
    {
     "name": "stdout",
     "output_type": "stream",
     "text": [
      "5\n",
      "RRRBB\n",
      "GGBBB\n",
      "BBBRR\n",
      "BBRRR\n",
      "RRRRR\n",
      "4 3\n"
     ]
    }
   ],
   "source": [
    "import sys\n",
    "from collections import deque\n",
    "#input = sys.stdin.readline\n",
    "\n",
    "ni = [-1, 1, 0, 0]\n",
    "nj = [0, 0, -1, 1]\n",
    "def color_BFS(i, j, c):\n",
    "    queue = deque()\n",
    "    queue. append([i, j])\n",
    "    while queue:\n",
    "        i, j = queue.popleft()\n",
    "        for n in range(4):\n",
    "            if 0<=i+ni[n]<N and 0<=j+nj[n]<N:\n",
    "                if visited[i+ni[n]][j+nj[n]] != 1 and graph[i+ni[n]][j+nj[n]]==c:\n",
    "                    visited[i+ni[n]][j+nj[n]] = 1\n",
    "                    queue.append([i+ni[n], j+nj[n]])\n",
    "\n",
    "def BFS(i, j):\n",
    "    queue = deque()\n",
    "    queue. append([i, j])\n",
    "    while queue:\n",
    "        i, j = queue.popleft()\n",
    "        for n in range(4):\n",
    "            if 0<=i+ni[n]<N and 0<=j+nj[n]<N:\n",
    "                if visited[i+ni[n]][j+nj[n]] != 1 and graph[i+ni[n]][j+nj[n]]!='B':\n",
    "                    visited[i+ni[n]][j+nj[n]] = 1\n",
    "                    queue.append([i+ni[n], j+nj[n]])\n",
    "                    \n",
    "N = int(input())\n",
    "graph = []\n",
    "for i in range(N):\n",
    "    graph.append(list(map(str, input().strip())))\n",
    "    \n",
    "#색약X\n",
    "visited = [[0]*N for _ in range(N)]\n",
    "color_result = 0\n",
    "for i in range(N):\n",
    "    for j in range(N):\n",
    "        if visited[i][j] == 0:\n",
    "            color_BFS(i, j, graph[i][j])\n",
    "            color_result += 1\n",
    "#색약O\n",
    "visited = [[0]*N for _ in range(N)]\n",
    "result = 0\n",
    "for i in range(N):\n",
    "    for j in range(N):\n",
    "        if visited[i][j] == 0:\n",
    "            if graph[i][j] == 'B':\n",
    "                color_BFS(i, j, 'B')\n",
    "            else:\n",
    "                BFS(i, j)\n",
    "            result += 1\n",
    "            \n",
    "print(color_result, result)"
   ]
  },
  {
   "cell_type": "markdown",
   "metadata": {},
   "source": [
    "## 13460번: 구슬 탈출2 (미완성)"
   ]
  },
  {
   "cell_type": "code",
   "execution_count": 77,
   "metadata": {},
   "outputs": [
    {
     "name": "stdout",
     "output_type": "stream",
     "text": [
      "3 10\n",
      "##########\n",
      "#.O....RB#\n",
      "##########\n",
      "-1\n"
     ]
    }
   ],
   "source": [
    "import sys\n",
    "from collections import deque\n",
    "#input = sys.stdin.readline\n",
    "\n",
    "N, M = map(int, input().split())\n",
    "graph = []\n",
    "for i in range(N):\n",
    "    graph.append(input())\n",
    "    \n",
    "B, R = [], []\n",
    "for i in range(N):\n",
    "    for j in range(M):\n",
    "        if graph[i][j] == 'B':\n",
    "            B = [i, j]\n",
    "        if graph[i][j] == 'R':\n",
    "            R = [i, j]\n",
    "\n",
    "def move(i, j, d):\n",
    "    cnt = 0\n",
    "    while graph[i+ni[d]][j+nj[d]] != '#' and graph[i][j] != 'O':\n",
    "        i += ni[d]\n",
    "        j += nj[d]\n",
    "        cnt += 1\n",
    "    return i, j, cnt\n",
    "\n",
    "queue = deque()\n",
    "queue.append((R, B, 1))\n",
    "ni = [-1, 1, 0, 0] #0, 1, 2, 3\n",
    "nj = [0, 0, -1, 1]\n",
    "result = 1\n",
    "flag = 0\n",
    "visited = [[[[0]*M for _ in range(N)] for _ in range(M)] for _ in range(N)]\n",
    "visited[R[0]][R[1]][B[0]][B[1]] = 1\n",
    "while queue:\n",
    "    R, B, level = queue.popleft()\n",
    "    if level > 10:\n",
    "        break\n",
    "    R_next, B_next = [0, 0], [0, 0]\n",
    "    for i in range(4):\n",
    "        R_next[0], R_next[1], r_cnt = move(R[0], R[1], i)\n",
    "        B_next[0], B_next[1], b_cnt = move(B[0], B[1], i)\n",
    "        if graph[B_next[0]][B_next[1]] == 'O':\n",
    "            continue\n",
    "        if graph[R_next[0]][R_next[1]] == 'O':\n",
    "            flag = 1\n",
    "            break\n",
    "        if R_next == B_next:\n",
    "            if r_cnt > b_cnt:\n",
    "                R_next[0] -= ni[i]\n",
    "                R_next[1] -= nj[i]\n",
    "            else:\n",
    "                B_next[0] -= ni[i]\n",
    "                B_next[1] -= nj[i]\n",
    "        if not visited[R_next[0]][R_next[1]][B_next[0]][B_next[1]]:\n",
    "            visited[R_next[0]][R_next[1]][B_next[0]][B_next[1]] = 1\n",
    "            queue.append((R_next[:], B_next[:], level+1))\n",
    "    if flag:\n",
    "        print(level)\n",
    "        break\n",
    "        \n",
    "if not flag:\n",
    "    print(-1)"
   ]
  },
  {
   "cell_type": "markdown",
   "metadata": {},
   "source": [
    "## 2644번: 촌수계산"
   ]
  },
  {
   "cell_type": "code",
   "execution_count": 23,
   "metadata": {},
   "outputs": [
    {
     "name": "stdout",
     "output_type": "stream",
     "text": [
      "9\n",
      "8 6\n",
      "7\n",
      "1 2\n",
      "1 3\n",
      "2 7\n",
      "2 8\n",
      "2 9\n",
      "4 5\n",
      "4 6\n",
      "-1\n"
     ]
    }
   ],
   "source": [
    "n = int(input())\n",
    "a, b = map(int, input().split())\n",
    "m = int(input())\n",
    "graph = [[] for _ in range(n+1)]\n",
    "for i in range(m):\n",
    "    x, y = map(int, input().split())\n",
    "    graph[x].append(y)\n",
    "    graph[y].append(x)\n",
    "    \n",
    "from collections import deque\n",
    "queue = deque()\n",
    "queue.append([a, 0])\n",
    "visited = [0] * (n+1)\n",
    "result = -1\n",
    "while queue:\n",
    "    s, cnt = queue.popleft()\n",
    "    if s == b:\n",
    "        result = cnt\n",
    "        break\n",
    "    for i in graph[s]:\n",
    "        if visited[i] == 0:\n",
    "            visited[i] = 1\n",
    "            queue.append([i, cnt+1])\n",
    "            \n",
    "print(result)"
   ]
  },
  {
   "cell_type": "markdown",
   "metadata": {},
   "source": [
    "## 16236번: 아기 상어 (미완성)"
   ]
  },
  {
   "cell_type": "code",
   "execution_count": 2,
   "metadata": {},
   "outputs": [
    {
     "name": "stdout",
     "output_type": "stream",
     "text": [
      "3\n",
      "0 0 1\n",
      "0 0 0\n",
      "0 9 0\n"
     ]
    }
   ],
   "source": [
    "N = int(input())\n",
    "matrix = []\n",
    "for i in range(N):\n",
    "    matrix.append(list(map(int, input().split())))"
   ]
  },
  {
   "cell_type": "code",
   "execution_count": null,
   "metadata": {},
   "outputs": [],
   "source": [
    "from collections import deque\n",
    "visited = [[0]*N for _ in range(N)]\n",
    "\n",
    "#아기상어 위치 찾기\n",
    "x, y = 0, 0\n",
    "for i in range(N):\n",
    "    for j in range(N):\n",
    "        if matrix[i][j] == 9:\n",
    "            x, y = i, j\n",
    "            \n",
    "#BFS\n",
    "queue = deque()\n",
    "queue.append([x, y, 0])\n",
    "\n",
    "size = 2\n",
    "eat = 0\n",
    "ni = [-1, 1, 0, 0]\n",
    "nj = [0, 0, -1, 1]\n",
    "while queue:\n",
    "    for n in range(4):\n",
    "        if 0<=i+ni[n]<N and 0<=j+nj[n]<N:"
   ]
  },
  {
   "cell_type": "markdown",
   "metadata": {},
   "source": [
    "## 3055번: 탈출"
   ]
  },
  {
   "cell_type": "code",
   "execution_count": 36,
   "metadata": {},
   "outputs": [
    {
     "name": "stdout",
     "output_type": "stream",
     "text": [
      "5 4\n",
      ".D.*\n",
      "....\n",
      "..X.\n",
      "S.*.\n",
      "....\n",
      "4\n"
     ]
    }
   ],
   "source": [
    "import sys\n",
    "from collections import deque\n",
    "#input = sys.stdin.readline\n",
    "\n",
    "R, C = map(int, input().split())\n",
    "graph = []\n",
    "for _ in range(R):\n",
    "    graph.append(list(map(str, input().strip())))\n",
    "\n",
    "queue = deque()\n",
    "#물, 고슴도치 위치 찾기\n",
    "x, y = 0, 0\n",
    "for i in range(R):\n",
    "    for j in range(C):\n",
    "        if graph[i][j] == '*':\n",
    "            queue.append([i, j, 0])\n",
    "        elif graph[i][j] == 'S':\n",
    "            x, y = i, j\n",
    "\n",
    "queue.append([x, y, 1])\n",
    "ni = [-1, 1, 0, 0]\n",
    "nj = [0, 0, -1, 1]\n",
    "result = 0\n",
    "flag = 0\n",
    "visited = [[0]*C for _ in range(R)]\n",
    "while queue:\n",
    "    i, j, s = queue.popleft()\n",
    "    if s == 0: #물일 때\n",
    "        for n in range(4):\n",
    "            if 0<=i+ni[n]<R and 0<=j+nj[n]<C:\n",
    "                if graph[i+ni[n]][j+nj[n]] == '.':\n",
    "                    graph[i+ni[n]][j+nj[n]] = '*'\n",
    "                    queue.append([i+ni[n], j+nj[n], 0])\n",
    "    else: #고슴도치일 때\n",
    "        for n in range(4):\n",
    "            if 0<=i+ni[n]<R and 0<=j+nj[n]<C:\n",
    "                if graph[i+ni[n]][j+nj[n]] == '.' and visited[i+ni[n]][j+nj[n]] == 0:\n",
    "                    visited[i+ni[n]][j+nj[n]] = 1\n",
    "                    queue.append([i+ni[n], j+nj[n], s+1])\n",
    "                elif graph[i+ni[n]][j+nj[n]] == 'D':\n",
    "                    result = s\n",
    "                    flag = 1\n",
    "                    break\n",
    "    if flag == 1:\n",
    "        break\n",
    "        \n",
    "if result == 0:\n",
    "    print('KAKTUS')\n",
    "else:\n",
    "    print(result)"
   ]
  },
  {
   "cell_type": "markdown",
   "metadata": {},
   "source": [
    "## 16234번: 인구 이동 (미완성)"
   ]
  },
  {
   "cell_type": "code",
   "execution_count": 11,
   "metadata": {},
   "outputs": [],
   "source": [
    "import sys\n",
    "from collections import deque \n",
    "#input = sys.stdin.readline\n",
    "\n",
    "ni = [-1, 1, 0, 0] #상하좌우\n",
    "nj = [0, 0, -1, 1]\n",
    "\n",
    "def BFS(x, y):\n",
    "    queue = deque()\n",
    "    queue.append((x, y))\n",
    "    visited = [[0]*N for _ in range(N)]\n",
    "    visited[x][y] = 1\n",
    "    sum_ = matrix[x][y]\n",
    "    cnt = 1\n",
    "    while queue:\n",
    "        i, j = queue.popleft()\n",
    "        for n in range(4):\n",
    "            if 0<=i+ni[n]<N and 0<=j+nj[n]<N:\n",
    "                if visited[i+ni[n]][j+nj[n]] == 0:\n",
    "                    if L<= abs(matrix[i][j]-matrix[i+ni[n]][j+nj[n]])<=R:\n",
    "                        queue.append([i+ni[n], j+nj[n]])\n",
    "                        visited[i+ni[n]][j+nj[n]] = 1\n",
    "                        sum_ += matrix[i+ni[n]][j+nj[n]]\n",
    "                        cnt += 1\n",
    "    queue.append((x, y))\n",
    "    visited[x][y] = 0\n",
    "    avg = sum_ // cnt\n",
    "    while queue:\n",
    "        i, j = queue.popleft()\n",
    "        matrix[i][j] = avg\n",
    "        for n in range(4):\n",
    "            if 0<=i+ni[n]<N and 0<=j+nj[n]<N:\n",
    "                if visited[i+ni[n]][j+nj[n]] == 1:\n",
    "                    queue.append([i+ni[n], j+nj[n]])\n",
    "                    visited[i+ni[n]][j+nj[n]] = 0"
   ]
  },
  {
   "cell_type": "code",
   "execution_count": 16,
   "metadata": {},
   "outputs": [
    {
     "name": "stdout",
     "output_type": "stream",
     "text": [
      "3 5 10\n",
      "10 15 20\n",
      "20 30 25\n",
      "40 22 10\n"
     ]
    }
   ],
   "source": [
    "N, L, R = map(int, input().split())\n",
    "matrix = []\n",
    "for i in range(N):\n",
    "    matrix.append(list(map(int, input().split())))"
   ]
  },
  {
   "cell_type": "code",
   "execution_count": 17,
   "metadata": {},
   "outputs": [
    {
     "name": "stdout",
     "output_type": "stream",
     "text": [
      "1\n"
     ]
    }
   ],
   "source": [
    "day = 0\n",
    "while True:\n",
    "    flag = 0\n",
    "    for i in range(N):\n",
    "        for j in range(N):\n",
    "            for k in range(4):\n",
    "                if 0<=i+ni[k]<N and 0<=j+nj[k]<N:\n",
    "                    if L<= abs(matrix[i][j]-matrix[i+ni[k]][j+nj[k]])<=R:\n",
    "                        BFS(i, j)\n",
    "                        flag = 1\n",
    "    if not flag:\n",
    "        break\n",
    "    day += 1\n",
    "print(day)"
   ]
  },
  {
   "cell_type": "markdown",
   "metadata": {},
   "source": [
    "## 10451번: 순열 사이클"
   ]
  },
  {
   "cell_type": "code",
   "execution_count": 2,
   "metadata": {
    "ExecuteTime": {
     "end_time": "2021-09-22T02:13:19.699574Z",
     "start_time": "2021-09-22T02:12:54.397310Z"
    }
   },
   "outputs": [
    {
     "name": "stdout",
     "output_type": "stream",
     "text": [
      "2\n",
      "8\n",
      "3 2 7 8 1 4 5 6\n",
      "3\n",
      "10\n",
      "2 1 3 4 5 6 7 9 10 8\n",
      "7\n"
     ]
    }
   ],
   "source": [
    "import sys\n",
    "#input = sys.stdin.readline\n",
    "\n",
    "T = int(input())\n",
    "for _ in range(T):\n",
    "    N = int(input())\n",
    "    arr = [0] + list(map(int, input().split()))\n",
    "    visited = [0] * (N+1)\n",
    "    cnt = 0\n",
    "\n",
    "    for i in range(1, N+1):\n",
    "        if visited[i] == 0:\n",
    "            cnt += 1\n",
    "            s = i\n",
    "            while True:\n",
    "                visited[s] = 1\n",
    "                if visited[arr[s]] == 1:\n",
    "                    break\n",
    "                s = arr[s]\n",
    "    print(cnt)"
   ]
  },
  {
   "cell_type": "markdown",
   "metadata": {},
   "source": [
    "## 1525번: 퍼즐"
   ]
  },
  {
   "cell_type": "code",
   "execution_count": 37,
   "metadata": {},
   "outputs": [
    {
     "name": "stdout",
     "output_type": "stream",
     "text": [
      "1 0 3\n",
      "4 2 5\n",
      "7 8 6\n",
      "3\n"
     ]
    }
   ],
   "source": [
    "import sys\n",
    "from collections import deque\n",
    "#input = sys.stdin.readline\n",
    "\n",
    "puzzle = ''\n",
    "for i in range(3):\n",
    "    puzzle += input().replace(' ','').replace('\\n','')\n",
    "\n",
    "visited = {}\n",
    "n = [-1, +1, -3, +3]\n",
    "\n",
    "def BFS(puzzle):\n",
    "    queue = deque()\n",
    "    queue.append((puzzle, 0))\n",
    "    visited[puzzle] = 1\n",
    "    while queue:\n",
    "        s, c = queue.popleft()\n",
    "        e = s.index('0')\n",
    "        if s == '123456780':\n",
    "            return c\n",
    "        for i in n:\n",
    "            after = list(s)\n",
    "            if 0<=(e%3)+i<3 or e+2<e+i<9 or 0<=e+i<e-2:\n",
    "                after[e], after[e+i] = after[e+i], after[e]\n",
    "                after = ''.join(after)\n",
    "                if not after in visited.keys():\n",
    "                    queue.append((after, c+1))\n",
    "                    visited[after] = 1\n",
    "    return -1\n",
    "\n",
    "print(BFS(puzzle))"
   ]
  }
 ],
 "metadata": {
  "kernelspec": {
   "display_name": "Python 3",
   "language": "python",
   "name": "python3"
  },
  "language_info": {
   "codemirror_mode": {
    "name": "ipython",
    "version": 3
   },
   "file_extension": ".py",
   "mimetype": "text/x-python",
   "name": "python",
   "nbconvert_exporter": "python",
   "pygments_lexer": "ipython3",
   "version": "3.8.3"
  },
  "toc": {
   "base_numbering": 1,
   "nav_menu": {},
   "number_sections": true,
   "sideBar": true,
   "skip_h1_title": false,
   "title_cell": "Table of Contents",
   "title_sidebar": "Contents",
   "toc_cell": false,
   "toc_position": {},
   "toc_section_display": true,
   "toc_window_display": false
  },
  "varInspector": {
   "cols": {
    "lenName": 16,
    "lenType": 16,
    "lenVar": 40
   },
   "kernels_config": {
    "python": {
     "delete_cmd_postfix": "",
     "delete_cmd_prefix": "del ",
     "library": "var_list.py",
     "varRefreshCmd": "print(var_dic_list())"
    },
    "r": {
     "delete_cmd_postfix": ") ",
     "delete_cmd_prefix": "rm(",
     "library": "var_list.r",
     "varRefreshCmd": "cat(var_dic_list()) "
    }
   },
   "position": {
    "height": "253.4px",
    "left": "246.6px",
    "right": "20px",
    "top": "0px",
    "width": "368px"
   },
   "types_to_exclude": [
    "module",
    "function",
    "builtin_function_or_method",
    "instance",
    "_Feature"
   ],
   "window_display": false
  }
 },
 "nbformat": 4,
 "nbformat_minor": 4
}
