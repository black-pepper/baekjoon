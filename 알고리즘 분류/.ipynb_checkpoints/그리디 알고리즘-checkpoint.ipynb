{
 "cells": [
  {
   "cell_type": "markdown",
   "metadata": {},
   "source": [
    "## 2217번: 로프"
   ]
  },
  {
   "cell_type": "code",
   "execution_count": 12,
   "metadata": {},
   "outputs": [
    {
     "name": "stdout",
     "output_type": "stream",
     "text": [
      "2\n",
      "10\n",
      "15\n",
      "20\n"
     ]
    }
   ],
   "source": [
    "k = int(input())\n",
    "rope = []\n",
    "for i in range(k):\n",
    "    rope.append(int(input()))\n",
    "\n",
    "rope.sort()\n",
    "weight = []\n",
    "for i in range(k):\n",
    "    weight.append(rope[i]*(k-i))\n",
    "print(max(weight))"
   ]
  },
  {
   "cell_type": "markdown",
   "metadata": {},
   "source": [
    "## 1339번: 수학"
   ]
  },
  {
   "cell_type": "code",
   "execution_count": 13,
   "metadata": {},
   "outputs": [
    {
     "name": "stdout",
     "output_type": "stream",
     "text": [
      "2\n",
      "AB\n",
      "BA\n",
      "187\n"
     ]
    }
   ],
   "source": [
    "N = int(input())\n",
    "arr = []\n",
    "for i in range(N):\n",
    "    arr.append(input())\n",
    "\n",
    "alphabet = [0 for i in range(26)]\n",
    "\n",
    "for a in arr:\n",
    "    for i in range(len(a)):\n",
    "        alphabet[ord(a[-1]) - ord('A')] += 10**i\n",
    "        i += 1\n",
    "        a = a[:-1]\n",
    "\n",
    "alphabet.sort(reverse=True)\n",
    "result = 0\n",
    "for i in range(9, 0, -1):\n",
    "    result += i * alphabet[9 - i]\n",
    "print(result)"
   ]
  },
  {
   "cell_type": "markdown",
   "metadata": {},
   "source": [
    "## 1715번: 카드 정렬하기"
   ]
  },
  {
   "cell_type": "code",
   "execution_count": 4,
   "metadata": {},
   "outputs": [
    {
     "name": "stdout",
     "output_type": "stream",
     "text": [
      "3\n",
      "10\n",
      "20\n",
      "40\n",
      "100\n"
     ]
    }
   ],
   "source": [
    "import heapq\n",
    "\n",
    "N = int(input())\n",
    "heap = []\n",
    "for i in range(N):\n",
    "    heapq.heappush(heap, int(input()))\n",
    "    \n",
    "if N == 1:\n",
    "    print(0)\n",
    "else:\n",
    "    temp = heapq.heappop(heap) + heapq.heappop(heap)\n",
    "    result = temp\n",
    "    while heap:\n",
    "        heapq.heappush(heap, temp)\n",
    "        temp = heapq.heappop(heap) + heapq.heappop(heap)\n",
    "        result += temp\n",
    "    print(result)"
   ]
  },
  {
   "cell_type": "markdown",
   "metadata": {},
   "source": [
    "## 1744번: 수 묶기"
   ]
  },
  {
   "cell_type": "code",
   "execution_count": 15,
   "metadata": {},
   "outputs": [
    {
     "name": "stdout",
     "output_type": "stream",
     "text": [
      "5\n",
      "5\n",
      "4\n",
      "1\n",
      "1\n",
      "1\n",
      "23\n"
     ]
    }
   ],
   "source": [
    "import heapq\n",
    "N = int(input())\n",
    "positive = []\n",
    "negative = []\n",
    "result = 0\n",
    "for i in range(N):\n",
    "    num = int(input())\n",
    "    if num == 1:\n",
    "        result += 1\n",
    "    elif num > 0:\n",
    "        heapq.heappush(positive, -num)\n",
    "    else:\n",
    "        heapq.heappush(negative, num)\n",
    "\n",
    "        \n",
    "#양수 묶기\n",
    "while len(positive)>1:\n",
    "    result += heapq.heappop(positive) * heapq.heappop(positive)\n",
    "if positive:\n",
    "    result -= heapq.heappop(positive)\n",
    "\n",
    "#0과 음수 묶기    \n",
    "while len(negative)>1:\n",
    "    result += heapq.heappop(negative) * heapq.heappop(negative)\n",
    "if negative:\n",
    "    result += heapq.heappop(negative)\n",
    "\n",
    "print(result)"
   ]
  },
  {
   "cell_type": "markdown",
   "metadata": {},
   "source": [
    "## 2437번: 저울"
   ]
  },
  {
   "cell_type": "code",
   "execution_count": 6,
   "metadata": {},
   "outputs": [
    {
     "name": "stdout",
     "output_type": "stream",
     "text": [
      "7\n",
      "3 1 6 2 7 30 1\n",
      "21\n"
     ]
    }
   ],
   "source": [
    "#https://pacific-ocean.tistory.com/355\n",
    "N = int(input())\n",
    "weight = list(map(int, input().split()))\n",
    "weight.sort()\n",
    "\n",
    "answer = 1\n",
    "for i in range(N):\n",
    "    if answer < weight[i]:\n",
    "        break\n",
    "    answer += weight[i]\n",
    "print(answer)"
   ]
  },
  {
   "cell_type": "markdown",
   "metadata": {},
   "source": [
    "## 1700번: 멀티탭 스케줄링"
   ]
  },
  {
   "cell_type": "code",
   "execution_count": 114,
   "metadata": {},
   "outputs": [
    {
     "name": "stdout",
     "output_type": "stream",
     "text": [
      "3 10\n",
      "6 7 4 8 6 4 9 1 1 9 \n",
      "3\n"
     ]
    }
   ],
   "source": [
    "import sys\n",
    "#input = sys.stdin.readline\n",
    "\n",
    "N, K = map(int, input().split())\n",
    "turn = list(map(int, input().split()))\n",
    "\n",
    "#멀티탭이 찰때까지 콘센트 꽂기\n",
    "temp = 0\n",
    "i = 0\n",
    "bar = set()\n",
    "while i<K and len(bar)<N:\n",
    "    bar.add(turn[i])\n",
    "    i += 1\n",
    "    \n",
    "#각 콘센트에 필요한 순서 입력\n",
    "socket = [[101] for _ in range(100+1)]\n",
    "for s in range(i, K):\n",
    "    socket[turn[s]].append(s)\n",
    "    socket[turn[s]].sort()\n",
    "    \n",
    "count = 0\n",
    "#콘센트 교체\n",
    "for i in range(i, K):\n",
    "    #이미 꽂힌 콘센트라면 다음으로\n",
    "    if turn[i] in bar:\n",
    "        del socket[turn[i]][0]\n",
    "        continue\n",
    "        \n",
    "    #가장 나중에 사용하는 콘센트 찾기\n",
    "    select = [-1, -1]\n",
    "    for b in bar:\n",
    "        select = max(select, [socket[b][0], b])\n",
    "        \n",
    "    #찾은 콘센트와 교체\n",
    "    bar.remove(select[1])\n",
    "    del socket[turn[i]][0]\n",
    "    bar.add(turn[i])\n",
    "    count += 1\n",
    "    \n",
    "print(count)"
   ]
  },
  {
   "cell_type": "markdown",
   "metadata": {},
   "source": [
    "## 10775번: 공항"
   ]
  },
  {
   "cell_type": "code",
   "execution_count": 2,
   "metadata": {},
   "outputs": [
    {
     "name": "stdout",
     "output_type": "stream",
     "text": [
      "4\n",
      "6\n",
      "2\n",
      "2\n",
      "3\n",
      "3\n",
      "4\n",
      "4\n",
      "3\n"
     ]
    }
   ],
   "source": [
    "import sys\n",
    "#input = sys.stdin.readline\n",
    "#sys.setrecursionlimit(100000)\n",
    "\n",
    "def find_root(target):\n",
    "    if target == parent[target]:\n",
    "        return parent[target]\n",
    "    \n",
    "    parent[target] = find_root(parent[target])\n",
    "    return parent[target]\n",
    "\n",
    "def union(a, b):\n",
    "    a = find_root(a)\n",
    "    b = find_root(b)\n",
    "    \n",
    "    if a > b:\n",
    "        parent[a] = b\n",
    "    else:\n",
    "        parent[b] = a\n",
    "        \n",
    "G = int(input())\n",
    "P = int(input())\n",
    "airplane = []\n",
    "for i in range(P):\n",
    "    airplane.append(int(input()))\n",
    "    \n",
    "parent = [i for i in range(G+1)]\n",
    "count = 0\n",
    "for i in airplane:\n",
    "    g = find_root(i)\n",
    "    if g == 0:\n",
    "        break\n",
    "    union(g, g-1)\n",
    "    count += 1\n",
    "    \n",
    "print(count)"
   ]
  },
  {
   "cell_type": "markdown",
   "metadata": {},
   "source": [
    "## 11000번: 강의실 배정"
   ]
  },
  {
   "cell_type": "code",
   "execution_count": 16,
   "metadata": {},
   "outputs": [
    {
     "name": "stdout",
     "output_type": "stream",
     "text": [
      "3\n",
      "1 3\n",
      "2 4\n",
      "3 5\n",
      "2\n"
     ]
    }
   ],
   "source": [
    "import sys\n",
    "import heapq\n",
    "#input = sys.stdin.readline\n",
    "\n",
    "N = int(input())\n",
    "arr = []\n",
    "for i in range(N):\n",
    "    arr.append(tuple(map(int, input().split())))\n",
    "arr.sort()\n",
    "\n",
    "heap = []\n",
    "heapq.heappush(heap, arr[0][1])\n",
    "\n",
    "for i in range(1, N):\n",
    "    if heap[0] > arr[i][0]:\n",
    "        heapq.heappush(heap, arr[i][1])\n",
    "    else:\n",
    "        heapq.heappop(heap)\n",
    "        heapq.heappush(heap, arr[i][1])\n",
    "        \n",
    "print(len(heap))"
   ]
  },
  {
   "cell_type": "markdown",
   "metadata": {},
   "source": [
    "## 3109번: 빵집"
   ]
  },
  {
   "cell_type": "code",
   "execution_count": 17,
   "metadata": {},
   "outputs": [
    {
     "name": "stdout",
     "output_type": "stream",
     "text": [
      "5 5\n",
      ".xx..\n",
      "..x..\n",
      ".....\n",
      "...x.\n",
      "...x.\n",
      "2\n"
     ]
    }
   ],
   "source": [
    "import sys\n",
    "#input = sys.stdin.readline\n",
    "\n",
    "R, C = map(int, input().split())\n",
    "graph = []\n",
    "for i in range(R):\n",
    "    graph.append(input())\n",
    "\n",
    "visit = [[0]*C for i in range(R)]\n",
    "result = 0\n",
    "find = 0\n",
    "\n",
    "def DFS(x, y):\n",
    "    global result, find\n",
    "    visit[x][y] = 1\n",
    "    if y == C - 1:\n",
    "        result += 1\n",
    "        find = 1\n",
    "    \n",
    "    y += 1\n",
    "    for i in range(-1, 2):\n",
    "        if 0<=x+i<R and y<C and not visit[x+i][y] and graph[x+i][y] == '.':\n",
    "            DFS(x+i, y)\n",
    "            if find:\n",
    "                return\n",
    "\n",
    "for i in range(R):\n",
    "    find = 0\n",
    "    DFS(i, 0)\n",
    "    \n",
    "print(result)"
   ]
  },
  {
   "cell_type": "markdown",
   "metadata": {},
   "source": [
    "## 2812번: 크게 만들기"
   ]
  },
  {
   "cell_type": "code",
   "execution_count": 18,
   "metadata": {},
   "outputs": [
    {
     "name": "stdout",
     "output_type": "stream",
     "text": [
      "10 4\n",
      "4177252841\n",
      "775841"
     ]
    }
   ],
   "source": [
    "import sys\n",
    "#input = sys.stdin.readline\n",
    "\n",
    "N, K = map(int, input().split())\n",
    "arr = list(map(int, input().strip()))\n",
    "\n",
    "result = []\n",
    "num = K\n",
    "\n",
    "for i in range(N):\n",
    "    while num>0 and result and result[-1]<arr[i]:\n",
    "        result.pop()\n",
    "        num -= 1\n",
    "    result.append(arr[i])\n",
    "    \n",
    "for i in result[:N-K]:\n",
    "    print(i, end='')"
   ]
  },
  {
   "cell_type": "markdown",
   "metadata": {},
   "source": [
    "## 2212번: 센서"
   ]
  },
  {
   "cell_type": "code",
   "execution_count": 6,
   "metadata": {},
   "outputs": [
    {
     "name": "stdout",
     "output_type": "stream",
     "text": [
      "6\n",
      "2\n",
      "1 6 9 3 6 7\n",
      "5\n"
     ]
    }
   ],
   "source": [
    "N = int(input())\n",
    "K = int(input())\n",
    "arr = list(map(int, input().split()))\n",
    "\n",
    "arr.sort()\n",
    "\n",
    "result = arr[-1]-arr[0]\n",
    "distance = []\n",
    "for i in range(1, N):\n",
    "    distance.append(arr[i]-arr[i-1])\n",
    "distance.sort(reverse=True)\n",
    "for i in range(min(K-1, N-1)):\n",
    "    result -= distance[i]\n",
    "    \n",
    "print(result)"
   ]
  },
  {
   "cell_type": "markdown",
   "metadata": {},
   "source": [
    "## 1946번: 신입 사원"
   ]
  },
  {
   "cell_type": "code",
   "execution_count": 17,
   "metadata": {},
   "outputs": [
    {
     "name": "stdout",
     "output_type": "stream",
     "text": [
      "2\n",
      "5\n",
      "3 2\n",
      "1 4\n",
      "4 1\n",
      "2 3\n",
      "5 5\n",
      "4\n",
      "7\n",
      "3 6\n",
      "7 3\n",
      "4 2\n",
      "1 4\n",
      "5 7\n",
      "2 5\n",
      "6 1\n",
      "3\n"
     ]
    }
   ],
   "source": [
    "import sys\n",
    "#input = sys.stdin.readline\n",
    "\n",
    "T = int(input())\n",
    "for _ in range(T):\n",
    "    N = int(input())\n",
    "    ranking = []\n",
    "    for i in range(N):\n",
    "        ranking.append(list(map(int, input().split())))\n",
    "\n",
    "    ranking.sort()\n",
    "\n",
    "    cnt = 1\n",
    "    temp = ranking[0][1]\n",
    "    for i in range(1, N):\n",
    "        if temp > ranking[i][1]:\n",
    "            cnt += 1\n",
    "            temp = ranking[i][1]\n",
    "\n",
    "    print(cnt)"
   ]
  },
  {
   "cell_type": "markdown",
   "metadata": {},
   "source": [
    "## 16953번: A → B"
   ]
  },
  {
   "cell_type": "code",
   "execution_count": 37,
   "metadata": {},
   "outputs": [
    {
     "name": "stdout",
     "output_type": "stream",
     "text": [
      "100 40021\n",
      "5\n"
     ]
    }
   ],
   "source": [
    "from collections import deque\n",
    "\n",
    "A, B = map(int, input().split())\n",
    "queue = deque()\n",
    "queue.append((A, 1))\n",
    "answer = -1\n",
    "\n",
    "while queue:\n",
    "    n, cnt = queue.popleft()\n",
    "    if n > B:\n",
    "        continue\n",
    "    if n == B:\n",
    "        answer = cnt\n",
    "        break\n",
    "    queue.append((n*10+1, cnt+1))\n",
    "    queue.append((n*2, cnt+1))\n",
    "    \n",
    "print(answer)"
   ]
  },
  {
   "cell_type": "markdown",
   "metadata": {},
   "source": [
    "## 1041번: 주사위"
   ]
  },
  {
   "cell_type": "code",
   "execution_count": 45,
   "metadata": {},
   "outputs": [
    {
     "name": "stdout",
     "output_type": "stream",
     "text": [
      "500\n"
     ]
    }
   ],
   "source": [
    "N = int(input())\n",
    "arr = list(map(int, input().split()))\n",
    "\n",
    "if N == 1:\n",
    "    print(sum(arr)-max(arr))\n",
    "else:\n",
    "    min_index = arr.index(min(arr))\n",
    "    min2 = min(arr) #2면 최소값\n",
    "    min3 = min(arr) #3면 최소값\n",
    "    if min_index == 0 or min_index == 5:\n",
    "        min2 += min(arr[1:5])\n",
    "        min3 += min([arr[1]+arr[3], arr[3]+arr[4], arr[4]+arr[2], arr[2]+arr[1]])\n",
    "    elif min_index == 1 or min_index == 4:\n",
    "        min2 += min(arr[2:4]+arr[:1]+arr[5:])\n",
    "        min3 += min([arr[0]+arr[2], arr[2]+arr[5], arr[5]+arr[3], arr[3]+arr[0]])\n",
    "    elif min_index == 2 or min_index == 3:\n",
    "        min2 += min(arr[:2]+arr[-2:])\n",
    "        min3 += min([arr[4]+arr[0], arr[0]+arr[1], arr[1]+arr[5], arr[5]+arr[4]])\n",
    "\n",
    "    result = min3 * 4\n",
    "    result += min2 * ((N-1)*4+(N-2)*4)\n",
    "    result += min(arr) * ((N-2)*(N-1)*4+(N-2)**2)\n",
    "    print(result)"
   ]
  },
  {
   "cell_type": "markdown",
   "metadata": {},
   "source": [
    "## 9576번: 책 나눠주기"
   ]
  },
  {
   "cell_type": "code",
   "execution_count": 11,
   "metadata": {
    "ExecuteTime": {
     "end_time": "2021-10-14T05:12:26.801015Z",
     "start_time": "2021-10-14T05:12:20.239809Z"
    }
   },
   "outputs": [
    {
     "name": "stdout",
     "output_type": "stream",
     "text": [
      "1\n",
      "2 3\n",
      "1 2\n",
      "1 2\n",
      "1 2\n",
      "2\n"
     ]
    }
   ],
   "source": [
    "import sys\n",
    "#input = sys.stdin.readline\n",
    "#sys.setrecursionlimit(100000)\n",
    "\n",
    "T = int(input())\n",
    "for t in range(T):\n",
    "    N, M = map(int, input().split())\n",
    "    student = [[0,0]]\n",
    "    for i in range(M):\n",
    "        student.append(list(map(int, input().split())))\n",
    "\n",
    "    books = [0] * (N+1)\n",
    "\n",
    "    def DFS(x):\n",
    "        for i in range(student[x][0], student[x][1]+1):\n",
    "            if visited[i]: continue\n",
    "            visited[i] = 1\n",
    "            if books[i] == 0 or DFS(books[i]):\n",
    "                books[i] = x\n",
    "                return True\n",
    "        return False\n",
    "\n",
    "    cnt = 0\n",
    "    for i in range(1, M+1):\n",
    "        visited = [0] * (N+1)\n",
    "        if DFS(i): cnt += 1\n",
    "\n",
    "    print(cnt)"
   ]
  },
  {
   "cell_type": "markdown",
   "metadata": {},
   "source": [
    "## 1026번: 보물"
   ]
  },
  {
   "cell_type": "code",
   "execution_count": 5,
   "metadata": {},
   "outputs": [
    {
     "name": "stdout",
     "output_type": "stream",
     "text": [
      "9\n",
      "5 15 100 31 39 0 0 3 26\n",
      "11 12 13 2 3 4 5 9 1\n",
      "528\n"
     ]
    }
   ],
   "source": [
    "N = int(input())\n",
    "A = list(map(int, input().split()))\n",
    "B = list(map(int, input().split()))\n",
    "A.sort()\n",
    "B.sort(reverse=True)\n",
    "ans = 0\n",
    "for i in range(N):\n",
    "    ans += A[i]*B[i]\n",
    "print(ans)"
   ]
  },
  {
   "cell_type": "markdown",
   "metadata": {},
   "source": [
    "## 1092번: 배"
   ]
  },
  {
   "cell_type": "code",
   "execution_count": 33,
   "metadata": {},
   "outputs": [
    {
     "name": "stdout",
     "output_type": "stream",
     "text": [
      "3\n",
      "6 8 9\n",
      "5\n",
      "2 5 2 4 7\n",
      "2\n"
     ]
    }
   ],
   "source": [
    "import sys\n",
    "#input = sys.stdin.readline\n",
    "\n",
    "N = int(input())\n",
    "crane = list(map(int, input().split()))\n",
    "M = int(input())\n",
    "box = list(map(int, input().split()))\n",
    "\n",
    "crane.sort(reverse=True)\n",
    "box.sort(reverse=True)\n",
    "\n",
    "flag = 0\n",
    "if crane[0] < box[0]:\n",
    "    flag = 1\n",
    "    \n",
    "time = 0\n",
    "while box and not flag:\n",
    "    for c in crane:\n",
    "        for i in range(len(box)):\n",
    "            if c >= box[i]:\n",
    "                del box[i]\n",
    "                break\n",
    "    time += 1\n",
    "    \n",
    "if flag:\n",
    "    print(-1)\n",
    "else:\n",
    "    print(time)"
   ]
  },
  {
   "cell_type": "markdown",
   "metadata": {},
   "source": [
    "## 13904번: 과제"
   ]
  },
  {
   "cell_type": "code",
   "execution_count": 11,
   "metadata": {
    "ExecuteTime": {
     "end_time": "2021-11-04T03:19:54.838127Z",
     "start_time": "2021-11-04T03:19:54.806150Z"
    }
   },
   "outputs": [
    {
     "name": "stdout",
     "output_type": "stream",
     "text": [
      "185\n"
     ]
    }
   ],
   "source": [
    "import sys\n",
    "import heapq\n",
    "#input = sys.stdin.readline\n",
    "\n",
    "N = int(input())\n",
    "assignment = []\n",
    "for i in range(N):\n",
    "    assignment.append(list(map(int, input().split())))\n",
    "\n",
    "assignment.sort() #일 기준으로 정렬\n",
    "result = []\n",
    "for d, w in assignment:\n",
    "    heapq.heappush(result, w) #점수를 힙에 넣기\n",
    "    while d<len(result): #일수에 맞춰서 낮은 점수 빼기\n",
    "        heapq.heappop(result)\n",
    "print(sum(result))"
   ]
  },
  {
   "cell_type": "markdown",
   "metadata": {},
   "source": [
    "## 1718번: 컵라면"
   ]
  },
  {
   "cell_type": "code",
   "execution_count": 46,
   "metadata": {
    "ExecuteTime": {
     "end_time": "2021-11-17T10:19:44.855958Z",
     "start_time": "2021-11-17T10:19:32.499475Z"
    }
   },
   "outputs": [
    {
     "name": "stdout",
     "output_type": "stream",
     "text": [
      "7\n",
      "1 6\n",
      "1 7\n",
      "3 2\n",
      "3 1\n",
      "2 4\n",
      "2 5\n",
      "6 1\n",
      "15\n"
     ]
    }
   ],
   "source": [
    "import sys\n",
    "import heapq\n",
    "#input = sys.stdin.readline\n",
    "\n",
    "N = int(input())\n",
    "arr = []\n",
    "for i in range(N):\n",
    "    arr.append(list(map(int, input().split())))\n",
    "\n",
    "arr.sort() #데드라인 기준으로 정렬\n",
    "heap = []\n",
    "for i in range(N):\n",
    "    heapq.heappush(heap, arr[i][1])\n",
    "    if len(heap) > arr[i][0]:\n",
    "        heapq.heappop(heap)\n",
    "print(sum(heap))"
   ]
  },
  {
   "cell_type": "markdown",
   "metadata": {},
   "source": [
    "## 8980번: 택배"
   ]
  },
  {
   "cell_type": "code",
   "execution_count": 21,
   "metadata": {},
   "outputs": [
    {
     "name": "stdout",
     "output_type": "stream",
     "text": [
      "6 60\n",
      "5\n",
      "1 2 30\n",
      "2 5 70\n",
      "5 6 60\n",
      "3 4 40\n",
      "1 6 40\n",
      "150\n"
     ]
    }
   ],
   "source": [
    "import sys\n",
    "#input = sys.stdin.readline\n",
    "\n",
    "N, C = map(int, input().split())\n",
    "M = int(input())\n",
    "town = [[] for _ in range(N+1)]\n",
    "for i in range(M):\n",
    "    a, b, c = map(int, input().split())\n",
    "    town[a].append([b, c])\n",
    "    town[a].sort()\n",
    "\n",
    "cnt = 0\n",
    "weight = 0\n",
    "truck = []\n",
    "for i in range(1, N+1): #도착 마을\n",
    "    #도착 박스 빼기\n",
    "    while truck and truck[0][0] == i:\n",
    "        w = truck.pop(0)[1]\n",
    "        cnt += w\n",
    "        weight -= w\n",
    "    #출발 박스 넣기\n",
    "    for d, b in town[i]:\n",
    "        truck.append((d, b))\n",
    "        weight += b\n",
    "    truck.sort()\n",
    "    #먼곳에 도착하는 박스 빼기\n",
    "    last = [-1, -1]\n",
    "    while weight > C:\n",
    "        last = truck.pop(-1)\n",
    "        weight -= last[1]\n",
    "    if weight<C and last != [-1, -1]:\n",
    "        truck.append((last[0], C-weight))\n",
    "        weight += C-weight\n",
    "print(cnt)"
   ]
  },
  {
   "cell_type": "markdown",
   "metadata": {},
   "source": [
    "## 1439번: 뒤집기"
   ]
  },
  {
   "cell_type": "code",
   "execution_count": 7,
   "metadata": {},
   "outputs": [
    {
     "name": "stdout",
     "output_type": "stream",
     "text": [
      "11101101\n",
      "2\n"
     ]
    }
   ],
   "source": [
    "S = input()\n",
    "block = [0, 0]\n",
    "block[int(S[0])] = 1\n",
    "for i in range(1, len(S)):\n",
    "    if S[i-1] != S[i]: block[int(S[i])] += 1\n",
    "print(min(block))"
   ]
  },
  {
   "cell_type": "markdown",
   "metadata": {},
   "source": [
    "## 4796번: 캠핑"
   ]
  },
  {
   "cell_type": "code",
   "execution_count": 4,
   "metadata": {},
   "outputs": [
    {
     "name": "stdout",
     "output_type": "stream",
     "text": [
      "5 8 20\n",
      "Case 1: 14\n",
      "5 8 17\n",
      "Case 2: 11\n",
      "5 8 22\n",
      "Case 3: 15\n",
      "5 8 23\n",
      "Case 4: 15\n",
      "5 15 40\n",
      "Case 5: 15\n",
      "0 0 0\n"
     ]
    }
   ],
   "source": [
    "i = 1\n",
    "while True:\n",
    "    L, P, V = map(int, input().split())\n",
    "    if L == P == V == 0: break\n",
    "    div, mod = divmod(V, P)\n",
    "    print('Case %d: %d'%(i, div*L+min(mod, L)))\n",
    "    i += 1"
   ]
  },
  {
   "cell_type": "markdown",
   "metadata": {},
   "source": [
    "## 2109번: 순회강연"
   ]
  },
  {
   "cell_type": "code",
   "execution_count": 21,
   "metadata": {},
   "outputs": [
    {
     "name": "stdout",
     "output_type": "stream",
     "text": [
      "7\n",
      "20 1\n",
      "2 1\n",
      "10 3\n",
      "100 2\n",
      "8 2\n",
      "5 20\n",
      "50 10\n",
      "185\n"
     ]
    }
   ],
   "source": [
    "import sys\n",
    "#input = sys.stdin.readline\n",
    "import heapq\n",
    "\n",
    "N = int(input())\n",
    "arr = []\n",
    "for i in range(N):\n",
    "    p, d = map(int, input().split())\n",
    "    arr.append((d, p))\n",
    "arr.sort()\n",
    "\n",
    "pay = []\n",
    "for d, p in arr:\n",
    "    if len(pay) >= d:\n",
    "        heapq.heappop(pay)\n",
    "    heapq.heappush(pay, p)\n",
    "print(sum(pay))"
   ]
  },
  {
   "cell_type": "markdown",
   "metadata": {},
   "source": [
    "## 1461번: 도서관"
   ]
  },
  {
   "cell_type": "code",
   "execution_count": 72,
   "metadata": {},
   "outputs": [
    {
     "name": "stdout",
     "output_type": "stream",
     "text": [
      "7 2\n",
      "-37 2 -6 -39 -29 11 -28\n",
      "131\n"
     ]
    }
   ],
   "source": [
    "N, M = map(int, input().split())\n",
    "arr = list(map(int, input().split()))\n",
    "\n",
    "arr.sort()\n",
    "ans = 0\n",
    "for i in range(0, N, M):\n",
    "    if arr[i]>=0: break\n",
    "    ans += abs(arr[i])*2\n",
    "for i in range(N-1, -1, -M):\n",
    "    if arr[i]<=0: break\n",
    "    ans += arr[i]*2\n",
    "print(ans - max(abs(arr[0]), arr[-1]))"
   ]
  },
  {
   "cell_type": "markdown",
   "metadata": {},
   "source": [
    "## 1343번: 폴리오미노"
   ]
  },
  {
   "cell_type": "code",
   "execution_count": 15,
   "metadata": {},
   "outputs": [
    {
     "name": "stdout",
     "output_type": "stream",
     "text": [
      "XX.XX\n",
      "BB.BB\n"
     ]
    }
   ],
   "source": [
    "board = input()\n",
    "\n",
    "result = ''\n",
    "cnt = 0\n",
    "def add_polyomino(result, cnt):\n",
    "    if cnt%2:\n",
    "        return -1\n",
    "    div, mod = divmod(cnt, 4)\n",
    "    result += 'AAAA'*div + 'B'*mod\n",
    "    return result\n",
    "    \n",
    "for s in board:\n",
    "    if s == '.':\n",
    "        result = add_polyomino(result, cnt)\n",
    "        if result == -1: break\n",
    "        result += '.'\n",
    "        cnt = 0\n",
    "    else:\n",
    "        cnt += 1\n",
    "if result != -1:\n",
    "    result = add_polyomino(result, cnt)\n",
    "    \n",
    "print(result)"
   ]
  },
  {
   "cell_type": "code",
   "execution_count": 18,
   "metadata": {},
   "outputs": [
    {
     "name": "stdout",
     "output_type": "stream",
     "text": [
      "XX.XX\n",
      "BB.BB\n"
     ]
    }
   ],
   "source": [
    "board = input()\n",
    "board = board.replace('XXXX', 'AAAA').replace('XX', 'BB')\n",
    "if 'X' in board: print(-1)\n",
    "else: print(board)"
   ]
  },
  {
   "cell_type": "markdown",
   "metadata": {},
   "source": [
    "## 15903번: 카드 합체 놀이"
   ]
  },
  {
   "cell_type": "code",
   "execution_count": 10,
   "metadata": {},
   "outputs": [
    {
     "name": "stdout",
     "output_type": "stream",
     "text": [
      "4 2\n",
      "4 2 3 1\n",
      "19\n"
     ]
    }
   ],
   "source": [
    "import heapq\n",
    "\n",
    "n, m = map(int, input().split())\n",
    "arr = list(map(int, input().split()))\n",
    "\n",
    "heap = []\n",
    "for a in arr:\n",
    "    heapq.heappush(heap, a)\n",
    "    \n",
    "for i in range(m):\n",
    "    a = heapq.heappop(heap)\n",
    "    b = heapq.heappop(heap)\n",
    "    heapq.heappush(heap, a+b)\n",
    "    heapq.heappush(heap, a+b)\n",
    "print(sum(heap))"
   ]
  }
 ],
 "metadata": {
  "kernelspec": {
   "display_name": "Python 3 (ipykernel)",
   "language": "python",
   "name": "python3"
  },
  "language_info": {
   "codemirror_mode": {
    "name": "ipython",
    "version": 3
   },
   "file_extension": ".py",
   "mimetype": "text/x-python",
   "name": "python",
   "nbconvert_exporter": "python",
   "pygments_lexer": "ipython3",
   "version": "3.9.12"
  },
  "toc": {
   "base_numbering": 1,
   "nav_menu": {},
   "number_sections": true,
   "sideBar": true,
   "skip_h1_title": false,
   "title_cell": "Table of Contents",
   "title_sidebar": "Contents",
   "toc_cell": false,
   "toc_position": {},
   "toc_section_display": true,
   "toc_window_display": false
  },
  "varInspector": {
   "cols": {
    "lenName": 16,
    "lenType": 16,
    "lenVar": 40
   },
   "kernels_config": {
    "python": {
     "delete_cmd_postfix": "",
     "delete_cmd_prefix": "del ",
     "library": "var_list.py",
     "varRefreshCmd": "print(var_dic_list())"
    },
    "r": {
     "delete_cmd_postfix": ") ",
     "delete_cmd_prefix": "rm(",
     "library": "var_list.r",
     "varRefreshCmd": "cat(var_dic_list()) "
    }
   },
   "position": {
    "height": "249.645px",
    "left": "466.31px",
    "right": "20px",
    "top": "127.983px",
    "width": "350px"
   },
   "types_to_exclude": [
    "module",
    "function",
    "builtin_function_or_method",
    "instance",
    "_Feature"
   ],
   "window_display": false
  }
 },
 "nbformat": 4,
 "nbformat_minor": 4
}
