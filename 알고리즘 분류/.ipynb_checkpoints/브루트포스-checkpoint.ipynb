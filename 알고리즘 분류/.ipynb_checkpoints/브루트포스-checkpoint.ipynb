{
 "cells": [
  {
   "cell_type": "markdown",
   "metadata": {},
   "source": [
    "## 1107번: 리모컨"
   ]
  },
  {
   "cell_type": "code",
   "execution_count": 49,
   "metadata": {},
   "outputs": [
    {
     "name": "stdout",
     "output_type": "stream",
     "text": [
      "500000\n",
      "8\n",
      "0 2 3 4 6 7 8 9\n",
      "11117\n"
     ]
    }
   ],
   "source": [
    "import sys\n",
    "#input = sys.stdin.readline\n",
    "\n",
    "N = int(input())\n",
    "M = int(input())\n",
    "broken = list(map(int, input().split()))\n",
    "\n",
    "button = [True]*10\n",
    "for i in broken:\n",
    "    button[i] = False\n",
    "    \n",
    "cnt = abs(N-100) #현재위치(100)에서 이동\n",
    "\n",
    "for i in range(1000001):\n",
    "    if check_num(i):\n",
    "        cnt = min(cnt, len(str(i))+abs(N-i))\n",
    "\n",
    "print(cnt)"
   ]
  },
  {
   "cell_type": "markdown",
   "metadata": {},
   "source": [
    "## 1182번: 부분수열의 합"
   ]
  },
  {
   "cell_type": "code",
   "execution_count": 15,
   "metadata": {},
   "outputs": [
    {
     "name": "stdout",
     "output_type": "stream",
     "text": [
      "5 0\n",
      "-7 -3 -2 5 8\n",
      "1\n"
     ]
    }
   ],
   "source": [
    "from itertools import combinations\n",
    "\n",
    "N, S = map(int, input().split())\n",
    "arr = list(map(int, input().split()))\n",
    "\n",
    "cnt = 0\n",
    "for i in range(N+1):\n",
    "    for c in combinations(arr, i):\n",
    "        if c and sum(c) == S: cnt += 1\n",
    "print(cnt)"
   ]
  },
  {
   "cell_type": "markdown",
   "metadata": {},
   "source": [
    "## 10971번: 외판원 순회2"
   ]
  },
  {
   "cell_type": "code",
   "execution_count": 4,
   "metadata": {},
   "outputs": [
    {
     "name": "stdout",
     "output_type": "stream",
     "text": [
      "4\n",
      "0 10 15 20\n",
      "5 0 9 10\n",
      "6 13 0 12\n",
      "8 8 9 0\n",
      "35\n"
     ]
    }
   ],
   "source": [
    "import sys\n",
    "#input = sys.stdin.readline\n",
    "MAX = sys.maxsize\n",
    "\n",
    "result = MAX\n",
    "def DFS(n, w):\n",
    "    global result, s\n",
    "    if result < w:\n",
    "        return MAX\n",
    "    if sum(visited) == N-1:\n",
    "        if graph[n][s] == 0: #시작지점으로가는 경로가 없을 경우\n",
    "            return MAX\n",
    "        return w+graph[n][s]\n",
    "    \n",
    "    visited[n] = 1\n",
    "    for i in range(N):\n",
    "        if not visited[i] and graph[n][i] != 0:\n",
    "            result = min(result, DFS(i, w+graph[n][i]))\n",
    "    visited[n] = 0\n",
    "    \n",
    "    return result\n",
    "\n",
    "N = int(input())\n",
    "graph = []\n",
    "for i in range(N):\n",
    "    graph.append(list(map(int, input().split())))\n",
    "    \n",
    "visited = [0] * N\n",
    "for s in range(N):\n",
    "    result = min(result, DFS(s, 0))\n",
    "print(result)"
   ]
  },
  {
   "cell_type": "markdown",
   "metadata": {},
   "source": [
    "## 2468번: 안전 영역"
   ]
  },
  {
   "cell_type": "code",
   "execution_count": 9,
   "metadata": {},
   "outputs": [
    {
     "name": "stdout",
     "output_type": "stream",
     "text": [
      "7\n",
      "9 9 9 9 9 9 9\n",
      "9 2 1 2 1 2 9\n",
      "9 1 8 7 8 1 9\n",
      "9 2 7 9 7 2 9\n",
      "9 1 8 7 8 1 9\n",
      "9 2 1 2 1 2 9\n",
      "9 9 9 9 9 9 9\n",
      "6\n"
     ]
    }
   ],
   "source": [
    "import sys\n",
    "#input = sys.stdin.readline\n",
    "#sys.setrecursionlimit(100000)\n",
    "\n",
    "N = int(input())\n",
    "height = []\n",
    "for i in range(N):\n",
    "    height.append(list(map(int, input().split())))\n",
    "    \n",
    "ni = [-1, 1, 0, 0]\n",
    "nj = [0, 0, -1, 1]\n",
    "def DFS(h, i, j, cnt):\n",
    "    visited[i][j] = 1\n",
    "    for n in range(4):\n",
    "        if 0<=i+ni[n]<N and 0<=j+nj[n]<N:\n",
    "            if not visited[i+ni[n]][j+nj[n]] and height[i+ni[n]][j+nj[n]] > h:\n",
    "                DFS(h, i+ni[n], j+nj[n], cnt)\n",
    "\n",
    "result = 0\n",
    "for h in range(101):\n",
    "    cnt = 0\n",
    "    visited = [[0]*N for _ in range(N)]\n",
    "    for i in range(N):\n",
    "        for j in range(N):\n",
    "            if not visited[i][j] and height[i][j] > h:\n",
    "                cnt += 1\n",
    "                DFS(h, i, j, cnt)\n",
    "    if cnt == 0:\n",
    "        break\n",
    "    result = max(result, cnt)\n",
    "                \n",
    "print(result)"
   ]
  },
  {
   "cell_type": "markdown",
   "metadata": {},
   "source": [
    "## 15683번: 감시"
   ]
  },
  {
   "cell_type": "code",
   "execution_count": 49,
   "metadata": {},
   "outputs": [
    {
     "name": "stdout",
     "output_type": "stream",
     "text": [
      "4 6\n",
      "0 0 0 0 0 0\n",
      "0 0 0 0 0 0\n",
      "0 0 1 0 6 0\n",
      "0 0 0 0 0 0\n",
      "20\n"
     ]
    }
   ],
   "source": [
    "import sys\n",
    "#input = sys.stdin.readline\n",
    "from copy import deepcopy\n",
    "\n",
    "N, M = map(int, input().split())\n",
    "matrix = []\n",
    "for i in range(N):\n",
    "    matrix.append(list(map(int, input().split())))\n",
    "\n",
    "cctv = []\n",
    "for i in range(N):\n",
    "    for j in range(M):\n",
    "        if 0 < matrix[i][j] <6:\n",
    "            cctv.append([i, j])\n",
    "\n",
    "di = [-1, 0, 1, 0] #위, 오른쪽, 아래, 왼쪽\n",
    "dj = [0, 1, 0, -1]\n",
    "def fill(d, i, j, visited):\n",
    "    global N, M\n",
    "    while True:\n",
    "        if 0<=i<N and 0<=j<M and matrix[i][j] != 6:\n",
    "            visited[i][j] = 1\n",
    "            i += di[d]\n",
    "            j += dj[d]\n",
    "        else:\n",
    "            break\n",
    "\n",
    "cnt = 64\n",
    "def check_cctv(c, visited):#설치된 cctv개수\n",
    "    #cctv가 모두 설치되었을 때\n",
    "    if c == len(cctv): \n",
    "        temp = 0\n",
    "        for i in range(N):\n",
    "            for j in range(M):\n",
    "                if matrix[i][j] == 0 and visited[i][j] == 0:\n",
    "                    temp += 1\n",
    "        global cnt\n",
    "        cnt = min(cnt, temp)\n",
    "        return\n",
    "        \n",
    "    #설치되지않은 cctv가 남았을 때\n",
    "    i = cctv[c][0]\n",
    "    j = cctv[c][1]\n",
    "    if matrix[i][j] == 1:\n",
    "        for d in range(4):\n",
    "            next_visited = deepcopy(visited)\n",
    "            fill(d, i, j, next_visited)\n",
    "            check_cctv(c+1, next_visited)\n",
    "    elif matrix[i][j] == 2:\n",
    "        for d in range(2):\n",
    "            next_visited = deepcopy(visited)\n",
    "            fill(d, i, j, next_visited)\n",
    "            fill(d+2, i, j, next_visited)\n",
    "            check_cctv(c+1, next_visited)\n",
    "    elif matrix[i][j] == 3:\n",
    "        for d in range(4):\n",
    "            next_visited = deepcopy(visited)\n",
    "            fill(d, i, j, next_visited)\n",
    "            fill((d+1)%4, i, j, next_visited)\n",
    "            check_cctv(c+1, next_visited)\n",
    "    elif matrix[i][j] == 4:\n",
    "        for d in range(4):\n",
    "            next_visited = deepcopy(visited)\n",
    "            fill(d, i, j, next_visited)\n",
    "            fill((d+1)%4, i, j, next_visited)\n",
    "            fill((d+2)%4, i, j, next_visited)\n",
    "            check_cctv(c+1, next_visited)\n",
    "    elif matrix[i][j] == 5:\n",
    "        next_visited = deepcopy(visited)\n",
    "        for d in range(4):\n",
    "            fill(d, i, j, next_visited)\n",
    "        check_cctv(c+1, next_visited)\n",
    "        \n",
    "visited = [[0]*M for _ in range(N)]\n",
    "check_cctv(0, visited)\n",
    "print(cnt)"
   ]
  },
  {
   "cell_type": "markdown",
   "metadata": {},
   "source": [
    "## 10819번: 차이를 최대로"
   ]
  },
  {
   "cell_type": "code",
   "execution_count": 1,
   "metadata": {},
   "outputs": [
    {
     "name": "stdout",
     "output_type": "stream",
     "text": [
      "6\n",
      "20 1 15 8 4 10\n",
      "62\n"
     ]
    }
   ],
   "source": [
    "from itertools import permutations\n",
    "N = int(input())\n",
    "arr = list(map(int, input().split()))\n",
    "result = -1\n",
    "\n",
    "for p in permutations(arr, N):\n",
    "    temp = 0\n",
    "    for i in range(N-1):\n",
    "        temp += abs(p[i]-p[i+1])\n",
    "    result = max(result, temp)\n",
    "    \n",
    "print(result)"
   ]
  },
  {
   "cell_type": "markdown",
   "metadata": {},
   "source": [
    "## 10794번: 모든 순열"
   ]
  },
  {
   "cell_type": "code",
   "execution_count": 19,
   "metadata": {},
   "outputs": [
    {
     "name": "stdout",
     "output_type": "stream",
     "text": [
      "3\n",
      "1 2 3\n",
      "1 3 2\n",
      "2 1 3\n",
      "2 3 1\n",
      "3 1 2\n",
      "3 2 1\n"
     ]
    }
   ],
   "source": [
    "from itertools import permutations\n",
    "arr = list(range(1, int(input())+1))\n",
    "for a in permutations(arr):\n",
    "    print(*a)"
   ]
  },
  {
   "cell_type": "markdown",
   "metadata": {},
   "source": [
    "## 1038번: 감소하는 수"
   ]
  },
  {
   "cell_type": "code",
   "execution_count": 1,
   "metadata": {},
   "outputs": [
    {
     "name": "stdout",
     "output_type": "stream",
     "text": [
      "18\n",
      "42\n"
     ]
    }
   ],
   "source": [
    "number = []\n",
    "def find(d, n):\n",
    "    if len(n)==d:\n",
    "        number.append(n)\n",
    "        return\n",
    "    if n == '':\n",
    "        for i in range(d-1, 10):\n",
    "            find(d, n+str(i))\n",
    "        return\n",
    "    for i in range(d-len(n)-1, int(n[-1])):\n",
    "        find(d, n+str(i))\n",
    "for i in range(1, 11):\n",
    "    find(i, '')\n",
    "    \n",
    "try:\n",
    "    print(number[int(input())])\n",
    "except:\n",
    "    print(-1)"
   ]
  },
  {
   "cell_type": "markdown",
   "metadata": {},
   "source": [
    "## 2529번: 부등호"
   ]
  },
  {
   "cell_type": "code",
   "execution_count": 33,
   "metadata": {},
   "outputs": [
    {
     "name": "stdout",
     "output_type": "stream",
     "text": [
      "9\n",
      "> < < < > > > < <\n",
      "9567843012\n",
      "1023765489\n"
     ]
    }
   ],
   "source": [
    "def find(n, d):\n",
    "    if n == k+1:\n",
    "        return ''.join(map(str, result))\n",
    "    \n",
    "    if d == -1: #역방향\n",
    "        start, end = 9, -1\n",
    "        if n == 0: pass\n",
    "        elif sign[n-1] == '<': end = result[-1]\n",
    "        else: start = result[-1]\n",
    "    else: #정방향\n",
    "        start, end = 0, 10\n",
    "        if n == 0: pass\n",
    "        elif sign[n-1] == '<': start = result[-1]\n",
    "        else: end = result[-1]\n",
    "        \n",
    "    for i in range(start, end, d):\n",
    "        if i not in result:\n",
    "            result.append(i)\n",
    "            temp = find(n+1, d)\n",
    "            if temp: return temp\n",
    "            del result[-1]\n",
    "            \n",
    "k = int(input())\n",
    "sign = input().split()\n",
    "        \n",
    "result = []\n",
    "print(find(0, -1))\n",
    "result = []\n",
    "print(find(0, 1))"
   ]
  },
  {
   "cell_type": "markdown",
   "metadata": {},
   "source": [
    "## 16637번: 괄호 추가하기"
   ]
  },
  {
   "cell_type": "code",
   "execution_count": 73,
   "metadata": {},
   "outputs": [
    {
     "name": "stdout",
     "output_type": "stream",
     "text": [
      "9\n",
      "3+8*7-9*2\n",
      "136\n"
     ]
    }
   ],
   "source": [
    "N = int(input())\n",
    "arr = list(map(str, input().strip()))\n",
    "\n",
    "def calculator(arr):#수식 계산\n",
    "    result = int(arr[0])\n",
    "    for i in range(1, len(arr), 2):\n",
    "        if arr[i] == '+':\n",
    "            result += int(arr[i+1])\n",
    "        elif arr[i] == '-':\n",
    "            result -= int(arr[i+1])\n",
    "        elif arr[i] == '*':\n",
    "            result *= int(arr[i+1])\n",
    "    return result\n",
    "\n",
    "MAX = calculator(arr[:])\n",
    "bracket = (N+2)//4 #괄호 최대 수치\n",
    "def merge(n, arr, s): #필요한 괄호 수, 수식배열, 시작위치\n",
    "    if n == 0:\n",
    "        global MAX\n",
    "        MAX = max(MAX, calculator(arr[:]))\n",
    "    else:\n",
    "        for i in range(s, len(arr), 2):\n",
    "            temp = arr[:]\n",
    "            temp[i-1:i+2] = [calculator(temp[i-1:i+2])]\n",
    "            merge(n-1, temp, i+2)\n",
    "            \n",
    "for i in range(bracket, 0, -1):\n",
    "    merge(i, arr, 1)\n",
    "    \n",
    "print(MAX)"
   ]
  },
  {
   "cell_type": "markdown",
   "metadata": {},
   "source": [
    "## 17136번: 색종이 붙이기"
   ]
  },
  {
   "cell_type": "code",
   "execution_count": 92,
   "metadata": {},
   "outputs": [
    {
     "name": "stdout",
     "output_type": "stream",
     "text": [
      "0 0 0 0 0 0 0 0 0 0\n",
      "0 1 1 0 0 0 0 0 0 0\n",
      "0 1 1 1 0 0 0 0 0 0\n",
      "0 0 1 1 1 1 1 0 0 0\n",
      "0 0 0 1 1 1 1 0 0 0\n",
      "0 0 0 0 1 1 1 0 0 0\n",
      "0 0 1 0 0 0 0 0 0 0\n",
      "0 0 0 0 0 0 0 0 0 0\n",
      "0 0 0 0 0 0 0 0 0 0\n",
      "0 0 0 0 0 0 0 0 0 0\n",
      "7\n"
     ]
    }
   ],
   "source": [
    "import sys\n",
    "#input = sys.stdin.readline\n",
    "\n",
    "matrix = []\n",
    "for i in range(10):\n",
    "    matrix.append(list(map(int, input().split())))\n",
    "\n",
    "#해당 사이즈의 색종이를 붙일 수 있는지 확인\n",
    "def check(y, x, size, matrix, paper):\n",
    "    if y+size>10 or x+size>10 or not paper[size]:\n",
    "        return 0\n",
    "    for i in range(y, y+size):\n",
    "        for j in range(x, x+size):\n",
    "            if matrix[i][j] == 0:\n",
    "                return 0\n",
    "    return 1\n",
    "\n",
    "#색종이 붙이기&떼기\n",
    "def stick(y, x, size, matrix, b):\n",
    "    for i in range(y, y+size):\n",
    "        for j in range(x, x+size):\n",
    "            matrix[i][j] = b\n",
    "    \n",
    "#색종이 붙일곳 찾기\n",
    "def find(matrix, cnt, paper): #남은칸, 색종이 붙인 개수\n",
    "    for i in range(10):\n",
    "        for j in range(10):\n",
    "            if matrix[i][j] == 1:\n",
    "                for k in range(1, 6):\n",
    "                    if check(i, j, k, matrix, paper):\n",
    "                        paper[k] -= 1\n",
    "                        stick(i, j, k, matrix, 0)\n",
    "                        find(matrix, cnt+1, paper)\n",
    "                        paper[k] += 1 #종이 돌려놓기\n",
    "                        stick(i, j, k, matrix, 1) #복구\n",
    "                return\n",
    "    global result\n",
    "    if result == -1: result = cnt\n",
    "    else: result = min(result, cnt)\n",
    "        \n",
    "paper = [0, 5, 5, 5, 5, 5]\n",
    "result = -1\n",
    "find(matrix, 0, paper)\n",
    "print(result)"
   ]
  },
  {
   "cell_type": "markdown",
   "metadata": {},
   "source": [
    "## 1051번: 숫자 정사각형"
   ]
  },
  {
   "cell_type": "code",
   "execution_count": 27,
   "metadata": {},
   "outputs": [
    {
     "name": "stdout",
     "output_type": "stream",
     "text": [
      "11 10\n",
      "9785409507\n",
      "2055103694\n",
      "0861396761\n",
      "3073207669\n",
      "1233049493\n",
      "2300248968\n",
      "9769239548\n",
      "7984130001\n",
      "1670020095\n",
      "8894239889\n",
      "4053971072\n",
      "49\n"
     ]
    }
   ],
   "source": [
    "def check(i, j, k):\n",
    "    if i+k>=N or j+k>=M: return False\n",
    "    if graph[i][j] == graph[i][j+k] == graph[i+k][j] == graph[i+k][j+k]:\n",
    "        return True\n",
    "    return False\n",
    "\n",
    "N, M = map(int, input().split())\n",
    "graph = []\n",
    "for i in range(N):\n",
    "    graph.append(list(map(int, input().strip())))\n",
    "\n",
    "ans = 1\n",
    "for i in range(N):\n",
    "    for j in range(M):\n",
    "        for k in range(1, min(N, M)):\n",
    "            if check(i, j, k): ans = max(ans, 1+k)\n",
    "print(ans**2)"
   ]
  },
  {
   "cell_type": "markdown",
   "metadata": {},
   "source": [
    "## 2503번: 숫자 야구"
   ]
  },
  {
   "cell_type": "code",
   "execution_count": 41,
   "metadata": {},
   "outputs": [],
   "source": [
    "from itertools import permutations\n",
    "num = list(permutations([1, 2, 3, 4, 5, 6, 7, 8, 9], 3))\n",
    "\n",
    "def compare(num1, num2, strike, ball):\n",
    "    for i in range(3):\n",
    "        if num1[i] == num2[i]: strike -= 1\n",
    "        elif num2[i] in num1: ball -= 1\n",
    "    if strike == 0 and ball == 0: return 1\n",
    "    else: return 0\n",
    "    \n",
    "N = int(input())\n",
    "\n",
    "for _ in range(N):\n",
    "    n, strike, ball = map(int, input().split())\n",
    "    n = list(map(int, str(n).strip()))\n",
    "    i = 0\n",
    "    while i < len(num):\n",
    "        if not compare(n, num[i], strike, ball):\n",
    "            del num[i]\n",
    "        else: i+=1\n",
    "print(len(num))"
   ]
  },
  {
   "cell_type": "markdown",
   "metadata": {},
   "source": [
    "## 10655번: 마라톤 1"
   ]
  },
  {
   "cell_type": "code",
   "execution_count": 10,
   "metadata": {},
   "outputs": [
    {
     "name": "stdout",
     "output_type": "stream",
     "text": [
      "4\n",
      "0 0\n",
      "8 3\n",
      "11 -1\n",
      "10 0\n",
      "14\n"
     ]
    }
   ],
   "source": [
    "import sys\n",
    "#input = sys.stdin.readline\n",
    "\n",
    "N = int(input())\n",
    "cp = []\n",
    "for _ in range(N):\n",
    "    cp.append(list(map(int, input().split())))\n",
    "\n",
    "distance = [0]*N #순서대로 갔을때 누적거리\n",
    "max_dif = 0 #건너뛰었을때의 값과 순서대로 갔을때의 값 최대 차이\n",
    "\n",
    "for i in range(1, N):\n",
    "    #총 거리\n",
    "    x1, y1 = cp[i-1]\n",
    "    x2, y2 = cp[i]\n",
    "    distance[i] = abs(x1-x2)+abs(y1-y2)+distance[i-1]\n",
    "    \n",
    "    #이전 체크포인트를 건너뛰었을때\n",
    "    if i==1: continue\n",
    "    x0, y0 = cp[i-2]\n",
    "    skip = abs(x0-x2)+abs(y0-y2)+distance[i-2]\n",
    "    \n",
    "    max_dif = max(max_dif, distance[i]-skip)\n",
    "    \n",
    "print(distance[-1]-max_dif)"
   ]
  },
  {
   "cell_type": "markdown",
   "metadata": {},
   "source": [
    "## 17471번: 게리맨더링"
   ]
  },
  {
   "cell_type": "code",
   "execution_count": 72,
   "metadata": {},
   "outputs": [
    {
     "name": "stdout",
     "output_type": "stream",
     "text": [
      "6\n",
      "5 2 3 4 1 2\n",
      "2 2 4\n",
      "4 1 3 6 5\n",
      "2 4 2\n",
      "2 1 3\n",
      "1 2\n",
      "1 2\n",
      "1\n"
     ]
    }
   ],
   "source": [
    "import sys\n",
    "from itertools import combinations \n",
    "from collections import deque\n",
    "#input = sys.stdin.readline\n",
    "\n",
    "def BFS(visited, arr):\n",
    "    queue = deque()\n",
    "    queue.append(arr[0])\n",
    "    visited[arr[0]] = 1\n",
    "    cnt = 0\n",
    "    while queue:\n",
    "        v = queue.popleft()\n",
    "        cnt += population[v]\n",
    "        for n in graph[v]:\n",
    "            if not visited[n] and n in arr and n!=0:\n",
    "                queue.append(n)\n",
    "                visited[n] = 1\n",
    "    return cnt\n",
    "\n",
    "N = int(input())\n",
    "population = [0] + list(map(int, input().split()))\n",
    "graph = [[]]\n",
    "for i in range(N):\n",
    "    graph.append(list(map(int, input().split()))[1:])\n",
    "    \n",
    "list_range = list(range(1, N+1))\n",
    "ans = sys.maxsize\n",
    "for i in range(1, N//2+1):\n",
    "    comb = list(combinations(list_range, i))\n",
    "    for c in comb:\n",
    "        visited = [0]*(N+1)\n",
    "        cnt1 = BFS(visited, c)\n",
    "        cnt2 = BFS(visited, [i for i in range(1, N+1) if i not in c])\n",
    "        #print(visited, cnt1, cnt2, c, [i for i in range(1, N+1) if i not in c])\n",
    "        if sum(visited) == N:\n",
    "            ans = min(ans, abs(cnt1-cnt2))\n",
    "            \n",
    "if ans == sys.maxsize: print(-1)\n",
    "else: print(ans)"
   ]
  },
  {
   "cell_type": "markdown",
   "metadata": {},
   "source": [
    "## 2210번: 숫자판 점프"
   ]
  },
  {
   "cell_type": "code",
   "execution_count": 13,
   "metadata": {},
   "outputs": [
    {
     "name": "stdout",
     "output_type": "stream",
     "text": [
      "1 1 1 1 1\n",
      "1 1 1 1 1\n",
      "1 1 1 1 1\n",
      "1 1 1 2 1\n",
      "1 1 1 1 1\n",
      "15\n"
     ]
    }
   ],
   "source": [
    "arr = []\n",
    "for _ in range(5):\n",
    "    arr.append(list(input().split()))\n",
    "\n",
    "result = set()\n",
    "dij = [(-1, 0), (1, 0), (0, -1), (0, 1)]\n",
    "\n",
    "def DFS(i, j, s):\n",
    "    if len(s)==6:\n",
    "        result.add(s)\n",
    "        return\n",
    "        \n",
    "    for di, dj in dij:\n",
    "        ni, nj = di+i, dj+j\n",
    "        if not (0<=ni<5 and 0<=nj<5): continue\n",
    "        DFS(ni, nj, s+arr[ni][nj])\n",
    "        \n",
    "for i in range(5):\n",
    "    for j in range(5):\n",
    "        DFS(i, j, arr[i][j])\n",
    "        \n",
    "print(len(result))"
   ]
  },
  {
   "cell_type": "markdown",
   "metadata": {},
   "source": [
    "## 2961번: 도영이가 만든 맛있는 음식"
   ]
  },
  {
   "cell_type": "code",
   "execution_count": 27,
   "metadata": {},
   "outputs": [
    {
     "name": "stdout",
     "output_type": "stream",
     "text": [
      "4\n",
      "1 7\n",
      "2 6\n",
      "3 8\n",
      "4 9\n",
      "1\n"
     ]
    }
   ],
   "source": [
    "import sys\n",
    "#input = sys.stdin.readline\n",
    "\n",
    "N = int(input())\n",
    "taste = []\n",
    "for _ in range(N):\n",
    "    taste.append(tuple(map(int, input().split())))\n",
    "\n",
    "result = sys.maxsize\n",
    "visited = [0]*N\n",
    "def DFS(left, right, n):\n",
    "    global result\n",
    "    if right != 0:\n",
    "        visited[n] = 1\n",
    "        result = min(result, abs(left-right))\n",
    "    for i in range(N):\n",
    "        if not visited[i]:\n",
    "            DFS(left*taste[i][0], right+taste[i][1], i)\n",
    "    visited[n] = 0\n",
    "\n",
    "DFS(1, 0, 0)\n",
    "print(result)"
   ]
  },
  {
   "cell_type": "markdown",
   "metadata": {},
   "source": [
    "## 2615번: 오목"
   ]
  },
  {
   "cell_type": "code",
   "execution_count": 1,
   "metadata": {},
   "outputs": [
    {
     "name": "stdout",
     "output_type": "stream",
     "text": [
      "0 0 0 0 0 0 0 0 0 0 0 0 0 0 0 0 0 0 0\n",
      "0 0 0 0 0 0 0 0 0 0 0 0 0 0 0 0 0 0 0\n",
      "0 1 2 0 0 2 2 2 1 0 0 0 0 0 0 0 0 0 0\n",
      "0 0 1 2 0 0 0 0 1 0 0 0 0 0 0 0 0 0 0\n",
      "0 0 0 1 2 0 0 0 0 0 0 0 0 0 0 0 0 0 0\n",
      "0 0 0 0 1 2 2 0 0 0 0 0 0 0 0 0 0 0 0\n",
      "0 0 1 1 0 1 0 0 0 0 0 0 0 0 0 0 0 0 0\n",
      "0 0 0 0 0 0 2 1 0 0 0 0 0 0 0 0 0 0 0\n",
      "0 0 0 0 0 0 0 0 0 0 0 0 0 0 0 0 0 0 0\n",
      "0 0 0 0 0 0 0 0 0 0 0 0 0 0 0 0 0 0 0\n",
      "0 0 0 0 0 0 0 0 0 0 0 0 0 0 0 0 0 0 0\n",
      "0 0 0 0 0 0 0 0 0 0 0 0 0 0 0 0 0 0 0\n",
      "0 0 0 0 0 0 0 0 0 0 0 0 0 0 0 0 0 0 0\n",
      "0 0 0 0 0 0 0 0 0 0 0 0 0 0 0 0 0 0 0\n",
      "0 0 0 0 0 0 0 0 0 0 0 0 0 0 0 0 0 0 0\n",
      "0 0 0 0 0 0 0 0 0 0 0 0 0 0 0 0 0 0 0\n",
      "0 0 0 0 0 0 0 0 0 0 0 0 0 0 0 0 0 0 0\n",
      "0 0 0 0 0 0 0 0 0 0 0 0 0 0 0 0 0 0 0\n",
      "0 0 0 0 0 0 0 0 0 0 0 0 0 0 0 0 0 0 0\n"
     ]
    }
   ],
   "source": [
    "board = []\n",
    "for _ in range(19):\n",
    "    board.append(list(map(int, input().split())))"
   ]
  },
  {
   "cell_type": "code",
   "execution_count": 32,
   "metadata": {},
   "outputs": [],
   "source": [
    "#https://www.acmicpc.net/board/view/83278\n",
    "board = [[0, 0, 0, 0, 0, 0, 0, 0, 0, 0, 0, 0, 0, 0, 0, 0, 0, 0, 0],\n",
    " [0, 0, 0, 0, 0, 0, 0, 0, 0, 0, 0, 0, 0, 0, 0, 0, 0, 0, 0],\n",
    " [0, 0, 0, 0, 0, 0, 0, 0, 0, 0, 0, 0, 0, 0, 0, 0, 0, 0, 0],\n",
    " [0, 0, 0, 0, 0, 0, 0, 0, 0, 0, 0, 0, 0, 0, 0, 0, 0, 0, 0],\n",
    " [0, 0, 0, 0, 0, 0, 0, 0, 0, 0, 0, 0, 0, 0, 0, 0, 0, 0, 0],\n",
    " [0, 0, 0, 0, 0, 0, 0, 0, 0, 0, 0, 0, 0, 0, 0, 0, 0, 0, 0],\n",
    " [0, 0, 0, 0, 0, 0, 0, 0, 0, 0, 0, 0, 0, 0, 0, 0, 0, 0, 0],\n",
    " [0, 0, 0, 0, 0, 0, 0, 0, 0, 0, 0, 0, 0, 0, 0, 0, 0, 0, 0],\n",
    " [0, 0, 0, 0, 0, 0, 0, 0, 0, 0, 0, 0, 0, 0, 0, 0, 0, 0, 2],\n",
    " [0, 0, 0, 0, 0, 0, 0, 0, 0, 0, 0, 0, 0, 0, 0, 0, 0, 2, 0],\n",
    " [0, 0, 0, 0, 0, 0, 0, 0, 0, 0, 0, 0, 0, 0, 0, 0, 2, 0, 0],\n",
    " [0, 0, 0, 0, 0, 0, 0, 0, 0, 0, 0, 0, 0, 0, 0, 2, 0, 0, 0],\n",
    " [0, 0, 0, 0, 0, 0, 0, 0, 0, 0, 0, 0, 0, 2, 2, 0, 0, 0, 0],\n",
    " [0, 0, 0, 0, 0, 0, 0, 0, 0, 0, 0, 0, 0, 2, 2, 2, 2, 2, 2],\n",
    " [0, 0, 0, 0, 0, 0, 0, 0, 0, 0, 0, 0, 0, 2, 2, 0, 0, 0, 0],\n",
    " [0, 0, 0, 0, 0, 0, 0, 0, 0, 0, 0, 0, 0, 2, 0, 2, 0, 0, 0],\n",
    " [0, 0, 0, 0, 0, 0, 0, 0, 0, 0, 0, 0, 0, 2, 0, 0, 2, 0, 0],\n",
    " [0, 0, 0, 0, 0, 0, 0, 0, 0, 0, 0, 0, 0, 2, 0, 0, 0, 2, 0],\n",
    " [0, 0, 0, 0, 0, 0, 0, 0, 0, 0, 0, 0, 0, 0, 2, 2, 2, 2, 2]]"
   ]
  },
  {
   "cell_type": "code",
   "execution_count": 30,
   "metadata": {},
   "outputs": [
    {
     "name": "stdout",
     "output_type": "stream",
     "text": [
      "8 18\n",
      "[0, 0, 0, 0, 0, 0, 0, 0, 0, 0, 0, 0, 0, 0, 0, 0, 0, 0, 0]\n",
      "[0, 0, 0, 0, 0, 0, 0, 0, 0, 0, 0, 0, 0, 0, 0, 0, 0, 0, 0]\n",
      "[0, 0, 0, 0, 0, 0, 0, 0, 0, 0, 0, 0, 0, 0, 0, 0, 0, 0, 0]\n",
      "[0, 0, 0, 0, 0, 0, 0, 0, 0, 0, 0, 0, 0, 0, 0, 0, 0, 0, 0]\n",
      "[0, 0, 0, 0, 0, 0, 0, 0, 0, 0, 0, 0, 0, 0, 0, 0, 0, 0, 0]\n",
      "[0, 0, 0, 0, 0, 0, 0, 0, 0, 0, 0, 0, 0, 0, 0, 0, 0, 0, 0]\n",
      "[0, 0, 0, 0, 0, 0, 0, 0, 0, 0, 0, 0, 0, 0, 0, 0, 0, 0, 0]\n",
      "[0, 0, 0, 0, 0, 0, 0, 0, 0, 0, 0, 0, 0, 0, 0, 0, 0, 0, 0]\n",
      "[0, 0, 0, 0, 0, 0, 0, 0, 0, 0, 0, 0, 0, 0, 0, 0, 0, 0, 1]\n",
      "[0, 0, 0, 0, 0, 0, 0, 0, 0, 0, 0, 0, 0, 0, 0, 0, 0, 0, 0]\n",
      "[0, 0, 0, 0, 0, 0, 0, 0, 0, 0, 0, 0, 0, 0, 0, 0, 0, 0, 0]\n",
      "[0, 0, 0, 0, 0, 0, 0, 0, 0, 0, 0, 0, 0, 0, 0, 0, 0, 0, 0]\n",
      "[0, 0, 0, 0, 0, 0, 0, 0, 0, 0, 0, 0, 0, 0, 0, 0, 0, 0, 0]\n",
      "[0, 0, 0, 0, 0, 0, 0, 0, 0, 0, 0, 0, 0, 0, 0, 0, 0, 0, 0]\n",
      "[0, 0, 0, 0, 0, 0, 0, 0, 0, 0, 0, 0, 0, 0, 0, 0, 0, 0, 0]\n",
      "[0, 0, 0, 0, 0, 0, 0, 0, 0, 0, 0, 0, 0, 0, 0, 0, 0, 0, 0]\n",
      "[0, 0, 0, 0, 0, 0, 0, 0, 0, 0, 0, 0, 0, 0, 0, 0, 0, 0, 0]\n",
      "[0, 0, 0, 0, 0, 0, 0, 0, 0, 0, 0, 0, 0, 0, 0, 0, 0, 0, 0]\n",
      "[0, 0, 0, 0, 0, 0, 0, 0, 0, 0, 0, 0, 0, 0, 0, 0, 0, 0, 0]\n",
      "9 17\n",
      "[0, 0, 0, 0, 0, 0, 0, 0, 0, 0, 0, 0, 0, 0, 0, 0, 0, 0, 0]\n",
      "[0, 0, 0, 0, 0, 0, 0, 0, 0, 0, 0, 0, 0, 0, 0, 0, 0, 0, 0]\n",
      "[0, 0, 0, 0, 0, 0, 0, 0, 0, 0, 0, 0, 0, 0, 0, 0, 0, 0, 0]\n",
      "[0, 0, 0, 0, 0, 0, 0, 0, 0, 0, 0, 0, 0, 0, 0, 0, 0, 0, 0]\n",
      "[0, 0, 0, 0, 0, 0, 0, 0, 0, 0, 0, 0, 0, 0, 0, 0, 0, 0, 0]\n",
      "[0, 0, 0, 0, 0, 0, 0, 0, 0, 0, 0, 0, 0, 0, 0, 0, 0, 0, 0]\n",
      "[0, 0, 0, 0, 0, 0, 0, 0, 0, 0, 0, 0, 0, 0, 0, 0, 0, 0, 0]\n",
      "[0, 0, 0, 0, 0, 0, 0, 0, 0, 0, 0, 0, 0, 0, 0, 0, 0, 0, 0]\n",
      "[0, 0, 0, 0, 0, 0, 0, 0, 0, 0, 0, 0, 0, 0, 0, 0, 0, 0, 1]\n",
      "[0, 0, 0, 0, 0, 0, 0, 0, 0, 0, 0, 0, 0, 0, 0, 0, 0, 1, 0]\n",
      "[0, 0, 0, 0, 0, 0, 0, 0, 0, 0, 0, 0, 0, 0, 0, 0, 0, 0, 0]\n",
      "[0, 0, 0, 0, 0, 0, 0, 0, 0, 0, 0, 0, 0, 0, 0, 0, 0, 0, 0]\n",
      "[0, 0, 0, 0, 0, 0, 0, 0, 0, 0, 0, 0, 0, 0, 0, 0, 0, 0, 0]\n",
      "[0, 0, 0, 0, 0, 0, 0, 0, 0, 0, 0, 0, 0, 0, 0, 0, 0, 0, 0]\n",
      "[0, 0, 0, 0, 0, 0, 0, 0, 0, 0, 0, 0, 0, 0, 0, 0, 0, 0, 0]\n",
      "[0, 0, 0, 0, 0, 0, 0, 0, 0, 0, 0, 0, 0, 0, 0, 0, 0, 0, 0]\n",
      "[0, 0, 0, 0, 0, 0, 0, 0, 0, 0, 0, 0, 0, 0, 0, 0, 0, 0, 0]\n",
      "[0, 0, 0, 0, 0, 0, 0, 0, 0, 0, 0, 0, 0, 0, 0, 0, 0, 0, 0]\n",
      "[0, 0, 0, 0, 0, 0, 0, 0, 0, 0, 0, 0, 0, 0, 0, 0, 0, 0, 0]\n",
      "10 16\n",
      "[0, 0, 0, 0, 0, 0, 0, 0, 0, 0, 0, 0, 0, 0, 0, 0, 0, 0, 0]\n",
      "[0, 0, 0, 0, 0, 0, 0, 0, 0, 0, 0, 0, 0, 0, 0, 0, 0, 0, 0]\n",
      "[0, 0, 0, 0, 0, 0, 0, 0, 0, 0, 0, 0, 0, 0, 0, 0, 0, 0, 0]\n",
      "[0, 0, 0, 0, 0, 0, 0, 0, 0, 0, 0, 0, 0, 0, 0, 0, 0, 0, 0]\n",
      "[0, 0, 0, 0, 0, 0, 0, 0, 0, 0, 0, 0, 0, 0, 0, 0, 0, 0, 0]\n",
      "[0, 0, 0, 0, 0, 0, 0, 0, 0, 0, 0, 0, 0, 0, 0, 0, 0, 0, 0]\n",
      "[0, 0, 0, 0, 0, 0, 0, 0, 0, 0, 0, 0, 0, 0, 0, 0, 0, 0, 0]\n",
      "[0, 0, 0, 0, 0, 0, 0, 0, 0, 0, 0, 0, 0, 0, 0, 0, 0, 0, 0]\n",
      "[0, 0, 0, 0, 0, 0, 0, 0, 0, 0, 0, 0, 0, 0, 0, 0, 0, 0, 1]\n",
      "[0, 0, 0, 0, 0, 0, 0, 0, 0, 0, 0, 0, 0, 0, 0, 0, 0, 1, 0]\n",
      "[0, 0, 0, 0, 0, 0, 0, 0, 0, 0, 0, 0, 0, 0, 0, 0, 1, 0, 0]\n",
      "[0, 0, 0, 0, 0, 0, 0, 0, 0, 0, 0, 0, 0, 0, 0, 0, 0, 0, 0]\n",
      "[0, 0, 0, 0, 0, 0, 0, 0, 0, 0, 0, 0, 0, 0, 0, 0, 0, 0, 0]\n",
      "[0, 0, 0, 0, 0, 0, 0, 0, 0, 0, 0, 0, 0, 0, 0, 0, 0, 0, 0]\n",
      "[0, 0, 0, 0, 0, 0, 0, 0, 0, 0, 0, 0, 0, 0, 0, 0, 0, 0, 0]\n",
      "[0, 0, 0, 0, 0, 0, 0, 0, 0, 0, 0, 0, 0, 0, 0, 0, 0, 0, 0]\n",
      "[0, 0, 0, 0, 0, 0, 0, 0, 0, 0, 0, 0, 0, 0, 0, 0, 0, 0, 0]\n",
      "[0, 0, 0, 0, 0, 0, 0, 0, 0, 0, 0, 0, 0, 0, 0, 0, 0, 0, 0]\n",
      "[0, 0, 0, 0, 0, 0, 0, 0, 0, 0, 0, 0, 0, 0, 0, 0, 0, 0, 0]\n",
      "11 15\n",
      "[0, 0, 0, 0, 0, 0, 0, 0, 0, 0, 0, 0, 0, 0, 0, 0, 0, 0, 0]\n",
      "[0, 0, 0, 0, 0, 0, 0, 0, 0, 0, 0, 0, 0, 0, 0, 0, 0, 0, 0]\n",
      "[0, 0, 0, 0, 0, 0, 0, 0, 0, 0, 0, 0, 0, 0, 0, 0, 0, 0, 0]\n",
      "[0, 0, 0, 0, 0, 0, 0, 0, 0, 0, 0, 0, 0, 0, 0, 0, 0, 0, 0]\n",
      "[0, 0, 0, 0, 0, 0, 0, 0, 0, 0, 0, 0, 0, 0, 0, 0, 0, 0, 0]\n",
      "[0, 0, 0, 0, 0, 0, 0, 0, 0, 0, 0, 0, 0, 0, 0, 0, 0, 0, 0]\n",
      "[0, 0, 0, 0, 0, 0, 0, 0, 0, 0, 0, 0, 0, 0, 0, 0, 0, 0, 0]\n",
      "[0, 0, 0, 0, 0, 0, 0, 0, 0, 0, 0, 0, 0, 0, 0, 0, 0, 0, 0]\n",
      "[0, 0, 0, 0, 0, 0, 0, 0, 0, 0, 0, 0, 0, 0, 0, 0, 0, 0, 1]\n",
      "[0, 0, 0, 0, 0, 0, 0, 0, 0, 0, 0, 0, 0, 0, 0, 0, 0, 1, 0]\n",
      "[0, 0, 0, 0, 0, 0, 0, 0, 0, 0, 0, 0, 0, 0, 0, 0, 1, 0, 0]\n",
      "[0, 0, 0, 0, 0, 0, 0, 0, 0, 0, 0, 0, 0, 0, 0, 1, 0, 0, 0]\n",
      "[0, 0, 0, 0, 0, 0, 0, 0, 0, 0, 0, 0, 0, 0, 0, 0, 0, 0, 0]\n",
      "[0, 0, 0, 0, 0, 0, 0, 0, 0, 0, 0, 0, 0, 0, 0, 0, 0, 0, 0]\n",
      "[0, 0, 0, 0, 0, 0, 0, 0, 0, 0, 0, 0, 0, 0, 0, 0, 0, 0, 0]\n",
      "[0, 0, 0, 0, 0, 0, 0, 0, 0, 0, 0, 0, 0, 0, 0, 0, 0, 0, 0]\n",
      "[0, 0, 0, 0, 0, 0, 0, 0, 0, 0, 0, 0, 0, 0, 0, 0, 0, 0, 0]\n",
      "[0, 0, 0, 0, 0, 0, 0, 0, 0, 0, 0, 0, 0, 0, 0, 0, 0, 0, 0]\n",
      "[0, 0, 0, 0, 0, 0, 0, 0, 0, 0, 0, 0, 0, 0, 0, 0, 0, 0, 0]\n",
      "12 13\n",
      "[0, 0, 0, 0, 0, 0, 0, 0, 0, 0, 0, 0, 0, 0, 0, 0, 0, 0, 0]\n",
      "[0, 0, 0, 0, 0, 0, 0, 0, 0, 0, 0, 0, 0, 0, 0, 0, 0, 0, 0]\n",
      "[0, 0, 0, 0, 0, 0, 0, 0, 0, 0, 0, 0, 0, 0, 0, 0, 0, 0, 0]\n",
      "[0, 0, 0, 0, 0, 0, 0, 0, 0, 0, 0, 0, 0, 0, 0, 0, 0, 0, 0]\n",
      "[0, 0, 0, 0, 0, 0, 0, 0, 0, 0, 0, 0, 0, 0, 0, 0, 0, 0, 0]\n",
      "[0, 0, 0, 0, 0, 0, 0, 0, 0, 0, 0, 0, 0, 0, 0, 0, 0, 0, 0]\n",
      "[0, 0, 0, 0, 0, 0, 0, 0, 0, 0, 0, 0, 0, 0, 0, 0, 0, 0, 0]\n",
      "[0, 0, 0, 0, 0, 0, 0, 0, 0, 0, 0, 0, 0, 1, 0, 0, 0, 0, 0]\n",
      "[0, 0, 0, 0, 0, 0, 0, 0, 0, 0, 0, 0, 0, 0, 0, 0, 0, 0, 1]\n",
      "[0, 0, 0, 0, 0, 0, 0, 0, 0, 0, 0, 0, 0, 0, 0, 0, 0, 1, 0]\n",
      "[0, 0, 0, 0, 0, 0, 0, 0, 0, 0, 0, 0, 0, 0, 0, 0, 1, 0, 0]\n",
      "[0, 0, 0, 0, 0, 0, 0, 0, 0, 0, 0, 0, 0, 0, 0, 1, 0, 0, 0]\n",
      "[0, 0, 0, 0, 0, 0, 0, 0, 0, 0, 0, 0, 0, 1, 1, 0, 0, 0, 0]\n",
      "[0, 0, 0, 0, 0, 0, 0, 0, 0, 0, 0, 0, 0, 1, 1, 0, 0, 0, 0]\n",
      "[0, 0, 0, 0, 0, 0, 0, 0, 0, 0, 0, 0, 0, 1, 0, 0, 0, 0, 0]\n",
      "[0, 0, 0, 0, 0, 0, 0, 0, 0, 0, 0, 0, 0, 1, 0, 0, 0, 0, 0]\n",
      "[0, 0, 0, 0, 0, 0, 0, 0, 0, 0, 0, 0, 0, 1, 0, 0, 0, 0, 0]\n",
      "[0, 0, 0, 0, 0, 0, 0, 0, 0, 0, 0, 0, 0, 1, 0, 0, 0, 0, 0]\n",
      "[0, 0, 0, 0, 0, 0, 0, 0, 0, 0, 0, 0, 0, 0, 0, 0, 0, 0, 0]\n",
      "13 15\n",
      "[0, 0, 0, 0, 0, 0, 0, 0, 0, 0, 0, 0, 0, 0, 0, 0, 0, 0, 0]\n",
      "[0, 0, 0, 0, 0, 0, 0, 0, 0, 0, 0, 0, 0, 0, 0, 0, 0, 0, 0]\n",
      "[0, 0, 0, 0, 0, 0, 0, 0, 0, 0, 0, 0, 0, 0, 0, 0, 0, 0, 0]\n",
      "[0, 0, 0, 0, 0, 0, 0, 0, 0, 0, 0, 0, 0, 0, 0, 0, 0, 0, 0]\n",
      "[0, 0, 0, 0, 0, 0, 0, 0, 0, 0, 0, 0, 0, 0, 0, 0, 0, 0, 0]\n",
      "[0, 0, 0, 0, 0, 0, 0, 0, 0, 0, 0, 0, 0, 0, 0, 0, 0, 0, 0]\n",
      "[0, 0, 0, 0, 0, 0, 0, 0, 0, 0, 0, 0, 0, 0, 0, 0, 0, 0, 0]\n",
      "[0, 0, 0, 0, 0, 0, 0, 0, 0, 0, 0, 0, 0, 1, 0, 0, 0, 0, 0]\n",
      "[0, 0, 0, 0, 0, 0, 0, 0, 0, 0, 0, 0, 0, 0, 0, 0, 0, 0, 1]\n",
      "[0, 0, 0, 0, 0, 0, 0, 0, 0, 0, 0, 0, 0, 0, 0, 0, 0, 1, 0]\n",
      "[0, 0, 0, 0, 0, 0, 0, 0, 0, 0, 0, 0, 0, 0, 0, 0, 1, 0, 0]\n",
      "[0, 0, 0, 0, 0, 0, 0, 0, 0, 0, 0, 0, 0, 0, 0, 1, 0, 0, 0]\n",
      "[0, 0, 0, 0, 0, 0, 0, 0, 0, 0, 0, 0, 0, 1, 1, 0, 0, 0, 0]\n",
      "[0, 0, 0, 0, 0, 0, 0, 0, 0, 0, 0, 0, 0, 1, 1, 1, 1, 1, 1]\n",
      "[0, 0, 0, 0, 0, 0, 0, 0, 0, 0, 0, 0, 0, 1, 0, 0, 0, 0, 0]\n",
      "[0, 0, 0, 0, 0, 0, 0, 0, 0, 0, 0, 0, 0, 1, 0, 0, 0, 0, 0]\n",
      "[0, 0, 0, 0, 0, 0, 0, 0, 0, 0, 0, 0, 0, 1, 0, 0, 0, 0, 0]\n",
      "[0, 0, 0, 0, 0, 0, 0, 0, 0, 0, 0, 0, 0, 1, 0, 0, 0, 0, 0]\n",
      "[0, 0, 0, 0, 0, 0, 0, 0, 0, 0, 0, 0, 0, 0, 0, 0, 0, 0, 0]\n",
      "14 14\n",
      "14 14 2 3\n",
      "2\n",
      "15 15\n"
     ]
    }
   ],
   "source": [
    "def check(i, j, p):\n",
    "\n",
    "    #세로\n",
    "    for ni in range(i, i+5):\n",
    "        if ni>18 or board[ni][j]!=p: break\n",
    "        visited[ni][j] = 1\n",
    "        if ni == i+4:\n",
    "            if ni+1<18 and board[ni+1][j]==p:\n",
    "                visited[ni+1][j] = 1\n",
    "                break \n",
    "            print(i, j, p, 1)\n",
    "            return True\n",
    "\n",
    "    #가로\n",
    "    for nj in range(j, j+5):\n",
    "        if nj>18 or board[i][nj]!=p: break\n",
    "        visited[i][nj] = 1\n",
    "        if nj == j+4:\n",
    "            if nj+1<18 and board[i][nj+1]==p:\n",
    "                visited[i][nj+1] = 1\n",
    "                break\n",
    "            print(i, j, p, 2)\n",
    "            return True\n",
    "\n",
    "    #내려가는 대각선\n",
    "    for n in range(5):\n",
    "        if n+i>18 or n+j>18 or board[i+n][j+n]!=p: break\n",
    "        visited[n+i][n+j] = 1\n",
    "        if n == 4:\n",
    "            if n+i+1<18 and n+j+1<18 and board[i+n+1][j+n+1]==p:\n",
    "                visited[n+i+1][n+j+1] = 1\n",
    "                break\n",
    "            print(i, j, p, 3)\n",
    "            return True\n",
    "        \n",
    "    #올라가는 대각선\n",
    "    #왼쪽 아래에 같은 바둑돌이 없을 경우\n",
    "    if i+1>18 or j-1<0 or board[i+1][j-1]!=p:\n",
    "        for n in range(5):\n",
    "            if i-n>18 or j+n>18 or board[i-n][j+n]!=p: break\n",
    "            visited[n-i][n+j] = 1\n",
    "            if n == 4:\n",
    "                if n-i-1<18 and n+j+1<18 and board[i-n-1][j+n+1]==p:\n",
    "                    visited[n-i-1][n+j+1] = 1\n",
    "                    break\n",
    "                return True\n",
    "        \n",
    "    return False\n",
    "\n",
    "visited = [[0]*19 for _ in range(19)]\n",
    "def solution():\n",
    "    for i in range(19):\n",
    "        for j in range(19):\n",
    "            if board[i][j] != 0 and visited[i][j]==0:\n",
    "                print(i, j)\n",
    "                if check(i, j, board[i][j]):\n",
    "                    print(board[i][j])\n",
    "                    print(i+1, j+1)\n",
    "                    return\n",
    "                for v in visited: print(v)\n",
    "                \n",
    "solution()  "
   ]
  },
  {
   "cell_type": "code",
   "execution_count": 11,
   "metadata": {},
   "outputs": [
    {
     "data": {
      "text/plain": [
       "[[0, 0, 0, 0, 0, 0, 0, 0, 0, 0, 0, 0, 0, 0, 0, 0, 0, 0, 0],\n",
       " [0, 0, 0, 0, 0, 0, 0, 0, 0, 0, 0, 0, 0, 0, 0, 0, 0, 0, 0],\n",
       " [1, 0, 0, 0, 0, 0, 0, 0, 0, 0, 0, 0, 0, 0, 0, 0, 0, 0, 0],\n",
       " [0, 1, 0, 0, 0, 0, 0, 0, 0, 0, 0, 0, 0, 0, 0, 0, 0, 0, 0],\n",
       " [0, 0, 1, 0, 0, 0, 0, 0, 0, 0, 0, 0, 0, 0, 0, 0, 0, 0, 0],\n",
       " [0, 0, 0, 1, 0, 0, 0, 0, 0, 0, 0, 0, 0, 0, 0, 0, 0, 0, 0],\n",
       " [0, 0, 0, 0, 1, 0, 0, 0, 0, 0, 0, 0, 0, 0, 0, 0, 0, 0, 0],\n",
       " [0, 0, 0, 0, 0, 1, 0, 0, 0, 0, 0, 0, 0, 0, 0, 0, 0, 0, 0],\n",
       " [1, 1, 1, 1, 1, 0, 0, 0, 0, 0, 0, 0, 0, 0, 0, 0, 0, 0, 0],\n",
       " [0, 0, 0, 0, 0, 0, 0, 0, 0, 0, 0, 0, 0, 0, 0, 0, 0, 0, 0],\n",
       " [0, 0, 0, 0, 0, 0, 0, 0, 0, 0, 0, 0, 0, 0, 0, 0, 0, 0, 0],\n",
       " [0, 0, 0, 0, 0, 0, 0, 0, 0, 0, 0, 0, 0, 0, 0, 0, 0, 0, 0],\n",
       " [0, 0, 0, 0, 0, 0, 0, 0, 0, 0, 0, 0, 0, 0, 0, 0, 0, 0, 0],\n",
       " [0, 0, 0, 0, 0, 0, 0, 0, 0, 0, 0, 0, 0, 0, 0, 0, 0, 0, 0],\n",
       " [0, 0, 0, 0, 0, 0, 0, 0, 0, 0, 0, 0, 0, 0, 0, 0, 0, 0, 0],\n",
       " [0, 0, 0, 0, 0, 0, 0, 0, 0, 0, 0, 0, 0, 0, 0, 0, 0, 0, 0],\n",
       " [0, 0, 0, 0, 0, 0, 0, 0, 0, 0, 0, 0, 0, 0, 0, 0, 0, 0, 0],\n",
       " [0, 0, 0, 0, 0, 0, 0, 0, 0, 0, 0, 0, 0, 0, 0, 0, 0, 0, 0],\n",
       " [0, 0, 0, 0, 0, 0, 0, 0, 0, 0, 0, 0, 0, 0, 0, 0, 0, 0, 0]]"
      ]
     },
     "execution_count": 11,
     "metadata": {},
     "output_type": "execute_result"
    }
   ],
   "source": [
    "0 0 0 0 0 0 0 0 0 0 0 0 0 0 0 0 0 0 0visited"
   ]
  },
  {
   "cell_type": "code",
   "execution_count": null,
   "metadata": {},
   "outputs": [],
   "source": [
    "board = []\n",
    "for _ in range(19):\n",
    "    board.append(list(map(int, input().split())))"
   ]
  }
 ],
 "metadata": {
  "kernelspec": {
   "display_name": "Python 3 (ipykernel)",
   "language": "python",
   "name": "python3"
  },
  "language_info": {
   "codemirror_mode": {
    "name": "ipython",
    "version": 3
   },
   "file_extension": ".py",
   "mimetype": "text/x-python",
   "name": "python",
   "nbconvert_exporter": "python",
   "pygments_lexer": "ipython3",
   "version": "3.9.12"
  },
  "toc": {
   "base_numbering": 1,
   "nav_menu": {},
   "number_sections": true,
   "sideBar": true,
   "skip_h1_title": false,
   "title_cell": "Table of Contents",
   "title_sidebar": "Contents",
   "toc_cell": false,
   "toc_position": {},
   "toc_section_display": true,
   "toc_window_display": true
  },
  "varInspector": {
   "cols": {
    "lenName": 16,
    "lenType": 16,
    "lenVar": 40
   },
   "kernels_config": {
    "python": {
     "delete_cmd_postfix": "",
     "delete_cmd_prefix": "del ",
     "library": "var_list.py",
     "varRefreshCmd": "print(var_dic_list())"
    },
    "r": {
     "delete_cmd_postfix": ") ",
     "delete_cmd_prefix": "rm(",
     "library": "var_list.r",
     "varRefreshCmd": "cat(var_dic_list()) "
    }
   },
   "position": {
    "height": "220.398px",
    "left": "471.392px",
    "right": "20px",
    "top": "121px",
    "width": "535.994px"
   },
   "types_to_exclude": [
    "module",
    "function",
    "builtin_function_or_method",
    "instance",
    "_Feature"
   ],
   "window_display": false
  }
 },
 "nbformat": 4,
 "nbformat_minor": 4
}
