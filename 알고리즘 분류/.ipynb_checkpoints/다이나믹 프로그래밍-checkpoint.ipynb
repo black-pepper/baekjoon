{
 "cells": [
  {
   "cell_type": "markdown",
   "metadata": {},
   "source": [
    "## 2225번: 합분해"
   ]
  },
  {
   "cell_type": "code",
   "execution_count": 21,
   "metadata": {},
   "outputs": [
    {
     "name": "stdout",
     "output_type": "stream",
     "text": [
      "20 2\n",
      "21\n"
     ]
    }
   ],
   "source": [
    "N, K = map(int, input().split())\n",
    "\n",
    "dp = [[0] * (N+1) for i in range(K+1)]\n",
    "\n",
    "for i in range(N+1):\n",
    "    dp[1][i] = 1\n",
    "\n",
    "for i in range(1, K+1):\n",
    "    for j in range(N+1):\n",
    "        for k in range(j+1):\n",
    "            dp[i][j] += dp[i-1][j-k]\n",
    "            dp[i][j] %= 1000000000\n",
    "            \n",
    "print(dp[K][N])"
   ]
  },
  {
   "cell_type": "markdown",
   "metadata": {},
   "source": [
    "## 2169번: 로봇 조종하기"
   ]
  },
  {
   "cell_type": "code",
   "execution_count": 40,
   "metadata": {},
   "outputs": [
    {
     "name": "stdout",
     "output_type": "stream",
     "text": [
      "5 5\n",
      "10 25 7 8 13\n",
      "68 24 -78 63 32\n",
      "12 -69 100 -29 -25\n",
      "-16 -22 -57 -33 99\n",
      "7 -76 -11 77 15\n",
      "319\n"
     ]
    }
   ],
   "source": [
    "import sys\n",
    "#input = sys.stdin.readline\n",
    "\n",
    "N, M = map(int, input().split())\n",
    "matrix = []\n",
    "for i in range(N):\n",
    "    matrix.append(list(map(int, input().split())))\n",
    "    \n",
    "dp = [[0]*M for i in range(N)]\n",
    "dp[0][0] = matrix[0][0]\n",
    "temp = [[[0]*3 for i in range(M)] for j in range(N)]\n",
    "\n",
    "for i in range(1, M):\n",
    "    dp[0][i] = dp[0][i-1] + matrix[0][i]\n",
    "    \n",
    "for i in range(1, N):\n",
    "    for j in range(M):\n",
    "        temp[i][j][0] = dp[i-1][j] + matrix[i][j]\n",
    "        temp[i][j][1] = dp[i-1][j] + matrix[i][j]\n",
    "    for j in range(1, M):\n",
    "        temp[i][j][0] = max(temp[i][j][0], temp[i][j-1][0]+matrix[i][j])\n",
    "    for j in range(M-2, -1, -1):\n",
    "        temp[i][j][1] = max(temp[i][j][1], temp[i][j+1][1] + matrix[i][j])\n",
    "    for j in range(M):\n",
    "        dp[i][j] = max(temp[i][j][0], temp[i][j][1])\n",
    "print(dp[-1][-1])"
   ]
  },
  {
   "cell_type": "markdown",
   "metadata": {},
   "source": [
    "## 2096번: 내려가기"
   ]
  },
  {
   "cell_type": "code",
   "execution_count": 15,
   "metadata": {
    "ExecuteTime": {
     "end_time": "2021-08-07T23:58:20.872091Z",
     "start_time": "2021-08-07T23:58:12.261178Z"
    }
   },
   "outputs": [
    {
     "name": "stdout",
     "output_type": "stream",
     "text": [
      "3\n",
      "1 2 3\n",
      "4 5 6\n",
      "4 9 0\n",
      "18 6\n"
     ]
    }
   ],
   "source": [
    "import sys\n",
    "from copy import deepcopy\n",
    "#input = sys.stdin.readline\n",
    "\n",
    "N = int(input())\n",
    "arr = list(map(int, input().split()))\n",
    "\n",
    "dp_max = deepcopy(arr)\n",
    "dp_min = deepcopy(arr)\n",
    "for i in range(1, N):\n",
    "    arr = list(map(int, input().split()))\n",
    "    temp_max = deepcopy(dp_max)\n",
    "    temp_min = deepcopy(dp_min)\n",
    "    #왼쪽\n",
    "    dp_max[0] = max(temp_max[0], temp_max[1])+arr[0]\n",
    "    dp_min[0] = min(temp_min[0], temp_min[1])+arr[0]\n",
    "    #중간\n",
    "    dp_max[1] = max([temp_max[0], temp_max[1], temp_max[2]])+arr[1]\n",
    "    dp_min[1] = min([temp_min[0], temp_min[1], temp_min[2]])+arr[1]\n",
    "    #오른쪽\n",
    "    dp_max[2] = max(temp_max[1], temp_max[2])+arr[2]\n",
    "    dp_min[2] = min(temp_min[1], temp_min[2])+arr[2]\n",
    "print(max(dp_max), min(dp_min))"
   ]
  },
  {
   "cell_type": "markdown",
   "metadata": {},
   "source": [
    "## 1937: 욕심쟁이 판다"
   ]
  },
  {
   "cell_type": "code",
   "execution_count": 1,
   "metadata": {},
   "outputs": [
    {
     "name": "stdout",
     "output_type": "stream",
     "text": [
      "4\n",
      "14 9 12 10\n",
      "1 11 5 4\n",
      "7 15 2 13\n",
      "6 3 16 8\n",
      "4\n"
     ]
    }
   ],
   "source": [
    "import heapq\n",
    "import sys\n",
    "#input = sys.stdin.readline\n",
    "\n",
    "n = int(input())\n",
    "forest = []\n",
    "for i in range(n):\n",
    "    forest.append(tuple(map(int, input().split())))\n",
    "    \n",
    "heap = []\n",
    "for i in range(n):\n",
    "    for j in range(n):\n",
    "        heapq.heappush(heap, (-forest[i][j], i, j))\n",
    "\n",
    "dp = [[0] * n for _ in range(n)]\n",
    "result = 0\n",
    "ni = [-1, 1, 0, 0]\n",
    "nj = [0, 0, -1, 1]\n",
    "while heap:\n",
    "    num, i, j = heapq.heappop(heap)\n",
    "    for k in range(4):\n",
    "        if 0<=i+ni[k]<n and 0<=j+nj[k]<n:\n",
    "            if forest[i][j] < forest[i+ni[k]][j+nj[k]]:\n",
    "                dp[i][j] = max(dp[i][j], dp[i+ni[k]][j+nj[k]]+1)\n",
    "    result = max(dp[i][j], result)\n",
    "    \n",
    "print(result+1)"
   ]
  },
  {
   "cell_type": "markdown",
   "metadata": {},
   "source": [
    "## 1915번: 가장 큰 정사각형"
   ]
  },
  {
   "cell_type": "code",
   "execution_count": 21,
   "metadata": {
    "scrolled": true
   },
   "outputs": [
    {
     "name": "stdout",
     "output_type": "stream",
     "text": [
      "4 4\n",
      "0100\n",
      "0111\n",
      "1110\n",
      "0010\n",
      "4\n"
     ]
    }
   ],
   "source": [
    "n, m = map(int, input().split())\n",
    "matrix = []\n",
    "for i in range(n):\n",
    "    matrix.append(list(map(int, input().strip())))\n",
    "    \n",
    "def find_value(i, j):\n",
    "    val1, val2, val3 = 0, 0, 0\n",
    "    if i>0 and j>0: #대각선\n",
    "        val1 = matrix[i-1][j-1]\n",
    "    if i>0 :#위\n",
    "        val2 = matrix[i-1][j]\n",
    "    if j>0: #왼쪽\n",
    "        val3 = matrix[i][j-1]\n",
    "    return min([val1, val2, val3])\n",
    "\n",
    "result = 0\n",
    "for i in range(n):\n",
    "    for j in range(m):\n",
    "        if matrix[i][j] == 0:\n",
    "            continue\n",
    "        matrix[i][j] = find_value(i, j) + 1\n",
    "        result = max(result, matrix[i][j])\n",
    "        \n",
    "print(result**2)"
   ]
  },
  {
   "cell_type": "markdown",
   "metadata": {},
   "source": [
    "## 17070번: 파이프 옮기기1"
   ]
  },
  {
   "cell_type": "code",
   "execution_count": 12,
   "metadata": {},
   "outputs": [
    {
     "name": "stdout",
     "output_type": "stream",
     "text": [
      "6\n",
      "0 0 0 0 0 0\n",
      "0 1 0 0 0 0\n",
      "0 0 0 0 0 0\n",
      "0 0 0 0 0 0\n",
      "0 0 0 0 0 0\n",
      "0 0 0 0 0 0\n",
      "13\n"
     ]
    }
   ],
   "source": [
    "#https://pacific-ocean.tistory.com/458\n",
    "import sys\n",
    "#input = sys.stdin.readline\n",
    "\n",
    "N = int(input())\n",
    "matrix = []\n",
    "for i in range(N):\n",
    "    matrix.append(list(map(int, input().split())))\n",
    "\n",
    "dp = [[[0 for i in range(3)] for i in range(N)] for i in range(N)]\n",
    "dp[0][1][0] = 1\n",
    "for i in range(2, N):\n",
    "    if matrix[0][i] == 0:\n",
    "        dp[0][i][0] = dp[0][i-1][0]\n",
    "for i in range(1, N):\n",
    "    for j in range(2, N):\n",
    "        if matrix[i][j] == 0 and matrix[i-1][j] == 0 and matrix[i][j-1] == 0:\n",
    "            dp[i][j][2] = dp[i-1][j - 1][0] + dp[i-1][j-1][1] + dp[i-1][j-1][2]\n",
    "        if matrix[i][j] == 0:\n",
    "            dp[i][j][0] = dp[i][j-1][0] + dp[i][j-1][2]\n",
    "            dp[i][j][1] = dp[i-1][j][1] + dp[i-1][j][2]\n",
    "print(sum(dp[-1][-1]))"
   ]
  },
  {
   "cell_type": "markdown",
   "metadata": {},
   "source": [
    "## 2133번: 타일 채우기"
   ]
  },
  {
   "cell_type": "code",
   "execution_count": 14,
   "metadata": {},
   "outputs": [
    {
     "name": "stdout",
     "output_type": "stream",
     "text": [
      "6\n",
      "41\n"
     ]
    }
   ],
   "source": [
    "N = int(input())\n",
    "dp = [1, 0, 3] + [0]*(N-2)\n",
    "for i in range(3, N+1):\n",
    "    dp[i] = dp[i-2] * 3\n",
    "    for j in range(i-4, -1, -2):\n",
    "        dp[i] += dp[j] * 2\n",
    "print(dp[N])"
   ]
  },
  {
   "cell_type": "markdown",
   "metadata": {},
   "source": [
    "## 5557번: 1학년"
   ]
  },
  {
   "cell_type": "code",
   "execution_count": 30,
   "metadata": {},
   "outputs": [
    {
     "name": "stdout",
     "output_type": "stream",
     "text": [
      "40\n",
      "1 1 1 1 1 1 1 1 1 1 1 1 1 1 1 1 1 1 1 1 1 1 1 1 1 1 1 1 1 1 1 1 1 1 1 1 0 0 1 1\n",
      "7069052760\n"
     ]
    }
   ],
   "source": [
    "N = int(input())\n",
    "arr = list(map(int, input().split()))\n",
    "\n",
    "dp = [[0] * 21 for _ in range(N)]\n",
    "dp[0][arr[0]] = 1\n",
    "for i in range(N-1):\n",
    "    for j in range(21):\n",
    "        if dp[i][j] != 0:\n",
    "            if 0<=j+arr[i+1]<=20: dp[i+1][j+arr[i+1]] += dp[i][j]\n",
    "            if 0<=j-arr[i+1]<=20: dp[i+1][j-arr[i+1]] += dp[i][j]\n",
    "print(dp[-2][arr[-1]])"
   ]
  }
 ],
 "metadata": {
  "kernelspec": {
   "display_name": "Python 3",
   "language": "python",
   "name": "python3"
  },
  "language_info": {
   "codemirror_mode": {
    "name": "ipython",
    "version": 3
   },
   "file_extension": ".py",
   "mimetype": "text/x-python",
   "name": "python",
   "nbconvert_exporter": "python",
   "pygments_lexer": "ipython3",
   "version": "3.8.3"
  },
  "toc": {
   "base_numbering": 1,
   "nav_menu": {},
   "number_sections": true,
   "sideBar": true,
   "skip_h1_title": false,
   "title_cell": "Table of Contents",
   "title_sidebar": "Contents",
   "toc_cell": false,
   "toc_position": {},
   "toc_section_display": true,
   "toc_window_display": false
  },
  "varInspector": {
   "cols": {
    "lenName": 16,
    "lenType": 16,
    "lenVar": 40
   },
   "kernels_config": {
    "python": {
     "delete_cmd_postfix": "",
     "delete_cmd_prefix": "del ",
     "library": "var_list.py",
     "varRefreshCmd": "print(var_dic_list())"
    },
    "r": {
     "delete_cmd_postfix": ") ",
     "delete_cmd_prefix": "rm(",
     "library": "var_list.r",
     "varRefreshCmd": "cat(var_dic_list()) "
    }
   },
   "types_to_exclude": [
    "module",
    "function",
    "builtin_function_or_method",
    "instance",
    "_Feature"
   ],
   "window_display": false
  }
 },
 "nbformat": 4,
 "nbformat_minor": 4
}
