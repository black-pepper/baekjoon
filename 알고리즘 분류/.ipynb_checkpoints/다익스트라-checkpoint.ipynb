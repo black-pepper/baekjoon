{
 "cells": [
  {
   "cell_type": "markdown",
   "metadata": {},
   "source": [
    "## 1261번: 알고스팟"
   ]
  },
  {
   "cell_type": "code",
   "execution_count": 27,
   "metadata": {},
   "outputs": [
    {
     "name": "stdout",
     "output_type": "stream",
     "text": [
      "3 3\n",
      "011\n",
      "111\n",
      "110\n",
      "3\n"
     ]
    }
   ],
   "source": [
    "import sys\n",
    "import heapq\n",
    "#input = sys.stdin.readline\n",
    "M, N = map(int, input().split())\n",
    "graph = []\n",
    "for i in range(N):\n",
    "    graph.append(list(map(int, input().strip())))\n",
    "    \n",
    "INF = 10001\n",
    "result = [[INF]*M for _ in range(N)]\n",
    "heap = []\n",
    "heapq.heappush(heap, (0, 0, 0))\n",
    "result[0][0] = 0\n",
    "\n",
    "ni = (-1, 1, 0, 0)\n",
    "nj = (0, 0, -1, 1)\n",
    "while heap:\n",
    "    i, j, w = heapq.heappop(heap)\n",
    "    \n",
    "    if result[i][j] < w:\n",
    "        continue\n",
    "        \n",
    "    for n in range(4):\n",
    "        if 0<=i+ni[n]<N and 0<=j+nj[n]<M:\n",
    "            if graph[i+ni[n]][j+nj[n]]+w < result[i+ni[n]][j+nj[n]]:\n",
    "                result[i+ni[n]][j+nj[n]] = graph[i+ni[n]][j+nj[n]]+w\n",
    "                heapq.heappush(heap, (i+ni[n], j+nj[n], result[i+ni[n]][j+nj[n]]))\n",
    "                \n",
    "print(result[-1][-1])"
   ]
  },
  {
   "cell_type": "markdown",
   "metadata": {},
   "source": [
    "## 1238번: 파티"
   ]
  },
  {
   "cell_type": "code",
   "execution_count": 11,
   "metadata": {
    "ExecuteTime": {
     "end_time": "2021-08-12T23:01:56.602453Z",
     "start_time": "2021-08-12T23:01:36.020055Z"
    }
   },
   "outputs": [
    {
     "name": "stdout",
     "output_type": "stream",
     "text": [
      "4 8 2\n",
      "1 2 4\n",
      "1 3 2\n",
      "1 4 7\n",
      "2 1 1\n",
      "2 3 5\n",
      "3 1 2\n",
      "3 4 4\n",
      "4 2 3\n",
      "10\n"
     ]
    }
   ],
   "source": [
    "import sys\n",
    "import heapq\n",
    "#input = sys.stdin.readline\n",
    "\n",
    "def Dijkstra(graph):\n",
    "    INF = sys.maxsize\n",
    "    result= [INF] * (N+1)\n",
    "    heap = []\n",
    "    heapq.heappush(heap, (X, 0))\n",
    "    result[0] = 0\n",
    "    result[X] = 0\n",
    "    while heap:\n",
    "        s, w = heapq.heappop(heap)\n",
    "        if result[s] < w:\n",
    "            continue\n",
    "        for n, nw in graph[s]:\n",
    "            if nw+w < result[n]:\n",
    "                result[n] = nw+w\n",
    "                heapq.heappush(heap, (n, result[n]))\n",
    "    return result\n",
    "\n",
    "N, M, X = map(int, input().split())\n",
    "graph_1 = [[] for _ in range(N+1)]\n",
    "graph_2 = [[] for _ in range(N+1)]\n",
    "for i in range(M):\n",
    "    s, e, t = map(int, input().split())\n",
    "    graph_1[e].append((s, t))\n",
    "    graph_2[s].append((e, t))\n",
    "\n",
    "result1 = Dijkstra(graph_1)\n",
    "result2 = Dijkstra(graph_2)\n",
    "result = [0] * (N+1)\n",
    "for i in range(N+1):\n",
    "    result[i] = result1[i] + result2[i]\n",
    "    \n",
    "print(max(result))"
   ]
  }
 ],
 "metadata": {
  "kernelspec": {
   "display_name": "Python 3",
   "language": "python",
   "name": "python3"
  },
  "language_info": {
   "codemirror_mode": {
    "name": "ipython",
    "version": 3
   },
   "file_extension": ".py",
   "mimetype": "text/x-python",
   "name": "python",
   "nbconvert_exporter": "python",
   "pygments_lexer": "ipython3",
   "version": "3.7.6"
  },
  "toc": {
   "base_numbering": 1,
   "nav_menu": {},
   "number_sections": true,
   "sideBar": true,
   "skip_h1_title": false,
   "title_cell": "Table of Contents",
   "title_sidebar": "Contents",
   "toc_cell": false,
   "toc_position": {},
   "toc_section_display": true,
   "toc_window_display": false
  },
  "varInspector": {
   "cols": {
    "lenName": 16,
    "lenType": 16,
    "lenVar": 40
   },
   "kernels_config": {
    "python": {
     "delete_cmd_postfix": "",
     "delete_cmd_prefix": "del ",
     "library": "var_list.py",
     "varRefreshCmd": "print(var_dic_list())"
    },
    "r": {
     "delete_cmd_postfix": ") ",
     "delete_cmd_prefix": "rm(",
     "library": "var_list.r",
     "varRefreshCmd": "cat(var_dic_list()) "
    }
   },
   "position": {
    "height": "310.417px",
    "left": "290px",
    "right": "20px",
    "top": "120px",
    "width": "350px"
   },
   "types_to_exclude": [
    "module",
    "function",
    "builtin_function_or_method",
    "instance",
    "_Feature"
   ],
   "window_display": false
  }
 },
 "nbformat": 4,
 "nbformat_minor": 4
}
