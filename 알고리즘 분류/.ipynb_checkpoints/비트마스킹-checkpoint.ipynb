{
 "cells": [
  {
   "cell_type": "markdown",
   "metadata": {},
   "source": [
    "## 1094번: 막대기"
   ]
  },
  {
   "cell_type": "code",
   "execution_count": 14,
   "metadata": {},
   "outputs": [
    {
     "name": "stdout",
     "output_type": "stream",
     "text": [
      "23\n",
      "4\n"
     ]
    }
   ],
   "source": [
    "X = int(input())\n",
    "cnt = 0\n",
    "for i in range(7):\n",
    "    if X & 1 << i:\n",
    "        cnt += 1\n",
    "print(cnt)"
   ]
  },
  {
   "cell_type": "markdown",
   "metadata": {},
   "source": [
    "## 1062번: 가르침"
   ]
  },
  {
   "cell_type": "code",
   "execution_count": 17,
   "metadata": {},
   "outputs": [
    {
     "name": "stdout",
     "output_type": "stream",
     "text": [
      "9 8\n",
      "antabtica\n",
      "antaxtica\n",
      "antadtica\n",
      "antaetica\n",
      "antaftica\n",
      "antagtica\n",
      "antahtica\n",
      "antajtica\n",
      "antaktica\n",
      "3\n"
     ]
    }
   ],
   "source": [
    "import sys\n",
    "from itertools import combinations\n",
    "#input = sys.stdin.readline\n",
    "\n",
    "N, K = map(int, input().split())\n",
    "arr = []\n",
    "alphabet = {}\n",
    "for i in range(N):\n",
    "    arr.append(set(input()[4:-4]).difference('a', 'c', 'i', 't', 'n'))\n",
    "\n",
    "if K < 5:\n",
    "    print(0)\n",
    "elif K == 26:\n",
    "    print(N)\n",
    "    \n",
    "else:\n",
    "    candidates = set().union(*arr)\n",
    "    if len(candidates) <= (K-5):\n",
    "        print(N)\n",
    "    else:\n",
    "        cnt = 0\n",
    "        for c in combinations(candidates, K-5):\n",
    "            temp = N\n",
    "            for i in arr:\n",
    "                for j in i:\n",
    "                    if j not in c:\n",
    "                        temp -= 1\n",
    "                        break\n",
    "            cnt = max(cnt, temp)\n",
    "\n",
    "        print(cnt)"
   ]
  }
 ],
 "metadata": {
  "kernelspec": {
   "display_name": "Python 3",
   "language": "python",
   "name": "python3"
  },
  "language_info": {
   "codemirror_mode": {
    "name": "ipython",
    "version": 3
   },
   "file_extension": ".py",
   "mimetype": "text/x-python",
   "name": "python",
   "nbconvert_exporter": "python",
   "pygments_lexer": "ipython3",
   "version": "3.8.3"
  },
  "toc": {
   "base_numbering": 1,
   "nav_menu": {},
   "number_sections": true,
   "sideBar": true,
   "skip_h1_title": false,
   "title_cell": "Table of Contents",
   "title_sidebar": "Contents",
   "toc_cell": false,
   "toc_position": {},
   "toc_section_display": true,
   "toc_window_display": false
  },
  "varInspector": {
   "cols": {
    "lenName": 16,
    "lenType": 16,
    "lenVar": 40
   },
   "kernels_config": {
    "python": {
     "delete_cmd_postfix": "",
     "delete_cmd_prefix": "del ",
     "library": "var_list.py",
     "varRefreshCmd": "print(var_dic_list())"
    },
    "r": {
     "delete_cmd_postfix": ") ",
     "delete_cmd_prefix": "rm(",
     "library": "var_list.r",
     "varRefreshCmd": "cat(var_dic_list()) "
    }
   },
   "types_to_exclude": [
    "module",
    "function",
    "builtin_function_or_method",
    "instance",
    "_Feature"
   ],
   "window_display": false
  }
 },
 "nbformat": 4,
 "nbformat_minor": 4
}
