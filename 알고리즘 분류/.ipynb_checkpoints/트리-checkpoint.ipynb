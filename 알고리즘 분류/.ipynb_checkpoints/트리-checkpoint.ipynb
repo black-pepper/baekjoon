{
 "cells": [
  {
   "cell_type": "markdown",
   "metadata": {},
   "source": [
    "## 4256번: 트리"
   ]
  },
  {
   "cell_type": "code",
   "execution_count": 21,
   "metadata": {},
   "outputs": [
    {
     "name": "stdout",
     "output_type": "stream",
     "text": [
      "2\n",
      "4\n",
      "3 2 1 4\n",
      "2 3 4 1\n",
      "2 4 1 3 \n",
      "8\n",
      "3 6 5 4 8 7 1 2\n",
      "5 6 8 4 3 1 2 7\n",
      "5 8 4 6 2 1 7 3 \n"
     ]
    }
   ],
   "source": [
    "import sys\n",
    "#input = sys.stdin.readline\n",
    "\n",
    "def find_node(pre_start, pre_end, in_start, in_end):\n",
    "        #print(pre_start, pre_end, in_start, in_end)\n",
    "        root = inorder.index(preorder[pre_start])\n",
    "        if preorder[pre_start] != inorder[in_start]: #왼쪽 노드가 있을때\n",
    "            find_node(pre_start+1, pre_start+(root-in_start), in_start, root-1)\n",
    "        if root != in_end: #오른쪽 노드가 있을때\n",
    "            find_node(pre_start+(root-in_start)+1, pre_end, root+1, in_end )\n",
    "        print(preorder[pre_start], end=' ')\n",
    "\n",
    "T = int(input())\n",
    "while(T):\n",
    "    n = int(input())\n",
    "    preorder = list(map(int, input().split()))\n",
    "    inorder = list(map(int, input().split()))  \n",
    "    find_node(0, n-1, 0, n-1)\n",
    "    print()\n",
    "    T -= 1"
   ]
  }
 ],
 "metadata": {
  "kernelspec": {
   "display_name": "Python 3",
   "language": "python",
   "name": "python3"
  },
  "language_info": {
   "codemirror_mode": {
    "name": "ipython",
    "version": 3
   },
   "file_extension": ".py",
   "mimetype": "text/x-python",
   "name": "python",
   "nbconvert_exporter": "python",
   "pygments_lexer": "ipython3",
   "version": "3.8.3"
  },
  "toc": {
   "base_numbering": 1,
   "nav_menu": {},
   "number_sections": true,
   "sideBar": true,
   "skip_h1_title": false,
   "title_cell": "Table of Contents",
   "title_sidebar": "Contents",
   "toc_cell": false,
   "toc_position": {},
   "toc_section_display": true,
   "toc_window_display": false
  },
  "varInspector": {
   "cols": {
    "lenName": 16,
    "lenType": 16,
    "lenVar": 40
   },
   "kernels_config": {
    "python": {
     "delete_cmd_postfix": "",
     "delete_cmd_prefix": "del ",
     "library": "var_list.py",
     "varRefreshCmd": "print(var_dic_list())"
    },
    "r": {
     "delete_cmd_postfix": ") ",
     "delete_cmd_prefix": "rm(",
     "library": "var_list.r",
     "varRefreshCmd": "cat(var_dic_list()) "
    }
   },
   "types_to_exclude": [
    "module",
    "function",
    "builtin_function_or_method",
    "instance",
    "_Feature"
   ],
   "window_display": false
  }
 },
 "nbformat": 4,
 "nbformat_minor": 4
}
