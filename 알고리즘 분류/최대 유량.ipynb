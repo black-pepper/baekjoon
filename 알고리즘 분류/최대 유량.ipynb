{
 "cells": [
  {
   "cell_type": "markdown",
   "metadata": {},
   "source": [
    "## 6086번: 최대 유량"
   ]
  },
  {
   "cell_type": "code",
   "execution_count": 1,
   "metadata": {},
   "outputs": [
    {
     "name": "stdout",
     "output_type": "stream",
     "text": [
      "5\n",
      "A B 3\n",
      "B C 3\n",
      "C D 5\n",
      "D Z 4\n",
      "B Z 6\n",
      "3\n"
     ]
    }
   ],
   "source": [
    "import sys\n",
    "#input = sys.stdin.readline\n",
    "from collections import deque\n",
    "INF = sys.maxsize\n",
    "\n",
    "def to_int(c):\n",
    "    if c.isupper(): return ord(c)-ord('A')\n",
    "    else: return ord(c)-ord('a')+26\n",
    "\n",
    "def max_flow(start, end):\n",
    "    result = 0\n",
    "    while True:\n",
    "        visited = [-1] * N\n",
    "        queue = deque()\n",
    "        queue.append(start)\n",
    "        while queue:\n",
    "            v = queue.popleft()\n",
    "            for n in graph[v]:\n",
    "                if capacity[v][n] - flow[v][n] > 0 and visited[n] == -1:\n",
    "                    queue.append(n)\n",
    "                    visited[n] = v\n",
    "                    if n == end: break              \n",
    "        if visited[end] == -1: break\n",
    "            \n",
    "        f = INF\n",
    "        v = end\n",
    "        while v != start:\n",
    "            f = min(f, capacity[visited[v]][v] - flow[visited[v]][v])\n",
    "            v = visited[v]\n",
    "        v = end\n",
    "        while v != start:\n",
    "            flow[visited[v]][v] += f\n",
    "            flow[v][visited[v]] -= f\n",
    "            v = visited[v]\n",
    "        result += f\n",
    "    return result\n",
    "        \n",
    "N = 52\n",
    "graph = [[] for _ in range(N)]\n",
    "capacity = [[0]*N for _ in range(N)]\n",
    "flow = [[0]*N for _ in range(N)]\n",
    "\n",
    "P = int(input())\n",
    "for _ in range(P):\n",
    "    start, end, volume = input().split()\n",
    "    start, end, volume = to_int(start), to_int(end), int(volume)\n",
    "    graph[start].append(end)\n",
    "    graph[end].append(start)\n",
    "    capacity[start][end] += volume\n",
    "    capacity[end][start] += volume\n",
    "    \n",
    "print(max_flow(0, 25))"
   ]
  },
  {
   "cell_type": "markdown",
   "metadata": {},
   "source": [
    "## 11405번: 책 구매하기 (미완성)"
   ]
  },
  {
   "cell_type": "code",
   "execution_count": 1,
   "metadata": {},
   "outputs": [],
   "source": [
    "import sys\n",
    "from collections import deque\n",
    "#input = sys.stdin.readline\n",
    "INF = sys.maxsize\n",
    "\n",
    "def SPFA():\n",
    "    cost = [INF] * (size+1)\n",
    "    path = [-1] * (size+1)\n",
    "    cost[start] = 0\n",
    "    path[start] = start\n",
    "    queue = deque([start])\n",
    "    while queue:\n",
    "        v = queue.popleft()\n",
    "        for n in graph[v]:\n",
    "            a, b = flow[v][n]\n",
    "            if a > 0 and cost[n] > cost[v] + b:\n",
    "                cost[n] = cost[v] + b\n",
    "                path[n] = v\n",
    "                if n not in queue:\n",
    "                    queue.append(n)\n",
    "    return cost, path\n",
    "\n",
    "def max_flow():\n",
    "    count = 0\n",
    "    result = 0\n",
    "    while True:\n",
    "        cost, path = SPFA()\n",
    "        if cost[end] == INF: break\n",
    "\n",
    "        count += 1\n",
    "        result += cost[end]\n",
    "        v = end\n",
    "        while v != start:\n",
    "            flow[path[v]][v][0] -= 1\n",
    "            flow[v][path[v]][0] += 1\n",
    "            v = path[v]\n",
    "    return count, result"
   ]
  },
  {
   "cell_type": "code",
   "execution_count": 3,
   "metadata": {},
   "outputs": [
    {
     "name": "stdout",
     "output_type": "stream",
     "text": [
      "4 4\n"
     ]
    }
   ],
   "source": [
    "n, m = map(int, input().split())\n",
    "size = n+m+1\n",
    "start, end = 0, size"
   ]
  },
  {
   "cell_type": "code",
   "execution_count": null,
   "metadata": {},
   "outputs": [],
   "source": [
    "graph = [[] for i in range(size+1)]\n",
    "A = list(map(int, input().split()))\n",
    "for i in range(1, n+1):\n",
    "    graph[0].append(i)\n",
    "    graph[i].append(0)\n",
    "    \n",
    "for i in range(n+1, size):\n",
    "    flow[i][size] = [1, 0]\n",
    "    flow[size][i] = [0, 0]\n",
    "    graph[i].append(size)\n",
    "    graph[size].append(i)\n",
    "    \n",
    "for i in range(n):\n",
    "    arr = list(map(int, input().split()))\n",
    "    for j in range(1, len(arr), 2):\n",
    "        a, b = arr[j], arr[j+1]\n",
    "        flow[i+1][a+n] = [1, b]\n",
    "        flow[a+n][i+1] = [0, -b]\n",
    "        graph[i+1].append(a+n)\n",
    "        graph[a+n].append(i+1)\n",
    "        \n",
    "count, result = max_flow()\n",
    "print(count)\n",
    "print(result)"
   ]
  }
 ],
 "metadata": {
  "kernelspec": {
   "display_name": "Python 3 (ipykernel)",
   "language": "python",
   "name": "python3"
  },
  "language_info": {
   "codemirror_mode": {
    "name": "ipython",
    "version": 3
   },
   "file_extension": ".py",
   "mimetype": "text/x-python",
   "name": "python",
   "nbconvert_exporter": "python",
   "pygments_lexer": "ipython3",
   "version": "3.9.12"
  },
  "toc": {
   "base_numbering": 1,
   "nav_menu": {},
   "number_sections": true,
   "sideBar": true,
   "skip_h1_title": false,
   "title_cell": "Table of Contents",
   "title_sidebar": "Contents",
   "toc_cell": false,
   "toc_position": {},
   "toc_section_display": true,
   "toc_window_display": false
  },
  "varInspector": {
   "cols": {
    "lenName": 16,
    "lenType": 16,
    "lenVar": 40
   },
   "kernels_config": {
    "python": {
     "delete_cmd_postfix": "",
     "delete_cmd_prefix": "del ",
     "library": "var_list.py",
     "varRefreshCmd": "print(var_dic_list())"
    },
    "r": {
     "delete_cmd_postfix": ") ",
     "delete_cmd_prefix": "rm(",
     "library": "var_list.r",
     "varRefreshCmd": "cat(var_dic_list()) "
    }
   },
   "types_to_exclude": [
    "module",
    "function",
    "builtin_function_or_method",
    "instance",
    "_Feature"
   ],
   "window_display": false
  }
 },
 "nbformat": 4,
 "nbformat_minor": 4
}
