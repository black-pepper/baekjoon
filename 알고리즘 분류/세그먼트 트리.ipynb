{
 "cells": [
  {
   "cell_type": "markdown",
   "metadata": {},
   "source": [
    "## 10868번: 최솟값"
   ]
  },
  {
   "cell_type": "code",
   "execution_count": 10,
   "metadata": {},
   "outputs": [
    {
     "name": "stdout",
     "output_type": "stream",
     "text": [
      "10 4\n",
      "75\n",
      "30\n",
      "100\n",
      "38\n",
      "50\n",
      "51\n",
      "52\n",
      "20\n",
      "81\n",
      "5\n",
      "1 10\n",
      "5\n",
      "3 5\n",
      "38\n",
      "6 9\n",
      "20\n",
      "8 10\n",
      "5\n"
     ]
    }
   ],
   "source": [
    "import sys\n",
    "#input = sys.stdin.readline\n",
    "#sys.setrecursionlimit(10**4)\n",
    "MAX = 1000000000\n",
    "\n",
    "def tree_init(start, end, node):\n",
    "    if start == end:\n",
    "        tree[node] = arr[start]\n",
    "    else:\n",
    "        mid = (start+end)//2\n",
    "        tree[node] = min(tree_init(start, mid, node*2), tree_init(mid+1, end, node*2+1))\n",
    "    return tree[node]\n",
    "\n",
    "def tree_find(start, end, node, left, right):\n",
    "    if left>end or right<start:\n",
    "        return MAX\n",
    "    if left<=start and end<=right:\n",
    "        return tree[node]\n",
    "    mid = (start+end)//2\n",
    "    return min(tree_find(start, mid, node*2, left, right), tree_find(mid+1, end, node*2+1, left, right))\n",
    "\n",
    "N, M = map(int, input().split())\n",
    "arr = []\n",
    "for i in range(N):\n",
    "    arr.append(int(input()))\n",
    "    \n",
    "tree = [0]*(4*N)\n",
    "tree_init(0, N-1, 1)\n",
    "for i in range(M):\n",
    "    a, b = map(int, input().split())\n",
    "    print(tree_find(0, N-1, 1, a-1, b-1))"
   ]
  },
  {
   "cell_type": "markdown",
   "metadata": {},
   "source": [
    "## 10999번: 구간 합 구하기 2"
   ]
  },
  {
   "cell_type": "code",
   "execution_count": 30,
   "metadata": {},
   "outputs": [
    {
     "name": "stdout",
     "output_type": "stream",
     "text": [
      "5 2 2\n",
      "1\n",
      "2\n",
      "3\n",
      "4\n",
      "5\n",
      "1 3 4 6\n",
      "2 2 5\n",
      "26\n",
      "1 1 3 -2\n",
      "2 2 5\n",
      "22\n"
     ]
    }
   ],
   "source": [
    "import sys\n",
    "#input = sys.stdin.readline\n",
    "#sys.setrecursionlimit(10**4)\n",
    "\n",
    "def tree_init(start, end, node):\n",
    "    if start == end:\n",
    "        tree[node] = arr[start]\n",
    "    else:\n",
    "        mid = (start + end)//2\n",
    "        tree[node] = tree_init(start, mid, node*2) + tree_init(mid+1, end, node*2+1)\n",
    "    return tree[node]\n",
    "\n",
    "def tree_find(start, end, node, left, right):\n",
    "    lazy_update(start, end, node)\n",
    "    if left>end or right<start:\n",
    "        return 0\n",
    "    if left<=start and end<=right:\n",
    "        return tree[node]\n",
    "    mid = (start+end)//2\n",
    "    return tree_find(start, mid, node*2, left, right) + tree_find(mid+1, end, node*2+1, left, right)\n",
    "\n",
    "def lazy_update(start, end, node):\n",
    "    if lazy[node] == 0:\n",
    "        return\n",
    "    tree[node] += (end-start+1) * lazy[node]\n",
    "    if start != end:\n",
    "        lazy[node*2] = lazy[node*2] + lazy[node]\n",
    "        lazy[node*2+1] = lazy[node*2+1] + lazy[node]\n",
    "    lazy[node] = 0\n",
    "\n",
    "def tree_update(start, end, node, left, right, num):\n",
    "    lazy_update(start, end, node)\n",
    "    if end < left or start > right:\n",
    "        return\n",
    "    if left <= start and end <= right:\n",
    "        tree[node] += (end - start + 1) * num\n",
    "        if start != end:\n",
    "            lazy[node*2] += num\n",
    "            lazy[node*2+1] += num\n",
    "        return\n",
    "        \n",
    "    mid = (start+end)//2\n",
    "    tree_update(start, mid, node*2, left, right, num)\n",
    "    tree_update(mid+1, end, node*2+1, left, right, num)\n",
    "    tree[node] = tree[node*2] + tree[node*2+1]\n",
    "    \n",
    "N, M, K = map(int, input().split())\n",
    "arr = []\n",
    "for i in range(N):\n",
    "    arr.append(int(input()))\n",
    "    \n",
    "tree = [0]*(4*N)\n",
    "lazy = [0]*(4*N)\n",
    "tree_init(0, N-1, 1)\n",
    "for i in range(M+K):\n",
    "    cmd = list(map(int, input().split()))\n",
    "    if cmd[0] == 1:\n",
    "        tree_update(0, N-1, 1, cmd[1]-1, cmd[2]-1, cmd[3])\n",
    "    else:\n",
    "        print(tree_find(0, N-1, 1, cmd[1]-1, cmd[2]-1))"
   ]
  },
  {
   "cell_type": "markdown",
   "metadata": {},
   "source": [
    "## 1275번: 커피숍2"
   ]
  },
  {
   "cell_type": "code",
   "execution_count": 1,
   "metadata": {},
   "outputs": [],
   "source": [
    "import sys\n",
    "#input = sys.stdin.readline\n",
    "#sys.setrecursionlimit(10**4)\n",
    "\n",
    "def tree_init(start, end, node):\n",
    "    if start == end:\n",
    "        tree[node] = arr[start]\n",
    "    else:\n",
    "        mid = (start + end)//2\n",
    "        tree[node] = tree_init(start, mid, node*2) + tree_init(mid+1, end, node*2+1)\n",
    "    return tree[node]\n",
    "\n",
    "def tree_find(start, end, node, left, right):\n",
    "    if left>end or right<start:\n",
    "        return 0\n",
    "    if left<=start and end<=right:\n",
    "        return tree[node]\n",
    "    mid = (start+end)//2\n",
    "    return tree_find(start, mid, node*2, left, right) + tree_find(mid+1, end, node*2+1, left, right)\n",
    "\n",
    "def tree_update(start, end, node, index, num):\n",
    "    if index<start or index>end:\n",
    "        return\n",
    "    tree[node] += num\n",
    "    if start == end:\n",
    "        return\n",
    "    mid = (start+end)//2\n",
    "    tree_update(start, mid, node*2, index, num)\n",
    "    tree_update(mid+1, end, node*2+1, index, num)\n",
    "\n",
    "N, Q = map(int, input().split())\n",
    "arr = list(map(int, input().split()))\n",
    "\n",
    "tree = [0] * (4*N)\n",
    "tree_init(0, N-1, 1)\n",
    "for i in range(Q):\n",
    "    x, y, a, b = map(int, input().split())\n",
    "    print(tree_find(0, N-1, 1, min(x, y)-1, max(x, y)-1))\n",
    "    tree_update(0, N-1, 1, a-1, b-arr[a-1])\n",
    "    arr[a-1] = b"
   ]
  },
  {
   "cell_type": "markdown",
   "metadata": {},
   "source": [
    "## 1849번: 순열"
   ]
  },
  {
   "cell_type": "code",
   "execution_count": 2,
   "metadata": {},
   "outputs": [
    {
     "name": "stdout",
     "output_type": "stream",
     "text": [
      "8\n",
      "5\n",
      "0\n",
      "1\n",
      "2\n",
      "1\n",
      "2\n",
      "0\n",
      "0\n",
      "2\n",
      "7\n",
      "3\n",
      "5\n",
      "4\n",
      "1\n",
      "8\n",
      "6\n"
     ]
    }
   ],
   "source": [
    "import sys\n",
    "#input = sys.stdin.readline\n",
    "#sys.setrecursionlimit(10**4)\n",
    "\n",
    "def tree_init(start, end, node):\n",
    "    if start == end:\n",
    "        tree[node] = 1\n",
    "    else:\n",
    "        mid = (start+end)//2\n",
    "        tree[node] = tree_init(start, mid, node*2) + tree_init(mid+1, end, node*2+1)\n",
    "    return tree[node]\n",
    "\n",
    "def tree_update(start, end, node, num):\n",
    "    tree[node] -= 1\n",
    "    if start == end:\n",
    "        return start\n",
    "    mid = (start+end)//2\n",
    "    if tree[node*2] >= num:\n",
    "        return tree_update(start, mid, node*2, num)\n",
    "    return tree_update(mid+1, end, node*2+1, num-tree[node*2])\n",
    "\n",
    "N = int(input())\n",
    "A = []\n",
    "for i in range(N):\n",
    "    A.append(int(input()))\n",
    "    \n",
    "tree = [0] * (N*4)\n",
    "tree_init(0, N-1, 1)\n",
    "\n",
    "result = [0] * N\n",
    "for i in range(N):\n",
    "    index = tree_update(0, N-1, 1, A[i]+1)\n",
    "    result[index] = i+1\n",
    "for i in result:\n",
    "    print(i)"
   ]
  },
  {
   "cell_type": "markdown",
   "metadata": {},
   "source": [
    "## 5676번: 음주 코딩"
   ]
  },
  {
   "cell_type": "code",
   "execution_count": 44,
   "metadata": {},
   "outputs": [
    {
     "name": "stdout",
     "output_type": "stream",
     "text": [
      "4 6\n",
      "-2 6 0 -1\n",
      "C 1 10\n",
      "P 1 4\n",
      "C 3 7\n",
      "P 2 2\n",
      "C 4 -5\n",
      "P 1 4\n",
      "0+-\n",
      "5 9\n",
      "1 5 -2 4 3\n",
      "P 1 2\n",
      "P 1 5\n",
      "C 4 -5\n",
      "P 1 5\n",
      "P 4 5\n",
      "C 3 0\n",
      "P 1 5\n",
      "C 4 -5\n",
      "C 4 -5\n",
      "+-+-0\n",
      "\n"
     ]
    }
   ],
   "source": [
    "import sys\n",
    "#input = sys.stdin.readline\n",
    "#sys.setrecursionlimit(10**4)\n",
    "\n",
    "def tree_init(start, end, node):\n",
    "    if start == end:\n",
    "        tree[node] = arr[start]\n",
    "    else:\n",
    "        mid = (start+end)//2\n",
    "        tree[node] = tree_init(start, mid, node*2) * tree_init(mid+1, end, node*2+1)\n",
    "    return tree[node]\n",
    "\n",
    "def tree_update(start, end, node, idx, num):\n",
    "    if start == end:\n",
    "        tree[node] = num\n",
    "    else:\n",
    "        mid = (start+end)//2\n",
    "        if idx<=mid:#왼쪽\n",
    "            tree[node] = tree_update(start, mid, node*2,idx, num) * tree[node*2+1]\n",
    "        else:#오른쪽\n",
    "            tree[node] = tree_update(mid+1, end, node*2+1, idx, num) * tree[node*2]\n",
    "    return tree[node]\n",
    "\n",
    "def tree_find(start, end, node, left, right):\n",
    "    if left>end or right<start:\n",
    "        return 1\n",
    "    if left<=start and end<=right:\n",
    "        return tree[node]\n",
    "    mid = (start+end)//2\n",
    "    return tree_find(start, mid, node*2, left, right) * tree_find(mid+1, end, node*2+1, left, right)\n",
    "\n",
    "while True:\n",
    "    try:\n",
    "        N, K= map(int, input().split())\n",
    "        arr = list(map(int, input().split()))\n",
    "\n",
    "        for i in range(N): #음수, 양수로 바꾸기\n",
    "            if arr[i]>0: arr[i] = 1\n",
    "            elif arr[i]<0: arr[i] = -1\n",
    "\n",
    "        tree = [0] * (N*4)\n",
    "        tree_init(0, N-1, 1)\n",
    "\n",
    "        result = []\n",
    "        for i in range(K):\n",
    "            cmd = list(map(str, input().split()))\n",
    "            if cmd[0] == 'C':\n",
    "                num = 0\n",
    "                if int(cmd[2])>0: num=1\n",
    "                elif int(cmd[2])<0: num=-1\n",
    "                tree_update(0, N-1, 1, int(cmd[1])-1, num)\n",
    "            else:\n",
    "                result.append(tree_find(0, N-1, 1, int(cmd[1])-1, int(cmd[2])-1))\n",
    "        for i in result:\n",
    "            if i==1: print('+',end='')\n",
    "            elif i==-1: print('-',end='')\n",
    "            else: print(i, end='')\n",
    "        print()\n",
    "    except:\n",
    "        break"
   ]
  },
  {
   "cell_type": "markdown",
   "metadata": {},
   "source": [
    "## 2268번: 수들의 합 7"
   ]
  },
  {
   "cell_type": "code",
   "execution_count": 36,
   "metadata": {},
   "outputs": [
    {
     "name": "stdout",
     "output_type": "stream",
     "text": [
      "3 5\n",
      "0 1 3\n",
      "0\n",
      "1 1 2\n",
      "1 2 3\n",
      "0 2 3\n",
      "3\n",
      "0 1 3\n",
      "5\n"
     ]
    }
   ],
   "source": [
    "import sys\n",
    "#input = sys.stdin.readline\n",
    "#sys.setrecursionlimit(10**4)\n",
    "\n",
    "def tree_find(start, end, node, left, right):\n",
    "    if right<start or left>end:\n",
    "        return 0\n",
    "    if left<=start and end<=right:\n",
    "        return tree[node]\n",
    "    mid = (start+end)//2\n",
    "    left_sum = tree_find(start, mid, node*2, left, right)\n",
    "    right_sum = tree_find(mid+1, end, node*2+1, left, right)\n",
    "    return left_sum + right_sum\n",
    "\n",
    "def tree_update(start, end, node, idx, num):\n",
    "    if start == end:\n",
    "        tree[node] = num\n",
    "        return tree[node]\n",
    "    mid = (start+end)//2\n",
    "    if idx<=mid:\n",
    "        tree[node] = tree_update(start, mid, node*2, idx, num) + tree[node*2+1]\n",
    "    else:\n",
    "        tree[node] = tree[node*2] + tree_update(mid+1, end, node*2+1, idx, num)\n",
    "    return tree[node]\n",
    "\n",
    "N, M = map(int, input().split())\n",
    "tree = [0] * (N*4)\n",
    "\n",
    "for _ in range(M):\n",
    "    cmd = list(map(int, input().split()))\n",
    "    if cmd[0] == 0: #찾기\n",
    "        if cmd[1]>cmd[2]: cmd[1], cmd[2] = cmd[2], cmd[1]\n",
    "        print(tree_find(0, N-1, 1, cmd[1]-1, cmd[2]-1))\n",
    "    else: #수정\n",
    "        tree_update(0, N-1, 1, cmd[1]-1, cmd[2])"
   ]
  },
  {
   "cell_type": "markdown",
   "metadata": {},
   "source": [
    "## 12837번: 가계부(Hard)"
   ]
  },
  {
   "cell_type": "code",
   "execution_count": 26,
   "metadata": {},
   "outputs": [
    {
     "name": "stdout",
     "output_type": "stream",
     "text": [
      "10 6\n",
      "1 3 10000\n",
      "1 4 -5000\n",
      "1 7 -3000\n",
      "2 1 10\n",
      "2000\n",
      "1 6 35000\n",
      "2 4 10\n",
      "27000\n"
     ]
    }
   ],
   "source": [
    "import sys\n",
    "#input = sys.stdin.readline\n",
    "#sys.setrecursionlimit(10**4)\n",
    "\n",
    "def update_tree(start, end, node, idx, num):\n",
    "    mid = (start+end)//2\n",
    "    if start == end: #도착\n",
    "        tree[node] += num\n",
    "    elif idx<=mid: #왼쪽\n",
    "        tree[node] = tree[node*2+1] + update_tree(start, mid, node*2, idx, num)\n",
    "    else: #오른쪽\n",
    "        tree[node] = tree[node*2] +update_tree(mid+1, end, node*2+1, idx, num)\n",
    "    return tree[node]\n",
    "\n",
    "def find_tree(start, end, node, left, right):\n",
    "    if left<=start and end<=right:\n",
    "        return tree[node]\n",
    "    if right<start or left>end:\n",
    "        return 0\n",
    "    mid = (start+end)//2\n",
    "    left_sum = find_tree(start, mid, node*2, left, right)\n",
    "    right_sum = find_tree(mid+1, end, node*2+1, left, right)\n",
    "    return left_sum+right_sum\n",
    "\n",
    "N, Q = map(int, input().split())\n",
    "tree = [0]*(4*(N+1))\n",
    "for i in range(Q):\n",
    "    cmd = list(map(int, input().split()))\n",
    "    if cmd[0] == 1:\n",
    "        update_tree(0, N-1, 1, cmd[1]-1, cmd[2])\n",
    "    else:\n",
    "        print(find_tree(0, N-1, 1, cmd[1]-1, cmd[2]-1))"
   ]
  },
  {
   "cell_type": "markdown",
   "metadata": {},
   "source": [
    "## 14438번: 수열과 쿼리 17"
   ]
  },
  {
   "cell_type": "code",
   "execution_count": 26,
   "metadata": {},
   "outputs": [
    {
     "name": "stdout",
     "output_type": "stream",
     "text": [
      "5\n",
      "5 4 3 2 1\n",
      "6\n",
      "2 1 3\n",
      "3\n",
      "2 1 4\n",
      "2\n",
      "1 5 3\n",
      "2 3 5\n",
      "2\n",
      "1 4 3\n",
      "2 3 5\n",
      "3\n"
     ]
    }
   ],
   "source": [
    "import sys\n",
    "#input = sys.stdin.readline\n",
    "#sys.setrecursionlimit(10**4)\n",
    "#MAX = sys.maxsize\n",
    "\n",
    "def tree_init(start, end, node):\n",
    "    if start == end: tree[node] = arr[start]\n",
    "    else:\n",
    "        mid = (start+end)//2\n",
    "        tree[node] = tree_init(start, mid, node*2)\n",
    "        tree[node] = min(tree[node], tree_init(mid+1, end, node*2+1))\n",
    "    return tree[node]\n",
    "\n",
    "def tree_update(start, end, node, index, num):\n",
    "    if index<start or index>end: pass\n",
    "    elif start == end: tree[node] = num\n",
    "    else:\n",
    "        mid = (start+end)//2\n",
    "        tree[node] = min(tree_update(start, mid, node*2, index, num), \n",
    "                          tree_update(mid+1, end, node*2+1, index, num))\n",
    "    return tree[node]\n",
    "    \n",
    "def tree_find(start, end, node, left, right):\n",
    "    if left>end or right<start: return MAX\n",
    "    if left<=start and end<=right: return tree[node]\n",
    "    mid = (start+end)//2\n",
    "    return min(tree_find(start, mid, node*2, left, right), \n",
    "               tree_find(mid+1, end, node*2+1, left, right))\n",
    "\n",
    "N = int(input())\n",
    "arr = list(map(int, input().split()))\n",
    "M = int(input())\n",
    "\n",
    "tree = [MAX]*(4*(N+1))\n",
    "tree_init(0, N-1, 1)\n",
    "for i in range(M):\n",
    "    c, i, j = map(int, input().split())\n",
    "    if c==1:tree_update(0, N-1, 1, i-1, j)\n",
    "    else: print(tree_find(0, N-1, 1, i-1, j-1))"
   ]
  }
 ],
 "metadata": {
  "kernelspec": {
   "display_name": "Python 3",
   "language": "python",
   "name": "python3"
  },
  "language_info": {
   "codemirror_mode": {
    "name": "ipython",
    "version": 3
   },
   "file_extension": ".py",
   "mimetype": "text/x-python",
   "name": "python",
   "nbconvert_exporter": "python",
   "pygments_lexer": "ipython3",
   "version": "3.8.3"
  },
  "toc": {
   "base_numbering": 1,
   "nav_menu": {},
   "number_sections": true,
   "sideBar": true,
   "skip_h1_title": false,
   "title_cell": "Table of Contents",
   "title_sidebar": "Contents",
   "toc_cell": false,
   "toc_position": {},
   "toc_section_display": true,
   "toc_window_display": false
  },
  "varInspector": {
   "cols": {
    "lenName": 16,
    "lenType": 16,
    "lenVar": 40
   },
   "kernels_config": {
    "python": {
     "delete_cmd_postfix": "",
     "delete_cmd_prefix": "del ",
     "library": "var_list.py",
     "varRefreshCmd": "print(var_dic_list())"
    },
    "r": {
     "delete_cmd_postfix": ") ",
     "delete_cmd_prefix": "rm(",
     "library": "var_list.r",
     "varRefreshCmd": "cat(var_dic_list()) "
    }
   },
   "types_to_exclude": [
    "module",
    "function",
    "builtin_function_or_method",
    "instance",
    "_Feature"
   ],
   "window_display": false
  }
 },
 "nbformat": 4,
 "nbformat_minor": 4
}
