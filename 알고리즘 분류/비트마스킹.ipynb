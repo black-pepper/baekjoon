{
 "cells": [
  {
   "cell_type": "markdown",
   "metadata": {},
   "source": [
    "## 1094번: 막대기"
   ]
  },
  {
   "cell_type": "code",
   "execution_count": 14,
   "metadata": {},
   "outputs": [
    {
     "name": "stdout",
     "output_type": "stream",
     "text": [
      "23\n",
      "4\n"
     ]
    }
   ],
   "source": [
    "X = int(input())\n",
    "cnt = 0\n",
    "for i in range(7):\n",
    "    if X & 1 << i:\n",
    "        cnt += 1\n",
    "print(cnt)"
   ]
  },
  {
   "cell_type": "markdown",
   "metadata": {},
   "source": [
    "## 1062번: 가르침"
   ]
  },
  {
   "cell_type": "code",
   "execution_count": 17,
   "metadata": {},
   "outputs": [
    {
     "name": "stdout",
     "output_type": "stream",
     "text": [
      "9 8\n",
      "antabtica\n",
      "antaxtica\n",
      "antadtica\n",
      "antaetica\n",
      "antaftica\n",
      "antagtica\n",
      "antahtica\n",
      "antajtica\n",
      "antaktica\n",
      "3\n"
     ]
    }
   ],
   "source": [
    "#비트마스킹 미적용\n",
    "import sys\n",
    "from itertools import combinations\n",
    "#input = sys.stdin.readline\n",
    "\n",
    "N, K = map(int, input().split())\n",
    "arr = []\n",
    "alphabet = {}\n",
    "for i in range(N):\n",
    "    arr.append(set(input()[4:-4]).difference('a', 'c', 'i', 't', 'n'))\n",
    "\n",
    "if K < 5:\n",
    "    print(0)\n",
    "elif K == 26:\n",
    "    print(N)\n",
    "    \n",
    "else:\n",
    "    candidates = set().union(*arr)\n",
    "    if len(candidates) <= (K-5):\n",
    "        print(N)\n",
    "    else:\n",
    "        cnt = 0\n",
    "        for c in combinations(candidates, K-5):\n",
    "            temp = N\n",
    "            for i in arr:\n",
    "                for j in i:\n",
    "                    if j not in c:\n",
    "                        temp -= 1\n",
    "                        break\n",
    "            cnt = max(cnt, temp)\n",
    "\n",
    "        print(cnt)"
   ]
  },
  {
   "cell_type": "code",
   "execution_count": 13,
   "metadata": {},
   "outputs": [
    {
     "name": "stdout",
     "output_type": "stream",
     "text": [
      "9 8\n",
      "antabtica\n",
      "antaxtica\n",
      "antadtica\n",
      "antaetica\n",
      "antaftica\n",
      "antagtica\n",
      "antahtica\n",
      "antajtica\n",
      "antaktica\n",
      "3\n"
     ]
    }
   ],
   "source": [
    "#비트마스킹 적용\n",
    "import sys\n",
    "from itertools import combinations\n",
    "#input = sys.stdin.readline\n",
    "\n",
    "def change_number(alphabet):\n",
    "    result = 0\n",
    "    for i in alphabet:\n",
    "        result |= (1<<ord(i)-ord('a'))\n",
    "    return result\n",
    "\n",
    "N, K = map(int, input().split())\n",
    "arr = []\n",
    "arr_number = []\n",
    "for i in range(N):\n",
    "    arr.append(set(input()[4:-4]).difference('a', 'c', 'i', 't', 'n'))\n",
    "    arr_number.append(change_number(arr[-1]))\n",
    "\n",
    "if K < 5:\n",
    "    print(0)\n",
    "elif K == 26:\n",
    "    print(N)\n",
    "else:\n",
    "    candidates = set().union(*arr) #필요한 모든 글자\n",
    "    if len(candidates) <= (K-5):\n",
    "        print(N)\n",
    "    else:\n",
    "        cnt = 0\n",
    "        for c in combinations(candidates, K-5):\n",
    "            temp = 0\n",
    "            c = change_number(c)\n",
    "            for i in arr_number:\n",
    "                if c & i == i: #선택된 후보군에 i가 모두 포함되는지 확인\n",
    "                    temp += 1\n",
    "            cnt = max(cnt, temp)\n",
    "\n",
    "        print(cnt)"
   ]
  },
  {
   "cell_type": "markdown",
   "metadata": {},
   "source": [
    "## 1194번: 달이 차오른다, 가자."
   ]
  },
  {
   "cell_type": "code",
   "execution_count": 19,
   "metadata": {},
   "outputs": [
    {
     "name": "stdout",
     "output_type": "stream",
     "text": [
      "1 7\n",
      "f0.F..1\n",
      "7\n"
     ]
    }
   ],
   "source": [
    "import sys\n",
    "from collections import deque\n",
    "#input = sys.stdin.readline\n",
    "\n",
    "N, M = map(int, input().split())\n",
    "maze = []\n",
    "for i in range(N):\n",
    "    maze.append(input())\n",
    "\n",
    "visited = [[[0] * M for i in range(N)] for i in range(128)]\n",
    "def BFS(x, y):\n",
    "    queue = deque()\n",
    "    queue.append([x, y, 0, 0]) #x, y, cnt, key\n",
    "    while queue:\n",
    "        x, y, c, key= queue.popleft()\n",
    "        #print(x, y, c, 0)\n",
    "        if maze[x][y] == '1':\n",
    "            return c\n",
    "        elif ord('a') <= ord(maze[x][y]) <= ord('z'):\n",
    "            key |= 1<<ord(maze[x][y])-ord('a')+1\n",
    "            visited[key][x][y] = 1\n",
    "        elif ord('A') <= ord(maze[x][y]) <= ord('Z'):\n",
    "            if key & 1<<ord(maze[x][y])-ord('A')+1 != 1<<ord(maze[x][y])-ord('A')+1:\n",
    "                continue\n",
    "        if x != 0 and maze[x-1][y] != '#' and visited[key][x-1][y] == 0:#상\n",
    "            queue.append([x-1, y, c+1, key])\n",
    "            visited[key][x-1][y] = 1\n",
    "        if x != N-1 and maze[x+1][y] != '#' and visited[key][x+1][y] == 0:#하\n",
    "            queue.append([x+1, y, c+1, key])\n",
    "            visited[key][x+1][y] = 1\n",
    "        if y != 0 and maze[x][y-1] != '#' and visited[key][x][y-1] == 0: #좌\n",
    "            queue.append([x, y-1, c+1, key])\n",
    "            visited[key][x][y-1] = 1\n",
    "        if y != M-1 and maze[x][y+1] != '#' and visited[key][x][y+1] == 0: #우\n",
    "            queue.append([x, y+1, c+1, key])\n",
    "            visited[key][x][y+1] = 1\n",
    "    return -1\n",
    "            \n",
    "x, y = 0, 0\n",
    "for i in range(N):\n",
    "    for j in range(M):\n",
    "        if maze[i][j] == '0':\n",
    "            x, y = i, j\n",
    "        \n",
    "print(BFS(x, y))"
   ]
  }
 ],
 "metadata": {
  "kernelspec": {
   "display_name": "Python 3",
   "language": "python",
   "name": "python3"
  },
  "language_info": {
   "codemirror_mode": {
    "name": "ipython",
    "version": 3
   },
   "file_extension": ".py",
   "mimetype": "text/x-python",
   "name": "python",
   "nbconvert_exporter": "python",
   "pygments_lexer": "ipython3",
   "version": "3.8.3"
  },
  "toc": {
   "base_numbering": 1,
   "nav_menu": {},
   "number_sections": true,
   "sideBar": true,
   "skip_h1_title": false,
   "title_cell": "Table of Contents",
   "title_sidebar": "Contents",
   "toc_cell": false,
   "toc_position": {},
   "toc_section_display": true,
   "toc_window_display": false
  },
  "varInspector": {
   "cols": {
    "lenName": 16,
    "lenType": 16,
    "lenVar": 40
   },
   "kernels_config": {
    "python": {
     "delete_cmd_postfix": "",
     "delete_cmd_prefix": "del ",
     "library": "var_list.py",
     "varRefreshCmd": "print(var_dic_list())"
    },
    "r": {
     "delete_cmd_postfix": ") ",
     "delete_cmd_prefix": "rm(",
     "library": "var_list.r",
     "varRefreshCmd": "cat(var_dic_list()) "
    }
   },
   "types_to_exclude": [
    "module",
    "function",
    "builtin_function_or_method",
    "instance",
    "_Feature"
   ],
   "window_display": false
  }
 },
 "nbformat": 4,
 "nbformat_minor": 4
}
