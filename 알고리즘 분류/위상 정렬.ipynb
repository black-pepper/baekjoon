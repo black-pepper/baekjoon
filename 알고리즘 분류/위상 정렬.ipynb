{
 "cells": [
  {
   "cell_type": "markdown",
   "metadata": {},
   "source": [
    "## 1516번: 게임 개발"
   ]
  },
  {
   "cell_type": "code",
   "execution_count": 53,
   "metadata": {},
   "outputs": [
    {
     "name": "stdout",
     "output_type": "stream",
     "text": [
      "5\n",
      "10 -1\n",
      "10 1 -1\n",
      "4 1 -1\n",
      "4 3 1 -1\n",
      "3 3 -1\n",
      "10\n",
      "20\n",
      "14\n",
      "18\n",
      "17\n"
     ]
    }
   ],
   "source": [
    "import sys\n",
    "#input = sys.stdin.readline\n",
    "\n",
    "N = int(input())\n",
    "graph = [[] for i in range(N+1)]\n",
    "indegree = [0] * (N+1)\n",
    "times = [0] * (N+1)\n",
    "\n",
    "for i in range(1, N+1):\n",
    "    nums = list(map(int, input().split()))\n",
    "    times[i] = nums[0]\n",
    "    for j in nums[1:-1]:\n",
    "        graph[j].append(i)\n",
    "        indegree[i] += 1\n",
    "\n",
    "before = [[0] for i in range(N+1)]\n",
    "total = [0] * (N+1)\n",
    "\n",
    "#진입차수가 0인 노드 모두 큐에 넣기\n",
    "from collections import deque\n",
    "queue = deque()\n",
    "for i in range(N+1):\n",
    "    if indegree[i] == 0:\n",
    "        queue.append(i)\n",
    "        total[i] = times[i]\n",
    "        \n",
    "while queue:\n",
    "    s = queue.popleft()\n",
    "    #최소 시간 = 자신을 짓는 시간 + 선행 건물 중 가장 큰 시간\n",
    "    total[s] = times[s] + max(before[s]) \n",
    "    for n in graph[s]:\n",
    "        indegree[n] -= 1\n",
    "        before[n].append(total[s]) #선행 건물을 짓는데 걸린 시간 저장\n",
    "        if indegree[n] == 0: #진입차수가 0이면 큐에 삽입\n",
    "            queue.append(n)\n",
    "            \n",
    "for i in total[1:]:\n",
    "    print(i)"
   ]
  }
 ],
 "metadata": {
  "kernelspec": {
   "display_name": "Python 3",
   "language": "python",
   "name": "python3"
  },
  "language_info": {
   "codemirror_mode": {
    "name": "ipython",
    "version": 3
   },
   "file_extension": ".py",
   "mimetype": "text/x-python",
   "name": "python",
   "nbconvert_exporter": "python",
   "pygments_lexer": "ipython3",
   "version": "3.8.3"
  },
  "toc": {
   "base_numbering": 1,
   "nav_menu": {},
   "number_sections": true,
   "sideBar": true,
   "skip_h1_title": false,
   "title_cell": "Table of Contents",
   "title_sidebar": "Contents",
   "toc_cell": false,
   "toc_position": {},
   "toc_section_display": true,
   "toc_window_display": false
  },
  "varInspector": {
   "cols": {
    "lenName": 16,
    "lenType": 16,
    "lenVar": 40
   },
   "kernels_config": {
    "python": {
     "delete_cmd_postfix": "",
     "delete_cmd_prefix": "del ",
     "library": "var_list.py",
     "varRefreshCmd": "print(var_dic_list())"
    },
    "r": {
     "delete_cmd_postfix": ") ",
     "delete_cmd_prefix": "rm(",
     "library": "var_list.r",
     "varRefreshCmd": "cat(var_dic_list()) "
    }
   },
   "types_to_exclude": [
    "module",
    "function",
    "builtin_function_or_method",
    "instance",
    "_Feature"
   ],
   "window_display": false
  }
 },
 "nbformat": 4,
 "nbformat_minor": 4
}
