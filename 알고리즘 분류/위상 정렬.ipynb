{
 "cells": [
  {
   "cell_type": "markdown",
   "metadata": {},
   "source": [
    "## 1516번: 게임 개발"
   ]
  },
  {
   "cell_type": "code",
   "execution_count": 53,
   "metadata": {},
   "outputs": [
    {
     "name": "stdout",
     "output_type": "stream",
     "text": [
      "5\n",
      "10 -1\n",
      "10 1 -1\n",
      "4 1 -1\n",
      "4 3 1 -1\n",
      "3 3 -1\n",
      "10\n",
      "20\n",
      "14\n",
      "18\n",
      "17\n"
     ]
    }
   ],
   "source": [
    "import sys\n",
    "#input = sys.stdin.readline\n",
    "\n",
    "N = int(input())\n",
    "graph = [[] for i in range(N+1)]\n",
    "indegree = [0] * (N+1)\n",
    "times = [0] * (N+1)\n",
    "\n",
    "for i in range(1, N+1):\n",
    "    nums = list(map(int, input().split()))\n",
    "    times[i] = nums[0]\n",
    "    for j in nums[1:-1]:\n",
    "        graph[j].append(i)\n",
    "        indegree[i] += 1\n",
    "\n",
    "before = [[0] for i in range(N+1)]\n",
    "total = [0] * (N+1)\n",
    "\n",
    "#진입차수가 0인 노드 모두 큐에 넣기\n",
    "from collections import deque\n",
    "queue = deque()\n",
    "for i in range(N+1):\n",
    "    if indegree[i] == 0:\n",
    "        queue.append(i)\n",
    "        total[i] = times[i]\n",
    "        \n",
    "while queue:\n",
    "    s = queue.popleft()\n",
    "    #최소 시간 = 자신을 짓는 시간 + 선행 건물 중 가장 큰 시간\n",
    "    total[s] = times[s] + max(before[s]) \n",
    "    for n in graph[s]:\n",
    "        indegree[n] -= 1\n",
    "        before[n].append(total[s]) #선행 건물을 짓는데 걸린 시간 저장\n",
    "        if indegree[n] == 0: #진입차수가 0이면 큐에 삽입\n",
    "            queue.append(n)\n",
    "            \n",
    "for i in total[1:]:\n",
    "    print(i)"
   ]
  },
  {
   "cell_type": "markdown",
   "metadata": {},
   "source": [
    "## 14567번: 선수과목 (Prerequisite)"
   ]
  },
  {
   "cell_type": "code",
   "execution_count": 9,
   "metadata": {},
   "outputs": [
    {
     "name": "stdout",
     "output_type": "stream",
     "text": [
      "6 4\n",
      "1 2\n",
      "1 3\n",
      "2 5\n",
      "4 5\n"
     ]
    }
   ],
   "source": [
    "import sys\n",
    "#input = sys.stdin.readline\n",
    "\n",
    "N, M = map(int, input().split())\n",
    "\n",
    "graph = [[] for _ in range(N+1)]\n",
    "indegree = [0] * (N+1)\n",
    "\n",
    "for i in range(M):\n",
    "    a, b = map(int, input().split())\n",
    "    graph[a].append(b)\n",
    "    indegree[b] += 1\n",
    "    \n",
    "from collections import deque\n",
    "queue = deque()\n",
    "for i in range(1, N+1):\n",
    "    if indegree[i] == 0:\n",
    "        queue.append(i)\n",
    "        \n",
    "result = [1] * (N+1)\n",
    "before = [0] * (N+1)\n",
    "while queue:\n",
    "    s = queue.popleft()\n",
    "    result[s] = before[s] + result[s]\n",
    "    for i in graph[s]:\n",
    "        indegree[i] -= 1\n",
    "        before[i] = max(before[i], result[s])\n",
    "        if indegree[i] == 0:\n",
    "            queue.append(i)\n",
    "            \n",
    "for i in result[1:]:\n",
    "    print(i, end=' ')"
   ]
  },
  {
   "cell_type": "markdown",
   "metadata": {},
   "source": [
    "## 2637번: 장난감 조립"
   ]
  },
  {
   "cell_type": "code",
   "execution_count": 2,
   "metadata": {},
   "outputs": [
    {
     "name": "stdout",
     "output_type": "stream",
     "text": [
      "7\n",
      "8\n",
      "5 1 2\n",
      "5 2 2\n",
      "7 5 2\n",
      "6 5 2\n",
      "6 3 3\n",
      "6 4 4\n",
      "7 6 3\n",
      "7 4 5\n",
      "1 16\n",
      "2 16\n",
      "3 9\n",
      "4 17\n"
     ]
    }
   ],
   "source": [
    "from collections import deque\n",
    "import sys\n",
    "#input = sys.stdin.readline\n",
    "\n",
    "N = int(input())\n",
    "dp = [[0]*(N+1) for _ in range(N+1)]\n",
    "graph = [[] for _ in range(N+1)]\n",
    "M = int(input())\n",
    "for i in range(M):\n",
    "    X, Y, K = map(int, input().split())\n",
    "    graph[X].append([Y, K])\n",
    "    \n",
    "#진입차수\n",
    "indegree = [0] * (N+1)\n",
    "for i in graph:\n",
    "    for n, c in i:\n",
    "        indegree[n] += 1\n",
    "        \n",
    "result = [0] * (N+1) #필요한 부품 개수\n",
    "result[N] = 1\n",
    "queue = deque()\n",
    "queue.append(N)\n",
    "\n",
    "while queue:\n",
    "    s = queue.popleft()\n",
    "    for n, c in graph[s]:\n",
    "        result[n] += result[s]*c\n",
    "        indegree[n] -= 1\n",
    "        if indegree[n] == 0:\n",
    "            queue.append(n)\n",
    "            \n",
    "#기본 부품 출력\n",
    "for i in range(1, N):\n",
    "    if graph[i] == []:\n",
    "        print(i, result[i])"
   ]
  },
  {
   "cell_type": "markdown",
   "metadata": {},
   "source": [
    "## 9470번: Strahler 순서"
   ]
  },
  {
   "cell_type": "code",
   "execution_count": 2,
   "metadata": {
    "ExecuteTime": {
     "end_time": "2021-11-05T10:09:57.346418Z",
     "start_time": "2021-11-05T10:09:41.533629Z"
    }
   },
   "outputs": [
    {
     "name": "stdout",
     "output_type": "stream",
     "text": [
      "1\n",
      "1 7 8\n",
      "1 3\n",
      "2 3\n",
      "6 4\n",
      "3 4\n",
      "3 5\n",
      "6 7\n",
      "5 7\n",
      "4 7\n",
      "1 3\n"
     ]
    }
   ],
   "source": [
    "import sys\n",
    "from collections import deque\n",
    "#input = sys.stdin.readline\n",
    "\n",
    "test = int(input())\n",
    "while test:\n",
    "    T, M, P = map(int, input().split())\n",
    "    graph = [[] for i in range(M+1)]\n",
    "    indegree = [0] * (M+1)\n",
    "    for i in range(P):\n",
    "        A, B = map(int, input().split())\n",
    "        graph[A].append(B)\n",
    "        indegree[B] += 1\n",
    "    \n",
    "    queue = deque()\n",
    "    strahler = [[0, 0] for i in range(M+1)] #최대값, 개수\n",
    "    for i in range(M+1):\n",
    "        if indegree[i] == 0:\n",
    "            queue.append(i)\n",
    "            strahler[i] = [1, 0]\n",
    "    result = 0\n",
    "    while queue:\n",
    "        s = queue.popleft()\n",
    "        if strahler[s][1] > 1:\n",
    "            strahler[s][0] += 1\n",
    "        result = max(result, strahler[s][0])\n",
    "        for n in graph[s]:\n",
    "            indegree[n] -= 1\n",
    "            #strahler 확인\n",
    "            if strahler[n][0] < strahler[s][0]:\n",
    "                strahler[n][0] = strahler[s][0]\n",
    "                strahler[n][1] = 1\n",
    "            elif strahler[n][0] == strahler[s][0]:\n",
    "                strahler[n][1] += 1\n",
    "            #queue에 다음 노드 삽입\n",
    "            if indegree[n] == 0:\n",
    "                queue.append(n)\n",
    "    print(T, result)\n",
    "    test -= 1"
   ]
  },
  {
   "cell_type": "markdown",
   "metadata": {},
   "source": [
    "## 2611번: 자동차경주"
   ]
  },
  {
   "cell_type": "code",
   "execution_count": 40,
   "metadata": {},
   "outputs": [
    {
     "name": "stdout",
     "output_type": "stream",
     "text": [
      "8\n",
      "13\n",
      "1 2 5\n",
      "1 3 4\n",
      "2 5 2\n",
      "2 6 1\n",
      "3 6 3\n",
      "5 6 7\n",
      "5 8 9\n",
      "6 8 3\n",
      "4 1 6\n",
      "6 4 8\n",
      "7 4 5\n",
      "6 7 2\n",
      "8 7 4\n",
      "32\n",
      "1 2 5 6 8 7 4 1\n"
     ]
    }
   ],
   "source": [
    "import sys\n",
    "from collections import deque\n",
    "#input = sys.stdin.readline\n",
    "\n",
    "N = int(input())\n",
    "M = int(input())\n",
    "graph = [[] for _ in range(N+1)]\n",
    "indegree = [0] * (N+1)\n",
    "for i in range(M):\n",
    "    p, q, r = map(int, input().split())\n",
    "    graph[p].append((q, r))\n",
    "    indegree[q] += 1\n",
    "\n",
    "score = [0]*(N+1) #각 지점에 도달하기까지 최대점수\n",
    "before = [0]*(N+1) #이전 경로 저장\n",
    "queue = deque()\n",
    "queue.append(1)\n",
    "while queue:\n",
    "    s = queue.popleft()\n",
    "    for n, w in graph[s]:\n",
    "        indegree[n] -= 1\n",
    "        if indegree[n]<0: break #진입차수가 음수면 끝내기\n",
    "        if score[n] < score[s]+w:\n",
    "            score[n] = score[s]+w\n",
    "            before[n] = s\n",
    "        if indegree[n] == 0:\n",
    "            queue.append(n)\n",
    "            \n",
    "result = []\n",
    "n = 1\n",
    "while before[n] != 1:\n",
    "    result.append(n)\n",
    "    n = before[n]\n",
    "    \n",
    "result.extend([n, 1])\n",
    "result.reverse()\n",
    "print(score[1])\n",
    "print(*result)"
   ]
  },
  {
   "cell_type": "markdown",
   "metadata": {},
   "source": [
    "## 14676번: 영우는 사기꾼?"
   ]
  },
  {
   "cell_type": "code",
   "execution_count": 13,
   "metadata": {},
   "outputs": [
    {
     "name": "stdout",
     "output_type": "stream",
     "text": [
      "3 2 2\n",
      "1 2\n",
      "2 3\n",
      "1 1\n",
      "2 2\n",
      "Lier!\n"
     ]
    }
   ],
   "source": [
    "import sys\n",
    "#input = sys.stdin.readline\n",
    "\n",
    "N, M, K = map(int, input().split())\n",
    "indegree = [0] * (N+1)\n",
    "graph = [[] for _ in range(N+1)]\n",
    "for _ in range(M):\n",
    "    X, Y = map(int, input().split())\n",
    "    graph[X].append(Y)\n",
    "    indegree[Y] += 1\n",
    "    \n",
    "building = [0] * (N+1)\n",
    "def solution(cmd):\n",
    "    if cmd[0] == 1:\n",
    "        if indegree[cmd[1]]: return 0\n",
    "        building[cmd[1]] += 1\n",
    "        if building[cmd[1]] == 1:\n",
    "            for n in graph[cmd[1]]:\n",
    "                indegree[n] -= 1\n",
    "    else:\n",
    "        if building[cmd[1]] <= 0:\n",
    "            return 0\n",
    "        else:\n",
    "            building[cmd[1]] -= 1\n",
    "            if not building[cmd[1]]:\n",
    "                for n in graph[cmd[1]]:\n",
    "                    indegree[n] += 1\n",
    "    return 1\n",
    "    \n",
    "flag = 1\n",
    "for _ in range(K):\n",
    "    cmd = list(map(int, input().split()))\n",
    "    flag = flag & solution(cmd)\n",
    "\n",
    "if flag: print('King-God-Emperor')\n",
    "else: print('Lier!')"
   ]
  }
 ],
 "metadata": {
  "kernelspec": {
   "display_name": "Python 3",
   "language": "python",
   "name": "python3"
  },
  "language_info": {
   "codemirror_mode": {
    "name": "ipython",
    "version": 3
   },
   "file_extension": ".py",
   "mimetype": "text/x-python",
   "name": "python",
   "nbconvert_exporter": "python",
   "pygments_lexer": "ipython3",
   "version": "3.8.3"
  },
  "toc": {
   "base_numbering": 1,
   "nav_menu": {},
   "number_sections": true,
   "sideBar": true,
   "skip_h1_title": false,
   "title_cell": "Table of Contents",
   "title_sidebar": "Contents",
   "toc_cell": false,
   "toc_position": {},
   "toc_section_display": true,
   "toc_window_display": false
  },
  "varInspector": {
   "cols": {
    "lenName": 16,
    "lenType": 16,
    "lenVar": 40
   },
   "kernels_config": {
    "python": {
     "delete_cmd_postfix": "",
     "delete_cmd_prefix": "del ",
     "library": "var_list.py",
     "varRefreshCmd": "print(var_dic_list())"
    },
    "r": {
     "delete_cmd_postfix": ") ",
     "delete_cmd_prefix": "rm(",
     "library": "var_list.r",
     "varRefreshCmd": "cat(var_dic_list()) "
    }
   },
   "types_to_exclude": [
    "module",
    "function",
    "builtin_function_or_method",
    "instance",
    "_Feature"
   ],
   "window_display": false
  }
 },
 "nbformat": 4,
 "nbformat_minor": 4
}
