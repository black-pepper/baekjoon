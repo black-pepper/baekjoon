{
 "cells": [
  {
   "cell_type": "markdown",
   "metadata": {},
   "source": [
    "## 2233번: 사과나무"
   ]
  },
  {
   "cell_type": "code",
   "execution_count": 47,
   "metadata": {},
   "outputs": [
    {
     "name": "stdout",
     "output_type": "stream",
     "text": [
      "5\n",
      "0001011011\n",
      "4 5\n",
      "2 7\n"
     ]
    }
   ],
   "source": [
    "N = int(input())\n",
    "binary = list(map(int, input().strip()))\n",
    "X, Y = map(int, input().split())\n",
    "\n",
    "vertex = [-1] * len(binary) #binary에 해당하는 정점 i값\n",
    "apple = [] #apple[i] = 정점 i의 X, Y좌표\n",
    "before = [-1]*N #tree[i] = 정점 i의 부모 노드\n",
    "level = [0]*N #level[i] = 정점 i의 레벨\n",
    "stack = [-1] #정점 i 저장\n",
    "for i in range(len(binary)):\n",
    "    if binary[i] == 0:\n",
    "        apple.append([i])\n",
    "        stack.append(len(apple)-1)\n",
    "        vertex[i] = len(apple)-1\n",
    "    else:\n",
    "        s = stack.pop()\n",
    "        apple[s].append(i)\n",
    "        before[s] = stack[-1]\n",
    "        vertex[i] = s\n",
    "        level[s] = len(stack)\n",
    "        \n",
    "#썩은 사과\n",
    "a, b = vertex[X-1], vertex[Y-1]\n",
    "\n",
    "#같은 레벨로 올리기\n",
    "if level[a] > level[b]:\n",
    "    a, b = b, a\n",
    "while level[a]!=level[b]:\n",
    "    b = before[b]\n",
    "    \n",
    "#최소 공통 조상 찾기\n",
    "while a!=b:\n",
    "    a = before[a]\n",
    "    b = before[b]\n",
    "print(apple[a][0]+1, apple[a][1]+1)"
   ]
  },
  {
   "cell_type": "markdown",
   "metadata": {},
   "source": [
    "## 8012번: 한동이는 영업사원!"
   ]
  },
  {
   "cell_type": "code",
   "execution_count": 60,
   "metadata": {},
   "outputs": [
    {
     "name": "stdout",
     "output_type": "stream",
     "text": [
      "5\n",
      "1 2\n",
      "1 5\n",
      "3 5\n",
      "4 5\n"
     ]
    }
   ],
   "source": [
    "import sys\n",
    "from math import log2\n",
    "from collections import deque\n",
    "#input = sys.stdin.readline\n",
    "\n",
    "n = int(input())\n",
    "graph = [[] for _ in range(n+1)]\n",
    "for i in range(n-1):\n",
    "    a, b = map(int, input().split())\n",
    "    graph[a].append(b)\n",
    "    graph[b].append(a)"
   ]
  },
  {
   "cell_type": "code",
   "execution_count": 68,
   "metadata": {},
   "outputs": [],
   "source": [
    "H = int(log2(n))+1\n",
    "queue = deque()\n",
    "queue.append(1)\n",
    "depth = [0] * (n+1)\n",
    "depth[1] = 1\n",
    "dp = [[0]*(H) for _ in range(n+1)]"
   ]
  },
  {
   "cell_type": "code",
   "execution_count": 69,
   "metadata": {},
   "outputs": [],
   "source": [
    "while queue:\n",
    "    s = queue.popleft()\n",
    "    for n in graph[s]:\n",
    "        if not depth[n]:\n",
    "            queue.append(n)\n",
    "            depth[n] = depth[s]+1\n",
    "            dp[n][0] = s"
   ]
  },
  {
   "cell_type": "code",
   "execution_count": 71,
   "metadata": {},
   "outputs": [],
   "source": [
    "for j in range(1, H):\n",
    "    for i in range(1, n+1):\n",
    "        dp[i][j] = dp[dp[i][j-1]][j-1]"
   ]
  },
  {
   "cell_type": "code",
   "execution_count": 56,
   "metadata": {},
   "outputs": [
    {
     "name": "stdout",
     "output_type": "stream",
     "text": [
      "4\n",
      "1\n",
      "3\n",
      "2\n",
      "5\n"
     ]
    }
   ],
   "source": [
    "m = int(input())\n",
    "arr = []\n",
    "for _ in range(m):\n",
    "    arr.append(int(input()))"
   ]
  },
  {
   "cell_type": "code",
   "execution_count": 74,
   "metadata": {},
   "outputs": [
    {
     "name": "stdout",
     "output_type": "stream",
     "text": [
      "5\n",
      "1 2\n",
      "1 5\n",
      "3 5\n",
      "4 5\n",
      "4\n",
      "1\n",
      "3\n",
      "2\n",
      "5\n",
      "7\n"
     ]
    }
   ],
   "source": [
    "import sys\n",
    "from math import log2\n",
    "from collections import deque\n",
    "#input = sys.stdin.readline\n",
    "\n",
    "n = int(input())\n",
    "graph = [[] for _ in range(n+1)]\n",
    "for i in range(n-1):\n",
    "    a, b = map(int, input().split())\n",
    "    graph[a].append(b)\n",
    "    graph[b].append(a)\n",
    "\n",
    "H = int(log2(n))+1\n",
    "queue = deque()\n",
    "queue.append(1)\n",
    "depth = [0] * (n+1)\n",
    "depth[1] = 1\n",
    "dp = [[0]*(H) for _ in range(n+1)]\n",
    "\n",
    "while queue:\n",
    "    s = queue.popleft()\n",
    "    for n in graph[s]:\n",
    "        if not depth[n]:\n",
    "            queue.append(n)\n",
    "            depth[n] = depth[s]+1\n",
    "            dp[n][0] = s\n",
    "\n",
    "for j in range(1, H):\n",
    "    for i in range(1, n+1):\n",
    "        dp[i][j] = dp[dp[i][j-1]][j-1]\n",
    "\n",
    "m = int(input())\n",
    "arr = []\n",
    "for _ in range(m):\n",
    "    arr.append(int(input()))\n",
    "\n",
    "result = 0\n",
    "for i in range(m-1):\n",
    "    a, b = arr[i], arr[i+1]\n",
    "    ans = 0\n",
    "    \n",
    "    if depth[a]>depth[b]:\n",
    "        a, b = b, a\n",
    "    for i in range(H, -1, -1):\n",
    "        if depth[b]-depth[a]>=(1<<i):\n",
    "            ans += 2**i\n",
    "            b = dp[b][i]\n",
    "    \n",
    "    if a==b:\n",
    "        result += ans\n",
    "        continue\n",
    "        \n",
    "    for i in range(H-1, -1, -1):\n",
    "        if dp[a][i] != dp[b][i]:\n",
    "            ans += 2**i*2\n",
    "            a, b = dp[a][i], dp[b][i]\n",
    "            \n",
    "    ans += 2**i*2\n",
    "    result += ans\n",
    "print(result)"
   ]
  },
  {
   "cell_type": "code",
   "execution_count": 2,
   "metadata": {},
   "outputs": [
    {
     "name": "stdout",
     "output_type": "stream",
     "text": [
      "5\n",
      "1 2\n",
      "1 5\n",
      "3 5\n",
      "4 5\n"
     ]
    }
   ],
   "source": [
    "import sys\n",
    "from math import log2\n",
    "from collections import deque\n",
    "#input = sys.stdin.readline\n",
    "\n",
    "n = int(input())\n",
    "graph = [[] for _ in range(n+1)]\n",
    "for i in range(n-1):\n",
    "    a, b = map(int, input().split())\n",
    "    graph[a].append(b)\n",
    "    graph[b].append(a)\n",
    "\n",
    "H = int(log2(n))+1\n",
    "queue = deque()\n",
    "queue.append(1)\n",
    "depth = [0] * (n+1)\n",
    "depth[1] = 1\n",
    "dp = [[[0, 0] for _ in range(H)] for _ in range(n+1)]\n",
    "\n",
    "while queue:\n",
    "    s = queue.popleft()\n",
    "    for n in graph[s]:\n",
    "        if not depth[n]:\n",
    "            queue.append(n)\n",
    "            depth[n] = depth[s]+1\n",
    "            dp[n][0] = [s, 1]\n",
    "\n",
    "for j in range(1, H):\n",
    "    for i in range(1, n+1):\n",
    "        dp[i][j][0] = dp[dp[i][j-1][0]][j-1][0]\n",
    "        dp[i][j][1] = dp[i][j-1][1]+dp[dp[i][j-1][0]][j-1][1]"
   ]
  },
  {
   "cell_type": "code",
   "execution_count": 3,
   "metadata": {},
   "outputs": [
    {
     "name": "stdout",
     "output_type": "stream",
     "text": [
      "4\n",
      "1\n",
      "3\n",
      "2\n",
      "5\n"
     ]
    }
   ],
   "source": [
    "m = int(input())\n",
    "arr = []\n",
    "for _ in range(m):\n",
    "    arr.append(int(input()))"
   ]
  },
  {
   "cell_type": "code",
   "execution_count": 4,
   "metadata": {},
   "outputs": [
    {
     "name": "stdout",
     "output_type": "stream",
     "text": [
      "7\n"
     ]
    }
   ],
   "source": [
    "result = 0\n",
    "for i in range(m-1):\n",
    "    a, b = arr[i], arr[i+1]\n",
    "    ans = 0\n",
    "    \n",
    "    if depth[a]>depth[b]:\n",
    "        a, b = b, a\n",
    "    for i in range(H, -1, -1):\n",
    "        if depth[b]-depth[a]>=(1<<i):\n",
    "            ans += dp[b][i][1]\n",
    "            b = dp[b][i][0]\n",
    "    \n",
    "    if a==b:\n",
    "        result += ans\n",
    "        continue\n",
    "        \n",
    "    for i in range(H-1, -1, -1):\n",
    "        if dp[a][i][0] != dp[b][i][0]:\n",
    "            ans += dp[a][i][1] + dp[b][i][1]\n",
    "            a, b = dp[a][i][0], dp[b][i][0]\n",
    "            \n",
    "    ans += dp[a][i][1] + dp[b][i][1]\n",
    "    result += ans\n",
    "print(result)"
   ]
  },
  {
   "cell_type": "code",
   "execution_count": 36,
   "metadata": {},
   "outputs": [
    {
     "name": "stdout",
     "output_type": "stream",
     "text": [
      "5\n",
      "1 2 1\n",
      "1 5 1\n",
      "3 5 1\n",
      "4 5 1\n"
     ]
    }
   ],
   "source": [
    "import sys\n",
    "from math import log2\n",
    "from collections import deque\n",
    "#input = sys.stdin.readline\n",
    "\n",
    "N = int(input())\n",
    "graph = [[] for _ in range(N+1)]\n",
    "for i in range(N-1):\n",
    "    a, b, c = map(int, input().split())\n",
    "    graph[a].append((b, c))\n",
    "    graph[b].append((a, c))"
   ]
  },
  {
   "cell_type": "code",
   "execution_count": 37,
   "metadata": {},
   "outputs": [],
   "source": [
    "H = int(log2(N))+1\n",
    "queue = deque((1, 1))\n",
    "depth = [0] * (N+1)\n",
    "depth[1] = 1\n",
    "dp = [[[0, 0] for _ in range(H)] for _ in range(N+1)]\n",
    "\n",
    "while queue:\n",
    "    s = queue.popleft()\n",
    "    for n, w in graph[s]:\n",
    "        if not depth[n]:\n",
    "            queue.append(n)\n",
    "            depth[n] = depth[s]+1\n",
    "            dp[n][0] = [s, w]\n",
    "            \n",
    "for j in range(1, H):\n",
    "    for i in range(1, N+1):\n",
    "        dp[i][j][0] = dp[dp[i][j-1][0]][j-1][0]\n",
    "        dp[i][j][1] = dp[i][j-1][1]+dp[dp[i][j-1][0]][j-1][1]"
   ]
  },
  {
   "cell_type": "code",
   "execution_count": 38,
   "metadata": {},
   "outputs": [
    {
     "data": {
      "text/plain": [
       "[[[0, 0], [0, 0], [0, 0]],\n",
       " [[0, 0], [0, 0], [0, 0]],\n",
       " [[1, 1], [0, 1], [0, 1]],\n",
       " [[5, 1], [1, 2], [0, 2]],\n",
       " [[5, 1], [1, 2], [0, 2]],\n",
       " [[1, 1], [0, 1], [0, 1]]]"
      ]
     },
     "execution_count": 38,
     "metadata": {},
     "output_type": "execute_result"
    }
   ],
   "source": [
    "dp"
   ]
  }
 ],
 "metadata": {
  "kernelspec": {
   "display_name": "Python 3",
   "language": "python",
   "name": "python3"
  },
  "language_info": {
   "codemirror_mode": {
    "name": "ipython",
    "version": 3
   },
   "file_extension": ".py",
   "mimetype": "text/x-python",
   "name": "python",
   "nbconvert_exporter": "python",
   "pygments_lexer": "ipython3",
   "version": "3.8.3"
  },
  "toc": {
   "base_numbering": 1,
   "nav_menu": {},
   "number_sections": true,
   "sideBar": true,
   "skip_h1_title": false,
   "title_cell": "Table of Contents",
   "title_sidebar": "Contents",
   "toc_cell": false,
   "toc_position": {},
   "toc_section_display": true,
   "toc_window_display": false
  },
  "varInspector": {
   "cols": {
    "lenName": 16,
    "lenType": 16,
    "lenVar": 40
   },
   "kernels_config": {
    "python": {
     "delete_cmd_postfix": "",
     "delete_cmd_prefix": "del ",
     "library": "var_list.py",
     "varRefreshCmd": "print(var_dic_list())"
    },
    "r": {
     "delete_cmd_postfix": ") ",
     "delete_cmd_prefix": "rm(",
     "library": "var_list.r",
     "varRefreshCmd": "cat(var_dic_list()) "
    }
   },
   "types_to_exclude": [
    "module",
    "function",
    "builtin_function_or_method",
    "instance",
    "_Feature"
   ],
   "window_display": false
  }
 },
 "nbformat": 4,
 "nbformat_minor": 4
}
