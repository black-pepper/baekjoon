{
 "cells": [
  {
   "cell_type": "markdown",
   "metadata": {},
   "source": [
    "## 1016번: 제곱 ㄴㄴ수"
   ]
  },
  {
   "cell_type": "code",
   "execution_count": 54,
   "metadata": {},
   "outputs": [
    {
     "name": "stdout",
     "output_type": "stream",
     "text": [
      "1 1000\n",
      "608\n"
     ]
    }
   ],
   "source": [
    "min_v, max_v = map(int, input().split())\n",
    "\n",
    "length = max_v-min_v\n",
    "arr = [1] * (length+1)\n",
    "i = 2\n",
    "while i*i<=max_v:\n",
    "    n = min_v//(i*i)\n",
    "    while n*i*i <= max_v:\n",
    "        if n*i*i-min_v >= 0 and n*i*i-min_v <= length:\n",
    "            arr[n*i*i-min_v] = 0\n",
    "        n += 1\n",
    "    i += 1\n",
    "    \n",
    "print(sum(arr))"
   ]
  },
  {
   "cell_type": "markdown",
   "metadata": {},
   "source": [
    "## 1963번: 소수 경로"
   ]
  },
  {
   "cell_type": "code",
   "execution_count": 39,
   "metadata": {},
   "outputs": [
    {
     "name": "stdout",
     "output_type": "stream",
     "text": [
      "3\n",
      "1033 8179\n",
      "6\n",
      "1373 8017\n",
      "7\n",
      "1033 1033\n",
      "0\n"
     ]
    }
   ],
   "source": [
    "import sys\n",
    "#input = sys.stdin.readline\n",
    "\n",
    "from collections import deque\n",
    "number = [10000, 1000, 100, 10, 1, 1]\n",
    "#에라토스테네스의채\n",
    "arr = [1] * 10000\n",
    "arr[0], arr[1] = 0, 0\n",
    "for i in range(2, 10000):\n",
    "    if arr[i] == 0:\n",
    "        continue\n",
    "    num = i+i\n",
    "    while num<10000:\n",
    "        arr[num] = 0\n",
    "        num += i\n",
    "\n",
    "for _ in range(int(input())):\n",
    "    s, e = map(int, input().split())\n",
    "    queue = deque()\n",
    "    queue.append((s, 0))\n",
    "    result = 'Impossible'\n",
    "    visited = [0] * 10000\n",
    "    while queue:\n",
    "        s, c = queue.popleft()\n",
    "        if s == e:\n",
    "            result = c\n",
    "            break\n",
    "        for n in range(4):\n",
    "            for d in range(0, 10):\n",
    "                temp = s-(s%number[n])+d*number[n+1]+s%number[n+1]\n",
    "                if 999<temp<10000 and visited[temp]==0 and arr[temp] == 1:\n",
    "                    visited[temp] = 1\n",
    "                    queue.append((temp, c+1))\n",
    "    print(result)"
   ]
  },
  {
   "cell_type": "markdown",
   "metadata": {},
   "source": [
    "## 골드바흐의 추측"
   ]
  },
  {
   "cell_type": "code",
   "execution_count": 3,
   "metadata": {},
   "outputs": [
    {
     "name": "stdout",
     "output_type": "stream",
     "text": [
      "8\n",
      "8 = 3 + 5\n",
      "20\n",
      "20 = 3 + 17\n",
      "42\n",
      "42 = 5 + 37\n",
      "0\n"
     ]
    }
   ],
   "source": [
    "import sys\n",
    "#input = sys.stdin.readline\n",
    "\n",
    "MAX = 1000001\n",
    "check = [1]*MAX\n",
    "check[0], check[1] = 0, 0\n",
    "for i in range(2, MAX):\n",
    "    if check[i]:\n",
    "        for j in range(2, MAX):\n",
    "            if i*j >= MAX: break\n",
    "            check[i*j] = 0\n",
    "\n",
    "while True:\n",
    "    n = int(input())\n",
    "    if n == 0: break\n",
    "    a, b = 0, 0\n",
    "    for i in range(2, n):\n",
    "        if check[i] and check[n-i]:\n",
    "            a, b = i, n-i\n",
    "            break\n",
    "    print(n, '=', a, '+', b)"
   ]
  },
  {
   "cell_type": "markdown",
   "metadata": {},
   "source": [
    "## 1024번: 수열의 합"
   ]
  },
  {
   "cell_type": "code",
   "execution_count": 39,
   "metadata": {},
   "outputs": [
    {
     "name": "stdout",
     "output_type": "stream",
     "text": [
      "1000000000 2\n",
      "199999998 199999999 200000000 200000001 200000002 "
     ]
    }
   ],
   "source": [
    "N, L = map(int, input().split())\n",
    "\n",
    "x = -1\n",
    "for l in range(L, 101):\n",
    "    L = l\n",
    "    x = (N-l*(l-1)/2)/l\n",
    "    if x%1==0: break\n",
    "        \n",
    "if x%1!=0 or x<0:\n",
    "    print(-1)\n",
    "else:\n",
    "    for i in range(int(x), int(x+L)):\n",
    "        print(i, end=' ')"
   ]
  },
  {
   "cell_type": "markdown",
   "metadata": {},
   "source": [
    "## 6064번: 카잉 달력"
   ]
  },
  {
   "cell_type": "code",
   "execution_count": 8,
   "metadata": {},
   "outputs": [
    {
     "name": "stdout",
     "output_type": "stream",
     "text": [
      "3\n",
      "10 12 3 9\n",
      "33\n",
      "10 12 7 2\n",
      "-1\n",
      "13 11 5 6\n",
      "83\n"
     ]
    }
   ],
   "source": [
    "for _ in range(int(input())):\n",
    "    M, N, x, y = map(int, input().split())\n",
    "    ans = -1\n",
    "    while x <= M*N:\n",
    "        if (x-y)%N == 0:\n",
    "            ans = x\n",
    "            break\n",
    "        x += M\n",
    "    print(ans)"
   ]
  },
  {
   "cell_type": "markdown",
   "metadata": {},
   "source": [
    "## 1850번: 최대공약수"
   ]
  },
  {
   "cell_type": "code",
   "execution_count": 4,
   "metadata": {},
   "outputs": [
    {
     "name": "stdout",
     "output_type": "stream",
     "text": [
      "500000000000000000 500000000000000002\n",
      "11\n"
     ]
    }
   ],
   "source": [
    "from math import gcd\n",
    "A, B = map(int, input().split())\n",
    "print('1'*gcd(A, B))"
   ]
  },
  {
   "cell_type": "markdown",
   "metadata": {},
   "source": [
    "## 1789번: 수들의 합"
   ]
  },
  {
   "cell_type": "code",
   "execution_count": 5,
   "metadata": {},
   "outputs": [
    {
     "name": "stdout",
     "output_type": "stream",
     "text": [
      "200\n",
      "19\n"
     ]
    }
   ],
   "source": [
    "S = int(input())\n",
    "N = 1\n",
    "while N*(N+1)/2 <= S:\n",
    "    N += 1\n",
    "print(N-1)"
   ]
  },
  {
   "cell_type": "code",
   "execution_count": 11,
   "metadata": {},
   "outputs": [
    {
     "name": "stdout",
     "output_type": "stream",
     "text": [
      "200\n",
      "19\n"
     ]
    }
   ],
   "source": [
    "S = int(input())\n",
    "total = 0\n",
    "for i in range(S+1):\n",
    "    total += i\n",
    "    if total > S:\n",
    "        print(i-1)\n",
    "        break"
   ]
  },
  {
   "cell_type": "markdown",
   "metadata": {},
   "source": [
    "## 1057번: 토너먼트"
   ]
  },
  {
   "cell_type": "code",
   "execution_count": 4,
   "metadata": {},
   "outputs": [
    {
     "name": "stdout",
     "output_type": "stream",
     "text": [
      "60000 101 891\n",
      "10\n"
     ]
    }
   ],
   "source": [
    "N, a, b = map(int, input().split())\n",
    "cnt = 0\n",
    "while a!=b:\n",
    "    a -= a//2\n",
    "    b -= b//2\n",
    "    cnt += 1\n",
    "print(cnt)"
   ]
  },
  {
   "cell_type": "markdown",
   "metadata": {},
   "source": [
    "## 10158번: 개미"
   ]
  },
  {
   "cell_type": "code",
   "execution_count": 18,
   "metadata": {},
   "outputs": [
    {
     "name": "stdout",
     "output_type": "stream",
     "text": [
      "6 4\n",
      "5 3\n",
      "4\n",
      "3 1\n"
     ]
    }
   ],
   "source": [
    "w, h = map(int, input().split())\n",
    "p, q = map(int, input().split())\n",
    "t = int(input())\n",
    "\n",
    "x = (p+t)//w\n",
    "y = (q+t)//h\n",
    "\n",
    "if x%2: x = w-(p+t)%w\n",
    "else: x = (p+t)%w\n",
    "if y%2: y = h-(q+t)%h\n",
    "else: y = (q+t)%h\n",
    "    \n",
    "print(x, y)"
   ]
  },
  {
   "cell_type": "markdown",
   "metadata": {},
   "source": [
    "## 2014번: 소수의 곱"
   ]
  },
  {
   "cell_type": "code",
   "execution_count": 30,
   "metadata": {},
   "outputs": [
    {
     "name": "stdout",
     "output_type": "stream",
     "text": [
      "4 19\n",
      "2 3 5 7\n",
      "27\n"
     ]
    }
   ],
   "source": [
    "import sys\n",
    "import heapq\n",
    "#input = sys.stdin.readline\n",
    "\n",
    "K, N = map(int, input().split())\n",
    "arr = list(map(int, input().split()))\n",
    "\n",
    "if K == 1:\n",
    "    print(arr[0]**N)\n",
    "\n",
    "else:\n",
    "    arr.sort()\n",
    "    heap = []\n",
    "    cnt = 1\n",
    "    for a in arr:\n",
    "        heapq.heappush(heap, a)\n",
    "\n",
    "    while cnt<N:\n",
    "        s1 = heapq.heappop(heap)\n",
    "        s2 = heapq.heappop(heap)\n",
    "\n",
    "        if s1 == s2: #두개 뽑아서 같은지 확인\n",
    "            heapq.heappush(heap, s1)\n",
    "            continue\n",
    "\n",
    "        for a in arr:\n",
    "            heapq.heappush(heap, s1*a)\n",
    "        heapq.heappush(heap, s2) #두번째 숫자 다시 넣기\n",
    "        cnt += 1\n",
    "    print(heapq.heappop(heap))"
   ]
  },
  {
   "cell_type": "markdown",
   "metadata": {},
   "source": [
    "## 13977번: 이항 계수와 쿼리"
   ]
  },
  {
   "cell_type": "code",
   "execution_count": 27,
   "metadata": {},
   "outputs": [
    {
     "name": "stdout",
     "output_type": "stream",
     "text": [
      "5\n",
      "5 2\n",
      "10\n",
      "5 3\n",
      "10\n",
      "10 5\n",
      "252\n",
      "20 10\n",
      "184756\n",
      "10 0\n",
      "1\n"
     ]
    }
   ],
   "source": [
    "#https://hello70825.tistory.com/m/348\n",
    "import sys\n",
    "#input = sys.stdin.readline\n",
    "\n",
    "MAX = 4000001\n",
    "MOD = 1000000007\n",
    "factorial = [1]*MAX\n",
    "\n",
    "for i in range(1, MAX):\n",
    "    factorial[i] = (factorial[i-1]*i)%MOD\n",
    "\n",
    "M = int(input())\n",
    "for _ in range(M):\n",
    "    N, K = map(int, input().split())\n",
    "    \n",
    "    buttom = factorial[K]*factorial[N-K]%MOD\n",
    "    temp = 1\n",
    "    exp = MOD-2\n",
    "    while exp:\n",
    "        if exp%2: temp = (buttom*temp)%MOD\n",
    "        buttom = buttom**2 % MOD\n",
    "        exp //= 2\n",
    "    print((factorial[N]*temp)%MOD)"
   ]
  }
 ],
 "metadata": {
  "kernelspec": {
   "display_name": "Python 3",
   "language": "python",
   "name": "python3"
  },
  "language_info": {
   "codemirror_mode": {
    "name": "ipython",
    "version": 3
   },
   "file_extension": ".py",
   "mimetype": "text/x-python",
   "name": "python",
   "nbconvert_exporter": "python",
   "pygments_lexer": "ipython3",
   "version": "3.8.3"
  },
  "toc": {
   "base_numbering": 1,
   "nav_menu": {},
   "number_sections": true,
   "sideBar": true,
   "skip_h1_title": false,
   "title_cell": "Table of Contents",
   "title_sidebar": "Contents",
   "toc_cell": false,
   "toc_position": {},
   "toc_section_display": true,
   "toc_window_display": false
  },
  "varInspector": {
   "cols": {
    "lenName": 16,
    "lenType": 16,
    "lenVar": 40
   },
   "kernels_config": {
    "python": {
     "delete_cmd_postfix": "",
     "delete_cmd_prefix": "del ",
     "library": "var_list.py",
     "varRefreshCmd": "print(var_dic_list())"
    },
    "r": {
     "delete_cmd_postfix": ") ",
     "delete_cmd_prefix": "rm(",
     "library": "var_list.r",
     "varRefreshCmd": "cat(var_dic_list()) "
    }
   },
   "position": {
    "height": "250.824px",
    "left": "267.696px",
    "right": "20px",
    "top": "103.989px",
    "width": "350px"
   },
   "types_to_exclude": [
    "module",
    "function",
    "builtin_function_or_method",
    "instance",
    "_Feature"
   ],
   "window_display": false
  }
 },
 "nbformat": 4,
 "nbformat_minor": 4
}
