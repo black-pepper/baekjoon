{
 "cells": [
  {
   "cell_type": "markdown",
   "metadata": {},
   "source": [
    "## 2188번: 축사 배정"
   ]
  },
  {
   "cell_type": "code",
   "execution_count": 1,
   "metadata": {},
   "outputs": [
    {
     "name": "stdout",
     "output_type": "stream",
     "text": [
      "5 5\n",
      "2 2 5\n",
      "3 2 3 4\n",
      "2 1 5\n",
      "3 1 2 5\n",
      "1 2\n",
      "4\n"
     ]
    }
   ],
   "source": [
    "import sys\n",
    "#input = sys.stdin.readline\n",
    "#sys.setrecursionlimit(100000)\n",
    "\n",
    "def DFS(x):\n",
    "    for n in cow[x]:\n",
    "        if visited[n]: continue\n",
    "        visited[n] = 1\n",
    "        if not room[n] or DFS(room[n]):\n",
    "            room[n] = x\n",
    "            return True\n",
    "    return False\n",
    "\n",
    "N, M = map(int, input().split())\n",
    "cow = [[]]\n",
    "for i in range(N):\n",
    "    cmd = list(map(int, input().split()))\n",
    "    cow.append(cmd[1:])\n",
    "\n",
    "room = [0]*(M+1)\n",
    "for i in range(N+1):\n",
    "    visited = [0]*(M+1)\n",
    "    DFS(i)\n",
    "    \n",
    "cnt = 0\n",
    "for i in range(M+1):\n",
    "    if room[i]: cnt+=1\n",
    "print(cnt)"
   ]
  },
  {
   "cell_type": "markdown",
   "metadata": {},
   "source": [
    "## 11377번: 열혈강호 3"
   ]
  },
  {
   "cell_type": "code",
   "execution_count": 4,
   "metadata": {},
   "outputs": [
    {
     "name": "stdout",
     "output_type": "stream",
     "text": [
      "5 5 1\n",
      "3 1 2 3\n",
      "3 1 2 3\n",
      "1 5\n",
      "1 5\n",
      "1 5\n",
      "4\n"
     ]
    }
   ],
   "source": [
    "import sys\n",
    "#input = sys.stdin.readline\n",
    "#sys.setrecursionlimit(100000)\n",
    "\n",
    "def DFS(x):\n",
    "    for n in worker[x]:\n",
    "        if visited[n]: continue\n",
    "        visited[n] = 1\n",
    "        if not work[n] or DFS(work[n]):\n",
    "            work[n] = x\n",
    "            return True\n",
    "    return False\n",
    "\n",
    "N, M, K = map(int, input().split())\n",
    "worker = [[]]\n",
    "for _ in range(N):\n",
    "    cmd = list(map(int, input().split()))\n",
    "    worker.append(cmd[1:])\n",
    "    \n",
    "work = [0]*(M+1)\n",
    "for i in range(N+1):\n",
    "    visited = [0]*(M+1)\n",
    "    DFS(i)\n",
    "cnt = 0\n",
    "for i in range(N+1):\n",
    "    visited = [0]*(M+1)\n",
    "    if DFS(i): cnt += 1\n",
    "    if cnt == K: break\n",
    "    \n",
    "cnt = 0\n",
    "for i in range(M+1):\n",
    "    if work[i]: cnt+=1\n",
    "print(cnt)"
   ]
  },
  {
   "cell_type": "markdown",
   "metadata": {},
   "source": [
    "## 1298번: 노트북의 주인을 찾아서"
   ]
  },
  {
   "cell_type": "code",
   "execution_count": 16,
   "metadata": {},
   "outputs": [
    {
     "name": "stdout",
     "output_type": "stream",
     "text": [
      "5 5\n",
      "1 1\n",
      "2 2\n",
      "3 3\n",
      "4 4\n",
      "5 5\n",
      "5\n"
     ]
    }
   ],
   "source": [
    "import sys\n",
    "#input = sys.stdin.readline\n",
    "#sys.setrecursionlimit(100000)\n",
    "\n",
    "def DFS(x):\n",
    "    for n in student[x]:\n",
    "        if visited[n]: continue\n",
    "        visited[n] = 1\n",
    "        if not notebook[n] or DFS(notebook[n]):\n",
    "            notebook[n] = x\n",
    "            return True\n",
    "    return False\n",
    "\n",
    "N, M = map(int, input().split())\n",
    "student = [[] for _ in range(N+1)]\n",
    "for i in range(M):\n",
    "    a, b = map(int, input().split())\n",
    "    student[a].append(b)\n",
    "    \n",
    "notebook = [0]*(N+1)\n",
    "for i in range(N+1):\n",
    "    visited = [0]*(N+1)\n",
    "    DFS(i)\n",
    "    \n",
    "cnt = 0\n",
    "for i in range(N+1):\n",
    "    if notebook[i]: cnt += 1\n",
    "print(cnt)"
   ]
  }
 ],
 "metadata": {
  "kernelspec": {
   "display_name": "Python 3",
   "language": "python",
   "name": "python3"
  },
  "language_info": {
   "codemirror_mode": {
    "name": "ipython",
    "version": 3
   },
   "file_extension": ".py",
   "mimetype": "text/x-python",
   "name": "python",
   "nbconvert_exporter": "python",
   "pygments_lexer": "ipython3",
   "version": "3.8.3"
  },
  "toc": {
   "base_numbering": 1,
   "nav_menu": {},
   "number_sections": true,
   "sideBar": true,
   "skip_h1_title": false,
   "title_cell": "Table of Contents",
   "title_sidebar": "Contents",
   "toc_cell": false,
   "toc_position": {},
   "toc_section_display": true,
   "toc_window_display": false
  },
  "varInspector": {
   "cols": {
    "lenName": 16,
    "lenType": 16,
    "lenVar": 40
   },
   "kernels_config": {
    "python": {
     "delete_cmd_postfix": "",
     "delete_cmd_prefix": "del ",
     "library": "var_list.py",
     "varRefreshCmd": "print(var_dic_list())"
    },
    "r": {
     "delete_cmd_postfix": ") ",
     "delete_cmd_prefix": "rm(",
     "library": "var_list.r",
     "varRefreshCmd": "cat(var_dic_list()) "
    }
   },
   "types_to_exclude": [
    "module",
    "function",
    "builtin_function_or_method",
    "instance",
    "_Feature"
   ],
   "window_display": false
  }
 },
 "nbformat": 4,
 "nbformat_minor": 4
}
