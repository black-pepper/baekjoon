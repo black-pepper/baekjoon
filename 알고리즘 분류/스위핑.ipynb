{
 "cells": [
  {
   "cell_type": "markdown",
   "metadata": {},
   "source": [
    "## 1911번: 흙길 보수하기"
   ]
  },
  {
   "cell_type": "code",
   "execution_count": 42,
   "metadata": {},
   "outputs": [
    {
     "name": "stdout",
     "output_type": "stream",
     "text": [
      "3 3\n",
      "1 6\n",
      "13 17\n",
      "8 12\n",
      "5\n"
     ]
    }
   ],
   "source": [
    "N, L = map(int, input().split()) #웅덩이 개수, 널빤지 길이\n",
    "arr = []\n",
    "for i in range(N):\n",
    "    arr.append(tuple(map(int, input().split())))\n",
    "arr.sort()\n",
    "\n",
    "right, cnt = 0, 0 #널빤지 끝, 개수\n",
    "for s, e in arr:\n",
    "    \n",
    "    if right < s: #띄우고 새 널빤지 놓기\n",
    "        if (e-s)%L == 0:\n",
    "            right = e-1\n",
    "            cnt += (e-s)//L\n",
    "        else:\n",
    "            right = s+((e-s)//L+1)*L-1\n",
    "            cnt += (e-s)//L+1\n",
    "    else: #연결해놓기\n",
    "        if (e-1-right)%L == 0:\n",
    "            cnt += (e-1-right)//L\n",
    "            right = e-1\n",
    "        else:\n",
    "            cnt += (e-1-right)//L+1\n",
    "            right = right+1 + ((e-1-right)//L+1)*L-1\n",
    "print(cnt)"
   ]
  },
  {
   "cell_type": "markdown",
   "metadata": {},
   "source": [
    "## 15922번: 아우으 우아으이야!!"
   ]
  },
  {
   "cell_type": "code",
   "execution_count": 9,
   "metadata": {},
   "outputs": [
    {
     "name": "stdout",
     "output_type": "stream",
     "text": [
      "5\n",
      "-5 -2\n",
      "-3 0\n",
      "2 5\n",
      "6 10\n",
      "8 12\n",
      "14\n"
     ]
    }
   ],
   "source": [
    "import sys\n",
    "#input = sys.stdin.readline\n",
    "\n",
    "N = int(input())\n",
    "arr = []\n",
    "for i in range(N):\n",
    "    arr.append(tuple(map(int, input().split())))\n",
    "    \n",
    "ans, right = 0, -1000000000\n",
    "for s, e in arr:\n",
    "    if e <= right: continue\n",
    "    ans += abs(e-max(s, right))\n",
    "    right = e\n",
    "print(ans)"
   ]
  },
  {
   "cell_type": "markdown",
   "metadata": {},
   "source": [
    "## 17619번: 개구리 점프 (미완성)"
   ]
  },
  {
   "cell_type": "code",
   "execution_count": 4,
   "metadata": {},
   "outputs": [
    {
     "name": "stdout",
     "output_type": "stream",
     "text": [
      "4 2\n",
      "1 5 2\n",
      "3 7 4\n",
      "7 9 1\n",
      "10 13 4\n"
     ]
    }
   ],
   "source": [
    "N, Q = map(int, input().split())\n",
    "arr = []\n",
    "for i in range(1, N+1):\n",
    "    arr.append(list(map(int, input().split()))+[i])"
   ]
  },
  {
   "cell_type": "code",
   "execution_count": 6,
   "metadata": {},
   "outputs": [],
   "source": [
    "arr.sort()"
   ]
  },
  {
   "cell_type": "code",
   "execution_count": 9,
   "metadata": {},
   "outputs": [],
   "source": [
    "def union(a, b):\n",
    "    a = find_root(a)\n",
    "    b = find_root(b)\n",
    "    if a > b: parent[a] = b\n",
    "    else: parent[b] = a"
   ]
  },
  {
   "cell_type": "code",
   "execution_count": 11,
   "metadata": {},
   "outputs": [],
   "source": [
    "def find_root(target):\n",
    "    if target == parent[target]:\n",
    "        return target\n",
    "    parent[target] = find_root(parent[target])\n",
    "    return parent[target]"
   ]
  },
  {
   "cell_type": "code",
   "execution_count": 32,
   "metadata": {},
   "outputs": [
    {
     "name": "stdout",
     "output_type": "stream",
     "text": [
      "4 2\n",
      "1 5 2\n",
      "3 7 4\n",
      "7 9 1\n",
      "10 13 4\n",
      "1 3\n",
      "1\n",
      "1 4\n",
      "0\n"
     ]
    }
   ],
   "source": [
    "import sys\n",
    "#input = sys.stdin.readline\n",
    "#sys.setrecursionlimit(100000)\n",
    "\n",
    "def union(a, b):\n",
    "    a = find_root(a)\n",
    "    b = find_root(b)\n",
    "    if a > b: parent[a] = b\n",
    "    else: parent[b] = a\n",
    "\n",
    "def find_root(target):\n",
    "    if target == parent[target]:\n",
    "        return target\n",
    "    parent[target] = find_root(parent[target])\n",
    "    return parent[target]\n",
    "\n",
    "N, Q = map(int, input().split())\n",
    "arr = []\n",
    "for i in range(1, N+1):\n",
    "    arr.append(list(map(int, input().split()))+[i])\n",
    "\n",
    "parent = [i for i in range(N+1)]\n",
    "right = arr[0][1]\n",
    "for i in range(1, N):\n",
    "    x1, x2, y, idx = arr[i]\n",
    "    if x1 <= right:\n",
    "        union(arr[i-1][3], arr[i][3])\n",
    "    right = max(right, x2)\n",
    "    \n",
    "for i in range(Q):\n",
    "    x, y = map(int, input().split())\n",
    "    print(int(find_root(x)==find_root(y)))"
   ]
  }
 ],
 "metadata": {
  "kernelspec": {
   "display_name": "Python 3",
   "language": "python",
   "name": "python3"
  },
  "language_info": {
   "codemirror_mode": {
    "name": "ipython",
    "version": 3
   },
   "file_extension": ".py",
   "mimetype": "text/x-python",
   "name": "python",
   "nbconvert_exporter": "python",
   "pygments_lexer": "ipython3",
   "version": "3.8.3"
  },
  "toc": {
   "base_numbering": 1,
   "nav_menu": {},
   "number_sections": true,
   "sideBar": true,
   "skip_h1_title": false,
   "title_cell": "Table of Contents",
   "title_sidebar": "Contents",
   "toc_cell": false,
   "toc_position": {},
   "toc_section_display": true,
   "toc_window_display": false
  },
  "varInspector": {
   "cols": {
    "lenName": 16,
    "lenType": 16,
    "lenVar": 40
   },
   "kernels_config": {
    "python": {
     "delete_cmd_postfix": "",
     "delete_cmd_prefix": "del ",
     "library": "var_list.py",
     "varRefreshCmd": "print(var_dic_list())"
    },
    "r": {
     "delete_cmd_postfix": ") ",
     "delete_cmd_prefix": "rm(",
     "library": "var_list.r",
     "varRefreshCmd": "cat(var_dic_list()) "
    }
   },
   "types_to_exclude": [
    "module",
    "function",
    "builtin_function_or_method",
    "instance",
    "_Feature"
   ],
   "window_display": false
  }
 },
 "nbformat": 4,
 "nbformat_minor": 4
}
