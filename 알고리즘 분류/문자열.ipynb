{
 "cells": [
  {
   "cell_type": "markdown",
   "metadata": {},
   "source": [
    "## 1701번: Cubeditor"
   ]
  },
  {
   "cell_type": "code",
   "execution_count": 3,
   "metadata": {},
   "outputs": [
    {
     "name": "stdout",
     "output_type": "stream",
     "text": [
      "abcdabcabb\n",
      "3\n"
     ]
    }
   ],
   "source": [
    "import sys\n",
    "#input = sys.stdin.readline\n",
    "\n",
    "def make_table(pattern):\n",
    "    table = [0] * len(pattern)\n",
    "    j = 0\n",
    "    for i in range(1, len(pattern)):\n",
    "        while j>0 and pattern[i] != pattern[j]:\n",
    "            j = table[j-1]\n",
    "        if pattern[i] == pattern[j]:\n",
    "            j += 1\n",
    "            table[i] = j\n",
    "    return table\n",
    "\n",
    "parent = input().replace(\"\\n\",\"\")\n",
    "result = 0\n",
    "for i in range(len(parent)):\n",
    "    result = max(result,max(make_table(parent[i:])))\n",
    "print(result)"
   ]
  },
  {
   "cell_type": "markdown",
   "metadata": {},
   "source": [
    "## 9935번: 문자열 폭발"
   ]
  },
  {
   "cell_type": "code",
   "execution_count": 32,
   "metadata": {},
   "outputs": [
    {
     "name": "stdout",
     "output_type": "stream",
     "text": [
      "12ab112ab2ab\n",
      "12ab\n",
      "FRULA\n"
     ]
    }
   ],
   "source": [
    "import sys\n",
    "#input = sys.stdin.readline\n",
    "\n",
    "string = input().replace(\"\\n\",\"\")\n",
    "bomb = input().replace(\"\\n\",\"\")\n",
    "\n",
    "length = len(bomb)\n",
    "result = []\n",
    "for c in string:\n",
    "    result.append(c)\n",
    "    if c == bomb[-1] and ''.join(result[-length:]) == bomb:\n",
    "        del result[-length:]\n",
    "result = ''.join(result)\n",
    "        \n",
    "if result:\n",
    "    print(result)\n",
    "else:\n",
    "    print('FRULA')"
   ]
  },
  {
   "cell_type": "markdown",
   "metadata": {},
   "source": [
    "## 5052번: 전화번호 목록"
   ]
  },
  {
   "cell_type": "code",
   "execution_count": 40,
   "metadata": {},
   "outputs": [
    {
     "name": "stdout",
     "output_type": "stream",
     "text": [
      "2\n",
      "3\n",
      "911\n",
      "97625999\n",
      "91125426\n",
      "NO\n",
      "5\n",
      "113\n",
      "12340\n",
      "123440\n",
      "12345\n",
      "98346\n",
      "YES\n"
     ]
    }
   ],
   "source": [
    "import sys\n",
    "from copy import deepcopy\n",
    "#input = sys.stdin.readline\n",
    "\n",
    "t = int(input())\n",
    "\n",
    "for _ in range(t):\n",
    "    n = int(input())\n",
    "    phone = {}\n",
    "    for i in range(n):\n",
    "        phone[input().replace(\"\\n\",\"\")] = True\n",
    "\n",
    "    result = 'YES'\n",
    "    temp = deepcopy(phone)\n",
    "    for i in temp.keys():\n",
    "        del phone[i]\n",
    "        for j in range(1, len(i)+1):\n",
    "            if i[:j] in phone:\n",
    "                result = 'NO'\n",
    "                break\n",
    "        phone[i] = True\n",
    "    print(result)"
   ]
  },
  {
   "cell_type": "markdown",
   "metadata": {},
   "source": [
    "## 1958번: LCS 3"
   ]
  },
  {
   "cell_type": "code",
   "execution_count": 43,
   "metadata": {},
   "outputs": [
    {
     "name": "stdout",
     "output_type": "stream",
     "text": [
      "abcdefghijklmn\n",
      "bdefg\n",
      "efg\n",
      "3\n"
     ]
    }
   ],
   "source": [
    "#https://hjp845.tistory.com/30\n",
    "string1 = input()\n",
    "string2 = input()\n",
    "string3 = input()\n",
    "\n",
    "len1 = len(string1)\n",
    "len2 = len(string2)\n",
    "len3 = len(string3)\n",
    "\n",
    "dp = [[[0 for i in range(len3+1)] for j in range(len2+1)] for k in range(len1+1)]\n",
    "\n",
    "for i in range(1, len1+1):\n",
    "    for j in range(1, len2+1):\n",
    "        for k in range(1, len3+1):\n",
    "            if string1[i-1] == string2[j-1] == string3[k-1]:\n",
    "                dp[i][j][k] = dp[i-1][j-1][k-1]+1\n",
    "            else:\n",
    "                dp[i][j][k] = max(dp[i][j][k-1],dp[i][j-1][k],dp[i][j-1][k-1],dp[i-1][j][k],dp[i-1][j-1][k],dp[i-1][j][k-1])\n",
    "\n",
    "print(dp[-1][-1][-1])"
   ]
  },
  {
   "cell_type": "markdown",
   "metadata": {},
   "source": [
    "## 1013번: Contact"
   ]
  },
  {
   "cell_type": "code",
   "execution_count": 74,
   "metadata": {},
   "outputs": [
    {
     "name": "stdout",
     "output_type": "stream",
     "text": [
      "3\n",
      "10010111\n",
      "NO\n",
      "011000100110001\n",
      "NO\n",
      "0110001011001\n",
      "YES\n"
     ]
    }
   ],
   "source": [
    "import re\n",
    "\n",
    "T = int(input())\n",
    "pattern = re.compile('(100+1+|01)+')\n",
    "for _ in range(T):\n",
    "    sign = input()\n",
    "    check = pattern.fullmatch(sign)\n",
    "    if check: print(\"YES\")\n",
    "    else: print(\"NO\")"
   ]
  },
  {
   "cell_type": "markdown",
   "metadata": {},
   "source": [
    "## 4358번: 생태학"
   ]
  },
  {
   "cell_type": "code",
   "execution_count": 12,
   "metadata": {
    "ExecuteTime": {
     "end_time": "2021-09-21T02:12:59.766893Z",
     "start_time": "2021-09-21T02:11:17.457166Z"
    }
   },
   "outputs": [
    {
     "name": "stdout",
     "output_type": "stream",
     "text": [
      "Red Alder\n",
      "Ash\n",
      "Aspen\n",
      "Basswood\n",
      "Ash\n",
      "Beech\n",
      "Yellow Birch\n",
      "Ash\n",
      "Cherry\n",
      "Cottonwood\n",
      "Ash\n",
      "Cypress\n",
      "Red Elm\n",
      "Gum\n",
      "Hackberry\n",
      "White Oak\n",
      "Hickory\n",
      "Pecan\n",
      "Hard Maple\n",
      "White Oak\n",
      "Soft Maple\n",
      "Red Oak\n",
      "Red Oak\n",
      "White Oak\n",
      "Poplan\n",
      "Sassafras\n",
      "Sycamore\n",
      "Black Walnut\n",
      "Willow\n",
      "\n",
      "Ash 13.7931\n",
      "Aspen 3.4483\n",
      "Basswood 3.4483\n",
      "Beech 3.4483\n",
      "Black Walnut 3.4483\n",
      "Cherry 3.4483\n",
      "Cottonwood 3.4483\n",
      "Cypress 3.4483\n",
      "Gum 3.4483\n",
      "Hackberry 3.4483\n",
      "Hard Maple 3.4483\n",
      "Hickory 3.4483\n",
      "Pecan 3.4483\n",
      "Poplan 3.4483\n",
      "Red Alder 3.4483\n",
      "Red Elm 3.4483\n",
      "Red Oak 6.8966\n",
      "Sassafras 3.4483\n",
      "Soft Maple 3.4483\n",
      "Sycamore 3.4483\n",
      "White Oak 10.3448\n",
      "Willow 3.4483\n",
      "Yellow Birch 3.4483\n"
     ]
    }
   ],
   "source": [
    "import sys\n",
    "#input = sys.stdin.readline\n",
    "\n",
    "dic = {}\n",
    "cnt = 0\n",
    "while True:\n",
    "    name = input().replace('\\n','')\n",
    "    if not name:\n",
    "        break\n",
    "    if name in dic:\n",
    "        dic[name] += 1\n",
    "    else:\n",
    "        dic[name] = 1\n",
    "    cnt += 1\n",
    "    \n",
    "arr = []\n",
    "for n, c in dic.items():\n",
    "    arr.append((n, c/cnt))\n",
    "arr.sort()\n",
    "\n",
    "for n, c in arr:\n",
    "    print('%s %.4f' % (n, c*100))"
   ]
  }
 ],
 "metadata": {
  "kernelspec": {
   "display_name": "Python 3 (ipykernel)",
   "language": "python",
   "name": "python3"
  },
  "language_info": {
   "codemirror_mode": {
    "name": "ipython",
    "version": 3
   },
   "file_extension": ".py",
   "mimetype": "text/x-python",
   "name": "python",
   "nbconvert_exporter": "python",
   "pygments_lexer": "ipython3",
   "version": "3.8.11"
  },
  "toc": {
   "base_numbering": 1,
   "nav_menu": {},
   "number_sections": true,
   "sideBar": true,
   "skip_h1_title": false,
   "title_cell": "Table of Contents",
   "title_sidebar": "Contents",
   "toc_cell": false,
   "toc_position": {},
   "toc_section_display": true,
   "toc_window_display": false
  },
  "varInspector": {
   "cols": {
    "lenName": 16,
    "lenType": 16,
    "lenVar": 40
   },
   "kernels_config": {
    "python": {
     "delete_cmd_postfix": "",
     "delete_cmd_prefix": "del ",
     "library": "var_list.py",
     "varRefreshCmd": "print(var_dic_list())"
    },
    "r": {
     "delete_cmd_postfix": ") ",
     "delete_cmd_prefix": "rm(",
     "library": "var_list.r",
     "varRefreshCmd": "cat(var_dic_list()) "
    }
   },
   "types_to_exclude": [
    "module",
    "function",
    "builtin_function_or_method",
    "instance",
    "_Feature"
   ],
   "window_display": false
  }
 },
 "nbformat": 4,
 "nbformat_minor": 4
}
