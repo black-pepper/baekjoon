{
 "cells": [
  {
   "cell_type": "markdown",
   "metadata": {},
   "source": [
    "## 1701번: Cubeditor"
   ]
  },
  {
   "cell_type": "code",
   "execution_count": 3,
   "metadata": {},
   "outputs": [
    {
     "name": "stdout",
     "output_type": "stream",
     "text": [
      "abcdabcabb\n",
      "3\n"
     ]
    }
   ],
   "source": [
    "import sys\n",
    "#input = sys.stdin.readline\n",
    "\n",
    "def make_table(pattern):\n",
    "    table = [0] * len(pattern)\n",
    "    j = 0\n",
    "    for i in range(1, len(pattern)):\n",
    "        while j>0 and pattern[i] != pattern[j]:\n",
    "            j = table[j-1]\n",
    "        if pattern[i] == pattern[j]:\n",
    "            j += 1\n",
    "            table[i] = j\n",
    "    return table\n",
    "\n",
    "parent = input().replace(\"\\n\",\"\")\n",
    "result = 0\n",
    "for i in range(len(parent)):\n",
    "    result = max(result,max(make_table(parent[i:])))\n",
    "print(result)"
   ]
  },
  {
   "cell_type": "markdown",
   "metadata": {},
   "source": [
    "## 9935번: 문자열 폭발"
   ]
  },
  {
   "cell_type": "code",
   "execution_count": 32,
   "metadata": {},
   "outputs": [
    {
     "name": "stdout",
     "output_type": "stream",
     "text": [
      "12ab112ab2ab\n",
      "12ab\n",
      "FRULA\n"
     ]
    }
   ],
   "source": [
    "import sys\n",
    "#input = sys.stdin.readline\n",
    "\n",
    "string = input().replace(\"\\n\",\"\")\n",
    "bomb = input().replace(\"\\n\",\"\")\n",
    "\n",
    "length = len(bomb)\n",
    "result = []\n",
    "for c in string:\n",
    "    result.append(c)\n",
    "    if c == bomb[-1] and ''.join(result[-length:]) == bomb:\n",
    "        del result[-length:]\n",
    "result = ''.join(result)\n",
    "        \n",
    "if result:\n",
    "    print(result)\n",
    "else:\n",
    "    print('FRULA')"
   ]
  },
  {
   "cell_type": "markdown",
   "metadata": {},
   "source": [
    "## 5052번: 전화번호 목록"
   ]
  },
  {
   "cell_type": "code",
   "execution_count": 40,
   "metadata": {},
   "outputs": [
    {
     "name": "stdout",
     "output_type": "stream",
     "text": [
      "2\n",
      "3\n",
      "911\n",
      "97625999\n",
      "91125426\n",
      "NO\n",
      "5\n",
      "113\n",
      "12340\n",
      "123440\n",
      "12345\n",
      "98346\n",
      "YES\n"
     ]
    }
   ],
   "source": [
    "import sys\n",
    "from copy import deepcopy\n",
    "#input = sys.stdin.readline\n",
    "\n",
    "t = int(input())\n",
    "\n",
    "for _ in range(t):\n",
    "    n = int(input())\n",
    "    phone = {}\n",
    "    for i in range(n):\n",
    "        phone[input().replace(\"\\n\",\"\")] = True\n",
    "\n",
    "    result = 'YES'\n",
    "    temp = deepcopy(phone)\n",
    "    for i in temp.keys():\n",
    "        del phone[i]\n",
    "        for j in range(1, len(i)+1):\n",
    "            if i[:j] in phone:\n",
    "                result = 'NO'\n",
    "                break\n",
    "        phone[i] = True\n",
    "    print(result)"
   ]
  }
 ],
 "metadata": {
  "kernelspec": {
   "display_name": "Python 3",
   "language": "python",
   "name": "python3"
  },
  "language_info": {
   "codemirror_mode": {
    "name": "ipython",
    "version": 3
   },
   "file_extension": ".py",
   "mimetype": "text/x-python",
   "name": "python",
   "nbconvert_exporter": "python",
   "pygments_lexer": "ipython3",
   "version": "3.8.3"
  },
  "toc": {
   "base_numbering": 1,
   "nav_menu": {},
   "number_sections": true,
   "sideBar": true,
   "skip_h1_title": false,
   "title_cell": "Table of Contents",
   "title_sidebar": "Contents",
   "toc_cell": false,
   "toc_position": {},
   "toc_section_display": true,
   "toc_window_display": false
  },
  "varInspector": {
   "cols": {
    "lenName": 16,
    "lenType": 16,
    "lenVar": 40
   },
   "kernels_config": {
    "python": {
     "delete_cmd_postfix": "",
     "delete_cmd_prefix": "del ",
     "library": "var_list.py",
     "varRefreshCmd": "print(var_dic_list())"
    },
    "r": {
     "delete_cmd_postfix": ") ",
     "delete_cmd_prefix": "rm(",
     "library": "var_list.r",
     "varRefreshCmd": "cat(var_dic_list()) "
    }
   },
   "types_to_exclude": [
    "module",
    "function",
    "builtin_function_or_method",
    "instance",
    "_Feature"
   ],
   "window_display": false
  }
 },
 "nbformat": 4,
 "nbformat_minor": 4
}
