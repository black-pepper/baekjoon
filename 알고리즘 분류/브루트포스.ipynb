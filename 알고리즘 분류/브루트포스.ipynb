{
 "cells": [
  {
   "cell_type": "markdown",
   "metadata": {},
   "source": [
    "## 1107번: 리모컨"
   ]
  },
  {
   "cell_type": "code",
   "execution_count": 49,
   "metadata": {},
   "outputs": [
    {
     "name": "stdout",
     "output_type": "stream",
     "text": [
      "500000\n",
      "8\n",
      "0 2 3 4 6 7 8 9\n",
      "11117\n"
     ]
    }
   ],
   "source": [
    "import sys\n",
    "#input = sys.stdin.readline\n",
    "\n",
    "N = int(input())\n",
    "M = int(input())\n",
    "broken = list(map(int, input().split()))\n",
    "\n",
    "button = [True]*10\n",
    "for i in broken:\n",
    "    button[i] = False\n",
    "    \n",
    "cnt = abs(N-100) #현재위치(100)에서 이동\n",
    "\n",
    "for i in range(1000001):\n",
    "    if check_num(i):\n",
    "        cnt = min(cnt, len(str(i))+abs(N-i))\n",
    "\n",
    "print(cnt)"
   ]
  },
  {
   "cell_type": "markdown",
   "metadata": {},
   "source": [
    "## 1182번: 부분수열의 합"
   ]
  },
  {
   "cell_type": "code",
   "execution_count": 15,
   "metadata": {},
   "outputs": [
    {
     "name": "stdout",
     "output_type": "stream",
     "text": [
      "5 0\n",
      "-7 -3 -2 5 8\n",
      "1\n"
     ]
    }
   ],
   "source": [
    "from itertools import combinations\n",
    "\n",
    "N, S = map(int, input().split())\n",
    "arr = list(map(int, input().split()))\n",
    "\n",
    "cnt = 0\n",
    "for i in range(N+1):\n",
    "    for c in combinations(arr, i):\n",
    "        if c and sum(c) == S: cnt += 1\n",
    "print(cnt)"
   ]
  },
  {
   "cell_type": "markdown",
   "metadata": {},
   "source": [
    "## 10971번: 외판원 순회2"
   ]
  },
  {
   "cell_type": "code",
   "execution_count": 4,
   "metadata": {},
   "outputs": [
    {
     "name": "stdout",
     "output_type": "stream",
     "text": [
      "4\n",
      "0 10 15 20\n",
      "5 0 9 10\n",
      "6 13 0 12\n",
      "8 8 9 0\n",
      "35\n"
     ]
    }
   ],
   "source": [
    "import sys\n",
    "#input = sys.stdin.readline\n",
    "MAX = sys.maxsize\n",
    "\n",
    "result = MAX\n",
    "def DFS(n, w):\n",
    "    global result, s\n",
    "    if result < w:\n",
    "        return MAX\n",
    "    if sum(visited) == N-1:\n",
    "        if graph[n][s] == 0: #시작지점으로가는 경로가 없을 경우\n",
    "            return MAX\n",
    "        return w+graph[n][s]\n",
    "    \n",
    "    visited[n] = 1\n",
    "    for i in range(N):\n",
    "        if not visited[i] and graph[n][i] != 0:\n",
    "            result = min(result, DFS(i, w+graph[n][i]))\n",
    "    visited[n] = 0\n",
    "    \n",
    "    return result\n",
    "\n",
    "N = int(input())\n",
    "graph = []\n",
    "for i in range(N):\n",
    "    graph.append(list(map(int, input().split())))\n",
    "    \n",
    "visited = [0] * N\n",
    "for s in range(N):\n",
    "    result = min(result, DFS(s, 0))\n",
    "print(result)"
   ]
  },
  {
   "cell_type": "markdown",
   "metadata": {},
   "source": [
    "## 2468번: 안전 영역"
   ]
  },
  {
   "cell_type": "code",
   "execution_count": 9,
   "metadata": {},
   "outputs": [
    {
     "name": "stdout",
     "output_type": "stream",
     "text": [
      "7\n",
      "9 9 9 9 9 9 9\n",
      "9 2 1 2 1 2 9\n",
      "9 1 8 7 8 1 9\n",
      "9 2 7 9 7 2 9\n",
      "9 1 8 7 8 1 9\n",
      "9 2 1 2 1 2 9\n",
      "9 9 9 9 9 9 9\n",
      "6\n"
     ]
    }
   ],
   "source": [
    "import sys\n",
    "#input = sys.stdin.readline\n",
    "#sys.setrecursionlimit(100000)\n",
    "\n",
    "N = int(input())\n",
    "height = []\n",
    "for i in range(N):\n",
    "    height.append(list(map(int, input().split())))\n",
    "    \n",
    "ni = [-1, 1, 0, 0]\n",
    "nj = [0, 0, -1, 1]\n",
    "def DFS(h, i, j, cnt):\n",
    "    visited[i][j] = 1\n",
    "    for n in range(4):\n",
    "        if 0<=i+ni[n]<N and 0<=j+nj[n]<N:\n",
    "            if not visited[i+ni[n]][j+nj[n]] and height[i+ni[n]][j+nj[n]] > h:\n",
    "                DFS(h, i+ni[n], j+nj[n], cnt)\n",
    "\n",
    "result = 0\n",
    "for h in range(101):\n",
    "    cnt = 0\n",
    "    visited = [[0]*N for _ in range(N)]\n",
    "    for i in range(N):\n",
    "        for j in range(N):\n",
    "            if not visited[i][j] and height[i][j] > h:\n",
    "                cnt += 1\n",
    "                DFS(h, i, j, cnt)\n",
    "    if cnt == 0:\n",
    "        break\n",
    "    result = max(result, cnt)\n",
    "                \n",
    "print(result)"
   ]
  }
 ],
 "metadata": {
  "kernelspec": {
   "display_name": "Python 3",
   "language": "python",
   "name": "python3"
  },
  "language_info": {
   "codemirror_mode": {
    "name": "ipython",
    "version": 3
   },
   "file_extension": ".py",
   "mimetype": "text/x-python",
   "name": "python",
   "nbconvert_exporter": "python",
   "pygments_lexer": "ipython3",
   "version": "3.8.3"
  },
  "toc": {
   "base_numbering": 1,
   "nav_menu": {},
   "number_sections": true,
   "sideBar": true,
   "skip_h1_title": false,
   "title_cell": "Table of Contents",
   "title_sidebar": "Contents",
   "toc_cell": false,
   "toc_position": {},
   "toc_section_display": true,
   "toc_window_display": false
  },
  "varInspector": {
   "cols": {
    "lenName": 16,
    "lenType": 16,
    "lenVar": 40
   },
   "kernels_config": {
    "python": {
     "delete_cmd_postfix": "",
     "delete_cmd_prefix": "del ",
     "library": "var_list.py",
     "varRefreshCmd": "print(var_dic_list())"
    },
    "r": {
     "delete_cmd_postfix": ") ",
     "delete_cmd_prefix": "rm(",
     "library": "var_list.r",
     "varRefreshCmd": "cat(var_dic_list()) "
    }
   },
   "types_to_exclude": [
    "module",
    "function",
    "builtin_function_or_method",
    "instance",
    "_Feature"
   ],
   "window_display": false
  }
 },
 "nbformat": 4,
 "nbformat_minor": 4
}
