{
 "cells": [
  {
   "cell_type": "markdown",
   "metadata": {},
   "source": [
    "## 2225번: 합분해"
   ]
  },
  {
   "cell_type": "code",
   "execution_count": 21,
   "metadata": {},
   "outputs": [
    {
     "name": "stdout",
     "output_type": "stream",
     "text": [
      "20 2\n",
      "21\n"
     ]
    }
   ],
   "source": [
    "N, K = map(int, input().split())\n",
    "\n",
    "dp = [[0] * (N+1) for i in range(K+1)]\n",
    "\n",
    "for i in range(N+1):\n",
    "    dp[1][i] = 1\n",
    "\n",
    "for i in range(1, K+1):\n",
    "    for j in range(N+1):\n",
    "        for k in range(j+1):\n",
    "            dp[i][j] += dp[i-1][j-k]\n",
    "            dp[i][j] %= 1000000000\n",
    "            \n",
    "print(dp[K][N])"
   ]
  },
  {
   "cell_type": "markdown",
   "metadata": {},
   "source": [
    "## 2169번: 로봇 조종하기"
   ]
  },
  {
   "cell_type": "code",
   "execution_count": 40,
   "metadata": {},
   "outputs": [
    {
     "name": "stdout",
     "output_type": "stream",
     "text": [
      "5 5\n",
      "10 25 7 8 13\n",
      "68 24 -78 63 32\n",
      "12 -69 100 -29 -25\n",
      "-16 -22 -57 -33 99\n",
      "7 -76 -11 77 15\n",
      "319\n"
     ]
    }
   ],
   "source": [
    "import sys\n",
    "#input = sys.stdin.readline\n",
    "\n",
    "N, M = map(int, input().split())\n",
    "matrix = []\n",
    "for i in range(N):\n",
    "    matrix.append(list(map(int, input().split())))\n",
    "    \n",
    "dp = [[0]*M for i in range(N)]\n",
    "dp[0][0] = matrix[0][0]\n",
    "temp = [[[0]*3 for i in range(M)] for j in range(N)]\n",
    "\n",
    "for i in range(1, M):\n",
    "    dp[0][i] = dp[0][i-1] + matrix[0][i]\n",
    "    \n",
    "for i in range(1, N):\n",
    "    for j in range(M):\n",
    "        temp[i][j][0] = dp[i-1][j] + matrix[i][j]\n",
    "        temp[i][j][1] = dp[i-1][j] + matrix[i][j]\n",
    "    for j in range(1, M):\n",
    "        temp[i][j][0] = max(temp[i][j][0], temp[i][j-1][0]+matrix[i][j])\n",
    "    for j in range(M-2, -1, -1):\n",
    "        temp[i][j][1] = max(temp[i][j][1], temp[i][j+1][1] + matrix[i][j])\n",
    "    for j in range(M):\n",
    "        dp[i][j] = max(temp[i][j][0], temp[i][j][1])\n",
    "print(dp[-1][-1])"
   ]
  },
  {
   "cell_type": "markdown",
   "metadata": {},
   "source": [
    "## 2096번: 내려가기"
   ]
  },
  {
   "cell_type": "code",
   "execution_count": 15,
   "metadata": {
    "ExecuteTime": {
     "end_time": "2021-08-07T23:58:20.872091Z",
     "start_time": "2021-08-07T23:58:12.261178Z"
    }
   },
   "outputs": [
    {
     "name": "stdout",
     "output_type": "stream",
     "text": [
      "3\n",
      "1 2 3\n",
      "4 5 6\n",
      "4 9 0\n",
      "18 6\n"
     ]
    }
   ],
   "source": [
    "import sys\n",
    "from copy import deepcopy\n",
    "#input = sys.stdin.readline\n",
    "\n",
    "N = int(input())\n",
    "arr = list(map(int, input().split()))\n",
    "\n",
    "dp_max = deepcopy(arr)\n",
    "dp_min = deepcopy(arr)\n",
    "for i in range(1, N):\n",
    "    arr = list(map(int, input().split()))\n",
    "    temp_max = deepcopy(dp_max)\n",
    "    temp_min = deepcopy(dp_min)\n",
    "    #왼쪽\n",
    "    dp_max[0] = max(temp_max[0], temp_max[1])+arr[0]\n",
    "    dp_min[0] = min(temp_min[0], temp_min[1])+arr[0]\n",
    "    #중간\n",
    "    dp_max[1] = max([temp_max[0], temp_max[1], temp_max[2]])+arr[1]\n",
    "    dp_min[1] = min([temp_min[0], temp_min[1], temp_min[2]])+arr[1]\n",
    "    #오른쪽\n",
    "    dp_max[2] = max(temp_max[1], temp_max[2])+arr[2]\n",
    "    dp_min[2] = min(temp_min[1], temp_min[2])+arr[2]\n",
    "print(max(dp_max), min(dp_min))"
   ]
  },
  {
   "cell_type": "markdown",
   "metadata": {},
   "source": [
    "## 1937: 욕심쟁이 판다"
   ]
  },
  {
   "cell_type": "code",
   "execution_count": 1,
   "metadata": {},
   "outputs": [
    {
     "name": "stdout",
     "output_type": "stream",
     "text": [
      "4\n",
      "14 9 12 10\n",
      "1 11 5 4\n",
      "7 15 2 13\n",
      "6 3 16 8\n",
      "4\n"
     ]
    }
   ],
   "source": [
    "import heapq\n",
    "import sys\n",
    "#input = sys.stdin.readline\n",
    "\n",
    "n = int(input())\n",
    "forest = []\n",
    "for i in range(n):\n",
    "    forest.append(tuple(map(int, input().split())))\n",
    "    \n",
    "heap = []\n",
    "for i in range(n):\n",
    "    for j in range(n):\n",
    "        heapq.heappush(heap, (-forest[i][j], i, j))\n",
    "\n",
    "dp = [[0] * n for _ in range(n)]\n",
    "result = 0\n",
    "ni = [-1, 1, 0, 0]\n",
    "nj = [0, 0, -1, 1]\n",
    "while heap:\n",
    "    num, i, j = heapq.heappop(heap)\n",
    "    for k in range(4):\n",
    "        if 0<=i+ni[k]<n and 0<=j+nj[k]<n:\n",
    "            if forest[i][j] < forest[i+ni[k]][j+nj[k]]:\n",
    "                dp[i][j] = max(dp[i][j], dp[i+ni[k]][j+nj[k]]+1)\n",
    "    result = max(dp[i][j], result)\n",
    "    \n",
    "print(result+1)"
   ]
  },
  {
   "cell_type": "markdown",
   "metadata": {},
   "source": [
    "## 1915번: 가장 큰 정사각형"
   ]
  },
  {
   "cell_type": "code",
   "execution_count": 21,
   "metadata": {
    "scrolled": true
   },
   "outputs": [
    {
     "name": "stdout",
     "output_type": "stream",
     "text": [
      "4 4\n",
      "0100\n",
      "0111\n",
      "1110\n",
      "0010\n",
      "4\n"
     ]
    }
   ],
   "source": [
    "n, m = map(int, input().split())\n",
    "matrix = []\n",
    "for i in range(n):\n",
    "    matrix.append(list(map(int, input().strip())))\n",
    "    \n",
    "def find_value(i, j):\n",
    "    val1, val2, val3 = 0, 0, 0\n",
    "    if i>0 and j>0: #대각선\n",
    "        val1 = matrix[i-1][j-1]\n",
    "    if i>0 :#위\n",
    "        val2 = matrix[i-1][j]\n",
    "    if j>0: #왼쪽\n",
    "        val3 = matrix[i][j-1]\n",
    "    return min([val1, val2, val3])\n",
    "\n",
    "result = 0\n",
    "for i in range(n):\n",
    "    for j in range(m):\n",
    "        if matrix[i][j] == 0:\n",
    "            continue\n",
    "        matrix[i][j] = find_value(i, j) + 1\n",
    "        result = max(result, matrix[i][j])\n",
    "        \n",
    "print(result**2)"
   ]
  },
  {
   "cell_type": "markdown",
   "metadata": {},
   "source": [
    "## 17070번: 파이프 옮기기1"
   ]
  },
  {
   "cell_type": "code",
   "execution_count": 12,
   "metadata": {},
   "outputs": [
    {
     "name": "stdout",
     "output_type": "stream",
     "text": [
      "6\n",
      "0 0 0 0 0 0\n",
      "0 1 0 0 0 0\n",
      "0 0 0 0 0 0\n",
      "0 0 0 0 0 0\n",
      "0 0 0 0 0 0\n",
      "0 0 0 0 0 0\n",
      "13\n"
     ]
    }
   ],
   "source": [
    "#https://pacific-ocean.tistory.com/458\n",
    "import sys\n",
    "#input = sys.stdin.readline\n",
    "\n",
    "N = int(input())\n",
    "matrix = []\n",
    "for i in range(N):\n",
    "    matrix.append(list(map(int, input().split())))\n",
    "\n",
    "dp = [[[0 for i in range(3)] for i in range(N)] for i in range(N)]\n",
    "dp[0][1][0] = 1\n",
    "for i in range(2, N):\n",
    "    if matrix[0][i] == 0:\n",
    "        dp[0][i][0] = dp[0][i-1][0]\n",
    "for i in range(1, N):\n",
    "    for j in range(2, N):\n",
    "        if matrix[i][j] == 0 and matrix[i-1][j] == 0 and matrix[i][j-1] == 0:\n",
    "            dp[i][j][2] = dp[i-1][j - 1][0] + dp[i-1][j-1][1] + dp[i-1][j-1][2]\n",
    "        if matrix[i][j] == 0:\n",
    "            dp[i][j][0] = dp[i][j-1][0] + dp[i][j-1][2]\n",
    "            dp[i][j][1] = dp[i-1][j][1] + dp[i-1][j][2]\n",
    "print(sum(dp[-1][-1]))"
   ]
  },
  {
   "cell_type": "markdown",
   "metadata": {},
   "source": [
    "## 2133번: 타일 채우기"
   ]
  },
  {
   "cell_type": "code",
   "execution_count": 14,
   "metadata": {},
   "outputs": [
    {
     "name": "stdout",
     "output_type": "stream",
     "text": [
      "6\n",
      "41\n"
     ]
    }
   ],
   "source": [
    "N = int(input())\n",
    "dp = [1, 0, 3] + [0]*(N-2)\n",
    "for i in range(3, N+1):\n",
    "    dp[i] = dp[i-2] * 3\n",
    "    for j in range(i-4, -1, -2):\n",
    "        dp[i] += dp[j] * 2\n",
    "print(dp[N])"
   ]
  },
  {
   "cell_type": "markdown",
   "metadata": {},
   "source": [
    "## 5557번: 1학년"
   ]
  },
  {
   "cell_type": "code",
   "execution_count": 30,
   "metadata": {},
   "outputs": [
    {
     "name": "stdout",
     "output_type": "stream",
     "text": [
      "40\n",
      "1 1 1 1 1 1 1 1 1 1 1 1 1 1 1 1 1 1 1 1 1 1 1 1 1 1 1 1 1 1 1 1 1 1 1 1 0 0 1 1\n",
      "7069052760\n"
     ]
    }
   ],
   "source": [
    "N = int(input())\n",
    "arr = list(map(int, input().split()))\n",
    "\n",
    "dp = [[0] * 21 for _ in range(N)]\n",
    "dp[0][arr[0]] = 1\n",
    "for i in range(N-1):\n",
    "    for j in range(21):\n",
    "        if dp[i][j] != 0:\n",
    "            if 0<=j+arr[i+1]<=20: dp[i+1][j+arr[i+1]] += dp[i][j]\n",
    "            if 0<=j-arr[i+1]<=20: dp[i+1][j-arr[i+1]] += dp[i][j]\n",
    "print(dp[-2][arr[-1]])"
   ]
  },
  {
   "cell_type": "markdown",
   "metadata": {},
   "source": [
    "## 2193번: 이친수"
   ]
  },
  {
   "cell_type": "code",
   "execution_count": 9,
   "metadata": {},
   "outputs": [
    {
     "name": "stdout",
     "output_type": "stream",
     "text": [
      "1\n",
      "1\n"
     ]
    }
   ],
   "source": [
    "N = int(input())\n",
    "dp = [[0, 0] for i in range(N+1)]\n",
    "dp[1][1] = 1\n",
    "for i in range(2, N+1):\n",
    "    dp[i][0] = dp[i-1][0] + dp[i-1][1] #끝자리가 0인 이진수 개수\n",
    "    dp[i][1] = dp[i-1][0] #끝자리가 1인 이진수 개수\n",
    "print(sum(dp[-1]))"
   ]
  },
  {
   "cell_type": "markdown",
   "metadata": {},
   "source": [
    "## 14226번: 이모티콘"
   ]
  },
  {
   "cell_type": "code",
   "execution_count": 98,
   "metadata": {},
   "outputs": [
    {
     "name": "stdout",
     "output_type": "stream",
     "text": [
      "4\n",
      "4\n"
     ]
    }
   ],
   "source": [
    "from collections import deque\n",
    "\n",
    "S = int(input())\n",
    "MAX = 1002\n",
    "dp = [[MAX] * (S+1) for _ in range(S+1)] #화면, 클립보드\n",
    "dp[1][0] = 0\n",
    "\n",
    "queue = deque()\n",
    "queue.append((1, 0)) #시간, 클립보드, 화면, 복사유무\n",
    "while queue:\n",
    "    screen, clip = queue.popleft()\n",
    "    if dp[screen][screen] == MAX:\n",
    "        dp[screen][screen] = dp[screen][clip]+1\n",
    "        queue.append((screen, screen))\n",
    "\n",
    "    if screen+clip <= S and dp[screen+clip][clip] == MAX:\n",
    "        queue.append((screen+clip, clip))\n",
    "        dp[screen+clip][clip] = dp[screen][clip]+1\n",
    "\n",
    "    if screen-1 >= 0 and dp[screen-1][clip] == MAX:\n",
    "        queue.append((screen-1, clip))\n",
    "        dp[screen-1][clip] = dp[screen][clip]+1\n",
    "\n",
    "print(min(dp[S]))"
   ]
  },
  {
   "cell_type": "markdown",
   "metadata": {},
   "source": [
    "## 11727번: 타일링 2"
   ]
  },
  {
   "cell_type": "code",
   "execution_count": 16,
   "metadata": {},
   "outputs": [
    {
     "name": "stdout",
     "output_type": "stream",
     "text": [
      "1\n",
      "1\n"
     ]
    }
   ],
   "source": [
    "n = int(input())\n",
    "dp = [0]*max(n+1, 3)\n",
    "dp[1] = 1\n",
    "dp[2] = 3\n",
    "\n",
    "for i in range(3, n+1):\n",
    "    dp[i] = (dp[i-2]*2 + dp[i-1])%10007\n",
    "print(dp[n])"
   ]
  },
  {
   "cell_type": "markdown",
   "metadata": {},
   "source": [
    "## 11057번: 오르막 수"
   ]
  },
  {
   "cell_type": "code",
   "execution_count": 50,
   "metadata": {
    "ExecuteTime": {
     "end_time": "2021-10-29T13:04:30.133741Z",
     "start_time": "2021-10-29T13:04:28.384344Z"
    }
   },
   "outputs": [
    {
     "name": "stdout",
     "output_type": "stream",
     "text": [
      "1\n",
      "10\n"
     ]
    }
   ],
   "source": [
    "N = int(input())\n",
    "dp = [0] * (N+10)\n",
    "dp[0] = dp[1] = 1\n",
    "for i in range(2, N+10):\n",
    "    for j in range(i, -1, -1):\n",
    "        dp[j] = (dp[j-1]+dp[j]) % 10007\n",
    "print(dp[N]%10007)"
   ]
  },
  {
   "cell_type": "markdown",
   "metadata": {},
   "source": [
    "## 14501번: 퇴사"
   ]
  },
  {
   "cell_type": "code",
   "execution_count": 83,
   "metadata": {
    "ExecuteTime": {
     "end_time": "2021-10-30T08:44:09.503868Z",
     "start_time": "2021-10-30T08:43:52.632670Z"
    }
   },
   "outputs": [
    {
     "name": "stdout",
     "output_type": "stream",
     "text": [
      "7\n",
      "3 10\n",
      "5 20\n",
      "1 10\n",
      "1 20\n",
      "2 15\n",
      "4 40\n",
      "2 200\n",
      "45\n"
     ]
    }
   ],
   "source": [
    "N = int(input())\n",
    "arr = [[0, 0]]\n",
    "for i in range(N):\n",
    "    arr.append(list(map(int, input().split())))\n",
    "\n",
    "dp = [0] * (N+1)\n",
    "for i in range(1, N+1):\n",
    "    if i+arr[i][0]-1 <= N:\n",
    "        dp[i+arr[i][0]-1] = max(dp[i+arr[i][0]-1], arr[i][1]+dp[i-1])\n",
    "    dp[i] = max(dp[i], dp[i-1])\n",
    "print(dp[-1])"
   ]
  },
  {
   "cell_type": "markdown",
   "metadata": {},
   "source": [
    "## 11052번: 카드 구매하기"
   ]
  },
  {
   "cell_type": "code",
   "execution_count": 2,
   "metadata": {
    "ExecuteTime": {
     "end_time": "2021-10-31T00:36:30.205596Z",
     "start_time": "2021-10-31T00:36:08.816412Z"
    }
   },
   "outputs": [
    {
     "name": "stdout",
     "output_type": "stream",
     "text": [
      "4\n",
      "1 5 6 7\n",
      "10\n"
     ]
    }
   ],
   "source": [
    "N = int(input())\n",
    "P = [0]+list(map(int, input().split()))\n",
    "\n",
    "dp = [0] * (N+1)\n",
    "for i in range(N+1):\n",
    "    dp[i] = P[i]\n",
    "    for j in range(i):\n",
    "        #print(j, i-j)\n",
    "        dp[i] = max(dp[i], dp[j]+dp[i-j])\n",
    "print(dp[-1])"
   ]
  },
  {
   "cell_type": "markdown",
   "metadata": {},
   "source": [
    "## 1699번: 제곱수의 합"
   ]
  },
  {
   "cell_type": "code",
   "execution_count": 1,
   "metadata": {},
   "outputs": [
    {
     "name": "stdout",
     "output_type": "stream",
     "text": [
      "13\n",
      "2\n"
     ]
    }
   ],
   "source": [
    "N = int(input())\n",
    "dp = [i for i in range(N+1)]\n",
    "\n",
    "for i in range(1, 317):\n",
    "    if i*i > N:\n",
    "        break\n",
    "    dp[i*i] = 1\n",
    "    \n",
    "for i in range(1,N+1):\n",
    "    for j in range(2, 317):\n",
    "        if j*j > i:\n",
    "            break\n",
    "        dp[i] = min(dp[i], dp[j*j]+dp[i-j*j])\n",
    "        \n",
    "print(dp[-1])"
   ]
  },
  {
   "cell_type": "markdown",
   "metadata": {},
   "source": [
    "## 11055번: 가장 큰 증가 부분수열"
   ]
  },
  {
   "cell_type": "code",
   "execution_count": 35,
   "metadata": {},
   "outputs": [
    {
     "name": "stdout",
     "output_type": "stream",
     "text": [
      "10\n",
      "1 100 2 50 60 3 5 6 7 8\n",
      "113\n"
     ]
    }
   ],
   "source": [
    "N = int(input())\n",
    "A = list(map(int, input().split()))\n",
    "dp = [1] * N\n",
    "result = [0] * N\n",
    "\n",
    "for i in range(N):\n",
    "    temp = 0\n",
    "    for j in range(i):\n",
    "        if A[i] > A[j] and dp[j] >= temp:\n",
    "            temp = dp[j]\n",
    "            result[i] = max(result[i], result[j])\n",
    "    dp[i] = temp + 1\n",
    "    result[i] += A[i]\n",
    "print(max(result))"
   ]
  },
  {
   "cell_type": "markdown",
   "metadata": {},
   "source": [
    "## 11722번: 가장 긴 감소하는 부분 수열 "
   ]
  },
  {
   "cell_type": "code",
   "execution_count": 1,
   "metadata": {
    "ExecuteTime": {
     "end_time": "2021-11-04T03:26:03.438130Z",
     "start_time": "2021-11-04T03:26:01.297926Z"
    }
   },
   "outputs": [
    {
     "name": "stdout",
     "output_type": "stream",
     "text": [
      "6\n",
      "10 30 10 20 20 10\n",
      "3\n"
     ]
    }
   ],
   "source": [
    "N = int(input())\n",
    "A = list(map(int, input().split()))\n",
    "\n",
    "dp = [1] * N\n",
    "for i in range(N):\n",
    "    for j in range(i):\n",
    "        if A[j] > A[i]:\n",
    "            dp[i] = max(dp[i], dp[j]+1)\n",
    "print(max(dp))"
   ]
  },
  {
   "cell_type": "markdown",
   "metadata": {},
   "source": [
    "## 11048번: 이동하기"
   ]
  },
  {
   "cell_type": "code",
   "execution_count": 7,
   "metadata": {},
   "outputs": [
    {
     "name": "stdout",
     "output_type": "stream",
     "text": [
      "47\n"
     ]
    }
   ],
   "source": [
    "N, M = map(int, input().split())\n",
    "maze = []\n",
    "for i in range(N):\n",
    "    maze.append(list(map(int, input().split())))\n",
    "\n",
    "for i in range(1, M): #가로 첫째줄\n",
    "    maze[0][i] += maze[0][i-1]\n",
    "for i in range(1, N): #세로 첫째줄\n",
    "    maze[i][0] += maze[i-1][0]\n",
    "\n",
    "for i in range(1, N):\n",
    "    for j in range(1, M):\n",
    "        maze[i][j] += max((maze[i-1][j], maze[i][j-1], maze[i-1][j-1]))\n",
    "        \n",
    "print(maze[-1][-1])"
   ]
  },
  {
   "cell_type": "markdown",
   "metadata": {},
   "source": [
    "## 2294번: 동전 2"
   ]
  },
  {
   "cell_type": "code",
   "execution_count": 19,
   "metadata": {},
   "outputs": [
    {
     "name": "stdout",
     "output_type": "stream",
     "text": [
      "3 15\n",
      "1\n",
      "5\n",
      "12\n",
      "3\n"
     ]
    }
   ],
   "source": [
    "import sys\n",
    "#input = sys.stdin.readline\n",
    "MAX = sys.maxsize\n",
    "\n",
    "n, k = map(int, input().split())\n",
    "coin = []\n",
    "for i in range(n):\n",
    "    coin.append(int(input()))\n",
    "\n",
    "dp = [MAX] * (k+1)\n",
    "\n",
    "coin = sorted(list(set(coin)))\n",
    "for c in coin: #동전이 하나일 때\n",
    "    if c > k:\n",
    "        break\n",
    "    dp[c] = 1\n",
    "\n",
    "for i in range(k+1):\n",
    "    if dp[i] != MAX:\n",
    "        for c in coin:\n",
    "            if i+c > k:\n",
    "                break\n",
    "            dp[i+c] = min(dp[i+c], dp[i]+1)\n",
    "            \n",
    "if dp[k] == MAX:\n",
    "    print(-1)\n",
    "else:\n",
    "    print(dp[k])"
   ]
  },
  {
   "cell_type": "markdown",
   "metadata": {},
   "source": [
    "## 1890번: 점프"
   ]
  },
  {
   "cell_type": "code",
   "execution_count": 9,
   "metadata": {},
   "outputs": [
    {
     "name": "stdout",
     "output_type": "stream",
     "text": [
      "4\n",
      "2 3 3 1\n",
      "1 2 1 3\n",
      "1 2 3 1\n",
      "3 1 1 0\n",
      "3\n"
     ]
    }
   ],
   "source": [
    "N = int(input())\n",
    "board = []\n",
    "for i in range(N):\n",
    "    board.append(list(map(int, input().split())))\n",
    "\n",
    "dp = [[0]*N for _ in range(N)]\n",
    "dp[0][board[0][0]] = 1\n",
    "dp[board[0][0]][0] = 1\n",
    "flag = 0\n",
    "for i in range(N):\n",
    "    for j in range(N):\n",
    "        if dp[i][j] == 0:\n",
    "            continue\n",
    "        if board[i][j] == 0:\n",
    "            flag = 1\n",
    "            break\n",
    "        if j+board[i][j]<N:#오른쪽\n",
    "            dp[i][j+board[i][j]] += dp[i][j]\n",
    "        if i+board[i][j]<N:#아래\n",
    "            dp[i+board[i][j]][j] += dp[i][j]\n",
    "    if flag == 1:\n",
    "        break\n",
    "print(dp[-1][-1])"
   ]
  }
 ],
 "metadata": {
  "kernelspec": {
   "display_name": "Python 3",
   "language": "python",
   "name": "python3"
  },
  "language_info": {
   "codemirror_mode": {
    "name": "ipython",
    "version": 3
   },
   "file_extension": ".py",
   "mimetype": "text/x-python",
   "name": "python",
   "nbconvert_exporter": "python",
   "pygments_lexer": "ipython3",
   "version": "3.8.3"
  },
  "toc": {
   "base_numbering": 1,
   "nav_menu": {},
   "number_sections": true,
   "sideBar": true,
   "skip_h1_title": false,
   "title_cell": "Table of Contents",
   "title_sidebar": "Contents",
   "toc_cell": false,
   "toc_position": {},
   "toc_section_display": true,
   "toc_window_display": false
  },
  "varInspector": {
   "cols": {
    "lenName": 16,
    "lenType": 16,
    "lenVar": 40
   },
   "kernels_config": {
    "python": {
     "delete_cmd_postfix": "",
     "delete_cmd_prefix": "del ",
     "library": "var_list.py",
     "varRefreshCmd": "print(var_dic_list())"
    },
    "r": {
     "delete_cmd_postfix": ") ",
     "delete_cmd_prefix": "rm(",
     "library": "var_list.r",
     "varRefreshCmd": "cat(var_dic_list()) "
    }
   },
   "oldHeight": 122.4,
   "position": {
    "height": "109.006px",
    "left": "363.6px",
    "right": "20px",
    "top": "120px",
    "width": "250px"
   },
   "types_to_exclude": [
    "module",
    "function",
    "builtin_function_or_method",
    "instance",
    "_Feature"
   ],
   "varInspector_section_display": "none",
   "window_display": false
  }
 },
 "nbformat": 4,
 "nbformat_minor": 4
}
