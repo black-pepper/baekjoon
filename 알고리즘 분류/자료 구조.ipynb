{
 "cells": [
  {
   "cell_type": "markdown",
   "metadata": {},
   "source": [
    "## 3190번: 뱀 (미완성)"
   ]
  },
  {
   "cell_type": "code",
   "execution_count": 1,
   "metadata": {},
   "outputs": [
    {
     "name": "stdout",
     "output_type": "stream",
     "text": [
      "6\n",
      "3\n",
      "3 4\n",
      "2 5\n",
      "5 3\n"
     ]
    }
   ],
   "source": [
    "N = int(input())\n",
    "matrix = [[0]*N for i in range(N)]\n",
    "K = int(input())\n",
    "for i in range(K):\n",
    "    i, j = map(int, input().split())\n",
    "    matrix[i-1][j-1] = 2"
   ]
  },
  {
   "cell_type": "code",
   "execution_count": 17,
   "metadata": {},
   "outputs": [],
   "source": [
    "from collections import deque\n",
    "snake = deque()\n",
    "snake.append([0, 0])\n",
    "direction = 1#위, 오른쪽, 아래, 왼쪽\n",
    "ni = [-1, 0, 1, 0]\n",
    "nj = [0, 1, 0, -1]"
   ]
  },
  {
   "cell_type": "code",
   "execution_count": 18,
   "metadata": {},
   "outputs": [
    {
     "data": {
      "text/plain": [
       "[0, 0]"
      ]
     },
     "execution_count": 18,
     "metadata": {},
     "output_type": "execute_result"
    }
   ],
   "source": [
    "snake[0]"
   ]
  },
  {
   "cell_type": "code",
   "execution_count": 19,
   "metadata": {},
   "outputs": [
    {
     "name": "stdout",
     "output_type": "stream",
     "text": [
      "3\n",
      "3 D\n",
      "deque([[0, 0]])\n",
      "deque([[0, 1]])\n",
      "deque([[0, 2]])\n",
      "15 L\n",
      "deque([[0, 3]])\n",
      "deque([[1, 3]])\n",
      "deque([[2, 3]])\n",
      "deque([[3, 3]])\n",
      "deque([[4, 3]])\n",
      "8\n"
     ]
    }
   ],
   "source": [
    "L = int(input())\n",
    "cnt = 0\n",
    "result = 0\n",
    "for i in range(L):\n",
    "    X, C = map(str, input().split())\n",
    "    #X초가 될때까지 움직이기\n",
    "    for j in range(int(X)):\n",
    "        print(snake)\n",
    "        cnt += 1\n",
    "        #벽이나 몸에 부딛히면\n",
    "        if not 0<=snake[0][0]+ni[direction]<N-1 or not 0<=snake[0][1]+nj[direction]<N-1:\n",
    "            result = cnt\n",
    "            break\n",
    "        if matrix[snake[0][0]+ni[direction]][snake[0][1]+nj[direction]] == '1':\n",
    "            result = cnt\n",
    "            break\n",
    "        #사과가 있다면\n",
    "        if matrix[snake[0][0]+ni[direction]][snake[0][1]+nj[direction]] == '2':\n",
    "            snake.appendleft([snake[0][0]+ni[direction], snake[0][1]+nj[direction]])\n",
    "            matrix[snake[0][0]+ni[direction]][snake[0][1]+nj[direction]] = 1\n",
    "        else:\n",
    "            snake.appendleft([snake[0][0]+ni[direction], snake[0][1]+nj[direction]])\n",
    "            matrix[snake[0][0]+ni[direction]][snake[0][1]+nj[direction]] = 1\n",
    "            matrix[snake[-1][0]][snake[-1][1]] = 0\n",
    "            snake.pop()\n",
    "    if result != 0:\n",
    "        break\n",
    "    #X초가 되면 방향을 틀기\n",
    "    if 'D' in C:\n",
    "        direction = (direction+1)%4\n",
    "    else:\n",
    "        direction = (direction-1)%4\n",
    "        \n",
    "print(result)"
   ]
  },
  {
   "cell_type": "code",
   "execution_count": 21,
   "metadata": {},
   "outputs": [
    {
     "data": {
      "text/plain": [
       "deque([[4, 3]])"
      ]
     },
     "execution_count": 21,
     "metadata": {},
     "output_type": "execute_result"
    }
   ],
   "source": [
    "snake"
   ]
  },
  {
   "cell_type": "code",
   "execution_count": 20,
   "metadata": {},
   "outputs": [
    {
     "data": {
      "text/plain": [
       "[[0, 0, 0, 0, 1, 0],\n",
       " [0, 0, 0, 0, 2, 0],\n",
       " [0, 0, 0, 0, 0, 0],\n",
       " [0, 0, 0, 0, 0, 0],\n",
       " [0, 0, 2, 1, 0, 0],\n",
       " [0, 0, 0, 1, 0, 0]]"
      ]
     },
     "execution_count": 20,
     "metadata": {},
     "output_type": "execute_result"
    }
   ],
   "source": [
    "matrix"
   ]
  },
  {
   "cell_type": "code",
   "execution_count": null,
   "metadata": {},
   "outputs": [],
   "source": [
    "L = int(input())\n",
    "result = 0\n",
    "direction = 3 #0:상, 1:하, 2:좌, 3:우\n",
    "point = \n",
    "for i in range(L):\n",
    "    X, C = map(str, input().split())\n",
    "    "
   ]
  },
  {
   "cell_type": "code",
   "execution_count": 7,
   "metadata": {},
   "outputs": [
    {
     "data": {
      "text/plain": [
       "3"
      ]
     },
     "execution_count": 7,
     "metadata": {},
     "output_type": "execute_result"
    }
   ],
   "source": [
    "(0-1)%4"
   ]
  }
 ],
 "metadata": {
  "kernelspec": {
   "display_name": "Python 3",
   "language": "python",
   "name": "python3"
  },
  "language_info": {
   "codemirror_mode": {
    "name": "ipython",
    "version": 3
   },
   "file_extension": ".py",
   "mimetype": "text/x-python",
   "name": "python",
   "nbconvert_exporter": "python",
   "pygments_lexer": "ipython3",
   "version": "3.8.3"
  },
  "toc": {
   "base_numbering": 1,
   "nav_menu": {},
   "number_sections": true,
   "sideBar": true,
   "skip_h1_title": false,
   "title_cell": "Table of Contents",
   "title_sidebar": "Contents",
   "toc_cell": false,
   "toc_position": {},
   "toc_section_display": true,
   "toc_window_display": false
  },
  "varInspector": {
   "cols": {
    "lenName": 16,
    "lenType": 16,
    "lenVar": 40
   },
   "kernels_config": {
    "python": {
     "delete_cmd_postfix": "",
     "delete_cmd_prefix": "del ",
     "library": "var_list.py",
     "varRefreshCmd": "print(var_dic_list())"
    },
    "r": {
     "delete_cmd_postfix": ") ",
     "delete_cmd_prefix": "rm(",
     "library": "var_list.r",
     "varRefreshCmd": "cat(var_dic_list()) "
    }
   },
   "types_to_exclude": [
    "module",
    "function",
    "builtin_function_or_method",
    "instance",
    "_Feature"
   ],
   "window_display": false
  }
 },
 "nbformat": 4,
 "nbformat_minor": 4
}
