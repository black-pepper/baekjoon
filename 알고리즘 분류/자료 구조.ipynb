{
 "cells": [
  {
   "cell_type": "markdown",
   "metadata": {},
   "source": [
    "## 3190번: 뱀"
   ]
  },
  {
   "cell_type": "code",
   "execution_count": 45,
   "metadata": {},
   "outputs": [
    {
     "name": "stdout",
     "output_type": "stream",
     "text": [
      "10\n",
      "5\n",
      "1 5\n",
      "1 3\n",
      "1 2\n",
      "1 6\n",
      "1 7\n",
      "4\n",
      "8 D\n",
      "10 D\n",
      "11 D\n",
      "13 L\n",
      "13\n"
     ]
    }
   ],
   "source": [
    "from collections import deque\n",
    "N = int(input())\n",
    "matrix = [[0]*N for i in range(N)]\n",
    "K = int(input())\n",
    "for i in range(K):\n",
    "    i, j = map(int, input().split())\n",
    "    matrix[i-1][j-1] = 2\n",
    "\n",
    "snake = deque()\n",
    "snake.append([0, 0])\n",
    "matrix[0][0] = 1\n",
    "d = 1#위, 오른쪽, 아래, 왼쪽\n",
    "ni = [-1, 0, 1, 0]\n",
    "nj = [0, 1, 0, -1]\n",
    "\n",
    "L = int(input())\n",
    "cmd = deque()\n",
    "for i in range(L):\n",
    "    cmd.append(list(map(str, input().split())))\n",
    "cnt = 0\n",
    "result = 0\n",
    "X, C = int(cmd[0][0]), cmd[0][1]\n",
    "\n",
    "while True:\n",
    "    cnt += 1\n",
    "    #벽이나 몸에 부딛히면\n",
    "    if not 0<=snake[0][0]+ni[d]<N or not 0<=snake[0][1]+nj[d]<N:\n",
    "        result = cnt\n",
    "        break\n",
    "    if matrix[snake[0][0]+ni[d]][snake[0][1]+nj[d]] == 1:\n",
    "        result = cnt\n",
    "        break\n",
    "    #사과가 있다면\n",
    "    if matrix[snake[0][0]+ni[d]][snake[0][1]+nj[d]] == 2:\n",
    "        snake.appendleft([snake[0][0]+ni[d], snake[0][1]+nj[d]])\n",
    "        matrix[snake[0][0]][snake[0][1]] = 1\n",
    "    else:\n",
    "        snake.appendleft([snake[0][0]+ni[d], snake[0][1]+nj[d]])\n",
    "        matrix[snake[0][0]][snake[0][1]] = 1\n",
    "        matrix[snake[-1][0]][snake[-1][1]] = 0\n",
    "        snake.pop()\n",
    "    if result != 0:\n",
    "        break\n",
    "    #X초가 되면 방향을 틀기\n",
    "    if cnt == X:\n",
    "        if 'D' in C:\n",
    "            d = (d+1)%4\n",
    "        else:\n",
    "            d = (d-1)%4\n",
    "        cmd.popleft()\n",
    "        if cmd:\n",
    "            X, C = int(cmd[0][0]), cmd[0][1]\n",
    "        \n",
    "print(result)"
   ]
  }
 ],
 "metadata": {
  "kernelspec": {
   "display_name": "Python 3",
   "language": "python",
   "name": "python3"
  },
  "language_info": {
   "codemirror_mode": {
    "name": "ipython",
    "version": 3
   },
   "file_extension": ".py",
   "mimetype": "text/x-python",
   "name": "python",
   "nbconvert_exporter": "python",
   "pygments_lexer": "ipython3",
   "version": "3.8.3"
  },
  "toc": {
   "base_numbering": 1,
   "nav_menu": {},
   "number_sections": true,
   "sideBar": true,
   "skip_h1_title": false,
   "title_cell": "Table of Contents",
   "title_sidebar": "Contents",
   "toc_cell": false,
   "toc_position": {},
   "toc_section_display": true,
   "toc_window_display": false
  },
  "varInspector": {
   "cols": {
    "lenName": 16,
    "lenType": 16,
    "lenVar": 40
   },
   "kernels_config": {
    "python": {
     "delete_cmd_postfix": "",
     "delete_cmd_prefix": "del ",
     "library": "var_list.py",
     "varRefreshCmd": "print(var_dic_list())"
    },
    "r": {
     "delete_cmd_postfix": ") ",
     "delete_cmd_prefix": "rm(",
     "library": "var_list.r",
     "varRefreshCmd": "cat(var_dic_list()) "
    }
   },
   "types_to_exclude": [
    "module",
    "function",
    "builtin_function_or_method",
    "instance",
    "_Feature"
   ],
   "window_display": false
  }
 },
 "nbformat": 4,
 "nbformat_minor": 4
}
