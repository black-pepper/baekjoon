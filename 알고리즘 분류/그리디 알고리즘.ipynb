{
 "cells": [
  {
   "cell_type": "markdown",
   "metadata": {},
   "source": [
    "## 2217번: 로프"
   ]
  },
  {
   "cell_type": "code",
   "execution_count": 12,
   "metadata": {},
   "outputs": [
    {
     "name": "stdout",
     "output_type": "stream",
     "text": [
      "2\n",
      "10\n",
      "15\n",
      "20\n"
     ]
    }
   ],
   "source": [
    "k = int(input())\n",
    "rope = []\n",
    "for i in range(k):\n",
    "    rope.append(int(input()))\n",
    "\n",
    "rope.sort()\n",
    "weight = []\n",
    "for i in range(k):\n",
    "    weight.append(rope[i]*(k-i))\n",
    "print(max(weight))"
   ]
  },
  {
   "cell_type": "markdown",
   "metadata": {},
   "source": [
    "## 1339번: 수학"
   ]
  },
  {
   "cell_type": "code",
   "execution_count": 13,
   "metadata": {},
   "outputs": [
    {
     "name": "stdout",
     "output_type": "stream",
     "text": [
      "2\n",
      "AB\n",
      "BA\n",
      "187\n"
     ]
    }
   ],
   "source": [
    "N = int(input())\n",
    "arr = []\n",
    "for i in range(N):\n",
    "    arr.append(input())\n",
    "\n",
    "alphabet = [0 for i in range(26)]\n",
    "\n",
    "for a in arr:\n",
    "    for i in range(len(a)):\n",
    "        alphabet[ord(a[-1]) - ord('A')] += 10**i\n",
    "        i += 1\n",
    "        a = a[:-1]\n",
    "\n",
    "alphabet.sort(reverse=True)\n",
    "result = 0\n",
    "for i in range(9, 0, -1):\n",
    "    result += i * alphabet[9 - i]\n",
    "print(result)"
   ]
  },
  {
   "cell_type": "markdown",
   "metadata": {},
   "source": [
    "## 1715번: 카드 정렬하기"
   ]
  },
  {
   "cell_type": "code",
   "execution_count": 4,
   "metadata": {},
   "outputs": [
    {
     "name": "stdout",
     "output_type": "stream",
     "text": [
      "3\n",
      "10\n",
      "20\n",
      "40\n",
      "100\n"
     ]
    }
   ],
   "source": [
    "import heapq\n",
    "\n",
    "N = int(input())\n",
    "heap = []\n",
    "for i in range(N):\n",
    "    heapq.heappush(heap, int(input()))\n",
    "    \n",
    "if N == 1:\n",
    "    print(0)\n",
    "else:\n",
    "    temp = heapq.heappop(heap) + heapq.heappop(heap)\n",
    "    result = temp\n",
    "    while heap:\n",
    "        heapq.heappush(heap, temp)\n",
    "        temp = heapq.heappop(heap) + heapq.heappop(heap)\n",
    "        result += temp\n",
    "    print(result)"
   ]
  },
  {
   "cell_type": "markdown",
   "metadata": {},
   "source": [
    "## 1744번: 수 묶기"
   ]
  },
  {
   "cell_type": "code",
   "execution_count": 15,
   "metadata": {},
   "outputs": [
    {
     "name": "stdout",
     "output_type": "stream",
     "text": [
      "5\n",
      "5\n",
      "4\n",
      "1\n",
      "1\n",
      "1\n",
      "23\n"
     ]
    }
   ],
   "source": [
    "import heapq\n",
    "N = int(input())\n",
    "positive = []\n",
    "negative = []\n",
    "result = 0\n",
    "for i in range(N):\n",
    "    num = int(input())\n",
    "    if num == 1:\n",
    "        result += 1\n",
    "    elif num > 0:\n",
    "        heapq.heappush(positive, -num)\n",
    "    else:\n",
    "        heapq.heappush(negative, num)\n",
    "\n",
    "        \n",
    "#양수 묶기\n",
    "while len(positive)>1:\n",
    "    result += heapq.heappop(positive) * heapq.heappop(positive)\n",
    "if positive:\n",
    "    result -= heapq.heappop(positive)\n",
    "\n",
    "#0과 음수 묶기    \n",
    "while len(negative)>1:\n",
    "    result += heapq.heappop(negative) * heapq.heappop(negative)\n",
    "if negative:\n",
    "    result += heapq.heappop(negative)\n",
    "\n",
    "print(result)"
   ]
  },
  {
   "cell_type": "markdown",
   "metadata": {},
   "source": [
    "## 2437번: 저울"
   ]
  },
  {
   "cell_type": "code",
   "execution_count": 6,
   "metadata": {},
   "outputs": [
    {
     "name": "stdout",
     "output_type": "stream",
     "text": [
      "7\n",
      "3 1 6 2 7 30 1\n",
      "21\n"
     ]
    }
   ],
   "source": [
    "#https://pacific-ocean.tistory.com/355\n",
    "N = int(input())\n",
    "weight = list(map(int, input().split()))\n",
    "weight.sort()\n",
    "\n",
    "answer = 1\n",
    "for i in range(N):\n",
    "    if answer < weight[i]:\n",
    "        break\n",
    "    answer += weight[i]\n",
    "print(answer)"
   ]
  },
  {
   "cell_type": "markdown",
   "metadata": {},
   "source": [
    "## 1700번: 멀티탭 스케줄링"
   ]
  },
  {
   "cell_type": "code",
   "execution_count": 114,
   "metadata": {},
   "outputs": [
    {
     "name": "stdout",
     "output_type": "stream",
     "text": [
      "3 10\n",
      "6 7 4 8 6 4 9 1 1 9 \n",
      "3\n"
     ]
    }
   ],
   "source": [
    "import sys\n",
    "#input = sys.stdin.readline\n",
    "\n",
    "N, K = map(int, input().split())\n",
    "turn = list(map(int, input().split()))\n",
    "\n",
    "#멀티탭이 찰때까지 콘센트 꽂기\n",
    "temp = 0\n",
    "i = 0\n",
    "bar = set()\n",
    "while i<K and len(bar)<N:\n",
    "    bar.add(turn[i])\n",
    "    i += 1\n",
    "    \n",
    "#각 콘센트에 필요한 순서 입력\n",
    "socket = [[101] for _ in range(100+1)]\n",
    "for s in range(i, K):\n",
    "    socket[turn[s]].append(s)\n",
    "    socket[turn[s]].sort()\n",
    "    \n",
    "count = 0\n",
    "#콘센트 교체\n",
    "for i in range(i, K):\n",
    "    #이미 꽂힌 콘센트라면 다음으로\n",
    "    if turn[i] in bar:\n",
    "        del socket[turn[i]][0]\n",
    "        continue\n",
    "        \n",
    "    #가장 나중에 사용하는 콘센트 찾기\n",
    "    select = [-1, -1]\n",
    "    for b in bar:\n",
    "        select = max(select, [socket[b][0], b])\n",
    "        \n",
    "    #찾은 콘센트와 교체\n",
    "    bar.remove(select[1])\n",
    "    del socket[turn[i]][0]\n",
    "    bar.add(turn[i])\n",
    "    count += 1\n",
    "    \n",
    "print(count)"
   ]
  },
  {
   "cell_type": "markdown",
   "metadata": {},
   "source": [
    "## 10775번: 공항"
   ]
  },
  {
   "cell_type": "code",
   "execution_count": 2,
   "metadata": {},
   "outputs": [
    {
     "name": "stdout",
     "output_type": "stream",
     "text": [
      "4\n",
      "6\n",
      "2\n",
      "2\n",
      "3\n",
      "3\n",
      "4\n",
      "4\n",
      "3\n"
     ]
    }
   ],
   "source": [
    "import sys\n",
    "#input = sys.stdin.readline\n",
    "#sys.setrecursionlimit(100000)\n",
    "\n",
    "def find_root(target):\n",
    "    if target == parent[target]:\n",
    "        return parent[target]\n",
    "    \n",
    "    parent[target] = find_root(parent[target])\n",
    "    return parent[target]\n",
    "\n",
    "def union(a, b):\n",
    "    a = find_root(a)\n",
    "    b = find_root(b)\n",
    "    \n",
    "    if a > b:\n",
    "        parent[a] = b\n",
    "    else:\n",
    "        parent[b] = a\n",
    "        \n",
    "G = int(input())\n",
    "P = int(input())\n",
    "airplane = []\n",
    "for i in range(P):\n",
    "    airplane.append(int(input()))\n",
    "    \n",
    "parent = [i for i in range(G+1)]\n",
    "count = 0\n",
    "for i in airplane:\n",
    "    g = find_root(i)\n",
    "    if g == 0:\n",
    "        break\n",
    "    union(g, g-1)\n",
    "    count += 1\n",
    "    \n",
    "print(count)"
   ]
  },
  {
   "cell_type": "markdown",
   "metadata": {},
   "source": [
    "## 11000번: 강의실 배정"
   ]
  },
  {
   "cell_type": "code",
   "execution_count": 16,
   "metadata": {},
   "outputs": [
    {
     "name": "stdout",
     "output_type": "stream",
     "text": [
      "3\n",
      "1 3\n",
      "2 4\n",
      "3 5\n",
      "2\n"
     ]
    }
   ],
   "source": [
    "import sys\n",
    "import heapq\n",
    "#input = sys.stdin.readline\n",
    "\n",
    "N = int(input())\n",
    "arr = []\n",
    "for i in range(N):\n",
    "    arr.append(tuple(map(int, input().split())))\n",
    "arr.sort()\n",
    "\n",
    "heap = []\n",
    "heapq.heappush(heap, arr[0][1])\n",
    "\n",
    "for i in range(1, N):\n",
    "    if heap[0] > arr[i][0]:\n",
    "        heapq.heappush(heap, arr[i][1])\n",
    "    else:\n",
    "        heapq.heappop(heap)\n",
    "        heapq.heappush(heap, arr[i][1])\n",
    "        \n",
    "print(len(heap))"
   ]
  },
  {
   "cell_type": "markdown",
   "metadata": {},
   "source": [
    "## 3109번: 빵집"
   ]
  },
  {
   "cell_type": "code",
   "execution_count": 17,
   "metadata": {},
   "outputs": [
    {
     "name": "stdout",
     "output_type": "stream",
     "text": [
      "5 5\n",
      ".xx..\n",
      "..x..\n",
      ".....\n",
      "...x.\n",
      "...x.\n",
      "2\n"
     ]
    }
   ],
   "source": [
    "import sys\n",
    "#input = sys.stdin.readline\n",
    "\n",
    "R, C = map(int, input().split())\n",
    "graph = []\n",
    "for i in range(R):\n",
    "    graph.append(input())\n",
    "\n",
    "visit = [[0]*C for i in range(R)]\n",
    "result = 0\n",
    "find = 0\n",
    "\n",
    "def DFS(x, y):\n",
    "    global result, find\n",
    "    visit[x][y] = 1\n",
    "    if y == C - 1:\n",
    "        result += 1\n",
    "        find = 1\n",
    "    \n",
    "    y += 1\n",
    "    for i in range(-1, 2):\n",
    "        if 0<=x+i<R and y<C and not visit[x+i][y] and graph[x+i][y] == '.':\n",
    "            DFS(x+i, y)\n",
    "            if find:\n",
    "                return\n",
    "\n",
    "for i in range(R):\n",
    "    find = 0\n",
    "    DFS(i, 0)\n",
    "    \n",
    "print(result)"
   ]
  },
  {
   "cell_type": "markdown",
   "metadata": {},
   "source": [
    "## 2812번: 크게 만들기"
   ]
  },
  {
   "cell_type": "code",
   "execution_count": 18,
   "metadata": {},
   "outputs": [
    {
     "name": "stdout",
     "output_type": "stream",
     "text": [
      "10 4\n",
      "4177252841\n",
      "775841"
     ]
    }
   ],
   "source": [
    "import sys\n",
    "#input = sys.stdin.readline\n",
    "\n",
    "N, K = map(int, input().split())\n",
    "arr = list(map(int, input().strip()))\n",
    "\n",
    "result = []\n",
    "num = K\n",
    "\n",
    "for i in range(N):\n",
    "    while num>0 and result and result[-1]<arr[i]:\n",
    "        result.pop()\n",
    "        num -= 1\n",
    "    result.append(arr[i])\n",
    "    \n",
    "for i in result[:N-K]:\n",
    "    print(i, end='')"
   ]
  }
 ],
 "metadata": {
  "kernelspec": {
   "display_name": "Python 3",
   "language": "python",
   "name": "python3"
  },
  "language_info": {
   "codemirror_mode": {
    "name": "ipython",
    "version": 3
   },
   "file_extension": ".py",
   "mimetype": "text/x-python",
   "name": "python",
   "nbconvert_exporter": "python",
   "pygments_lexer": "ipython3",
   "version": "3.8.3"
  },
  "toc": {
   "base_numbering": 1,
   "nav_menu": {},
   "number_sections": true,
   "sideBar": true,
   "skip_h1_title": false,
   "title_cell": "Table of Contents",
   "title_sidebar": "Contents",
   "toc_cell": false,
   "toc_position": {},
   "toc_section_display": true,
   "toc_window_display": false
  },
  "varInspector": {
   "cols": {
    "lenName": 16,
    "lenType": 16,
    "lenVar": 40
   },
   "kernels_config": {
    "python": {
     "delete_cmd_postfix": "",
     "delete_cmd_prefix": "del ",
     "library": "var_list.py",
     "varRefreshCmd": "print(var_dic_list())"
    },
    "r": {
     "delete_cmd_postfix": ") ",
     "delete_cmd_prefix": "rm(",
     "library": "var_list.r",
     "varRefreshCmd": "cat(var_dic_list()) "
    }
   },
   "types_to_exclude": [
    "module",
    "function",
    "builtin_function_or_method",
    "instance",
    "_Feature"
   ],
   "window_display": false
  }
 },
 "nbformat": 4,
 "nbformat_minor": 4
}
