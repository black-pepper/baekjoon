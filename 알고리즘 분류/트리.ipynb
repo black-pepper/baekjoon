{
 "cells": [
  {
   "cell_type": "markdown",
   "metadata": {},
   "source": [
    "## 4256번: 트리"
   ]
  },
  {
   "cell_type": "code",
   "execution_count": 21,
   "metadata": {},
   "outputs": [
    {
     "name": "stdout",
     "output_type": "stream",
     "text": [
      "2\n",
      "4\n",
      "3 2 1 4\n",
      "2 3 4 1\n",
      "2 4 1 3 \n",
      "8\n",
      "3 6 5 4 8 7 1 2\n",
      "5 6 8 4 3 1 2 7\n",
      "5 8 4 6 2 1 7 3 \n"
     ]
    }
   ],
   "source": [
    "import sys\n",
    "#input = sys.stdin.readline\n",
    "\n",
    "def find_node(pre_start, pre_end, in_start, in_end):\n",
    "        #print(pre_start, pre_end, in_start, in_end)\n",
    "        root = inorder.index(preorder[pre_start])\n",
    "        if preorder[pre_start] != inorder[in_start]: #왼쪽 노드가 있을때\n",
    "            find_node(pre_start+1, pre_start+(root-in_start), in_start, root-1)\n",
    "        if root != in_end: #오른쪽 노드가 있을때\n",
    "            find_node(pre_start+(root-in_start)+1, pre_end, root+1, in_end )\n",
    "        print(preorder[pre_start], end=' ')\n",
    "\n",
    "T = int(input())\n",
    "while(T):\n",
    "    n = int(input())\n",
    "    preorder = list(map(int, input().split()))\n",
    "    inorder = list(map(int, input().split()))  \n",
    "    find_node(0, n-1, 0, n-1)\n",
    "    print()\n",
    "    T -= 1"
   ]
  },
  {
   "cell_type": "markdown",
   "metadata": {},
   "source": [
    "## 1068번: 트리"
   ]
  },
  {
   "cell_type": "code",
   "execution_count": 35,
   "metadata": {},
   "outputs": [
    {
     "name": "stdout",
     "output_type": "stream",
     "text": [
      "4\n",
      "-1 0 1 2\n",
      "2\n",
      "1\n"
     ]
    }
   ],
   "source": [
    "cnt = 0\n",
    "def DFS(n):\n",
    "    global cnt\n",
    "    if tree[n] == -1:\n",
    "        return\n",
    "    if not tree[n] or tree[n] == [D]:\n",
    "        cnt += 1\n",
    "    for i in tree[n]:\n",
    "        DFS(i)\n",
    "        \n",
    "N = int(input())\n",
    "parents = list(map(int, input().split()))        \n",
    "\n",
    "tree = [[] for _ in range(N)]\n",
    "root = -1\n",
    "for i in range(N):\n",
    "    if parents[i] == -1:\n",
    "        root = i\n",
    "        continue\n",
    "    tree[parents[i]].append(i)\n",
    "D = int(input())\n",
    "tree[D] = -1\n",
    "\n",
    "DFS(root)\n",
    "print(cnt)"
   ]
  },
  {
   "cell_type": "markdown",
   "metadata": {},
   "source": [
    "## 2250번: 트리의 높이와 너비"
   ]
  },
  {
   "cell_type": "code",
   "execution_count": 1,
   "metadata": {},
   "outputs": [
    {
     "name": "stdout",
     "output_type": "stream",
     "text": [
      "19\n",
      "1 2 3\n",
      "2 4 5\n",
      "3 6 7\n",
      "4 8 -1\n",
      "5 9 10\n",
      "6 11 12\n",
      "7 13 -1\n",
      "8 -1 -1\n",
      "9 14 15\n",
      "10 -1 -1\n",
      "11 16 -1\n",
      "12 -1 -1\n",
      "13 17 -1\n",
      "14 -1 -1\n",
      "15 18 -1\n",
      "16 -1 -1\n",
      "17 -1 19\n",
      "18 -1 -1\n",
      "19 -1 -1\n",
      "3 18\n"
     ]
    }
   ],
   "source": [
    "import sys\n",
    "from collections import deque\n",
    "#input = sys.stdin.readline\n",
    "\n",
    "N = int(input())\n",
    "tree = [[] for _ in range(N+1)]\n",
    "for i in range(N):\n",
    "    a, b, c = map(int, input().split())\n",
    "    tree[a] = [b, c]\n",
    "\n",
    "#루트 찾기\n",
    "root = [0] * (N+1)\n",
    "root[0] = 1\n",
    "for i in range(1, N+1):\n",
    "    if tree[i] == [-1, -1] and len(tree) != 2:\n",
    "        root[i] += 1\n",
    "        continue\n",
    "    if tree[i][0] != -1:\n",
    "        root[tree[i][0]] += 1\n",
    "    if tree[i][1] != -1:\n",
    "        root[tree[i][1]] += 1\n",
    "        \n",
    "index = root.index(0)\n",
    "\n",
    "#위치 찾기\n",
    "cnt = 1\n",
    "def find_location(n):\n",
    "    global cnt\n",
    "    if tree[n][0] != -1:\n",
    "        find_location(tree[n][0])\n",
    "    location[n] = cnt\n",
    "    cnt += 1\n",
    "    if tree[n][1] != -1:\n",
    "        find_location(tree[n][1])\n",
    "location = [0] * (N+1)\n",
    "find_location(index)\n",
    "\n",
    "#너비 계산\n",
    "queue = deque()\n",
    "queue.append([index, 1]) #노드, 레벨\n",
    "level = [[0, 10001] for _ in range(N+1)] #최대값, 최소값\n",
    "while queue:\n",
    "    s, l = queue.popleft()\n",
    "    if level[l][0] < location[s]:\n",
    "        level[l][0] = location[s]\n",
    "    if level[l][1] > location[s]:\n",
    "        level[l][1] = location[s]\n",
    "    if tree[s][0] != -1:\n",
    "        queue.append([tree[s][0], l+1])\n",
    "    if tree[s][1] != -1:\n",
    "        queue.append([tree[s][1], l+1])\n",
    "\n",
    "result = 0\n",
    "result_index = 0\n",
    "for i in range(N+1):\n",
    "    if result < level[i][0] - level[i][1] + 1:\n",
    "        result = level[i][0] - level[i][1] + 1\n",
    "        result_index = i\n",
    "print(result_index, result)"
   ]
  }
 ],
 "metadata": {
  "kernelspec": {
   "display_name": "Python 3",
   "language": "python",
   "name": "python3"
  },
  "language_info": {
   "codemirror_mode": {
    "name": "ipython",
    "version": 3
   },
   "file_extension": ".py",
   "mimetype": "text/x-python",
   "name": "python",
   "nbconvert_exporter": "python",
   "pygments_lexer": "ipython3",
   "version": "3.8.3"
  },
  "toc": {
   "base_numbering": 1,
   "nav_menu": {},
   "number_sections": true,
   "sideBar": true,
   "skip_h1_title": false,
   "title_cell": "Table of Contents",
   "title_sidebar": "Contents",
   "toc_cell": false,
   "toc_position": {},
   "toc_section_display": true,
   "toc_window_display": false
  },
  "varInspector": {
   "cols": {
    "lenName": 16,
    "lenType": 16,
    "lenVar": 40
   },
   "kernels_config": {
    "python": {
     "delete_cmd_postfix": "",
     "delete_cmd_prefix": "del ",
     "library": "var_list.py",
     "varRefreshCmd": "print(var_dic_list())"
    },
    "r": {
     "delete_cmd_postfix": ") ",
     "delete_cmd_prefix": "rm(",
     "library": "var_list.r",
     "varRefreshCmd": "cat(var_dic_list()) "
    }
   },
   "position": {
    "height": "288.4px",
    "left": "240.6px",
    "right": "20px",
    "top": "21px",
    "width": "350px"
   },
   "types_to_exclude": [
    "module",
    "function",
    "builtin_function_or_method",
    "instance",
    "_Feature"
   ],
   "window_display": false
  }
 },
 "nbformat": 4,
 "nbformat_minor": 4
}
