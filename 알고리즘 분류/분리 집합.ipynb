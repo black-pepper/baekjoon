{
 "cells": [
  {
   "cell_type": "markdown",
   "id": "a3614e40",
   "metadata": {},
   "source": [
    "## 10216번: Count Circle Groups"
   ]
  },
  {
   "cell_type": "code",
   "execution_count": 19,
   "id": "ec1e64b1",
   "metadata": {},
   "outputs": [
    {
     "name": "stdout",
     "output_type": "stream",
     "text": [
      "2\n",
      "2\n",
      "0 0 1\n",
      "1 0 1\n",
      "1\n",
      "3\n",
      "0 0 1\n",
      "2 0 1\n",
      "10 0 5\n",
      "2\n"
     ]
    }
   ],
   "source": [
    "import sys\n",
    "#input = sys.stdin.readline\n",
    "#sys.setrecursionlimit(100000)\n",
    "\n",
    "def find_root(target):\n",
    "    if target != parent[target]:\n",
    "        parent[target] = find_root(parent[target])\n",
    "    return parent[target]\n",
    "    \n",
    "def union(a, b):\n",
    "    a = find_root(a)\n",
    "    b = find_root(b)\n",
    "    if a > b: a, b = b, a\n",
    "    parent[b] = a\n",
    "    \n",
    "def check(x1, y1, g1, x2, y2, g2):\n",
    "    return abs(x1-x2)**2+abs(y1-y2)**2<=(g1+g2)**2\n",
    "        \n",
    "for _ in range(int(input())):\n",
    "    N = int(input())\n",
    "    parent = [i for i in range(N)]\n",
    "    location = []\n",
    "    \n",
    "    for i in range(N):\n",
    "        x1, y1, g1 = map(int, input().split())\n",
    "        for j in range(len(location)):\n",
    "            x2, y2, g2 = location[j]\n",
    "            if check(x1, y1, g1, x2, y2, g2): union(i, j)\n",
    "        location.append([x1, y1, g1])\n",
    "        \n",
    "    for i in range(N):\n",
    "        parent[i] = find_root(i)\n",
    "        \n",
    "    print(len(set(parent)))"
   ]
  }
 ],
 "metadata": {
  "kernelspec": {
   "display_name": "Python 3 (ipykernel)",
   "language": "python",
   "name": "python3"
  },
  "language_info": {
   "codemirror_mode": {
    "name": "ipython",
    "version": 3
   },
   "file_extension": ".py",
   "mimetype": "text/x-python",
   "name": "python",
   "nbconvert_exporter": "python",
   "pygments_lexer": "ipython3",
   "version": "3.9.12"
  },
  "toc": {
   "base_numbering": 1,
   "nav_menu": {},
   "number_sections": true,
   "sideBar": true,
   "skip_h1_title": false,
   "title_cell": "Table of Contents",
   "title_sidebar": "Contents",
   "toc_cell": false,
   "toc_position": {},
   "toc_section_display": true,
   "toc_window_display": false
  },
  "varInspector": {
   "cols": {
    "lenName": 16,
    "lenType": 16,
    "lenVar": 40
   },
   "kernels_config": {
    "python": {
     "delete_cmd_postfix": "",
     "delete_cmd_prefix": "del ",
     "library": "var_list.py",
     "varRefreshCmd": "print(var_dic_list())"
    },
    "r": {
     "delete_cmd_postfix": ") ",
     "delete_cmd_prefix": "rm(",
     "library": "var_list.r",
     "varRefreshCmd": "cat(var_dic_list()) "
    }
   },
   "types_to_exclude": [
    "module",
    "function",
    "builtin_function_or_method",
    "instance",
    "_Feature"
   ],
   "window_display": false
  }
 },
 "nbformat": 4,
 "nbformat_minor": 5
}
