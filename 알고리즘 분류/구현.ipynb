{
 "cells": [
  {
   "cell_type": "markdown",
   "metadata": {},
   "source": [
    "## 14503번: 로봇 청소기"
   ]
  },
  {
   "cell_type": "code",
   "execution_count": 1,
   "metadata": {
    "scrolled": true
   },
   "outputs": [
    {
     "name": "stdout",
     "output_type": "stream",
     "text": [
      "11 10\n",
      "7 4 0\n",
      "1 1 1 1 1 1 1 1 1 1\n",
      "1 0 0 0 0 0 0 0 0 1\n",
      "1 0 0 0 1 1 1 1 0 1\n",
      "1 0 0 1 1 0 0 0 0 1\n",
      "1 0 1 1 0 0 0 0 0 1\n",
      "1 0 0 0 0 0 0 0 0 1\n",
      "1 0 0 0 0 0 0 1 0 1\n",
      "1 0 0 0 0 0 1 1 0 1\n",
      "1 0 0 0 0 0 1 1 0 1\n",
      "1 0 0 0 0 0 0 0 0 1\n",
      "1 1 1 1 1 1 1 1 1 1\n",
      "57\n"
     ]
    }
   ],
   "source": [
    "import sys\n",
    "#input = sys.stdin.readline\n",
    "\n",
    "N, M = map(int, input().split())\n",
    "r, c, d = map(int, input().split())\n",
    "matrix = []\n",
    "for i in range(N):\n",
    "    matrix.append(list(map(int, input().split())))\n",
    "\n",
    "dr = [-1, 0, 1, 0] #북, 동, 남, 서\n",
    "dc = [0, 1, 0, -1]\n",
    "cnt = 0\n",
    "\n",
    "def cleaning(r, c, d):\n",
    "    global cnt\n",
    "    if matrix[r][c] == 0:\n",
    "        cnt += 1\n",
    "        matrix[r][c] = 2\n",
    "    for i in range(4):\n",
    "        nd = (d+3)%4\n",
    "        nr = r+dr[nd]\n",
    "        nc = c+dc[nd]\n",
    "        if matrix[nr][nc] == 0:\n",
    "            cleaning(nr, nc, nd)\n",
    "            return\n",
    "        d = nd\n",
    "    nd = (d+2)%4\n",
    "    nr = r + dr[nd]\n",
    "    nc = c + dc[nd]\n",
    "    if matrix[nr][nc] == 1:\n",
    "        return\n",
    "    cleaning(nr, nc, d)\n",
    "        \n",
    "cleaning(r, c, d)\n",
    "print(cnt)"
   ]
  },
  {
   "cell_type": "code",
   "execution_count": 47,
   "metadata": {},
   "outputs": [
    {
     "name": "stdout",
     "output_type": "stream",
     "text": [
      "1 , 1 , 1 , 1 , 1 , 1 , 1 , 1 , 1 , 1 , \n",
      "1 , 56, 57, 46, 45, 44, 43, 42, 41, 1 , \n",
      "1 , 55, 48, 47, 1 , 1 , 1 , 1 , 40, 1 , \n",
      "1 , 50, 49, 1 , 1 , 36, 37, 38, 39, 1 , \n",
      "1 , 51, 1 , 1 , 35, 34, 31, 30, 0 , 1 , \n",
      "1 , 52, 53, 12, 11, 33, 32, 29, 28, 1 , \n",
      "1 , 54, 14, 13, 10, 9 , 0 , 1 , 27, 1 , \n",
      "1 , 16, 15, 2 , 1 , 8 , 1 , 1 , 26, 1 , \n",
      "1 , 17, 18, 3 , 4 , 7 , 1 , 1 , 25, 1 , \n",
      "1 , 21, 19, 20, 5 , 6 , 22, 23, 24, 1 , \n",
      "1 , 1 , 1 , 1 , 1 , 1 , 1 , 1 , 1 , 1 , \n"
     ]
    }
   ],
   "source": [
    "for i in range(N):\n",
    "    for j in range(M):\n",
    "        if matrix[i][j]<10:\n",
    "            print(str(matrix[i][j])+' ', end=', ')\n",
    "        else:\n",
    "            print(matrix[i][j], end=', ')\n",
    "    print()"
   ]
  },
  {
   "cell_type": "markdown",
   "metadata": {},
   "source": [
    "## 1476번: 날짜 계산 "
   ]
  },
  {
   "cell_type": "code",
   "execution_count": 7,
   "metadata": {},
   "outputs": [
    {
     "name": "stdout",
     "output_type": "stream",
     "text": [
      "15 28 19\n",
      "7980\n"
     ]
    }
   ],
   "source": [
    "E, S, M = map(int, input().split())\n",
    "e, s, m, y = 0, 0, 0, 0\n",
    "while True:\n",
    "    e = max((e+1)%16, 1)\n",
    "    s = max((s+1)%29, 1)\n",
    "    m = max((m+1)%20, 1)\n",
    "    y += 1\n",
    "    if e == E and s == S and m == M:\n",
    "        break\n",
    "print(y)"
   ]
  },
  {
   "cell_type": "code",
   "execution_count": 19,
   "metadata": {},
   "outputs": [
    {
     "name": "stdout",
     "output_type": "stream",
     "text": [
      "1 16 16\n",
      "16\n"
     ]
    }
   ],
   "source": [
    "import sys\n",
    "E, S, M = map(int, input().split())\n",
    "for y in range(1, sys.maxsize):\n",
    "    if (y-E)%15==0 and (y-S)%28==0 and (y-M)%19==0:\n",
    "        print(y)\n",
    "        break"
   ]
  },
  {
   "cell_type": "markdown",
   "metadata": {},
   "source": [
    "## 15686번: 치킨 배달"
   ]
  },
  {
   "cell_type": "code",
   "execution_count": 70,
   "metadata": {},
   "outputs": [
    {
     "name": "stdout",
     "output_type": "stream",
     "text": [
      "5 1\n",
      "1 2 0 2 1\n",
      "1 2 0 2 1\n",
      "1 2 0 2 1\n",
      "1 2 0 2 1\n",
      "1 2 0 2 1\n",
      "32\n"
     ]
    }
   ],
   "source": [
    "import sys\n",
    "#input = sys.stdin.readline\n",
    "from itertools import combinations\n",
    "\n",
    "N, M = list(map(int, input().split()))\n",
    "matrix = []\n",
    "for i in range(N):\n",
    "    matrix.append(list(map(int, input().split())))\n",
    "\n",
    "chicken = []\n",
    "house = []\n",
    "for i in range(N):\n",
    "    for j in range(N):\n",
    "        if matrix[i][j] == 1:\n",
    "            house.append((i, j))\n",
    "        elif matrix[i][j] == 2:\n",
    "            chicken.append((i, j))\n",
    "\n",
    "dp = [[0]*len(chicken) for i in range(len(house))]\n",
    "for i in range(len(house)):\n",
    "    for j in range(len(chicken)):\n",
    "        dp[i][j] = abs(chicken[j][0]-house[i][0])\n",
    "        dp[i][j] += abs(chicken[j][1]-house[i][1])\n",
    "\n",
    "MAX = sys.maxsize\n",
    "def average(exc):\n",
    "    result = 0\n",
    "    for i in range(len(house)):\n",
    "        temp = MAX\n",
    "        for j in range(len(chicken)):\n",
    "            if j in exc:\n",
    "                continue\n",
    "            temp = min(temp, dp[i][j])\n",
    "        result += temp\n",
    "    return result\n",
    "\n",
    "result = MAX\n",
    "for c in combinations(list(range(len(chicken))), len(chicken)-M):\n",
    "    result = min(average(c), result)\n",
    "print(result)"
   ]
  }
 ],
 "metadata": {
  "kernelspec": {
   "display_name": "Python 3",
   "language": "python",
   "name": "python3"
  },
  "language_info": {
   "codemirror_mode": {
    "name": "ipython",
    "version": 3
   },
   "file_extension": ".py",
   "mimetype": "text/x-python",
   "name": "python",
   "nbconvert_exporter": "python",
   "pygments_lexer": "ipython3",
   "version": "3.8.3"
  },
  "toc": {
   "base_numbering": 1,
   "nav_menu": {},
   "number_sections": true,
   "sideBar": true,
   "skip_h1_title": false,
   "title_cell": "Table of Contents",
   "title_sidebar": "Contents",
   "toc_cell": false,
   "toc_position": {},
   "toc_section_display": true,
   "toc_window_display": false
  },
  "varInspector": {
   "cols": {
    "lenName": 16,
    "lenType": 16,
    "lenVar": 40
   },
   "kernels_config": {
    "python": {
     "delete_cmd_postfix": "",
     "delete_cmd_prefix": "del ",
     "library": "var_list.py",
     "varRefreshCmd": "print(var_dic_list())"
    },
    "r": {
     "delete_cmd_postfix": ") ",
     "delete_cmd_prefix": "rm(",
     "library": "var_list.r",
     "varRefreshCmd": "cat(var_dic_list()) "
    }
   },
   "types_to_exclude": [
    "module",
    "function",
    "builtin_function_or_method",
    "instance",
    "_Feature"
   ],
   "window_display": false
  }
 },
 "nbformat": 4,
 "nbformat_minor": 4
}
