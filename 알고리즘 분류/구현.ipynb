{
 "cells": [
  {
   "cell_type": "markdown",
   "metadata": {},
   "source": [
    "## 14503번: 로봇 청소기"
   ]
  },
  {
   "cell_type": "code",
   "execution_count": 1,
   "metadata": {
    "scrolled": true
   },
   "outputs": [
    {
     "name": "stdout",
     "output_type": "stream",
     "text": [
      "11 10\n",
      "7 4 0\n",
      "1 1 1 1 1 1 1 1 1 1\n",
      "1 0 0 0 0 0 0 0 0 1\n",
      "1 0 0 0 1 1 1 1 0 1\n",
      "1 0 0 1 1 0 0 0 0 1\n",
      "1 0 1 1 0 0 0 0 0 1\n",
      "1 0 0 0 0 0 0 0 0 1\n",
      "1 0 0 0 0 0 0 1 0 1\n",
      "1 0 0 0 0 0 1 1 0 1\n",
      "1 0 0 0 0 0 1 1 0 1\n",
      "1 0 0 0 0 0 0 0 0 1\n",
      "1 1 1 1 1 1 1 1 1 1\n",
      "57\n"
     ]
    }
   ],
   "source": [
    "import sys\n",
    "#input = sys.stdin.readline\n",
    "\n",
    "N, M = map(int, input().split())\n",
    "r, c, d = map(int, input().split())\n",
    "matrix = []\n",
    "for i in range(N):\n",
    "    matrix.append(list(map(int, input().split())))\n",
    "\n",
    "dr = [-1, 0, 1, 0] #북, 동, 남, 서\n",
    "dc = [0, 1, 0, -1]\n",
    "cnt = 0\n",
    "\n",
    "def cleaning(r, c, d):\n",
    "    global cnt\n",
    "    if matrix[r][c] == 0:\n",
    "        cnt += 1\n",
    "        matrix[r][c] = 2\n",
    "    for i in range(4):\n",
    "        nd = (d+3)%4\n",
    "        nr = r+dr[nd]\n",
    "        nc = c+dc[nd]\n",
    "        if matrix[nr][nc] == 0:\n",
    "            cleaning(nr, nc, nd)\n",
    "            return\n",
    "        d = nd\n",
    "    nd = (d+2)%4\n",
    "    nr = r + dr[nd]\n",
    "    nc = c + dc[nd]\n",
    "    if matrix[nr][nc] == 1:\n",
    "        return\n",
    "    cleaning(nr, nc, d)\n",
    "        \n",
    "cleaning(r, c, d)\n",
    "print(cnt)"
   ]
  },
  {
   "cell_type": "code",
   "execution_count": 47,
   "metadata": {},
   "outputs": [
    {
     "name": "stdout",
     "output_type": "stream",
     "text": [
      "1 , 1 , 1 , 1 , 1 , 1 , 1 , 1 , 1 , 1 , \n",
      "1 , 56, 57, 46, 45, 44, 43, 42, 41, 1 , \n",
      "1 , 55, 48, 47, 1 , 1 , 1 , 1 , 40, 1 , \n",
      "1 , 50, 49, 1 , 1 , 36, 37, 38, 39, 1 , \n",
      "1 , 51, 1 , 1 , 35, 34, 31, 30, 0 , 1 , \n",
      "1 , 52, 53, 12, 11, 33, 32, 29, 28, 1 , \n",
      "1 , 54, 14, 13, 10, 9 , 0 , 1 , 27, 1 , \n",
      "1 , 16, 15, 2 , 1 , 8 , 1 , 1 , 26, 1 , \n",
      "1 , 17, 18, 3 , 4 , 7 , 1 , 1 , 25, 1 , \n",
      "1 , 21, 19, 20, 5 , 6 , 22, 23, 24, 1 , \n",
      "1 , 1 , 1 , 1 , 1 , 1 , 1 , 1 , 1 , 1 , \n"
     ]
    }
   ],
   "source": [
    "for i in range(N):\n",
    "    for j in range(M):\n",
    "        if matrix[i][j]<10:\n",
    "            print(str(matrix[i][j])+' ', end=', ')\n",
    "        else:\n",
    "            print(matrix[i][j], end=', ')\n",
    "    print()"
   ]
  },
  {
   "cell_type": "markdown",
   "metadata": {},
   "source": [
    "## 1476번: 날짜 계산 "
   ]
  },
  {
   "cell_type": "code",
   "execution_count": 7,
   "metadata": {},
   "outputs": [
    {
     "name": "stdout",
     "output_type": "stream",
     "text": [
      "15 28 19\n",
      "7980\n"
     ]
    }
   ],
   "source": [
    "E, S, M = map(int, input().split())\n",
    "e, s, m, y = 0, 0, 0, 0\n",
    "while True:\n",
    "    e = max((e+1)%16, 1)\n",
    "    s = max((s+1)%29, 1)\n",
    "    m = max((m+1)%20, 1)\n",
    "    y += 1\n",
    "    if e == E and s == S and m == M:\n",
    "        break\n",
    "print(y)"
   ]
  },
  {
   "cell_type": "code",
   "execution_count": 19,
   "metadata": {},
   "outputs": [
    {
     "name": "stdout",
     "output_type": "stream",
     "text": [
      "1 16 16\n",
      "16\n"
     ]
    }
   ],
   "source": [
    "import sys\n",
    "E, S, M = map(int, input().split())\n",
    "for y in range(1, sys.maxsize):\n",
    "    if (y-E)%15==0 and (y-S)%28==0 and (y-M)%19==0:\n",
    "        print(y)\n",
    "        break"
   ]
  },
  {
   "cell_type": "markdown",
   "metadata": {},
   "source": [
    "## 15686번: 치킨 배달"
   ]
  },
  {
   "cell_type": "code",
   "execution_count": 17,
   "metadata": {},
   "outputs": [
    {
     "name": "stdout",
     "output_type": "stream",
     "text": [
      "5 1\n",
      "1 2 0 2 1\n",
      "1 2 0 2 1\n",
      "1 2 0 2 1\n",
      "1 2 0 2 1\n",
      "1 2 0 2 1\n",
      "32\n"
     ]
    }
   ],
   "source": [
    "import sys\n",
    "#input = sys.stdin.readline\n",
    "from itertools import combinations\n",
    "\n",
    "N, M = list(map(int, input().split()))\n",
    "matrix = []\n",
    "for i in range(N):\n",
    "    matrix.append(list(map(int, input().split())))\n",
    "\n",
    "chicken = []\n",
    "house = []\n",
    "for i in range(N):\n",
    "    for j in range(N):\n",
    "        if matrix[i][j] == 1:\n",
    "            house.append((i, j))\n",
    "        elif matrix[i][j] == 2:\n",
    "            chicken.append((i, j))\n",
    "\n",
    "dp = [[0]*len(chicken) for i in range(len(house))]\n",
    "for i in range(len(house)):\n",
    "    for j in range(len(chicken)):\n",
    "        dp[i][j] = abs(chicken[j][0]-house[i][0])\n",
    "        dp[i][j] += abs(chicken[j][1]-house[i][1])\n",
    "\n",
    "MAX = sys.maxsize\n",
    "def average(exc):\n",
    "    result = 0\n",
    "    for i in range(len(house)):\n",
    "        temp = MAX\n",
    "        for j in range(len(chicken)):\n",
    "            if j in exc:\n",
    "                continue\n",
    "            temp = min(temp, dp[i][j])\n",
    "        result += temp\n",
    "    return result\n",
    "\n",
    "result = MAX\n",
    "for c in combinations(list(range(len(chicken))), len(chicken)-M):\n",
    "    result = min(average(c), result)\n",
    "print(result)"
   ]
  },
  {
   "cell_type": "markdown",
   "metadata": {},
   "source": [
    "## 14500번: 테트로미노"
   ]
  },
  {
   "cell_type": "code",
   "execution_count": 76,
   "metadata": {},
   "outputs": [
    {
     "name": "stdout",
     "output_type": "stream",
     "text": [
      "5 5\n",
      "1 2 3 4 5\n",
      "5 4 3 2 1\n",
      "2 3 4 5 6\n",
      "6 5 4 3 2\n",
      "1 2 1 2 1\n",
      "19\n"
     ]
    }
   ],
   "source": [
    "import sys\n",
    "#input = sys.stdin.readline\n",
    "\n",
    "N, M = map(int, input().split())\n",
    "matrix = []\n",
    "for i in range(N):\n",
    "    matrix.append(list(map(int, input().split())))\n",
    "\n",
    "di = [-1, 1, 0, 0]\n",
    "dj = [0, 0, -1, 1]\n",
    "visited = [[0]*M for _ in range(N)]\n",
    "result = 0\n",
    "def DFS(num, cnt, i, j):\n",
    "    visited[i][j] = 1\n",
    "    if cnt==4:\n",
    "        global result\n",
    "        result = max(result, num+matrix[i][j])\n",
    "        visited[i][j] = 0\n",
    "        return\n",
    "    for d in range(4):\n",
    "        if 0<=i+di[d]<N and 0<=j+dj[d]<M:\n",
    "            if visited[i+di[d]][j+dj[d]] == 0:\n",
    "                DFS(num+matrix[i][j], cnt+1, i+di[d], j+dj[d])\n",
    "    visited[i][j] = 0\n",
    "        \n",
    "def shape(i, j):\n",
    "    global result\n",
    "    num = matrix[i][j]\n",
    "    cnt = 1\n",
    "    for d in range(4):\n",
    "        if 0<=i+di[d]<N and 0<=j+dj[d]<M:\n",
    "            cnt += 1\n",
    "            num += matrix[i+di[d]][j+dj[d]]\n",
    "    if cnt < 5:\n",
    "        result = max(result, num)\n",
    "        return\n",
    "    for d in range(4):\n",
    "        result = max(result, num-matrix[i+di[d]][j+dj[d]])\n",
    "        \n",
    "for i in range(N):\n",
    "    for j in range(M):\n",
    "        DFS(0, 1, i, j)\n",
    "        shape(i, j)\n",
    "        \n",
    "print(result)"
   ]
  },
  {
   "cell_type": "markdown",
   "metadata": {},
   "source": [
    "## 14499번: 주사위 굴리기"
   ]
  },
  {
   "cell_type": "code",
   "execution_count": 70,
   "metadata": {},
   "outputs": [
    {
     "name": "stdout",
     "output_type": "stream",
     "text": [
      "4 2 0 0 8\n",
      "0 2\n",
      "3 4\n",
      "5 6\n",
      "7 8\n",
      "4 4 4 1 3 3 3 2\n",
      "0\n",
      "0\n",
      "3\n",
      "0\n",
      "0\n",
      "8\n",
      "6\n",
      "3\n"
     ]
    }
   ],
   "source": [
    "import sys\n",
    "#input = sys.stdin.readline\n",
    "\n",
    "dice_x = [0, 0, 0, 0]\n",
    "dice_y = [0, 0, 0, 0]\n",
    "\n",
    "dx = [0, 0, 0, -1, 1] #동,서,북,남\n",
    "dy = [0, 1, -1, 0, 0]\n",
    "\n",
    "def roll(d):\n",
    "    global x, y, dice_x, dice_y\n",
    "    if not 0<=x+dx[d]<N or not 0<=y+dy[d]<M:\n",
    "        return #명령 무시\n",
    "    \n",
    "    #주사위 굴리기\n",
    "    x = x+dx[d]\n",
    "    y = y+dy[d]\n",
    "    if d==1: #동\n",
    "        dice_y = dice_y[-1:]+dice_y[:3]\n",
    "        dice_x[0], dice_x[2] = dice_y[0], dice_y[2]\n",
    "    elif d==2: #서\n",
    "        dice_y = dice_y[1:]+dice_y[:1]\n",
    "        dice_x[0], dice_x[2] = dice_y[0], dice_y[2]\n",
    "    elif d==3: #북\n",
    "        dice_x = dice_x[1:]+dice_x[:1]\n",
    "        dice_y[0], dice_y[2] = dice_x[0], dice_x[2]\n",
    "    else: #남\n",
    "        dice_x = dice_x[-1:]+dice_x[:3]\n",
    "        dice_y[0], dice_y[2] = dice_x[0], dice_x[2]\n",
    "        \n",
    "    #숫자 복사\n",
    "    if matrix[x][y] == 0:\n",
    "        matrix[x][y] = dice_x[2]\n",
    "    else:\n",
    "        dice_x[2] = dice_y[2] = matrix[x][y]\n",
    "        matrix[x][y] = 0\n",
    "    print(dice_x[0])\n",
    "        \n",
    "N, M, x, y, K = map(int, input().split())\n",
    "matrix = []\n",
    "for i in range(N):\n",
    "    matrix.append(list(map(int, input().split())))\n",
    "cmd = list(map(int, input().split()))\n",
    "        \n",
    "for c in cmd:\n",
    "    roll(c)"
   ]
  },
  {
   "cell_type": "markdown",
   "metadata": {},
   "source": [
    "## 1475번: 방 번호"
   ]
  },
  {
   "cell_type": "code",
   "execution_count": 2,
   "metadata": {},
   "outputs": [
    {
     "name": "stdout",
     "output_type": "stream",
     "text": [
      "9999\n",
      "2\n"
     ]
    }
   ],
   "source": [
    "num = [0] * 10\n",
    "n = list(map(int, input().strip()))\n",
    "for i in n:\n",
    "    num[i] += 1\n",
    "num[6] = num[9] = round((num[6]+num[9]+0.1)/2)\n",
    "\n",
    "print(max(num))"
   ]
  },
  {
   "cell_type": "markdown",
   "metadata": {},
   "source": [
    "## 12100번: 2048 (Easy) (미완성)"
   ]
  },
  {
   "cell_type": "code",
   "execution_count": 49,
   "metadata": {},
   "outputs": [
    {
     "name": "stdout",
     "output_type": "stream",
     "text": [
      "3\n",
      "0 64 8\n",
      "128 0 32\n",
      "32 0 0\n",
      "256\n"
     ]
    }
   ],
   "source": [
    "import sys\n",
    "#input = sys.stdin.readline\n",
    "from copy import deepcopy\n",
    "\n",
    "ni = [-1, 1, 0, 0] #상 하 좌 우\n",
    "nj = [0, 0, -1, 1]\n",
    "\n",
    "def move_block(board, check, i, j, d):\n",
    "    global result\n",
    "    #보드 크기를 벗어날 때\n",
    "    if not 0<=i+ni[d]<N or not 0<=j+nj[d]<N:\n",
    "        return False\n",
    "    #다른 블록이 있을 때\n",
    "    if board[i+ni[d]][j+nj[d]] != 0:\n",
    "        #다른 종류의 블록일 경우\n",
    "        if board[i+ni[d]][j+nj[d]]!=board[i][j]:\n",
    "            return False\n",
    "        #같은 종류의 블록이지만 이미 합쳐진 블록일 때\n",
    "        elif check[i+ni[d]][j+nj[d]] or check[i][j]:\n",
    "            return False\n",
    "        else: #합칠 수 있는 블록일 때\n",
    "            check[i][j] = 1\n",
    "    board[i+ni[d]][j+nj[d]] += board[i][j]\n",
    "    check[i+ni[d]][j+nj[d]] = check[i][j]\n",
    "    board[i][j] = 0\n",
    "    check[i][j] = 0\n",
    "    i += ni[d]\n",
    "    j += nj[d]\n",
    "    result = max(result, board[i][j])\n",
    "    return True\n",
    "\n",
    "def move_up(board):\n",
    "    flag = 1\n",
    "    check = [[0]*N for i in range(N)]\n",
    "    while flag:\n",
    "        flag = 0\n",
    "        for i in range(N):\n",
    "            for j in range(N):\n",
    "                if board[i][j] != 0:\n",
    "                    flag = move_block(board, check, i, j, 0)\n",
    "    return board\n",
    "                \n",
    "def move_down(board):\n",
    "    flag = 1\n",
    "    check = [[0]*N for i in range(N)]\n",
    "    while flag:\n",
    "        flag = 0\n",
    "        for i in range(N-1, -1, -1):\n",
    "            for j in range(N-1, -1, -1):\n",
    "                if board[i][j] != 0:\n",
    "                    flag = move_block(board, check, i, j, 1)\n",
    "    return board\n",
    "                    \n",
    "def move_left(board):\n",
    "    flag = 1\n",
    "    check = [[0]*N for i in range(N)]\n",
    "    while flag:\n",
    "        flag = 0\n",
    "        for j in range(N):\n",
    "            for i in range(N):\n",
    "                if board[i][j] != 0:\n",
    "                    flag = move_block(board, check, i, j, 2)\n",
    "    return board\n",
    "                    \n",
    "def move_right(board):\n",
    "    flag = 1\n",
    "    check = [[0]*N for i in range(N)]\n",
    "    while flag:\n",
    "        flag = 0\n",
    "        for j in range(N-1, -1, -1):\n",
    "            for i in range(N-1, -1, -1):\n",
    "                if board[i][j] != 0:\n",
    "                    flag = move_block(board, check, i, j, 3)\n",
    "    return board\n",
    "\n",
    "N = int(input())\n",
    "board = []\n",
    "result = 0\n",
    "for i in range(N):\n",
    "    board.append(list(map(int, input().split())))\n",
    "    result = max(result, max(board[i]))\n",
    "\n",
    "def move(board, cnt):\n",
    "    if cnt>=5:\n",
    "        return\n",
    "    move(move_up(deepcopy(board)), cnt+1)\n",
    "    move(move_down(deepcopy(board)), cnt+1)\n",
    "    move(move_left(deepcopy(board)), cnt+1)\n",
    "    move(move_right(deepcopy(board)), cnt+1)\n",
    "    \n",
    "move(board, 0)\n",
    "print(result)"
   ]
  },
  {
   "cell_type": "markdown",
   "metadata": {},
   "source": [
    "## 14891번: 톱니바퀴"
   ]
  },
  {
   "cell_type": "code",
   "execution_count": 37,
   "metadata": {
    "ExecuteTime": {
     "end_time": "2021-09-20T04:23:27.405895Z",
     "start_time": "2021-09-20T04:23:04.720076Z"
    }
   },
   "outputs": [
    {
     "name": "stdout",
     "output_type": "stream",
     "text": [
      "10101111\n",
      "01111101\n",
      "11001110\n",
      "00000010\n",
      "2\n",
      "3 -1\n",
      "1 1\n",
      "7\n"
     ]
    }
   ],
   "source": [
    "import sys\n",
    "#input = sys.stdin.readline\n",
    "\n",
    "def turn_gear(num, d, before):\n",
    "    if 0 < num and before != num-1: #왼쪽 톱니바퀴 확인\n",
    "        if gears[num][6] != gears[num-1][2]:\n",
    "            turn_gear(num-1, -d, num)\n",
    "    if 3 > num and before != num+1: #오른쪽 톱니바퀴 확인\n",
    "        if gears[num][2] != gears[num+1][6]:\n",
    "            turn_gear(num+1, -d, num)\n",
    "    if d == 1:\n",
    "        gears[num].insert(0, gears[num].pop(7))\n",
    "    else:\n",
    "        gears[num].append(gears[num].pop(0))\n",
    "\n",
    "gears = []\n",
    "for i in range(4):\n",
    "    gears.append(list(map(int, input().strip())))\n",
    "K = int(input())\n",
    "\n",
    "for _ in range(K):\n",
    "    num, d = map(int, input().split())\n",
    "    turn_gear(num-1, d, -1)\n",
    "    \n",
    "result = 0\n",
    "for i in range(4):\n",
    "    if gears[i][0] == 1:\n",
    "        result += 2**i\n",
    "print(result)"
   ]
  },
  {
   "cell_type": "markdown",
   "metadata": {},
   "source": [
    "## 14890번: 경사로"
   ]
  },
  {
   "cell_type": "code",
   "execution_count": 42,
   "metadata": {},
   "outputs": [
    {
     "name": "stdout",
     "output_type": "stream",
     "text": [
      "6 2\n",
      "3 3 3 3 3 3\n",
      "2 3 3 3 3 3\n",
      "2 2 2 3 2 3\n",
      "1 1 1 2 2 2\n",
      "1 1 1 3 3 1\n",
      "1 1 2 3 3 2\n",
      "3\n"
     ]
    }
   ],
   "source": [
    "import sys\n",
    "#input = sys.stdin.readline\n",
    "\n",
    "N, L = map(int, input().split())\n",
    "matrix  = []\n",
    "for i in range(N):\n",
    "    matrix.append(list(map(int, input().split())))\n",
    "\n",
    "def down(arr, runway, i):#내려가는 경사가 가능한지 확인\n",
    "    for j in range(L):\n",
    "        if i+j >= N or arr[i+j]!=arr[i-1]-1 or runway[i+j]:\n",
    "            return 0\n",
    "        runway[i+j] = 1 #경사설치\n",
    "    return i+L\n",
    "\n",
    "def up(arr, runway, i):#올라가는 경사가 가능한지 확인\n",
    "    for j in range(1, L+1):\n",
    "        if i-j < 0 or arr[i-j]!=arr[i]-1 or runway[i-j]:\n",
    "            return 0\n",
    "        runway[i-j] = 1 #경사설치\n",
    "    return i+1\n",
    "\n",
    "def check(arr):\n",
    "    i = 1\n",
    "    runway = [0] * N #경사로\n",
    "    while i<N and 0<i:\n",
    "        if arr[i-1] == arr[i]:#같을때\n",
    "            i += 1\n",
    "        elif arr[i-1]+1 == arr[i]: #한층 높을때\n",
    "            i = up(arr, runway, i)\n",
    "        elif arr[i-1]-1 == arr[i]: #한층 낮을때\n",
    "            i = down(arr, runway, i)\n",
    "        else:\n",
    "            return 0\n",
    "    return min(i, 1)\n",
    "\n",
    "cnt = 0\n",
    "for i in range(N):\n",
    "    cnt += check([matrix[i][j] for j in range(N)])\n",
    "for i in range(N):\n",
    "    cnt += check([matrix[j][i] for j in range(N)])\n",
    "print(cnt)"
   ]
  },
  {
   "cell_type": "markdown",
   "metadata": {},
   "source": [
    "## 2636번: 치즈"
   ]
  },
  {
   "cell_type": "code",
   "execution_count": 7,
   "metadata": {},
   "outputs": [
    {
     "name": "stdout",
     "output_type": "stream",
     "text": [
      "3\n",
      "5\n"
     ]
    }
   ],
   "source": [
    "from collections import deque\n",
    "R, C = map(int, input().split())\n",
    "graph = []\n",
    "cnt = 0 #남은 치즈\n",
    "time = 0 #총 시간\n",
    "for r in range(R):\n",
    "    graph.append(list(map(int, input().split())))\n",
    "    cnt += sum(graph[r])\n",
    "\n",
    "ni = [-1, 1, 0, 0]\n",
    "nj = [0, 0, -1, 1]\n",
    "def BFS():\n",
    "    global cnt\n",
    "    visited = [[0]*C for _ in range(R)]\n",
    "    queue = deque()\n",
    "    queue.append((0, 0))\n",
    "    while queue:\n",
    "        i, j = queue.popleft()\n",
    "        if graph[i][j] == 1:\n",
    "            graph[i][j] = 0\n",
    "            cnt -= 1\n",
    "            continue\n",
    "        for n in range(4):\n",
    "            if 0<=i+ni[n]<R and 0<=j+nj[n]<C:\n",
    "                if not visited[i+ni[n]][j+nj[n]]:\n",
    "                    visited[i+ni[n]][j+nj[n]] = 1\n",
    "                    queue.append((i+ni[n],j+nj[n]))\n",
    "    \n",
    "temp = cnt #이전 치즈 저장\n",
    "while cnt: #치즈가 없어질때까지\n",
    "    temp = cnt\n",
    "    BFS()\n",
    "    time += 1\n",
    "print(time)\n",
    "print(temp) "
   ]
  },
  {
   "cell_type": "markdown",
   "metadata": {},
   "source": [
    "## 11559번: Puyo Puyo"
   ]
  },
  {
   "cell_type": "code",
   "execution_count": 13,
   "metadata": {},
   "outputs": [
    {
     "name": "stdout",
     "output_type": "stream",
     "text": [
      "......\n",
      "......\n",
      "......\n",
      "......\n",
      "......\n",
      "......\n",
      "......\n",
      "......\n",
      ".Y....\n",
      ".YG...\n",
      "RRYG..\n",
      "RRYGG.\n",
      "3\n"
     ]
    }
   ],
   "source": [
    "from collections import deque\n",
    "ni = [-1, 1, 0, 0]\n",
    "nj = [0, 0, -1, 1]\n",
    "\n",
    "def BFS(i, j, s): #뿌요가 4개 이상이면 터트리기\n",
    "    visited[i][j] = 1\n",
    "    queue = deque() #방문할 뿌요 저장\n",
    "    queue.append((i, j))\n",
    "    temp = [] #방문한 뿌요 저장\n",
    "    while queue:\n",
    "        i, j = queue.popleft()\n",
    "        temp.append((i, j))\n",
    "        for n in range(4):\n",
    "            if (0<=i+ni[n]<12 and 0<=j+nj[n]<6 \n",
    "                and graph[i+ni[n]][j+nj[n]] == s\n",
    "                and visited[i+ni[n]][j+nj[n]]!= 1):\n",
    "                queue.append((i+ni[n], j+nj[n]))\n",
    "                visited[i+ni[n]][j+nj[n]] = 1\n",
    "    if len(temp) >= 4: #같은 뿌요 수가 4개 이상이면 없애기\n",
    "        for i, j in temp:\n",
    "            graph[i][j] = '.'\n",
    "        return 1\n",
    "    else:\n",
    "        return 0\n",
    "        \n",
    "def drop(i, j): #뿌요 떨어뜨리기\n",
    "    floor = 11\n",
    "    for f in range(i+1, 12):\n",
    "        if graph[f][j] != '.':\n",
    "            floor = f-1\n",
    "            break\n",
    "    graph[floor][j] = graph[i][j]\n",
    "    graph[i][j] = '.'\n",
    "    \n",
    "graph = [] #뿌요 입력받기\n",
    "for i in range(12):\n",
    "    graph.append(list(map(str, input().strip())))\n",
    "\n",
    "result = 0\n",
    "while True:\n",
    "    \n",
    "    #for g in graph: print(*g)\n",
    "    #print()\n",
    "    \n",
    "    #없어질 뿌요 탐색\n",
    "    flag = 0 #터진 뿌요가 있는지 확인\n",
    "    visited = [[0]*6 for _ in range(12)]\n",
    "    for i in range(12): \n",
    "        for j in range(6):\n",
    "            if graph[i][j] != '.':\n",
    "                cnt = 0 #연결된 같은 뿌요 수\n",
    "                flag = max(flag, BFS(i, j, graph[i][j]))\n",
    "    if not flag: #터진 뿌요가 없다면 종료\n",
    "        break\n",
    "    result += 1\n",
    "    \n",
    "    #아래에서부터 탐색하며 뿌요 떨어뜨리기\n",
    "    for i in range(10, -1, -1):\n",
    "        for j in range(6):\n",
    "            if graph[i][j] != '.' and graph[i+1][j] == '.':\n",
    "                drop(i, j)\n",
    "                \n",
    "print(result)"
   ]
  },
  {
   "cell_type": "markdown",
   "metadata": {},
   "source": [
    "## 2573번: 빙산"
   ]
  },
  {
   "cell_type": "code",
   "execution_count": 14,
   "metadata": {},
   "outputs": [
    {
     "name": "stdout",
     "output_type": "stream",
     "text": [
      "5 7\n",
      "0 0 0 0 0 0 0\n",
      "0 2 4 5 3 0 0\n",
      "0 3 0 2 5 2 0\n",
      "0 7 6 2 4 0 0\n",
      "0 0 0 0 0 0 0\n",
      "2\n"
     ]
    }
   ],
   "source": [
    "import sys\n",
    "from collections import deque\n",
    "#input = sys.stdin.readline\n",
    "N, M = map(int, input().split())\n",
    "\n",
    "matrix = []\n",
    "for i in range(N):\n",
    "    matrix.append(list(map(int, input().split())))\n",
    "\n",
    "ni = [-1, 1, 0, 0]\n",
    "nj = [0, 0, -1, 1]\n",
    "def melt(i, j):\n",
    "    iceberg = deque() #빙산\n",
    "    queue = deque() #BFS\n",
    "    queue.append((i, j))\n",
    "    visited[i][j] = 1\n",
    "    while queue:\n",
    "        i, j = queue.popleft()\n",
    "        cnt = 0 #인접 바다 수\n",
    "        #바닷물이 접한 부분 찾아서 저장\n",
    "        for n in range(4):\n",
    "            if 0<=i+ni[n]<N and 0<=j+nj[n]<M and matrix[ni[n]+i][nj[n]+j]==0:\n",
    "                cnt+=1\n",
    "        iceberg.append((i,j,cnt))\n",
    "        #다음 지역 탐색\n",
    "        for n in range(4):\n",
    "            if 0<=i+ni[n]<N and 0<=j+nj[n]<M and matrix[ni[n]+i][nj[n]+j]:\n",
    "                if not visited[ni[n]+i][nj[n]+j]:\n",
    "                    queue.append((ni[n]+i, nj[n]+j))\n",
    "                    visited[ni[n]+i][nj[n]+j] = 1\n",
    "    while iceberg: #빙산 녹이기\n",
    "        i, j, c = iceberg.popleft()\n",
    "        matrix[i][j] = max(matrix[i][j]-c, 0)\n",
    "    \n",
    "time = 0\n",
    "end = 0\n",
    "while True:\n",
    "    time += 1\n",
    "    flag = 0\n",
    "    visited = [[0]*M for i in range(N)]\n",
    "    for i in range(N):\n",
    "        for j in range(M):\n",
    "            if matrix[i][j] and not visited[i][j]:\n",
    "                if flag:\n",
    "                    end = time-1\n",
    "                melt(i, j)\n",
    "                flag = 1\n",
    "        if end: break\n",
    "    if end: break\n",
    "        \n",
    "    #남은 빙하가 있는지 확인\n",
    "    flag = 0\n",
    "    for i in range(N):\n",
    "        for j in range(M):\n",
    "            if matrix[i][j]:\n",
    "                flag = 1\n",
    "    if not flag: break #빙하가 모두 사라지면\n",
    "print(end)"
   ]
  },
  {
   "cell_type": "markdown",
   "metadata": {},
   "source": [
    "## 17144번: 미세먼지 안녕!"
   ]
  },
  {
   "cell_type": "code",
   "execution_count": 1,
   "metadata": {},
   "outputs": [
    {
     "name": "stdout",
     "output_type": "stream",
     "text": [
      "7 8 1\n",
      "0 0 0 0 0 0 0 9\n",
      "0 0 0 0 3 0 0 8\n",
      "-1 0 5 0 0 0 22 0\n",
      "-1 8 0 0 0 0 0 0\n",
      "0 0 0 0 0 10 43 0\n",
      "0 0 5 0 15 0 0 0\n",
      "0 0 40 0 0 0 20 0\n",
      "188\n"
     ]
    }
   ],
   "source": [
    "import sys\n",
    "#input = sys.stdin.readline\n",
    "\n",
    "def diffusion(r, c):\n",
    "    cnt = 0\n",
    "    if 0<r and not (r-1, c) in cleaner:#상\n",
    "        temp[r-1][c] += matrix[r][c]//5\n",
    "        cnt += 1\n",
    "    if r<R-1 and not (r+1, c) in cleaner:#하\n",
    "        temp[r+1][c] += matrix[r][c]//5\n",
    "        cnt += 1\n",
    "    if 0<c and not (r, c-1) in cleaner:#좌\n",
    "        temp[r][c-1] += matrix[r][c]//5\n",
    "        cnt += 1\n",
    "    if c<C-1 and not (r, c+1) in cleaner:#우\n",
    "        temp[r][c+1] += matrix[r][c]//5\n",
    "        cnt += 1\n",
    "    matrix[r][c] -= matrix[r][c]//5*cnt\n",
    "\n",
    "def merge():\n",
    "    for r in range(R):\n",
    "        for c in range(C):\n",
    "            matrix[r][c] += temp[r][c]\n",
    "            temp[r][c] = 0\n",
    "            \n",
    "def cycle():\n",
    "    r, c = cleaner[0] #윗방향\n",
    "    for i in range(r-1, -1, -1): #왼쪽(아래로 보내기)\n",
    "        matrix[i+1][0] = matrix[i][0]\n",
    "    for j in range(1, C): #위(왼쪽으로 보내기)\n",
    "        matrix[0][j-1] = matrix[0][j]\n",
    "    for i in range(1, r+1): #오른쪽(위로 보내기)\n",
    "        matrix[i-1][C-1] = matrix[i][C-1]\n",
    "    for j in range(C-2, -1, -1): #아래(오른쪽으로 보내기)\n",
    "        matrix[r][j+1] = matrix[r][j]\n",
    "    matrix[r][c], matrix[r][1] = -1, 0\n",
    "    r, c = cleaner[1] #아랫방향\n",
    "    for i in range(r+1, R): #왼쪽(위로 보내기)\n",
    "        matrix[i-1][0] = matrix[i][0]\n",
    "    for j in range(1, C): #아래(왼쪽으로 보내기)\n",
    "        matrix[R-1][j-1] = matrix[R-1][j]\n",
    "    for i in range(R-2, r-1, -1): #오른쪽(아래로 보내기)\n",
    "        matrix[i+1][C-1] = matrix[i][C-1]\n",
    "    for j in range(C-2, -1, -1): #위(오른쪽으로 보내기)\n",
    "        matrix[r][j+1] = matrix[r][j]\n",
    "    matrix[r][c], matrix[r][1] = -1, 0\n",
    "\n",
    "R, C, T = map(int, input().split())\n",
    "matrix = []\n",
    "for i in range(R):\n",
    "    matrix.append(list(map(int, input().split())))\n",
    "\n",
    "#공기청정기 위치 찾기\n",
    "cleaner = []\n",
    "for i in range(R):\n",
    "    for j in range(C):\n",
    "        if matrix[i][j] == -1:\n",
    "            cleaner.append((i, j))\n",
    "temp = [[0]*C for _ in range(R)]\n",
    "\n",
    "#작동\n",
    "for t in range(T):    \n",
    "    for i in range(R):\n",
    "        for j in range(C):\n",
    "            if matrix[i][j] > 0:\n",
    "                diffusion(i, j)\n",
    "    merge()\n",
    "    cycle()\n",
    "    \n",
    "#더하기\n",
    "result = 0\n",
    "for r in range(R):\n",
    "    for c in range(C):\n",
    "        result += matrix[r][c]\n",
    "print(result+2)"
   ]
  },
  {
   "cell_type": "markdown",
   "metadata": {},
   "source": [
    "## 15684번: 사다리 조작"
   ]
  },
  {
   "cell_type": "code",
   "execution_count": 2,
   "metadata": {},
   "outputs": [
    {
     "name": "stdout",
     "output_type": "stream",
     "text": [
      "2 1 3\n",
      "1 1\n",
      "1\n"
     ]
    }
   ],
   "source": [
    "import sys\n",
    "#input = sys.stdin.readline\n",
    "\n",
    "def check():\n",
    "    for s in range(1, N+1):\n",
    "        p, h = s, 1\n",
    "        while h!=H+1:\n",
    "            if ladder[h][p] == 1:\n",
    "                p += 1\n",
    "            elif ladder[h][p-1] == 1:\n",
    "                p -= 1\n",
    "            h += 1\n",
    "        if s != p: return False\n",
    "    return True\n",
    "\n",
    "def add_ladder(cnt):\n",
    "    global result\n",
    "    for i in range(1, H+1):\n",
    "        for j in range(1, N):\n",
    "            if not (ladder[i][j] or ladder[i][j-1] or ladder[i][j+1]):\n",
    "                ladder[i][j] = 1\n",
    "                if check(): result = min(result, cnt)\n",
    "                elif cnt < result-1: add_ladder(cnt+1)\n",
    "                ladder[i][j] = 0\n",
    "\n",
    "N, M, H = map(int, input().split())\n",
    "ladder = [ [0]*(N+1) for _ in range(H+1)]\n",
    "for _ in range(M):\n",
    "    a, b= map(int, input().split())\n",
    "    ladder[a][b] = 1\n",
    "    \n",
    "result = 4\n",
    "if check(): print(0)\n",
    "else:\n",
    "    add_ladder(1)\n",
    "    if result == 4: print(-1)\n",
    "    else: print(result)"
   ]
  },
  {
   "cell_type": "markdown",
   "metadata": {},
   "source": [
    "## 16235번: 나무 재테크"
   ]
  },
  {
   "cell_type": "code",
   "execution_count": 3,
   "metadata": {},
   "outputs": [
    {
     "name": "stdout",
     "output_type": "stream",
     "text": [
      "5 2 6\n",
      "2 3 2 3 2\n",
      "2 3 2 3 2\n",
      "2 3 2 3 2\n",
      "2 3 2 3 2\n",
      "2 3 2 3 2\n",
      "2 1 3\n",
      "3 2 3\n",
      "85\n"
     ]
    }
   ],
   "source": [
    "import sys\n",
    "#input = sys.stdin.readline\n",
    "from collections import deque\n",
    "N, M, K = map(int, input().split())\n",
    "\n",
    "A = []\n",
    "for _ in range(N):\n",
    "    A.append(list(map(int, input().split())))\n",
    "    \n",
    "tree = [[deque() for _ in range(N)] for _ in range(N)]\n",
    "for _ in range(M):\n",
    "    x, y, z = map(int, input().split())\n",
    "    tree[x-1][y-1].append(z)\n",
    "    \n",
    "food = [[5]*N for _ in range(N)]\n",
    "def spring():\n",
    "    for i in range(N):\n",
    "        for j in range(N):\n",
    "            for k in range(len(tree[i][j])):\n",
    "                if food[i][j] >= tree[i][j][k]:\n",
    "                    food[i][j] -= tree[i][j][k]\n",
    "                    tree[i][j][k] += 1\n",
    "                else:\n",
    "                    for _ in range(k, len(tree[i][j])):\n",
    "                        food[i][j] += tree[i][j].pop()//2\n",
    "                    break\n",
    "\n",
    "ni = [-1, -1, -1, 0, 0, +1, +1, +1]\n",
    "nj = [-1, 0, +1, -1, +1, -1, 0, +1]\n",
    "def autumn():\n",
    "    for i in range(N):\n",
    "        for j in range(N):\n",
    "            for t in tree[i][j]:\n",
    "                if t%5==0:\n",
    "                    for k in range(8):\n",
    "                        if 0<=ni[k]+i<N and 0<=nj[k]+j<N:\n",
    "                            tree[ni[k]+i][nj[k]+j].appendleft(1)\n",
    "\n",
    "def winter():\n",
    "    for i in range(N):\n",
    "        for j in range(N):\n",
    "            food[i][j] += A[i][j]\n",
    "            \n",
    "for y in range(K):\n",
    "    spring()\n",
    "    autumn()\n",
    "    winter()       \n",
    "    \n",
    "cnt = 0\n",
    "for i in range(N):\n",
    "    for j in range(N):\n",
    "        cnt += len(tree[i][j])\n",
    "print(cnt)"
   ]
  },
  {
   "cell_type": "markdown",
   "metadata": {},
   "source": [
    "## 2638번: 치즈"
   ]
  },
  {
   "cell_type": "code",
   "execution_count": 4,
   "metadata": {},
   "outputs": [
    {
     "name": "stdout",
     "output_type": "stream",
     "text": [
      "8 9\n",
      "0 0 0 0 0 0 0 0 0\n",
      "0 0 0 1 1 0 0 0 0\n",
      "0 0 0 1 1 0 1 1 0\n",
      "0 0 1 1 1 1 1 1 0\n",
      "0 0 1 1 1 1 1 0 0\n",
      "0 0 1 1 0 1 1 0 0\n",
      "0 0 0 0 0 0 0 0 0\n",
      "0 0 0 0 0 0 0 0 0\n",
      "4\n"
     ]
    }
   ],
   "source": [
    "import sys\n",
    "from collections import deque\n",
    "#input = sys.stdin.readline\n",
    "\n",
    "N, M = map(int, input().split())\n",
    "graph = []\n",
    "for i in range(N):\n",
    "    graph.append(list(map(int, input().split())))\n",
    "\n",
    "ni = [-1, 1, 0, 0]\n",
    "nj = [0, 0, -1, 1]\n",
    "def find_out():\n",
    "    for i in range(N):\n",
    "        for j in range(M):\n",
    "            if graph[i][j] == 2: graph[i][j] = 0\n",
    "    queue = deque()\n",
    "    queue.append((0, 0))\n",
    "    while queue:\n",
    "        i, j = queue.popleft()\n",
    "        for n in range(4):\n",
    "            if 0<=i+ni[n]<N and 0<=j+nj[n]<M and not graph[i+ni[n]][j+nj[n]]:\n",
    "                graph[i+ni[n]][j+nj[n]] = 2\n",
    "                queue.append((i+ni[n], j+nj[n]))\n",
    "\n",
    "def melt():\n",
    "    for i in range(N): #녹을 치즈 찾기\n",
    "        for j in range(M):\n",
    "            if graph[i][j] != 1: continue\n",
    "            cnt = 0\n",
    "            for n in range(4):\n",
    "                if 0<=i+ni[n]<N and 0<=j+nj[n]<M:\n",
    "                    if graph[i+ni[n]][j+nj[n]] == 2: cnt += 1\n",
    "            if cnt >= 2: graph[i][j] = 3\n",
    "    for i in range(N): #치즈 녹이기\n",
    "        for j in range(M):\n",
    "            if graph[i][j] == 3:\n",
    "                graph[i][j] = 2\n",
    "                \n",
    "def check():\n",
    "    for i in range(N):\n",
    "        for j in range(M):\n",
    "            if graph[i][j] == 1: return True\n",
    "    return False\n",
    "\n",
    "#치즈가 모두 녹을 때까지 시간 측정\n",
    "time = 0\n",
    "while check():\n",
    "    time += 1\n",
    "    find_out()\n",
    "    melt()\n",
    "    \n",
    "print(time)"
   ]
  },
  {
   "cell_type": "markdown",
   "metadata": {},
   "source": [
    "## 3085번: 사탕 게임"
   ]
  },
  {
   "cell_type": "code",
   "execution_count": 1,
   "metadata": {},
   "outputs": [
    {
     "name": "stdout",
     "output_type": "stream",
     "text": [
      "5\n",
      "YCPZY\n",
      "CYZZP\n",
      "CCPPP\n",
      "YCYZC\n",
      "CPPZZ\n",
      "4\n"
     ]
    }
   ],
   "source": [
    "import sys\n",
    "#input = sys.stdin.readline\n",
    "\n",
    "def check(i, j):\n",
    "    cnt = 1\n",
    "    temp = 1\n",
    "    for n in range(N): #가로\n",
    "        if n==N-1 or matrix[i][n] != matrix[i][n+1]:\n",
    "            cnt = max(cnt, temp)\n",
    "            temp = 1\n",
    "        else: temp += 1\n",
    "    for n in range(N): #세로\n",
    "        if n==N-1 or matrix[n][j] != matrix[n+1][j]:\n",
    "            cnt = max(cnt, temp)\n",
    "            temp = 1\n",
    "        else: temp += 1\n",
    "    return cnt\n",
    "\n",
    "N = int(input())\n",
    "matrix = []\n",
    "for i in range(N):\n",
    "    matrix.append(list(input().strip()))\n",
    "    \n",
    "result = 0\n",
    "adi = [-1, 1, 0, 0]\n",
    "adj = [0, 0, -1, 1]\n",
    "for i in range(N):\n",
    "    for j in range(N):\n",
    "        for n in range(4):\n",
    "            ni = adi[n]+i\n",
    "            nj = adj[n]+j\n",
    "            if 0<=ni<N and 0<=nj<N:\n",
    "                matrix[i][j], matrix[ni][nj] = matrix[ni][nj], matrix[i][j]\n",
    "                result = max(result, check(i, j))\n",
    "                matrix[i][j], matrix[ni][nj] = matrix[ni][nj], matrix[i][j]\n",
    "print(result)"
   ]
  },
  {
   "cell_type": "markdown",
   "metadata": {},
   "source": [
    "## 1600번: 말이 되고픈 원숭이"
   ]
  },
  {
   "cell_type": "code",
   "execution_count": 53,
   "metadata": {},
   "outputs": [
    {
     "name": "stdout",
     "output_type": "stream",
     "text": [
      "1\n",
      "4 4\n",
      "0 0 0 0\n",
      "1 0 0 0\n",
      "0 0 1 0\n",
      "0 1 0 0\n",
      "4\n"
     ]
    }
   ],
   "source": [
    "import sys\n",
    "#input = sys.stdin.readline\n",
    "from collections import deque\n",
    "\n",
    "K = int(input())\n",
    "W, H = map(int, input().split())\n",
    "graph = []\n",
    "for i in range(H):\n",
    "    graph.append(list(map(int, input().split())))\n",
    "\n",
    "mi = [-1, 1, 0, 0]\n",
    "mj = [0, 0, -1, 1]\n",
    "hi = [-2, -2, -1, -1, 1, 1, 2, 2]\n",
    "hj = [-1, 1, -2, 2, -2, 2, -1, 1]\n",
    "\n",
    "visited = [[[0]*(K+1) for _ in range(W)] for _ in range(H)]\n",
    "def BFS(i, j):\n",
    "    queue = deque()\n",
    "    queue.append((i, j, 0, 0))\n",
    "    visited[i][j][0] = 1\n",
    "    while queue:\n",
    "        i, j, k, cnt = queue.popleft()\n",
    "        if i == H-1 and j == W-1: return cnt\n",
    "        for n in range(4):\n",
    "            ni, nj = i+mi[n], j+mj[n]\n",
    "            if 0<=ni<H and 0<=nj<W and not graph[ni][nj] and not visited[ni][nj][k]:\n",
    "                queue.append((ni, nj, k, cnt+1))\n",
    "                visited[ni][nj][k] = 1\n",
    "        if k >= K: continue\n",
    "        for n in range(8): #말처럼 이동\n",
    "            ni, nj = i+hi[n], j+hj[n]\n",
    "            if 0<=ni<H and 0<=nj<W and not graph[ni][nj] and not visited[ni][nj][k+1]:\n",
    "                queue.append((ni, nj, k+1, cnt+1))\n",
    "                visited[ni][nj][k+1] = 1\n",
    "    return -1\n",
    "print(BFS(0, 0))"
   ]
  },
  {
   "cell_type": "markdown",
   "metadata": {},
   "source": [
    "## 14719번: 빗물"
   ]
  },
  {
   "cell_type": "code",
   "execution_count": 13,
   "metadata": {},
   "outputs": [
    {
     "name": "stdout",
     "output_type": "stream",
     "text": [
      "3 5\n",
      "0 0 0 2 0\n",
      "0\n"
     ]
    }
   ],
   "source": [
    "H, W = map(int, input().split())\n",
    "height = list(map(int, input().split()))\n",
    "\n",
    "#왼쪽 최대 높이\n",
    "left_height = [0]*W\n",
    "for i in range(0, W):\n",
    "    left_height[i] = max(left_height[i-1], height[i])\n",
    "    \n",
    "#오른쪽 최대 높이\n",
    "right_height = [0]*W  \n",
    "right_height[-1] = height[-1]\n",
    "for i in range(W-2, -1, -1):\n",
    "    right_height[i] = max(right_height[i+1], height[i])\n",
    "    \n",
    "ans = 0\n",
    "for i in range(W):\n",
    "    ans += min(left_height[i], right_height[i]) - height[i]\n",
    "print(ans)"
   ]
  },
  {
   "cell_type": "markdown",
   "metadata": {},
   "source": [
    "## 18111번: 마인크래프트"
   ]
  },
  {
   "cell_type": "code",
   "execution_count": 16,
   "metadata": {},
   "outputs": [
    {
     "name": "stdout",
     "output_type": "stream",
     "text": [
      "3 4 0\n",
      "64 64 64 64\n",
      "64 64 64 64\n",
      "64 64 64 63\n",
      "22 63\n"
     ]
    }
   ],
   "source": [
    "import sys\n",
    "#input = sys.stdin.readline\n",
    "MAX = sys.maxsize\n",
    "\n",
    "def land(height):\n",
    "    inventory = B\n",
    "    time = 0\n",
    "    #블록 제거\n",
    "    for i in range(N):\n",
    "        for j in range(M):\n",
    "            if height<matrix[i][j]:\n",
    "                inventory += matrix[i][j]-height\n",
    "                time += (matrix[i][j]-height)*2\n",
    "    #블록 놓기\n",
    "    for i in range(N):\n",
    "        for j in range(M):\n",
    "            if height>matrix[i][j]:\n",
    "                inventory -= height-matrix[i][j]\n",
    "                time += height-matrix[i][j]\n",
    "                if inventory < 0: return MAX\n",
    "    return time\n",
    "\n",
    "N, M, B = map(int, input().split())\n",
    "matrix = []\n",
    "for _ in range(N):\n",
    "    matrix.append(list(map(int, input().split())))\n",
    "    \n",
    "ans = (MAX, 0)\n",
    "for i in range(257): #한층씩 높여가며 최소시간을 구한다\n",
    "    temp = land(i)\n",
    "    if temp <= ans[0]: ans = (temp, i)\n",
    "    if temp == MAX: break\n",
    "print(*ans)"
   ]
  },
  {
   "cell_type": "markdown",
   "metadata": {},
   "source": [
    "## 20055번: 컨베이어 벨트 위의 로봇"
   ]
  },
  {
   "cell_type": "code",
   "execution_count": 1,
   "metadata": {},
   "outputs": [
    {
     "name": "stdout",
     "output_type": "stream",
     "text": [
      "3 2\n",
      "1 2 1 2 1 2\n",
      "2\n"
     ]
    }
   ],
   "source": [
    "import sys\n",
    "#input = sys.stdin.readline\n",
    "from collections import deque\n",
    "\n",
    "N, K = map(int, input().split())\n",
    "A = deque(map(int, input().split()))\n",
    "ans = 0\n",
    "robot = deque([0]*N)\n",
    "\n",
    "while True:\n",
    "    ans += 1\n",
    "    \n",
    "    #1.벨트가 각 칸 위에 있는 로봇과 함께 한 칸 회전한다.\n",
    "    A.rotate(1)\n",
    "    robot.rotate(1)\n",
    "    robot[-1] = 0\n",
    "    \n",
    "    #2. 벨트가 회전하는 방향으로 한 칸 이동할 수 있다면 이동한다.\n",
    "    for i in range(N-2, -1, -1):\n",
    "        if robot[i] and not robot[i+1] and A[i+1]:\n",
    "            robot[i], robot[i+1] = 0, 1\n",
    "            A[i+1] -= 1\n",
    "    robot[-1] = 0\n",
    "    \n",
    "    #3.로봇을 올린다.\n",
    "    if A[0] > 0:\n",
    "        robot[0] = 1\n",
    "        A[0] -= 1\n",
    "    \n",
    "    #4.내구도가 0인 칸의 개수가 K개 이상이라면 과정을 종료한다. \n",
    "    if A.count(0) >= K: break\n",
    "        \n",
    "print(ans)"
   ]
  },
  {
   "cell_type": "markdown",
   "metadata": {},
   "source": [
    "## 19236번: 청소년 상어 (미완성)"
   ]
  },
  {
   "cell_type": "code",
   "execution_count": 10,
   "metadata": {},
   "outputs": [
    {
     "name": "stdout",
     "output_type": "stream",
     "text": [
      "7 6 2 3 15 6 9 8\n",
      "3 1 1 8 14 7 10 1\n",
      "6 1 13 6 4 3 11 4\n",
      "16 1 8 7 5 2 12 2\n"
     ]
    }
   ],
   "source": [
    "graph = []\n",
    "for i in range(4):\n",
    "    graph.append(list(map(int, input().split())))"
   ]
  },
  {
   "cell_type": "code",
   "execution_count": 98,
   "metadata": {},
   "outputs": [],
   "source": [
    "graph = [[7, 6, 2, 3, 15, 6, 9, 8],\n",
    " [3, 1, 1, 8, 14, 7, 10, 1],\n",
    " [6, 1, 13, 6, 4, 3, 11, 4],\n",
    " [16, 1, 8, 7, 5, 2, 12, 2]]"
   ]
  },
  {
   "cell_type": "code",
   "execution_count": 99,
   "metadata": {},
   "outputs": [],
   "source": [
    "ni = [-1, -1, 0, 1, 1, 1, 0, -1]\n",
    "nj = [0, -2, -2, -2, 0, 2, 2, 2]"
   ]
  },
  {
   "cell_type": "code",
   "execution_count": 100,
   "metadata": {},
   "outputs": [],
   "source": [
    "fish = [(0, 0) for _ in range(17)]\n",
    "for i in range(4):\n",
    "    for j in range(0, 8, 2):\n",
    "        fish[graph[i][j]] = (i, j)\n",
    "        graph[i][j+1] -= 1"
   ]
  },
  {
   "cell_type": "code",
   "execution_count": 101,
   "metadata": {},
   "outputs": [],
   "source": [
    "shark = (0, 0)\n",
    "total = graph[0][0]\n",
    "fish[graph[0][0]] = (-1, -1)\n",
    "graph[0][0] = -1"
   ]
  },
  {
   "cell_type": "code",
   "execution_count": 102,
   "metadata": {},
   "outputs": [],
   "source": [
    "def move_fish(graph):\n",
    "    for k in range(1, 17):\n",
    "        i, j = fish[k]\n",
    "        if (i, j) == (-1, -1): continue\n",
    "        d = graph[i][j+1] #방향\n",
    "        for n in range(9):\n",
    "            bi, bj = i+ni[(d+n)%8], j+nj[(d+n)%8]\n",
    "            if 0<=bi<4 and 0<=bj<8 and graph[bi][bj] != -1:\n",
    "                fish[graph[i][j]], fish[graph[bi][bj]] = fish[graph[bi][bj]], fish[graph[i][j]]\n",
    "                graph[i][j], graph[bi][bj] = graph[bi][bj], graph[i][j]\n",
    "                graph[i][j+1] = (d+n)%8\n",
    "                graph[i][j+1], graph[bi][bj+1] = graph[bi][bj+1], graph[i][j+1]\n",
    "                break"
   ]
  },
  {
   "cell_type": "code",
   "execution_count": null,
   "metadata": {},
   "outputs": [],
   "source": [
    "from copy import deepcopy\n",
    "def find_next(graph, shark):\n",
    "    arr = []\n",
    "    i, j = shark\n",
    "    d = graph[i][j]\n",
    "    for n in range(1, 5):\n",
    "        bi, bj = i+ni[d]*n, j+nj[d]*n\n",
    "        if 0<=bi<4 and 0<=bj<8:\n",
    "            if graph[bi][bj] != 0: arr.append((bi, bj))\n",
    "                \n",
    "def move_shark(graph, cnt):\n",
    "    arr = find_next()\n",
    "    if not arr: return -1\n",
    "    for i, j in find_next():\n",
    "        "
   ]
  },
  {
   "cell_type": "code",
   "execution_count": 103,
   "metadata": {},
   "outputs": [],
   "source": [
    "move_fish(graph)"
   ]
  },
  {
   "cell_type": "code",
   "execution_count": 104,
   "metadata": {},
   "outputs": [
    {
     "data": {
      "text/plain": [
       "[[-1, 5, 2, 3, 9, 2, 10, 0],\n",
       " [6, 0, 12, 1, 1, 7, 14, 6],\n",
       " [16, 0, 5, 1, 15, 5, 13, 0],\n",
       " [3, 3, 4, 2, 11, 3, 8, 6]]"
      ]
     },
     "execution_count": 104,
     "metadata": {},
     "output_type": "execute_result"
    }
   ],
   "source": [
    "graph"
   ]
  },
  {
   "cell_type": "code",
   "execution_count": 16,
   "metadata": {},
   "outputs": [
    {
     "data": {
      "text/plain": [
       "[0,\n",
       " (1, 2),\n",
       " (0, 2),\n",
       " (1, 0),\n",
       " (2, 4),\n",
       " (3, 4),\n",
       " (2, 0),\n",
       " (-1, -1),\n",
       " (3, 2),\n",
       " (0, 6),\n",
       " (1, 6),\n",
       " (2, 6),\n",
       " (3, 6),\n",
       " (2, 2),\n",
       " (1, 4),\n",
       " (0, 4),\n",
       " (3, 0)]"
      ]
     },
     "execution_count": 16,
     "metadata": {},
     "output_type": "execute_result"
    }
   ],
   "source": [
    "fish"
   ]
  }
 ],
 "metadata": {
  "kernelspec": {
   "display_name": "Python 3",
   "language": "python",
   "name": "python3"
  },
  "language_info": {
   "codemirror_mode": {
    "name": "ipython",
    "version": 3
   },
   "file_extension": ".py",
   "mimetype": "text/x-python",
   "name": "python",
   "nbconvert_exporter": "python",
   "pygments_lexer": "ipython3",
   "version": "3.8.3"
  },
  "toc": {
   "base_numbering": 1,
   "nav_menu": {},
   "number_sections": true,
   "sideBar": true,
   "skip_h1_title": false,
   "title_cell": "Table of Contents",
   "title_sidebar": "Contents",
   "toc_cell": false,
   "toc_position": {},
   "toc_section_display": true,
   "toc_window_display": false
  },
  "varInspector": {
   "cols": {
    "lenName": 16,
    "lenType": 16,
    "lenVar": 40
   },
   "kernels_config": {
    "python": {
     "delete_cmd_postfix": "",
     "delete_cmd_prefix": "del ",
     "library": "var_list.py",
     "varRefreshCmd": "print(var_dic_list())"
    },
    "r": {
     "delete_cmd_postfix": ") ",
     "delete_cmd_prefix": "rm(",
     "library": "var_list.r",
     "varRefreshCmd": "cat(var_dic_list()) "
    }
   },
   "position": {
    "height": "295.852px",
    "left": "300.818px",
    "right": "20px",
    "top": "6.99432px",
    "width": "396.009px"
   },
   "types_to_exclude": [
    "module",
    "function",
    "builtin_function_or_method",
    "instance",
    "_Feature"
   ],
   "window_display": false
  }
 },
 "nbformat": 4,
 "nbformat_minor": 4
}
