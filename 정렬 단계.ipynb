{
 "cells": [
  {
   "cell_type": "markdown",
   "metadata": {},
   "source": [
    "## 2750번: 수 정렬하기"
   ]
  },
  {
   "cell_type": "code",
   "execution_count": 2,
   "metadata": {},
   "outputs": [
    {
     "name": "stdout",
     "output_type": "stream",
     "text": [
      "5\n",
      "5\n",
      "2\n",
      "3\n",
      "4\n",
      "1\n",
      "1 2 3 4 5 "
     ]
    }
   ],
   "source": [
    "#삽입정렬\n",
    "T = int(input())\n",
    "arr = []\n",
    "\n",
    "for i in range(T):\n",
    "    num = int(input())\n",
    "    if arr == [] : arr.append(num)\n",
    "    else :\n",
    "        for j in range(len(arr)+1):\n",
    "            if j == len(arr) : arr.append(num)\n",
    "            elif arr[j] < num : pass\n",
    "            else :\n",
    "                arr.insert(j, num)\n",
    "                break\n",
    "                    \n",
    "for i in range(T):\n",
    "\tprint(arr[i], end=' ')"
   ]
  },
  {
   "cell_type": "code",
   "execution_count": 3,
   "metadata": {},
   "outputs": [
    {
     "name": "stdout",
     "output_type": "stream",
     "text": [
      "5\n",
      "5\n",
      "2\n",
      "3\n",
      "4\n",
      "1\n",
      "1 2 3 4 5 "
     ]
    }
   ],
   "source": [
    "#거품정렬\n",
    "T = int(input())\n",
    "arr = []\n",
    "\n",
    "for i in range(T):\n",
    "    num = int(input())\n",
    "    arr.append(num)\n",
    "\n",
    "for i in range(T):\n",
    "    for j in range(1, T-i):\n",
    "        if arr[j-1]>arr[j] :\n",
    "            temp = arr[j-1]\n",
    "            arr[j-1] = arr[j]\n",
    "            arr[j] = temp\n",
    "\n",
    "for i in range(T):\n",
    "    print(arr[i], end=' ')"
   ]
  },
  {
   "cell_type": "code",
   "execution_count": 4,
   "metadata": {},
   "outputs": [
    {
     "name": "stdout",
     "output_type": "stream",
     "text": [
      "5\n",
      "5\n",
      "2\n",
      "3\n",
      "4\n",
      "1\n",
      "1 2 3 4 5 "
     ]
    }
   ],
   "source": [
    "#선택정렬\n",
    "T = int(input())\n",
    "arr = []\n",
    "\n",
    "for i in range(T):\n",
    "    num = int(input())\n",
    "    arr.append(num)\n",
    "\n",
    "for i in range(T):\n",
    "    for j in range(i+1, T):\n",
    "        if arr[i]>arr[j] :\n",
    "            temp = arr[i]\n",
    "            arr[i] = arr[j]\n",
    "            arr[j] = temp\n",
    "\n",
    "for i in range(T):\n",
    "    print(arr[i], end=' ')"
   ]
  },
  {
   "cell_type": "markdown",
   "metadata": {},
   "source": [
    "## 2751번: 수 정렬하기 2"
   ]
  },
  {
   "cell_type": "code",
   "execution_count": 7,
   "metadata": {},
   "outputs": [
    {
     "name": "stdout",
     "output_type": "stream",
     "text": [
      "5\n",
      "5\n",
      "4\n",
      "3\n",
      "2\n",
      "1\n",
      "1\n",
      "2\n",
      "3\n",
      "4\n",
      "5\n"
     ]
    }
   ],
   "source": [
    "N = int(input())\n",
    "arr = []\n",
    "\n",
    "for i in range(N):\n",
    "    num = int(input())\n",
    "    arr.append(num)\n",
    "\n",
    "arr.sort()    \n",
    "    \n",
    "for i in range(N):\n",
    "    print(arr[i])"
   ]
  },
  {
   "cell_type": "markdown",
   "metadata": {},
   "source": [
    "## 10989번: 수 정렬하기 3"
   ]
  },
  {
   "cell_type": "code",
   "execution_count": 10,
   "metadata": {},
   "outputs": [
    {
     "name": "stdout",
     "output_type": "stream",
     "text": [
      "10\n",
      "5\n",
      "2\n",
      "3\n",
      "1\n",
      "4\n",
      "2\n",
      "3\n",
      "5\n",
      "1\n",
      "7\n",
      "1\n",
      "1\n",
      "2\n",
      "2\n",
      "3\n",
      "3\n",
      "4\n",
      "5\n",
      "5\n",
      "7\n"
     ]
    }
   ],
   "source": [
    "#제출시 int(input())을 int(sys.stdin.readline())로 변경해야 함\n",
    "import sys\n",
    "arr = [0] * 10001\n",
    "N = int(input())\n",
    "\n",
    "for i in range(N):\n",
    "    num = int(input())\n",
    "    arr[num] += 1\n",
    "    \n",
    "for i in range(10001):\n",
    "    for j in range(arr[i]):\n",
    "        print(i)"
   ]
  }
 ],
 "metadata": {
  "kernelspec": {
   "display_name": "Python 3",
   "language": "python",
   "name": "python3"
  }
 },
 "nbformat": 4,
 "nbformat_minor": 4
}
