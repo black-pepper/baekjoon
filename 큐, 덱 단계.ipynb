{
 "cells": [
  {
   "cell_type": "markdown",
   "metadata": {},
   "source": [
    "## 18258번: 큐 2"
   ]
  },
  {
   "cell_type": "code",
   "execution_count": 18,
   "metadata": {},
   "outputs": [
    {
     "name": "stdout",
     "output_type": "stream",
     "text": [
      "15\n",
      "push 1\n",
      "push 2\n",
      "front\n",
      "1\n",
      "back\n",
      "2\n",
      "size\n",
      "2\n",
      "empty\n",
      "0\n",
      "pop\n",
      "1\n",
      "pop\n",
      "2\n",
      "pop\n",
      "-1\n",
      "size\n",
      "0\n",
      "empty\n",
      "1\n",
      "pop\n",
      "-1\n",
      "push 3\n",
      "empty\n",
      "0\n",
      "front\n",
      "3\n"
     ]
    }
   ],
   "source": [
    "import sys\n",
    "from collections import deque\n",
    "\n",
    "N = int(sys.stdin.readline().rstrip())\n",
    "queue = deque()\n",
    "\n",
    "for i in range(N):\n",
    "    command = sys.stdin.readline().rstrip()\n",
    "    if 'push' in command:\n",
    "        command, num = command.split()\n",
    "        queue.append(num)\n",
    "    elif 'pop' in command:\n",
    "        if len(queue) == 0:\n",
    "            print(-1)\n",
    "        else:\n",
    "            print(queue.popleft())\n",
    "    elif 'size' in command:\n",
    "        print(len(queue))\n",
    "    elif 'empty' in command:\n",
    "        print(int(len(queue) == 0))\n",
    "    elif 'front' in command:\n",
    "        if len(queue) == 0:\n",
    "            print(-1)\n",
    "        else:\n",
    "            print(queue[0])\n",
    "    elif 'back' in command:\n",
    "        if len(queue) == 0:\n",
    "            print(-1)\n",
    "        else:\n",
    "            print(queue[-1])"
   ]
  },
  {
   "cell_type": "markdown",
   "metadata": {},
   "source": [
    "## 2164번: 카드2"
   ]
  },
  {
   "cell_type": "code",
   "execution_count": 1,
   "metadata": {},
   "outputs": [
    {
     "name": "stdout",
     "output_type": "stream",
     "text": [
      "6\n",
      "4\n"
     ]
    }
   ],
   "source": [
    "#계산 풀이\n",
    "N = int(input())\n",
    "squ = 1\n",
    "\n",
    "while squ < N :\n",
    "    squ = squ*2\n",
    "\n",
    "print(squ-((squ-N)*2))"
   ]
  },
  {
   "cell_type": "code",
   "execution_count": 4,
   "metadata": {},
   "outputs": [
    {
     "name": "stdout",
     "output_type": "stream",
     "text": [
      "6\n",
      "4\n"
     ]
    }
   ],
   "source": [
    "#큐 활용 풀이\n",
    "import sys\n",
    "from collections import deque\n",
    "\n",
    "N = int(sys.stdin.readline().rstrip())\n",
    "queue = deque()\n",
    "\n",
    "for i in range(1, N+1):\n",
    "    queue.append(i)\n",
    "\n",
    "while len(queue) != 1 :\n",
    "    queue.popleft()\n",
    "    queue.append(queue.popleft())\n",
    "\n",
    "print(queue[0])"
   ]
  },
  {
   "cell_type": "markdown",
   "metadata": {},
   "source": [
    "## 11866번: 요세푸스 문제 0"
   ]
  },
  {
   "cell_type": "code",
   "execution_count": 1,
   "metadata": {},
   "outputs": [
    {
     "name": "stdout",
     "output_type": "stream",
     "text": [
      "7 3\n",
      "<3, 6, 2, 7, 5, 1, 4>\n"
     ]
    }
   ],
   "source": [
    "N, K = map(int, input().split())\n",
    "arr = []\n",
    "josephus = []\n",
    "index = 0\n",
    "\n",
    "for i in range(N):\n",
    "    arr.append(i+1)\n",
    "\n",
    "def count_index (length, index, count):\n",
    "    if index == length:\n",
    "        index = 0\n",
    "    for i in range(1, count):\n",
    "        index += 1\n",
    "        if index == length:\n",
    "            index = 0\n",
    "    return index\n",
    "\n",
    "for i in range(N):\n",
    "    index = count_index(len(arr), index, K)\n",
    "    josephus.append(arr.pop(index))\n",
    "    #print(josephus)\n",
    "\n",
    "size = len(josephus)\n",
    "print('<', end='')\n",
    "for i in range(size):\n",
    "    if i == size-1:\n",
    "        print('%d'%josephus[size-1], end='')\n",
    "    else:\n",
    "        print('%d, '%josephus[i], end='')\n",
    "print('>')"
   ]
  },
  {
   "cell_type": "markdown",
   "metadata": {},
   "source": [
    "## 1966번: 프린터 큐"
   ]
  },
  {
   "cell_type": "code",
   "execution_count": 18,
   "metadata": {},
   "outputs": [
    {
     "name": "stdout",
     "output_type": "stream",
     "text": [
      "3\n",
      "1 0\n",
      "5\n",
      "1\n",
      "4 2\n",
      "1 2 3 4\n",
      "2\n",
      "6 0\n",
      "1 1 9 1 1 1\n",
      "5\n"
     ]
    }
   ],
   "source": [
    "from collections import deque\n",
    "\n",
    "T = int(input())\n",
    "for t in range(T):\n",
    "    N, M = map(int, input().split())\n",
    "    arr = list(map(int, input().split()))\n",
    "    queue = deque()\n",
    "    count = 0\n",
    "    for i in range(N):\n",
    "        queue.append([i, arr[i]])\n",
    "    \n",
    "    while len(queue) != 0 :\n",
    "        max_value = queue[0]\n",
    "        \n",
    "        # 가장 높은 중요도 찾기\n",
    "        for i in range(len(queue)):\n",
    "            if max_value[1] < queue[i][1]:\n",
    "                max_value = queue[i]\n",
    "                \n",
    "        # 가장 높은 중요도가 가장 앞으로 갈때까지 옮기기\n",
    "        while queue[0] != max_value:\n",
    "            queue.append(queue.popleft())\n",
    "        \n",
    "        # 순서 확인\n",
    "        count += 1\n",
    "        if queue[0][0] == M:\n",
    "            print(count)\n",
    "            break\n",
    "        else:\n",
    "            queue.popleft()"
   ]
  }
 ],
 "metadata": {
  "kernelspec": {
   "display_name": "Python 3",
   "language": "python",
   "name": "python3"
  },
  "language_info": {
   "codemirror_mode": {
    "name": "ipython",
    "version": 3
   },
   "file_extension": ".py",
   "mimetype": "text/x-python",
   "name": "python",
   "nbconvert_exporter": "python",
   "pygments_lexer": "ipython3",
   "version": "3.8.3"
  }
 },
 "nbformat": 4,
 "nbformat_minor": 4
}
