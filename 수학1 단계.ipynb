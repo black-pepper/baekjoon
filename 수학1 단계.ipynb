{
 "cells": [
  {
   "cell_type": "markdown",
   "metadata": {},
   "source": [
    "## 1712번: 손익분기점"
   ]
  },
  {
   "cell_type": "code",
   "execution_count": 4,
   "metadata": {},
   "outputs": [
    {
     "name": "stdout",
     "output_type": "stream",
     "text": [
      "1000 70 170\n",
      "11\n"
     ]
    }
   ],
   "source": [
    "A, B, C = map(int, input().split())\n",
    "\n",
    "if(B>=C):print(-1)\n",
    "else: print(A//(C-B)+1)"
   ]
  },
  {
   "cell_type": "markdown",
   "metadata": {},
   "source": [
    "## 2839번: 설탕 배달"
   ]
  },
  {
   "cell_type": "code",
   "execution_count": 19,
   "metadata": {},
   "outputs": [
    {
     "name": "stdout",
     "output_type": "stream",
     "text": [
      "18\n",
      "4\n"
     ]
    }
   ],
   "source": [
    "N = int(input())\n",
    "\n",
    "# 5의 배수일 경우 N/5\n",
    "if N%5==0:\n",
    "    result = N//5\n",
    "\n",
    "# 3보다 작을 경우 -1\n",
    "elif N<3:\n",
    "    result = -1\n",
    "    \n",
    "# N과 가장 가까운 5의 배수에서 3의 배수를 더함    \n",
    "else:\n",
    "    for x in reversed(range(0, N//5+1)):\n",
    "        y = (N-(x*5))//3\n",
    "        if(x*5+y*3==N):\n",
    "            result = x+y\n",
    "            break\n",
    "    if(x==0 and N%3!=0): result = -1\n",
    "        \n",
    "print(result)"
   ]
  },
  {
   "cell_type": "markdown",
   "metadata": {},
   "source": [
    "## 2292번: 벌집"
   ]
  },
  {
   "cell_type": "code",
   "execution_count": 39,
   "metadata": {},
   "outputs": [
    {
     "name": "stdout",
     "output_type": "stream",
     "text": [
      "37\n",
      "4\n"
     ]
    }
   ],
   "source": [
    "N = int(input())\n",
    "\n",
    "i = 0\n",
    "step_max = 1\n",
    "\n",
    "while step_max < N :\n",
    "    i += 1\n",
    "    step_max += i*6\n",
    "\n",
    "print(i+1)"
   ]
  },
  {
   "cell_type": "markdown",
   "metadata": {},
   "source": [
    "## 1193번: 분수찾기"
   ]
  },
  {
   "cell_type": "code",
   "execution_count": 1,
   "metadata": {},
   "outputs": [
    {
     "name": "stdout",
     "output_type": "stream",
     "text": [
      "14\n",
      "2/4\n"
     ]
    }
   ],
   "source": [
    "X = int(input())\n",
    "layer = 0\n",
    "number = 0\n",
    "\n",
    "while X!=0 :\n",
    "    if(layer==number):\n",
    "        layer += 1\n",
    "        number = 1\n",
    "    else: number += 1\n",
    "    X -= 1\n",
    "\n",
    "if layer%2 == 1: print(str(layer-number+1)+'/'+str(number))\n",
    "else : print(str(number)+'/'+str(layer-number+1))"
   ]
  }
 ],
 "metadata": {
  "kernelspec": {
   "display_name": "Python 3",
   "language": "python",
   "name": "python3"
  },
  "language_info": {
   "codemirror_mode": {
    "name": "ipython",
    "version": 3
   },
   "file_extension": ".py",
   "mimetype": "text/x-python",
   "name": "python",
   "nbconvert_exporter": "python",
   "pygments_lexer": "ipython3",
   "version": "3.8.3"
  }
 },
 "nbformat": 4,
 "nbformat_minor": 4
}
