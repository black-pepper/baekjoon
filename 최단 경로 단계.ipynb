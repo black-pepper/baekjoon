{
 "cells": [
  {
   "cell_type": "markdown",
   "metadata": {},
   "source": [
    "## 1753번: 최단경로 (미완성)"
   ]
  },
  {
   "cell_type": "code",
   "execution_count": 3,
   "metadata": {},
   "outputs": [
    {
     "name": "stdout",
     "output_type": "stream",
     "text": [
      "5 6\n",
      "1\n",
      "5 1 1\n",
      "1 2 2\n",
      "1 3 3\n",
      "2 3 4\n",
      "2 4 5\n",
      "3 4 6\n"
     ]
    }
   ],
   "source": [
    "V, E = map(int, input().split()) #정점의 개수 V와 간선의 개수 E\n",
    "matrix = [[3000000]*(V+1) for i in range(V+1)]\n",
    "start = int(input())\n",
    "for e in range(E):\n",
    "    u, v, w =map(int, input().split())\n",
    "    matrix[u][v] = w"
   ]
  },
  {
   "cell_type": "code",
   "execution_count": 6,
   "metadata": {},
   "outputs": [
    {
     "name": "stdout",
     "output_type": "stream",
     "text": [
      "[3000000, 0, 2, 3, 3000000, 3000000]\n",
      "[3000000, 0, 2, 3, 7, 3000000]\n",
      "[3000000, 0, 2, 3, 7, 3000000]\n",
      "[3000000, 0, 2, 3, 7, 3000000]\n",
      "[3000000, 0, 2, 3, 7, 3000000]\n"
     ]
    }
   ],
   "source": [
    "visit = [0] * (V+1)\n",
    "result = matrix[start]\n",
    "result[start] = 0\n",
    "\n",
    "for i in range(V):\n",
    "    #최소값 찾기\n",
    "    min_index = 0\n",
    "    for j in range(V):\n",
    "        if result[min_index] > result[j] and visit[j] == 0:\n",
    "            min_index = j\n",
    "    visit[min_index] = 1\n",
    "            \n",
    "    #업데이트\n",
    "    for j in range(V):\n",
    "        if result[j] > result[min_index] + matrix[min_index][j]:\n",
    "            result[j] = result[min_index] + matrix[min_index][j]"
   ]
  },
  {
   "cell_type": "code",
   "execution_count": 11,
   "metadata": {},
   "outputs": [
    {
     "name": "stdout",
     "output_type": "stream",
     "text": [
      "0\n",
      "2\n",
      "3\n",
      "7\n",
      "INF\n"
     ]
    }
   ],
   "source": [
    "for i in result[1:]:\n",
    "    if i == 3000000:\n",
    "        print('INF')\n",
    "    else:\n",
    "        print(i)"
   ]
  }
 ],
 "metadata": {
  "kernelspec": {
   "display_name": "Python 3",
   "language": "python",
   "name": "python3"
  },
  "language_info": {
   "codemirror_mode": {
    "name": "ipython",
    "version": 3
   },
   "file_extension": ".py",
   "mimetype": "text/x-python",
   "name": "python",
   "nbconvert_exporter": "python",
   "pygments_lexer": "ipython3",
   "version": "3.8.3"
  }
 },
 "nbformat": 4,
 "nbformat_minor": 4
}
