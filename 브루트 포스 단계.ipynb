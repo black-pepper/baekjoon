{
 "cells": [
  {
   "cell_type": "markdown",
   "metadata": {},
   "source": [
    "## 2798번: 블랙잭"
   ]
  },
  {
   "cell_type": "code",
   "execution_count": 5,
   "metadata": {},
   "outputs": [
    {
     "name": "stdout",
     "output_type": "stream",
     "text": [
      "10 500\n",
      "93 181 245 214 315 36 185 138 216 295\n",
      "497\n"
     ]
    }
   ],
   "source": [
    "N, M = map(int, input().split())\n",
    "arr = list(map(int, input().split()))\n",
    "sum = 0\n",
    "\n",
    "for i in arr:\n",
    "    for j in arr:\n",
    "        if j == i : continue\n",
    "        for k in arr:\n",
    "            if k == i : continue\n",
    "            if k == j : continue\n",
    "            if i+j+k <= M and M-(i+j+k) < M-sum : sum = i+j+k\n",
    "            if sum == M : break;\n",
    "        if sum == M : break;        \n",
    "    if sum == M : break;\n",
    "\n",
    "print(sum)"
   ]
  },
  {
   "cell_type": "markdown",
   "metadata": {},
   "source": [
    "## 2231번: 분해합"
   ]
  },
  {
   "cell_type": "code",
   "execution_count": 10,
   "metadata": {},
   "outputs": [
    {
     "name": "stdout",
     "output_type": "stream",
     "text": [
      "216\n",
      "198\n"
     ]
    }
   ],
   "source": [
    "N = int(input())\n",
    "start = N//10\n",
    "result = 0\n",
    "\n",
    "for i in range(start,N):\n",
    "    n1 = i%10\n",
    "    n10 = i%100//10\n",
    "    n100 = i%1000//100\n",
    "    n1000 = i%10000//1000\n",
    "    n10000 = i%100000//10000\n",
    "    n100000 = i%1000000//100000\n",
    "    n1000000 = i%10000000//1000000\n",
    "    \n",
    "    if n1 + n10 + n100 + n1000 + n10000 + n100000 + n1000000 + i == N :\n",
    "        result = i\n",
    "        break\n",
    "\n",
    "print(result)"
   ]
  },
  {
   "cell_type": "markdown",
   "metadata": {},
   "source": [
    "## 7568번: 덩치"
   ]
  },
  {
   "cell_type": "code",
   "execution_count": 14,
   "metadata": {},
   "outputs": [
    {
     "name": "stdout",
     "output_type": "stream",
     "text": [
      "5\n",
      "55 185\n",
      "58 183\n",
      "88 186\n",
      "60 175\n",
      "46 155\n",
      "2 2 1 2 5 "
     ]
    }
   ],
   "source": [
    "N = int(input())\n",
    "rank = []\n",
    "\n",
    "for i in range(N):\n",
    "    x, y = map(int, input().split())\n",
    "    rank.append([x,y,1])\n",
    "    \n",
    "for i in range(N):\n",
    "    for j in range(N):\n",
    "        if rank[i][0]<rank[j][0] and rank[i][1]<rank[j][1] :\n",
    "            rank[i][2] += 1\n",
    "\n",
    "for i in range(N):\n",
    "    print(rank[i][2], end=' ')"
   ]
  },
  {
   "cell_type": "markdown",
   "metadata": {},
   "source": [
    "## 1436번: 영화감독 숌"
   ]
  },
  {
   "cell_type": "code",
   "execution_count": 9,
   "metadata": {},
   "outputs": [
    {
     "name": "stdout",
     "output_type": "stream",
     "text": [
      "9\n",
      "6662\n"
     ]
    }
   ],
   "source": [
    "N = int(input())\n",
    "count = 0\n",
    "i = 666\n",
    "\n",
    "while True:\n",
    "    if '666' in str(i) : count += 1\n",
    "    if count == N : break\n",
    "    i += 1\n",
    "\n",
    "print(i)"
   ]
  }
 ],
 "metadata": {
  "kernelspec": {
   "display_name": "Python 3",
   "language": "python",
   "name": "python3"
  },
  "language_info": {
   "codemirror_mode": {
    "name": "ipython",
    "version": 3
   },
   "file_extension": ".py",
   "mimetype": "text/x-python",
   "name": "python",
   "nbconvert_exporter": "python",
   "pygments_lexer": "ipython3",
   "version": "3.8.3"
  }
 },
 "nbformat": 4,
 "nbformat_minor": 4
}
