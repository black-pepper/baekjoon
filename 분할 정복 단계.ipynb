{
 "cells": [
  {
   "cell_type": "markdown",
   "metadata": {},
   "source": [
    "## 2630번: 색종이 만들기"
   ]
  },
  {
   "cell_type": "code",
   "execution_count": 12,
   "metadata": {},
   "outputs": [
    {
     "name": "stdout",
     "output_type": "stream",
     "text": [
      "8\n",
      "1 1 0 0 0 0 1 1\n",
      "1 1 0 0 0 0 1 1\n",
      "0 0 0 0 1 1 0 0\n",
      "0 0 0 0 1 1 0 0\n",
      "1 0 0 0 1 1 1 1\n",
      "0 1 0 0 1 1 1 1\n",
      "0 0 1 1 1 1 1 1\n",
      "0 0 1 1 1 1 1 1\n",
      "9\n",
      "7\n"
     ]
    }
   ],
   "source": [
    "N = int(input())\n",
    "white_paper = 0\n",
    "blue_paper = 0\n",
    "arr = []\n",
    "for n in range(N):\n",
    "    arr.append(list(map(int, input().split())))\n",
    "    \n",
    "def QuadTree(start_x, start_y, size):\n",
    "    global white_paper, blue_paper\n",
    "    \n",
    "    #범위 내 숫자가 모두 같은지 확인\n",
    "    QT_check = 1\n",
    "    for y in range(size):\n",
    "        for x in range(size):\n",
    "            if arr[start_y + y][start_x + x] != arr[start_y][start_x]:\n",
    "                QT_check = 0\n",
    "                break\n",
    "        if QT_check == 0:\n",
    "            break\n",
    "    \n",
    "    #같으면 색종이 개수에 더하기\n",
    "    if QT_check == 1:\n",
    "        if arr[start_y][start_x] == 0:\n",
    "            white_paper += 1\n",
    "        else:\n",
    "            blue_paper += 1\n",
    "    #다르면 4개로 나누기\n",
    "    else:\n",
    "        half_size = size//2\n",
    "        QuadTree(start_x, start_y, half_size)\n",
    "        QuadTree(start_x + half_size , start_y, half_size)\n",
    "        QuadTree(start_x, start_y + half_size, half_size)\n",
    "        QuadTree(start_x + half_size, start_y + half_size, half_size)\n",
    "        \n",
    "QuadTree(0, 0, N)\n",
    "print(white_paper)\n",
    "print(blue_paper)"
   ]
  },
  {
   "cell_type": "markdown",
   "metadata": {},
   "source": [
    "## 1992번: 쿼드트리"
   ]
  },
  {
   "cell_type": "code",
   "execution_count": 27,
   "metadata": {},
   "outputs": [
    {
     "name": "stdout",
     "output_type": "stream",
     "text": [
      "8\n",
      "11110000\n",
      "11110000\n",
      "00011100\n",
      "00011100\n",
      "11110000\n",
      "11110000\n",
      "11110011\n",
      "11110011\n",
      "((110(0101))(0010)1(0001))"
     ]
    }
   ],
   "source": [
    "N = int(input())\n",
    "arr = []\n",
    "for n in range(N):\n",
    "    arr.append(list(map(int, list(input()))))\n",
    "    \n",
    "def QuadTree(start_x, start_y, size):\n",
    "    #같은지 확인\n",
    "    QT_check = 1\n",
    "    for y in range(size):\n",
    "        for x in range(size):\n",
    "            if arr[y+start_y][x+start_x] != arr[start_y][start_x]:\n",
    "                QT_check = 0\n",
    "                break\n",
    "        if QT_check == 0:\n",
    "            break\n",
    "                \n",
    "    #같으면 출력\n",
    "    if QT_check == 1:\n",
    "        print(arr[start_y][start_x], end='')\n",
    "    #다르면 나누기\n",
    "    else:\n",
    "        half_size = size//2\n",
    "        print('(',end='')\n",
    "        QuadTree(start_x,start_y,half_size)\n",
    "        QuadTree(start_x+half_size,start_y,half_size)\n",
    "        QuadTree(start_x,start_y+half_size,half_size)\n",
    "        QuadTree(start_x+half_size,start_y+half_size,half_size)\n",
    "        print(')',end='')\n",
    "    \n",
    "QuadTree(0,0,N)"
   ]
  },
  {
   "cell_type": "markdown",
   "metadata": {},
   "source": [
    "## 1780번: 종이의 개수"
   ]
  },
  {
   "cell_type": "code",
   "execution_count": 1,
   "metadata": {},
   "outputs": [
    {
     "name": "stdout",
     "output_type": "stream",
     "text": [
      "9\n",
      "0 0 0 1 1 1 -1 -1 -1\n",
      "0 0 0 1 1 1 -1 -1 -1\n",
      "0 0 0 1 1 1 -1 -1 -1\n",
      "1 1 1 0 0 0 0 0 0\n",
      "1 1 1 0 0 0 0 0 0\n",
      "1 1 1 0 0 0 0 0 0\n",
      "0 1 -1 0 1 -1 0 1 -1\n",
      "0 1 -1 0 1 -1 0 1 -1\n",
      "0 1 -1 0 1 -1 0 1 -1\n",
      "10\n",
      "12\n",
      "11\n"
     ]
    }
   ],
   "source": [
    "N = int(input())\n",
    "arr = []\n",
    "number = [0, 0, 0]\n",
    "\n",
    "for n in range(N):\n",
    "    arr.append(list(map(int, input().split())))\n",
    "    \n",
    "def CutPaper (start_x, start_y, size):\n",
    "    check = 1\n",
    "    #범위 내 숫자가 같은지 확인\n",
    "    for x in range(size):\n",
    "        for y in range(size):\n",
    "            if arr[start_y][start_x] != arr[start_y+y][start_x+x]:\n",
    "                check = 0\n",
    "                break\n",
    "        if check == 0:\n",
    "            break\n",
    "    \n",
    "    #범위 내 숫자가 같으면 카운트\n",
    "    if check == 1:\n",
    "        number[arr[start_y][start_x]] += 1\n",
    "    \n",
    "    #범위 내 숫자가 다르면 나누기\n",
    "    else:\n",
    "        divided_size = size//3\n",
    "        CutPaper(start_x, start_y, divided_size)\n",
    "        CutPaper(start_x+divided_size, start_y, divided_size)\n",
    "        CutPaper(start_x+divided_size*2, start_y, divided_size)\n",
    "        CutPaper(start_x, start_y+divided_size, divided_size)\n",
    "        CutPaper(start_x+divided_size, start_y+divided_size, divided_size)\n",
    "        CutPaper(start_x+divided_size*2, start_y+divided_size, divided_size)\n",
    "        CutPaper(start_x, start_y+divided_size*2, divided_size)\n",
    "        CutPaper(start_x+divided_size, start_y+divided_size*2, divided_size)\n",
    "        CutPaper(start_x+divided_size*2, start_y+divided_size*2, divided_size)\n",
    "    \n",
    "CutPaper(0, 0, N)\n",
    "print(number[-1])\n",
    "print(number[0])\n",
    "print(number[1])"
   ]
  },
  {
   "cell_type": "markdown",
   "metadata": {},
   "source": [
    "## 1629번: 곱셈"
   ]
  },
  {
   "cell_type": "code",
   "execution_count": 9,
   "metadata": {},
   "outputs": [
    {
     "name": "stdout",
     "output_type": "stream",
     "text": [
      "10 11 12\n",
      "4\n"
     ]
    }
   ],
   "source": [
    "import sys\n",
    "#A를 B번 곱하고 C로 나눈 나머지\n",
    "A, B, C = map(int, input().split())\n",
    "\n",
    "def multiply (A, B, C):\n",
    "    if B == 1 :\n",
    "        return A % C\n",
    "    elif B % 2 == 1 :\n",
    "        return A * multiply(A*A%C, (B-1)//2, C) % C\n",
    "    else :\n",
    "        return multiply(A*A%C, B//2, C)\n",
    "    \n",
    "print(multiply(A,B,C))"
   ]
  },
  {
   "cell_type": "markdown",
   "metadata": {},
   "source": [
    "   ## 11401번: 이항 계수"
   ]
  },
  {
   "cell_type": "code",
   "execution_count": 12,
   "metadata": {},
   "outputs": [
    {
     "name": "stdout",
     "output_type": "stream",
     "text": [
      "5 2\n",
      "10\n"
     ]
    }
   ],
   "source": [
    "N, K = map(int, input().split())\n",
    "MOD = 1000000007\n",
    "\n",
    "#팩토리얼\n",
    "def factorial(num):\n",
    "    result = 1\n",
    "    for i in range(1, num+1):\n",
    "        result = result * i % MOD\n",
    "    return result\n",
    "\n",
    "#거듭제곱\n",
    "def multiply (A, B):\n",
    "    if B == 1 :\n",
    "        return A % MOD\n",
    "    elif B % 2 == 1 :\n",
    "        return A * multiply(A*A%MOD, (B-1)//2) % MOD\n",
    "    else :\n",
    "        return multiply(A*A%MOD, B//2)\n",
    "    \n",
    "print(factorial(N)*multiply(factorial(K)*factorial(N-K), MOD-2)%MOD)"
   ]
  }
 ],
 "metadata": {
  "kernelspec": {
   "display_name": "Python 3",
   "language": "python",
   "name": "python3"
  },
  "language_info": {
   "codemirror_mode": {
    "name": "ipython",
    "version": 3
   },
   "file_extension": ".py",
   "mimetype": "text/x-python",
   "name": "python",
   "nbconvert_exporter": "python",
   "pygments_lexer": "ipython3",
   "version": "3.8.3"
  }
 },
 "nbformat": 4,
 "nbformat_minor": 4
}
