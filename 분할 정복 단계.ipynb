{
 "cells": [
  {
   "cell_type": "markdown",
   "metadata": {},
   "source": [
    "## 2630번: 색종이 만들기"
   ]
  },
  {
   "cell_type": "code",
   "execution_count": 12,
   "metadata": {},
   "outputs": [
    {
     "name": "stdout",
     "output_type": "stream",
     "text": [
      "8\n",
      "1 1 0 0 0 0 1 1\n",
      "1 1 0 0 0 0 1 1\n",
      "0 0 0 0 1 1 0 0\n",
      "0 0 0 0 1 1 0 0\n",
      "1 0 0 0 1 1 1 1\n",
      "0 1 0 0 1 1 1 1\n",
      "0 0 1 1 1 1 1 1\n",
      "0 0 1 1 1 1 1 1\n",
      "9\n",
      "7\n"
     ]
    }
   ],
   "source": [
    "N = int(input())\n",
    "white_paper = 0\n",
    "blue_paper = 0\n",
    "arr = []\n",
    "for n in range(N):\n",
    "    arr.append(list(map(int, input().split())))\n",
    "    \n",
    "def QuadTree(start_x, start_y, size):\n",
    "    global white_paper, blue_paper\n",
    "    \n",
    "    #범위 내 숫자가 모두 같은지 확인\n",
    "    QT_check = 1\n",
    "    for y in range(size):\n",
    "        for x in range(size):\n",
    "            if arr[start_y + y][start_x + x] != arr[start_y][start_x]:\n",
    "                QT_check = 0\n",
    "                break\n",
    "        if QT_check == 0:\n",
    "            break\n",
    "    \n",
    "    #같으면 색종이 개수에 더하기\n",
    "    if QT_check == 1:\n",
    "        if arr[start_y][start_x] == 0:\n",
    "            white_paper += 1\n",
    "        else:\n",
    "            blue_paper += 1\n",
    "    #다르면 4개로 나누기\n",
    "    else:\n",
    "        half_size = size//2\n",
    "        QuadTree(start_x, start_y, half_size)\n",
    "        QuadTree(start_x + half_size , start_y, half_size)\n",
    "        QuadTree(start_x, start_y + half_size, half_size)\n",
    "        QuadTree(start_x + half_size, start_y + half_size, half_size)\n",
    "        \n",
    "QuadTree(0, 0, N)\n",
    "print(white_paper)\n",
    "print(blue_paper)"
   ]
  },
  {
   "cell_type": "markdown",
   "metadata": {},
   "source": [
    "## 1992번: 쿼드트리"
   ]
  },
  {
   "cell_type": "code",
   "execution_count": 27,
   "metadata": {},
   "outputs": [
    {
     "name": "stdout",
     "output_type": "stream",
     "text": [
      "8\n",
      "11110000\n",
      "11110000\n",
      "00011100\n",
      "00011100\n",
      "11110000\n",
      "11110000\n",
      "11110011\n",
      "11110011\n",
      "((110(0101))(0010)1(0001))"
     ]
    }
   ],
   "source": [
    "N = int(input())\n",
    "arr = []\n",
    "for n in range(N):\n",
    "    arr.append(list(map(int, list(input()))))\n",
    "    \n",
    "def QuadTree(start_x, start_y, size):\n",
    "    #같은지 확인\n",
    "    QT_check = 1\n",
    "    for y in range(size):\n",
    "        for x in range(size):\n",
    "            if arr[y+start_y][x+start_x] != arr[start_y][start_x]:\n",
    "                QT_check = 0\n",
    "                break\n",
    "        if QT_check == 0:\n",
    "            break\n",
    "                \n",
    "    #같으면 출력\n",
    "    if QT_check == 1:\n",
    "        print(arr[start_y][start_x], end='')\n",
    "    #다르면 나누기\n",
    "    else:\n",
    "        half_size = size//2\n",
    "        print('(',end='')\n",
    "        QuadTree(start_x,start_y,half_size)\n",
    "        QuadTree(start_x+half_size,start_y,half_size)\n",
    "        QuadTree(start_x,start_y+half_size,half_size)\n",
    "        QuadTree(start_x+half_size,start_y+half_size,half_size)\n",
    "        print(')',end='')\n",
    "    \n",
    "QuadTree(0,0,N)"
   ]
  },
  {
   "cell_type": "markdown",
   "metadata": {},
   "source": [
    "## 1780번: 종이의 개수"
   ]
  },
  {
   "cell_type": "code",
   "execution_count": 1,
   "metadata": {},
   "outputs": [
    {
     "name": "stdout",
     "output_type": "stream",
     "text": [
      "9\n",
      "0 0 0 1 1 1 -1 -1 -1\n",
      "0 0 0 1 1 1 -1 -1 -1\n",
      "0 0 0 1 1 1 -1 -1 -1\n",
      "1 1 1 0 0 0 0 0 0\n",
      "1 1 1 0 0 0 0 0 0\n",
      "1 1 1 0 0 0 0 0 0\n",
      "0 1 -1 0 1 -1 0 1 -1\n",
      "0 1 -1 0 1 -1 0 1 -1\n",
      "0 1 -1 0 1 -1 0 1 -1\n",
      "10\n",
      "12\n",
      "11\n"
     ]
    }
   ],
   "source": [
    "N = int(input())\n",
    "arr = []\n",
    "number = [0, 0, 0]\n",
    "\n",
    "for n in range(N):\n",
    "    arr.append(list(map(int, input().split())))\n",
    "    \n",
    "def CutPaper (start_x, start_y, size):\n",
    "    check = 1\n",
    "    #범위 내 숫자가 같은지 확인\n",
    "    for x in range(size):\n",
    "        for y in range(size):\n",
    "            if arr[start_y][start_x] != arr[start_y+y][start_x+x]:\n",
    "                check = 0\n",
    "                break\n",
    "        if check == 0:\n",
    "            break\n",
    "    \n",
    "    #범위 내 숫자가 같으면 카운트\n",
    "    if check == 1:\n",
    "        number[arr[start_y][start_x]] += 1\n",
    "    \n",
    "    #범위 내 숫자가 다르면 나누기\n",
    "    else:\n",
    "        divided_size = size//3\n",
    "        CutPaper(start_x, start_y, divided_size)\n",
    "        CutPaper(start_x+divided_size, start_y, divided_size)\n",
    "        CutPaper(start_x+divided_size*2, start_y, divided_size)\n",
    "        CutPaper(start_x, start_y+divided_size, divided_size)\n",
    "        CutPaper(start_x+divided_size, start_y+divided_size, divided_size)\n",
    "        CutPaper(start_x+divided_size*2, start_y+divided_size, divided_size)\n",
    "        CutPaper(start_x, start_y+divided_size*2, divided_size)\n",
    "        CutPaper(start_x+divided_size, start_y+divided_size*2, divided_size)\n",
    "        CutPaper(start_x+divided_size*2, start_y+divided_size*2, divided_size)\n",
    "    \n",
    "CutPaper(0, 0, N)\n",
    "print(number[-1])\n",
    "print(number[0])\n",
    "print(number[1])"
   ]
  },
  {
   "cell_type": "markdown",
   "metadata": {},
   "source": [
    "## 1629번: 곱셈"
   ]
  },
  {
   "cell_type": "code",
   "execution_count": 9,
   "metadata": {},
   "outputs": [
    {
     "name": "stdout",
     "output_type": "stream",
     "text": [
      "10 11 12\n",
      "4\n"
     ]
    }
   ],
   "source": [
    "#A를 B번 곱하고 C로 나눈 나머지\n",
    "A, B, C = map(int, input().split())\n",
    "\n",
    "def multiply (A, B, C):\n",
    "    if B == 1 :\n",
    "        return A % C\n",
    "    elif B % 2 == 1 :\n",
    "        return A * multiply(A*A%C, (B-1)//2, C) % C\n",
    "    else :\n",
    "        return multiply(A*A%C, B//2, C)\n",
    "    \n",
    "print(multiply(A,B,C))"
   ]
  },
  {
   "cell_type": "markdown",
   "metadata": {},
   "source": [
    "   ## 11401번: 이항 계수"
   ]
  },
  {
   "cell_type": "code",
   "execution_count": 12,
   "metadata": {},
   "outputs": [
    {
     "name": "stdout",
     "output_type": "stream",
     "text": [
      "5 2\n",
      "10\n"
     ]
    }
   ],
   "source": [
    "N, K = map(int, input().split())\n",
    "MOD = 1000000007\n",
    "\n",
    "#팩토리얼\n",
    "def factorial(num):\n",
    "    result = 1\n",
    "    for i in range(1, num+1):\n",
    "        result = result * i % MOD\n",
    "    return result\n",
    "\n",
    "#거듭제곱\n",
    "def multiply (A, B):\n",
    "    if B == 1 :\n",
    "        return A % MOD\n",
    "    elif B % 2 == 1 :\n",
    "        return A * multiply(A*A%MOD, (B-1)//2) % MOD\n",
    "    else :\n",
    "        return multiply(A*A%MOD, B//2)\n",
    "    \n",
    "print(factorial(N)*multiply(factorial(K)*factorial(N-K), MOD-2)%MOD)"
   ]
  },
  {
   "cell_type": "markdown",
   "metadata": {},
   "source": [
    "## 2740번: 행렬 곱셈"
   ]
  },
  {
   "cell_type": "code",
   "execution_count": 5,
   "metadata": {},
   "outputs": [
    {
     "name": "stdout",
     "output_type": "stream",
     "text": [
      "3 2\n",
      "1 2\n",
      "3 4\n",
      "5 6\n",
      "2 3\n",
      "-1 -2 0\n",
      "0 0 3\n",
      "-1 -2 6 \n",
      "-3 -6 12 \n",
      "-5 -10 18 \n"
     ]
    }
   ],
   "source": [
    "M_A, K_A = map(int, input().split())\n",
    "matrix_A = []\n",
    "for m in range(M_A):\n",
    "    matrix_A.append(list(map(int, input().split())))\n",
    "\n",
    "M_B, K_B = map(int, input().split())\n",
    "matrix_B = []\n",
    "for m in range(M_B):\n",
    "    matrix_B.append(list(map(int, input().split())))\n",
    "\n",
    "#행렬 곱셈\n",
    "matrix_result = []\n",
    "for i in range(M_A):\n",
    "    result = []\n",
    "    for j in range(K_B):\n",
    "        result_sum = 0\n",
    "        for k in range(K_A):\n",
    "            result_sum += matrix_A[i][k] * matrix_B[k][j]\n",
    "        result.append(result_sum)\n",
    "    matrix_result.append(result)\n",
    "    \n",
    "#결과값 출력\n",
    "for i in range(M_A):\n",
    "    for j in range(K_B):\n",
    "        print(matrix_result[i][j], end=' ')\n",
    "    print()"
   ]
  },
  {
   "cell_type": "markdown",
   "metadata": {},
   "source": [
    "## 10830번: 행렬 제곱"
   ]
  },
  {
   "cell_type": "code",
   "execution_count": 12,
   "metadata": {},
   "outputs": [
    {
     "name": "stdout",
     "output_type": "stream",
     "text": [
      "2 5\n",
      "1 2\n",
      "3 4\n",
      "69 558 \n",
      "337 406 \n"
     ]
    }
   ],
   "source": [
    "A, B = map(int, input().split())\n",
    "matrix = []\n",
    "for a in range(A):\n",
    "    matrix.append(list(map(int, input().split())))\n",
    "\n",
    "#행렬 곱셈\n",
    "def multiply_matrix (matrix_A, matrix_B):\n",
    "    matrix_result = []\n",
    "    for i in range(A):\n",
    "        result = []\n",
    "        for j in range(A):\n",
    "            result_sum = 0\n",
    "            for k in range(A):\n",
    "                result_sum = (result_sum + matrix_A[i][k] * matrix_B[k][j]) % 1000\n",
    "            result.append(result_sum)\n",
    "        matrix_result.append(result)\n",
    "    return matrix_result\n",
    "    \n",
    "#행렬 제곱\n",
    "def squared_matrix (matrix, num):\n",
    "    if num == 1:\n",
    "        return matrix\n",
    "    elif num % 2 == 1:\n",
    "        return multiply_matrix(squared_matrix(multiply_matrix(matrix, matrix), num//2), matrix)\n",
    "    else:\n",
    "        return squared_matrix(multiply_matrix(matrix, matrix), num//2)\n",
    "    \n",
    "#결과값 출력\n",
    "matrix_result = squared_matrix (matrix, B)\n",
    "for i in range(A):\n",
    "    for j in range(A):\n",
    "        print(matrix_result[i][j]%1000, end=' ')\n",
    "    print()"
   ]
  },
  {
   "cell_type": "markdown",
   "metadata": {},
   "source": [
    "## 2749번: 피보나치 수 3"
   ]
  },
  {
   "cell_type": "code",
   "execution_count": 11,
   "metadata": {},
   "outputs": [
    {
     "name": "stdout",
     "output_type": "stream",
     "text": [
      "1000\n",
      "228875\n"
     ]
    }
   ],
   "source": [
    "N = int(input())\n",
    "matrix = [[1, 1],[1, 0]]\n",
    "\n",
    "#행렬 곱셈\n",
    "def multiply_matrix (matrix_A, matrix_B):\n",
    "    matrix_result = []\n",
    "    for i in range(2):\n",
    "        result = []\n",
    "        for j in range(2):\n",
    "            result_sum = 0\n",
    "            for k in range(2):\n",
    "                result_sum = (result_sum + matrix_A[i][k] * matrix_B[k][j]) % 1000000\n",
    "            result.append(result_sum)\n",
    "        matrix_result.append(result)\n",
    "    return matrix_result\n",
    "    \n",
    "#행렬 제곱\n",
    "def squared_matrix (matrix, num):\n",
    "    if num == 1:\n",
    "        return matrix\n",
    "    elif num % 2 == 1:\n",
    "        return multiply_matrix(squared_matrix(multiply_matrix(matrix, matrix), num//2), matrix)\n",
    "    else:\n",
    "        return squared_matrix(multiply_matrix(matrix, matrix), num//2)\n",
    "    \n",
    "#결과값 출력\n",
    "result = squared_matrix(matrix, N)\n",
    "print(result[0][1]%1000000)"
   ]
  },
  {
   "cell_type": "markdown",
   "metadata": {},
   "source": [
    "## 6549번: 히스토그램에서 가장 큰 직사각형"
   ]
  },
  {
   "cell_type": "code",
   "execution_count": 20,
   "metadata": {},
   "outputs": [
    {
     "name": "stdout",
     "output_type": "stream",
     "text": [
      "7 2 1 4 5 1 3 3\n",
      "8\n",
      "4 1000 1000 1000 1000\n",
      "4000\n",
      "0\n"
     ]
    }
   ],
   "source": [
    "#스택 풀이\n",
    "while True:\n",
    "    arr = list(map(int, input().split()))\n",
    "    if arr[0] == 0:\n",
    "        break\n",
    "    arr.pop(0)\n",
    "        \n",
    "    stack = []\n",
    "    stack.append([arr[0], 0])\n",
    "    area = arr[0]\n",
    "    \n",
    "    for i in range(1, len(arr)):\n",
    "        #스택에 가장 위의 값보다 클때까지 스택을 pop\n",
    "        temp = i\n",
    "        while stack[-1][0]>arr[i]:\n",
    "            if area < stack[-1][0] * (i - stack[-1][1]):\n",
    "                area = stack[-1][0] * (i - stack[-1][1])\n",
    "            temp = stack[-1][1]\n",
    "            stack.pop()\n",
    "            if len(stack) == 0:\n",
    "                stack.append([arr[i], temp])\n",
    "        #스택에 가장 위의 값보다 클경우 arr[i]를 push\n",
    "        if stack[-1][0]<arr[i]:\n",
    "            stack.append([arr[i], temp])\n",
    "    \n",
    "    #스택에 남은 값을들 모두 pop\n",
    "    while len(stack)>0:\n",
    "        if area < stack[-1][0] * (len(arr) - stack[-1][1]):\n",
    "            area = stack[-1][0] * (len(arr) - stack[-1][1])\n",
    "        stack.pop()\n",
    "        \n",
    "    print(area)"
   ]
  }
 ],
 "metadata": {
  "kernelspec": {
   "display_name": "Python 3",
   "language": "python",
   "name": "python3"
  },
  "language_info": {
   "codemirror_mode": {
    "name": "ipython",
    "version": 3
   },
   "file_extension": ".py",
   "mimetype": "text/x-python",
   "name": "python",
   "nbconvert_exporter": "python",
   "pygments_lexer": "ipython3",
   "version": "3.8.3"
  }
 },
 "nbformat": 4,
 "nbformat_minor": 4
}
