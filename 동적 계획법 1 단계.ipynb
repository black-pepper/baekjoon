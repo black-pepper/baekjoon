{
 "cells": [
  {
   "cell_type": "markdown",
   "metadata": {},
   "source": [
    "## 2748번: 피보나치 수 2"
   ]
  },
  {
   "cell_type": "code",
   "execution_count": 4,
   "metadata": {
    "ExecuteTime": {
     "end_time": "2020-10-29T07:41:48.123549Z",
     "start_time": "2020-10-29T07:41:47.081605Z"
    }
   },
   "outputs": [
    {
     "name": "stdout",
     "output_type": "stream",
     "text": [
      "10\n",
      "55\n"
     ]
    }
   ],
   "source": [
    "Fibonacci = [0] * 91\n",
    "Fibonacci[1] = 1\n",
    "Fibonacci[2] = 1\n",
    "\n",
    "for i in range(3, 91):\n",
    "    Fibonacci[i] = Fibonacci[i-1] + Fibonacci[i-2]\n",
    "\n",
    "N = int(input())\n",
    "print(Fibonacci[N])"
   ]
  },
  {
   "cell_type": "markdown",
   "metadata": {},
   "source": [
    "## 1003번: 피보나치 함수 "
   ]
  },
  {
   "cell_type": "code",
   "execution_count": 19,
   "metadata": {
    "scrolled": true
   },
   "outputs": [
    {
     "name": "stdout",
     "output_type": "stream",
     "text": [
      "3\n",
      "0\n",
      "1 0\n",
      "1\n",
      "0 1\n",
      "3\n",
      "1 2\n"
     ]
    }
   ],
   "source": [
    "fibonacci_0 = [0] * 41\n",
    "fibonacci_1 = [0] * 41\n",
    "\n",
    "#0일때\n",
    "fibonacci_0[0] = 1\n",
    "fibonacci_1[0] = 0\n",
    "\n",
    "#1일때\n",
    "fibonacci_0[1] = 0\n",
    "fibonacci_1[1] = 1\n",
    "\n",
    "for i in range(2, 41):\n",
    "    fibonacci_0[i] = fibonacci_0[i-1] + fibonacci_0[i-2]\n",
    "    fibonacci_1[i] = fibonacci_1[i-1] + fibonacci_1[i-2]\n",
    "\n",
    "T = int(input())\n",
    "\n",
    "for i in range(T):\n",
    "    N = int(input())\n",
    "    print(fibonacci_0[N], fibonacci_1[N])"
   ]
  },
  {
   "cell_type": "markdown",
   "metadata": {},
   "source": [
    "## 1904번: 01타일"
   ]
  },
  {
   "cell_type": "code",
   "execution_count": 18,
   "metadata": {},
   "outputs": [
    {
     "name": "stdout",
     "output_type": "stream",
     "text": [
      "4\n",
      "5\n"
     ]
    }
   ],
   "source": [
    "tail = [0]\n",
    "\n",
    "N = int(input()) \n",
    "\n",
    "tail_odd = 1\n",
    "tail_even = 2 \n",
    "\n",
    "if(N == 0): pass\n",
    "elif(N == 1): pass\n",
    "elif(N == 2): pass\n",
    "else: \n",
    "    for i in range(3,N+1):\n",
    "        if i%2 == 1:\n",
    "            tail_odd = (tail_odd + tail_even) % 15746\n",
    "        else :\n",
    "            tail_even = (tail_odd + tail_even) % 15746\n",
    "\n",
    "if(N == 0): print(0)\n",
    "elif(N%2 == 1): print(tail_odd)\n",
    "else: print(tail_even)"
   ]
  },
  {
   "cell_type": "markdown",
   "metadata": {},
   "source": [
    "## 9461번: 파도반 수열"
   ]
  },
  {
   "cell_type": "code",
   "execution_count": 4,
   "metadata": {},
   "outputs": [
    {
     "name": "stdout",
     "output_type": "stream",
     "text": [
      "2\n",
      "6\n",
      "3\n",
      "12\n",
      "16\n"
     ]
    }
   ],
   "source": [
    "arr = [1] * 101\n",
    "arr[4] = 2\n",
    "arr[5] = 2\n",
    "\n",
    "for i in range(6, 101):\n",
    "    arr[i] = arr[i-5] + arr[i-1]\n",
    "\n",
    "T = int(input())\n",
    "for i in range(T):\n",
    "    N = int(input())\n",
    "    print(arr[N])"
   ]
  },
  {
   "cell_type": "markdown",
   "metadata": {},
   "source": [
    "## 1149번: RGB거리"
   ]
  },
  {
   "cell_type": "code",
   "execution_count": 17,
   "metadata": {},
   "outputs": [
    {
     "name": "stdout",
     "output_type": "stream",
     "text": [
      "3\n",
      "26 40 83\n",
      "49 60 57\n",
      "13 89 99\n",
      "96\n"
     ]
    }
   ],
   "source": [
    "N = int(input())\n",
    "R_sum = G_sum = B_sum = 0\n",
    "\n",
    "for i in range(N):\n",
    "    R, G, B = map(int, input().split())\n",
    "    R_temp = R_sum\n",
    "    G_temp = G_sum\n",
    "    B_temp = B_sum\n",
    "    \n",
    "    if(G_temp>B_temp):\n",
    "        R_sum = B_temp + R\n",
    "    else:\n",
    "        R_sum = G_temp + R\n",
    "        \n",
    "    if(R_temp>B_temp):\n",
    "        G_sum = B_temp + G\n",
    "    else:\n",
    "        G_sum = R_temp + G\n",
    "        \n",
    "    if(R_temp>G_temp):\n",
    "        B_sum = G_temp + B\n",
    "    else:\n",
    "        B_sum = R_temp + B\n",
    "        \n",
    "if R_sum <= G_sum and R_sum <= B_sum:\n",
    "    print(R_sum)\n",
    "elif G_sum <= R_sum and G_sum <= B_sum:\n",
    "    print(G_sum)\n",
    "else:\n",
    "    print(B_sum)"
   ]
  }
 ],
 "metadata": {
  "kernelspec": {
   "display_name": "Python 3",
   "language": "python",
   "name": "python3"
  },
  "language_info": {
   "codemirror_mode": {
    "name": "ipython",
    "version": 3
   },
   "file_extension": ".py",
   "mimetype": "text/x-python",
   "name": "python",
   "nbconvert_exporter": "python",
   "pygments_lexer": "ipython3",
   "version": "3.8.3"
  },
  "toc": {
   "base_numbering": 1,
   "nav_menu": {},
   "number_sections": true,
   "sideBar": true,
   "skip_h1_title": false,
   "title_cell": "Table of Contents",
   "title_sidebar": "Contents",
   "toc_cell": false,
   "toc_position": {},
   "toc_section_display": true,
   "toc_window_display": false
  },
  "varInspector": {
   "cols": {
    "lenName": 16,
    "lenType": 16,
    "lenVar": 40
   },
   "kernels_config": {
    "python": {
     "delete_cmd_postfix": "",
     "delete_cmd_prefix": "del ",
     "library": "var_list.py",
     "varRefreshCmd": "print(var_dic_list())"
    },
    "r": {
     "delete_cmd_postfix": ") ",
     "delete_cmd_prefix": "rm(",
     "library": "var_list.r",
     "varRefreshCmd": "cat(var_dic_list()) "
    }
   },
   "types_to_exclude": [
    "module",
    "function",
    "builtin_function_or_method",
    "instance",
    "_Feature"
   ],
   "window_display": false
  }
 },
 "nbformat": 4,
 "nbformat_minor": 4
}
