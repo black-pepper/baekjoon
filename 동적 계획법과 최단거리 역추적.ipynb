{
 "cells": [
  {
   "cell_type": "markdown",
   "metadata": {},
   "source": [
    "## 12852번: 1로 만들기 2"
   ]
  },
  {
   "cell_type": "code",
   "execution_count": 1,
   "metadata": {},
   "outputs": [
    {
     "name": "stdout",
     "output_type": "stream",
     "text": [
      "10\n",
      "3\n",
      "10 9 3 1 "
     ]
    }
   ],
   "source": [
    "import sys\n",
    "import copy\n",
    "#input = sys.stdin.readline\n",
    "\n",
    "dp = [0] * 1000001\n",
    "dp[2] = 1\n",
    "dp[3] = 1\n",
    "process = [[] for i in range(1000001)]\n",
    "process[1] = [1]\n",
    "process[2] = [1, 2]\n",
    "process[3] = [1, 3]\n",
    "\n",
    "def make_one (num):\n",
    "    if num%6 == 0 :\n",
    "        if dp[num//3] <= dp[num//2] and dp[num//3] <= dp[num-1]:\n",
    "            dp[num] = dp[num//3] + 1\n",
    "            process[num] = copy.deepcopy(process[num//3])\n",
    "        elif dp[num//2] <= dp[num//3] and dp[num//2] <= dp[num-1]:\n",
    "            dp[num] = dp[num//2] + 1\n",
    "            process[num] = copy.deepcopy(process[num//2])\n",
    "        else:\n",
    "            dp[num] = dp[num-1] + 1\n",
    "            process[num] = copy.deepcopy(process[num-1])\n",
    "    elif num%3 == 0 :\n",
    "        if dp[num//3] <= dp[num-1]:\n",
    "            dp[num] = dp[num//3] + 1\n",
    "            process[num] = copy.deepcopy(process[num//3])\n",
    "        else:\n",
    "            dp[num] = dp[num-1] + 1\n",
    "            process[num] = copy.deepcopy(process[num-1])\n",
    "    elif num%2 == 0 :\n",
    "        if dp[num//2] <= dp[num-1]:\n",
    "            dp[num] = dp[num//2] + 1\n",
    "            process[num] = copy.deepcopy(process[num//2])\n",
    "        else:\n",
    "            dp[num] = dp[num-1] + 1\n",
    "            process[num] = copy.deepcopy(process[num-1])\n",
    "    else:\n",
    "        dp[num] = dp[num-1] + 1\n",
    "        process[num] = copy.deepcopy(process[num-1])\n",
    "    process[num].append(num)\n",
    "\n",
    "N = int(input())\n",
    "for i in range(4, N+1):\n",
    "    make_one(i)\n",
    "    \n",
    "print(dp[N])\n",
    "for i in range(len(process[N])-1, -1, -1):\n",
    "    print(process[N][i], end=' ')"
   ]
  }
 ],
 "metadata": {
  "kernelspec": {
   "display_name": "Python 3",
   "language": "python",
   "name": "python3"
  },
  "language_info": {
   "codemirror_mode": {
    "name": "ipython",
    "version": 3
   },
   "file_extension": ".py",
   "mimetype": "text/x-python",
   "name": "python",
   "nbconvert_exporter": "python",
   "pygments_lexer": "ipython3",
   "version": "3.8.3"
  }
 },
 "nbformat": 4,
 "nbformat_minor": 4
}
